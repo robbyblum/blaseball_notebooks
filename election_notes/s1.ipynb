{
 "cells": [
  {
   "cell_type": "markdown",
   "source": [
    "# Season 1 Election Notes\n",
    ">**FORBIDDEN KNOWLEDGE WARNING**\n",
    ">\n",
    ">This document contains some information that is not currently present on the main site and may be considered spoilers.\n",
    ">Continue at your own discretion. Some information in this document cannot be shared on the Discord without spoiler tags.\n",
    "\n",
    "A new Era has begun. This document makes some wild assumptions about things based on how things were. It could all be wrong. Godspeed everyone.\n",
    "\n",
    "New ballot items are being added regularly! This may not be comprehensive"
   ],
   "metadata": {
    "collapsed": false
   }
  },
  {
   "cell_type": "code",
   "execution_count": 14,
   "outputs": [],
   "source": [
    "%matplotlib inline\n",
    "import plotly.express as plot\n",
    "import plotly.io as _pio\n",
    "import plotly.subplots as subplot\n",
    "from IPython.display import display, Markdown\n",
    "\n",
    "import os\n",
    "import sys\n",
    "pdir = os.path.abspath(os.path.join(os.path.dirname(''), os.path.pardir))\n",
    "sys.path.append(pdir)\n",
    "from nlumpy import *\n",
    "from display import *\n",
    "sys.path.remove(pdir)\n",
    "\n",
    "_pio.renderers.default = \"notebook_connected\""
   ],
   "metadata": {
    "collapsed": false
   }
  },
  {
   "cell_type": "code",
   "execution_count": 15,
   "outputs": [],
   "source": [
    "pies = nlumpy_get_team_players('23e4cbc1-e9cd-47fa-a35b-bfa06f726cb7')"
   ],
   "metadata": {
    "collapsed": false
   }
  },
  {
   "cell_type": "code",
   "execution_count": 16,
   "outputs": [
    {
     "data": {
      "text/plain": "<IPython.core.display.Markdown object>",
      "text/markdown": "**Last Updated Season 1, Day 50**"
     },
     "metadata": {},
     "output_type": "display_data"
    }
   ],
   "source": [
    "sim = api2.get_sim()\n",
    "display(Markdown(f\"**Last Updated Season {int(sim['simData']['currentSeasonNumber'] + 1)}, Day {int(sim['simData']['currentDay'] + 1)}**\"))"
   ],
   "metadata": {
    "collapsed": false
   }
  },
  {
   "cell_type": "markdown",
   "source": [
    "## Blessings\n",
    "\n",
    "Blessings are selected by raffle across all teams. Each blessing will be awarded to one random team, where teams with\n",
    "more votes are more likely to be selected."
   ],
   "metadata": {
    "collapsed": false
   }
  },
  {
   "cell_type": "markdown",
   "source": [
    "### Strong Start\n",
    "\n",
    "**Sort your Lineup by Batting Rating.**\n",
    "\n",
    "See below for new batter order."
   ],
   "metadata": {
    "collapsed": false
   }
  },
  {
   "cell_type": "code",
   "execution_count": 17,
   "outputs": [
    {
     "data": {
      "text/plain": "<pandas.io.formats.style.Styler at 0x19fd709aa90>",
      "text/html": "<style type=\"text/css\">\n#T_cb259_row0_col0 {\n  background-color: #57b65f;\n  color: #f1f1f1;\n}\n#T_cb259_row0_col1 {\n  background-color: #05713c;\n  color: #f1f1f1;\n}\n#T_cb259_row0_col2 {\n  background-color: #4eb15d;\n  color: #f1f1f1;\n}\n#T_cb259_row0_col3 {\n  background-color: #c1e57b;\n  color: #000000;\n}\n#T_cb259_row1_col0 {\n  background-color: #5ab760;\n  color: #f1f1f1;\n}\n#T_cb259_row1_col1 {\n  background-color: #51b35e;\n  color: #f1f1f1;\n}\n#T_cb259_row1_col2 {\n  background-color: #7fc866;\n  color: #000000;\n}\n#T_cb259_row1_col3, #T_cb259_row2_col1 {\n  background-color: #3faa59;\n  color: #f1f1f1;\n}\n#T_cb259_row2_col0, #T_cb259_row3_col2 {\n  background-color: #63bc62;\n  color: #f1f1f1;\n}\n#T_cb259_row2_col2 {\n  background-color: #0b7d42;\n  color: #f1f1f1;\n}\n#T_cb259_row2_col3 {\n  background-color: #d9ef8b;\n  color: #000000;\n}\n#T_cb259_row3_col0 {\n  background-color: #b3df72;\n  color: #000000;\n}\n#T_cb259_row3_col1 {\n  background-color: #a2d76a;\n  color: #000000;\n}\n#T_cb259_row3_col3 {\n  background-color: #f8fcb6;\n  color: #000000;\n}\n#T_cb259_row4_col0 {\n  background-color: #e0f295;\n  color: #000000;\n}\n#T_cb259_row4_col1 {\n  background-color: #fdb163;\n  color: #000000;\n}\n#T_cb259_row4_col2 {\n  background-color: #e5f49b;\n  color: #000000;\n}\n#T_cb259_row4_col3 {\n  background-color: #36a657;\n  color: #f1f1f1;\n}\n#T_cb259_row5_col0 {\n  background-color: #fff6b0;\n  color: #000000;\n}\n#T_cb259_row5_col1 {\n  background-color: #82c966;\n  color: #000000;\n}\n#T_cb259_row5_col2 {\n  background-color: #bb1526;\n  color: #f1f1f1;\n}\n#T_cb259_row5_col3 {\n  background-color: #d1ec86;\n  color: #000000;\n}\n#T_cb259_row6_col0 {\n  background-color: #fedc88;\n  color: #000000;\n}\n#T_cb259_row6_col1 {\n  background-color: #c01a27;\n  color: #f1f1f1;\n}\n#T_cb259_row6_col2 {\n  background-color: #7dc765;\n  color: #000000;\n}\n#T_cb259_row6_col3 {\n  background-color: #feca79;\n  color: #000000;\n}\n#T_cb259_row7_col0 {\n  background-color: #fecc7b;\n  color: #000000;\n}\n#T_cb259_row7_col1 {\n  background-color: #fdbd6d;\n  color: #000000;\n}\n#T_cb259_row7_col2 {\n  background-color: #ecf7a6;\n  color: #000000;\n}\n#T_cb259_row7_col3 {\n  background-color: #f47044;\n  color: #f1f1f1;\n}\n#T_cb259_row8_col0 {\n  background-color: #f99153;\n  color: #000000;\n}\n#T_cb259_row8_col1 {\n  background-color: #f88950;\n  color: #f1f1f1;\n}\n#T_cb259_row8_col2 {\n  background-color: #ea5739;\n  color: #f1f1f1;\n}\n#T_cb259_row8_col3 {\n  background-color: #fec877;\n  color: #000000;\n}\n</style>\n<table id=\"T_cb259\">\n  <thead>\n    <tr>\n      <th class=\"blank level0\" >&nbsp;</th>\n      <th id=\"T_cb259_level0_col0\" class=\"col_heading level0 col0\" >batting_rating</th>\n      <th id=\"T_cb259_level0_col1\" class=\"col_heading level0 col1\" >sight</th>\n      <th id=\"T_cb259_level0_col2\" class=\"col_heading level0 col2\" >thwack</th>\n      <th id=\"T_cb259_level0_col3\" class=\"col_heading level0 col3\" >ferocity</th>\n    </tr>\n    <tr>\n      <th class=\"index_name level0\" >player_name</th>\n      <th class=\"blank col0\" >&nbsp;</th>\n      <th class=\"blank col1\" >&nbsp;</th>\n      <th class=\"blank col2\" >&nbsp;</th>\n      <th class=\"blank col3\" >&nbsp;</th>\n    </tr>\n  </thead>\n  <tbody>\n    <tr>\n      <th id=\"T_cb259_level0_row0\" class=\"row_heading level0 row0\" >Tucker Thane</th>\n      <td id=\"T_cb259_row0_col0\" class=\"data row0 col0\" >0.818528</td>\n      <td id=\"T_cb259_row0_col1\" class=\"data row0 col1\" >0.976919</td>\n      <td id=\"T_cb259_row0_col2\" class=\"data row0 col2\" >0.830288</td>\n      <td id=\"T_cb259_row0_col3\" class=\"data row0 col3\" >0.648379</td>\n    </tr>\n    <tr>\n      <th id=\"T_cb259_level0_row1\" class=\"row_heading level0 row1\" >Amos Parveen</th>\n      <td id=\"T_cb259_row1_col0\" class=\"data row1 col0\" >0.812560</td>\n      <td id=\"T_cb259_row1_col1\" class=\"data row1 col1\" >0.826331</td>\n      <td id=\"T_cb259_row1_col2\" class=\"data row1 col2\" >0.760910</td>\n      <td id=\"T_cb259_row1_col3\" class=\"data row1 col3\" >0.850437</td>\n    </tr>\n    <tr>\n      <th id=\"T_cb259_level0_row2\" class=\"row_heading level0 row2\" >Jira Sealegs</th>\n      <td id=\"T_cb259_row2_col0\" class=\"data row2 col0\" >0.801296</td>\n      <td id=\"T_cb259_row2_col1\" class=\"data row2 col1\" >0.848431</td>\n      <td id=\"T_cb259_row2_col2\" class=\"data row2 col2\" >0.955203</td>\n      <td id=\"T_cb259_row2_col3\" class=\"data row2 col3\" >0.600255</td>\n    </tr>\n    <tr>\n      <th id=\"T_cb259_level0_row3\" class=\"row_heading level0 row3\" >Bevan Wise</th>\n      <td id=\"T_cb259_row3_col0\" class=\"data row3 col0\" >0.674798</td>\n      <td id=\"T_cb259_row3_col1\" class=\"data row3 col1\" >0.703233</td>\n      <td id=\"T_cb259_row3_col2\" class=\"data row3 col2\" >0.804662</td>\n      <td id=\"T_cb259_row3_col3\" class=\"data row3 col3\" >0.516498</td>\n    </tr>\n    <tr>\n      <th id=\"T_cb259_level0_row4\" class=\"row_heading level0 row4\" >Siobhan Chark</th>\n      <td id=\"T_cb259_row4_col0\" class=\"data row4 col0\" >0.579901</td>\n      <td id=\"T_cb259_row4_col1\" class=\"data row4 col1\" >0.306972</td>\n      <td id=\"T_cb259_row4_col2\" class=\"data row4 col2\" >0.570024</td>\n      <td id=\"T_cb259_row4_col3\" class=\"data row4 col3\" >0.862707</td>\n    </tr>\n    <tr>\n      <th id=\"T_cb259_level0_row5\" class=\"row_heading level0 row5\" >Ariadne Amaat</th>\n      <td id=\"T_cb259_row5_col0\" class=\"data row5 col0\" >0.471733</td>\n      <td id=\"T_cb259_row5_col1\" class=\"data row5 col1\" >0.754392</td>\n      <td id=\"T_cb259_row5_col2\" class=\"data row5 col2\" >0.045351</td>\n      <td id=\"T_cb259_row5_col3\" class=\"data row5 col3\" >0.615456</td>\n    </tr>\n    <tr>\n      <th id=\"T_cb259_level0_row6\" class=\"row_heading level0 row6\" >Dimi Wobbler</th>\n      <td id=\"T_cb259_row6_col0\" class=\"data row6 col0\" >0.392369</td>\n      <td id=\"T_cb259_row6_col1\" class=\"data row6 col1\" >0.057246</td>\n      <td id=\"T_cb259_row6_col2\" class=\"data row6 col2\" >0.761752</td>\n      <td id=\"T_cb259_row6_col3\" class=\"data row6 col3\" >0.358111</td>\n    </tr>\n    <tr>\n      <th id=\"T_cb259_level0_row7\" class=\"row_heading level0 row7\" >Mars Anchor</th>\n      <td id=\"T_cb259_row7_col0\" class=\"data row7 col0\" >0.362238</td>\n      <td id=\"T_cb259_row7_col1\" class=\"data row7 col1\" >0.330136</td>\n      <td id=\"T_cb259_row7_col2\" class=\"data row7 col2\" >0.550708</td>\n      <td id=\"T_cb259_row7_col3\" class=\"data row7 col3\" >0.205871</td>\n    </tr>\n    <tr>\n      <th id=\"T_cb259_level0_row8\" class=\"row_heading level0 row8\" >Lucas Petty</th>\n      <td id=\"T_cb259_row8_col0\" class=\"data row8 col0\" >0.254947</td>\n      <td id=\"T_cb259_row8_col1\" class=\"data row8 col1\" >0.243809</td>\n      <td id=\"T_cb259_row8_col2\" class=\"data row8 col2\" >0.166961</td>\n      <td id=\"T_cb259_row8_col3\" class=\"data row8 col3\" >0.354070</td>\n    </tr>\n  </tbody>\n</table>\n"
     },
     "execution_count": 17,
     "metadata": {},
     "output_type": "execute_result"
    }
   ],
   "source": [
    "set_heatmap(get_batting_stlats(pies).sort_values(by=['batting_rating'], ascending=False), maxVal=1)"
   ],
   "metadata": {
    "collapsed": false
   }
  },
  {
   "cell_type": "markdown",
   "source": [
    "### NEW Max Out Pitcher\n",
    "\n",
    "**Max out a random Pitcher on your Team's Zone.**\n",
    "\n",
    "Results are random. A maximized player should be 5 stars in the applicable rating."
   ],
   "metadata": {
    "collapsed": false
   }
  },
  {
   "cell_type": "markdown",
   "source": [
    "### NEW Max Out Batter\n",
    "\n",
    "**Max out a random Batter on your Team's Zone.**\n",
    "\n",
    "Results are random. A maximized player should be 5 stars in the applicable rating."
   ],
   "metadata": {
    "collapsed": false
   }
  },
  {
   "cell_type": "markdown",
   "source": [
    "### Shadow Play\n",
    "\n",
    "**Swap your worst Player out for someone in your Shadows.**\n",
    "\n",
    "It is unknown who is in our shadows."
   ],
   "metadata": {
    "collapsed": false
   }
  },
  {
   "cell_type": "code",
   "execution_count": 18,
   "outputs": [
    {
     "data": {
      "text/plain": "<IPython.core.display.Markdown object>",
      "text/markdown": "If the worst Player is based on Overall Rating then it is `Ariadne Amaat`. If it is based on the worst rating in their relative position then it is `Augusto Reddick`."
     },
     "metadata": {},
     "output_type": "display_data"
    }
   ],
   "source": [
    "worst_overall = pies.sort_values(by=['overall_rating']).iloc[0][\"player_name\"]\n",
    "worst_batter_batting = pies[pies[\"position\"] == \"LINEUP\"].sort_values(by=['batting_rating']).iloc[0]\n",
    "worst_pitcher_pitching = pies[pies[\"position\"] == \"ROTATION\"].sort_values(by=['pitching_rating']).iloc[0]\n",
    "worst_batter_overall = pies[pies[\"position\"] == \"LINEUP\"].sort_values(by=['overall_rating']).iloc[0][\"player_name\"]\n",
    "worst_pitcher_overall = pies[pies[\"position\"] == \"ROTATION\"].sort_values(by=['overall_rating']).iloc[0][\"player_name\"]\n",
    "if worst_batter_batting.batting_rating < worst_pitcher_pitching.pitching_rating:\n",
    "    worst_position = worst_batter_batting[\"player_name\"]\n",
    "else:\n",
    "    worst_position = worst_pitcher_pitching[\"player_name\"]\n",
    "\n",
    "display(Markdown(f\"If the worst Player is based on Overall Rating then it is `{worst_overall}`. If it is based on the worst rating in their relative position then it is `{worst_position}`.\"))"
   ],
   "metadata": {
    "collapsed": false
   }
  },
  {
   "cell_type": "markdown",
   "source": [
    "### NEW Steal Best Pitcher\n",
    "\n",
    "**Steal the best Pitcher in the Black Hole for your Team.**\n",
    "\n",
    "It is unknown who the best Pitcher in the Black Hole is, but they're probably pretty good. It is possible, but likely, they will replace our worst pitcher."
   ],
   "metadata": {
    "collapsed": false
   }
  },
  {
   "cell_type": "code",
   "execution_count": 19,
   "outputs": [
    {
     "data": {
      "text/plain": "<IPython.core.display.Markdown object>",
      "text/markdown": "If the worst Pitcher is based on Overall Rating then it is `Augusto Reddick`. If it is based on the worst rating in their relative position then it is `Augusto Reddick`."
     },
     "metadata": {},
     "output_type": "display_data"
    }
   ],
   "source": [
    "display(Markdown(f\"If the worst Pitcher is based on Overall Rating then it is `{worst_pitcher_overall}`. If it is based on the worst rating in their relative position then it is `{worst_pitcher_pitching['player_name']}`.\"))"
   ],
   "metadata": {
    "collapsed": false
   }
  },
  {
   "cell_type": "markdown",
   "source": [
    "### NEW Steal Best Batter\n",
    "\n",
    "**Steal the best Batter from the Black Hole for your team.**\n",
    "\n",
    "It is unknown who the best Batter in the Black Hole is, but they're probably pretty good. It is possible, but likely, they will replace our worst batter."
   ],
   "metadata": {
    "collapsed": false
   }
  },
  {
   "cell_type": "code",
   "execution_count": 20,
   "outputs": [
    {
     "data": {
      "text/plain": "<IPython.core.display.Markdown object>",
      "text/markdown": "If the worst Batter is based on Overall Rating then it is `Ariadne Amaat`. If it is based on the worst rating in their relative position then it is `Lucas Petty`."
     },
     "metadata": {},
     "output_type": "display_data"
    }
   ],
   "source": [
    "display(Markdown(f\"If the worst Batter is based on Overall Rating then it is `{worst_batter_overall}`. If it is based on the worst rating in their relative position then it is `{worst_batter_batting['player_name']}`.\"))"
   ],
   "metadata": {
    "collapsed": false
   }
  },
  {
   "cell_type": "markdown",
   "source": [
    "### NEW Randomize Players\n",
    "\n",
    "**Call the Alternates for your Team's 5 worst Players.**\n",
    "\n",
    "An Alternate is a fresh player re-roll. Statistically speaking this player will likely be around 2.5 Overall stars, so we would want to reroll players that are below that. Previous seasons have rerolled players in order, such that if it rolls a player worse than they were it will reroll them again as the next player since they are still the \"worst\" on the team.\n",
    "\n",
    "See below for the 5 worst players by Overall stars."
   ],
   "metadata": {
    "collapsed": false
   }
  },
  {
   "cell_type": "code",
   "execution_count": 21,
   "outputs": [
    {
     "data": {
      "text/plain": "<pandas.io.formats.style.Styler at 0x19fbbbeaaf0>",
      "text/html": "<style type=\"text/css\">\n#T_70387_row0_col0 {\n  background-color: #fdad60;\n  color: #000000;\n}\n#T_70387_row0_col1 {\n  background-color: #fff6b0;\n  color: #000000;\n}\n#T_70387_row0_col2 {\n  background-color: #fff2aa;\n  color: #000000;\n}\n#T_70387_row0_col3 {\n  background-color: #dd3d2d;\n  color: #f1f1f1;\n}\n#T_70387_row0_col4 {\n  background-color: #ed5f3c;\n  color: #f1f1f1;\n}\n#T_70387_row0_col5, #T_70387_row4_col1 {\n  background-color: #f99153;\n  color: #000000;\n}\n#T_70387_row1_col0 {\n  background-color: #fdbf6f;\n  color: #000000;\n}\n#T_70387_row1_col1 {\n  background-color: #fedc88;\n  color: #000000;\n}\n#T_70387_row1_col2 {\n  background-color: #e0f295;\n  color: #000000;\n}\n#T_70387_row1_col3, #T_70387_row2_col2 {\n  background-color: #f47044;\n  color: #f1f1f1;\n}\n#T_70387_row1_col4 {\n  background-color: #e65036;\n  color: #f1f1f1;\n}\n#T_70387_row1_col5 {\n  background-color: #fdbd6d;\n  color: #000000;\n}\n#T_70387_row2_col0 {\n  background-color: #fed27f;\n  color: #000000;\n}\n#T_70387_row2_col1 {\n  background-color: #fdc372;\n  color: #000000;\n}\n#T_70387_row2_col3 {\n  background-color: #c01a27;\n  color: #f1f1f1;\n}\n#T_70387_row2_col4 {\n  background-color: #f7fcb4;\n  color: #000000;\n}\n#T_70387_row2_col5 {\n  background-color: #87cb67;\n  color: #000000;\n}\n#T_70387_row3_col0 {\n  background-color: #fee08b;\n  color: #000000;\n}\n#T_70387_row3_col1, #T_70387_row3_col5, #T_70387_row4_col3 {\n  background-color: #fee28f;\n  color: #000000;\n}\n#T_70387_row3_col2 {\n  background-color: #9bd469;\n  color: #000000;\n}\n#T_70387_row3_col3 {\n  background-color: #fa9656;\n  color: #000000;\n}\n#T_70387_row3_col4 {\n  background-color: #f57245;\n  color: #f1f1f1;\n}\n#T_70387_row4_col0 {\n  background-color: #fee18d;\n  color: #000000;\n}\n#T_70387_row4_col2 {\n  background-color: #f88c51;\n  color: #f1f1f1;\n}\n#T_70387_row4_col4 {\n  background-color: #dcf08f;\n  color: #000000;\n}\n#T_70387_row4_col5 {\n  background-color: #f8fcb6;\n  color: #000000;\n}\n</style>\n<table id=\"T_70387\">\n  <thead>\n    <tr>\n      <th class=\"blank level0\" >&nbsp;</th>\n      <th id=\"T_70387_level0_col0\" class=\"col_heading level0 col0\" >overall_rating</th>\n      <th id=\"T_70387_level0_col1\" class=\"col_heading level0 col1\" >batting_rating</th>\n      <th id=\"T_70387_level0_col2\" class=\"col_heading level0 col2\" >pitching_rating</th>\n      <th id=\"T_70387_level0_col3\" class=\"col_heading level0 col3\" >running_rating</th>\n      <th id=\"T_70387_level0_col4\" class=\"col_heading level0 col4\" >defense_rating</th>\n      <th id=\"T_70387_level0_col5\" class=\"col_heading level0 col5\" >vibes_rating</th>\n    </tr>\n    <tr>\n      <th class=\"index_name level0\" >player_name</th>\n      <th class=\"blank col0\" >&nbsp;</th>\n      <th class=\"blank col1\" >&nbsp;</th>\n      <th class=\"blank col2\" >&nbsp;</th>\n      <th class=\"blank col3\" >&nbsp;</th>\n      <th class=\"blank col4\" >&nbsp;</th>\n      <th class=\"blank col5\" >&nbsp;</th>\n    </tr>\n  </thead>\n  <tbody>\n    <tr>\n      <th id=\"T_70387_level0_row0\" class=\"row_heading level0 row0\" >Ariadne Amaat</th>\n      <td id=\"T_70387_row0_col0\" class=\"data row0 col0\" >1.487631</td>\n      <td id=\"T_70387_row0_col1\" class=\"data row0 col1\" >2.358664</td>\n      <td id=\"T_70387_row0_col2\" class=\"data row0 col2\" >2.288500</td>\n      <td id=\"T_70387_row0_col3\" class=\"data row0 col3\" >0.622079</td>\n      <td id=\"T_70387_row0_col4\" class=\"data row0 col4\" >0.886125</td>\n      <td id=\"T_70387_row0_col5\" class=\"data row0 col5\" >1.282787</td>\n    </tr>\n    <tr>\n      <th id=\"T_70387_level0_row1\" class=\"row_heading level0 row1\" >Dimi Wobbler</th>\n      <td id=\"T_70387_row1_col0\" class=\"data row1 col0\" >1.661253</td>\n      <td id=\"T_70387_row1_col1\" class=\"data row1 col1\" >1.961847</td>\n      <td id=\"T_70387_row1_col2\" class=\"data row1 col2\" >2.899054</td>\n      <td id=\"T_70387_row1_col3\" class=\"data row1 col3\" >1.023620</td>\n      <td id=\"T_70387_row1_col4\" class=\"data row1 col4\" >0.779685</td>\n      <td id=\"T_70387_row1_col5\" class=\"data row1 col5\" >1.642059</td>\n    </tr>\n    <tr>\n      <th id=\"T_70387_level0_row2\" class=\"row_heading level0 row2\" >Augusto Reddick</th>\n      <td id=\"T_70387_row2_col0\" class=\"data row2 col0\" >1.872746</td>\n      <td id=\"T_70387_row2_col1\" class=\"data row2 col1\" >1.709232</td>\n      <td id=\"T_70387_row2_col2\" class=\"data row2 col2\" >1.016398</td>\n      <td id=\"T_70387_row2_col3\" class=\"data row2 col3\" >0.284161</td>\n      <td id=\"T_70387_row2_col4\" class=\"data row2 col4\" >2.616510</td>\n      <td id=\"T_70387_row2_col5\" class=\"data row2 col5\" >3.737429</td>\n    </tr>\n    <tr>\n      <th id=\"T_70387_level0_row3\" class=\"row_heading level0 row3\" >Steals Chark</th>\n      <td id=\"T_70387_row3_col0\" class=\"data row3 col0\" >2.004328</td>\n      <td id=\"T_70387_row3_col1\" class=\"data row3 col1\" >2.032239</td>\n      <td id=\"T_70387_row3_col2\" class=\"data row3 col2\" >3.583006</td>\n      <td id=\"T_70387_row3_col3\" class=\"data row3 col3\" >1.323131</td>\n      <td id=\"T_70387_row3_col4\" class=\"data row3 col4\" >1.042740</td>\n      <td id=\"T_70387_row3_col5\" class=\"data row3 col5\" >2.040524</td>\n    </tr>\n    <tr>\n      <th id=\"T_70387_level0_row4\" class=\"row_heading level0 row4\" >Lucas Petty</th>\n      <td id=\"T_70387_row4_col0\" class=\"data row4 col0\" >2.017744</td>\n      <td id=\"T_70387_row4_col1\" class=\"data row4 col1\" >1.274734</td>\n      <td id=\"T_70387_row4_col2\" class=\"data row4 col2\" >1.230637</td>\n      <td id=\"T_70387_row4_col3\" class=\"data row4 col3\" >2.045954</td>\n      <td id=\"T_70387_row4_col4\" class=\"data row4 col4\" >2.957547</td>\n      <td id=\"T_70387_row4_col5\" class=\"data row4 col5\" >2.579849</td>\n    </tr>\n  </tbody>\n</table>\n"
     },
     "execution_count": 21,
     "metadata": {},
     "output_type": "execute_result"
    }
   ],
   "source": [
    "set_heatmap(get_stars(pies).sort_values(by=\"overall_rating\").head(5), maxVal=5)"
   ],
   "metadata": {
    "collapsed": false
   }
  },
  {
   "cell_type": "markdown",
   "source": [
    "### NEW Team Boost\n",
    "\n",
    "**Your Team is boosted Overall by 1/2 a Star.**\n",
    "\n",
    "See below for an estimate of new attributes."
   ],
   "metadata": {
    "collapsed": false
   }
  },
  {
   "cell_type": "code",
   "execution_count": 22,
   "outputs": [
    {
     "data": {
      "text/plain": "<IPython.core.display.Markdown object>",
      "text/markdown": "#### Batting"
     },
     "metadata": {},
     "output_type": "display_data"
    },
    {
     "data": {
      "text/plain": "<pandas.io.formats.style.Styler at 0x19fd73ea1c0>",
      "text/html": "<style type=\"text/css\">\n#T_6a339_row0_col0 {\n  background-color: #16914d;\n  color: #f1f1f1;\n}\n#T_6a339_row0_col1 {\n  background-color: #128a49;\n  color: #f1f1f1;\n}\n#T_6a339_row0_col2, #T_6a339_row8_col2 {\n  background-color: #36a657;\n  color: #f1f1f1;\n}\n#T_6a339_row0_col3 {\n  background-color: #0c7f43;\n  color: #f1f1f1;\n}\n#T_6a339_row1_col0 {\n  background-color: #fec877;\n  color: #000000;\n}\n#T_6a339_row1_col1 {\n  background-color: #fdc574;\n  color: #000000;\n}\n#T_6a339_row1_col2 {\n  background-color: #fa9857;\n  color: #000000;\n}\n#T_6a339_row1_col3 {\n  background-color: #fff1a8;\n  color: #000000;\n}\n#T_6a339_row2_col0 {\n  background-color: #e3f399;\n  color: #000000;\n}\n#T_6a339_row2_col1 {\n  background-color: #3ca959;\n  color: #f1f1f1;\n}\n#T_6a339_row2_col2 {\n  background-color: #e44c34;\n  color: #f1f1f1;\n}\n#T_6a339_row2_col3 {\n  background-color: #9bd469;\n  color: #000000;\n}\n#T_6a339_row3_col0 {\n  background-color: #afdd70;\n  color: #000000;\n}\n#T_6a339_row3_col1 {\n  background-color: #fee28f;\n  color: #000000;\n}\n#T_6a339_row3_col2 {\n  background-color: #b5df74;\n  color: #000000;\n}\n#T_6a339_row3_col3 {\n  background-color: #097940;\n  color: #f1f1f1;\n}\n#T_6a339_row4_col0 {\n  background-color: #fff3ac;\n  color: #000000;\n}\n#T_6a339_row4_col1 {\n  background-color: #feea9b;\n  color: #000000;\n}\n#T_6a339_row4_col2 {\n  background-color: #bfe47a;\n  color: #000000;\n}\n#T_6a339_row4_col3 {\n  background-color: #fdb163;\n  color: #000000;\n}\n#T_6a339_row5_col0 {\n  background-color: #148e4b;\n  color: #f1f1f1;\n}\n#T_6a339_row5_col1, #T_6a339_row7_col2 {\n  background-color: #006837;\n  color: #f1f1f1;\n}\n#T_6a339_row5_col2 {\n  background-color: #118848;\n  color: #f1f1f1;\n}\n#T_6a339_row5_col3 {\n  background-color: #87cb67;\n  color: #000000;\n}\n#T_6a339_row6_col0 {\n  background-color: #75c465;\n  color: #000000;\n}\n#T_6a339_row6_col1 {\n  background-color: #63bc62;\n  color: #f1f1f1;\n}\n#T_6a339_row6_col2 {\n  background-color: #18954f;\n  color: #f1f1f1;\n}\n#T_6a339_row6_col3 {\n  background-color: #d1ec86;\n  color: #000000;\n}\n#T_6a339_row7_col0 {\n  background-color: #199750;\n  color: #f1f1f1;\n}\n#T_6a339_row7_col1 {\n  background-color: #0d8044;\n  color: #f1f1f1;\n}\n#T_6a339_row7_col3 {\n  background-color: #a5d86a;\n  color: #000000;\n}\n#T_6a339_row8_col0 {\n  background-color: #fffdbc;\n  color: #000000;\n}\n#T_6a339_row8_col1 {\n  background-color: #e75337;\n  color: #f1f1f1;\n}\n#T_6a339_row8_col3 {\n  background-color: #fff2aa;\n  color: #000000;\n}\n</style>\n<table id=\"T_6a339\">\n  <thead>\n    <tr>\n      <th class=\"blank level0\" >&nbsp;</th>\n      <th id=\"T_6a339_level0_col0\" class=\"col_heading level0 col0\" >batting_rating</th>\n      <th id=\"T_6a339_level0_col1\" class=\"col_heading level0 col1\" >sight</th>\n      <th id=\"T_6a339_level0_col2\" class=\"col_heading level0 col2\" >thwack</th>\n      <th id=\"T_6a339_level0_col3\" class=\"col_heading level0 col3\" >ferocity</th>\n    </tr>\n    <tr>\n      <th class=\"index_name level0\" >player_name</th>\n      <th class=\"blank col0\" >&nbsp;</th>\n      <th class=\"blank col1\" >&nbsp;</th>\n      <th class=\"blank col2\" >&nbsp;</th>\n      <th class=\"blank col3\" >&nbsp;</th>\n    </tr>\n  </thead>\n  <tbody>\n    <tr>\n      <th id=\"T_6a339_level0_row0\" class=\"row_heading level0 row0\" >Amos Parveen</th>\n      <td id=\"T_6a339_row0_col0\" class=\"data row0 col0\" >0.912560</td>\n      <td id=\"T_6a339_row0_col1\" class=\"data row0 col1\" >0.926331</td>\n      <td id=\"T_6a339_row0_col2\" class=\"data row0 col2\" >0.860910</td>\n      <td id=\"T_6a339_row0_col3\" class=\"data row0 col3\" >0.950437</td>\n    </tr>\n    <tr>\n      <th id=\"T_6a339_level0_row1\" class=\"row_heading level0 row1\" >Lucas Petty</th>\n      <td id=\"T_6a339_row1_col0\" class=\"data row1 col0\" >0.354947</td>\n      <td id=\"T_6a339_row1_col1\" class=\"data row1 col1\" >0.343809</td>\n      <td id=\"T_6a339_row1_col2\" class=\"data row1 col2\" >0.266961</td>\n      <td id=\"T_6a339_row1_col3\" class=\"data row1 col3\" >0.454070</td>\n    </tr>\n    <tr>\n      <th id=\"T_6a339_level0_row2\" class=\"row_heading level0 row2\" >Ariadne Amaat</th>\n      <td id=\"T_6a339_row2_col0\" class=\"data row2 col0\" >0.571733</td>\n      <td id=\"T_6a339_row2_col1\" class=\"data row2 col1\" >0.854392</td>\n      <td id=\"T_6a339_row2_col2\" class=\"data row2 col2\" >0.145351</td>\n      <td id=\"T_6a339_row2_col3\" class=\"data row2 col3\" >0.715456</td>\n    </tr>\n    <tr>\n      <th id=\"T_6a339_level0_row3\" class=\"row_heading level0 row3\" >Siobhan Chark</th>\n      <td id=\"T_6a339_row3_col0\" class=\"data row3 col0\" >0.679901</td>\n      <td id=\"T_6a339_row3_col1\" class=\"data row3 col1\" >0.406972</td>\n      <td id=\"T_6a339_row3_col2\" class=\"data row3 col2\" >0.670024</td>\n      <td id=\"T_6a339_row3_col3\" class=\"data row3 col3\" >0.962707</td>\n    </tr>\n    <tr>\n      <th id=\"T_6a339_level0_row4\" class=\"row_heading level0 row4\" >Mars Anchor</th>\n      <td id=\"T_6a339_row4_col0\" class=\"data row4 col0\" >0.462238</td>\n      <td id=\"T_6a339_row4_col1\" class=\"data row4 col1\" >0.430136</td>\n      <td id=\"T_6a339_row4_col2\" class=\"data row4 col2\" >0.650708</td>\n      <td id=\"T_6a339_row4_col3\" class=\"data row4 col3\" >0.305871</td>\n    </tr>\n    <tr>\n      <th id=\"T_6a339_level0_row5\" class=\"row_heading level0 row5\" >Tucker Thane</th>\n      <td id=\"T_6a339_row5_col0\" class=\"data row5 col0\" >0.918528</td>\n      <td id=\"T_6a339_row5_col1\" class=\"data row5 col1\" >1.076919</td>\n      <td id=\"T_6a339_row5_col2\" class=\"data row5 col2\" >0.930288</td>\n      <td id=\"T_6a339_row5_col3\" class=\"data row5 col3\" >0.748379</td>\n    </tr>\n    <tr>\n      <th id=\"T_6a339_level0_row6\" class=\"row_heading level0 row6\" >Bevan Wise</th>\n      <td id=\"T_6a339_row6_col0\" class=\"data row6 col0\" >0.774798</td>\n      <td id=\"T_6a339_row6_col1\" class=\"data row6 col1\" >0.803233</td>\n      <td id=\"T_6a339_row6_col2\" class=\"data row6 col2\" >0.904662</td>\n      <td id=\"T_6a339_row6_col3\" class=\"data row6 col3\" >0.616498</td>\n    </tr>\n    <tr>\n      <th id=\"T_6a339_level0_row7\" class=\"row_heading level0 row7\" >Jira Sealegs</th>\n      <td id=\"T_6a339_row7_col0\" class=\"data row7 col0\" >0.901296</td>\n      <td id=\"T_6a339_row7_col1\" class=\"data row7 col1\" >0.948431</td>\n      <td id=\"T_6a339_row7_col2\" class=\"data row7 col2\" >1.055203</td>\n      <td id=\"T_6a339_row7_col3\" class=\"data row7 col3\" >0.700255</td>\n    </tr>\n    <tr>\n      <th id=\"T_6a339_level0_row8\" class=\"row_heading level0 row8\" >Dimi Wobbler</th>\n      <td id=\"T_6a339_row8_col0\" class=\"data row8 col0\" >0.492369</td>\n      <td id=\"T_6a339_row8_col1\" class=\"data row8 col1\" >0.157246</td>\n      <td id=\"T_6a339_row8_col2\" class=\"data row8 col2\" >0.861752</td>\n      <td id=\"T_6a339_row8_col3\" class=\"data row8 col3\" >0.458111</td>\n    </tr>\n  </tbody>\n</table>\n"
     },
     "metadata": {},
     "output_type": "display_data"
    },
    {
     "data": {
      "text/plain": "<IPython.core.display.Markdown object>",
      "text/markdown": "#### Pitching"
     },
     "metadata": {},
     "output_type": "display_data"
    },
    {
     "data": {
      "text/plain": "<pandas.io.formats.style.Styler at 0x19fd702fdf0>",
      "text/html": "<style type=\"text/css\">\n#T_3eb6d_row0_col0 {\n  background-color: #fff2aa;\n  color: #000000;\n}\n#T_3eb6d_row0_col1 {\n  background-color: #fff6b0;\n  color: #000000;\n}\n#T_3eb6d_row0_col2 {\n  background-color: #fdc574;\n  color: #000000;\n}\n#T_3eb6d_row0_col3 {\n  background-color: #e6f59d;\n  color: #000000;\n}\n#T_3eb6d_row1_col0 {\n  background-color: #1b9950;\n  color: #f1f1f1;\n}\n#T_3eb6d_row1_col1 {\n  background-color: #82c966;\n  color: #000000;\n}\n#T_3eb6d_row1_col2, #T_3eb6d_row4_col2 {\n  background-color: #006837;\n  color: #f1f1f1;\n}\n#T_3eb6d_row1_col3 {\n  background-color: #18954f;\n  color: #f1f1f1;\n}\n#T_3eb6d_row2_col0 {\n  background-color: #fdaf62;\n  color: #000000;\n}\n#T_3eb6d_row2_col1 {\n  background-color: #fece7c;\n  color: #000000;\n}\n#T_3eb6d_row2_col2 {\n  background-color: #e24731;\n  color: #f1f1f1;\n}\n#T_3eb6d_row2_col3 {\n  background-color: #fee28f;\n  color: #000000;\n}\n#T_3eb6d_row3_col0 {\n  background-color: #249d53;\n  color: #f1f1f1;\n}\n#T_3eb6d_row3_col1 {\n  background-color: #08773f;\n  color: #f1f1f1;\n}\n#T_3eb6d_row3_col2, #T_3eb6d_row4_col1 {\n  background-color: #138c4a;\n  color: #f1f1f1;\n}\n#T_3eb6d_row3_col3 {\n  background-color: #7ac665;\n  color: #000000;\n}\n#T_3eb6d_row4_col0 {\n  background-color: #57b65f;\n  color: #f1f1f1;\n}\n#T_3eb6d_row4_col3 {\n  background-color: #fbfdba;\n  color: #000000;\n}\n</style>\n<table id=\"T_3eb6d\">\n  <thead>\n    <tr>\n      <th class=\"blank level0\" >&nbsp;</th>\n      <th id=\"T_3eb6d_level0_col0\" class=\"col_heading level0 col0\" >pitching_rating</th>\n      <th id=\"T_3eb6d_level0_col1\" class=\"col_heading level0 col1\" >control</th>\n      <th id=\"T_3eb6d_level0_col2\" class=\"col_heading level0 col2\" >stuff</th>\n      <th id=\"T_3eb6d_level0_col3\" class=\"col_heading level0 col3\" >guile</th>\n    </tr>\n    <tr>\n      <th class=\"index_name level0\" >player_name</th>\n      <th class=\"blank col0\" >&nbsp;</th>\n      <th class=\"blank col1\" >&nbsp;</th>\n      <th class=\"blank col2\" >&nbsp;</th>\n      <th class=\"blank col3\" >&nbsp;</th>\n    </tr>\n  </thead>\n  <tbody>\n    <tr>\n      <th id=\"T_3eb6d_level0_row0\" class=\"row_heading level0 row0\" >Thomas Marsh</th>\n      <td id=\"T_3eb6d_row0_col0\" class=\"data row0 col0\" >0.459500</td>\n      <td id=\"T_3eb6d_row0_col1\" class=\"data row0 col1\" >0.470549</td>\n      <td id=\"T_3eb6d_row0_col2\" class=\"data row0 col2\" >0.344044</td>\n      <td id=\"T_3eb6d_row0_col3\" class=\"data row0 col3\" >0.563906</td>\n    </tr>\n    <tr>\n      <th id=\"T_3eb6d_level0_row1\" class=\"row_heading level0 row1\" >Marco Escobar</th>\n      <td id=\"T_3eb6d_row1_col0\" class=\"data row1 col0\" >0.894724</td>\n      <td id=\"T_3eb6d_row1_col1\" class=\"data row1 col1\" >0.756456</td>\n      <td id=\"T_3eb6d_row1_col2\" class=\"data row1 col2\" >1.024772</td>\n      <td id=\"T_3eb6d_row1_col3\" class=\"data row1 col3\" >0.902942</td>\n    </tr>\n    <tr>\n      <th id=\"T_3eb6d_level0_row2\" class=\"row_heading level0 row2\" >Augusto Reddick</th>\n      <td id=\"T_3eb6d_row2_col0\" class=\"data row2 col0\" >0.303280</td>\n      <td id=\"T_3eb6d_row2_col1\" class=\"data row2 col1\" >0.364553</td>\n      <td id=\"T_3eb6d_row2_col2\" class=\"data row2 col2\" >0.137293</td>\n      <td id=\"T_3eb6d_row2_col3\" class=\"data row2 col3\" >0.407993</td>\n    </tr>\n    <tr>\n      <th id=\"T_3eb6d_level0_row3\" class=\"row_heading level0 row3\" >Pudge Nakamoto</th>\n      <td id=\"T_3eb6d_row3_col0\" class=\"data row3 col0\" >0.886295</td>\n      <td id=\"T_3eb6d_row3_col1\" class=\"data row3 col1\" >0.967061</td>\n      <td id=\"T_3eb6d_row3_col2\" class=\"data row3 col2\" >0.925610</td>\n      <td id=\"T_3eb6d_row3_col3\" class=\"data row3 col3\" >0.766213</td>\n    </tr>\n    <tr>\n      <th id=\"T_3eb6d_level0_row4\" class=\"row_heading level0 row4\" >Steals Chark</th>\n      <td id=\"T_3eb6d_row4_col0\" class=\"data row4 col0\" >0.816601</td>\n      <td id=\"T_3eb6d_row4_col1\" class=\"data row4 col1\" >0.922393</td>\n      <td id=\"T_3eb6d_row4_col2\" class=\"data row4 col2\" >1.016995</td>\n      <td id=\"T_3eb6d_row4_col3\" class=\"data row4 col3\" >0.510416</td>\n    </tr>\n  </tbody>\n</table>\n"
     },
     "metadata": {},
     "output_type": "display_data"
    },
    {
     "data": {
      "text/plain": "<IPython.core.display.Markdown object>",
      "text/markdown": "#### Running"
     },
     "metadata": {},
     "output_type": "display_data"
    },
    {
     "data": {
      "text/plain": "<pandas.io.formats.style.Styler at 0x19fd74eceb0>",
      "text/html": "<style type=\"text/css\">\n#T_d9200_row0_col0 {\n  background-color: #7fc866;\n  color: #000000;\n}\n#T_d9200_row0_col1 {\n  background-color: #118848;\n  color: #f1f1f1;\n}\n#T_d9200_row0_col2 {\n  background-color: #bde379;\n  color: #000000;\n}\n#T_d9200_row0_col3 {\n  background-color: #a9da6c;\n  color: #000000;\n}\n#T_d9200_row1_col0 {\n  background-color: #fbfdba;\n  color: #000000;\n}\n#T_d9200_row1_col1, #T_d9200_row7_col1 {\n  background-color: #f57245;\n  color: #f1f1f1;\n}\n#T_d9200_row1_col2 {\n  background-color: #f67f4b;\n  color: #f1f1f1;\n}\n#T_d9200_row1_col3 {\n  background-color: #006837;\n  color: #f1f1f1;\n}\n#T_d9200_row2_col0 {\n  background-color: #f67c4a;\n  color: #f1f1f1;\n}\n#T_d9200_row2_col1 {\n  background-color: #fed683;\n  color: #000000;\n}\n#T_d9200_row2_col2 {\n  background-color: #ed5f3c;\n  color: #f1f1f1;\n}\n#T_d9200_row2_col3 {\n  background-color: #db382b;\n  color: #f1f1f1;\n}\n#T_d9200_row3_col0 {\n  background-color: #f4fab0;\n  color: #000000;\n}\n#T_d9200_row3_col1 {\n  background-color: #2da155;\n  color: #f1f1f1;\n}\n#T_d9200_row3_col2, #T_d9200_row6_col0 {\n  background-color: #d3ec87;\n  color: #000000;\n}\n#T_d9200_row3_col3 {\n  background-color: #d93429;\n  color: #f1f1f1;\n}\n#T_d9200_row4_col0 {\n  background-color: #bfe47a;\n  color: #000000;\n}\n#T_d9200_row4_col1 {\n  background-color: #57b65f;\n  color: #f1f1f1;\n}\n#T_d9200_row4_col2 {\n  background-color: #108647;\n  color: #f1f1f1;\n}\n#T_d9200_row4_col3 {\n  background-color: #f36b42;\n  color: #f1f1f1;\n}\n#T_d9200_row5_col0 {\n  background-color: #d7ee8a;\n  color: #000000;\n}\n#T_d9200_row5_col1 {\n  background-color: #69be63;\n  color: #f1f1f1;\n}\n#T_d9200_row5_col2 {\n  background-color: #feefa3;\n  color: #000000;\n}\n#T_d9200_row5_col3, #T_d9200_row7_col3 {\n  background-color: #e5f49b;\n  color: #000000;\n}\n#T_d9200_row6_col1 {\n  background-color: #026c39;\n  color: #f1f1f1;\n}\n#T_d9200_row6_col2 {\n  background-color: #e65036;\n  color: #f1f1f1;\n}\n#T_d9200_row6_col3 {\n  background-color: #abdb6d;\n  color: #000000;\n}\n#T_d9200_row7_col0 {\n  background-color: #fffdbc;\n  color: #000000;\n}\n#T_d9200_row7_col2 {\n  background-color: #a5d86a;\n  color: #000000;\n}\n#T_d9200_row8_col0 {\n  background-color: #fdb163;\n  color: #000000;\n}\n#T_d9200_row8_col1 {\n  background-color: #f2faae;\n  color: #000000;\n}\n#T_d9200_row8_col2 {\n  background-color: #f99153;\n  color: #000000;\n}\n#T_d9200_row8_col3 {\n  background-color: #de402e;\n  color: #f1f1f1;\n}\n</style>\n<table id=\"T_d9200\">\n  <thead>\n    <tr>\n      <th class=\"blank level0\" >&nbsp;</th>\n      <th id=\"T_d9200_level0_col0\" class=\"col_heading level0 col0\" >running_rating</th>\n      <th id=\"T_d9200_level0_col1\" class=\"col_heading level0 col1\" >hustle</th>\n      <th id=\"T_d9200_level0_col2\" class=\"col_heading level0 col2\" >stealth</th>\n      <th id=\"T_d9200_level0_col3\" class=\"col_heading level0 col3\" >dodge</th>\n    </tr>\n    <tr>\n      <th class=\"index_name level0\" >player_name</th>\n      <th class=\"blank col0\" >&nbsp;</th>\n      <th class=\"blank col1\" >&nbsp;</th>\n      <th class=\"blank col2\" >&nbsp;</th>\n      <th class=\"blank col3\" >&nbsp;</th>\n    </tr>\n  </thead>\n  <tbody>\n    <tr>\n      <th id=\"T_d9200_level0_row0\" class=\"row_heading level0 row0\" >Amos Parveen</th>\n      <td id=\"T_d9200_row0_col0\" class=\"data row0 col0\" >0.759572</td>\n      <td id=\"T_d9200_row0_col1\" class=\"data row0 col1\" >0.931771</td>\n      <td id=\"T_d9200_row0_col2\" class=\"data row0 col2\" >0.652857</td>\n      <td id=\"T_d9200_row0_col3\" class=\"data row0 col3\" >0.694087</td>\n    </tr>\n    <tr>\n      <th id=\"T_d9200_level0_row1\" class=\"row_heading level0 row1\" >Lucas Petty</th>\n      <td id=\"T_d9200_row1_col0\" class=\"data row1 col0\" >0.509191</td>\n      <td id=\"T_d9200_row1_col1\" class=\"data row1 col1\" >0.210580</td>\n      <td id=\"T_d9200_row1_col2\" class=\"data row1 col2\" >0.227212</td>\n      <td id=\"T_d9200_row1_col3\" class=\"data row1 col3\" >1.089782</td>\n    </tr>\n    <tr>\n      <th id=\"T_d9200_level0_row2\" class=\"row_heading level0 row2\" >Ariadne Amaat</th>\n      <td id=\"T_d9200_row2_col0\" class=\"data row2 col0\" >0.224416</td>\n      <td id=\"T_d9200_row2_col1\" class=\"data row2 col1\" >0.380899</td>\n      <td id=\"T_d9200_row2_col2\" class=\"data row2 col2\" >0.177701</td>\n      <td id=\"T_d9200_row2_col3\" class=\"data row2 col3\" >0.114647</td>\n    </tr>\n    <tr>\n      <th id=\"T_d9200_level0_row3\" class=\"row_heading level0 row3\" >Siobhan Chark</th>\n      <td id=\"T_d9200_row3_col0\" class=\"data row3 col0\" >0.530757</td>\n      <td id=\"T_d9200_row3_col1\" class=\"data row3 col1\" >0.873609</td>\n      <td id=\"T_d9200_row3_col2\" class=\"data row3 col2\" >0.611409</td>\n      <td id=\"T_d9200_row3_col3\" class=\"data row3 col3\" >0.107253</td>\n    </tr>\n    <tr>\n      <th id=\"T_d9200_level0_row4\" class=\"row_heading level0 row4\" >Mars Anchor</th>\n      <td id=\"T_d9200_row4_col0\" class=\"data row4 col0\" >0.649784</td>\n      <td id=\"T_d9200_row4_col1\" class=\"data row4 col1\" >0.816467</td>\n      <td id=\"T_d9200_row4_col2\" class=\"data row4 col2\" >0.934204</td>\n      <td id=\"T_d9200_row4_col3\" class=\"data row4 col3\" >0.198681</td>\n    </tr>\n    <tr>\n      <th id=\"T_d9200_level0_row5\" class=\"row_heading level0 row5\" >Tucker Thane</th>\n      <td id=\"T_d9200_row5_col0\" class=\"data row5 col0\" >0.603260</td>\n      <td id=\"T_d9200_row5_col1\" class=\"data row5 col1\" >0.795246</td>\n      <td id=\"T_d9200_row5_col2\" class=\"data row5 col2\" >0.445501</td>\n      <td id=\"T_d9200_row5_col3\" class=\"data row5 col3\" >0.569032</td>\n    </tr>\n    <tr>\n      <th id=\"T_d9200_level0_row6\" class=\"row_heading level0 row6\" >Bevan Wise</th>\n      <td id=\"T_d9200_row6_col0\" class=\"data row6 col0\" >0.611709</td>\n      <td id=\"T_d9200_row6_col1\" class=\"data row6 col1\" >0.990937</td>\n      <td id=\"T_d9200_row6_col2\" class=\"data row6 col2\" >0.156174</td>\n      <td id=\"T_d9200_row6_col3\" class=\"data row6 col3\" >0.688016</td>\n    </tr>\n    <tr>\n      <th id=\"T_d9200_level0_row7\" class=\"row_heading level0 row7\" >Jira Sealegs</th>\n      <td id=\"T_d9200_row7_col0\" class=\"data row7 col0\" >0.493391</td>\n      <td id=\"T_d9200_row7_col1\" class=\"data row7 col1\" >0.208583</td>\n      <td id=\"T_d9200_row7_col2\" class=\"data row7 col2\" >0.701453</td>\n      <td id=\"T_d9200_row7_col3\" class=\"data row7 col3\" >0.570136</td>\n    </tr>\n    <tr>\n      <th id=\"T_d9200_level0_row8\" class=\"row_heading level0 row8\" >Dimi Wobbler</th>\n      <td id=\"T_d9200_row8_col0\" class=\"data row8 col0\" >0.304724</td>\n      <td id=\"T_d9200_row8_col1\" class=\"data row8 col1\" >0.533270</td>\n      <td id=\"T_d9200_row8_col2\" class=\"data row8 col2\" >0.254832</td>\n      <td id=\"T_d9200_row8_col3\" class=\"data row8 col3\" >0.126070</td>\n    </tr>\n  </tbody>\n</table>\n"
     },
     "metadata": {},
     "output_type": "display_data"
    },
    {
     "data": {
      "text/plain": "<IPython.core.display.Markdown object>",
      "text/markdown": "#### Defense"
     },
     "metadata": {},
     "output_type": "display_data"
    },
    {
     "data": {
      "text/plain": "<pandas.io.formats.style.Styler at 0x19fbb7cfa60>",
      "text/html": "<style type=\"text/css\">\n#T_092cb_row0_col0 {\n  background-color: #15904c;\n  color: #f1f1f1;\n}\n#T_092cb_row0_col1 {\n  background-color: #006837;\n  color: #f1f1f1;\n}\n#T_092cb_row0_col2 {\n  background-color: #57b65f;\n  color: #f1f1f1;\n}\n#T_092cb_row0_col3 {\n  background-color: #33a456;\n  color: #f1f1f1;\n}\n#T_092cb_row1_col0 {\n  background-color: #a9da6c;\n  color: #000000;\n}\n#T_092cb_row1_col1 {\n  background-color: #feea9b;\n  color: #000000;\n}\n#T_092cb_row1_col2 {\n  background-color: #82c966;\n  color: #000000;\n}\n#T_092cb_row1_col3 {\n  background-color: #219c52;\n  color: #f1f1f1;\n}\n#T_092cb_row2_col0 {\n  background-color: #fb9d59;\n  color: #000000;\n}\n#T_092cb_row2_col1 {\n  background-color: #fee28f;\n  color: #000000;\n}\n#T_092cb_row2_col2 {\n  background-color: #f57748;\n  color: #f1f1f1;\n}\n#T_092cb_row2_col3 {\n  background-color: #f47044;\n  color: #f1f1f1;\n}\n#T_092cb_row3_col0 {\n  background-color: #feffbe;\n  color: #000000;\n}\n#T_092cb_row3_col1, #T_092cb_row8_col1 {\n  background-color: #fec877;\n  color: #000000;\n}\n#T_092cb_row3_col2 {\n  background-color: #f8864f;\n  color: #f1f1f1;\n}\n#T_092cb_row3_col3 {\n  background-color: #16914d;\n  color: #f1f1f1;\n}\n#T_092cb_row4_col0 {\n  background-color: #bbe278;\n  color: #000000;\n}\n#T_092cb_row4_col1 {\n  background-color: #63bc62;\n  color: #f1f1f1;\n}\n#T_092cb_row4_col2 {\n  background-color: #c7e77f;\n  color: #000000;\n}\n#T_092cb_row4_col3 {\n  background-color: #f1f9ac;\n  color: #000000;\n}\n#T_092cb_row5_col0 {\n  background-color: #bfe47a;\n  color: #000000;\n}\n#T_092cb_row5_col1 {\n  background-color: #c9e881;\n  color: #000000;\n}\n#T_092cb_row5_col2 {\n  background-color: #e8f59f;\n  color: #000000;\n}\n#T_092cb_row5_col3 {\n  background-color: #7fc866;\n  color: #000000;\n}\n#T_092cb_row6_col0 {\n  background-color: #fafdb8;\n  color: #000000;\n}\n#T_092cb_row6_col1 {\n  background-color: #69be63;\n  color: #f1f1f1;\n}\n#T_092cb_row6_col2 {\n  background-color: #fee08b;\n  color: #000000;\n}\n#T_092cb_row6_col3 {\n  background-color: #fdc776;\n  color: #000000;\n}\n#T_092cb_row7_col0 {\n  background-color: #8ccd67;\n  color: #000000;\n}\n#T_092cb_row7_col1 {\n  background-color: #f2faae;\n  color: #000000;\n}\n#T_092cb_row7_col2 {\n  background-color: #98d368;\n  color: #000000;\n}\n#T_092cb_row7_col3 {\n  background-color: #07753e;\n  color: #f1f1f1;\n}\n#T_092cb_row8_col0 {\n  background-color: #f99153;\n  color: #000000;\n}\n#T_092cb_row8_col2 {\n  background-color: #fa9656;\n  color: #000000;\n}\n#T_092cb_row8_col3 {\n  background-color: #e65036;\n  color: #f1f1f1;\n}\n</style>\n<table id=\"T_092cb\">\n  <thead>\n    <tr>\n      <th class=\"blank level0\" >&nbsp;</th>\n      <th id=\"T_092cb_level0_col0\" class=\"col_heading level0 col0\" >defense_rating</th>\n      <th id=\"T_092cb_level0_col1\" class=\"col_heading level0 col1\" >reach</th>\n      <th id=\"T_092cb_level0_col2\" class=\"col_heading level0 col2\" >magnet</th>\n      <th id=\"T_092cb_level0_col3\" class=\"col_heading level0 col3\" >reflex</th>\n    </tr>\n    <tr>\n      <th class=\"index_name level0\" >player_name</th>\n      <th class=\"blank col0\" >&nbsp;</th>\n      <th class=\"blank col1\" >&nbsp;</th>\n      <th class=\"blank col2\" >&nbsp;</th>\n      <th class=\"blank col3\" >&nbsp;</th>\n    </tr>\n  </thead>\n  <tbody>\n    <tr>\n      <th id=\"T_092cb_level0_row0\" class=\"row_heading level0 row0\" >Amos Parveen</th>\n      <td id=\"T_092cb_row0_col0\" class=\"data row0 col0\" >0.916676</td>\n      <td id=\"T_092cb_row0_col1\" class=\"data row0 col1\" >1.068193</td>\n      <td id=\"T_092cb_row0_col2\" class=\"data row0 col2\" >0.817303</td>\n      <td id=\"T_092cb_row0_col3\" class=\"data row0 col3\" >0.864531</td>\n    </tr>\n    <tr>\n      <th id=\"T_092cb_level0_row1\" class=\"row_heading level0 row1\" >Lucas Petty</th>\n      <td id=\"T_092cb_row1_col0\" class=\"data row1 col0\" >0.691509</td>\n      <td id=\"T_092cb_row1_col1\" class=\"data row1 col1\" >0.430230</td>\n      <td id=\"T_092cb_row1_col2\" class=\"data row1 col2\" >0.754762</td>\n      <td id=\"T_092cb_row1_col3\" class=\"data row1 col3\" >0.889537</td>\n    </tr>\n    <tr>\n      <th id=\"T_092cb_level0_row2\" class=\"row_heading level0 row2\" >Ariadne Amaat</th>\n      <td id=\"T_092cb_row2_col0\" class=\"data row2 col0\" >0.277225</td>\n      <td id=\"T_092cb_row2_col1\" class=\"data row2 col1\" >0.408719</td>\n      <td id=\"T_092cb_row2_col2\" class=\"data row2 col2\" >0.216163</td>\n      <td id=\"T_092cb_row2_col3\" class=\"data row2 col3\" >0.206793</td>\n    </tr>\n    <tr>\n      <th id=\"T_092cb_level0_row3\" class=\"row_heading level0 row3\" >Siobhan Chark</th>\n      <td id=\"T_092cb_row3_col0\" class=\"data row3 col0\" >0.502714</td>\n      <td id=\"T_092cb_row3_col1\" class=\"data row3 col1\" >0.355250</td>\n      <td id=\"T_092cb_row3_col2\" class=\"data row3 col2\" >0.239863</td>\n      <td id=\"T_092cb_row3_col3\" class=\"data row3 col3\" >0.913027</td>\n    </tr>\n    <tr>\n      <th id=\"T_092cb_level0_row4\" class=\"row_heading level0 row4\" >Mars Anchor</th>\n      <td id=\"T_092cb_row4_col0\" class=\"data row4 col0\" >0.656890</td>\n      <td id=\"T_092cb_row4_col1\" class=\"data row4 col1\" >0.801738</td>\n      <td id=\"T_092cb_row4_col2\" class=\"data row4 col2\" >0.633698</td>\n      <td id=\"T_092cb_row4_col3\" class=\"data row4 col3\" >0.535232</td>\n    </tr>\n    <tr>\n      <th id=\"T_092cb_level0_row5\" class=\"row_heading level0 row5\" >Tucker Thane</th>\n      <td id=\"T_092cb_row5_col0\" class=\"data row5 col0\" >0.649560</td>\n      <td id=\"T_092cb_row5_col1\" class=\"data row5 col1\" >0.631369</td>\n      <td id=\"T_092cb_row5_col2\" class=\"data row5 col2\" >0.559204</td>\n      <td id=\"T_092cb_row5_col3\" class=\"data row5 col3\" >0.758105</td>\n    </tr>\n    <tr>\n      <th id=\"T_092cb_level0_row6\" class=\"row_heading level0 row6\" >Bevan Wise</th>\n      <td id=\"T_092cb_row6_col0\" class=\"data row6 col0\" >0.514168</td>\n      <td id=\"T_092cb_row6_col1\" class=\"data row6 col1\" >0.794289</td>\n      <td id=\"T_092cb_row6_col2\" class=\"data row6 col2\" >0.399765</td>\n      <td id=\"T_092cb_row6_col3\" class=\"data row6 col3\" >0.348449</td>\n    </tr>\n    <tr>\n      <th id=\"T_092cb_level0_row7\" class=\"row_heading level0 row7\" >Jira Sealegs</th>\n      <td id=\"T_092cb_row7_col0\" class=\"data row7 col0\" >0.741516</td>\n      <td id=\"T_092cb_row7_col1\" class=\"data row7 col1\" >0.533704</td>\n      <td id=\"T_092cb_row7_col2\" class=\"data row7 col2\" >0.721175</td>\n      <td id=\"T_092cb_row7_col3\" class=\"data row7 col3\" >0.969669</td>\n    </tr>\n    <tr>\n      <th id=\"T_092cb_level0_row8\" class=\"row_heading level0 row8\" >Dimi Wobbler</th>\n      <td id=\"T_092cb_row8_col0\" class=\"data row8 col0\" >0.255937</td>\n      <td id=\"T_092cb_row8_col1\" class=\"data row8 col1\" >0.352692</td>\n      <td id=\"T_092cb_row8_col2\" class=\"data row8 col2\" >0.262153</td>\n      <td id=\"T_092cb_row8_col3\" class=\"data row8 col3\" >0.152967</td>\n    </tr>\n  </tbody>\n</table>\n"
     },
     "metadata": {},
     "output_type": "display_data"
    }
   ],
   "source": [
    "team_boost = pies.copy()\n",
    "boost_stats(team_boost, 'overall', 0.10)\n",
    "display(Markdown(\"#### Batting\"))\n",
    "display(set_heatmap(get_batting_stlats(team_boost), maxVal=1))\n",
    "display(Markdown(\"#### Pitching\"))\n",
    "display(set_heatmap(get_pitching_stlats(team_boost), maxVal=1))\n",
    "display(Markdown(\"#### Running\"))\n",
    "display(set_heatmap(get_running_stlats(team_boost), maxVal=1))\n",
    "display(Markdown(\"#### Defense\"))\n",
    "display(set_heatmap(get_defense_stlats(team_boost), maxVal=1))"
   ],
   "metadata": {
    "collapsed": false
   }
  },
  {
   "cell_type": "markdown",
   "source": [
    "### NEW Batting Boost\n",
    "\n",
    "**Your Team's Batting is boosted by 1 Star.**\n",
    "\n",
    "See below for an estimate of new attributes."
   ],
   "metadata": {
    "collapsed": false
   }
  },
  {
   "cell_type": "code",
   "execution_count": 23,
   "outputs": [
    {
     "data": {
      "text/plain": "<pandas.io.formats.style.Styler at 0x19fd73ea0a0>",
      "text/html": "<style type=\"text/css\">\n#T_9d2f3_row0_col0, #T_9d2f3_row0_col1, #T_9d2f3_row0_col3, #T_9d2f3_row3_col3, #T_9d2f3_row5_col0, #T_9d2f3_row5_col1, #T_9d2f3_row5_col2, #T_9d2f3_row6_col2, #T_9d2f3_row7_col0, #T_9d2f3_row7_col1, #T_9d2f3_row7_col2 {\n  background-color: #006837;\n  color: #f1f1f1;\n}\n#T_9d2f3_row0_col2 {\n  background-color: #0a7b41;\n  color: #f1f1f1;\n}\n#T_9d2f3_row1_col0 {\n  background-color: #fff1a8;\n  color: #000000;\n}\n#T_9d2f3_row1_col1 {\n  background-color: #feeda1;\n  color: #000000;\n}\n#T_9d2f3_row1_col2 {\n  background-color: #fece7c;\n  color: #000000;\n}\n#T_9d2f3_row1_col3 {\n  background-color: #ebf7a3;\n  color: #000000;\n}\n#T_9d2f3_row2_col0 {\n  background-color: #b5df74;\n  color: #000000;\n}\n#T_9d2f3_row2_col1 {\n  background-color: #0b7d42;\n  color: #f1f1f1;\n}\n#T_9d2f3_row2_col2 {\n  background-color: #f88950;\n  color: #f1f1f1;\n}\n#T_9d2f3_row2_col3 {\n  background-color: #5ab760;\n  color: #f1f1f1;\n}\n#T_9d2f3_row3_col0 {\n  background-color: #73c264;\n  color: #000000;\n}\n#T_9d2f3_row3_col1 {\n  background-color: #fdfebc;\n  color: #000000;\n}\n#T_9d2f3_row3_col2 {\n  background-color: #78c565;\n  color: #000000;\n}\n#T_9d2f3_row4_col0 {\n  background-color: #e8f59f;\n  color: #000000;\n}\n#T_9d2f3_row4_col1 {\n  background-color: #f4fab0;\n  color: #000000;\n}\n#T_9d2f3_row4_col2 {\n  background-color: #84ca66;\n  color: #000000;\n}\n#T_9d2f3_row4_col3 {\n  background-color: #fee18d;\n  color: #000000;\n}\n#T_9d2f3_row5_col3 {\n  background-color: #3faa59;\n  color: #f1f1f1;\n}\n#T_9d2f3_row6_col0 {\n  background-color: #2da155;\n  color: #f1f1f1;\n}\n#T_9d2f3_row6_col1 {\n  background-color: #18954f;\n  color: #f1f1f1;\n}\n#T_9d2f3_row6_col3 {\n  background-color: #9bd469;\n  color: #000000;\n}\n#T_9d2f3_row7_col3 {\n  background-color: #66bd63;\n  color: #f1f1f1;\n}\n#T_9d2f3_row8_col0 {\n  background-color: #dcf08f;\n  color: #000000;\n}\n#T_9d2f3_row8_col1 {\n  background-color: #f99153;\n  color: #000000;\n}\n#T_9d2f3_row8_col2 {\n  background-color: #097940;\n  color: #f1f1f1;\n}\n#T_9d2f3_row8_col3 {\n  background-color: #e9f6a1;\n  color: #000000;\n}\n</style>\n<table id=\"T_9d2f3\">\n  <thead>\n    <tr>\n      <th class=\"blank level0\" >&nbsp;</th>\n      <th id=\"T_9d2f3_level0_col0\" class=\"col_heading level0 col0\" >batting_rating</th>\n      <th id=\"T_9d2f3_level0_col1\" class=\"col_heading level0 col1\" >sight</th>\n      <th id=\"T_9d2f3_level0_col2\" class=\"col_heading level0 col2\" >thwack</th>\n      <th id=\"T_9d2f3_level0_col3\" class=\"col_heading level0 col3\" >ferocity</th>\n    </tr>\n    <tr>\n      <th class=\"index_name level0\" >player_name</th>\n      <th class=\"blank col0\" >&nbsp;</th>\n      <th class=\"blank col1\" >&nbsp;</th>\n      <th class=\"blank col2\" >&nbsp;</th>\n      <th class=\"blank col3\" >&nbsp;</th>\n    </tr>\n  </thead>\n  <tbody>\n    <tr>\n      <th id=\"T_9d2f3_level0_row0\" class=\"row_heading level0 row0\" >Amos Parveen</th>\n      <td id=\"T_9d2f3_row0_col0\" class=\"data row0 col0\" >1.012560</td>\n      <td id=\"T_9d2f3_row0_col1\" class=\"data row0 col1\" >1.026331</td>\n      <td id=\"T_9d2f3_row0_col2\" class=\"data row0 col2\" >0.960910</td>\n      <td id=\"T_9d2f3_row0_col3\" class=\"data row0 col3\" >1.050437</td>\n    </tr>\n    <tr>\n      <th id=\"T_9d2f3_level0_row1\" class=\"row_heading level0 row1\" >Lucas Petty</th>\n      <td id=\"T_9d2f3_row1_col0\" class=\"data row1 col0\" >0.454947</td>\n      <td id=\"T_9d2f3_row1_col1\" class=\"data row1 col1\" >0.443809</td>\n      <td id=\"T_9d2f3_row1_col2\" class=\"data row1 col2\" >0.366961</td>\n      <td id=\"T_9d2f3_row1_col3\" class=\"data row1 col3\" >0.554070</td>\n    </tr>\n    <tr>\n      <th id=\"T_9d2f3_level0_row2\" class=\"row_heading level0 row2\" >Ariadne Amaat</th>\n      <td id=\"T_9d2f3_row2_col0\" class=\"data row2 col0\" >0.671733</td>\n      <td id=\"T_9d2f3_row2_col1\" class=\"data row2 col1\" >0.954392</td>\n      <td id=\"T_9d2f3_row2_col2\" class=\"data row2 col2\" >0.245351</td>\n      <td id=\"T_9d2f3_row2_col3\" class=\"data row2 col3\" >0.815456</td>\n    </tr>\n    <tr>\n      <th id=\"T_9d2f3_level0_row3\" class=\"row_heading level0 row3\" >Siobhan Chark</th>\n      <td id=\"T_9d2f3_row3_col0\" class=\"data row3 col0\" >0.779901</td>\n      <td id=\"T_9d2f3_row3_col1\" class=\"data row3 col1\" >0.506972</td>\n      <td id=\"T_9d2f3_row3_col2\" class=\"data row3 col2\" >0.770024</td>\n      <td id=\"T_9d2f3_row3_col3\" class=\"data row3 col3\" >1.062707</td>\n    </tr>\n    <tr>\n      <th id=\"T_9d2f3_level0_row4\" class=\"row_heading level0 row4\" >Mars Anchor</th>\n      <td id=\"T_9d2f3_row4_col0\" class=\"data row4 col0\" >0.562238</td>\n      <td id=\"T_9d2f3_row4_col1\" class=\"data row4 col1\" >0.530136</td>\n      <td id=\"T_9d2f3_row4_col2\" class=\"data row4 col2\" >0.750708</td>\n      <td id=\"T_9d2f3_row4_col3\" class=\"data row4 col3\" >0.405871</td>\n    </tr>\n    <tr>\n      <th id=\"T_9d2f3_level0_row5\" class=\"row_heading level0 row5\" >Tucker Thane</th>\n      <td id=\"T_9d2f3_row5_col0\" class=\"data row5 col0\" >1.018528</td>\n      <td id=\"T_9d2f3_row5_col1\" class=\"data row5 col1\" >1.176919</td>\n      <td id=\"T_9d2f3_row5_col2\" class=\"data row5 col2\" >1.030288</td>\n      <td id=\"T_9d2f3_row5_col3\" class=\"data row5 col3\" >0.848379</td>\n    </tr>\n    <tr>\n      <th id=\"T_9d2f3_level0_row6\" class=\"row_heading level0 row6\" >Bevan Wise</th>\n      <td id=\"T_9d2f3_row6_col0\" class=\"data row6 col0\" >0.874798</td>\n      <td id=\"T_9d2f3_row6_col1\" class=\"data row6 col1\" >0.903233</td>\n      <td id=\"T_9d2f3_row6_col2\" class=\"data row6 col2\" >1.004662</td>\n      <td id=\"T_9d2f3_row6_col3\" class=\"data row6 col3\" >0.716498</td>\n    </tr>\n    <tr>\n      <th id=\"T_9d2f3_level0_row7\" class=\"row_heading level0 row7\" >Jira Sealegs</th>\n      <td id=\"T_9d2f3_row7_col0\" class=\"data row7 col0\" >1.001296</td>\n      <td id=\"T_9d2f3_row7_col1\" class=\"data row7 col1\" >1.048431</td>\n      <td id=\"T_9d2f3_row7_col2\" class=\"data row7 col2\" >1.155203</td>\n      <td id=\"T_9d2f3_row7_col3\" class=\"data row7 col3\" >0.800255</td>\n    </tr>\n    <tr>\n      <th id=\"T_9d2f3_level0_row8\" class=\"row_heading level0 row8\" >Dimi Wobbler</th>\n      <td id=\"T_9d2f3_row8_col0\" class=\"data row8 col0\" >0.592369</td>\n      <td id=\"T_9d2f3_row8_col1\" class=\"data row8 col1\" >0.257246</td>\n      <td id=\"T_9d2f3_row8_col2\" class=\"data row8 col2\" >0.961752</td>\n      <td id=\"T_9d2f3_row8_col3\" class=\"data row8 col3\" >0.558111</td>\n    </tr>\n  </tbody>\n</table>\n"
     },
     "metadata": {},
     "output_type": "display_data"
    }
   ],
   "source": [
    "bat_boost = pies.copy()\n",
    "boost_stats(bat_boost, 'batting', 0.20)\n",
    "display(set_heatmap(get_batting_stlats(bat_boost), maxVal=1))"
   ],
   "metadata": {
    "collapsed": false
   }
  },
  {
   "cell_type": "markdown",
   "source": [
    "### NEW Pitching Boost\n",
    "\n",
    "**Your Team's Pitching is boosted by 1 Star.**\n",
    "\n",
    "See below for an estimate of new attributes."
   ],
   "metadata": {
    "collapsed": false
   }
  },
  {
   "cell_type": "code",
   "execution_count": 24,
   "outputs": [
    {
     "data": {
      "text/plain": "<pandas.io.formats.style.Styler at 0x19fd709a9d0>",
      "text/html": "<style type=\"text/css\">\n#T_0129f_row0_col0 {\n  background-color: #e8f59f;\n  color: #000000;\n}\n#T_0129f_row0_col1 {\n  background-color: #e3f399;\n  color: #000000;\n}\n#T_0129f_row0_col2 {\n  background-color: #feeda1;\n  color: #000000;\n}\n#T_0129f_row0_col3 {\n  background-color: #b9e176;\n  color: #000000;\n}\n#T_0129f_row1_col0 {\n  background-color: #016a38;\n  color: #f1f1f1;\n}\n#T_0129f_row1_col1 {\n  background-color: #39a758;\n  color: #f1f1f1;\n}\n#T_0129f_row1_col2, #T_0129f_row1_col3, #T_0129f_row3_col1, #T_0129f_row3_col2, #T_0129f_row4_col1, #T_0129f_row4_col2 {\n  background-color: #006837;\n  color: #f1f1f1;\n}\n#T_0129f_row2_col0 {\n  background-color: #fee18d;\n  color: #000000;\n}\n#T_0129f_row2_col1 {\n  background-color: #fff3ac;\n  color: #000000;\n}\n#T_0129f_row2_col2 {\n  background-color: #f7844e;\n  color: #f1f1f1;\n}\n#T_0129f_row2_col3 {\n  background-color: #fbfdba;\n  color: #000000;\n}\n#T_0129f_row3_col0 {\n  background-color: #036e3a;\n  color: #f1f1f1;\n}\n#T_0129f_row3_col3 {\n  background-color: #33a456;\n  color: #f1f1f1;\n}\n#T_0129f_row4_col0 {\n  background-color: #15904c;\n  color: #f1f1f1;\n}\n#T_0129f_row4_col3 {\n  background-color: #d3ec87;\n  color: #000000;\n}\n</style>\n<table id=\"T_0129f\">\n  <thead>\n    <tr>\n      <th class=\"blank level0\" >&nbsp;</th>\n      <th id=\"T_0129f_level0_col0\" class=\"col_heading level0 col0\" >pitching_rating</th>\n      <th id=\"T_0129f_level0_col1\" class=\"col_heading level0 col1\" >control</th>\n      <th id=\"T_0129f_level0_col2\" class=\"col_heading level0 col2\" >stuff</th>\n      <th id=\"T_0129f_level0_col3\" class=\"col_heading level0 col3\" >guile</th>\n    </tr>\n    <tr>\n      <th class=\"index_name level0\" >player_name</th>\n      <th class=\"blank col0\" >&nbsp;</th>\n      <th class=\"blank col1\" >&nbsp;</th>\n      <th class=\"blank col2\" >&nbsp;</th>\n      <th class=\"blank col3\" >&nbsp;</th>\n    </tr>\n  </thead>\n  <tbody>\n    <tr>\n      <th id=\"T_0129f_level0_row0\" class=\"row_heading level0 row0\" >Thomas Marsh</th>\n      <td id=\"T_0129f_row0_col0\" class=\"data row0 col0\" >0.559500</td>\n      <td id=\"T_0129f_row0_col1\" class=\"data row0 col1\" >0.570549</td>\n      <td id=\"T_0129f_row0_col2\" class=\"data row0 col2\" >0.444044</td>\n      <td id=\"T_0129f_row0_col3\" class=\"data row0 col3\" >0.663906</td>\n    </tr>\n    <tr>\n      <th id=\"T_0129f_level0_row1\" class=\"row_heading level0 row1\" >Marco Escobar</th>\n      <td id=\"T_0129f_row1_col0\" class=\"data row1 col0\" >0.994724</td>\n      <td id=\"T_0129f_row1_col1\" class=\"data row1 col1\" >0.856456</td>\n      <td id=\"T_0129f_row1_col2\" class=\"data row1 col2\" >1.124772</td>\n      <td id=\"T_0129f_row1_col3\" class=\"data row1 col3\" >1.002942</td>\n    </tr>\n    <tr>\n      <th id=\"T_0129f_level0_row2\" class=\"row_heading level0 row2\" >Augusto Reddick</th>\n      <td id=\"T_0129f_row2_col0\" class=\"data row2 col0\" >0.403280</td>\n      <td id=\"T_0129f_row2_col1\" class=\"data row2 col1\" >0.464553</td>\n      <td id=\"T_0129f_row2_col2\" class=\"data row2 col2\" >0.237293</td>\n      <td id=\"T_0129f_row2_col3\" class=\"data row2 col3\" >0.507993</td>\n    </tr>\n    <tr>\n      <th id=\"T_0129f_level0_row3\" class=\"row_heading level0 row3\" >Pudge Nakamoto</th>\n      <td id=\"T_0129f_row3_col0\" class=\"data row3 col0\" >0.986295</td>\n      <td id=\"T_0129f_row3_col1\" class=\"data row3 col1\" >1.067061</td>\n      <td id=\"T_0129f_row3_col2\" class=\"data row3 col2\" >1.025610</td>\n      <td id=\"T_0129f_row3_col3\" class=\"data row3 col3\" >0.866213</td>\n    </tr>\n    <tr>\n      <th id=\"T_0129f_level0_row4\" class=\"row_heading level0 row4\" >Steals Chark</th>\n      <td id=\"T_0129f_row4_col0\" class=\"data row4 col0\" >0.916601</td>\n      <td id=\"T_0129f_row4_col1\" class=\"data row4 col1\" >1.022393</td>\n      <td id=\"T_0129f_row4_col2\" class=\"data row4 col2\" >1.116995</td>\n      <td id=\"T_0129f_row4_col3\" class=\"data row4 col3\" >0.610416</td>\n    </tr>\n  </tbody>\n</table>\n"
     },
     "metadata": {},
     "output_type": "display_data"
    }
   ],
   "source": [
    "pitch_boost = pies.copy()\n",
    "boost_stats(pitch_boost, 'pitching', 0.20)\n",
    "display(set_heatmap(get_pitching_stlats(pitch_boost), maxVal=1))"
   ],
   "metadata": {
    "collapsed": false
   }
  },
  {
   "cell_type": "markdown",
   "source": [
    "### Wind Sprints\n",
    "\n",
    "**Your Team's Defense and Running are boosted by 1 Star.**\n",
    "\n",
    "See below for an estimate of new attributes."
   ],
   "metadata": {
    "collapsed": false
   }
  },
  {
   "cell_type": "code",
   "execution_count": 25,
   "outputs": [
    {
     "data": {
      "text/plain": "<IPython.core.display.Markdown object>",
      "text/markdown": "#### Running"
     },
     "metadata": {},
     "output_type": "display_data"
    },
    {
     "data": {
      "text/plain": "<pandas.io.formats.style.Styler at 0x19fbd4f6940>",
      "text/html": "<style type=\"text/css\">\n#T_b1a6d_row0_col0 {\n  background-color: #36a657;\n  color: #f1f1f1;\n}\n#T_b1a6d_row0_col1, #T_b1a6d_row1_col3, #T_b1a6d_row4_col2, #T_b1a6d_row6_col1 {\n  background-color: #006837;\n  color: #f1f1f1;\n}\n#T_b1a6d_row0_col2 {\n  background-color: #84ca66;\n  color: #000000;\n}\n#T_b1a6d_row0_col3 {\n  background-color: #69be63;\n  color: #f1f1f1;\n}\n#T_b1a6d_row1_col0 {\n  background-color: #d5ed88;\n  color: #000000;\n}\n#T_b1a6d_row1_col1 {\n  background-color: #fdb365;\n  color: #000000;\n}\n#T_b1a6d_row1_col2, #T_b1a6d_row2_col0 {\n  background-color: #fdbb6c;\n  color: #000000;\n}\n#T_b1a6d_row2_col1 {\n  background-color: #fffab6;\n  color: #000000;\n}\n#T_b1a6d_row2_col2 {\n  background-color: #fba05b;\n  color: #000000;\n}\n#T_b1a6d_row2_col3 {\n  background-color: #f57547;\n  color: #f1f1f1;\n}\n#T_b1a6d_row3_col0 {\n  background-color: #c9e881;\n  color: #000000;\n}\n#T_b1a6d_row3_col1 {\n  background-color: #06733d;\n  color: #f1f1f1;\n}\n#T_b1a6d_row3_col2, #T_b1a6d_row6_col0 {\n  background-color: #9dd569;\n  color: #000000;\n}\n#T_b1a6d_row3_col3 {\n  background-color: #f57245;\n  color: #f1f1f1;\n}\n#T_b1a6d_row4_col0 {\n  background-color: #87cb67;\n  color: #000000;\n}\n#T_b1a6d_row4_col1 {\n  background-color: #15904c;\n  color: #f1f1f1;\n}\n#T_b1a6d_row4_col3 {\n  background-color: #fdad60;\n  color: #000000;\n}\n#T_b1a6d_row5_col0 {\n  background-color: #a2d76a;\n  color: #000000;\n}\n#T_b1a6d_row5_col1 {\n  background-color: #1b9950;\n  color: #f1f1f1;\n}\n#T_b1a6d_row5_col2 {\n  background-color: #eef8a8;\n  color: #000000;\n}\n#T_b1a6d_row5_col3, #T_b1a6d_row7_col3 {\n  background-color: #b5df74;\n  color: #000000;\n}\n#T_b1a6d_row6_col2 {\n  background-color: #f99153;\n  color: #000000;\n}\n#T_b1a6d_row6_col3 {\n  background-color: #6ec064;\n  color: #000000;\n}\n#T_b1a6d_row7_col0 {\n  background-color: #dcf08f;\n  color: #000000;\n}\n#T_b1a6d_row7_col1 {\n  background-color: #fdb163;\n  color: #000000;\n}\n#T_b1a6d_row7_col2 {\n  background-color: #63bc62;\n  color: #f1f1f1;\n}\n#T_b1a6d_row8_col0 {\n  background-color: #fee18d;\n  color: #000000;\n}\n#T_b1a6d_row8_col1 {\n  background-color: #c7e77f;\n  color: #000000;\n}\n#T_b1a6d_row8_col2 {\n  background-color: #fec877;\n  color: #000000;\n}\n#T_b1a6d_row8_col3 {\n  background-color: #f67c4a;\n  color: #f1f1f1;\n}\n</style>\n<table id=\"T_b1a6d\">\n  <thead>\n    <tr>\n      <th class=\"blank level0\" >&nbsp;</th>\n      <th id=\"T_b1a6d_level0_col0\" class=\"col_heading level0 col0\" >running_rating</th>\n      <th id=\"T_b1a6d_level0_col1\" class=\"col_heading level0 col1\" >hustle</th>\n      <th id=\"T_b1a6d_level0_col2\" class=\"col_heading level0 col2\" >stealth</th>\n      <th id=\"T_b1a6d_level0_col3\" class=\"col_heading level0 col3\" >dodge</th>\n    </tr>\n    <tr>\n      <th class=\"index_name level0\" >player_name</th>\n      <th class=\"blank col0\" >&nbsp;</th>\n      <th class=\"blank col1\" >&nbsp;</th>\n      <th class=\"blank col2\" >&nbsp;</th>\n      <th class=\"blank col3\" >&nbsp;</th>\n    </tr>\n  </thead>\n  <tbody>\n    <tr>\n      <th id=\"T_b1a6d_level0_row0\" class=\"row_heading level0 row0\" >Amos Parveen</th>\n      <td id=\"T_b1a6d_row0_col0\" class=\"data row0 col0\" >0.859572</td>\n      <td id=\"T_b1a6d_row0_col1\" class=\"data row0 col1\" >1.031771</td>\n      <td id=\"T_b1a6d_row0_col2\" class=\"data row0 col2\" >0.752857</td>\n      <td id=\"T_b1a6d_row0_col3\" class=\"data row0 col3\" >0.794087</td>\n    </tr>\n    <tr>\n      <th id=\"T_b1a6d_level0_row1\" class=\"row_heading level0 row1\" >Lucas Petty</th>\n      <td id=\"T_b1a6d_row1_col0\" class=\"data row1 col0\" >0.609191</td>\n      <td id=\"T_b1a6d_row1_col1\" class=\"data row1 col1\" >0.310580</td>\n      <td id=\"T_b1a6d_row1_col2\" class=\"data row1 col2\" >0.327212</td>\n      <td id=\"T_b1a6d_row1_col3\" class=\"data row1 col3\" >1.189782</td>\n    </tr>\n    <tr>\n      <th id=\"T_b1a6d_level0_row2\" class=\"row_heading level0 row2\" >Ariadne Amaat</th>\n      <td id=\"T_b1a6d_row2_col0\" class=\"data row2 col0\" >0.324416</td>\n      <td id=\"T_b1a6d_row2_col1\" class=\"data row2 col1\" >0.480899</td>\n      <td id=\"T_b1a6d_row2_col2\" class=\"data row2 col2\" >0.277701</td>\n      <td id=\"T_b1a6d_row2_col3\" class=\"data row2 col3\" >0.214647</td>\n    </tr>\n    <tr>\n      <th id=\"T_b1a6d_level0_row3\" class=\"row_heading level0 row3\" >Siobhan Chark</th>\n      <td id=\"T_b1a6d_row3_col0\" class=\"data row3 col0\" >0.630757</td>\n      <td id=\"T_b1a6d_row3_col1\" class=\"data row3 col1\" >0.973609</td>\n      <td id=\"T_b1a6d_row3_col2\" class=\"data row3 col2\" >0.711409</td>\n      <td id=\"T_b1a6d_row3_col3\" class=\"data row3 col3\" >0.207253</td>\n    </tr>\n    <tr>\n      <th id=\"T_b1a6d_level0_row4\" class=\"row_heading level0 row4\" >Mars Anchor</th>\n      <td id=\"T_b1a6d_row4_col0\" class=\"data row4 col0\" >0.749784</td>\n      <td id=\"T_b1a6d_row4_col1\" class=\"data row4 col1\" >0.916467</td>\n      <td id=\"T_b1a6d_row4_col2\" class=\"data row4 col2\" >1.034204</td>\n      <td id=\"T_b1a6d_row4_col3\" class=\"data row4 col3\" >0.298681</td>\n    </tr>\n    <tr>\n      <th id=\"T_b1a6d_level0_row5\" class=\"row_heading level0 row5\" >Tucker Thane</th>\n      <td id=\"T_b1a6d_row5_col0\" class=\"data row5 col0\" >0.703260</td>\n      <td id=\"T_b1a6d_row5_col1\" class=\"data row5 col1\" >0.895246</td>\n      <td id=\"T_b1a6d_row5_col2\" class=\"data row5 col2\" >0.545501</td>\n      <td id=\"T_b1a6d_row5_col3\" class=\"data row5 col3\" >0.669032</td>\n    </tr>\n    <tr>\n      <th id=\"T_b1a6d_level0_row6\" class=\"row_heading level0 row6\" >Bevan Wise</th>\n      <td id=\"T_b1a6d_row6_col0\" class=\"data row6 col0\" >0.711709</td>\n      <td id=\"T_b1a6d_row6_col1\" class=\"data row6 col1\" >1.090937</td>\n      <td id=\"T_b1a6d_row6_col2\" class=\"data row6 col2\" >0.256174</td>\n      <td id=\"T_b1a6d_row6_col3\" class=\"data row6 col3\" >0.788016</td>\n    </tr>\n    <tr>\n      <th id=\"T_b1a6d_level0_row7\" class=\"row_heading level0 row7\" >Jira Sealegs</th>\n      <td id=\"T_b1a6d_row7_col0\" class=\"data row7 col0\" >0.593391</td>\n      <td id=\"T_b1a6d_row7_col1\" class=\"data row7 col1\" >0.308583</td>\n      <td id=\"T_b1a6d_row7_col2\" class=\"data row7 col2\" >0.801453</td>\n      <td id=\"T_b1a6d_row7_col3\" class=\"data row7 col3\" >0.670136</td>\n    </tr>\n    <tr>\n      <th id=\"T_b1a6d_level0_row8\" class=\"row_heading level0 row8\" >Dimi Wobbler</th>\n      <td id=\"T_b1a6d_row8_col0\" class=\"data row8 col0\" >0.404724</td>\n      <td id=\"T_b1a6d_row8_col1\" class=\"data row8 col1\" >0.633270</td>\n      <td id=\"T_b1a6d_row8_col2\" class=\"data row8 col2\" >0.354832</td>\n      <td id=\"T_b1a6d_row8_col3\" class=\"data row8 col3\" >0.226070</td>\n    </tr>\n  </tbody>\n</table>\n"
     },
     "metadata": {},
     "output_type": "display_data"
    },
    {
     "data": {
      "text/plain": "<IPython.core.display.Markdown object>",
      "text/markdown": "#### Defense"
     },
     "metadata": {},
     "output_type": "display_data"
    },
    {
     "data": {
      "text/plain": "<pandas.io.formats.style.Styler at 0x19fbbb26df0>",
      "text/html": "<style type=\"text/css\">\n#T_afc75_row0_col0, #T_afc75_row0_col1, #T_afc75_row3_col3, #T_afc75_row7_col3 {\n  background-color: #006837;\n  color: #f1f1f1;\n}\n#T_afc75_row0_col2 {\n  background-color: #15904c;\n  color: #f1f1f1;\n}\n#T_afc75_row0_col3 {\n  background-color: #097940;\n  color: #f1f1f1;\n}\n#T_afc75_row1_col0 {\n  background-color: #6bbf64;\n  color: #000000;\n}\n#T_afc75_row1_col1 {\n  background-color: #f4fab0;\n  color: #000000;\n}\n#T_afc75_row1_col2 {\n  background-color: #3ca959;\n  color: #f1f1f1;\n}\n#T_afc75_row1_col3 {\n  background-color: #026c39;\n  color: #f1f1f1;\n}\n#T_afc75_row2_col0 {\n  background-color: #fed481;\n  color: #000000;\n}\n#T_afc75_row2_col1 {\n  background-color: #fbfdba;\n  color: #000000;\n}\n#T_afc75_row2_col2 {\n  background-color: #fdb567;\n  color: #000000;\n}\n#T_afc75_row2_col3 {\n  background-color: #fdb163;\n  color: #000000;\n}\n#T_afc75_row3_col0 {\n  background-color: #d7ee8a;\n  color: #000000;\n}\n#T_afc75_row3_col1 {\n  background-color: #fff1a8;\n  color: #000000;\n}\n#T_afc75_row3_col2 {\n  background-color: #fdc372;\n  color: #000000;\n}\n#T_afc75_row4_col0 {\n  background-color: #82c966;\n  color: #000000;\n}\n#T_afc75_row4_col1 {\n  background-color: #199750;\n  color: #f1f1f1;\n}\n#T_afc75_row4_col2, #T_afc75_row5_col1 {\n  background-color: #91d068;\n  color: #000000;\n}\n#T_afc75_row4_col3, #T_afc75_row7_col1 {\n  background-color: #c7e77f;\n  color: #000000;\n}\n#T_afc75_row5_col0 {\n  background-color: #87cb67;\n  color: #000000;\n}\n#T_afc75_row5_col2 {\n  background-color: #bbe278;\n  color: #000000;\n}\n#T_afc75_row5_col3 {\n  background-color: #39a758;\n  color: #f1f1f1;\n}\n#T_afc75_row6_col0 {\n  background-color: #d1ec86;\n  color: #000000;\n}\n#T_afc75_row6_col1 {\n  background-color: #1e9a51;\n  color: #f1f1f1;\n}\n#T_afc75_row6_col2 {\n  background-color: #fffebe;\n  color: #000000;\n}\n#T_afc75_row6_col3 {\n  background-color: #feefa3;\n  color: #000000;\n}\n#T_afc75_row7_col0 {\n  background-color: #45ad5b;\n  color: #f1f1f1;\n}\n#T_afc75_row7_col2 {\n  background-color: #54b45f;\n  color: #f1f1f1;\n}\n#T_afc75_row8_col0 {\n  background-color: #feca79;\n  color: #000000;\n}\n#T_afc75_row8_col1 {\n  background-color: #fff0a6;\n  color: #000000;\n}\n#T_afc75_row8_col2 {\n  background-color: #fecc7b;\n  color: #000000;\n}\n#T_afc75_row8_col3 {\n  background-color: #f98e52;\n  color: #f1f1f1;\n}\n</style>\n<table id=\"T_afc75\">\n  <thead>\n    <tr>\n      <th class=\"blank level0\" >&nbsp;</th>\n      <th id=\"T_afc75_level0_col0\" class=\"col_heading level0 col0\" >defense_rating</th>\n      <th id=\"T_afc75_level0_col1\" class=\"col_heading level0 col1\" >reach</th>\n      <th id=\"T_afc75_level0_col2\" class=\"col_heading level0 col2\" >magnet</th>\n      <th id=\"T_afc75_level0_col3\" class=\"col_heading level0 col3\" >reflex</th>\n    </tr>\n    <tr>\n      <th class=\"index_name level0\" >player_name</th>\n      <th class=\"blank col0\" >&nbsp;</th>\n      <th class=\"blank col1\" >&nbsp;</th>\n      <th class=\"blank col2\" >&nbsp;</th>\n      <th class=\"blank col3\" >&nbsp;</th>\n    </tr>\n  </thead>\n  <tbody>\n    <tr>\n      <th id=\"T_afc75_level0_row0\" class=\"row_heading level0 row0\" >Amos Parveen</th>\n      <td id=\"T_afc75_row0_col0\" class=\"data row0 col0\" >1.016676</td>\n      <td id=\"T_afc75_row0_col1\" class=\"data row0 col1\" >1.168193</td>\n      <td id=\"T_afc75_row0_col2\" class=\"data row0 col2\" >0.917303</td>\n      <td id=\"T_afc75_row0_col3\" class=\"data row0 col3\" >0.964531</td>\n    </tr>\n    <tr>\n      <th id=\"T_afc75_level0_row1\" class=\"row_heading level0 row1\" >Lucas Petty</th>\n      <td id=\"T_afc75_row1_col0\" class=\"data row1 col0\" >0.791509</td>\n      <td id=\"T_afc75_row1_col1\" class=\"data row1 col1\" >0.530230</td>\n      <td id=\"T_afc75_row1_col2\" class=\"data row1 col2\" >0.854762</td>\n      <td id=\"T_afc75_row1_col3\" class=\"data row1 col3\" >0.989537</td>\n    </tr>\n    <tr>\n      <th id=\"T_afc75_level0_row2\" class=\"row_heading level0 row2\" >Ariadne Amaat</th>\n      <td id=\"T_afc75_row2_col0\" class=\"data row2 col0\" >0.377225</td>\n      <td id=\"T_afc75_row2_col1\" class=\"data row2 col1\" >0.508719</td>\n      <td id=\"T_afc75_row2_col2\" class=\"data row2 col2\" >0.316163</td>\n      <td id=\"T_afc75_row2_col3\" class=\"data row2 col3\" >0.306793</td>\n    </tr>\n    <tr>\n      <th id=\"T_afc75_level0_row3\" class=\"row_heading level0 row3\" >Siobhan Chark</th>\n      <td id=\"T_afc75_row3_col0\" class=\"data row3 col0\" >0.602714</td>\n      <td id=\"T_afc75_row3_col1\" class=\"data row3 col1\" >0.455250</td>\n      <td id=\"T_afc75_row3_col2\" class=\"data row3 col2\" >0.339863</td>\n      <td id=\"T_afc75_row3_col3\" class=\"data row3 col3\" >1.013027</td>\n    </tr>\n    <tr>\n      <th id=\"T_afc75_level0_row4\" class=\"row_heading level0 row4\" >Mars Anchor</th>\n      <td id=\"T_afc75_row4_col0\" class=\"data row4 col0\" >0.756890</td>\n      <td id=\"T_afc75_row4_col1\" class=\"data row4 col1\" >0.901738</td>\n      <td id=\"T_afc75_row4_col2\" class=\"data row4 col2\" >0.733698</td>\n      <td id=\"T_afc75_row4_col3\" class=\"data row4 col3\" >0.635232</td>\n    </tr>\n    <tr>\n      <th id=\"T_afc75_level0_row5\" class=\"row_heading level0 row5\" >Tucker Thane</th>\n      <td id=\"T_afc75_row5_col0\" class=\"data row5 col0\" >0.749560</td>\n      <td id=\"T_afc75_row5_col1\" class=\"data row5 col1\" >0.731369</td>\n      <td id=\"T_afc75_row5_col2\" class=\"data row5 col2\" >0.659204</td>\n      <td id=\"T_afc75_row5_col3\" class=\"data row5 col3\" >0.858105</td>\n    </tr>\n    <tr>\n      <th id=\"T_afc75_level0_row6\" class=\"row_heading level0 row6\" >Bevan Wise</th>\n      <td id=\"T_afc75_row6_col0\" class=\"data row6 col0\" >0.614168</td>\n      <td id=\"T_afc75_row6_col1\" class=\"data row6 col1\" >0.894289</td>\n      <td id=\"T_afc75_row6_col2\" class=\"data row6 col2\" >0.499765</td>\n      <td id=\"T_afc75_row6_col3\" class=\"data row6 col3\" >0.448449</td>\n    </tr>\n    <tr>\n      <th id=\"T_afc75_level0_row7\" class=\"row_heading level0 row7\" >Jira Sealegs</th>\n      <td id=\"T_afc75_row7_col0\" class=\"data row7 col0\" >0.841516</td>\n      <td id=\"T_afc75_row7_col1\" class=\"data row7 col1\" >0.633704</td>\n      <td id=\"T_afc75_row7_col2\" class=\"data row7 col2\" >0.821175</td>\n      <td id=\"T_afc75_row7_col3\" class=\"data row7 col3\" >1.069669</td>\n    </tr>\n    <tr>\n      <th id=\"T_afc75_level0_row8\" class=\"row_heading level0 row8\" >Dimi Wobbler</th>\n      <td id=\"T_afc75_row8_col0\" class=\"data row8 col0\" >0.355937</td>\n      <td id=\"T_afc75_row8_col1\" class=\"data row8 col1\" >0.452692</td>\n      <td id=\"T_afc75_row8_col2\" class=\"data row8 col2\" >0.362153</td>\n      <td id=\"T_afc75_row8_col3\" class=\"data row8 col3\" >0.252967</td>\n    </tr>\n  </tbody>\n</table>\n"
     },
     "metadata": {},
     "output_type": "display_data"
    }
   ],
   "source": [
    "spirit_boost = pies.copy()\n",
    "boost_stats(spirit_boost, 'running', 0.20)\n",
    "boost_stats(spirit_boost, 'defense', 0.20)\n",
    "display(Markdown(\"#### Running\"))\n",
    "display(set_heatmap(get_running_stlats(spirit_boost), maxVal=1))\n",
    "display(Markdown(\"#### Defense\"))\n",
    "display(set_heatmap(get_defense_stlats(spirit_boost), maxVal=1))"
   ],
   "metadata": {
    "collapsed": false
   }
  },
  {
   "cell_type": "markdown",
   "source": [
    "### Strike Zero\n",
    "\n",
    "**A Division Rival will receive the worst Overall Player from the Black Hole.**\n",
    "\n",
    "Will give a team a bad player. Bad if it hits us."
   ],
   "metadata": {
    "collapsed": false
   }
  },
  {
   "cell_type": "markdown",
   "source": [
    "### Yeet\n",
    "\n",
    "**Send your Team's worst Player into the Black Hole and receive a random Player back.**"
   ],
   "metadata": {
    "collapsed": false
   }
  },
  {
   "cell_type": "code",
   "execution_count": 26,
   "outputs": [
    {
     "data": {
      "text/plain": "<IPython.core.display.Markdown object>",
      "text/markdown": "If the worst Player is based on Overall Rating then it is `Ariadne Amaat`. If it is based on the worst rating in their relative position then it is `Augusto Reddick`."
     },
     "metadata": {},
     "output_type": "display_data"
    }
   ],
   "source": [
    "display(Markdown(f\"If the worst Player is based on Overall Rating then it is `{worst_overall}`. If it is based on the worst rating in their relative position then it is `{worst_position}`.\"))"
   ],
   "metadata": {
    "collapsed": false
   }
  },
  {
   "cell_type": "markdown",
   "source": [],
   "metadata": {
    "collapsed": false
   }
  }
 ],
 "metadata": {
  "kernelspec": {
   "display_name": "Python 3",
   "language": "python",
   "name": "python3"
  },
  "language_info": {
   "codemirror_mode": {
    "name": "ipython",
    "version": 2
   },
   "file_extension": ".py",
   "mimetype": "text/x-python",
   "name": "python",
   "nbconvert_exporter": "python",
   "pygments_lexer": "ipython2",
   "version": "2.7.6"
  }
 },
 "nbformat": 4,
 "nbformat_minor": 0
}
