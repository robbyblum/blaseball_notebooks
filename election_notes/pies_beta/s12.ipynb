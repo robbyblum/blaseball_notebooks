{
 "cells": [
  {
   "cell_type": "markdown",
   "metadata": {},
   "source": [
    "# Season 12 Election Notes\n",
    "\n",
    ">**FORBIDDEN KNOWLEDGE WARNING**\n",
    ">\n",
    ">This document contains some information that is not currently present on the main site and may be considered spoilers.\n",
    ">Continue at your own discretion. Some information in this document cannot be shared on the Discord without spoiler tags.\n",
    "\n",
    "Notes:\n",
    "* Welcome back, Pies! The Election Notes have a new format! Let me know if you find any bugs or issues.\n",
    "* Anaylsis of election items are generally based on how those items or similar items worked in previous seasons. However due to the number of changes over the Grand Siesta it is possible this is less accurate than normal."
   ]
  },
  {
   "cell_type": "code",
   "execution_count": 1,
   "metadata": {
    "pycharm": {
     "name": "#%%\n"
    }
   },
   "outputs": [],
   "source": [
    "%matplotlib inline\n",
    "from blaseball_mike.models import *\n",
    "import plotly.express as plot\n",
    "import plotly.io as _pio\n",
    "import plotly.subplots as subplot\n",
    "\n",
    "import os\n",
    "import sys\n",
    "pdir = os.path.abspath(os.path.join(os.path.dirname(''), os.path.pardir))\n",
    "sys.path.append(pdir)\n",
    "from display import *\n",
    "from blessings import *\n",
    "sys.path.remove(pdir)\n",
    "\n",
    "_pio.renderers.default = \"notebook_connected\"\n",
    "\n",
    "pies = Team.load_by_name(\"Philly Pies\")"
   ]
  },
  {
   "cell_type": "code",
   "execution_count": 2,
   "outputs": [
    {
     "name": "stdout",
     "output_type": "stream",
     "text": [
      "Last Updated Season 12, Day 78\n"
     ]
    }
   ],
   "source": [
    "sim = SimulationData.load()\n",
    "print(f\"Last Updated Season {sim.season}, Day {sim.day}\")"
   ],
   "metadata": {
    "collapsed": false,
    "pycharm": {
     "name": "#%%\n"
    }
   }
  },
  {
   "cell_type": "markdown",
   "metadata": {},
   "source": [
    "---\n",
    "## Decrees\n",
    "\n",
    "Decrees are chosen by majority votes across all teams. `1` decree will pass this season."
   ]
  },
  {
   "cell_type": "markdown",
   "metadata": {},
   "source": [
    "### Title Belt\n",
    "**Win the Championship to claim the Belt, then Defend it in Title Matches next Season. The Holder of the Belt is\n",
    "protected from Steals and Swaps and guaranteed a Postseason Birth. Should the Holder win the Championship, they will\n",
    "claim a Title.**\n",
    "\n",
    "This decree would benefit from teams that consistently perform well and will win Championships often. It is unknown what\n",
    "a \"Title\" or \"Title Matches\" are."
   ]
  },
  {
   "cell_type": "markdown",
   "metadata": {},
   "source": [
    "### Pennants\n",
    "**The Champion of each season will play the following season under Pennants, starting every game at a severe\n",
    "disadvantage. Win the Internet Series under Pennants in order to Repent.**\n",
    "\n",
    "This decree would act as a counterbalance against teams that win the championship, and would benefit teams that perform\n",
    "poorly."
   ]
  },
  {
   "cell_type": "markdown",
   "metadata": {},
   "source": [
    "### Based Evolution\n",
    "**Every Third Championship a Team wins will cause the Team and its Players to Evolve. Players that round the phylogenic\n",
    "Bases will get to go Home.**\n",
    "\n",
    "Evolution, \"the phylogenic Bases\", and \"Home\" in this case are unknown. The Pies would be very close to achieving this\n",
    "if it passed as the team already has 2 Championship wins."
   ]
  },
  {
   "cell_type": "markdown",
   "metadata": {},
   "source": [
    "___\n",
    "## Wills\n",
    "\n",
    "Will are selected for each team by raffle. Each team will draw `2` random wills, where wills with more votes are more\n",
    "likely to be selected."
   ]
  },
  {
   "cell_type": "markdown",
   "metadata": {},
   "source": [
    "### Plunder\n",
    "**Steal a Player from the Idols board. Send a random Player from your Team back.**\n",
    "\n",
    "Due to the random nature of the target on our team, this tests the best case (swapping the Best Player on the Idol Board\n",
    "for a position with our worst player in that position) and the worst case (swaping the Best Player on the Idol Board for\n",
    "a position with our best player in that position.\n",
    "\n",
    "**Best Case Swap:**"
   ]
  },
  {
   "cell_type": "code",
   "execution_count": 3,
   "metadata": {
    "pycharm": {
     "name": "#%%\n"
    }
   },
   "outputs": [
    {
     "name": "stdout",
     "output_type": "stream",
     "text": [
      "Batting: Swap Nagomi Mcdaniel for Farrell Seagull\n"
     ]
    },
    {
     "data": {
      "text/plain": "                         Pies\nbatting_change      +11.3406%\npitching_change      +0.0000%\nbaserunning_change   +9.4860%\ndefense_change       +8.5640%",
      "text/html": "<div>\n<style scoped>\n    .dataframe tbody tr th:only-of-type {\n        vertical-align: middle;\n    }\n\n    .dataframe tbody tr th {\n        vertical-align: top;\n    }\n\n    .dataframe thead th {\n        text-align: right;\n    }\n</style>\n<table border=\"1\" class=\"dataframe\">\n  <thead>\n    <tr style=\"text-align: right;\">\n      <th></th>\n      <th>Pies</th>\n    </tr>\n  </thead>\n  <tbody>\n    <tr>\n      <th>batting_change</th>\n      <td>+11.3406%</td>\n    </tr>\n    <tr>\n      <th>pitching_change</th>\n      <td>+0.0000%</td>\n    </tr>\n    <tr>\n      <th>baserunning_change</th>\n      <td>+9.4860%</td>\n    </tr>\n    <tr>\n      <th>defense_change</th>\n      <td>+8.5640%</td>\n    </tr>\n  </tbody>\n</table>\n</div>"
     },
     "execution_count": 3,
     "metadata": {},
     "output_type": "execute_result"
    }
   ],
   "source": [
    "idols = [x.player for x in Idol.load().values()]\n",
    "\n",
    "idols.sort(key=lambda x: x.batting_rating, reverse=True)\n",
    "best_batting_idol = idols[0]\n",
    "idols.sort(key=lambda x: x.pitching_rating, reverse=True)\n",
    "best_pitching_idol = idols[0]\n",
    "\n",
    "\n",
    "worst_batter = sort_lineup(pies, 1)[0]\n",
    "print(f\"Batting: Swap {best_batting_idol.name} for {worst_batter.name}\")\n",
    "\n",
    "pandas.DataFrame(replace_player(pies, worst_batter, bat_star=best_batting_idol.batting_stars, run_star=best_batting_idol.baserunning_stars, def_star=best_batting_idol.defense_stars))"
   ]
  },
  {
   "cell_type": "code",
   "execution_count": 4,
   "outputs": [
    {
     "name": "stdout",
     "output_type": "stream",
     "text": [
      "Pitching: Swap Nagomi Mcdaniel for Bright Zimmerman\n"
     ]
    },
    {
     "data": {
      "text/plain": "                         Pies\nbatting_change       +0.0000%\npitching_change     +19.6431%\nbaserunning_change   +0.0000%\ndefense_change       +0.0000%",
      "text/html": "<div>\n<style scoped>\n    .dataframe tbody tr th:only-of-type {\n        vertical-align: middle;\n    }\n\n    .dataframe tbody tr th {\n        vertical-align: top;\n    }\n\n    .dataframe thead th {\n        text-align: right;\n    }\n</style>\n<table border=\"1\" class=\"dataframe\">\n  <thead>\n    <tr style=\"text-align: right;\">\n      <th></th>\n      <th>Pies</th>\n    </tr>\n  </thead>\n  <tbody>\n    <tr>\n      <th>batting_change</th>\n      <td>+0.0000%</td>\n    </tr>\n    <tr>\n      <th>pitching_change</th>\n      <td>+19.6431%</td>\n    </tr>\n    <tr>\n      <th>baserunning_change</th>\n      <td>+0.0000%</td>\n    </tr>\n    <tr>\n      <th>defense_change</th>\n      <td>+0.0000%</td>\n    </tr>\n  </tbody>\n</table>\n</div>"
     },
     "execution_count": 4,
     "metadata": {},
     "output_type": "execute_result"
    }
   ],
   "source": [
    "worst_pitcher = sort_rotation(pies, 1)[0]\n",
    "print(f\"Pitching: Swap {best_pitching_idol.name} for {worst_pitcher.name}\")\n",
    "\n",
    "pandas.DataFrame(replace_player(pies, worst_pitcher, pitch_star=best_pitching_idol.pitching_stars))\n"
   ],
   "metadata": {
    "collapsed": false,
    "pycharm": {
     "name": "#%%\n"
    }
   }
  },
  {
   "cell_type": "markdown",
   "source": [
    "**Worst Case Swap:**"
   ],
   "metadata": {
    "collapsed": false,
    "pycharm": {
     "name": "#%% md\n"
    }
   }
  },
  {
   "cell_type": "code",
   "execution_count": 5,
   "outputs": [
    {
     "name": "stdout",
     "output_type": "stream",
     "text": [
      "Batting: Swap Nagomi Mcdaniel for Jaxon Buckley\n"
     ]
    },
    {
     "data": {
      "text/plain": "                        Pies\nbatting_change      +1.2015%\npitching_change     +0.0000%\nbaserunning_change  +6.3892%\ndefense_change      +6.9881%",
      "text/html": "<div>\n<style scoped>\n    .dataframe tbody tr th:only-of-type {\n        vertical-align: middle;\n    }\n\n    .dataframe tbody tr th {\n        vertical-align: top;\n    }\n\n    .dataframe thead th {\n        text-align: right;\n    }\n</style>\n<table border=\"1\" class=\"dataframe\">\n  <thead>\n    <tr style=\"text-align: right;\">\n      <th></th>\n      <th>Pies</th>\n    </tr>\n  </thead>\n  <tbody>\n    <tr>\n      <th>batting_change</th>\n      <td>+1.2015%</td>\n    </tr>\n    <tr>\n      <th>pitching_change</th>\n      <td>+0.0000%</td>\n    </tr>\n    <tr>\n      <th>baserunning_change</th>\n      <td>+6.3892%</td>\n    </tr>\n    <tr>\n      <th>defense_change</th>\n      <td>+6.9881%</td>\n    </tr>\n  </tbody>\n</table>\n</div>"
     },
     "execution_count": 5,
     "metadata": {},
     "output_type": "execute_result"
    }
   ],
   "source": [
    "best_batter = sort_lineup(pies, 1, order=\"best\")[0]\n",
    "print(f\"Batting: Swap {best_batting_idol.name} for {best_batter.name}\")\n",
    "\n",
    "pandas.DataFrame(replace_player(pies, best_batter, bat_star=best_batting_idol.batting_stars, run_star=best_batting_idol.baserunning_stars, def_star=best_batting_idol.defense_stars))"
   ],
   "metadata": {
    "collapsed": false,
    "pycharm": {
     "name": "#%%\n"
    }
   }
  },
  {
   "cell_type": "code",
   "execution_count": 6,
   "outputs": [
    {
     "name": "stdout",
     "output_type": "stream",
     "text": [
      "Pitching: Swap Nagomi Mcdaniel for Elvis Figueroa\n"
     ]
    },
    {
     "data": {
      "text/plain": "                        Pies\nbatting_change      +0.0000%\npitching_change     +7.0067%\nbaserunning_change  +0.0000%\ndefense_change      +0.0000%",
      "text/html": "<div>\n<style scoped>\n    .dataframe tbody tr th:only-of-type {\n        vertical-align: middle;\n    }\n\n    .dataframe tbody tr th {\n        vertical-align: top;\n    }\n\n    .dataframe thead th {\n        text-align: right;\n    }\n</style>\n<table border=\"1\" class=\"dataframe\">\n  <thead>\n    <tr style=\"text-align: right;\">\n      <th></th>\n      <th>Pies</th>\n    </tr>\n  </thead>\n  <tbody>\n    <tr>\n      <th>batting_change</th>\n      <td>+0.0000%</td>\n    </tr>\n    <tr>\n      <th>pitching_change</th>\n      <td>+7.0067%</td>\n    </tr>\n    <tr>\n      <th>baserunning_change</th>\n      <td>+0.0000%</td>\n    </tr>\n    <tr>\n      <th>defense_change</th>\n      <td>+0.0000%</td>\n    </tr>\n  </tbody>\n</table>\n</div>"
     },
     "execution_count": 6,
     "metadata": {},
     "output_type": "execute_result"
    }
   ],
   "source": [
    "best_pitcher = sort_rotation(pies, 1, order=\"best\")[0]\n",
    "print(f\"Pitching: Swap {best_pitching_idol.name} for {best_pitcher.name}\")\n",
    "\n",
    "pandas.DataFrame(replace_player(pies, best_pitcher, pitch_star=best_pitching_idol.pitching_stars))\n"
   ],
   "metadata": {
    "collapsed": false,
    "pycharm": {
     "name": "#%%\n"
    }
   }
  },
  {
   "cell_type": "markdown",
   "metadata": {},
   "source": [
    "### Exchange\n",
    "**Swap a Player from a Team in the opposite Subleague with a Player from your Team.**\n",
    "\n",
    "There are 139 possible Wild League players to swap with our 12 existing players, which is too many permuations for me to list here. Instead, here's the list of the top 10 players available to choose from by star rating. For maximum impact it is recommended we swap the player with the worst batter or pitcher respectively.\n",
    "\n",
    "Note that position does not matter for the swap, so a player that is currently batting can still be added as a pitcher and vice-versa."
   ]
  },
  {
   "cell_type": "markdown",
   "metadata": {},
   "source": [
    "**Best Batter options and Pies worst Batter:**"
   ]
  },
  {
   "cell_type": "code",
   "execution_count": 7,
   "metadata": {
    "pycharm": {
     "name": "#%%\n"
    }
   },
   "outputs": [
    {
     "data": {
      "text/plain": "<pandas.io.formats.style.Styler at 0x1cdfa0d0b50>",
      "text/html": "<style  type=\"text/css\" >\n#T_0733a_row0_col0,#T_0733a_row0_col2,#T_0733a_row0_col3,#T_0733a_row0_col4,#T_0733a_row0_col6,#T_0733a_row1_col0,#T_0733a_row1_col2,#T_0733a_row1_col8,#T_0733a_row2_col0,#T_0733a_row2_col1,#T_0733a_row2_col3,#T_0733a_row2_col4,#T_0733a_row3_col0,#T_0733a_row3_col1,#T_0733a_row3_col2,#T_0733a_row3_col4,#T_0733a_row4_col0,#T_0733a_row4_col1,#T_0733a_row4_col8,#T_0733a_row5_col0,#T_0733a_row5_col2,#T_0733a_row5_col3,#T_0733a_row5_col4,#T_0733a_row6_col0,#T_0733a_row6_col2,#T_0733a_row6_col3,#T_0733a_row6_col4,#T_0733a_row6_col6,#T_0733a_row7_col1,#T_0733a_row7_col3,#T_0733a_row7_col6,#T_0733a_row7_col8,#T_0733a_row8_col2,#T_0733a_row8_col4,#T_0733a_row9_col1,#T_0733a_row9_col2,#T_0733a_row9_col6{\n            background-color:  #006837;\n            color:  #f1f1f1;\n        }#T_0733a_row0_col1,#T_0733a_row1_col6,#T_0733a_row7_col0{\n            background-color:  #07753e;\n            color:  #f1f1f1;\n        }#T_0733a_row0_col5{\n            background-color:  #c41e27;\n            color:  #f1f1f1;\n            background-color:  #108647;\n            color:  #000000;\n        }#T_0733a_row0_col7,#T_0733a_row1_col7,#T_0733a_row2_col7,#T_0733a_row3_col7,#T_0733a_row4_col7,#T_0733a_row5_col7,#T_0733a_row7_col7,#T_0733a_row8_col7,#T_0733a_row9_col7{\n            background-color:  #d62f27;\n            color:  #f1f1f1;\n            background-color:  #199750;\n            color:  #000000;\n        }#T_0733a_row0_col8{\n            background-color:  #026c39;\n            color:  #f1f1f1;\n        }#T_0733a_row1_col1{\n            background-color:  #57b65f;\n            color:  #000000;\n        }#T_0733a_row1_col3{\n            background-color:  #3ca959;\n            color:  #000000;\n        }#T_0733a_row1_col4,#T_0733a_row5_col6{\n            background-color:  #016a38;\n            color:  #f1f1f1;\n        }#T_0733a_row1_col5{\n            background-color:  #fee695;\n            color:  #000000;\n            background-color:  #e0f295;\n            color:  #000000;\n        }#T_0733a_row2_col2{\n            background-color:  #199750;\n            color:  #000000;\n        }#T_0733a_row2_col5{\n            background-color:  #a50026;\n            color:  #f1f1f1;\n            background-color:  #006837;\n            color:  #f1f1f1;\n        }#T_0733a_row2_col6{\n            background-color:  #feca79;\n            color:  #000000;\n        }#T_0733a_row2_col8{\n            background-color:  #70c164;\n            color:  #000000;\n        }#T_0733a_row3_col3,#T_0733a_row9_col4{\n            background-color:  #93d168;\n            color:  #000000;\n        }#T_0733a_row3_col5{\n            background-color:  #f67f4b;\n            color:  #000000;\n            background-color:  #78c565;\n            color:  #000000;\n        }#T_0733a_row3_col6{\n            background-color:  #7dc765;\n            color:  #000000;\n        }#T_0733a_row3_col8{\n            background-color:  #ecf7a6;\n            color:  #000000;\n        }#T_0733a_row4_col2{\n            background-color:  #91d068;\n            color:  #000000;\n        }#T_0733a_row4_col3{\n            background-color:  #18954f;\n            color:  #000000;\n        }#T_0733a_row4_col4{\n            background-color:  #097940;\n            color:  #f1f1f1;\n        }#T_0733a_row4_col5{\n            background-color:  #fa9656;\n            color:  #000000;\n            background-color:  #8ecf67;\n            color:  #000000;\n        }#T_0733a_row4_col6{\n            background-color:  #1e9a51;\n            color:  #000000;\n        }#T_0733a_row5_col1{\n            background-color:  #63bc62;\n            color:  #000000;\n        }#T_0733a_row5_col5{\n            background-color:  #f57547;\n            color:  #000000;\n            background-color:  #6ec064;\n            color:  #000000;\n        }#T_0733a_row5_col8{\n            background-color:  #e9f6a1;\n            color:  #000000;\n        }#T_0733a_row6_col1,#T_0733a_row6_col8{\n            background-color:  #6ec064;\n            color:  #000000;\n        }#T_0733a_row6_col5{\n            background-color:  #f7fcb4;\n            color:  #000000;\n            background-color:  #fff8b4;\n            color:  #000000;\n        }#T_0733a_row6_col7{\n            background-color:  #b71126;\n            color:  #f1f1f1;\n            background-color:  #097940;\n            color:  #f1f1f1;\n        }#T_0733a_row7_col2{\n            background-color:  #15904c;\n            color:  #000000;\n        }#T_0733a_row7_col4{\n            background-color:  #fbfdba;\n            color:  #000000;\n        }#T_0733a_row7_col5{\n            background-color:  #feca79;\n            color:  #000000;\n            background-color:  #c3e67d;\n            color:  #000000;\n        }#T_0733a_row8_col0{\n            background-color:  #0e8245;\n            color:  #f1f1f1;\n        }#T_0733a_row8_col1{\n            background-color:  #036e3a;\n            color:  #f1f1f1;\n        }#T_0733a_row8_col3{\n            background-color:  #b5df74;\n            color:  #000000;\n        }#T_0733a_row8_col5{\n            background-color:  #feeb9d;\n            color:  #000000;\n            background-color:  #e6f59d;\n            color:  #000000;\n        }#T_0733a_row8_col6{\n            background-color:  #dff293;\n            color:  #000000;\n        }#T_0733a_row8_col8{\n            background-color:  #c3e67d;\n            color:  #000000;\n        }#T_0733a_row9_col0{\n            background-color:  #108647;\n            color:  #000000;\n        }#T_0733a_row9_col3{\n            background-color:  #fdbf6f;\n            color:  #000000;\n        }#T_0733a_row9_col5{\n            background-color:  #bfe47a;\n            color:  #000000;\n            background-color:  #fdc776;\n            color:  #000000;\n        }#T_0733a_row9_col8{\n            background-color:  #6bbf64;\n            color:  #000000;\n        }</style><table id=\"T_0733a_\" ><thead>    <tr>        <th class=\"blank level0\" ></th>        <th class=\"col_heading level0 col0\" >Batting Rating</th>        <th class=\"col_heading level0 col1\" >Thwackability</th>        <th class=\"col_heading level0 col2\" >Divinity</th>        <th class=\"col_heading level0 col3\" >Musclitude</th>        <th class=\"col_heading level0 col4\" >Moxie</th>        <th class=\"col_heading level0 col5\" >Patheticism</th>        <th class=\"col_heading level0 col6\" >Martyrdom</th>        <th class=\"col_heading level0 col7\" >Tragicness</th>        <th class=\"col_heading level0 col8\" >Buoyancy</th>    </tr></thead><tbody>\n                <tr>\n                        <th id=\"T_0733a_level0_row0\" class=\"row_heading level0 row0\" >Valentine Games</th>\n                        <td id=\"T_0733a_row0_col0\" class=\"data row0 col0\" >1.095505</td>\n                        <td id=\"T_0733a_row0_col1\" class=\"data row0 col1\" >0.968938</td>\n                        <td id=\"T_0733a_row0_col2\" class=\"data row0 col2\" >1.152424</td>\n                        <td id=\"T_0733a_row0_col3\" class=\"data row0 col3\" >1.572270</td>\n                        <td id=\"T_0733a_row0_col4\" class=\"data row0 col4\" >1.233125</td>\n                        <td id=\"T_0733a_row0_col5\" class=\"data row0 col5\" >0.064032</td>\n                        <td id=\"T_0733a_row0_col6\" class=\"data row0 col6\" >1.441402</td>\n                        <td id=\"T_0733a_row0_col7\" class=\"data row0 col7\" >0.100000</td>\n                        <td id=\"T_0733a_row0_col8\" class=\"data row0 col8\" >0.989459</td>\n            </tr>\n            <tr>\n                        <th id=\"T_0733a_level0_row1\" class=\"row_heading level0 row1\" >Fitzgerald Blackburn</th>\n                        <td id=\"T_0733a_row1_col0\" class=\"data row1 col0\" >1.044396</td>\n                        <td id=\"T_0733a_row1_col1\" class=\"data row1 col1\" >0.819049</td>\n                        <td id=\"T_0733a_row1_col2\" class=\"data row1 col2\" >1.554827</td>\n                        <td id=\"T_0733a_row1_col3\" class=\"data row1 col3\" >0.855190</td>\n                        <td id=\"T_0733a_row1_col4\" class=\"data row1 col4\" >0.993876</td>\n                        <td id=\"T_0733a_row1_col5\" class=\"data row1 col5\" >0.421207</td>\n                        <td id=\"T_0733a_row1_col6\" class=\"data row1 col6\" >0.971062</td>\n                        <td id=\"T_0733a_row1_col7\" class=\"data row1 col7\" >0.100000</td>\n                        <td id=\"T_0733a_row1_col8\" class=\"data row1 col8\" >1.473336</td>\n            </tr>\n            <tr>\n                        <th id=\"T_0733a_level0_row2\" class=\"row_heading level0 row2\" >Jacob Haynes</th>\n                        <td id=\"T_0733a_row2_col0\" class=\"data row2 col0\" >1.030265</td>\n                        <td id=\"T_0733a_row2_col1\" class=\"data row2 col1\" >1.223815</td>\n                        <td id=\"T_0733a_row2_col2\" class=\"data row2 col2\" >0.902263</td>\n                        <td id=\"T_0733a_row2_col3\" class=\"data row2 col3\" >1.061913</td>\n                        <td id=\"T_0733a_row2_col4\" class=\"data row2 col4\" >1.179008</td>\n                        <td id=\"T_0733a_row2_col5\" class=\"data row2 col5\" >0.001000</td>\n                        <td id=\"T_0733a_row2_col6\" class=\"data row2 col6\" >0.356483</td>\n                        <td id=\"T_0733a_row2_col7\" class=\"data row2 col7\" >0.100000</td>\n                        <td id=\"T_0733a_row2_col8\" class=\"data row2 col8\" >0.783724</td>\n            </tr>\n            <tr>\n                        <th id=\"T_0733a_level0_row3\" class=\"row_heading level0 row3\" >Aldon Cashmoney</th>\n                        <td id=\"T_0733a_row3_col0\" class=\"data row3 col0\" >1.026237</td>\n                        <td id=\"T_0733a_row3_col1\" class=\"data row3 col1\" >1.044073</td>\n                        <td id=\"T_0733a_row3_col2\" class=\"data row3 col2\" >1.122097</td>\n                        <td id=\"T_0733a_row3_col3\" class=\"data row3 col3\" >0.729312</td>\n                        <td id=\"T_0733a_row3_col4\" class=\"data row3 col4\" >1.199005</td>\n                        <td id=\"T_0733a_row3_col5\" class=\"data row3 col5\" >0.229409</td>\n                        <td id=\"T_0733a_row3_col6\" class=\"data row3 col6\" >0.764498</td>\n                        <td id=\"T_0733a_row3_col7\" class=\"data row3 col7\" >0.100000</td>\n                        <td id=\"T_0733a_row3_col8\" class=\"data row3 col8\" >0.548276</td>\n            </tr>\n            <tr>\n                        <th id=\"T_0733a_level0_row4\" class=\"row_heading level0 row4\" >Dudley Mueller</th>\n                        <td id=\"T_0733a_row4_col0\" class=\"data row4 col0\" >1.009601</td>\n                        <td id=\"T_0733a_row4_col1\" class=\"data row4 col1\" >1.525780</td>\n                        <td id=\"T_0733a_row4_col2\" class=\"data row4 col2\" >0.731321</td>\n                        <td id=\"T_0733a_row4_col3\" class=\"data row4 col3\" >0.905664</td>\n                        <td id=\"T_0733a_row4_col4\" class=\"data row4 col4\" >0.964410</td>\n                        <td id=\"T_0733a_row4_col5\" class=\"data row4 col5\" >0.263640</td>\n                        <td id=\"T_0733a_row4_col6\" class=\"data row4 col6\" >0.891322</td>\n                        <td id=\"T_0733a_row4_col7\" class=\"data row4 col7\" >0.100000</td>\n                        <td id=\"T_0733a_row4_col8\" class=\"data row4 col8\" >1.513180</td>\n            </tr>\n            <tr>\n                        <th id=\"T_0733a_level0_row5\" class=\"row_heading level0 row5\" >Beck Whitney</th>\n                        <td id=\"T_0733a_row5_col0\" class=\"data row5 col0\" >1.004501</td>\n                        <td id=\"T_0733a_row5_col1\" class=\"data row5 col1\" >0.801189</td>\n                        <td id=\"T_0733a_row5_col2\" class=\"data row5 col2\" >1.238687</td>\n                        <td id=\"T_0733a_row5_col3\" class=\"data row5 col3\" >1.060235</td>\n                        <td id=\"T_0733a_row5_col4\" class=\"data row5 col4\" >1.237172</td>\n                        <td id=\"T_0733a_row5_col5\" class=\"data row5 col5\" >0.213512</td>\n                        <td id=\"T_0733a_row5_col6\" class=\"data row5 col6\" >0.993335</td>\n                        <td id=\"T_0733a_row5_col7\" class=\"data row5 col7\" >0.100000</td>\n                        <td id=\"T_0733a_row5_col8\" class=\"data row5 col8\" >0.556506</td>\n            </tr>\n            <tr>\n                        <th id=\"T_0733a_level0_row6\" class=\"row_heading level0 row6\" >Margarito Nava</th>\n                        <td id=\"T_0733a_row6_col0\" class=\"data row6 col0\" >1.000296</td>\n                        <td id=\"T_0733a_row6_col1\" class=\"data row6 col1\" >0.788340</td>\n                        <td id=\"T_0733a_row6_col2\" class=\"data row6 col2\" >1.244494</td>\n                        <td id=\"T_0733a_row6_col3\" class=\"data row6 col3\" >1.244454</td>\n                        <td id=\"T_0733a_row6_col4\" class=\"data row6 col4\" >1.404628</td>\n                        <td id=\"T_0733a_row6_col5\" class=\"data row6 col5\" >0.522716</td>\n                        <td id=\"T_0733a_row6_col6\" class=\"data row6 col6\" >1.131332</td>\n                        <td id=\"T_0733a_row6_col7\" class=\"data row6 col7\" >0.038358</td>\n                        <td id=\"T_0733a_row6_col8\" class=\"data row6 col8\" >0.786623</td>\n            </tr>\n            <tr>\n                        <th id=\"T_0733a_level0_row7\" class=\"row_heading level0 row7\" >Baby Doyle</th>\n                        <td id=\"T_0733a_row7_col0\" class=\"data row7 col0\" >0.970054</td>\n                        <td id=\"T_0733a_row7_col1\" class=\"data row7 col1\" >1.177384</td>\n                        <td id=\"T_0733a_row7_col2\" class=\"data row7 col2\" >0.917345</td>\n                        <td id=\"T_0733a_row7_col3\" class=\"data row7 col3\" >1.217436</td>\n                        <td id=\"T_0733a_row7_col4\" class=\"data row7 col4\" >0.508082</td>\n                        <td id=\"T_0733a_row7_col5\" class=\"data row7 col5\" >0.356507</td>\n                        <td id=\"T_0733a_row7_col6\" class=\"data row7 col6\" >1.092091</td>\n                        <td id=\"T_0733a_row7_col7\" class=\"data row7 col7\" >0.100000</td>\n                        <td id=\"T_0733a_row7_col8\" class=\"data row7 col8\" >1.138844</td>\n            </tr>\n            <tr>\n                        <th id=\"T_0733a_level0_row8\" class=\"row_heading level0 row8\" >Math Velazquez</th>\n                        <td id=\"T_0733a_row8_col0\" class=\"data row8 col0\" >0.943892</td>\n                        <td id=\"T_0733a_row8_col1\" class=\"data row8 col1\" >0.987667</td>\n                        <td id=\"T_0733a_row8_col2\" class=\"data row8 col2\" >1.027639</td>\n                        <td id=\"T_0733a_row8_col3\" class=\"data row8 col3\" >0.669586</td>\n                        <td id=\"T_0733a_row8_col4\" class=\"data row8 col4\" >1.106343</td>\n                        <td id=\"T_0733a_row8_col5\" class=\"data row8 col5\" >0.435484</td>\n                        <td id=\"T_0733a_row8_col6\" class=\"data row8 col6\" >0.582834</td>\n                        <td id=\"T_0733a_row8_col7\" class=\"data row8 col7\" >0.100000</td>\n                        <td id=\"T_0733a_row8_col8\" class=\"data row8 col8\" >0.642863</td>\n            </tr>\n            <tr>\n                        <th id=\"T_0733a_level0_row9\" class=\"row_heading level0 row9\" >Comfort Septemberish</th>\n                        <td id=\"T_0733a_row9_col0\" class=\"data row9 col0\" >0.937244</td>\n                        <td id=\"T_0733a_row9_col1\" class=\"data row9 col1\" >1.137996</td>\n                        <td id=\"T_0733a_row9_col2\" class=\"data row9 col2\" >1.147902</td>\n                        <td id=\"T_0733a_row9_col3\" class=\"data row9 col3\" >0.335357</td>\n                        <td id=\"T_0733a_row9_col4\" class=\"data row9 col4\" >0.727285</td>\n                        <td id=\"T_0733a_row9_col5\" class=\"data row9 col5\" >0.651622</td>\n                        <td id=\"T_0733a_row9_col6\" class=\"data row9 col6\" >1.065479</td>\n                        <td id=\"T_0733a_row9_col7\" class=\"data row9 col7\" >0.100000</td>\n                        <td id=\"T_0733a_row9_col8\" class=\"data row9 col8\" >0.792023</td>\n            </tr>\n    </tbody></table>"
     },
     "execution_count": 7,
     "metadata": {},
     "output_type": "execute_result"
    }
   ],
   "source": [
    "wild = Subleague.load(\"aabc11a1-81af-4036-9f18-229c759ca8a9\")\n",
    "all_wild = []\n",
    "for team in wild.teams.values():\n",
    "    all_wild.extend(team.lineup + team.rotation)\n",
    "    \n",
    "all_wild.sort(key=lambda x: x.batting_rating, reverse=True)\n",
    "set_heatmap(get_batting_stlats(all_wild[0:10]), maxVal=1)\n"
   ]
  },
  {
   "cell_type": "code",
   "execution_count": 8,
   "metadata": {},
   "outputs": [
    {
     "data": {
      "text/plain": "<pandas.io.formats.style.Styler at 0x1cdfa0ba130>",
      "text/html": "<style  type=\"text/css\" >\n#T_58425_row0_col0{\n            background-color:  #fee18d;\n            color:  #000000;\n        }#T_58425_row0_col1{\n            background-color:  #cdea83;\n            color:  #000000;\n        }#T_58425_row0_col2{\n            background-color:  #f7844e;\n            color:  #000000;\n        }#T_58425_row0_col3{\n            background-color:  #c62027;\n            color:  #f1f1f1;\n        }#T_58425_row0_col4{\n            background-color:  #7ac665;\n            color:  #000000;\n        }#T_58425_row0_col5{\n            background-color:  #de402e;\n            color:  #f1f1f1;\n            background-color:  #2da155;\n            color:  #000000;\n        }#T_58425_row0_col6{\n            background-color:  #36a657;\n            color:  #000000;\n        }#T_58425_row0_col7{\n            background-color:  #b71126;\n            color:  #f1f1f1;\n            background-color:  #097940;\n            color:  #f1f1f1;\n        }#T_58425_row0_col8{\n            background-color:  #eff8aa;\n            color:  #000000;\n        }</style><table id=\"T_58425_\" ><thead>    <tr>        <th class=\"blank level0\" ></th>        <th class=\"col_heading level0 col0\" >Batting Rating</th>        <th class=\"col_heading level0 col1\" >Thwackability</th>        <th class=\"col_heading level0 col2\" >Divinity</th>        <th class=\"col_heading level0 col3\" >Musclitude</th>        <th class=\"col_heading level0 col4\" >Moxie</th>        <th class=\"col_heading level0 col5\" >Patheticism</th>        <th class=\"col_heading level0 col6\" >Martyrdom</th>        <th class=\"col_heading level0 col7\" >Tragicness</th>        <th class=\"col_heading level0 col8\" >Buoyancy</th>    </tr></thead><tbody>\n                <tr>\n                        <th id=\"T_58425_level0_row0\" class=\"row_heading level0 row0\" >Farrell Seagull</th>\n                        <td id=\"T_58425_row0_col0\" class=\"data row0 col0\" >0.406156</td>\n                        <td id=\"T_58425_row0_col1\" class=\"data row0 col1\" >0.623806</td>\n                        <td id=\"T_58425_row0_col2\" class=\"data row0 col2\" >0.235514</td>\n                        <td id=\"T_58425_row0_col3\" class=\"data row0 col3\" >0.069620</td>\n                        <td id=\"T_58425_row0_col4\" class=\"data row0 col4\" >0.768254</td>\n                        <td id=\"T_58425_row0_col5\" class=\"data row0 col5\" >0.126134</td>\n                        <td id=\"T_58425_row0_col6\" class=\"data row0 col6\" >0.860282</td>\n                        <td id=\"T_58425_row0_col7\" class=\"data row0 col7\" >0.036873</td>\n                        <td id=\"T_58425_row0_col8\" class=\"data row0 col8\" >0.542776</td>\n            </tr>\n    </tbody></table>"
     },
     "execution_count": 8,
     "metadata": {},
     "output_type": "execute_result"
    }
   ],
   "source": [
    "set_heatmap(get_batting_stlats(sort_lineup(pies, 1)), maxVal=1)"
   ]
  },
  {
   "cell_type": "markdown",
   "metadata": {},
   "source": [
    "**Best Pitchers options and Pies worst Pitcher:**"
   ]
  },
  {
   "cell_type": "code",
   "execution_count": 9,
   "metadata": {},
   "outputs": [
    {
     "data": {
      "text/plain": "<pandas.io.formats.style.Styler at 0x1cdfa369f10>",
      "text/html": "<style  type=\"text/css\" >\n#T_c1cdb_row0_col0,#T_c1cdb_row0_col1,#T_c1cdb_row0_col2,#T_c1cdb_row1_col0,#T_c1cdb_row1_col1,#T_c1cdb_row1_col2,#T_c1cdb_row1_col3,#T_c1cdb_row1_col4,#T_c1cdb_row2_col0,#T_c1cdb_row2_col2,#T_c1cdb_row2_col3,#T_c1cdb_row2_col5,#T_c1cdb_row2_col6,#T_c1cdb_row3_col0,#T_c1cdb_row3_col1,#T_c1cdb_row3_col2,#T_c1cdb_row3_col4,#T_c1cdb_row3_col5,#T_c1cdb_row4_col2,#T_c1cdb_row4_col3,#T_c1cdb_row4_col4,#T_c1cdb_row4_col5,#T_c1cdb_row4_col6,#T_c1cdb_row5_col1,#T_c1cdb_row5_col2,#T_c1cdb_row7_col1,#T_c1cdb_row7_col2,#T_c1cdb_row9_col3{\n            background-color:  #006837;\n            color:  #f1f1f1;\n        }#T_c1cdb_row0_col3{\n            background-color:  #279f53;\n            color:  #000000;\n        }#T_c1cdb_row0_col4{\n            background-color:  #30a356;\n            color:  #000000;\n        }#T_c1cdb_row0_col5{\n            background-color:  #06733d;\n            color:  #f1f1f1;\n        }#T_c1cdb_row0_col6{\n            background-color:  #6bbf64;\n            color:  #000000;\n        }#T_c1cdb_row1_col5{\n            background-color:  #45ad5b;\n            color:  #000000;\n        }#T_c1cdb_row1_col6{\n            background-color:  #e5f49b;\n            color:  #000000;\n        }#T_c1cdb_row2_col1{\n            background-color:  #199750;\n            color:  #000000;\n        }#T_c1cdb_row2_col4,#T_c1cdb_row9_col6{\n            background-color:  #1e9a51;\n            color:  #000000;\n        }#T_c1cdb_row3_col3{\n            background-color:  #bde379;\n            color:  #000000;\n        }#T_c1cdb_row3_col6{\n            background-color:  #138c4a;\n            color:  #000000;\n        }#T_c1cdb_row4_col0{\n            background-color:  #0c7f43;\n            color:  #f1f1f1;\n        }#T_c1cdb_row4_col1{\n            background-color:  #54b45f;\n            color:  #000000;\n        }#T_c1cdb_row5_col0,#T_c1cdb_row7_col5,#T_c1cdb_row9_col2{\n            background-color:  #118848;\n            color:  #000000;\n        }#T_c1cdb_row5_col3{\n            background-color:  #fffcba;\n            color:  #000000;\n        }#T_c1cdb_row5_col4{\n            background-color:  #78c565;\n            color:  #000000;\n        }#T_c1cdb_row5_col5{\n            background-color:  #51b35e;\n            color:  #000000;\n        }#T_c1cdb_row5_col6{\n            background-color:  #fdc171;\n            color:  #000000;\n        }#T_c1cdb_row6_col0{\n            background-color:  #33a456;\n            color:  #000000;\n        }#T_c1cdb_row6_col1{\n            background-color:  #3faa59;\n            color:  #000000;\n        }#T_c1cdb_row6_col2,#T_c1cdb_row6_col3{\n            background-color:  #04703b;\n            color:  #f1f1f1;\n        }#T_c1cdb_row6_col4{\n            background-color:  #8ccd67;\n            color:  #000000;\n        }#T_c1cdb_row6_col5{\n            background-color:  #fee491;\n            color:  #000000;\n        }#T_c1cdb_row6_col6{\n            background-color:  #75c465;\n            color:  #000000;\n        }#T_c1cdb_row7_col0{\n            background-color:  #48ae5c;\n            color:  #000000;\n        }#T_c1cdb_row7_col3{\n            background-color:  #fa9b58;\n            color:  #000000;\n        }#T_c1cdb_row7_col4{\n            background-color:  #d5ed88;\n            color:  #000000;\n        }#T_c1cdb_row7_col6{\n            background-color:  #fffbb8;\n            color:  #000000;\n        }#T_c1cdb_row8_col0{\n            background-color:  #57b65f;\n            color:  #000000;\n        }#T_c1cdb_row8_col1{\n            background-color:  #128a49;\n            color:  #000000;\n        }#T_c1cdb_row8_col2{\n            background-color:  #08773f;\n            color:  #f1f1f1;\n        }#T_c1cdb_row8_col3{\n            background-color:  #98d368;\n            color:  #000000;\n        }#T_c1cdb_row8_col4{\n            background-color:  #d1ec86;\n            color:  #000000;\n        }#T_c1cdb_row8_col5{\n            background-color:  #e0422f;\n            color:  #f1f1f1;\n        }#T_c1cdb_row8_col6{\n            background-color:  #e24731;\n            color:  #f1f1f1;\n        }#T_c1cdb_row9_col0{\n            background-color:  #5ab760;\n            color:  #000000;\n        }#T_c1cdb_row9_col1{\n            background-color:  #66bd63;\n            color:  #000000;\n        }#T_c1cdb_row9_col4{\n            background-color:  #dff293;\n            color:  #000000;\n        }#T_c1cdb_row9_col5{\n            background-color:  #fed07e;\n            color:  #000000;\n        }</style><table id=\"T_c1cdb_\" ><thead>    <tr>        <th class=\"blank level0\" ></th>        <th class=\"col_heading level0 col0\" >Pitching Rating</th>        <th class=\"col_heading level0 col1\" >Unthwackability</th>        <th class=\"col_heading level0 col2\" >Ruthlessness</th>        <th class=\"col_heading level0 col3\" >Overpowerment</th>        <th class=\"col_heading level0 col4\" >Shakespearianism</th>        <th class=\"col_heading level0 col5\" >Coldness</th>        <th class=\"col_heading level0 col6\" >Suppression</th>    </tr></thead><tbody>\n                <tr>\n                        <th id=\"T_c1cdb_level0_row0\" class=\"row_heading level0 row0\" >Burke Gonzales</th>\n                        <td id=\"T_c1cdb_row0_col0\" class=\"data row0 col0\" >1.176989</td>\n                        <td id=\"T_c1cdb_row0_col1\" class=\"data row0 col1\" >1.171639</td>\n                        <td id=\"T_c1cdb_row0_col2\" class=\"data row0 col2\" >1.341412</td>\n                        <td id=\"T_c1cdb_row0_col3\" class=\"data row0 col3\" >0.879956</td>\n                        <td id=\"T_c1cdb_row0_col4\" class=\"data row0 col4\" >0.870391</td>\n                        <td id=\"T_c1cdb_row0_col5\" class=\"data row0 col5\" >0.973638</td>\n                        <td id=\"T_c1cdb_row0_col6\" class=\"data row0 col6\" >0.789646</td>\n            </tr>\n            <tr>\n                        <th id=\"T_c1cdb_level0_row1\" class=\"row_heading level0 row1\" >Qais Dogwalker</th>\n                        <td id=\"T_c1cdb_row1_col0\" class=\"data row1 col0\" >1.105839</td>\n                        <td id=\"T_c1cdb_row1_col1\" class=\"data row1 col1\" >1.031425</td>\n                        <td id=\"T_c1cdb_row1_col2\" class=\"data row1 col2\" >1.097700</td>\n                        <td id=\"T_c1cdb_row1_col3\" class=\"data row1 col3\" >1.318705</td>\n                        <td id=\"T_c1cdb_row1_col4\" class=\"data row1 col4\" >1.112111</td>\n                        <td id=\"T_c1cdb_row1_col5\" class=\"data row1 col5\" >0.842765</td>\n                        <td id=\"T_c1cdb_row1_col6\" class=\"data row1 col6\" >0.570121</td>\n            </tr>\n            <tr>\n                        <th id=\"T_c1cdb_level0_row2\" class=\"row_heading level0 row2\" >Wyatt Pothos</th>\n                        <td id=\"T_c1cdb_row2_col0\" class=\"data row2 col0\" >1.082505</td>\n                        <td id=\"T_c1cdb_row2_col1\" class=\"data row2 col1\" >0.901425</td>\n                        <td id=\"T_c1cdb_row2_col2\" class=\"data row2 col2\" >1.263023</td>\n                        <td id=\"T_c1cdb_row2_col3\" class=\"data row2 col3\" >1.332335</td>\n                        <td id=\"T_c1cdb_row2_col4\" class=\"data row2 col4\" >0.891922</td>\n                        <td id=\"T_c1cdb_row2_col5\" class=\"data row2 col5\" >1.279506</td>\n                        <td id=\"T_c1cdb_row2_col6\" class=\"data row2 col6\" >0.999864</td>\n            </tr>\n            <tr>\n                        <th id=\"T_c1cdb_level0_row3\" class=\"row_heading level0 row3\" >Castillo Turner</th>\n                        <td id=\"T_c1cdb_row3_col0\" class=\"data row3 col0\" >1.041304</td>\n                        <td id=\"T_c1cdb_row3_col1\" class=\"data row3 col1\" >1.074010</td>\n                        <td id=\"T_c1cdb_row3_col2\" class=\"data row3 col2\" >1.093904</td>\n                        <td id=\"T_c1cdb_row3_col3\" class=\"data row3 col3\" >0.653783</td>\n                        <td id=\"T_c1cdb_row3_col4\" class=\"data row3 col4\" >1.291590</td>\n                        <td id=\"T_c1cdb_row3_col5\" class=\"data row3 col5\" >1.324847</td>\n                        <td id=\"T_c1cdb_row3_col6\" class=\"data row3 col6\" >0.922703</td>\n            </tr>\n            <tr>\n                        <th id=\"T_c1cdb_level0_row4\" class=\"row_heading level0 row4\" >Rafael Davids</th>\n                        <td id=\"T_c1cdb_row4_col0\" class=\"data row4 col0\" >0.950434</td>\n                        <td id=\"T_c1cdb_row4_col1\" class=\"data row4 col1\" >0.821531</td>\n                        <td id=\"T_c1cdb_row4_col2\" class=\"data row4 col2\" >1.097610</td>\n                        <td id=\"T_c1cdb_row4_col3\" class=\"data row4 col3\" >1.057661</td>\n                        <td id=\"T_c1cdb_row4_col4\" class=\"data row4 col4\" >1.006934</td>\n                        <td id=\"T_c1cdb_row4_col5\" class=\"data row4 col5\" >1.045070</td>\n                        <td id=\"T_c1cdb_row4_col6\" class=\"data row4 col6\" >1.161455</td>\n            </tr>\n            <tr>\n                        <th id=\"T_c1cdb_level0_row5\" class=\"row_heading level0 row5\" >Hiroto Wilcox</th>\n                        <td id=\"T_c1cdb_row5_col0\" class=\"data row5 col0\" >0.929726</td>\n                        <td id=\"T_c1cdb_row5_col1\" class=\"data row5 col1\" >1.048886</td>\n                        <td id=\"T_c1cdb_row5_col2\" class=\"data row5 col2\" >1.108926</td>\n                        <td id=\"T_c1cdb_row5_col3\" class=\"data row5 col3\" >0.488923</td>\n                        <td id=\"T_c1cdb_row5_col4\" class=\"data row5 col4\" >0.771052</td>\n                        <td id=\"T_c1cdb_row5_col5\" class=\"data row5 col5\" >0.826826</td>\n                        <td id=\"T_c1cdb_row5_col6\" class=\"data row5 col6\" >0.337882</td>\n            </tr>\n            <tr>\n                        <th id=\"T_c1cdb_level0_row6\" class=\"row_heading level0 row6\" >Fitzgerald Blackburn</th>\n                        <td id=\"T_c1cdb_row6_col0\" class=\"data row6 col0\" >0.865100</td>\n                        <td id=\"T_c1cdb_row6_col1\" class=\"data row6 col1\" >0.849077</td>\n                        <td id=\"T_c1cdb_row6_col2\" class=\"data row6 col2\" >0.980479</td>\n                        <td id=\"T_c1cdb_row6_col3\" class=\"data row6 col3\" >0.982413</td>\n                        <td id=\"T_c1cdb_row6_col4\" class=\"data row6 col4\" >0.738350</td>\n                        <td id=\"T_c1cdb_row6_col5\" class=\"data row6 col5\" >0.411036</td>\n                        <td id=\"T_c1cdb_row6_col6\" class=\"data row6 col6\" >0.775065</td>\n            </tr>\n            <tr>\n                        <th id=\"T_c1cdb_level0_row7\" class=\"row_heading level0 row7\" >Nerd Pacheco</th>\n                        <td id=\"T_c1cdb_row7_col0\" class=\"data row7 col0\" >0.836120</td>\n                        <td id=\"T_c1cdb_row7_col1\" class=\"data row7 col1\" >1.087720</td>\n                        <td id=\"T_c1cdb_row7_col2\" class=\"data row7 col2\" >1.066351</td>\n                        <td id=\"T_c1cdb_row7_col3\" class=\"data row7 col3\" >0.272113</td>\n                        <td id=\"T_c1cdb_row7_col4\" class=\"data row7 col4\" >0.608134</td>\n                        <td id=\"T_c1cdb_row7_col5\" class=\"data row7 col5\" >0.932212</td>\n                        <td id=\"T_c1cdb_row7_col6\" class=\"data row7 col6\" >0.484500</td>\n            </tr>\n            <tr>\n                        <th id=\"T_c1cdb_level0_row8\" class=\"row_heading level0 row8\" >Cell Barajas</th>\n                        <td id=\"T_c1cdb_row8_col0\" class=\"data row8 col0\" >0.819420</td>\n                        <td id=\"T_c1cdb_row8_col1\" class=\"data row8 col1\" >0.927790</td>\n                        <td id=\"T_c1cdb_row8_col2\" class=\"data row8 col2\" >0.968070</td>\n                        <td id=\"T_c1cdb_row8_col3\" class=\"data row8 col3\" >0.718913</td>\n                        <td id=\"T_c1cdb_row8_col4\" class=\"data row8 col4\" >0.614807</td>\n                        <td id=\"T_c1cdb_row8_col5\" class=\"data row8 col5\" >0.132356</td>\n                        <td id=\"T_c1cdb_row8_col6\" class=\"data row8 col6\" >0.139887</td>\n            </tr>\n            <tr>\n                        <th id=\"T_c1cdb_level0_row9\" class=\"row_heading level0 row9\" >Valentine Games</th>\n                        <td id=\"T_c1cdb_row9_col0\" class=\"data row9 col0\" >0.814961</td>\n                        <td id=\"T_c1cdb_row9_col1\" class=\"data row9 col1\" >0.798946</td>\n                        <td id=\"T_c1cdb_row9_col2\" class=\"data row9 col2\" >0.932523</td>\n                        <td id=\"T_c1cdb_row9_col3\" class=\"data row9 col3\" >1.100714</td>\n                        <td id=\"T_c1cdb_row9_col4\" class=\"data row9 col4\" >0.583465</td>\n                        <td id=\"T_c1cdb_row9_col5\" class=\"data row9 col5\" >0.368521</td>\n                        <td id=\"T_c1cdb_row9_col6\" class=\"data row9 col6\" >0.893655</td>\n            </tr>\n    </tbody></table>"
     },
     "execution_count": 9,
     "metadata": {},
     "output_type": "execute_result"
    }
   ],
   "source": [
    "all_wild.sort(key=lambda x: x.pitching_rating, reverse=True)\n",
    "set_heatmap(get_pitching_stlats(all_wild[0:10]), maxVal=1)"
   ]
  },
  {
   "cell_type": "code",
   "execution_count": 10,
   "metadata": {},
   "outputs": [
    {
     "data": {
      "text/plain": "<pandas.io.formats.style.Styler at 0x1cd9ebf9730>",
      "text/html": "<style  type=\"text/css\" >\n#T_79b83_row0_col0{\n            background-color:  #fdb768;\n            color:  #000000;\n        }#T_79b83_row0_col1{\n            background-color:  #f57245;\n            color:  #000000;\n        }#T_79b83_row0_col2{\n            background-color:  #fbfdba;\n            color:  #000000;\n        }#T_79b83_row0_col3{\n            background-color:  #3ca959;\n            color:  #000000;\n        }#T_79b83_row0_col4{\n            background-color:  #b1de71;\n            color:  #000000;\n        }#T_79b83_row0_col5{\n            background-color:  #fdaf62;\n            color:  #000000;\n        }#T_79b83_row0_col6{\n            background-color:  #30a356;\n            color:  #000000;\n        }</style><table id=\"T_79b83_\" ><thead>    <tr>        <th class=\"blank level0\" ></th>        <th class=\"col_heading level0 col0\" >Pitching Rating</th>        <th class=\"col_heading level0 col1\" >Unthwackability</th>        <th class=\"col_heading level0 col2\" >Ruthlessness</th>        <th class=\"col_heading level0 col3\" >Overpowerment</th>        <th class=\"col_heading level0 col4\" >Shakespearianism</th>        <th class=\"col_heading level0 col5\" >Coldness</th>        <th class=\"col_heading level0 col6\" >Suppression</th>    </tr></thead><tbody>\n                <tr>\n                        <th id=\"T_79b83_level0_row0\" class=\"row_heading level0 row0\" >Bright Zimmerman</th>\n                        <td id=\"T_79b83_row0_col0\" class=\"data row0 col0\" >0.317847</td>\n                        <td id=\"T_79b83_row0_col1\" class=\"data row0 col1\" >0.207882</td>\n                        <td id=\"T_79b83_row0_col2\" class=\"data row0 col2\" >0.511157</td>\n                        <td id=\"T_79b83_row0_col3\" class=\"data row0 col3\" >0.852666</td>\n                        <td id=\"T_79b83_row0_col4\" class=\"data row0 col4\" >0.679224</td>\n                        <td id=\"T_79b83_row0_col5\" class=\"data row0 col5\" >0.303950</td>\n                        <td id=\"T_79b83_row0_col6\" class=\"data row0 col6\" >0.870961</td>\n            </tr>\n    </tbody></table>"
     },
     "execution_count": 10,
     "metadata": {},
     "output_type": "execute_result"
    }
   ],
   "source": [
    "set_heatmap(get_pitching_stlats(sort_rotation(pies, 1)), maxVal=1)"
   ]
  },
  {
   "cell_type": "markdown",
   "metadata": {},
   "source": [
    "### Foreshadow\n",
    "**Swap a Player from your Shadows to your active roster.**\n",
    "\n",
    "There are 13 shadows players to swap with our 12 existing players. Below is a breakdown comparing the best shadows\n",
    "players with the worst player in the particular position.\n",
    "\n",
    "Note that position does not matter for the swap: any shadows player can bat or pitch.\n"
   ]
  },
  {
   "cell_type": "markdown",
   "metadata": {},
   "source": [
    "**Batting:**"
   ]
  },
  {
   "cell_type": "code",
   "execution_count": 11,
   "metadata": {
    "pycharm": {
     "name": "#%%\n"
    }
   },
   "outputs": [
    {
     "data": {
      "text/plain": "                 Batting  Pitching  Baserunning  Defense\nHaruta Byrd          3.5       2.5          2.5      1.5\nJavier Lotus         3.5       1.0          3.5      4.0\nAugust Obrien        3.5       1.0          3.5      2.0\nFarrell Seagull      2.0       2.0          2.0      1.5",
      "text/html": "<div>\n<style scoped>\n    .dataframe tbody tr th:only-of-type {\n        vertical-align: middle;\n    }\n\n    .dataframe tbody tr th {\n        vertical-align: top;\n    }\n\n    .dataframe thead th {\n        text-align: right;\n    }\n</style>\n<table border=\"1\" class=\"dataframe\">\n  <thead>\n    <tr style=\"text-align: right;\">\n      <th></th>\n      <th>Batting</th>\n      <th>Pitching</th>\n      <th>Baserunning</th>\n      <th>Defense</th>\n    </tr>\n  </thead>\n  <tbody>\n    <tr>\n      <th>Haruta Byrd</th>\n      <td>3.5</td>\n      <td>2.5</td>\n      <td>2.5</td>\n      <td>1.5</td>\n    </tr>\n    <tr>\n      <th>Javier Lotus</th>\n      <td>3.5</td>\n      <td>1.0</td>\n      <td>3.5</td>\n      <td>4.0</td>\n    </tr>\n    <tr>\n      <th>August Obrien</th>\n      <td>3.5</td>\n      <td>1.0</td>\n      <td>3.5</td>\n      <td>2.0</td>\n    </tr>\n    <tr>\n      <th>Farrell Seagull</th>\n      <td>2.0</td>\n      <td>2.0</td>\n      <td>2.0</td>\n      <td>1.5</td>\n    </tr>\n  </tbody>\n</table>\n</div>"
     },
     "execution_count": 11,
     "metadata": {},
     "output_type": "execute_result"
    }
   ],
   "source": [
    "shadows = pies.bullpen + pies.bench\n",
    "shadows.sort(key=lambda x: x.batting_rating, reverse=True)\n",
    "best_batting_shadows = shadows[0:3]\n",
    "worst_batter = sort_lineup(pies, 1)[0]\n",
    "\n",
    "get_stars(best_batting_shadows + [worst_batter])"
   ]
  },
  {
   "cell_type": "code",
   "execution_count": 12,
   "outputs": [
    {
     "data": {
      "text/plain": "<pandas.io.formats.style.Styler at 0x1cdfa5456d0>",
      "text/html": "<style  type=\"text/css\" >\n#T_2858c_row0_col0{\n            background-color:  #96d268;\n            color:  #000000;\n        }#T_2858c_row0_col1{\n            background-color:  #98d368;\n            color:  #000000;\n        }#T_2858c_row0_col2{\n            background-color:  #15904c;\n            color:  #000000;\n        }#T_2858c_row0_col3{\n            background-color:  #3ca959;\n            color:  #000000;\n        }#T_2858c_row0_col4{\n            background-color:  #dff293;\n            color:  #000000;\n        }#T_2858c_row0_col5{\n            background-color:  #4bb05c;\n            color:  #000000;\n            background-color:  #ea5739;\n            color:  #000000;\n        }#T_2858c_row0_col6{\n            background-color:  #eb5a3a;\n            color:  #000000;\n        }#T_2858c_row0_col7,#T_2858c_row1_col7,#T_2858c_row2_col7{\n            background-color:  #d62f27;\n            color:  #f1f1f1;\n            background-color:  #199750;\n            color:  #000000;\n        }#T_2858c_row0_col8{\n            background-color:  #dd3d2d;\n            color:  #f1f1f1;\n        }#T_2858c_row1_col0,#T_2858c_row2_col0{\n            background-color:  #afdd70;\n            color:  #000000;\n        }#T_2858c_row1_col1{\n            background-color:  #0f8446;\n            color:  #f1f1f1;\n        }#T_2858c_row1_col2{\n            background-color:  #fed884;\n            color:  #000000;\n        }#T_2858c_row1_col3{\n            background-color:  #199750;\n            color:  #000000;\n        }#T_2858c_row1_col4{\n            background-color:  #0e8245;\n            color:  #f1f1f1;\n        }#T_2858c_row1_col5{\n            background-color:  #f47044;\n            color:  #000000;\n            background-color:  #69be63;\n            color:  #000000;\n        }#T_2858c_row1_col6{\n            background-color:  #249d53;\n            color:  #000000;\n        }#T_2858c_row1_col8{\n            background-color:  #5ab760;\n            color:  #000000;\n        }#T_2858c_row2_col1{\n            background-color:  #c3e67d;\n            color:  #000000;\n        }#T_2858c_row2_col2{\n            background-color:  #128a49;\n            color:  #000000;\n        }#T_2858c_row2_col3{\n            background-color:  #16914d;\n            color:  #000000;\n        }#T_2858c_row2_col4{\n            background-color:  #fffdbc;\n            color:  #000000;\n        }#T_2858c_row2_col5{\n            background-color:  #138c4a;\n            color:  #000000;\n            background-color:  #ca2427;\n            color:  #f1f1f1;\n        }#T_2858c_row2_col6{\n            background-color:  #e9f6a1;\n            color:  #000000;\n        }#T_2858c_row2_col8{\n            background-color:  #fff3ac;\n            color:  #000000;\n        }#T_2858c_row3_col0{\n            background-color:  #fee18d;\n            color:  #000000;\n        }#T_2858c_row3_col1{\n            background-color:  #cdea83;\n            color:  #000000;\n        }#T_2858c_row3_col2{\n            background-color:  #f7844e;\n            color:  #000000;\n        }#T_2858c_row3_col3{\n            background-color:  #c62027;\n            color:  #f1f1f1;\n        }#T_2858c_row3_col4{\n            background-color:  #7ac665;\n            color:  #000000;\n        }#T_2858c_row3_col5{\n            background-color:  #de402e;\n            color:  #f1f1f1;\n            background-color:  #2da155;\n            color:  #000000;\n        }#T_2858c_row3_col6{\n            background-color:  #36a657;\n            color:  #000000;\n        }#T_2858c_row3_col7{\n            background-color:  #b71126;\n            color:  #f1f1f1;\n            background-color:  #097940;\n            color:  #f1f1f1;\n        }#T_2858c_row3_col8{\n            background-color:  #eff8aa;\n            color:  #000000;\n        }</style><table id=\"T_2858c_\" ><thead>    <tr>        <th class=\"blank level0\" ></th>        <th class=\"col_heading level0 col0\" >Batting Rating</th>        <th class=\"col_heading level0 col1\" >Thwackability</th>        <th class=\"col_heading level0 col2\" >Divinity</th>        <th class=\"col_heading level0 col3\" >Musclitude</th>        <th class=\"col_heading level0 col4\" >Moxie</th>        <th class=\"col_heading level0 col5\" >Patheticism</th>        <th class=\"col_heading level0 col6\" >Martyrdom</th>        <th class=\"col_heading level0 col7\" >Tragicness</th>        <th class=\"col_heading level0 col8\" >Buoyancy</th>    </tr></thead><tbody>\n                <tr>\n                        <th id=\"T_2858c_level0_row0\" class=\"row_heading level0 row0\" >Haruta Byrd</th>\n                        <td id=\"T_2858c_row0_col0\" class=\"data row0 col0\" >0.724391</td>\n                        <td id=\"T_2858c_row0_col1\" class=\"data row0 col1\" >0.721433</td>\n                        <td id=\"T_2858c_row0_col2\" class=\"data row0 col2\" >0.917077</td>\n                        <td id=\"T_2858c_row0_col3\" class=\"data row0 col3\" >0.853010</td>\n                        <td id=\"T_2858c_row0_col4\" class=\"data row0 col4\" >0.585921</td>\n                        <td id=\"T_2858c_row0_col5\" class=\"data row0 col5\" >0.832203</td>\n                        <td id=\"T_2858c_row0_col6\" class=\"data row0 col6\" >0.169263</td>\n                        <td id=\"T_2858c_row0_col7\" class=\"data row0 col7\" >0.100000</td>\n                        <td id=\"T_2858c_row0_col8\" class=\"data row0 col8\" >0.124161</td>\n            </tr>\n            <tr>\n                        <th id=\"T_2858c_level0_row1\" class=\"row_heading level0 row1\" >Javier Lotus</th>\n                        <td id=\"T_2858c_row1_col0\" class=\"data row1 col0\" >0.682621</td>\n                        <td id=\"T_2858c_row1_col1\" class=\"data row1 col1\" >0.938964</td>\n                        <td id=\"T_2858c_row1_col2\" class=\"data row1 col2\" >0.386700</td>\n                        <td id=\"T_2858c_row1_col3\" class=\"data row1 col3\" >0.901328</td>\n                        <td id=\"T_2858c_row1_col4\" class=\"data row1 col4\" >0.942211</td>\n                        <td id=\"T_2858c_row1_col5\" class=\"data row1 col5\" >0.205027</td>\n                        <td id=\"T_2858c_row1_col6\" class=\"data row1 col6\" >0.884526</td>\n                        <td id=\"T_2858c_row1_col7\" class=\"data row1 col7\" >0.100000</td>\n                        <td id=\"T_2858c_row1_col8\" class=\"data row1 col8\" >0.815592</td>\n            </tr>\n            <tr>\n                        <th id=\"T_2858c_level0_row2\" class=\"row_heading level0 row2\" >August Obrien</th>\n                        <td id=\"T_2858c_row2_col0\" class=\"data row2 col0\" >0.681669</td>\n                        <td id=\"T_2858c_row2_col1\" class=\"data row2 col1\" >0.641217</td>\n                        <td id=\"T_2858c_row2_col2\" class=\"data row2 col2\" >0.927569</td>\n                        <td id=\"T_2858c_row2_col3\" class=\"data row2 col3\" >0.913891</td>\n                        <td id=\"T_2858c_row2_col4\" class=\"data row2 col4\" >0.492708</td>\n                        <td id=\"T_2858c_row2_col5\" class=\"data row2 col5\" >0.923854</td>\n                        <td id=\"T_2858c_row2_col6\" class=\"data row2 col6\" >0.556849</td>\n                        <td id=\"T_2858c_row2_col7\" class=\"data row2 col7\" >0.100000</td>\n                        <td id=\"T_2858c_row2_col8\" class=\"data row2 col8\" >0.463958</td>\n            </tr>\n            <tr>\n                        <th id=\"T_2858c_level0_row3\" class=\"row_heading level0 row3\" >Farrell Seagull</th>\n                        <td id=\"T_2858c_row3_col0\" class=\"data row3 col0\" >0.406156</td>\n                        <td id=\"T_2858c_row3_col1\" class=\"data row3 col1\" >0.623806</td>\n                        <td id=\"T_2858c_row3_col2\" class=\"data row3 col2\" >0.235514</td>\n                        <td id=\"T_2858c_row3_col3\" class=\"data row3 col3\" >0.069620</td>\n                        <td id=\"T_2858c_row3_col4\" class=\"data row3 col4\" >0.768254</td>\n                        <td id=\"T_2858c_row3_col5\" class=\"data row3 col5\" >0.126134</td>\n                        <td id=\"T_2858c_row3_col6\" class=\"data row3 col6\" >0.860282</td>\n                        <td id=\"T_2858c_row3_col7\" class=\"data row3 col7\" >0.036873</td>\n                        <td id=\"T_2858c_row3_col8\" class=\"data row3 col8\" >0.542776</td>\n            </tr>\n    </tbody></table>"
     },
     "execution_count": 12,
     "metadata": {},
     "output_type": "execute_result"
    }
   ],
   "source": [
    "set_heatmap(get_batting_stlats(best_batting_shadows + [worst_batter]), maxVal=1)"
   ],
   "metadata": {
    "collapsed": false,
    "pycharm": {
     "name": "#%%\n"
    }
   }
  },
  {
   "cell_type": "markdown",
   "source": [
    "**Pitching:**"
   ],
   "metadata": {
    "collapsed": false
   }
  },
  {
   "cell_type": "code",
   "execution_count": 13,
   "outputs": [
    {
     "data": {
      "text/plain": "                    Batting  Pitching  Baserunning  Defense\nTwofurious Puddles      2.5       3.5          2.0      3.5\nCase Lancaster          0.0       3.5          2.0      3.0\nTiana Takahashi         1.0       3.0          2.5      3.0\nBright Zimmerman        3.5       1.5          1.0      3.0",
      "text/html": "<div>\n<style scoped>\n    .dataframe tbody tr th:only-of-type {\n        vertical-align: middle;\n    }\n\n    .dataframe tbody tr th {\n        vertical-align: top;\n    }\n\n    .dataframe thead th {\n        text-align: right;\n    }\n</style>\n<table border=\"1\" class=\"dataframe\">\n  <thead>\n    <tr style=\"text-align: right;\">\n      <th></th>\n      <th>Batting</th>\n      <th>Pitching</th>\n      <th>Baserunning</th>\n      <th>Defense</th>\n    </tr>\n  </thead>\n  <tbody>\n    <tr>\n      <th>Twofurious Puddles</th>\n      <td>2.5</td>\n      <td>3.5</td>\n      <td>2.0</td>\n      <td>3.5</td>\n    </tr>\n    <tr>\n      <th>Case Lancaster</th>\n      <td>0.0</td>\n      <td>3.5</td>\n      <td>2.0</td>\n      <td>3.0</td>\n    </tr>\n    <tr>\n      <th>Tiana Takahashi</th>\n      <td>1.0</td>\n      <td>3.0</td>\n      <td>2.5</td>\n      <td>3.0</td>\n    </tr>\n    <tr>\n      <th>Bright Zimmerman</th>\n      <td>3.5</td>\n      <td>1.5</td>\n      <td>1.0</td>\n      <td>3.0</td>\n    </tr>\n  </tbody>\n</table>\n</div>"
     },
     "execution_count": 13,
     "metadata": {},
     "output_type": "execute_result"
    }
   ],
   "source": [
    "shadows.sort(key=lambda x: x.pitching_rating, reverse=True)\n",
    "best_pitching_shadows = shadows[0:3]\n",
    "worst_pitcher = sort_rotation(pies, 1)[0]\n",
    "\n",
    "get_stars(best_pitching_shadows + [worst_pitcher])"
   ],
   "metadata": {
    "collapsed": false,
    "pycharm": {
     "name": "#%%\n"
    }
   }
  },
  {
   "cell_type": "code",
   "execution_count": 14,
   "outputs": [
    {
     "data": {
      "text/plain": "<pandas.io.formats.style.Styler at 0x1cdfa5552b0>",
      "text/html": "<style  type=\"text/css\" >\n#T_af839_row0_col0{\n            background-color:  #a9da6c;\n            color:  #000000;\n        }#T_af839_row0_col1{\n            background-color:  #5db961;\n            color:  #000000;\n        }#T_af839_row0_col2{\n            background-color:  #bfe47a;\n            color:  #000000;\n        }#T_af839_row0_col3{\n            background-color:  #60ba62;\n            color:  #000000;\n        }#T_af839_row0_col4,#T_af839_row2_col3{\n            background-color:  #9bd469;\n            color:  #000000;\n        }#T_af839_row0_col5{\n            background-color:  #fee593;\n            color:  #000000;\n        }#T_af839_row0_col6{\n            background-color:  #96d268;\n            color:  #000000;\n        }#T_af839_row1_col0{\n            background-color:  #bbe278;\n            color:  #000000;\n        }#T_af839_row1_col1{\n            background-color:  #33a456;\n            color:  #000000;\n        }#T_af839_row1_col2{\n            background-color:  #4eb15d;\n            color:  #000000;\n        }#T_af839_row1_col3{\n            background-color:  #f16640;\n            color:  #000000;\n        }#T_af839_row1_col4{\n            background-color:  #51b35e;\n            color:  #000000;\n        }#T_af839_row1_col5,#T_af839_row3_col6{\n            background-color:  #30a356;\n            color:  #000000;\n        }#T_af839_row1_col6{\n            background-color:  #ce2827;\n            color:  #f1f1f1;\n        }#T_af839_row2_col0{\n            background-color:  #cfeb85;\n            color:  #000000;\n        }#T_af839_row2_col1{\n            background-color:  #17934e;\n            color:  #000000;\n        }#T_af839_row2_col2{\n            background-color:  #097940;\n            color:  #f1f1f1;\n        }#T_af839_row2_col4{\n            background-color:  #b30d26;\n            color:  #f1f1f1;\n        }#T_af839_row2_col5{\n            background-color:  #daf08d;\n            color:  #000000;\n        }#T_af839_row2_col6{\n            background-color:  #0d8044;\n            color:  #f1f1f1;\n        }#T_af839_row3_col0{\n            background-color:  #fdb768;\n            color:  #000000;\n        }#T_af839_row3_col1{\n            background-color:  #f57245;\n            color:  #000000;\n        }#T_af839_row3_col2{\n            background-color:  #fbfdba;\n            color:  #000000;\n        }#T_af839_row3_col3{\n            background-color:  #3ca959;\n            color:  #000000;\n        }#T_af839_row3_col4{\n            background-color:  #b1de71;\n            color:  #000000;\n        }#T_af839_row3_col5{\n            background-color:  #fdaf62;\n            color:  #000000;\n        }</style><table id=\"T_af839_\" ><thead>    <tr>        <th class=\"blank level0\" ></th>        <th class=\"col_heading level0 col0\" >Pitching Rating</th>        <th class=\"col_heading level0 col1\" >Unthwackability</th>        <th class=\"col_heading level0 col2\" >Ruthlessness</th>        <th class=\"col_heading level0 col3\" >Overpowerment</th>        <th class=\"col_heading level0 col4\" >Shakespearianism</th>        <th class=\"col_heading level0 col5\" >Coldness</th>        <th class=\"col_heading level0 col6\" >Suppression</th>    </tr></thead><tbody>\n                <tr>\n                        <th id=\"T_af839_level0_row0\" class=\"row_heading level0 row0\" >Twofurious Puddles</th>\n                        <td id=\"T_af839_row0_col0\" class=\"data row0 col0\" >0.694922</td>\n                        <td id=\"T_af839_row0_col1\" class=\"data row0 col1\" >0.811110</td>\n                        <td id=\"T_af839_row0_col2\" class=\"data row0 col2\" >0.650034</td>\n                        <td id=\"T_af839_row0_col3\" class=\"data row0 col3\" >0.807712</td>\n                        <td id=\"T_af839_row0_col4\" class=\"data row0 col4\" >0.718615</td>\n                        <td id=\"T_af839_row0_col5\" class=\"data row0 col5\" >0.416240</td>\n                        <td id=\"T_af839_row0_col6\" class=\"data row0 col6\" >0.725894</td>\n            </tr>\n            <tr>\n                        <th id=\"T_af839_level0_row1\" class=\"row_heading level0 row1\" >Case Lancaster</th>\n                        <td id=\"T_af839_row1_col0\" class=\"data row1 col0\" >0.658365</td>\n                        <td id=\"T_af839_row1_col1\" class=\"data row1 col1\" >0.867044</td>\n                        <td id=\"T_af839_row1_col2\" class=\"data row1 col2\" >0.829197</td>\n                        <td id=\"T_af839_row1_col3\" class=\"data row1 col3\" >0.190119</td>\n                        <td id=\"T_af839_row1_col4\" class=\"data row1 col4\" >0.825333</td>\n                        <td id=\"T_af839_row1_col5\" class=\"data row1 col5\" >0.868251</td>\n                        <td id=\"T_af839_row1_col6\" class=\"data row1 col6\" >0.082117</td>\n            </tr>\n            <tr>\n                        <th id=\"T_af839_level0_row2\" class=\"row_heading level0 row2\" >Tiana Takahashi</th>\n                        <td id=\"T_af839_row2_col0\" class=\"data row2 col0\" >0.618850</td>\n                        <td id=\"T_af839_row2_col1\" class=\"data row2 col1\" >0.910065</td>\n                        <td id=\"T_af839_row2_col2\" class=\"data row2 col2\" >0.961592</td>\n                        <td id=\"T_af839_row2_col3\" class=\"data row2 col3\" >0.716677</td>\n                        <td id=\"T_af839_row2_col4\" class=\"data row2 col4\" >0.028954</td>\n                        <td id=\"T_af839_row2_col5\" class=\"data row2 col5\" >0.596122</td>\n                        <td id=\"T_af839_row2_col6\" class=\"data row2 col6\" >0.945940</td>\n            </tr>\n            <tr>\n                        <th id=\"T_af839_level0_row3\" class=\"row_heading level0 row3\" >Bright Zimmerman</th>\n                        <td id=\"T_af839_row3_col0\" class=\"data row3 col0\" >0.317847</td>\n                        <td id=\"T_af839_row3_col1\" class=\"data row3 col1\" >0.207882</td>\n                        <td id=\"T_af839_row3_col2\" class=\"data row3 col2\" >0.511157</td>\n                        <td id=\"T_af839_row3_col3\" class=\"data row3 col3\" >0.852666</td>\n                        <td id=\"T_af839_row3_col4\" class=\"data row3 col4\" >0.679224</td>\n                        <td id=\"T_af839_row3_col5\" class=\"data row3 col5\" >0.303950</td>\n                        <td id=\"T_af839_row3_col6\" class=\"data row3 col6\" >0.870961</td>\n            </tr>\n    </tbody></table>"
     },
     "execution_count": 14,
     "metadata": {},
     "output_type": "execute_result"
    }
   ],
   "source": [
    "set_heatmap(get_pitching_stlats(best_pitching_shadows + [worst_pitcher]), maxVal=1)"
   ],
   "metadata": {
    "collapsed": false,
    "pycharm": {
     "name": "#%%\n"
    }
   }
  },
  {
   "cell_type": "markdown",
   "metadata": {},
   "source": [
    "### Infuse\n",
    "**Boost a Player on your Team by 15% to 30%.**\n",
    "\n",
    "See below for how this would affect various team members at the 2 extreme percentages. This will only affect one player.\n",
    "\n",
    "**15% Change:**"
   ]
  },
  {
   "cell_type": "code",
   "execution_count": 15,
   "metadata": {
    "pycharm": {
     "name": "#%%\n"
    }
   },
   "outputs": [
    {
     "data": {
      "text/plain": "                 old_batting_stars  new_batting_stars  change_in_batting_stars\nFarrell Seagull           2.030782           2.902552                 0.871770\nYusef Puddles             2.147811           3.068746                 0.920935\nBeasley Day               2.695709           3.559653                 0.863944\nLang Richardson           2.914378           3.671442                 0.757064\nEduardo Woodman           4.165300           4.885272                 0.719972\nJode Preston              4.238300           4.953990                 0.715690\nJaxon Buckley             5.579461           6.233656                 0.654195",
      "text/html": "<div>\n<style scoped>\n    .dataframe tbody tr th:only-of-type {\n        vertical-align: middle;\n    }\n\n    .dataframe tbody tr th {\n        vertical-align: top;\n    }\n\n    .dataframe thead th {\n        text-align: right;\n    }\n</style>\n<table border=\"1\" class=\"dataframe\">\n  <thead>\n    <tr style=\"text-align: right;\">\n      <th></th>\n      <th>old_batting_stars</th>\n      <th>new_batting_stars</th>\n      <th>change_in_batting_stars</th>\n    </tr>\n  </thead>\n  <tbody>\n    <tr>\n      <th>Farrell Seagull</th>\n      <td>2.030782</td>\n      <td>2.902552</td>\n      <td>0.871770</td>\n    </tr>\n    <tr>\n      <th>Yusef Puddles</th>\n      <td>2.147811</td>\n      <td>3.068746</td>\n      <td>0.920935</td>\n    </tr>\n    <tr>\n      <th>Beasley Day</th>\n      <td>2.695709</td>\n      <td>3.559653</td>\n      <td>0.863944</td>\n    </tr>\n    <tr>\n      <th>Lang Richardson</th>\n      <td>2.914378</td>\n      <td>3.671442</td>\n      <td>0.757064</td>\n    </tr>\n    <tr>\n      <th>Eduardo Woodman</th>\n      <td>4.165300</td>\n      <td>4.885272</td>\n      <td>0.719972</td>\n    </tr>\n    <tr>\n      <th>Jode Preston</th>\n      <td>4.238300</td>\n      <td>4.953990</td>\n      <td>0.715690</td>\n    </tr>\n    <tr>\n      <th>Jaxon Buckley</th>\n      <td>5.579461</td>\n      <td>6.233656</td>\n      <td>0.654195</td>\n    </tr>\n  </tbody>\n</table>\n</div>"
     },
     "execution_count": 15,
     "metadata": {},
     "output_type": "execute_result"
    }
   ],
   "source": [
    "infuse_lineup_table, _, _ = improve_team_batting_table(pies, 0.15)\n",
    "infuse_lineup_table"
   ]
  },
  {
   "cell_type": "code",
   "execution_count": 16,
   "metadata": {
    "pycharm": {
     "name": "#%%\n"
    }
   },
   "outputs": [
    {
     "data": {
      "text/plain": "<pandas.io.formats.style.Styler at 0x1cdfa5619d0>",
      "text/html": "<style  type=\"text/css\" >\n#T_ea7a6_row0_col0{\n            background-color:  #e0f295;\n            color:  #000000;\n        }#T_ea7a6_row0_col1{\n            background-color:  #75c465;\n            color:  #000000;\n        }#T_ea7a6_row0_col2{\n            background-color:  #fed884;\n            color:  #000000;\n        }#T_ea7a6_row0_col3{\n            background-color:  #f67a49;\n            color:  #000000;\n        }#T_ea7a6_row0_col4,#T_ea7a6_row3_col1{\n            background-color:  #148e4b;\n            color:  #000000;\n        }#T_ea7a6_row0_col5,#T_ea7a6_row0_col7,#T_ea7a6_row1_col7,#T_ea7a6_row2_col7,#T_ea7a6_row3_col7,#T_ea7a6_row4_col7,#T_ea7a6_row5_col5,#T_ea7a6_row5_col7,#T_ea7a6_row6_col5,#T_ea7a6_row6_col7{\n            background-color:  #a90426;\n            color:  #f1f1f1;\n            background-color:  #026c39;\n            color:  #f1f1f1;\n        }#T_ea7a6_row0_col6,#T_ea7a6_row1_col1,#T_ea7a6_row1_col8,#T_ea7a6_row3_col4,#T_ea7a6_row4_col1,#T_ea7a6_row4_col2,#T_ea7a6_row5_col1,#T_ea7a6_row5_col2,#T_ea7a6_row5_col6,#T_ea7a6_row6_col0,#T_ea7a6_row6_col1,#T_ea7a6_row6_col2,#T_ea7a6_row6_col3,#T_ea7a6_row6_col4,#T_ea7a6_row6_col6,#T_ea7a6_row6_col8{\n            background-color:  #006837;\n            color:  #f1f1f1;\n        }#T_ea7a6_row0_col8{\n            background-color:  #a9da6c;\n            color:  #000000;\n        }#T_ea7a6_row1_col0{\n            background-color:  #d1ec86;\n            color:  #000000;\n        }#T_ea7a6_row1_col2{\n            background-color:  #fdbf6f;\n            color:  #000000;\n        }#T_ea7a6_row1_col3{\n            background-color:  #51b35e;\n            color:  #000000;\n        }#T_ea7a6_row1_col4{\n            background-color:  #fdaf62;\n            color:  #000000;\n        }#T_ea7a6_row1_col5{\n            background-color:  #fffab6;\n            color:  #000000;\n            background-color:  #f8fcb6;\n            color:  #000000;\n        }#T_ea7a6_row1_col6{\n            background-color:  #f99355;\n            color:  #000000;\n        }#T_ea7a6_row2_col0{\n            background-color:  #9dd569;\n            color:  #000000;\n        }#T_ea7a6_row2_col1{\n            background-color:  #4bb05c;\n            color:  #000000;\n        }#T_ea7a6_row2_col2{\n            background-color:  #48ae5c;\n            color:  #000000;\n        }#T_ea7a6_row2_col3{\n            background-color:  #f67f4b;\n            color:  #000000;\n        }#T_ea7a6_row2_col4{\n            background-color:  #feca79;\n            color:  #000000;\n        }#T_ea7a6_row2_col5{\n            background-color:  #fdb768;\n            color:  #000000;\n            background-color:  #afdd70;\n            color:  #000000;\n        }#T_ea7a6_row2_col6{\n            background-color:  #b3df72;\n            color:  #000000;\n        }#T_ea7a6_row2_col8{\n            background-color:  #18954f;\n            color:  #000000;\n        }#T_ea7a6_row3_col0{\n            background-color:  #91d068;\n            color:  #000000;\n        }#T_ea7a6_row3_col2{\n            background-color:  #feffbe;\n            color:  #000000;\n        }#T_ea7a6_row3_col3{\n            background-color:  #a0d669;\n            color:  #000000;\n        }#T_ea7a6_row3_col5{\n            background-color:  #d42d27;\n            color:  #f1f1f1;\n            background-color:  #18954f;\n            color:  #000000;\n        }#T_ea7a6_row3_col6{\n            background-color:  #e2f397;\n            color:  #000000;\n        }#T_ea7a6_row3_col8{\n            background-color:  #c5e67e;\n            color:  #000000;\n        }#T_ea7a6_row4_col0{\n            background-color:  #05713c;\n            color:  #f1f1f1;\n        }#T_ea7a6_row4_col3{\n            background-color:  #66bd63;\n            color:  #000000;\n        }#T_ea7a6_row4_col4,#T_ea7a6_row4_col6{\n            background-color:  #96d268;\n            color:  #000000;\n        }#T_ea7a6_row4_col5{\n            background-color:  #feefa3;\n            color:  #000000;\n            background-color:  #ebf7a3;\n            color:  #000000;\n        }#T_ea7a6_row4_col8{\n            background-color:  #39a758;\n            color:  #000000;\n        }#T_ea7a6_row5_col0{\n            background-color:  #026c39;\n            color:  #f1f1f1;\n        }#T_ea7a6_row5_col3{\n            background-color:  #73c264;\n            color:  #000000;\n        }#T_ea7a6_row5_col4{\n            background-color:  #fedc88;\n            color:  #000000;\n        }#T_ea7a6_row5_col8{\n            background-color:  #fdb768;\n            color:  #000000;\n        }</style><table id=\"T_ea7a6_\" ><thead>    <tr>        <th class=\"blank level0\" ></th>        <th class=\"col_heading level0 col0\" >Batting Rating</th>        <th class=\"col_heading level0 col1\" >Thwackability</th>        <th class=\"col_heading level0 col2\" >Divinity</th>        <th class=\"col_heading level0 col3\" >Musclitude</th>        <th class=\"col_heading level0 col4\" >Moxie</th>        <th class=\"col_heading level0 col5\" >Patheticism</th>        <th class=\"col_heading level0 col6\" >Martyrdom</th>        <th class=\"col_heading level0 col7\" >Tragicness</th>        <th class=\"col_heading level0 col8\" >Buoyancy</th>    </tr></thead><tbody>\n                <tr>\n                        <th id=\"T_ea7a6_level0_row0\" class=\"row_heading level0 row0\" >Farrell Seagull</th>\n                        <td id=\"T_ea7a6_row0_col0\" class=\"data row0 col0\" >0.580510</td>\n                        <td id=\"T_ea7a6_row0_col1\" class=\"data row0 col1\" >0.773806</td>\n                        <td id=\"T_ea7a6_row0_col2\" class=\"data row0 col2\" >0.385514</td>\n                        <td id=\"T_ea7a6_row0_col3\" class=\"data row0 col3\" >0.219620</td>\n                        <td id=\"T_ea7a6_row0_col4\" class=\"data row0 col4\" >0.918254</td>\n                        <td id=\"T_ea7a6_row0_col5\" class=\"data row0 col5\" >0.010000</td>\n                        <td id=\"T_ea7a6_row0_col6\" class=\"data row0 col6\" >1.010282</td>\n                        <td id=\"T_ea7a6_row0_col7\" class=\"data row0 col7\" >0.010000</td>\n                        <td id=\"T_ea7a6_row0_col8\" class=\"data row0 col8\" >0.692776</td>\n            </tr>\n            <tr>\n                        <th id=\"T_ea7a6_level0_row1\" class=\"row_heading level0 row1\" >Yusef Puddles</th>\n                        <td id=\"T_ea7a6_row1_col0\" class=\"data row1 col0\" >0.613749</td>\n                        <td id=\"T_ea7a6_row1_col1\" class=\"data row1 col1\" >1.183698</td>\n                        <td id=\"T_ea7a6_row1_col2\" class=\"data row1 col2\" >0.334577</td>\n                        <td id=\"T_ea7a6_row1_col3\" class=\"data row1 col3\" >0.825196</td>\n                        <td id=\"T_ea7a6_row1_col4\" class=\"data row1 col4\" >0.301908</td>\n                        <td id=\"T_ea7a6_row1_col5\" class=\"data row1 col5\" >0.480778</td>\n                        <td id=\"T_ea7a6_row1_col6\" class=\"data row1 col6\" >0.260821</td>\n                        <td id=\"T_ea7a6_row1_col7\" class=\"data row1 col7\" >0.010000</td>\n                        <td id=\"T_ea7a6_row1_col8\" class=\"data row1 col8\" >1.160015</td>\n            </tr>\n            <tr>\n                        <th id=\"T_ea7a6_level0_row2\" class=\"row_heading level0 row2\" >Beasley Day</th>\n                        <td id=\"T_ea7a6_row2_col0\" class=\"data row2 col0\" >0.711931</td>\n                        <td id=\"T_ea7a6_row2_col1\" class=\"data row2 col1\" >0.835000</td>\n                        <td id=\"T_ea7a6_row2_col2\" class=\"data row2 col2\" >0.838801</td>\n                        <td id=\"T_ea7a6_row2_col3\" class=\"data row2 col3\" >0.227669</td>\n                        <td id=\"T_ea7a6_row2_col4\" class=\"data row2 col4\" >0.358479</td>\n                        <td id=\"T_ea7a6_row2_col5\" class=\"data row2 col5\" >0.318964</td>\n                        <td id=\"T_ea7a6_row2_col6\" class=\"data row2 col6\" >0.673706</td>\n                        <td id=\"T_ea7a6_row2_col7\" class=\"data row2 col7\" >0.010000</td>\n                        <td id=\"T_ea7a6_row2_col8\" class=\"data row2 col8\" >0.903672</td>\n            </tr>\n            <tr>\n                        <th id=\"T_ea7a6_level0_row3\" class=\"row_heading level0 row3\" >Lang Richardson</th>\n                        <td id=\"T_ea7a6_row3_col0\" class=\"data row3 col0\" >0.734288</td>\n                        <td id=\"T_ea7a6_row3_col1\" class=\"data row3 col1\" >0.920859</td>\n                        <td id=\"T_ea7a6_row3_col2\" class=\"data row3 col2\" >0.503631</td>\n                        <td id=\"T_ea7a6_row3_col3\" class=\"data row3 col3\" >0.708549</td>\n                        <td id=\"T_ea7a6_row3_col4\" class=\"data row3 col4\" >1.028068</td>\n                        <td id=\"T_ea7a6_row3_col5\" class=\"data row3 col5\" >0.096647</td>\n                        <td id=\"T_ea7a6_row3_col6\" class=\"data row3 col6\" >0.577515</td>\n                        <td id=\"T_ea7a6_row3_col7\" class=\"data row3 col7\" >0.010000</td>\n                        <td id=\"T_ea7a6_row3_col8\" class=\"data row3 col8\" >0.636870</td>\n            </tr>\n            <tr>\n                        <th id=\"T_ea7a6_level0_row4\" class=\"row_heading level0 row4\" >Eduardo Woodman</th>\n                        <td id=\"T_ea7a6_row4_col0\" class=\"data row4 col0\" >0.977054</td>\n                        <td id=\"T_ea7a6_row4_col1\" class=\"data row4 col1\" >1.169391</td>\n                        <td id=\"T_ea7a6_row4_col2\" class=\"data row4 col2\" >0.996540</td>\n                        <td id=\"T_ea7a6_row4_col3\" class=\"data row4 col3\" >0.800666</td>\n                        <td id=\"T_ea7a6_row4_col4\" class=\"data row4 col4\" >0.725519</td>\n                        <td id=\"T_ea7a6_row4_col5\" class=\"data row4 col5\" >0.445517</td>\n                        <td id=\"T_ea7a6_row4_col6\" class=\"data row4 col6\" >0.724554</td>\n                        <td id=\"T_ea7a6_row4_col7\" class=\"data row4 col7\" >0.010000</td>\n                        <td id=\"T_ea7a6_row4_col8\" class=\"data row4 col8\" >0.855869</td>\n            </tr>\n            <tr>\n                        <th id=\"T_ea7a6_level0_row5\" class=\"row_heading level0 row5\" >Jode Preston</th>\n                        <td id=\"T_ea7a6_row5_col0\" class=\"data row5 col0\" >0.990798</td>\n                        <td id=\"T_ea7a6_row5_col1\" class=\"data row5 col1\" >1.109775</td>\n                        <td id=\"T_ea7a6_row5_col2\" class=\"data row5 col2\" >1.132217</td>\n                        <td id=\"T_ea7a6_row5_col3\" class=\"data row5 col3\" >0.777863</td>\n                        <td id=\"T_ea7a6_row5_col4\" class=\"data row5 col4\" >0.391277</td>\n                        <td id=\"T_ea7a6_row5_col5\" class=\"data row5 col5\" >0.010000</td>\n                        <td id=\"T_ea7a6_row5_col6\" class=\"data row5 col6\" >1.033390</td>\n                        <td id=\"T_ea7a6_row5_col7\" class=\"data row5 col7\" >0.010000</td>\n                        <td id=\"T_ea7a6_row5_col8\" class=\"data row5 col8\" >0.319496</td>\n            </tr>\n            <tr>\n                        <th id=\"T_ea7a6_level0_row6\" class=\"row_heading level0 row6\" >Jaxon Buckley</th>\n                        <td id=\"T_ea7a6_row6_col0\" class=\"data row6 col0\" >1.246731</td>\n                        <td id=\"T_ea7a6_row6_col1\" class=\"data row6 col1\" >1.440397</td>\n                        <td id=\"T_ea7a6_row6_col2\" class=\"data row6 col2\" >0.997503</td>\n                        <td id=\"T_ea7a6_row6_col3\" class=\"data row6 col3\" >1.629805</td>\n                        <td id=\"T_ea7a6_row6_col4\" class=\"data row6 col4\" >1.822769</td>\n                        <td id=\"T_ea7a6_row6_col5\" class=\"data row6 col5\" >0.010000</td>\n                        <td id=\"T_ea7a6_row6_col6\" class=\"data row6 col6\" >1.879523</td>\n                        <td id=\"T_ea7a6_row6_col7\" class=\"data row6 col7\" >0.010000</td>\n                        <td id=\"T_ea7a6_row6_col8\" class=\"data row6 col8\" >1.296485</td>\n            </tr>\n    </tbody></table>"
     },
     "execution_count": 16,
     "metadata": {},
     "output_type": "execute_result"
    }
   ],
   "source": [
    "set_heatmap(get_batting_stlats(improve_team_batting(pies, 0.15)), maxVal=1.0)"
   ]
  },
  {
   "cell_type": "code",
   "execution_count": 17,
   "metadata": {
    "pycharm": {
     "name": "#%%\n"
    }
   },
   "outputs": [
    {
     "data": {
      "text/plain": "                  old_pitching_stars  new_pitching_stars  \\\nBright Zimmerman            1.589235            2.440212   \nHenry Marshallow            2.143457            3.080575   \nRuslan Greatness            2.425975            3.254199   \nNicholas Mora               2.832423            3.761138   \nElvis Figueroa              4.748317            5.651779   \n\n                  change_in_pitching_stars  \nBright Zimmerman                  0.850976  \nHenry Marshallow                  0.937118  \nRuslan Greatness                  0.828224  \nNicholas Mora                     0.928715  \nElvis Figueroa                    0.903462  ",
      "text/html": "<div>\n<style scoped>\n    .dataframe tbody tr th:only-of-type {\n        vertical-align: middle;\n    }\n\n    .dataframe tbody tr th {\n        vertical-align: top;\n    }\n\n    .dataframe thead th {\n        text-align: right;\n    }\n</style>\n<table border=\"1\" class=\"dataframe\">\n  <thead>\n    <tr style=\"text-align: right;\">\n      <th></th>\n      <th>old_pitching_stars</th>\n      <th>new_pitching_stars</th>\n      <th>change_in_pitching_stars</th>\n    </tr>\n  </thead>\n  <tbody>\n    <tr>\n      <th>Bright Zimmerman</th>\n      <td>1.589235</td>\n      <td>2.440212</td>\n      <td>0.850976</td>\n    </tr>\n    <tr>\n      <th>Henry Marshallow</th>\n      <td>2.143457</td>\n      <td>3.080575</td>\n      <td>0.937118</td>\n    </tr>\n    <tr>\n      <th>Ruslan Greatness</th>\n      <td>2.425975</td>\n      <td>3.254199</td>\n      <td>0.828224</td>\n    </tr>\n    <tr>\n      <th>Nicholas Mora</th>\n      <td>2.832423</td>\n      <td>3.761138</td>\n      <td>0.928715</td>\n    </tr>\n    <tr>\n      <th>Elvis Figueroa</th>\n      <td>4.748317</td>\n      <td>5.651779</td>\n      <td>0.903462</td>\n    </tr>\n  </tbody>\n</table>\n</div>"
     },
     "execution_count": 17,
     "metadata": {},
     "output_type": "execute_result"
    }
   ],
   "source": [
    "infuse_rotation_table, _, _ = improve_team_pitching_table(pies, 0.15)\n",
    "infuse_rotation_table\n"
   ]
  },
  {
   "cell_type": "code",
   "execution_count": 18,
   "metadata": {
    "pycharm": {
     "name": "#%%\n"
    }
   },
   "outputs": [
    {
     "data": {
      "text/plain": "<pandas.io.formats.style.Styler at 0x1cdfa561d00>",
      "text/html": "<style  type=\"text/css\" >\n#T_1fb85_row0_col0{\n            background-color:  #fffbb8;\n            color:  #000000;\n        }#T_1fb85_row0_col1{\n            background-color:  #feca79;\n            color:  #000000;\n        }#T_1fb85_row0_col2{\n            background-color:  #b9e176;\n            color:  #000000;\n        }#T_1fb85_row0_col3,#T_1fb85_row0_col6,#T_1fb85_row1_col2,#T_1fb85_row1_col3,#T_1fb85_row2_col3,#T_1fb85_row2_col6,#T_1fb85_row3_col1,#T_1fb85_row4_col0,#T_1fb85_row4_col1,#T_1fb85_row4_col2,#T_1fb85_row4_col3{\n            background-color:  #006837;\n            color:  #f1f1f1;\n        }#T_1fb85_row0_col4{\n            background-color:  #4eb15d;\n            color:  #000000;\n        }#T_1fb85_row0_col5{\n            background-color:  #fff1a8;\n            color:  #000000;\n        }#T_1fb85_row1_col0{\n            background-color:  #d1ec86;\n            color:  #000000;\n        }#T_1fb85_row1_col1{\n            background-color:  #fed884;\n            color:  #000000;\n        }#T_1fb85_row1_col4,#T_1fb85_row2_col1{\n            background-color:  #c7e77f;\n            color:  #000000;\n        }#T_1fb85_row1_col5{\n            background-color:  #98d368;\n            color:  #000000;\n        }#T_1fb85_row1_col6{\n            background-color:  #60ba62;\n            color:  #000000;\n        }#T_1fb85_row2_col0{\n            background-color:  #bfe47a;\n            color:  #000000;\n        }#T_1fb85_row2_col2,#T_1fb85_row3_col5{\n            background-color:  #c9e881;\n            color:  #000000;\n        }#T_1fb85_row2_col4{\n            background-color:  #2aa054;\n            color:  #000000;\n        }#T_1fb85_row2_col5{\n            background-color:  #fff6b0;\n            color:  #000000;\n        }#T_1fb85_row3_col0{\n            background-color:  #84ca66;\n            color:  #000000;\n        }#T_1fb85_row3_col2{\n            background-color:  #fffdbc;\n            color:  #000000;\n        }#T_1fb85_row3_col3{\n            background-color:  #a2d76a;\n            color:  #000000;\n        }#T_1fb85_row3_col4{\n            background-color:  #f8fcb6;\n            color:  #000000;\n        }#T_1fb85_row3_col6{\n            background-color:  #e0f295;\n            color:  #000000;\n        }#T_1fb85_row4_col4{\n            background-color:  #48ae5c;\n            color:  #000000;\n        }#T_1fb85_row4_col5{\n            background-color:  #fff8b4;\n            color:  #000000;\n        }#T_1fb85_row4_col6{\n            background-color:  #89cc67;\n            color:  #000000;\n        }</style><table id=\"T_1fb85_\" ><thead>    <tr>        <th class=\"blank level0\" ></th>        <th class=\"col_heading level0 col0\" >Pitching Rating</th>        <th class=\"col_heading level0 col1\" >Unthwackability</th>        <th class=\"col_heading level0 col2\" >Ruthlessness</th>        <th class=\"col_heading level0 col3\" >Overpowerment</th>        <th class=\"col_heading level0 col4\" >Shakespearianism</th>        <th class=\"col_heading level0 col5\" >Coldness</th>        <th class=\"col_heading level0 col6\" >Suppression</th>    </tr></thead><tbody>\n                <tr>\n                        <th id=\"T_1fb85_level0_row0\" class=\"row_heading level0 row0\" >Bright Zimmerman</th>\n                        <td id=\"T_1fb85_row0_col0\" class=\"data row0 col0\" >0.488042</td>\n                        <td id=\"T_1fb85_row0_col1\" class=\"data row0 col1\" >0.357882</td>\n                        <td id=\"T_1fb85_row0_col2\" class=\"data row0 col2\" >0.661157</td>\n                        <td id=\"T_1fb85_row0_col3\" class=\"data row0 col3\" >1.002666</td>\n                        <td id=\"T_1fb85_row0_col4\" class=\"data row0 col4\" >0.829224</td>\n                        <td id=\"T_1fb85_row0_col5\" class=\"data row0 col5\" >0.453950</td>\n                        <td id=\"T_1fb85_row0_col6\" class=\"data row0 col6\" >1.020961</td>\n            </tr>\n            <tr>\n                        <th id=\"T_1fb85_level0_row1\" class=\"row_heading level0 row1\" >Henry Marshallow</th>\n                        <td id=\"T_1fb85_row1_col0\" class=\"data row1 col0\" >0.616115</td>\n                        <td id=\"T_1fb85_row1_col1\" class=\"data row1 col1\" >0.383266</td>\n                        <td id=\"T_1fb85_row1_col2\" class=\"data row1 col2\" >1.032016</td>\n                        <td id=\"T_1fb85_row1_col3\" class=\"data row1 col3\" >1.273135</td>\n                        <td id=\"T_1fb85_row1_col4\" class=\"data row1 col4\" >0.634581</td>\n                        <td id=\"T_1fb85_row1_col5\" class=\"data row1 col5\" >0.721587</td>\n                        <td id=\"T_1fb85_row1_col6\" class=\"data row1 col6\" >0.806728</td>\n            </tr>\n            <tr>\n                        <th id=\"T_1fb85_level0_row2\" class=\"row_heading level0 row2\" >Ruslan Greatness</th>\n                        <td id=\"T_1fb85_row2_col0\" class=\"data row2 col0\" >0.650840</td>\n                        <td id=\"T_1fb85_row2_col1\" class=\"data row2 col1\" >0.634582</td>\n                        <td id=\"T_1fb85_row2_col2\" class=\"data row2 col2\" >0.631892</td>\n                        <td id=\"T_1fb85_row2_col3\" class=\"data row2 col3\" >1.094604</td>\n                        <td id=\"T_1fb85_row2_col4\" class=\"data row2 col4\" >0.876276</td>\n                        <td id=\"T_1fb85_row2_col5\" class=\"data row2 col5\" >0.470791</td>\n                        <td id=\"T_1fb85_row2_col6\" class=\"data row2 col6\" >1.235039</td>\n            </tr>\n            <tr>\n                        <th id=\"T_1fb85_level0_row3\" class=\"row_heading level0 row3\" >Nicholas Mora</th>\n                        <td id=\"T_1fb85_row3_col0\" class=\"data row3 col0\" >0.752228</td>\n                        <td id=\"T_1fb85_row3_col1\" class=\"data row3 col1\" >1.290948</td>\n                        <td id=\"T_1fb85_row3_col2\" class=\"data row3 col2\" >0.493723</td>\n                        <td id=\"T_1fb85_row3_col3\" class=\"data row3 col3\" >0.703609</td>\n                        <td id=\"T_1fb85_row3_col4\" class=\"data row3 col4\" >0.517345</td>\n                        <td id=\"T_1fb85_row3_col5\" class=\"data row3 col5\" >0.632330</td>\n                        <td id=\"T_1fb85_row3_col6\" class=\"data row3 col6\" >0.581032</td>\n            </tr>\n            <tr>\n                        <th id=\"T_1fb85_level0_row4\" class=\"row_heading level0 row4\" >Elvis Figueroa</th>\n                        <td id=\"T_1fb85_row4_col0\" class=\"data row4 col0\" >1.130356</td>\n                        <td id=\"T_1fb85_row4_col1\" class=\"data row4 col1\" >1.186387</td>\n                        <td id=\"T_1fb85_row4_col2\" class=\"data row4 col2\" >1.165972</td>\n                        <td id=\"T_1fb85_row4_col3\" class=\"data row4 col3\" >1.080460</td>\n                        <td id=\"T_1fb85_row4_col4\" class=\"data row4 col4\" >0.839138</td>\n                        <td id=\"T_1fb85_row4_col5\" class=\"data row4 col5\" >0.478725</td>\n                        <td id=\"T_1fb85_row4_col6\" class=\"data row4 col6\" >0.742661</td>\n            </tr>\n    </tbody></table>"
     },
     "execution_count": 18,
     "metadata": {},
     "output_type": "execute_result"
    }
   ],
   "source": [
    "set_heatmap(get_pitching_stlats(improve_team_pitching(pies, 0.15)), maxVal=1)\n"
   ]
  },
  {
   "cell_type": "markdown",
   "metadata": {
    "pycharm": {
     "name": "#%% md\n"
    }
   },
   "source": [
    "**30% Change:**"
   ]
  },
  {
   "cell_type": "code",
   "execution_count": 19,
   "metadata": {
    "pycharm": {
     "name": "#%%\n"
    }
   },
   "outputs": [
    {
     "data": {
      "text/plain": "                 old_batting_stars  new_batting_stars  change_in_batting_stars\nFarrell Seagull           2.030782           3.653884                 1.623103\nYusef Puddles             2.147811           3.885398                 1.737587\nBeasley Day               2.695709           4.319837                 1.624128\nLang Richardson           2.914378           4.386193                 1.471815\nEduardo Woodman           4.165300           5.585918                 1.420618\nJode Preston              4.238300           5.631545                 1.393245\nJaxon Buckley             5.579461           6.873935                 1.294474",
      "text/html": "<div>\n<style scoped>\n    .dataframe tbody tr th:only-of-type {\n        vertical-align: middle;\n    }\n\n    .dataframe tbody tr th {\n        vertical-align: top;\n    }\n\n    .dataframe thead th {\n        text-align: right;\n    }\n</style>\n<table border=\"1\" class=\"dataframe\">\n  <thead>\n    <tr style=\"text-align: right;\">\n      <th></th>\n      <th>old_batting_stars</th>\n      <th>new_batting_stars</th>\n      <th>change_in_batting_stars</th>\n    </tr>\n  </thead>\n  <tbody>\n    <tr>\n      <th>Farrell Seagull</th>\n      <td>2.030782</td>\n      <td>3.653884</td>\n      <td>1.623103</td>\n    </tr>\n    <tr>\n      <th>Yusef Puddles</th>\n      <td>2.147811</td>\n      <td>3.885398</td>\n      <td>1.737587</td>\n    </tr>\n    <tr>\n      <th>Beasley Day</th>\n      <td>2.695709</td>\n      <td>4.319837</td>\n      <td>1.624128</td>\n    </tr>\n    <tr>\n      <th>Lang Richardson</th>\n      <td>2.914378</td>\n      <td>4.386193</td>\n      <td>1.471815</td>\n    </tr>\n    <tr>\n      <th>Eduardo Woodman</th>\n      <td>4.165300</td>\n      <td>5.585918</td>\n      <td>1.420618</td>\n    </tr>\n    <tr>\n      <th>Jode Preston</th>\n      <td>4.238300</td>\n      <td>5.631545</td>\n      <td>1.393245</td>\n    </tr>\n    <tr>\n      <th>Jaxon Buckley</th>\n      <td>5.579461</td>\n      <td>6.873935</td>\n      <td>1.294474</td>\n    </tr>\n  </tbody>\n</table>\n</div>"
     },
     "execution_count": 19,
     "metadata": {},
     "output_type": "execute_result"
    }
   ],
   "source": [
    "infuse_lineup_table, _, _ = improve_team_batting_table(pies, 0.30)\n",
    "infuse_lineup_table"
   ]
  },
  {
   "cell_type": "code",
   "execution_count": 20,
   "metadata": {
    "pycharm": {
     "name": "#%%\n"
    }
   },
   "outputs": [
    {
     "data": {
      "text/plain": "<pandas.io.formats.style.Styler at 0x1cdfa5c5cd0>",
      "text/html": "<style  type=\"text/css\" >\n#T_6a474_row0_col0{\n            background-color:  #91d068;\n            color:  #000000;\n        }#T_6a474_row0_col1{\n            background-color:  #138c4a;\n            color:  #000000;\n        }#T_6a474_row0_col2{\n            background-color:  #f1f9ac;\n            color:  #000000;\n        }#T_6a474_row0_col3{\n            background-color:  #fed07e;\n            color:  #000000;\n        }#T_6a474_row0_col4,#T_6a474_row0_col6,#T_6a474_row1_col1,#T_6a474_row1_col8,#T_6a474_row2_col8,#T_6a474_row3_col1,#T_6a474_row3_col4,#T_6a474_row4_col0,#T_6a474_row4_col1,#T_6a474_row4_col2,#T_6a474_row4_col8,#T_6a474_row5_col0,#T_6a474_row5_col1,#T_6a474_row5_col2,#T_6a474_row5_col6,#T_6a474_row6_col0,#T_6a474_row6_col1,#T_6a474_row6_col2,#T_6a474_row6_col3,#T_6a474_row6_col4,#T_6a474_row6_col6,#T_6a474_row6_col8{\n            background-color:  #006837;\n            color:  #f1f1f1;\n        }#T_6a474_row0_col5,#T_6a474_row0_col7,#T_6a474_row1_col7,#T_6a474_row2_col7,#T_6a474_row3_col5,#T_6a474_row3_col7,#T_6a474_row4_col7,#T_6a474_row5_col5,#T_6a474_row5_col7,#T_6a474_row6_col5,#T_6a474_row6_col7{\n            background-color:  #a90426;\n            color:  #f1f1f1;\n            background-color:  #026c39;\n            color:  #f1f1f1;\n        }#T_6a474_row0_col8{\n            background-color:  #45ad5b;\n            color:  #000000;\n        }#T_6a474_row1_col0{\n            background-color:  #75c465;\n            color:  #000000;\n        }#T_6a474_row1_col2{\n            background-color:  #fffbb8;\n            color:  #000000;\n        }#T_6a474_row1_col3{\n            background-color:  #06733d;\n            color:  #f1f1f1;\n        }#T_6a474_row1_col4{\n            background-color:  #fff0a6;\n            color:  #000000;\n        }#T_6a474_row1_col5{\n            background-color:  #fdbd6d;\n            color:  #000000;\n            background-color:  #b5df74;\n            color:  #000000;\n        }#T_6a474_row1_col6{\n            background-color:  #fee491;\n            color:  #000000;\n        }#T_6a474_row2_col0{\n            background-color:  #33a456;\n            color:  #000000;\n        }#T_6a474_row2_col1{\n            background-color:  #036e3a;\n            color:  #f1f1f1;\n        }#T_6a474_row2_col2{\n            background-color:  #026c39;\n            color:  #f1f1f1;\n        }#T_6a474_row2_col3{\n            background-color:  #fed481;\n            color:  #000000;\n        }#T_6a474_row2_col4{\n            background-color:  #fbfdba;\n            color:  #000000;\n        }#T_6a474_row2_col5{\n            background-color:  #eb5a3a;\n            color:  #000000;\n            background-color:  #4eb15d;\n            color:  #000000;\n        }#T_6a474_row2_col6{\n            background-color:  #54b45f;\n            color:  #000000;\n        }#T_6a474_row3_col0,#T_6a474_row4_col4{\n            background-color:  #2aa054;\n            color:  #000000;\n        }#T_6a474_row3_col2{\n            background-color:  #bde379;\n            color:  #000000;\n        }#T_6a474_row3_col3{\n            background-color:  #39a758;\n            color:  #000000;\n        }#T_6a474_row3_col6{\n            background-color:  #93d168;\n            color:  #000000;\n        }#T_6a474_row3_col8{\n            background-color:  #6ec064;\n            color:  #000000;\n        }#T_6a474_row4_col3{\n            background-color:  #0c7f43;\n            color:  #f1f1f1;\n        }#T_6a474_row4_col5{\n            background-color:  #fcaa5f;\n            color:  #000000;\n            background-color:  #a2d76a;\n            color:  #000000;\n        }#T_6a474_row4_col6{\n            background-color:  #2da155;\n            color:  #000000;\n        }#T_6a474_row5_col3{\n            background-color:  #128a49;\n            color:  #000000;\n        }#T_6a474_row5_col4{\n            background-color:  #eff8aa;\n            color:  #000000;\n        }#T_6a474_row5_col8{\n            background-color:  #fff6b0;\n            color:  #000000;\n        }</style><table id=\"T_6a474_\" ><thead>    <tr>        <th class=\"blank level0\" ></th>        <th class=\"col_heading level0 col0\" >Batting Rating</th>        <th class=\"col_heading level0 col1\" >Thwackability</th>        <th class=\"col_heading level0 col2\" >Divinity</th>        <th class=\"col_heading level0 col3\" >Musclitude</th>        <th class=\"col_heading level0 col4\" >Moxie</th>        <th class=\"col_heading level0 col5\" >Patheticism</th>        <th class=\"col_heading level0 col6\" >Martyrdom</th>        <th class=\"col_heading level0 col7\" >Tragicness</th>        <th class=\"col_heading level0 col8\" >Buoyancy</th>    </tr></thead><tbody>\n                <tr>\n                        <th id=\"T_6a474_level0_row0\" class=\"row_heading level0 row0\" >Farrell Seagull</th>\n                        <td id=\"T_6a474_row0_col0\" class=\"data row0 col0\" >0.730777</td>\n                        <td id=\"T_6a474_row0_col1\" class=\"data row0 col1\" >0.923806</td>\n                        <td id=\"T_6a474_row0_col2\" class=\"data row0 col2\" >0.535514</td>\n                        <td id=\"T_6a474_row0_col3\" class=\"data row0 col3\" >0.369620</td>\n                        <td id=\"T_6a474_row0_col4\" class=\"data row0 col4\" >1.068254</td>\n                        <td id=\"T_6a474_row0_col5\" class=\"data row0 col5\" >0.010000</td>\n                        <td id=\"T_6a474_row0_col6\" class=\"data row0 col6\" >1.160282</td>\n                        <td id=\"T_6a474_row0_col7\" class=\"data row0 col7\" >0.010000</td>\n                        <td id=\"T_6a474_row0_col8\" class=\"data row0 col8\" >0.842776</td>\n            </tr>\n            <tr>\n                        <th id=\"T_6a474_level0_row1\" class=\"row_heading level0 row1\" >Yusef Puddles</th>\n                        <td id=\"T_6a474_row1_col0\" class=\"data row1 col0\" >0.777080</td>\n                        <td id=\"T_6a474_row1_col1\" class=\"data row1 col1\" >1.333698</td>\n                        <td id=\"T_6a474_row1_col2\" class=\"data row1 col2\" >0.484577</td>\n                        <td id=\"T_6a474_row1_col3\" class=\"data row1 col3\" >0.975196</td>\n                        <td id=\"T_6a474_row1_col4\" class=\"data row1 col4\" >0.451908</td>\n                        <td id=\"T_6a474_row1_col5\" class=\"data row1 col5\" >0.330778</td>\n                        <td id=\"T_6a474_row1_col6\" class=\"data row1 col6\" >0.410821</td>\n                        <td id=\"T_6a474_row1_col7\" class=\"data row1 col7\" >0.010000</td>\n                        <td id=\"T_6a474_row1_col8\" class=\"data row1 col8\" >1.310015</td>\n            </tr>\n            <tr>\n                        <th id=\"T_6a474_level0_row2\" class=\"row_heading level0 row2\" >Beasley Day</th>\n                        <td id=\"T_6a474_row2_col0\" class=\"data row2 col0\" >0.863967</td>\n                        <td id=\"T_6a474_row2_col1\" class=\"data row2 col1\" >0.985000</td>\n                        <td id=\"T_6a474_row2_col2\" class=\"data row2 col2\" >0.988801</td>\n                        <td id=\"T_6a474_row2_col3\" class=\"data row2 col3\" >0.377669</td>\n                        <td id=\"T_6a474_row2_col4\" class=\"data row2 col4\" >0.508479</td>\n                        <td id=\"T_6a474_row2_col5\" class=\"data row2 col5\" >0.168964</td>\n                        <td id=\"T_6a474_row2_col6\" class=\"data row2 col6\" >0.823706</td>\n                        <td id=\"T_6a474_row2_col7\" class=\"data row2 col7\" >0.010000</td>\n                        <td id=\"T_6a474_row2_col8\" class=\"data row2 col8\" >1.053672</td>\n            </tr>\n            <tr>\n                        <th id=\"T_6a474_level0_row3\" class=\"row_heading level0 row3\" >Lang Richardson</th>\n                        <td id=\"T_6a474_row3_col0\" class=\"data row3 col0\" >0.877239</td>\n                        <td id=\"T_6a474_row3_col1\" class=\"data row3 col1\" >1.070859</td>\n                        <td id=\"T_6a474_row3_col2\" class=\"data row3 col2\" >0.653631</td>\n                        <td id=\"T_6a474_row3_col3\" class=\"data row3 col3\" >0.858549</td>\n                        <td id=\"T_6a474_row3_col4\" class=\"data row3 col4\" >1.178068</td>\n                        <td id=\"T_6a474_row3_col5\" class=\"data row3 col5\" >0.010000</td>\n                        <td id=\"T_6a474_row3_col6\" class=\"data row3 col6\" >0.727515</td>\n                        <td id=\"T_6a474_row3_col7\" class=\"data row3 col7\" >0.010000</td>\n                        <td id=\"T_6a474_row3_col8\" class=\"data row3 col8\" >0.786870</td>\n            </tr>\n            <tr>\n                        <th id=\"T_6a474_level0_row4\" class=\"row_heading level0 row4\" >Eduardo Woodman</th>\n                        <td id=\"T_6a474_row4_col0\" class=\"data row4 col0\" >1.117184</td>\n                        <td id=\"T_6a474_row4_col1\" class=\"data row4 col1\" >1.319391</td>\n                        <td id=\"T_6a474_row4_col2\" class=\"data row4 col2\" >1.146540</td>\n                        <td id=\"T_6a474_row4_col3\" class=\"data row4 col3\" >0.950666</td>\n                        <td id=\"T_6a474_row4_col4\" class=\"data row4 col4\" >0.875519</td>\n                        <td id=\"T_6a474_row4_col5\" class=\"data row4 col5\" >0.295517</td>\n                        <td id=\"T_6a474_row4_col6\" class=\"data row4 col6\" >0.874554</td>\n                        <td id=\"T_6a474_row4_col7\" class=\"data row4 col7\" >0.010000</td>\n                        <td id=\"T_6a474_row4_col8\" class=\"data row4 col8\" >1.005869</td>\n            </tr>\n            <tr>\n                        <th id=\"T_6a474_level0_row5\" class=\"row_heading level0 row5\" >Jode Preston</th>\n                        <td id=\"T_6a474_row5_col0\" class=\"data row5 col0\" >1.126309</td>\n                        <td id=\"T_6a474_row5_col1\" class=\"data row5 col1\" >1.259775</td>\n                        <td id=\"T_6a474_row5_col2\" class=\"data row5 col2\" >1.282217</td>\n                        <td id=\"T_6a474_row5_col3\" class=\"data row5 col3\" >0.927863</td>\n                        <td id=\"T_6a474_row5_col4\" class=\"data row5 col4\" >0.541277</td>\n                        <td id=\"T_6a474_row5_col5\" class=\"data row5 col5\" >0.010000</td>\n                        <td id=\"T_6a474_row5_col6\" class=\"data row5 col6\" >1.183390</td>\n                        <td id=\"T_6a474_row5_col7\" class=\"data row5 col7\" >0.010000</td>\n                        <td id=\"T_6a474_row5_col8\" class=\"data row5 col8\" >0.469496</td>\n            </tr>\n            <tr>\n                        <th id=\"T_6a474_level0_row6\" class=\"row_heading level0 row6\" >Jaxon Buckley</th>\n                        <td id=\"T_6a474_row6_col0\" class=\"data row6 col0\" >1.374787</td>\n                        <td id=\"T_6a474_row6_col1\" class=\"data row6 col1\" >1.590397</td>\n                        <td id=\"T_6a474_row6_col2\" class=\"data row6 col2\" >1.147503</td>\n                        <td id=\"T_6a474_row6_col3\" class=\"data row6 col3\" >1.779805</td>\n                        <td id=\"T_6a474_row6_col4\" class=\"data row6 col4\" >1.972769</td>\n                        <td id=\"T_6a474_row6_col5\" class=\"data row6 col5\" >0.010000</td>\n                        <td id=\"T_6a474_row6_col6\" class=\"data row6 col6\" >2.029523</td>\n                        <td id=\"T_6a474_row6_col7\" class=\"data row6 col7\" >0.010000</td>\n                        <td id=\"T_6a474_row6_col8\" class=\"data row6 col8\" >1.446485</td>\n            </tr>\n    </tbody></table>"
     },
     "execution_count": 20,
     "metadata": {},
     "output_type": "execute_result"
    }
   ],
   "source": [
    "set_heatmap(get_batting_stlats(improve_team_batting(pies, 0.30)), maxVal=1)"
   ]
  },
  {
   "cell_type": "code",
   "execution_count": 21,
   "metadata": {
    "pycharm": {
     "name": "#%%\n"
    }
   },
   "outputs": [
    {
     "data": {
      "text/plain": "                  old_pitching_stars  new_pitching_stars  \\\nBright Zimmerman            1.589235            3.298846   \nHenry Marshallow            2.143457            4.003592   \nRuslan Greatness            2.425975            4.109154   \nNicholas Mora               2.832423            4.690645   \nElvis Figueroa              4.748317            6.571009   \n\n                  change_in_pitching_stars  \nBright Zimmerman                  1.709611  \nHenry Marshallow                  1.860134  \nRuslan Greatness                  1.683179  \nNicholas Mora                     1.858222  \nElvis Figueroa                    1.822692  ",
      "text/html": "<div>\n<style scoped>\n    .dataframe tbody tr th:only-of-type {\n        vertical-align: middle;\n    }\n\n    .dataframe tbody tr th {\n        vertical-align: top;\n    }\n\n    .dataframe thead th {\n        text-align: right;\n    }\n</style>\n<table border=\"1\" class=\"dataframe\">\n  <thead>\n    <tr style=\"text-align: right;\">\n      <th></th>\n      <th>old_pitching_stars</th>\n      <th>new_pitching_stars</th>\n      <th>change_in_pitching_stars</th>\n    </tr>\n  </thead>\n  <tbody>\n    <tr>\n      <th>Bright Zimmerman</th>\n      <td>1.589235</td>\n      <td>3.298846</td>\n      <td>1.709611</td>\n    </tr>\n    <tr>\n      <th>Henry Marshallow</th>\n      <td>2.143457</td>\n      <td>4.003592</td>\n      <td>1.860134</td>\n    </tr>\n    <tr>\n      <th>Ruslan Greatness</th>\n      <td>2.425975</td>\n      <td>4.109154</td>\n      <td>1.683179</td>\n    </tr>\n    <tr>\n      <th>Nicholas Mora</th>\n      <td>2.832423</td>\n      <td>4.690645</td>\n      <td>1.858222</td>\n    </tr>\n    <tr>\n      <th>Elvis Figueroa</th>\n      <td>4.748317</td>\n      <td>6.571009</td>\n      <td>1.822692</td>\n    </tr>\n  </tbody>\n</table>\n</div>"
     },
     "execution_count": 21,
     "metadata": {},
     "output_type": "execute_result"
    }
   ],
   "source": [
    "infuse_rotation_table, _, _ = improve_team_pitching_table(pies, 0.30)\n",
    "infuse_rotation_table\n"
   ]
  },
  {
   "cell_type": "code",
   "execution_count": 22,
   "metadata": {
    "pycharm": {
     "name": "#%%\n"
    }
   },
   "outputs": [
    {
     "data": {
      "text/plain": "<pandas.io.formats.style.Styler at 0x1cdfb5bed60>",
      "text/html": "<style  type=\"text/css\" >\n#T_9e344_row0_col0{\n            background-color:  #bbe278;\n            color:  #000000;\n        }#T_9e344_row0_col1{\n            background-color:  #fbfdba;\n            color:  #000000;\n        }#T_9e344_row0_col2{\n            background-color:  #5db961;\n            color:  #000000;\n        }#T_9e344_row0_col3,#T_9e344_row0_col6,#T_9e344_row1_col2,#T_9e344_row1_col3,#T_9e344_row2_col3,#T_9e344_row2_col4,#T_9e344_row2_col6,#T_9e344_row3_col1,#T_9e344_row4_col0,#T_9e344_row4_col1,#T_9e344_row4_col2,#T_9e344_row4_col3{\n            background-color:  #006837;\n            color:  #f1f1f1;\n        }#T_9e344_row0_col4{\n            background-color:  #05713c;\n            color:  #f1f1f1;\n        }#T_9e344_row0_col5{\n            background-color:  #d7ee8a;\n            color:  #000000;\n        }#T_9e344_row1_col0{\n            background-color:  #66bd63;\n            color:  #000000;\n        }#T_9e344_row1_col1{\n            background-color:  #f2faae;\n            color:  #000000;\n        }#T_9e344_row1_col4,#T_9e344_row2_col1,#T_9e344_row2_col2,#T_9e344_row3_col5{\n            background-color:  #70c164;\n            color:  #000000;\n        }#T_9e344_row1_col5{\n            background-color:  #2da155;\n            color:  #000000;\n        }#T_9e344_row1_col6{\n            background-color:  #0b7d42;\n            color:  #f1f1f1;\n        }#T_9e344_row2_col0{\n            background-color:  #54b45f;\n            color:  #000000;\n        }#T_9e344_row2_col5{\n            background-color:  #cfeb85;\n            color:  #000000;\n        }#T_9e344_row3_col0{\n            background-color:  #0f8446;\n            color:  #f1f1f1;\n        }#T_9e344_row3_col2{\n            background-color:  #c3e67d;\n            color:  #000000;\n        }#T_9e344_row3_col3{\n            background-color:  #3ca959;\n            color:  #000000;\n        }#T_9e344_row3_col4{\n            background-color:  #b7e075;\n            color:  #000000;\n        }#T_9e344_row3_col6{\n            background-color:  #91d068;\n            color:  #000000;\n        }#T_9e344_row4_col4{\n            background-color:  #026c39;\n            color:  #f1f1f1;\n        }#T_9e344_row4_col5{\n            background-color:  #cbe982;\n            color:  #000000;\n        }#T_9e344_row4_col6{\n            background-color:  #1e9a51;\n            color:  #000000;\n        }</style><table id=\"T_9e344_\" ><thead>    <tr>        <th class=\"blank level0\" ></th>        <th class=\"col_heading level0 col0\" >Pitching Rating</th>        <th class=\"col_heading level0 col1\" >Unthwackability</th>        <th class=\"col_heading level0 col2\" >Ruthlessness</th>        <th class=\"col_heading level0 col3\" >Overpowerment</th>        <th class=\"col_heading level0 col4\" >Shakespearianism</th>        <th class=\"col_heading level0 col5\" >Coldness</th>        <th class=\"col_heading level0 col6\" >Suppression</th>    </tr></thead><tbody>\n                <tr>\n                        <th id=\"T_9e344_level0_row0\" class=\"row_heading level0 row0\" >Bright Zimmerman</th>\n                        <td id=\"T_9e344_row0_col0\" class=\"data row0 col0\" >0.659769</td>\n                        <td id=\"T_9e344_row0_col1\" class=\"data row0 col1\" >0.507882</td>\n                        <td id=\"T_9e344_row0_col2\" class=\"data row0 col2\" >0.811157</td>\n                        <td id=\"T_9e344_row0_col3\" class=\"data row0 col3\" >1.152666</td>\n                        <td id=\"T_9e344_row0_col4\" class=\"data row0 col4\" >0.979224</td>\n                        <td id=\"T_9e344_row0_col5\" class=\"data row0 col5\" >0.603950</td>\n                        <td id=\"T_9e344_row0_col6\" class=\"data row0 col6\" >1.170961</td>\n            </tr>\n            <tr>\n                        <th id=\"T_9e344_level0_row1\" class=\"row_heading level0 row1\" >Henry Marshallow</th>\n                        <td id=\"T_9e344_row1_col0\" class=\"data row1 col0\" >0.800718</td>\n                        <td id=\"T_9e344_row1_col1\" class=\"data row1 col1\" >0.533266</td>\n                        <td id=\"T_9e344_row1_col2\" class=\"data row1 col2\" >1.182016</td>\n                        <td id=\"T_9e344_row1_col3\" class=\"data row1 col3\" >1.423135</td>\n                        <td id=\"T_9e344_row1_col4\" class=\"data row1 col4\" >0.784581</td>\n                        <td id=\"T_9e344_row1_col5\" class=\"data row1 col5\" >0.871587</td>\n                        <td id=\"T_9e344_row1_col6\" class=\"data row1 col6\" >0.956728</td>\n            </tr>\n            <tr>\n                        <th id=\"T_9e344_level0_row2\" class=\"row_heading level0 row2\" >Ruslan Greatness</th>\n                        <td id=\"T_9e344_row2_col0\" class=\"data row2 col0\" >0.821831</td>\n                        <td id=\"T_9e344_row2_col1\" class=\"data row2 col1\" >0.784582</td>\n                        <td id=\"T_9e344_row2_col2\" class=\"data row2 col2\" >0.781892</td>\n                        <td id=\"T_9e344_row2_col3\" class=\"data row2 col3\" >1.244604</td>\n                        <td id=\"T_9e344_row2_col4\" class=\"data row2 col4\" >1.026276</td>\n                        <td id=\"T_9e344_row2_col5\" class=\"data row2 col5\" >0.620791</td>\n                        <td id=\"T_9e344_row2_col6\" class=\"data row2 col6\" >1.385039</td>\n            </tr>\n            <tr>\n                        <th id=\"T_9e344_level0_row3\" class=\"row_heading level0 row3\" >Nicholas Mora</th>\n                        <td id=\"T_9e344_row3_col0\" class=\"data row3 col0\" >0.938129</td>\n                        <td id=\"T_9e344_row3_col1\" class=\"data row3 col1\" >1.440948</td>\n                        <td id=\"T_9e344_row3_col2\" class=\"data row3 col2\" >0.643723</td>\n                        <td id=\"T_9e344_row3_col3\" class=\"data row3 col3\" >0.853609</td>\n                        <td id=\"T_9e344_row3_col4\" class=\"data row3 col4\" >0.667345</td>\n                        <td id=\"T_9e344_row3_col5\" class=\"data row3 col5\" >0.782330</td>\n                        <td id=\"T_9e344_row3_col6\" class=\"data row3 col6\" >0.731032</td>\n            </tr>\n            <tr>\n                        <th id=\"T_9e344_level0_row4\" class=\"row_heading level0 row4\" >Elvis Figueroa</th>\n                        <td id=\"T_9e344_row4_col0\" class=\"data row4 col0\" >1.314202</td>\n                        <td id=\"T_9e344_row4_col1\" class=\"data row4 col1\" >1.336387</td>\n                        <td id=\"T_9e344_row4_col2\" class=\"data row4 col2\" >1.315972</td>\n                        <td id=\"T_9e344_row4_col3\" class=\"data row4 col3\" >1.230460</td>\n                        <td id=\"T_9e344_row4_col4\" class=\"data row4 col4\" >0.989138</td>\n                        <td id=\"T_9e344_row4_col5\" class=\"data row4 col5\" >0.628725</td>\n                        <td id=\"T_9e344_row4_col6\" class=\"data row4 col6\" >0.892661</td>\n            </tr>\n    </tbody></table>"
     },
     "execution_count": 22,
     "metadata": {},
     "output_type": "execute_result"
    }
   ],
   "source": [
    "set_heatmap(get_pitching_stlats(improve_team_pitching(pies, 0.30)), maxVal=1)"
   ]
  },
  {
   "cell_type": "markdown",
   "metadata": {},
   "source": [
    "### Trust\n",
    "**Receive a mystery Benefit for one of your Teams' Players.**\n",
    "\n",
    "The Benifit here is unknown. It is likely either a stat increase or an unknown Modification."
   ]
  },
  {
   "cell_type": "markdown",
   "metadata": {},
   "source": [
    "### Alternate\n",
    "**Call in an Alternate for a Player on your Team.**\n",
    "\n",
    "Alternates are when players stats are randomized. Below shows the change in Team Average Stars from rerolling our worst\n",
    "player, assuming they would be replaced with the Statistically Average player."
   ]
  },
  {
   "cell_type": "code",
   "execution_count": 23,
   "metadata": {
    "pycharm": {
     "name": "#%%\n"
    }
   },
   "outputs": [
    {
     "name": "stdout",
     "output_type": "stream",
     "text": [
      "Rerolling Bright Zimmerman\n"
     ]
    },
    {
     "data": {
      "text/plain": "                        Pies\nbatting_change      -3.4899%\npitching_change     -0.3569%\nbaserunning_change  -1.3142%\ndefense_change      -0.0834%",
      "text/html": "<div>\n<style scoped>\n    .dataframe tbody tr th:only-of-type {\n        vertical-align: middle;\n    }\n\n    .dataframe tbody tr th {\n        vertical-align: top;\n    }\n\n    .dataframe thead th {\n        text-align: right;\n    }\n</style>\n<table border=\"1\" class=\"dataframe\">\n  <thead>\n    <tr style=\"text-align: right;\">\n      <th></th>\n      <th>Pies</th>\n    </tr>\n  </thead>\n  <tbody>\n    <tr>\n      <th>batting_change</th>\n      <td>-3.4899%</td>\n    </tr>\n    <tr>\n      <th>pitching_change</th>\n      <td>-0.3569%</td>\n    </tr>\n    <tr>\n      <th>baserunning_change</th>\n      <td>-1.3142%</td>\n    </tr>\n    <tr>\n      <th>defense_change</th>\n      <td>-0.0834%</td>\n    </tr>\n  </tbody>\n</table>\n</div>"
     },
     "execution_count": 23,
     "metadata": {},
     "output_type": "execute_result"
    }
   ],
   "source": [
    "worst_pie = sort_overall(pies, 1)[0]\n",
    "\n",
    "print(f\"Rerolling {worst_pie.name}\")\n",
    "pandas.DataFrame(replace_player(pies, worst_pie, NEW_PLAYER[\"batting\"], NEW_PLAYER[\"pitching\"], NEW_PLAYER[\"baserunning\"], NEW_PLAYER[\"defense\"]))"
   ]
  },
  {
   "cell_type": "markdown",
   "metadata": {},
   "source": [
    "### Revoke\n",
    "**Revoke a Player from your roster.**\n",
    "\n",
    "This will cause our other players to play more often, increasing our average team performance if we chose the worst\n",
    "player. See below for analysis of removing our worst Batter or Pitcher.\n",
    "\n",
    "**Batting:**"
   ]
  },
  {
   "cell_type": "code",
   "execution_count": 24,
   "metadata": {
    "pycharm": {
     "name": "#%%\n"
    }
   },
   "outputs": [
    {
     "name": "stdout",
     "output_type": "stream",
     "text": [
      "Removing Farrell Seagull\n"
     ]
    },
    {
     "data": {
      "text/plain": "                        Pies\nbatting_change      +4.5506%\npitching_change     +0.0000%\nbaserunning_change  +2.8193%\ndefense_change      +3.4359%",
      "text/html": "<div>\n<style scoped>\n    .dataframe tbody tr th:only-of-type {\n        vertical-align: middle;\n    }\n\n    .dataframe tbody tr th {\n        vertical-align: top;\n    }\n\n    .dataframe thead th {\n        text-align: right;\n    }\n</style>\n<table border=\"1\" class=\"dataframe\">\n  <thead>\n    <tr style=\"text-align: right;\">\n      <th></th>\n      <th>Pies</th>\n    </tr>\n  </thead>\n  <tbody>\n    <tr>\n      <th>batting_change</th>\n      <td>+4.5506%</td>\n    </tr>\n    <tr>\n      <th>pitching_change</th>\n      <td>+0.0000%</td>\n    </tr>\n    <tr>\n      <th>baserunning_change</th>\n      <td>+2.8193%</td>\n    </tr>\n    <tr>\n      <th>defense_change</th>\n      <td>+3.4359%</td>\n    </tr>\n  </tbody>\n</table>\n</div>"
     },
     "execution_count": 24,
     "metadata": {},
     "output_type": "execute_result"
    }
   ],
   "source": [
    "print(f'Removing {worst_batter.name}')\n",
    "pandas.DataFrame(remove_player(pies, worst_batter))"
   ]
  },
  {
   "cell_type": "markdown",
   "source": [
    "**Pitching:**"
   ],
   "metadata": {
    "collapsed": false,
    "pycharm": {
     "name": "#%% md\n"
    }
   }
  },
  {
   "cell_type": "code",
   "execution_count": 25,
   "outputs": [
    {
     "name": "stdout",
     "output_type": "stream",
     "text": [
      "Removing Bright Zimmerman\n"
     ]
    },
    {
     "data": {
      "text/plain": "                        Pies\nbatting_change      +0.0000%\npitching_change     +5.7932%\nbaserunning_change  +0.0000%\ndefense_change      +0.0000%",
      "text/html": "<div>\n<style scoped>\n    .dataframe tbody tr th:only-of-type {\n        vertical-align: middle;\n    }\n\n    .dataframe tbody tr th {\n        vertical-align: top;\n    }\n\n    .dataframe thead th {\n        text-align: right;\n    }\n</style>\n<table border=\"1\" class=\"dataframe\">\n  <thead>\n    <tr style=\"text-align: right;\">\n      <th></th>\n      <th>Pies</th>\n    </tr>\n  </thead>\n  <tbody>\n    <tr>\n      <th>batting_change</th>\n      <td>+0.0000%</td>\n    </tr>\n    <tr>\n      <th>pitching_change</th>\n      <td>+5.7932%</td>\n    </tr>\n    <tr>\n      <th>baserunning_change</th>\n      <td>+0.0000%</td>\n    </tr>\n    <tr>\n      <th>defense_change</th>\n      <td>+0.0000%</td>\n    </tr>\n  </tbody>\n</table>\n</div>"
     },
     "execution_count": 25,
     "metadata": {},
     "output_type": "execute_result"
    }
   ],
   "source": [
    "print(f'Removing {worst_pitcher.name}')\n",
    "pandas.DataFrame(remove_player(pies, worst_pitcher))\n"
   ],
   "metadata": {
    "collapsed": false,
    "pycharm": {
     "name": "#%%\n"
    }
   }
  },
  {
   "cell_type": "markdown",
   "metadata": {},
   "source": [
    "### Enrich\n",
    "**Pick a modification for your Team next season.**\n",
    "\n",
    "This will gives the option of choosing between\n",
    "* The Fourth Strike: Those with the Fourth Strike will get an extra strike in each at bat.\n",
    "* Home Field Advantage: Teams with Home Field Advantage will start each home game with one run.\n",
    "* Shame Donor: A Team or Player who adds Unruns to a Shamed opponents' future pile.\n",
    "\n",
    "Seasonal Modifications have been mixed in the past. For Fourth Strike Analysis, see the appropriate\n",
    "[SIBR Paper](https://research.blaseball-reference.com/Fourth_Strike.pdf)."
   ]
  },
  {
   "cell_type": "markdown",
   "metadata": {},
   "source": [
    "___\n",
    "## Blessings\n",
    "\n",
    "Blessings are selected by raffle across all teams. Each blessing will be awarded to a random team, where teams with more\n",
    "votes are more likely to be selected."
   ]
  },
  {
   "cell_type": "markdown",
   "metadata": {},
   "source": [
    "### Organ Replacements\n",
    "**Re-rolls your Team's 3 worst pitchers.**\n",
    "\n",
    "This will attempt to reroll the following pitchers, in order. Players are rerolled in order, so if a player is rerolled\n",
    "to be worse they will be rerolled again, as they are still the worst pitcher.\n",
    "For reference, the Statistical Average player has 1.5 pitching stars."
   ]
  },
  {
   "cell_type": "code",
   "execution_count": 26,
   "metadata": {
    "pycharm": {
     "name": "#%%\n"
    }
   },
   "outputs": [
    {
     "data": {
      "text/plain": "                  Batting  Pitching  Baserunning  Defense\nBright Zimmerman      3.5       1.5          1.0      3.0\nHenry Marshallow      2.0       2.0          1.5      3.5\nRuslan Greatness      3.5       2.5          3.5      4.0",
      "text/html": "<div>\n<style scoped>\n    .dataframe tbody tr th:only-of-type {\n        vertical-align: middle;\n    }\n\n    .dataframe tbody tr th {\n        vertical-align: top;\n    }\n\n    .dataframe thead th {\n        text-align: right;\n    }\n</style>\n<table border=\"1\" class=\"dataframe\">\n  <thead>\n    <tr style=\"text-align: right;\">\n      <th></th>\n      <th>Batting</th>\n      <th>Pitching</th>\n      <th>Baserunning</th>\n      <th>Defense</th>\n    </tr>\n  </thead>\n  <tbody>\n    <tr>\n      <th>Bright Zimmerman</th>\n      <td>3.5</td>\n      <td>1.5</td>\n      <td>1.0</td>\n      <td>3.0</td>\n    </tr>\n    <tr>\n      <th>Henry Marshallow</th>\n      <td>2.0</td>\n      <td>2.0</td>\n      <td>1.5</td>\n      <td>3.5</td>\n    </tr>\n    <tr>\n      <th>Ruslan Greatness</th>\n      <td>3.5</td>\n      <td>2.5</td>\n      <td>3.5</td>\n      <td>4.0</td>\n    </tr>\n  </tbody>\n</table>\n</div>"
     },
     "execution_count": 26,
     "metadata": {},
     "output_type": "execute_result"
    }
   ],
   "source": [
    "worst_pitchers = sort_rotation(pies, 3)\n",
    "get_stars(worst_pitchers)"
   ]
  },
  {
   "cell_type": "markdown",
   "metadata": {},
   "source": [
    "### Uncle Indemnity & The Big Sip\n",
    "**Recruit the Hardboiled Uncle Plasma to your Team.**\n",
    "\n",
    "**Recruit the Hardboiled Liquid Friend to your Team.**\n",
    "\n",
    "Uncle Plasma and Liquid Friend are from the team BC Noir which debuted in the Coffee Cup. Liquid Friend is a batter and\n",
    "Uncle Plasma is a pitcher. See below for their stats and how they would affect the team.\n"
   ]
  },
  {
   "cell_type": "code",
   "execution_count": 27,
   "metadata": {
    "pycharm": {
     "name": "#%%\n"
    }
   },
   "outputs": [
    {
     "data": {
      "text/plain": "               Batting  Pitching  Baserunning  Defense\nUncle Plasma       3.5       4.0          4.0      4.5\nLiquid Friend      3.0       2.5          2.5      3.5",
      "text/html": "<div>\n<style scoped>\n    .dataframe tbody tr th:only-of-type {\n        vertical-align: middle;\n    }\n\n    .dataframe tbody tr th {\n        vertical-align: top;\n    }\n\n    .dataframe thead th {\n        text-align: right;\n    }\n</style>\n<table border=\"1\" class=\"dataframe\">\n  <thead>\n    <tr style=\"text-align: right;\">\n      <th></th>\n      <th>Batting</th>\n      <th>Pitching</th>\n      <th>Baserunning</th>\n      <th>Defense</th>\n    </tr>\n  </thead>\n  <tbody>\n    <tr>\n      <th>Uncle Plasma</th>\n      <td>3.5</td>\n      <td>4.0</td>\n      <td>4.0</td>\n      <td>4.5</td>\n    </tr>\n    <tr>\n      <th>Liquid Friend</th>\n      <td>3.0</td>\n      <td>2.5</td>\n      <td>2.5</td>\n      <td>3.5</td>\n    </tr>\n  </tbody>\n</table>\n</div>"
     },
     "execution_count": 27,
     "metadata": {},
     "output_type": "execute_result"
    }
   ],
   "source": [
    "uncle_plasma = Player.load_one(\"fedbceb8-e2aa-4868-ac35-74cd0445893f\")\n",
    "liquid_friend = Player.load_one(\"d1a198d6-b05a-47cf-ab8e-39a6fa1ed831\")\n",
    "\n",
    "get_stars([uncle_plasma, liquid_friend])"
   ]
  },
  {
   "cell_type": "markdown",
   "source": [
    "**Liquid Friend**"
   ],
   "metadata": {
    "collapsed": false
   }
  },
  {
   "cell_type": "code",
   "execution_count": 28,
   "outputs": [
    {
     "data": {
      "text/plain": "<pandas.io.formats.style.Styler at 0x1cdfb5ebf70>",
      "text/html": "<style  type=\"text/css\" >\n#T_d7988_row0_col0{\n            background-color:  #e8f59f;\n            color:  #000000;\n        }#T_d7988_row0_col1{\n            background-color:  #73c264;\n            color:  #000000;\n        }#T_d7988_row0_col2{\n            background-color:  #fdaf62;\n            color:  #000000;\n        }#T_d7988_row0_col3{\n            background-color:  #b1de71;\n            color:  #000000;\n        }#T_d7988_row0_col4{\n            background-color:  #0c7f43;\n            color:  #f1f1f1;\n        }#T_d7988_row0_col5{\n            background-color:  #fdc574;\n            color:  #000000;\n            background-color:  #bde379;\n            color:  #000000;\n        }#T_d7988_row0_col6{\n            background-color:  #fee797;\n            color:  #000000;\n        }#T_d7988_row0_col7{\n            background-color:  #f26841;\n            color:  #000000;\n            background-color:  #60ba62;\n            color:  #000000;\n        }#T_d7988_row0_col8{\n            background-color:  #fff1a8;\n            color:  #000000;\n        }</style><table id=\"T_d7988_\" ><thead>    <tr>        <th class=\"blank level0\" ></th>        <th class=\"col_heading level0 col0\" >Batting Rating</th>        <th class=\"col_heading level0 col1\" >Thwackability</th>        <th class=\"col_heading level0 col2\" >Divinity</th>        <th class=\"col_heading level0 col3\" >Musclitude</th>        <th class=\"col_heading level0 col4\" >Moxie</th>        <th class=\"col_heading level0 col5\" >Patheticism</th>        <th class=\"col_heading level0 col6\" >Martyrdom</th>        <th class=\"col_heading level0 col7\" >Tragicness</th>        <th class=\"col_heading level0 col8\" >Buoyancy</th>    </tr></thead><tbody>\n                <tr>\n                        <th id=\"T_d7988_level0_row0\" class=\"row_heading level0 row0\" >Liquid Friend</th>\n                        <td id=\"T_d7988_row0_col0\" class=\"data row0 col0\" >0.559806</td>\n                        <td id=\"T_d7988_row0_col1\" class=\"data row0 col1\" >0.779530</td>\n                        <td id=\"T_d7988_row0_col2\" class=\"data row0 col2\" >0.301551</td>\n                        <td id=\"T_d7988_row0_col3\" class=\"data row0 col3\" >0.678601</td>\n                        <td id=\"T_d7988_row0_col4\" class=\"data row0 col4\" >0.952236</td>\n                        <td id=\"T_d7988_row0_col5\" class=\"data row0 col5\" >0.347098</td>\n                        <td id=\"T_d7988_row0_col6\" class=\"data row0 col6\" >0.422958</td>\n                        <td id=\"T_d7988_row0_col7\" class=\"data row0 col7\" >0.191860</td>\n                        <td id=\"T_d7988_row0_col8\" class=\"data row0 col8\" >0.456044</td>\n            </tr>\n    </tbody></table>"
     },
     "execution_count": 28,
     "metadata": {},
     "output_type": "execute_result"
    }
   ],
   "source": [
    "set_heatmap(get_batting_stlats(liquid_friend), maxVal=1)\n"
   ],
   "metadata": {
    "collapsed": false,
    "pycharm": {
     "name": "#%%\n"
    }
   }
  },
  {
   "cell_type": "code",
   "execution_count": 29,
   "outputs": [
    {
     "data": {
      "text/plain": "                        Pies\nbatting_change      -0.9899%\npitching_change     +0.0000%\nbaserunning_change  -1.3142%\ndefense_change      +2.4166%",
      "text/html": "<div>\n<style scoped>\n    .dataframe tbody tr th:only-of-type {\n        vertical-align: middle;\n    }\n\n    .dataframe tbody tr th {\n        vertical-align: top;\n    }\n\n    .dataframe thead th {\n        text-align: right;\n    }\n</style>\n<table border=\"1\" class=\"dataframe\">\n  <thead>\n    <tr style=\"text-align: right;\">\n      <th></th>\n      <th>Pies</th>\n    </tr>\n  </thead>\n  <tbody>\n    <tr>\n      <th>batting_change</th>\n      <td>-0.9899%</td>\n    </tr>\n    <tr>\n      <th>pitching_change</th>\n      <td>+0.0000%</td>\n    </tr>\n    <tr>\n      <th>baserunning_change</th>\n      <td>-1.3142%</td>\n    </tr>\n    <tr>\n      <th>defense_change</th>\n      <td>+2.4166%</td>\n    </tr>\n  </tbody>\n</table>\n</div>"
     },
     "execution_count": 29,
     "metadata": {},
     "output_type": "execute_result"
    }
   ],
   "source": [
    "pandas.DataFrame(add_player(pies, bat_star=liquid_friend.batting_stars, run_star=liquid_friend.baserunning_stars, def_star=liquid_friend.defense_stars))"
   ],
   "metadata": {
    "collapsed": false,
    "pycharm": {
     "name": "#%%\n"
    }
   }
  },
  {
   "cell_type": "markdown",
   "source": [
    "**Uncle Plasma**"
   ],
   "metadata": {
    "collapsed": false
   }
  },
  {
   "cell_type": "code",
   "execution_count": 30,
   "outputs": [
    {
     "data": {
      "text/plain": "<pandas.io.formats.style.Styler at 0x1cdfb5c3940>",
      "text/html": "<style  type=\"text/css\" >\n#T_4808f_row0_col0{\n            background-color:  #7ac665;\n            color:  #000000;\n        }#T_4808f_row0_col1{\n            background-color:  #b1de71;\n            color:  #000000;\n        }#T_4808f_row0_col2{\n            background-color:  #006837;\n            color:  #f1f1f1;\n        }#T_4808f_row0_col3{\n            background-color:  #9bd469;\n            color:  #000000;\n        }#T_4808f_row0_col4{\n            background-color:  #d9ef8b;\n            color:  #000000;\n        }#T_4808f_row0_col5{\n            background-color:  #6bbf64;\n            color:  #000000;\n        }#T_4808f_row0_col6{\n            background-color:  #f57748;\n            color:  #000000;\n        }</style><table id=\"T_4808f_\" ><thead>    <tr>        <th class=\"blank level0\" ></th>        <th class=\"col_heading level0 col0\" >Pitching Rating</th>        <th class=\"col_heading level0 col1\" >Unthwackability</th>        <th class=\"col_heading level0 col2\" >Ruthlessness</th>        <th class=\"col_heading level0 col3\" >Overpowerment</th>        <th class=\"col_heading level0 col4\" >Shakespearianism</th>        <th class=\"col_heading level0 col5\" >Coldness</th>        <th class=\"col_heading level0 col6\" >Suppression</th>    </tr></thead><tbody>\n                <tr>\n                        <th id=\"T_4808f_level0_row0\" class=\"row_heading level0 row0\" >Uncle Plasma</th>\n                        <td id=\"T_4808f_row0_col0\" class=\"data row0 col0\" >0.768994</td>\n                        <td id=\"T_4808f_row0_col1\" class=\"data row0 col1\" >0.679041</td>\n                        <td id=\"T_4808f_row0_col2\" class=\"data row0 col2\" >1.098939</td>\n                        <td id=\"T_4808f_row0_col3\" class=\"data row0 col3\" >0.717495</td>\n                        <td id=\"T_4808f_row0_col4\" class=\"data row0 col4\" >0.599173</td>\n                        <td id=\"T_4808f_row0_col5\" class=\"data row0 col5\" >0.791192</td>\n                        <td id=\"T_4808f_row0_col6\" class=\"data row0 col6\" >0.218080</td>\n            </tr>\n    </tbody></table>"
     },
     "execution_count": 30,
     "metadata": {},
     "output_type": "execute_result"
    }
   ],
   "source": [
    "set_heatmap(get_pitching_stlats(uncle_plasma), maxVal=1)"
   ],
   "metadata": {
    "collapsed": false,
    "pycharm": {
     "name": "#%%\n"
    }
   }
  },
  {
   "cell_type": "code",
   "execution_count": 31,
   "outputs": [
    {
     "data": {
      "text/plain": "                        Pies\nbatting_change      +0.0000%\npitching_change     -0.8263%\nbaserunning_change  +0.0000%\ndefense_change      +0.0000%",
      "text/html": "<div>\n<style scoped>\n    .dataframe tbody tr th:only-of-type {\n        vertical-align: middle;\n    }\n\n    .dataframe tbody tr th {\n        vertical-align: top;\n    }\n\n    .dataframe thead th {\n        text-align: right;\n    }\n</style>\n<table border=\"1\" class=\"dataframe\">\n  <thead>\n    <tr style=\"text-align: right;\">\n      <th></th>\n      <th>Pies</th>\n    </tr>\n  </thead>\n  <tbody>\n    <tr>\n      <th>batting_change</th>\n      <td>+0.0000%</td>\n    </tr>\n    <tr>\n      <th>pitching_change</th>\n      <td>-0.8263%</td>\n    </tr>\n    <tr>\n      <th>baserunning_change</th>\n      <td>+0.0000%</td>\n    </tr>\n    <tr>\n      <th>defense_change</th>\n      <td>+0.0000%</td>\n    </tr>\n  </tbody>\n</table>\n</div>"
     },
     "execution_count": 31,
     "metadata": {},
     "output_type": "execute_result"
    }
   ],
   "source": [
    "pandas.DataFrame(add_player(pies, pitch_star=liquid_friend.pitching_stars))"
   ],
   "metadata": {
    "collapsed": false,
    "pycharm": {
     "name": "#%%\n"
    }
   }
  },
  {
   "cell_type": "markdown",
   "metadata": {},
   "source": [
    "### Summoning Circle\n",
    "**Re-roll your Team's 3 worst hitters.**\n",
    "\n",
    "This will attempt to reroll the following batters, in order. Players are rerolled in order, so if a player is rerolled\n",
    "to be worse they will be rerolled again, as they are still the worst hitter.\n",
    "For reference, the Statistical Average player has 2 batting stars, 2.5 baseruning stars, and 2.5 defense stars."
   ]
  },
  {
   "cell_type": "code",
   "execution_count": 32,
   "metadata": {
    "pycharm": {
     "name": "#%%\n"
    }
   },
   "outputs": [
    {
     "data": {
      "text/plain": "                 Batting  Pitching  Baserunning  Defense\nFarrell Seagull      2.0       2.0          2.0      1.5\nYusef Puddles        2.0       2.5          3.0      3.5\nBeasley Day          2.5       1.5          2.5      1.5",
      "text/html": "<div>\n<style scoped>\n    .dataframe tbody tr th:only-of-type {\n        vertical-align: middle;\n    }\n\n    .dataframe tbody tr th {\n        vertical-align: top;\n    }\n\n    .dataframe thead th {\n        text-align: right;\n    }\n</style>\n<table border=\"1\" class=\"dataframe\">\n  <thead>\n    <tr style=\"text-align: right;\">\n      <th></th>\n      <th>Batting</th>\n      <th>Pitching</th>\n      <th>Baserunning</th>\n      <th>Defense</th>\n    </tr>\n  </thead>\n  <tbody>\n    <tr>\n      <th>Farrell Seagull</th>\n      <td>2.0</td>\n      <td>2.0</td>\n      <td>2.0</td>\n      <td>1.5</td>\n    </tr>\n    <tr>\n      <th>Yusef Puddles</th>\n      <td>2.0</td>\n      <td>2.5</td>\n      <td>3.0</td>\n      <td>3.5</td>\n    </tr>\n    <tr>\n      <th>Beasley Day</th>\n      <td>2.5</td>\n      <td>1.5</td>\n      <td>2.5</td>\n      <td>1.5</td>\n    </tr>\n  </tbody>\n</table>\n</div>"
     },
     "execution_count": 32,
     "metadata": {},
     "output_type": "execute_result"
    }
   ],
   "source": [
    "worst_batters = sort_lineup(pies, 3)\n",
    "get_stars(worst_batters)\n"
   ]
  },
  {
   "cell_type": "markdown",
   "metadata": {},
   "source": [
    "### Earlybirds & Late to the Party\n",
    "**Your Team will play 20% better during next Season's Earlseason.**\n",
    "\n",
    "**Your Team will play 20% better during next Season's Lateseason.**\n",
    "\n",
    "Both of these blessings will make our team play better in either the first 27 games (Earlseason) or last 27 games\n",
    "(Lateseason). This 20% is therefore distributed across ~27% of the season, resulting in an average improvement of ~5%.\n",
    "See below for how the team would look with a 20% performance boost."
   ]
  },
  {
   "cell_type": "code",
   "execution_count": 33,
   "metadata": {
    "pycharm": {
     "name": "#%%\n"
    }
   },
   "outputs": [
    {
     "data": {
      "text/plain": "                 old_batting_stars  new_batting_stars  change_in_batting_stars\nFarrell Seagull           2.030782           3.159816                 1.129034\nYusef Puddles             2.147811           3.348481                 1.200670\nBeasley Day               2.695709           3.818814                 1.123105\nLang Richardson           2.914378           3.916701                 1.002323\nEduardo Woodman           4.165300           5.120266                 0.954966\nJode Preston              4.238300           5.182973                 0.944673\nJaxon Buckley             5.579461           6.448488                 0.869026",
      "text/html": "<div>\n<style scoped>\n    .dataframe tbody tr th:only-of-type {\n        vertical-align: middle;\n    }\n\n    .dataframe tbody tr th {\n        vertical-align: top;\n    }\n\n    .dataframe thead th {\n        text-align: right;\n    }\n</style>\n<table border=\"1\" class=\"dataframe\">\n  <thead>\n    <tr style=\"text-align: right;\">\n      <th></th>\n      <th>old_batting_stars</th>\n      <th>new_batting_stars</th>\n      <th>change_in_batting_stars</th>\n    </tr>\n  </thead>\n  <tbody>\n    <tr>\n      <th>Farrell Seagull</th>\n      <td>2.030782</td>\n      <td>3.159816</td>\n      <td>1.129034</td>\n    </tr>\n    <tr>\n      <th>Yusef Puddles</th>\n      <td>2.147811</td>\n      <td>3.348481</td>\n      <td>1.200670</td>\n    </tr>\n    <tr>\n      <th>Beasley Day</th>\n      <td>2.695709</td>\n      <td>3.818814</td>\n      <td>1.123105</td>\n    </tr>\n    <tr>\n      <th>Lang Richardson</th>\n      <td>2.914378</td>\n      <td>3.916701</td>\n      <td>1.002323</td>\n    </tr>\n    <tr>\n      <th>Eduardo Woodman</th>\n      <td>4.165300</td>\n      <td>5.120266</td>\n      <td>0.954966</td>\n    </tr>\n    <tr>\n      <th>Jode Preston</th>\n      <td>4.238300</td>\n      <td>5.182973</td>\n      <td>0.944673</td>\n    </tr>\n    <tr>\n      <th>Jaxon Buckley</th>\n      <td>5.579461</td>\n      <td>6.448488</td>\n      <td>0.869026</td>\n    </tr>\n  </tbody>\n</table>\n</div>"
     },
     "execution_count": 33,
     "metadata": {},
     "output_type": "execute_result"
    }
   ],
   "source": [
    "earlybird_lineup_table, _, _ = improve_team_batting_table(pies, 0.2)\n",
    "earlybird_lineup_table"
   ]
  },
  {
   "cell_type": "code",
   "execution_count": 34,
   "outputs": [
    {
     "data": {
      "text/plain": "<pandas.io.formats.style.Styler at 0x1cdfa39bb80>",
      "text/html": "<style  type=\"text/css\" >\n#T_8c39f_row0_col0{\n            background-color:  #c9e881;\n            color:  #000000;\n        }#T_8c39f_row0_col1{\n            background-color:  #54b45f;\n            color:  #000000;\n        }#T_8c39f_row0_col2{\n            background-color:  #feeb9d;\n            color:  #000000;\n        }#T_8c39f_row0_col3{\n            background-color:  #fa9b58;\n            color:  #000000;\n        }#T_8c39f_row0_col4{\n            background-color:  #08773f;\n            color:  #f1f1f1;\n        }#T_8c39f_row0_col5,#T_8c39f_row0_col7,#T_8c39f_row1_col7,#T_8c39f_row2_col7,#T_8c39f_row3_col7,#T_8c39f_row4_col7,#T_8c39f_row5_col5,#T_8c39f_row5_col7,#T_8c39f_row6_col5,#T_8c39f_row6_col7{\n            background-color:  #a90426;\n            color:  #f1f1f1;\n            background-color:  #026c39;\n            color:  #f1f1f1;\n        }#T_8c39f_row0_col6,#T_8c39f_row1_col1,#T_8c39f_row1_col8,#T_8c39f_row3_col4,#T_8c39f_row4_col0,#T_8c39f_row4_col1,#T_8c39f_row4_col2,#T_8c39f_row5_col0,#T_8c39f_row5_col1,#T_8c39f_row5_col2,#T_8c39f_row5_col6,#T_8c39f_row6_col0,#T_8c39f_row6_col1,#T_8c39f_row6_col2,#T_8c39f_row6_col3,#T_8c39f_row6_col4,#T_8c39f_row6_col6,#T_8c39f_row6_col8{\n            background-color:  #006837;\n            color:  #f1f1f1;\n        }#T_8c39f_row0_col8{\n            background-color:  #89cc67;\n            color:  #000000;\n        }#T_8c39f_row1_col0{\n            background-color:  #b5df74;\n            color:  #000000;\n        }#T_8c39f_row1_col2{\n            background-color:  #fed884;\n            color:  #000000;\n        }#T_8c39f_row1_col3{\n            background-color:  #2aa054;\n            color:  #000000;\n        }#T_8c39f_row1_col4{\n            background-color:  #fec877;\n            color:  #000000;\n        }#T_8c39f_row1_col5{\n            background-color:  #feea9b;\n            color:  #000000;\n            background-color:  #e5f49b;\n            color:  #000000;\n        }#T_8c39f_row1_col6{\n            background-color:  #fdb365;\n            color:  #000000;\n        }#T_8c39f_row2_col0{\n            background-color:  #7dc765;\n            color:  #000000;\n        }#T_8c39f_row2_col1{\n            background-color:  #249d53;\n            color:  #000000;\n        }#T_8c39f_row2_col2{\n            background-color:  #219c52;\n            color:  #000000;\n        }#T_8c39f_row2_col3{\n            background-color:  #fba05b;\n            color:  #000000;\n        }#T_8c39f_row2_col4{\n            background-color:  #fee28f;\n            color:  #000000;\n        }#T_8c39f_row2_col5{\n            background-color:  #fa9857;\n            color:  #000000;\n            background-color:  #91d068;\n            color:  #000000;\n        }#T_8c39f_row2_col6{\n            background-color:  #96d268;\n            color:  #000000;\n        }#T_8c39f_row2_col8{\n            background-color:  #0b7d42;\n            color:  #f1f1f1;\n        }#T_8c39f_row3_col0{\n            background-color:  #70c164;\n            color:  #000000;\n        }#T_8c39f_row3_col1{\n            background-color:  #07753e;\n            color:  #f1f1f1;\n        }#T_8c39f_row3_col2{\n            background-color:  #ebf7a3;\n            color:  #000000;\n        }#T_8c39f_row3_col3{\n            background-color:  #7fc866;\n            color:  #000000;\n        }#T_8c39f_row3_col5{\n            background-color:  #bb1526;\n            color:  #f1f1f1;\n            background-color:  #0b7d42;\n            color:  #f1f1f1;\n        }#T_8c39f_row3_col6{\n            background-color:  #cbe982;\n            color:  #000000;\n        }#T_8c39f_row3_col8{\n            background-color:  #addc6f;\n            color:  #000000;\n        }#T_8c39f_row4_col3{\n            background-color:  #3faa59;\n            color:  #000000;\n        }#T_8c39f_row4_col4,#T_8c39f_row4_col6{\n            background-color:  #75c465;\n            color:  #000000;\n        }#T_8c39f_row4_col5{\n            background-color:  #fede89;\n            color:  #000000;\n            background-color:  #d7ee8a;\n            color:  #000000;\n        }#T_8c39f_row4_col8{\n            background-color:  #18954f;\n            color:  #000000;\n        }#T_8c39f_row5_col3{\n            background-color:  #51b35e;\n            color:  #000000;\n        }#T_8c39f_row5_col4{\n            background-color:  #feec9f;\n            color:  #000000;\n        }#T_8c39f_row5_col8{\n            background-color:  #fed07e;\n            color:  #000000;\n        }</style><table id=\"T_8c39f_\" ><thead>    <tr>        <th class=\"blank level0\" ></th>        <th class=\"col_heading level0 col0\" >Batting Rating</th>        <th class=\"col_heading level0 col1\" >Thwackability</th>        <th class=\"col_heading level0 col2\" >Divinity</th>        <th class=\"col_heading level0 col3\" >Musclitude</th>        <th class=\"col_heading level0 col4\" >Moxie</th>        <th class=\"col_heading level0 col5\" >Patheticism</th>        <th class=\"col_heading level0 col6\" >Martyrdom</th>        <th class=\"col_heading level0 col7\" >Tragicness</th>        <th class=\"col_heading level0 col8\" >Buoyancy</th>    </tr></thead><tbody>\n                <tr>\n                        <th id=\"T_8c39f_level0_row0\" class=\"row_heading level0 row0\" >Farrell Seagull</th>\n                        <td id=\"T_8c39f_row0_col0\" class=\"data row0 col0\" >0.631963</td>\n                        <td id=\"T_8c39f_row0_col1\" class=\"data row0 col1\" >0.823806</td>\n                        <td id=\"T_8c39f_row0_col2\" class=\"data row0 col2\" >0.435514</td>\n                        <td id=\"T_8c39f_row0_col3\" class=\"data row0 col3\" >0.269620</td>\n                        <td id=\"T_8c39f_row0_col4\" class=\"data row0 col4\" >0.968254</td>\n                        <td id=\"T_8c39f_row0_col5\" class=\"data row0 col5\" >0.010000</td>\n                        <td id=\"T_8c39f_row0_col6\" class=\"data row0 col6\" >1.060282</td>\n                        <td id=\"T_8c39f_row0_col7\" class=\"data row0 col7\" >0.010000</td>\n                        <td id=\"T_8c39f_row0_col8\" class=\"data row0 col8\" >0.742776</td>\n            </tr>\n            <tr>\n                        <th id=\"T_8c39f_level0_row1\" class=\"row_heading level0 row1\" >Yusef Puddles</th>\n                        <td id=\"T_8c39f_row1_col0\" class=\"data row1 col0\" >0.669696</td>\n                        <td id=\"T_8c39f_row1_col1\" class=\"data row1 col1\" >1.233698</td>\n                        <td id=\"T_8c39f_row1_col2\" class=\"data row1 col2\" >0.384577</td>\n                        <td id=\"T_8c39f_row1_col3\" class=\"data row1 col3\" >0.875196</td>\n                        <td id=\"T_8c39f_row1_col4\" class=\"data row1 col4\" >0.351908</td>\n                        <td id=\"T_8c39f_row1_col5\" class=\"data row1 col5\" >0.430778</td>\n                        <td id=\"T_8c39f_row1_col6\" class=\"data row1 col6\" >0.310821</td>\n                        <td id=\"T_8c39f_row1_col7\" class=\"data row1 col7\" >0.010000</td>\n                        <td id=\"T_8c39f_row1_col8\" class=\"data row1 col8\" >1.210015</td>\n            </tr>\n            <tr>\n                        <th id=\"T_8c39f_level0_row2\" class=\"row_heading level0 row2\" >Beasley Day</th>\n                        <td id=\"T_8c39f_row2_col0\" class=\"data row2 col0\" >0.763763</td>\n                        <td id=\"T_8c39f_row2_col1\" class=\"data row2 col1\" >0.885000</td>\n                        <td id=\"T_8c39f_row2_col2\" class=\"data row2 col2\" >0.888801</td>\n                        <td id=\"T_8c39f_row2_col3\" class=\"data row2 col3\" >0.277669</td>\n                        <td id=\"T_8c39f_row2_col4\" class=\"data row2 col4\" >0.408479</td>\n                        <td id=\"T_8c39f_row2_col5\" class=\"data row2 col5\" >0.268964</td>\n                        <td id=\"T_8c39f_row2_col6\" class=\"data row2 col6\" >0.723706</td>\n                        <td id=\"T_8c39f_row2_col7\" class=\"data row2 col7\" >0.010000</td>\n                        <td id=\"T_8c39f_row2_col8\" class=\"data row2 col8\" >0.953672</td>\n            </tr>\n            <tr>\n                        <th id=\"T_8c39f_level0_row3\" class=\"row_heading level0 row3\" >Lang Richardson</th>\n                        <td id=\"T_8c39f_row3_col0\" class=\"data row3 col0\" >0.783340</td>\n                        <td id=\"T_8c39f_row3_col1\" class=\"data row3 col1\" >0.970859</td>\n                        <td id=\"T_8c39f_row3_col2\" class=\"data row3 col2\" >0.553631</td>\n                        <td id=\"T_8c39f_row3_col3\" class=\"data row3 col3\" >0.758549</td>\n                        <td id=\"T_8c39f_row3_col4\" class=\"data row3 col4\" >1.078068</td>\n                        <td id=\"T_8c39f_row3_col5\" class=\"data row3 col5\" >0.046647</td>\n                        <td id=\"T_8c39f_row3_col6\" class=\"data row3 col6\" >0.627515</td>\n                        <td id=\"T_8c39f_row3_col7\" class=\"data row3 col7\" >0.010000</td>\n                        <td id=\"T_8c39f_row3_col8\" class=\"data row3 col8\" >0.686870</td>\n            </tr>\n            <tr>\n                        <th id=\"T_8c39f_level0_row4\" class=\"row_heading level0 row4\" >Eduardo Woodman</th>\n                        <td id=\"T_8c39f_row4_col0\" class=\"data row4 col0\" >1.024053</td>\n                        <td id=\"T_8c39f_row4_col1\" class=\"data row4 col1\" >1.219391</td>\n                        <td id=\"T_8c39f_row4_col2\" class=\"data row4 col2\" >1.046540</td>\n                        <td id=\"T_8c39f_row4_col3\" class=\"data row4 col3\" >0.850666</td>\n                        <td id=\"T_8c39f_row4_col4\" class=\"data row4 col4\" >0.775519</td>\n                        <td id=\"T_8c39f_row4_col5\" class=\"data row4 col5\" >0.395517</td>\n                        <td id=\"T_8c39f_row4_col6\" class=\"data row4 col6\" >0.774554</td>\n                        <td id=\"T_8c39f_row4_col7\" class=\"data row4 col7\" >0.010000</td>\n                        <td id=\"T_8c39f_row4_col8\" class=\"data row4 col8\" >0.905869</td>\n            </tr>\n            <tr>\n                        <th id=\"T_8c39f_level0_row5\" class=\"row_heading level0 row5\" >Jode Preston</th>\n                        <td id=\"T_8c39f_row5_col0\" class=\"data row5 col0\" >1.036595</td>\n                        <td id=\"T_8c39f_row5_col1\" class=\"data row5 col1\" >1.159775</td>\n                        <td id=\"T_8c39f_row5_col2\" class=\"data row5 col2\" >1.182217</td>\n                        <td id=\"T_8c39f_row5_col3\" class=\"data row5 col3\" >0.827863</td>\n                        <td id=\"T_8c39f_row5_col4\" class=\"data row5 col4\" >0.441277</td>\n                        <td id=\"T_8c39f_row5_col5\" class=\"data row5 col5\" >0.010000</td>\n                        <td id=\"T_8c39f_row5_col6\" class=\"data row5 col6\" >1.083390</td>\n                        <td id=\"T_8c39f_row5_col7\" class=\"data row5 col7\" >0.010000</td>\n                        <td id=\"T_8c39f_row5_col8\" class=\"data row5 col8\" >0.369496</td>\n            </tr>\n            <tr>\n                        <th id=\"T_8c39f_level0_row6\" class=\"row_heading level0 row6\" >Jaxon Buckley</th>\n                        <td id=\"T_8c39f_row6_col0\" class=\"data row6 col0\" >1.289698</td>\n                        <td id=\"T_8c39f_row6_col1\" class=\"data row6 col1\" >1.490397</td>\n                        <td id=\"T_8c39f_row6_col2\" class=\"data row6 col2\" >1.047503</td>\n                        <td id=\"T_8c39f_row6_col3\" class=\"data row6 col3\" >1.679805</td>\n                        <td id=\"T_8c39f_row6_col4\" class=\"data row6 col4\" >1.872769</td>\n                        <td id=\"T_8c39f_row6_col5\" class=\"data row6 col5\" >0.010000</td>\n                        <td id=\"T_8c39f_row6_col6\" class=\"data row6 col6\" >1.929523</td>\n                        <td id=\"T_8c39f_row6_col7\" class=\"data row6 col7\" >0.010000</td>\n                        <td id=\"T_8c39f_row6_col8\" class=\"data row6 col8\" >1.346485</td>\n            </tr>\n    </tbody></table>"
     },
     "execution_count": 34,
     "metadata": {},
     "output_type": "execute_result"
    }
   ],
   "source": [
    "set_heatmap(get_batting_stlats(improve_team_batting(pies, 0.2)), maxVal=1.0)"
   ],
   "metadata": {
    "collapsed": false,
    "pycharm": {
     "name": "#%%\n"
    }
   }
  },
  {
   "cell_type": "code",
   "execution_count": 35,
   "outputs": [
    {
     "data": {
      "text/plain": "                  old_pitching_stars  new_pitching_stars  \\\nBright Zimmerman            1.589235            2.724812   \nHenry Marshallow            2.143457            3.388508   \nRuslan Greatness            2.425975            3.536370   \nNicholas Mora               2.832423            4.070368   \nElvis Figueroa              4.748317            5.956382   \n\n                  change_in_pitching_stars  \nBright Zimmerman                  1.135577  \nHenry Marshallow                  1.245051  \nRuslan Greatness                  1.110394  \nNicholas Mora                     1.237946  \nElvis Figueroa                    1.208065  ",
      "text/html": "<div>\n<style scoped>\n    .dataframe tbody tr th:only-of-type {\n        vertical-align: middle;\n    }\n\n    .dataframe tbody tr th {\n        vertical-align: top;\n    }\n\n    .dataframe thead th {\n        text-align: right;\n    }\n</style>\n<table border=\"1\" class=\"dataframe\">\n  <thead>\n    <tr style=\"text-align: right;\">\n      <th></th>\n      <th>old_pitching_stars</th>\n      <th>new_pitching_stars</th>\n      <th>change_in_pitching_stars</th>\n    </tr>\n  </thead>\n  <tbody>\n    <tr>\n      <th>Bright Zimmerman</th>\n      <td>1.589235</td>\n      <td>2.724812</td>\n      <td>1.135577</td>\n    </tr>\n    <tr>\n      <th>Henry Marshallow</th>\n      <td>2.143457</td>\n      <td>3.388508</td>\n      <td>1.245051</td>\n    </tr>\n    <tr>\n      <th>Ruslan Greatness</th>\n      <td>2.425975</td>\n      <td>3.536370</td>\n      <td>1.110394</td>\n    </tr>\n    <tr>\n      <th>Nicholas Mora</th>\n      <td>2.832423</td>\n      <td>4.070368</td>\n      <td>1.237946</td>\n    </tr>\n    <tr>\n      <th>Elvis Figueroa</th>\n      <td>4.748317</td>\n      <td>5.956382</td>\n      <td>1.208065</td>\n    </tr>\n  </tbody>\n</table>\n</div>"
     },
     "execution_count": 35,
     "metadata": {},
     "output_type": "execute_result"
    }
   ],
   "source": [
    "earlybird_rotation_table, _, _ = improve_team_pitching_table(pies, 0.2)\n",
    "earlybird_rotation_table\n"
   ],
   "metadata": {
    "collapsed": false,
    "pycharm": {
     "name": "#%%\n"
    }
   }
  },
  {
   "cell_type": "code",
   "execution_count": 36,
   "outputs": [
    {
     "data": {
      "text/plain": "<pandas.io.formats.style.Styler at 0x1cd9ebe1280>",
      "text/html": "<style  type=\"text/css\" >\n#T_c62a1_row0_col0,#T_c62a1_row3_col2{\n            background-color:  #eef8a8;\n            color:  #000000;\n        }#T_c62a1_row0_col1{\n            background-color:  #fee28f;\n            color:  #000000;\n        }#T_c62a1_row0_col2{\n            background-color:  #9dd569;\n            color:  #000000;\n        }#T_c62a1_row0_col3,#T_c62a1_row0_col6,#T_c62a1_row1_col2,#T_c62a1_row1_col3,#T_c62a1_row2_col3,#T_c62a1_row2_col6,#T_c62a1_row3_col1,#T_c62a1_row4_col0,#T_c62a1_row4_col1,#T_c62a1_row4_col2,#T_c62a1_row4_col3{\n            background-color:  #006837;\n            color:  #f1f1f1;\n        }#T_c62a1_row0_col4{\n            background-color:  #279f53;\n            color:  #000000;\n        }#T_c62a1_row0_col5{\n            background-color:  #fdfebc;\n            color:  #000000;\n        }#T_c62a1_row1_col0{\n            background-color:  #b1de71;\n            color:  #000000;\n        }#T_c62a1_row1_col1{\n            background-color:  #feea9b;\n            color:  #000000;\n        }#T_c62a1_row1_col4,#T_c62a1_row2_col1{\n            background-color:  #addc6f;\n            color:  #000000;\n        }#T_c62a1_row1_col5{\n            background-color:  #78c565;\n            color:  #000000;\n        }#T_c62a1_row1_col6{\n            background-color:  #39a758;\n            color:  #000000;\n        }#T_c62a1_row2_col0{\n            background-color:  #a0d669;\n            color:  #000000;\n        }#T_c62a1_row2_col2,#T_c62a1_row3_col5{\n            background-color:  #afdd70;\n            color:  #000000;\n        }#T_c62a1_row2_col4{\n            background-color:  #128a49;\n            color:  #000000;\n        }#T_c62a1_row2_col5{\n            background-color:  #f7fcb4;\n            color:  #000000;\n        }#T_c62a1_row3_col0{\n            background-color:  #5ab760;\n            color:  #000000;\n        }#T_c62a1_row3_col3{\n            background-color:  #84ca66;\n            color:  #000000;\n        }#T_c62a1_row3_col4{\n            background-color:  #e5f49b;\n            color:  #000000;\n        }#T_c62a1_row3_col6{\n            background-color:  #c9e881;\n            color:  #000000;\n        }#T_c62a1_row4_col4{\n            background-color:  #219c52;\n            color:  #000000;\n        }#T_c62a1_row4_col5{\n            background-color:  #f4fab0;\n            color:  #000000;\n        }#T_c62a1_row4_col6{\n            background-color:  #6bbf64;\n            color:  #000000;\n        }</style><table id=\"T_c62a1_\" ><thead>    <tr>        <th class=\"blank level0\" ></th>        <th class=\"col_heading level0 col0\" >Pitching Rating</th>        <th class=\"col_heading level0 col1\" >Unthwackability</th>        <th class=\"col_heading level0 col2\" >Ruthlessness</th>        <th class=\"col_heading level0 col3\" >Overpowerment</th>        <th class=\"col_heading level0 col4\" >Shakespearianism</th>        <th class=\"col_heading level0 col5\" >Coldness</th>        <th class=\"col_heading level0 col6\" >Suppression</th>    </tr></thead><tbody>\n                <tr>\n                        <th id=\"T_c62a1_level0_row0\" class=\"row_heading level0 row0\" >Bright Zimmerman</th>\n                        <td id=\"T_c62a1_row0_col0\" class=\"data row0 col0\" >0.544962</td>\n                        <td id=\"T_c62a1_row0_col1\" class=\"data row0 col1\" >0.407882</td>\n                        <td id=\"T_c62a1_row0_col2\" class=\"data row0 col2\" >0.711157</td>\n                        <td id=\"T_c62a1_row0_col3\" class=\"data row0 col3\" >1.052666</td>\n                        <td id=\"T_c62a1_row0_col4\" class=\"data row0 col4\" >0.879224</td>\n                        <td id=\"T_c62a1_row0_col5\" class=\"data row0 col5\" >0.503950</td>\n                        <td id=\"T_c62a1_row0_col6\" class=\"data row0 col6\" >1.070961</td>\n            </tr>\n            <tr>\n                        <th id=\"T_c62a1_level0_row1\" class=\"row_heading level0 row1\" >Henry Marshallow</th>\n                        <td id=\"T_c62a1_row1_col0\" class=\"data row1 col0\" >0.677702</td>\n                        <td id=\"T_c62a1_row1_col1\" class=\"data row1 col1\" >0.433266</td>\n                        <td id=\"T_c62a1_row1_col2\" class=\"data row1 col2\" >1.082016</td>\n                        <td id=\"T_c62a1_row1_col3\" class=\"data row1 col3\" >1.323135</td>\n                        <td id=\"T_c62a1_row1_col4\" class=\"data row1 col4\" >0.684581</td>\n                        <td id=\"T_c62a1_row1_col5\" class=\"data row1 col5\" >0.771587</td>\n                        <td id=\"T_c62a1_row1_col6\" class=\"data row1 col6\" >0.856728</td>\n            </tr>\n            <tr>\n                        <th id=\"T_c62a1_level0_row2\" class=\"row_heading level0 row2\" >Ruslan Greatness</th>\n                        <td id=\"T_c62a1_row2_col0\" class=\"data row2 col0\" >0.707274</td>\n                        <td id=\"T_c62a1_row2_col1\" class=\"data row2 col1\" >0.684582</td>\n                        <td id=\"T_c62a1_row2_col2\" class=\"data row2 col2\" >0.681892</td>\n                        <td id=\"T_c62a1_row2_col3\" class=\"data row2 col3\" >1.144604</td>\n                        <td id=\"T_c62a1_row2_col4\" class=\"data row2 col4\" >0.926276</td>\n                        <td id=\"T_c62a1_row2_col5\" class=\"data row2 col5\" >0.520791</td>\n                        <td id=\"T_c62a1_row2_col6\" class=\"data row2 col6\" >1.285039</td>\n            </tr>\n            <tr>\n                        <th id=\"T_c62a1_level0_row3\" class=\"row_heading level0 row3\" >Nicholas Mora</th>\n                        <td id=\"T_c62a1_row3_col0\" class=\"data row3 col0\" >0.814074</td>\n                        <td id=\"T_c62a1_row3_col1\" class=\"data row3 col1\" >1.340948</td>\n                        <td id=\"T_c62a1_row3_col2\" class=\"data row3 col2\" >0.543723</td>\n                        <td id=\"T_c62a1_row3_col3\" class=\"data row3 col3\" >0.753609</td>\n                        <td id=\"T_c62a1_row3_col4\" class=\"data row3 col4\" >0.567345</td>\n                        <td id=\"T_c62a1_row3_col5\" class=\"data row3 col5\" >0.682330</td>\n                        <td id=\"T_c62a1_row3_col6\" class=\"data row3 col6\" >0.631032</td>\n            </tr>\n            <tr>\n                        <th id=\"T_c62a1_level0_row4\" class=\"row_heading level0 row4\" >Elvis Figueroa</th>\n                        <td id=\"T_c62a1_row4_col0\" class=\"data row4 col0\" >1.191276</td>\n                        <td id=\"T_c62a1_row4_col1\" class=\"data row4 col1\" >1.236387</td>\n                        <td id=\"T_c62a1_row4_col2\" class=\"data row4 col2\" >1.215972</td>\n                        <td id=\"T_c62a1_row4_col3\" class=\"data row4 col3\" >1.130460</td>\n                        <td id=\"T_c62a1_row4_col4\" class=\"data row4 col4\" >0.889138</td>\n                        <td id=\"T_c62a1_row4_col5\" class=\"data row4 col5\" >0.528725</td>\n                        <td id=\"T_c62a1_row4_col6\" class=\"data row4 col6\" >0.792661</td>\n            </tr>\n    </tbody></table>"
     },
     "execution_count": 36,
     "metadata": {},
     "output_type": "execute_result"
    }
   ],
   "source": [
    "set_heatmap(get_pitching_stlats(improve_team_pitching(pies, 0.2)), maxVal=1)"
   ],
   "metadata": {
    "collapsed": false,
    "pycharm": {
     "name": "#%%\n"
    }
   }
  },
  {
   "cell_type": "markdown",
   "metadata": {},
   "source": [
    "### Tag Team Pitching\n",
    "**Improve your team's pitching by 10%. The last place team in the opposite subleague also gets +10% team pitching.**\n",
    "\n",
    "See below for analysis. It is impossible to know the last place team in the opposing subleague until the regular season\n",
    "is complete.\n"
   ]
  },
  {
   "cell_type": "code",
   "execution_count": 37,
   "metadata": {
    "pycharm": {
     "name": "#%%\n"
    }
   },
   "outputs": [
    {
     "name": "stdout",
     "output_type": "stream",
     "text": [
      "Change in Total stars: 2.9647092884055164\n",
      "Change in Average stars: 0.5929418576811033\n"
     ]
    },
    {
     "data": {
      "text/plain": "                  old_pitching_stars  new_pitching_stars  \\\nBright Zimmerman            1.589235            2.156695   \nHenry Marshallow            2.143457            2.771380   \nRuslan Greatness            2.425975            2.974996   \nNicholas Mora               2.832423            3.452093   \nElvis Figueroa              4.748317            5.348954   \n\n                  change_in_pitching_stars  \nBright Zimmerman                  0.567459  \nHenry Marshallow                  0.627923  \nRuslan Greatness                  0.549020  \nNicholas Mora                     0.619670  \nElvis Figueroa                    0.600637  ",
      "text/html": "<div>\n<style scoped>\n    .dataframe tbody tr th:only-of-type {\n        vertical-align: middle;\n    }\n\n    .dataframe tbody tr th {\n        vertical-align: top;\n    }\n\n    .dataframe thead th {\n        text-align: right;\n    }\n</style>\n<table border=\"1\" class=\"dataframe\">\n  <thead>\n    <tr style=\"text-align: right;\">\n      <th></th>\n      <th>old_pitching_stars</th>\n      <th>new_pitching_stars</th>\n      <th>change_in_pitching_stars</th>\n    </tr>\n  </thead>\n  <tbody>\n    <tr>\n      <th>Bright Zimmerman</th>\n      <td>1.589235</td>\n      <td>2.156695</td>\n      <td>0.567459</td>\n    </tr>\n    <tr>\n      <th>Henry Marshallow</th>\n      <td>2.143457</td>\n      <td>2.771380</td>\n      <td>0.627923</td>\n    </tr>\n    <tr>\n      <th>Ruslan Greatness</th>\n      <td>2.425975</td>\n      <td>2.974996</td>\n      <td>0.549020</td>\n    </tr>\n    <tr>\n      <th>Nicholas Mora</th>\n      <td>2.832423</td>\n      <td>3.452093</td>\n      <td>0.619670</td>\n    </tr>\n    <tr>\n      <th>Elvis Figueroa</th>\n      <td>4.748317</td>\n      <td>5.348954</td>\n      <td>0.600637</td>\n    </tr>\n  </tbody>\n</table>\n</div>"
     },
     "execution_count": 37,
     "metadata": {},
     "output_type": "execute_result"
    }
   ],
   "source": [
    "table, total, avg = improve_team_pitching_table(pies, 0.10)\n",
    "print(\"Change in Total stars: \" + str(total[\"change_in_pitching_stars\"]))\n",
    "print(\"Change in Average stars: \" + str(avg[\"change_in_pitching_stars\"]))\n",
    "table"
   ]
  },
  {
   "cell_type": "markdown",
   "metadata": {},
   "source": [
    "### Tag Team Hitting\n",
    "**Improve your team's hitting by 10%. The last place team in the opposite subleague also gets +10% team hitting.**\n",
    "\n",
    "\n",
    "See below for analysis. It is impossible to know the last place team in the opposing subleague until the regular season\n",
    "is complete."
   ]
  },
  {
   "cell_type": "code",
   "execution_count": 38,
   "metadata": {
    "pycharm": {
     "name": "#%%\n"
    }
   },
   "outputs": [
    {
     "name": "stdout",
     "output_type": "stream",
     "text": [
      "Change in Total stars: 3.7414256749426684\n",
      "Change in Average stars: 0.5344893821346669\n"
     ]
    },
    {
     "data": {
      "text/plain": "                 old_batting_stars  new_batting_stars  change_in_batting_stars\nFarrell Seagull           2.030782           2.633148                 0.602366\nYusef Puddles             2.147811           2.778538                 0.630727\nBeasley Day               2.695709           3.291428                 0.595719\nLang Richardson           2.914378           3.423157                 0.508779\nEduardo Woodman           4.165300           4.648604                 0.483305\nJode Preston              4.238300           4.721003                 0.482703\nJaxon Buckley             5.579461           6.017289                 0.437827",
      "text/html": "<div>\n<style scoped>\n    .dataframe tbody tr th:only-of-type {\n        vertical-align: middle;\n    }\n\n    .dataframe tbody tr th {\n        vertical-align: top;\n    }\n\n    .dataframe thead th {\n        text-align: right;\n    }\n</style>\n<table border=\"1\" class=\"dataframe\">\n  <thead>\n    <tr style=\"text-align: right;\">\n      <th></th>\n      <th>old_batting_stars</th>\n      <th>new_batting_stars</th>\n      <th>change_in_batting_stars</th>\n    </tr>\n  </thead>\n  <tbody>\n    <tr>\n      <th>Farrell Seagull</th>\n      <td>2.030782</td>\n      <td>2.633148</td>\n      <td>0.602366</td>\n    </tr>\n    <tr>\n      <th>Yusef Puddles</th>\n      <td>2.147811</td>\n      <td>2.778538</td>\n      <td>0.630727</td>\n    </tr>\n    <tr>\n      <th>Beasley Day</th>\n      <td>2.695709</td>\n      <td>3.291428</td>\n      <td>0.595719</td>\n    </tr>\n    <tr>\n      <th>Lang Richardson</th>\n      <td>2.914378</td>\n      <td>3.423157</td>\n      <td>0.508779</td>\n    </tr>\n    <tr>\n      <th>Eduardo Woodman</th>\n      <td>4.165300</td>\n      <td>4.648604</td>\n      <td>0.483305</td>\n    </tr>\n    <tr>\n      <th>Jode Preston</th>\n      <td>4.238300</td>\n      <td>4.721003</td>\n      <td>0.482703</td>\n    </tr>\n    <tr>\n      <th>Jaxon Buckley</th>\n      <td>5.579461</td>\n      <td>6.017289</td>\n      <td>0.437827</td>\n    </tr>\n  </tbody>\n</table>\n</div>"
     },
     "execution_count": 38,
     "metadata": {},
     "output_type": "execute_result"
    }
   ],
   "source": [
    "table, total, avg = improve_team_batting_table(pies, 0.10)\n",
    "print(\"Change in Total stars: \" + str(total[\"change_in_batting_stars\"]))\n",
    "print(\"Change in Average stars: \" + str(avg[\"change_in_batting_stars\"]))\n",
    "table"
   ]
  },
  {
   "cell_type": "markdown",
   "metadata": {},
   "source": [
    "### Wind Spirits\n",
    "**Run. +15% Team Baserunning**\n",
    "\n",
    "See below for analysis."
   ]
  },
  {
   "cell_type": "code",
   "execution_count": 39,
   "outputs": [
    {
     "name": "stdout",
     "output_type": "stream",
     "text": [
      "Change in Total stars: 5.136550836892216\n",
      "Change in Average stars: 0.733792976698888\n"
     ]
    },
    {
     "data": {
      "text/plain": "                 old_baserunning_stars  new_baserunning_stars  \\\nFarrell Seagull               2.179907               2.961968   \nYusef Puddles                 2.817447               3.570209   \nBeasley Day                   2.470609               3.215127   \nLang Richardson               3.241335               3.966644   \nEduardo Woodman               3.519368               4.224525   \nJode Preston                  3.687356               4.395570   \nJaxon Buckley                 3.263785               3.982316   \n\n                 change_in_baserunning_stars  \nFarrell Seagull                     0.782060  \nYusef Puddles                       0.752762  \nBeasley Day                         0.744518  \nLang Richardson                     0.725309  \nEduardo Woodman                     0.705157  \nJode Preston                        0.708214  \nJaxon Buckley                       0.718531  ",
      "text/html": "<div>\n<style scoped>\n    .dataframe tbody tr th:only-of-type {\n        vertical-align: middle;\n    }\n\n    .dataframe tbody tr th {\n        vertical-align: top;\n    }\n\n    .dataframe thead th {\n        text-align: right;\n    }\n</style>\n<table border=\"1\" class=\"dataframe\">\n  <thead>\n    <tr style=\"text-align: right;\">\n      <th></th>\n      <th>old_baserunning_stars</th>\n      <th>new_baserunning_stars</th>\n      <th>change_in_baserunning_stars</th>\n    </tr>\n  </thead>\n  <tbody>\n    <tr>\n      <th>Farrell Seagull</th>\n      <td>2.179907</td>\n      <td>2.961968</td>\n      <td>0.782060</td>\n    </tr>\n    <tr>\n      <th>Yusef Puddles</th>\n      <td>2.817447</td>\n      <td>3.570209</td>\n      <td>0.752762</td>\n    </tr>\n    <tr>\n      <th>Beasley Day</th>\n      <td>2.470609</td>\n      <td>3.215127</td>\n      <td>0.744518</td>\n    </tr>\n    <tr>\n      <th>Lang Richardson</th>\n      <td>3.241335</td>\n      <td>3.966644</td>\n      <td>0.725309</td>\n    </tr>\n    <tr>\n      <th>Eduardo Woodman</th>\n      <td>3.519368</td>\n      <td>4.224525</td>\n      <td>0.705157</td>\n    </tr>\n    <tr>\n      <th>Jode Preston</th>\n      <td>3.687356</td>\n      <td>4.395570</td>\n      <td>0.708214</td>\n    </tr>\n    <tr>\n      <th>Jaxon Buckley</th>\n      <td>3.263785</td>\n      <td>3.982316</td>\n      <td>0.718531</td>\n    </tr>\n  </tbody>\n</table>\n</div>"
     },
     "execution_count": 39,
     "metadata": {},
     "output_type": "execute_result"
    }
   ],
   "source": [
    "table, total, avg = improve_team_baserunning_table(pies, 0.15)\n",
    "print(\"Change in Total stars: \" + str(total[\"change_in_baserunning_stars\"]))\n",
    "print(\"Change in Average stars: \" + str(avg[\"change_in_baserunning_stars\"]))\n",
    "table"
   ],
   "metadata": {
    "collapsed": false,
    "pycharm": {
     "name": "#%%\n"
    }
   }
  },
  {
   "cell_type": "markdown",
   "metadata": {},
   "source": [
    "### The Rack\n",
    "**\\[cartilage and bone snapping\\] +15% Team Defense**\n",
    "\n",
    "See below for analysis"
   ]
  },
  {
   "cell_type": "code",
   "execution_count": 40,
   "outputs": [
    {
     "name": "stdout",
     "output_type": "stream",
     "text": [
      "Change in Total stars: 8.256794144259008\n",
      "Change in Average stars: 0.6880661786882506\n"
     ]
    },
    {
     "data": {
      "text/plain": "                  old_defense_stars  new_defense_stars  \\\nFarrell Seagull            1.502597           2.383884   \nYusef Puddles              3.596398           4.226222   \nBeasley Day                1.617475           2.487640   \nLang Richardson            3.451126           4.109060   \nEduardo Woodman            3.554369           4.179197   \nJode Preston               1.957512           2.759375   \nJaxon Buckley              2.054179           2.822311   \nBright Zimmerman           3.151142           3.771084   \nHenry Marshallow           3.576140           4.251613   \nRuslan Greatness           3.909111           4.493714   \nNicholas Mora              4.746472           5.286120   \nElvis Figueroa             3.740164           4.343257   \n\n                  change_in_defense_stars  \nFarrell Seagull                  0.881287  \nYusef Puddles                    0.629824  \nBeasley Day                      0.870164  \nLang Richardson                  0.657934  \nEduardo Woodman                  0.624829  \nJode Preston                     0.801864  \nJaxon Buckley                    0.768132  \nBright Zimmerman                 0.619942  \nHenry Marshallow                 0.675474  \nRuslan Greatness                 0.584603  \nNicholas Mora                    0.539648  \nElvis Figueroa                   0.603093  ",
      "text/html": "<div>\n<style scoped>\n    .dataframe tbody tr th:only-of-type {\n        vertical-align: middle;\n    }\n\n    .dataframe tbody tr th {\n        vertical-align: top;\n    }\n\n    .dataframe thead th {\n        text-align: right;\n    }\n</style>\n<table border=\"1\" class=\"dataframe\">\n  <thead>\n    <tr style=\"text-align: right;\">\n      <th></th>\n      <th>old_defense_stars</th>\n      <th>new_defense_stars</th>\n      <th>change_in_defense_stars</th>\n    </tr>\n  </thead>\n  <tbody>\n    <tr>\n      <th>Farrell Seagull</th>\n      <td>1.502597</td>\n      <td>2.383884</td>\n      <td>0.881287</td>\n    </tr>\n    <tr>\n      <th>Yusef Puddles</th>\n      <td>3.596398</td>\n      <td>4.226222</td>\n      <td>0.629824</td>\n    </tr>\n    <tr>\n      <th>Beasley Day</th>\n      <td>1.617475</td>\n      <td>2.487640</td>\n      <td>0.870164</td>\n    </tr>\n    <tr>\n      <th>Lang Richardson</th>\n      <td>3.451126</td>\n      <td>4.109060</td>\n      <td>0.657934</td>\n    </tr>\n    <tr>\n      <th>Eduardo Woodman</th>\n      <td>3.554369</td>\n      <td>4.179197</td>\n      <td>0.624829</td>\n    </tr>\n    <tr>\n      <th>Jode Preston</th>\n      <td>1.957512</td>\n      <td>2.759375</td>\n      <td>0.801864</td>\n    </tr>\n    <tr>\n      <th>Jaxon Buckley</th>\n      <td>2.054179</td>\n      <td>2.822311</td>\n      <td>0.768132</td>\n    </tr>\n    <tr>\n      <th>Bright Zimmerman</th>\n      <td>3.151142</td>\n      <td>3.771084</td>\n      <td>0.619942</td>\n    </tr>\n    <tr>\n      <th>Henry Marshallow</th>\n      <td>3.576140</td>\n      <td>4.251613</td>\n      <td>0.675474</td>\n    </tr>\n    <tr>\n      <th>Ruslan Greatness</th>\n      <td>3.909111</td>\n      <td>4.493714</td>\n      <td>0.584603</td>\n    </tr>\n    <tr>\n      <th>Nicholas Mora</th>\n      <td>4.746472</td>\n      <td>5.286120</td>\n      <td>0.539648</td>\n    </tr>\n    <tr>\n      <th>Elvis Figueroa</th>\n      <td>3.740164</td>\n      <td>4.343257</td>\n      <td>0.603093</td>\n    </tr>\n  </tbody>\n</table>\n</div>"
     },
     "execution_count": 40,
     "metadata": {},
     "output_type": "execute_result"
    }
   ],
   "source": [
    "table, total, avg = improve_team_defense_table(pies, 0.15)\n",
    "print(\"Change in Total stars: \" + str(total[\"change_in_defense_stars\"]))\n",
    "print(\"Change in Average stars: \" + str(avg[\"change_in_defense_stars\"]))\n",
    "table"
   ],
   "metadata": {
    "collapsed": false,
    "pycharm": {
     "name": "#%%\n"
    }
   }
  },
  {
   "cell_type": "markdown",
   "metadata": {},
   "source": [
    "### The Best Defense\n",
    "**Is good offense. Swap your best hitting pitcher into your lineup.**\n",
    "\n",
    "This will make our worst batter pitch, see below for affected players and Team Average Star changes."
   ]
  },
  {
   "cell_type": "code",
   "execution_count": 41,
   "outputs": [
    {
     "name": "stdout",
     "output_type": "stream",
     "text": [
      "Swap Nicholas Mora for Farrell Seagull\n"
     ]
    },
    {
     "data": {
      "text/plain": "                        Pies\nbatting_change      +7.3949%\npitching_change     -2.8629%\nbaserunning_change  +6.2292%\ndefense_change      +9.2682%",
      "text/html": "<div>\n<style scoped>\n    .dataframe tbody tr th:only-of-type {\n        vertical-align: middle;\n    }\n\n    .dataframe tbody tr th {\n        vertical-align: top;\n    }\n\n    .dataframe thead th {\n        text-align: right;\n    }\n</style>\n<table border=\"1\" class=\"dataframe\">\n  <thead>\n    <tr style=\"text-align: right;\">\n      <th></th>\n      <th>Pies</th>\n    </tr>\n  </thead>\n  <tbody>\n    <tr>\n      <th>batting_change</th>\n      <td>+7.3949%</td>\n    </tr>\n    <tr>\n      <th>pitching_change</th>\n      <td>-2.8629%</td>\n    </tr>\n    <tr>\n      <th>baserunning_change</th>\n      <td>+6.2292%</td>\n    </tr>\n    <tr>\n      <th>defense_change</th>\n      <td>+9.2682%</td>\n    </tr>\n  </tbody>\n</table>\n</div>"
     },
     "execution_count": 41,
     "metadata": {},
     "output_type": "execute_result"
    }
   ],
   "source": [
    "tbd_pitcher = best_hitting_pitcher(pies)\n",
    "tbd_batter = sort_lineup(pies, 1)[0]\n",
    "\n",
    "print(f\"Swap {tbd_pitcher.name} for {tbd_batter.name}\")\n",
    "pandas.DataFrame(swap_players(pies, player_lineup=tbd_pitcher, player_rotation=tbd_batter))"
   ],
   "metadata": {
    "collapsed": false,
    "pycharm": {
     "name": "#%%\n"
    }
   }
  },
  {
   "cell_type": "markdown",
   "metadata": {},
   "source": [
    "### The Best Offense\n",
    "**Is good defense. Swap your best pitching hitter into your rotation.**\n",
    "\n",
    "This will make our worst pitcher bat, see below for affected players and Team Average Star changes."
   ]
  },
  {
   "cell_type": "code",
   "execution_count": 42,
   "outputs": [
    {
     "name": "stdout",
     "output_type": "stream",
     "text": [
      "Swap Jaxon Buckley for Bright Zimmerman\n"
     ]
    },
    {
     "data": {
      "text/plain": "                        Pies\nbatting_change      -5.7703%\npitching_change     +3.2320%\nbaserunning_change  -6.6995%\ndefense_change      +3.1342%",
      "text/html": "<div>\n<style scoped>\n    .dataframe tbody tr th:only-of-type {\n        vertical-align: middle;\n    }\n\n    .dataframe tbody tr th {\n        vertical-align: top;\n    }\n\n    .dataframe thead th {\n        text-align: right;\n    }\n</style>\n<table border=\"1\" class=\"dataframe\">\n  <thead>\n    <tr style=\"text-align: right;\">\n      <th></th>\n      <th>Pies</th>\n    </tr>\n  </thead>\n  <tbody>\n    <tr>\n      <th>batting_change</th>\n      <td>-5.7703%</td>\n    </tr>\n    <tr>\n      <th>pitching_change</th>\n      <td>+3.2320%</td>\n    </tr>\n    <tr>\n      <th>baserunning_change</th>\n      <td>-6.6995%</td>\n    </tr>\n    <tr>\n      <th>defense_change</th>\n      <td>+3.1342%</td>\n    </tr>\n  </tbody>\n</table>\n</div>"
     },
     "execution_count": 42,
     "metadata": {},
     "output_type": "execute_result"
    }
   ],
   "source": [
    "tbo_batter = best_pitching_hitter(pies)\n",
    "tbo_pitcher = sort_rotation(pies, 1)[0]\n",
    "\n",
    "print(f\"Swap {tbo_batter.name} for {tbo_pitcher.name}\")\n",
    "pandas.DataFrame(swap_players(pies, player_lineup=tbo_pitcher, player_rotation=tbo_batter))"
   ],
   "metadata": {
    "collapsed": false,
    "pycharm": {
     "name": "#%%\n"
    }
   }
  },
  {
   "cell_type": "markdown",
   "metadata": {},
   "source": [
    "---\n",
    "## Appendix\n",
    "* [Description of Attributes](https://www.blaseball.wiki/w/FK:Player_Attributes)\n",
    "* [Stlat Viewer](https://slavfox.space/abslve/?foreboding-kaleidoscope#PHIL)\n",
    "* [Historical Player Graphs](http://yoori.space/hloroscopes/)\n",
    "\n"
   ]
  }
 ],
 "metadata": {
  "kernelspec": {
   "display_name": "Python 3",
   "language": "python",
   "name": "python3"
  },
  "language_info": {
   "codemirror_mode": {
    "name": "ipython",
    "version": 3
   },
   "file_extension": ".py",
   "mimetype": "text/x-python",
   "name": "python",
   "nbconvert_exporter": "python",
   "pygments_lexer": "ipython3",
   "version": "3.8.5"
  },
  "toc": {
   "base_numbering": 1,
   "nav_menu": {},
   "number_sections": false,
   "sideBar": true,
   "skip_h1_title": false,
   "title_cell": "Table of Contents",
   "title_sidebar": "Table of Contents",
   "toc_cell": false,
   "toc_position": {},
   "toc_section_display": true,
   "toc_window_display": false
  }
 },
 "nbformat": 4,
 "nbformat_minor": 1
}