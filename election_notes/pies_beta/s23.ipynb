{
 "cells": [
  {
   "cell_type": "markdown",
   "id": "b66970b2",
   "metadata": {},
   "source": [
    "# Season 23 Election Notes\n",
    "\n",
    ">**FORBIDDEN KNOWLEDGE WARNING**\n",
    ">\n",
    ">This document contains some information that is not currently present on the main site and may be considered spoilers.\n",
    ">Continue at your own discretion. Some information in this document cannot be shared on the Discord without spoiler tags.\n"
   ]
  },
  {
   "cell_type": "code",
   "execution_count": 1,
   "id": "66480da1",
   "metadata": {},
   "outputs": [
    {
     "data": {
      "text/plain": "<IPython.core.display.Markdown object>",
      "text/markdown": "**Last Updated Season 23, Day 78**"
     },
     "metadata": {},
     "output_type": "display_data"
    }
   ],
   "source": [
    "import pandas\n",
    "import requests\n",
    "%matplotlib inline\n",
    "from blaseball_mike.models import *\n",
    "import plotly.express as plot\n",
    "import plotly.io as _pio\n",
    "import plotly.subplots as subplot\n",
    "from IPython.display import display, Markdown\n",
    "from copy import deepcopy\n",
    "\n",
    "import os\n",
    "import sys\n",
    "pdir = os.path.abspath(os.path.join(os.path.dirname(''), os.path.pardir))\n",
    "sys.path.append(pdir)\n",
    "from display import *\n",
    "from blessings import *\n",
    "sys.path.remove(pdir)\n",
    "\n",
    "_pio.renderers.default = \"notebook_connected\"\n",
    "\n",
    "pies = Team.load_by_name(\"Philly Pies\")\n",
    "\n",
    "# Fix Attractors\n",
    "real_pies = deepcopy(pies)\n",
    "for p in real_pies.lineup + real_pies.rotation:\n",
    "    p.batting_rating = None\n",
    "    p.pitching_rating = None\n",
    "    p.baserunning_rating = None\n",
    "    p.defense_rating = None\n",
    "\n",
    "sim = SimulationData.load()\n",
    "display(Markdown(f\"**Last Updated Season {sim.season}, Day {sim.day}**\"))"
   ]
  },
  {
   "cell_type": "markdown",
   "id": "30acfd7a",
   "metadata": {},
   "source": [
    "---\n",
    "## Party Favors\n",
    "\n",
    "Party Favors are chosen by majority votes for each team."
   ]
  },
  {
   "cell_type": "markdown",
   "id": "dd27e6f7",
   "metadata": {},
   "source": [
    "### Team Roamless Crate\n",
    "\n",
    "**Players cannot Roam to your Team.**\n",
    "\n",
    "This would prevent roamers like Bright Zimmerman, the Fifth Base Wielder, and ~~Parker MacMillian~~ from joining our\n",
    "team, even temporarily. A \"Crate\" means this might be an item, which could be broken or stolen."
   ]
  },
  {
   "cell_type": "markdown",
   "id": "b7d02adf",
   "metadata": {},
   "source": [
    "### Team Squiddish Crate\n",
    "\n",
    "**Your Team will become Squiddish.**\n",
    "\n",
    "Squiddish teams replace incinerated players with players from The Hall rather than hatching new eggs. This may also\n",
    "replace incinerated teams with teams from The Hall? A \"Crate\" means this might be an item, which could be broken or\n",
    "stolen."
   ]
  },
  {
   "cell_type": "markdown",
   "id": "bfaeb9dd",
   "metadata": {},
   "source": [
    "### Team Avoidance Crate\n",
    "\n",
    "**Your Team will not swing with 9+ Runs.**\n",
    "\n",
    "This will generally limit our team to scoring 9 or less runs, preventing the team from getting hit by the Fax Machine\n",
    "and making it harder to get our shadows stolen from via the Phantom Thieves Guild. A \"Crate\" means this might be an item,\n",
    "which could be broken or stolen."
   ]
  },
  {
   "cell_type": "markdown",
   "id": "0ac833da",
   "metadata": {},
   "source": [
    "### Team Containment Crate\n",
    "\n",
    "**Your Team will gain Containment.**\n",
    "\n",
    "Containment will prevent instability from chaining outside of our team. It could perhaps still chain within our team. A\n",
    "\"Crate\" means this might be an item, which could be broken or stolen."
   ]
  },
  {
   "cell_type": "markdown",
   "id": "06c562a5",
   "metadata": {},
   "source": [
    "___\n",
    "## Blessings\n",
    "\n",
    "Blessings are selected by raffle across all teams. Each blessing will be awarded to one random team, where teams with\n",
    "more votes are more likely to be selected."
   ]
  },
  {
   "cell_type": "markdown",
   "id": "00737dc3",
   "metadata": {},
   "source": [
    "### S1: Booster Pack\n",
    "\n",
    "**Your Team goes to a Team-building workshop. Boost your entire Team by 6%.**\n",
    "\n",
    "See below for team improvement."
   ]
  },
  {
   "cell_type": "code",
   "execution_count": 2,
   "id": "f4b112ff",
   "metadata": {},
   "outputs": [
    {
     "data": {
      "text/plain": "                  old_batting_stars  old_pitching_stars  \\\nJaxon Buckley              7.396067            4.725977   \nClove Mahle                4.895108            3.284780   \nPeanut Holloway            4.684752            1.730510   \nDoc Anice                  4.583795            4.006476   \nRuslan Greatness           4.887911            4.254849   \nEduardo Woodman            5.776077            1.917608   \nHaruta Byrd                3.621954            2.728771   \nLotus Mango                5.040851            3.527693   \nTiana Takahashi            2.711909            5.324992   \nLucy Tokkan                2.678592            4.212452   \n\n                  old_baserunning_stars  old_defense_stars  new_batting_stars  \\\nJaxon Buckley                  4.339800           4.102057           7.643004   \nClove Mahle                    3.932949           3.788348           5.178791   \nPeanut Holloway                2.544041           3.793060           4.956414   \nDoc Anice                      3.672724           4.566038           4.850280   \nRuslan Greatness               5.235621           5.180622           5.160049   \nEduardo Woodman                3.812287           2.892820           6.051916   \nHaruta Byrd                    2.445376           1.671932           3.941514   \nLotus Mango                    3.250668           3.423710           5.306699   \nTiana Takahashi                3.984454           4.574369           3.041310   \nLucy Tokkan                    1.622025           3.288525           2.976340   \n\n                  new_pitching_stars  new_baserunning_stars  \\\nJaxon Buckley               5.079486               4.618079   \nClove Mahle                 3.637150               4.235174   \nPeanut Holloway             2.093065               2.838060   \nDoc Anice                   4.367754               4.027323   \nRuslan Greatness            4.605407               5.518725   \nEduardo Woodman             2.251432               4.093166   \nHaruta Byrd                 3.092179               2.817918   \nLotus Mango                 3.880288               3.562358   \nTiana Takahashi             5.708419               4.272292   \nLucy Tokkan                 4.586594               1.985797   \n\n                  new_defense_stars  change_in_batting_stars  \\\nJaxon Buckley              4.331780                 0.246937   \nClove Mahle                4.066941                 0.283682   \nPeanut Holloway            4.041413                 0.271662   \nDoc Anice                  4.787780                 0.266485   \nRuslan Greatness           5.388394                 0.272138   \nEduardo Woodman            3.184101                 0.275839   \nHaruta Byrd                2.258085                 0.319560   \nLotus Mango                3.696364                 0.265848   \nTiana Takahashi            4.799593                 0.329401   \nLucy Tokkan                3.547765                 0.297749   \n\n                  change_in_pitching_stars  change_in_baserunning_stars  \\\nJaxon Buckley                     0.353509                     0.278279   \nClove Mahle                       0.352370                     0.302225   \nPeanut Holloway                   0.362555                     0.294019   \nDoc Anice                         0.361279                     0.354599   \nRuslan Greatness                  0.350558                     0.283104   \nEduardo Woodman                   0.333824                     0.280879   \nHaruta Byrd                       0.363408                     0.372542   \nLotus Mango                       0.352595                     0.311690   \nTiana Takahashi                   0.383428                     0.287838   \nLucy Tokkan                       0.374142                     0.363772   \n\n                  change_in_defense_stars  \nJaxon Buckley                    0.229723  \nClove Mahle                      0.278593  \nPeanut Holloway                  0.248353  \nDoc Anice                        0.221743  \nRuslan Greatness                 0.207772  \nEduardo Woodman                  0.291281  \nHaruta Byrd                      0.586153  \nLotus Mango                      0.272654  \nTiana Takahashi                  0.225225  \nLucy Tokkan                      0.259241  ",
      "text/html": "<div>\n<style scoped>\n    .dataframe tbody tr th:only-of-type {\n        vertical-align: middle;\n    }\n\n    .dataframe tbody tr th {\n        vertical-align: top;\n    }\n\n    .dataframe thead th {\n        text-align: right;\n    }\n</style>\n<table border=\"1\" class=\"dataframe\">\n  <thead>\n    <tr style=\"text-align: right;\">\n      <th></th>\n      <th>old_batting_stars</th>\n      <th>old_pitching_stars</th>\n      <th>old_baserunning_stars</th>\n      <th>old_defense_stars</th>\n      <th>new_batting_stars</th>\n      <th>new_pitching_stars</th>\n      <th>new_baserunning_stars</th>\n      <th>new_defense_stars</th>\n      <th>change_in_batting_stars</th>\n      <th>change_in_pitching_stars</th>\n      <th>change_in_baserunning_stars</th>\n      <th>change_in_defense_stars</th>\n    </tr>\n  </thead>\n  <tbody>\n    <tr>\n      <th>Jaxon Buckley</th>\n      <td>7.396067</td>\n      <td>4.725977</td>\n      <td>4.339800</td>\n      <td>4.102057</td>\n      <td>7.643004</td>\n      <td>5.079486</td>\n      <td>4.618079</td>\n      <td>4.331780</td>\n      <td>0.246937</td>\n      <td>0.353509</td>\n      <td>0.278279</td>\n      <td>0.229723</td>\n    </tr>\n    <tr>\n      <th>Clove Mahle</th>\n      <td>4.895108</td>\n      <td>3.284780</td>\n      <td>3.932949</td>\n      <td>3.788348</td>\n      <td>5.178791</td>\n      <td>3.637150</td>\n      <td>4.235174</td>\n      <td>4.066941</td>\n      <td>0.283682</td>\n      <td>0.352370</td>\n      <td>0.302225</td>\n      <td>0.278593</td>\n    </tr>\n    <tr>\n      <th>Peanut Holloway</th>\n      <td>4.684752</td>\n      <td>1.730510</td>\n      <td>2.544041</td>\n      <td>3.793060</td>\n      <td>4.956414</td>\n      <td>2.093065</td>\n      <td>2.838060</td>\n      <td>4.041413</td>\n      <td>0.271662</td>\n      <td>0.362555</td>\n      <td>0.294019</td>\n      <td>0.248353</td>\n    </tr>\n    <tr>\n      <th>Doc Anice</th>\n      <td>4.583795</td>\n      <td>4.006476</td>\n      <td>3.672724</td>\n      <td>4.566038</td>\n      <td>4.850280</td>\n      <td>4.367754</td>\n      <td>4.027323</td>\n      <td>4.787780</td>\n      <td>0.266485</td>\n      <td>0.361279</td>\n      <td>0.354599</td>\n      <td>0.221743</td>\n    </tr>\n    <tr>\n      <th>Ruslan Greatness</th>\n      <td>4.887911</td>\n      <td>4.254849</td>\n      <td>5.235621</td>\n      <td>5.180622</td>\n      <td>5.160049</td>\n      <td>4.605407</td>\n      <td>5.518725</td>\n      <td>5.388394</td>\n      <td>0.272138</td>\n      <td>0.350558</td>\n      <td>0.283104</td>\n      <td>0.207772</td>\n    </tr>\n    <tr>\n      <th>Eduardo Woodman</th>\n      <td>5.776077</td>\n      <td>1.917608</td>\n      <td>3.812287</td>\n      <td>2.892820</td>\n      <td>6.051916</td>\n      <td>2.251432</td>\n      <td>4.093166</td>\n      <td>3.184101</td>\n      <td>0.275839</td>\n      <td>0.333824</td>\n      <td>0.280879</td>\n      <td>0.291281</td>\n    </tr>\n    <tr>\n      <th>Haruta Byrd</th>\n      <td>3.621954</td>\n      <td>2.728771</td>\n      <td>2.445376</td>\n      <td>1.671932</td>\n      <td>3.941514</td>\n      <td>3.092179</td>\n      <td>2.817918</td>\n      <td>2.258085</td>\n      <td>0.319560</td>\n      <td>0.363408</td>\n      <td>0.372542</td>\n      <td>0.586153</td>\n    </tr>\n    <tr>\n      <th>Lotus Mango</th>\n      <td>5.040851</td>\n      <td>3.527693</td>\n      <td>3.250668</td>\n      <td>3.423710</td>\n      <td>5.306699</td>\n      <td>3.880288</td>\n      <td>3.562358</td>\n      <td>3.696364</td>\n      <td>0.265848</td>\n      <td>0.352595</td>\n      <td>0.311690</td>\n      <td>0.272654</td>\n    </tr>\n    <tr>\n      <th>Tiana Takahashi</th>\n      <td>2.711909</td>\n      <td>5.324992</td>\n      <td>3.984454</td>\n      <td>4.574369</td>\n      <td>3.041310</td>\n      <td>5.708419</td>\n      <td>4.272292</td>\n      <td>4.799593</td>\n      <td>0.329401</td>\n      <td>0.383428</td>\n      <td>0.287838</td>\n      <td>0.225225</td>\n    </tr>\n    <tr>\n      <th>Lucy Tokkan</th>\n      <td>2.678592</td>\n      <td>4.212452</td>\n      <td>1.622025</td>\n      <td>3.288525</td>\n      <td>2.976340</td>\n      <td>4.586594</td>\n      <td>1.985797</td>\n      <td>3.547765</td>\n      <td>0.297749</td>\n      <td>0.374142</td>\n      <td>0.363772</td>\n      <td>0.259241</td>\n    </tr>\n  </tbody>\n</table>\n</div>"
     },
     "metadata": {},
     "output_type": "display_data"
    },
    {
     "data": {
      "text/plain": "<pandas.io.formats.style.Styler at 0x1f481a96340>",
      "text/html": "<style  type=\"text/css\" >\n#T_52273_row0_col0,#T_52273_row0_col2,#T_52273_row0_col5,#T_52273_row0_col6,#T_52273_row1_col4,#T_52273_row2_col4,#T_52273_row3_col1,#T_52273_row3_col3,#T_52273_row4_col3,#T_52273_row4_col4,#T_52273_row4_col6,#T_52273_row5_col3,#T_52273_row5_col4,#T_52273_row8_col0,#T_52273_row8_col1,#T_52273_row8_col2,#T_52273_row8_col3,#T_52273_row8_col6,#T_52273_row9_col1,#T_52273_row9_col2,#T_52273_row9_col4{\n            background-color:  #006837;\n            color:  #f1f1f1;\n        }#T_52273_row0_col1,#T_52273_row1_col5{\n            background-color:  #016a38;\n            color:  #f1f1f1;\n        }#T_52273_row0_col3,#T_52273_row4_col0{\n            background-color:  #148e4b;\n            color:  #000000;\n        }#T_52273_row0_col4{\n            background-color:  #63bc62;\n            color:  #000000;\n        }#T_52273_row1_col0{\n            background-color:  #93d168;\n            color:  #000000;\n        }#T_52273_row1_col1{\n            background-color:  #39a758;\n            color:  #000000;\n        }#T_52273_row1_col2{\n            background-color:  #7ac665;\n            color:  #000000;\n        }#T_52273_row1_col3{\n            background-color:  #fed481;\n            color:  #000000;\n        }#T_52273_row1_col6{\n            background-color:  #1b9950;\n            color:  #000000;\n        }#T_52273_row2_col0,#T_52273_row6_col6{\n            background-color:  #fee695;\n            color:  #000000;\n        }#T_52273_row2_col1{\n            background-color:  #daf08d;\n            color:  #000000;\n        }#T_52273_row2_col2{\n            background-color:  #f7844e;\n            color:  #000000;\n        }#T_52273_row2_col3{\n            background-color:  #4eb15d;\n            color:  #000000;\n        }#T_52273_row2_col5{\n            background-color:  #cbe982;\n            color:  #000000;\n        }#T_52273_row2_col6{\n            background-color:  #e2f397;\n            color:  #000000;\n        }#T_52273_row3_col0{\n            background-color:  #2da155;\n            color:  #000000;\n        }#T_52273_row3_col2{\n            background-color:  #d7ee8a;\n            color:  #000000;\n        }#T_52273_row3_col4{\n            background-color:  #7dc765;\n            color:  #000000;\n        }#T_52273_row3_col5{\n            background-color:  #2aa054;\n            color:  #000000;\n        }#T_52273_row3_col6{\n            background-color:  #feeda1;\n            color:  #000000;\n        }#T_52273_row4_col1{\n            background-color:  #3ca959;\n            color:  #000000;\n        }#T_52273_row4_col2{\n            background-color:  #279f53;\n            color:  #000000;\n        }#T_52273_row4_col5{\n            background-color:  #96d268;\n            color:  #000000;\n        }#T_52273_row5_col0{\n            background-color:  #fff0a6;\n            color:  #000000;\n        }#T_52273_row5_col1{\n            background-color:  #fee999;\n            color:  #000000;\n        }#T_52273_row5_col2{\n            background-color:  #fed683;\n            color:  #000000;\n        }#T_52273_row5_col5{\n            background-color:  #6bbf64;\n            color:  #000000;\n        }#T_52273_row5_col6{\n            background-color:  #d5ed88;\n            color:  #000000;\n        }#T_52273_row6_col0{\n            background-color:  #cfeb85;\n            color:  #000000;\n        }#T_52273_row6_col1{\n            background-color:  #60ba62;\n            color:  #000000;\n        }#T_52273_row6_col2{\n            background-color:  #89cc67;\n            color:  #000000;\n        }#T_52273_row6_col3{\n            background-color:  #f88c51;\n            color:  #000000;\n        }#T_52273_row6_col4{\n            background-color:  #b9e176;\n            color:  #000000;\n        }#T_52273_row6_col5{\n            background-color:  #5ab760;\n            color:  #000000;\n        }#T_52273_row7_col0{\n            background-color:  #75c465;\n            color:  #000000;\n        }#T_52273_row7_col1{\n            background-color:  #0e8245;\n            color:  #f1f1f1;\n        }#T_52273_row7_col2,#T_52273_row7_col6{\n            background-color:  #54b45f;\n            color:  #000000;\n        }#T_52273_row7_col3,#T_52273_row8_col4{\n            background-color:  #fee593;\n            color:  #000000;\n        }#T_52273_row7_col4{\n            background-color:  #138c4a;\n            color:  #000000;\n        }#T_52273_row7_col5{\n            background-color:  #70c164;\n            color:  #000000;\n        }#T_52273_row8_col5{\n            background-color:  #118848;\n            color:  #000000;\n        }#T_52273_row9_col0{\n            background-color:  #15904c;\n            color:  #000000;\n        }#T_52273_row9_col3{\n            background-color:  #feea9b;\n            color:  #000000;\n        }#T_52273_row9_col5{\n            background-color:  #fdc171;\n            color:  #000000;\n        }#T_52273_row9_col6{\n            background-color:  #fff5ae;\n            color:  #000000;\n        }</style><table id=\"T_52273_\" ><thead>    <tr>        <th class=\"blank level0\" ></th>        <th class=\"col_heading level0 col0\" >Pitching Rating</th>        <th class=\"col_heading level0 col1\" >Unthwackability</th>        <th class=\"col_heading level0 col2\" >Ruthlessness</th>        <th class=\"col_heading level0 col3\" >Overpowerment</th>        <th class=\"col_heading level0 col4\" >Shakespearianism</th>        <th class=\"col_heading level0 col5\" >Coldness</th>        <th class=\"col_heading level0 col6\" >Suppression</th>    </tr></thead><tbody>\n                <tr>\n                        <th id=\"T_52273_level0_row0\" class=\"row_heading level0 row0\" >Jaxon Buckley</th>\n                        <td id=\"T_52273_row0_col0\" class=\"data row0 col0\" >1.015897</td>\n                        <td id=\"T_52273_row0_col1\" class=\"data row0 col1\" >0.993260</td>\n                        <td id=\"T_52273_row0_col2\" class=\"data row0 col2\" >1.129557</td>\n                        <td id=\"T_52273_row0_col3\" class=\"data row0 col3\" >0.919596</td>\n                        <td id=\"T_52273_row0_col4\" class=\"data row0 col4\" >0.803037</td>\n                        <td id=\"T_52273_row0_col5\" class=\"data row0 col5\" >1.218093</td>\n                        <td id=\"T_52273_row0_col6\" class=\"data row0 col6\" >1.469315</td>\n            </tr>\n            <tr>\n                        <th id=\"T_52273_level0_row1\" class=\"row_heading level0 row1\" >Clove Mahle</th>\n                        <td id=\"T_52273_row1_col0\" class=\"data row1 col0\" >0.727430</td>\n                        <td id=\"T_52273_row1_col1\" class=\"data row1 col1\" >0.856526</td>\n                        <td id=\"T_52273_row1_col2\" class=\"data row1 col2\" >0.766131</td>\n                        <td id=\"T_52273_row1_col3\" class=\"data row1 col3\" >0.377869</td>\n                        <td id=\"T_52273_row1_col4\" class=\"data row1 col4\" >1.126226</td>\n                        <td id=\"T_52273_row1_col5\" class=\"data row1 col5\" >0.994112</td>\n                        <td id=\"T_52273_row1_col6\" class=\"data row1 col6\" >0.897860</td>\n            </tr>\n            <tr>\n                        <th id=\"T_52273_level0_row2\" class=\"row_heading level0 row2\" >Peanut Holloway</th>\n                        <td id=\"T_52273_row2_col0\" class=\"data row2 col0\" >0.418613</td>\n                        <td id=\"T_52273_row2_col1\" class=\"data row2 col1\" >0.595676</td>\n                        <td id=\"T_52273_row2_col2\" class=\"data row2 col2\" >0.235648</td>\n                        <td id=\"T_52273_row2_col3\" class=\"data row2 col3\" >0.829363</td>\n                        <td id=\"T_52273_row2_col4\" class=\"data row2 col4\" >1.062751</td>\n                        <td id=\"T_52273_row2_col5\" class=\"data row2 col5\" >0.627916</td>\n                        <td id=\"T_52273_row2_col6\" class=\"data row2 col6\" >0.574378</td>\n            </tr>\n            <tr>\n                        <th id=\"T_52273_level0_row3\" class=\"row_heading level0 row3\" >Doc Anice</th>\n                        <td id=\"T_52273_row3_col0\" class=\"data row3 col0\" >0.873551</td>\n                        <td id=\"T_52273_row3_col1\" class=\"data row3 col1\" >1.185400</td>\n                        <td id=\"T_52273_row3_col2\" class=\"data row3 col2\" >0.604125</td>\n                        <td id=\"T_52273_row3_col3\" class=\"data row3 col3\" >1.080791</td>\n                        <td id=\"T_52273_row3_col4\" class=\"data row3 col4\" >0.763694</td>\n                        <td id=\"T_52273_row3_col5\" class=\"data row3 col5\" >0.875124</td>\n                        <td id=\"T_52273_row3_col6\" class=\"data row3 col6\" >0.444539</td>\n            </tr>\n            <tr>\n                        <th id=\"T_52273_level0_row4\" class=\"row_heading level0 row4\" >Ruslan Greatness</th>\n                        <td id=\"T_52273_row4_col0\" class=\"data row4 col0\" >0.921081</td>\n                        <td id=\"T_52273_row4_col1\" class=\"data row4 col1\" >0.852975</td>\n                        <td id=\"T_52273_row4_col2\" class=\"data row4 col2\" >0.881600</td>\n                        <td id=\"T_52273_row4_col3\" class=\"data row4 col3\" >1.341053</td>\n                        <td id=\"T_52273_row4_col4\" class=\"data row4 col4\" >1.124413</td>\n                        <td id=\"T_52273_row4_col5\" class=\"data row4 col5\" >0.725223</td>\n                        <td id=\"T_52273_row4_col6\" class=\"data row4 col6\" >1.493402</td>\n            </tr>\n            <tr>\n                        <th id=\"T_52273_level0_row5\" class=\"row_heading level0 row5\" >Eduardo Woodman</th>\n                        <td id=\"T_52273_row5_col0\" class=\"data row5 col0\" >0.450286</td>\n                        <td id=\"T_52273_row5_col1\" class=\"data row5 col1\" >0.429504</td>\n                        <td id=\"T_52273_row5_col2\" class=\"data row5 col2\" >0.379023</td>\n                        <td id=\"T_52273_row5_col3\" class=\"data row5 col3\" >1.030891</td>\n                        <td id=\"T_52273_row5_col4\" class=\"data row5 col4\" >1.150219</td>\n                        <td id=\"T_52273_row5_col5\" class=\"data row5 col5\" >0.792801</td>\n                        <td id=\"T_52273_row5_col6\" class=\"data row5 col6\" >0.607732</td>\n            </tr>\n            <tr>\n                        <th id=\"T_52273_level0_row6\" class=\"row_heading level0 row6\" >Haruta Byrd</th>\n                        <td id=\"T_52273_row6_col0\" class=\"data row6 col0\" >0.618436</td>\n                        <td id=\"T_52273_row6_col1\" class=\"data row6 col1\" >0.806009</td>\n                        <td id=\"T_52273_row6_col2\" class=\"data row6 col2\" >0.744712</td>\n                        <td id=\"T_52273_row6_col3\" class=\"data row6 col3\" >0.249109</td>\n                        <td id=\"T_52273_row6_col4\" class=\"data row6 col4\" >0.662043</td>\n                        <td id=\"T_52273_row6_col5\" class=\"data row6 col5\" >0.815252</td>\n                        <td id=\"T_52273_row6_col6\" class=\"data row6 col6\" >0.420515</td>\n            </tr>\n            <tr>\n                        <th id=\"T_52273_level0_row7\" class=\"row_heading level0 row7\" >Lotus Mango</th>\n                        <td id=\"T_52273_row7_col0\" class=\"data row7 col0\" >0.776058</td>\n                        <td id=\"T_52273_row7_col1\" class=\"data row7 col1\" >0.943513</td>\n                        <td id=\"T_52273_row7_col2\" class=\"data row7 col2\" >0.821193</td>\n                        <td id=\"T_52273_row7_col3\" class=\"data row7 col3\" >0.416322</td>\n                        <td id=\"T_52273_row7_col4\" class=\"data row7 col4\" >0.922721</td>\n                        <td id=\"T_52273_row7_col5\" class=\"data row7 col5\" >0.781319</td>\n                        <td id=\"T_52273_row7_col6\" class=\"data row7 col6\" >0.821783</td>\n            </tr>\n            <tr>\n                        <th id=\"T_52273_level0_row8\" class=\"row_heading level0 row8\" >Tiana Takahashi</th>\n                        <td id=\"T_52273_row8_col0\" class=\"data row8 col0\" >1.141684</td>\n                        <td id=\"T_52273_row8_col1\" class=\"data row8 col1\" >1.202441</td>\n                        <td id=\"T_52273_row8_col2\" class=\"data row8 col2\" >1.275111</td>\n                        <td id=\"T_52273_row8_col3\" class=\"data row8 col3\" >1.242198</td>\n                        <td id=\"T_52273_row8_col4\" class=\"data row8 col4\" >0.416126</td>\n                        <td id=\"T_52273_row8_col5\" class=\"data row8 col5\" >0.932711</td>\n                        <td id=\"T_52273_row8_col6\" class=\"data row8 col6\" >1.259716</td>\n            </tr>\n            <tr>\n                        <th id=\"T_52273_level0_row9\" class=\"row_heading level0 row9\" >Lucy Tokkan</th>\n                        <td id=\"T_52273_row9_col0\" class=\"data row9 col0\" >0.917319</td>\n                        <td id=\"T_52273_row9_col1\" class=\"data row9 col1\" >1.032158</td>\n                        <td id=\"T_52273_row9_col2\" class=\"data row9 col2\" >1.107708</td>\n                        <td id=\"T_52273_row9_col3\" class=\"data row9 col3\" >0.432699</td>\n                        <td id=\"T_52273_row9_col4\" class=\"data row9 col4\" >1.102174</td>\n                        <td id=\"T_52273_row9_col5\" class=\"data row9 col5\" >0.338034</td>\n                        <td id=\"T_52273_row9_col6\" class=\"data row9 col6\" >0.467808</td>\n            </tr>\n    </tbody></table>"
     },
     "execution_count": 2,
     "metadata": {},
     "output_type": "execute_result"
    }
   ],
   "source": [
    "table, total, avg = improve_team_overall_table(pies, 0.06)\n",
    "display(table)\n",
    "set_heatmap(get_pitching_stlats(improve_team_overall(pies, 0.06)), maxVal=1)"
   ]
  },
  {
   "cell_type": "markdown",
   "id": "82b8200d",
   "metadata": {},
   "source": [
    "### S2: Literal Arm Cannon\n",
    "\n",
    "**A random Player in your Team's Rotation with an available Item slot will gain a Literal Arm Cannon.**\n",
    "\n",
    "The stats of the Literal Arm Cannon Item are unknown. The previous Literal Arm Cannon blessing maxed out pitching stats.\n",
    "See below for pitchers with open item slots."
   ]
  },
  {
   "cell_type": "code",
   "execution_count": 3,
   "id": "d17d5f41",
   "metadata": {},
   "outputs": [
    {
     "data": {
      "text/plain": "Empty DataFrame\nColumns: []\nIndex: []",
      "text/html": "<div>\n<style scoped>\n    .dataframe tbody tr th:only-of-type {\n        vertical-align: middle;\n    }\n\n    .dataframe tbody tr th {\n        vertical-align: top;\n    }\n\n    .dataframe thead th {\n        text-align: right;\n    }\n</style>\n<table border=\"1\" class=\"dataframe\">\n  <thead>\n    <tr style=\"text-align: right;\">\n      <th></th>\n    </tr>\n  </thead>\n  <tbody>\n  </tbody>\n</table>\n</div>"
     },
     "execution_count": 3,
     "metadata": {},
     "output_type": "execute_result"
    }
   ],
   "source": [
    "itemable = has_item_slots(pies.rotation)\n",
    "get_stars(itemable)"
   ]
  },
  {
   "cell_type": "markdown",
   "id": "21d36239",
   "metadata": {},
   "source": [
    "### S3: Exploratory Surgeries\n",
    "\n",
    "**Re-rolls the 3 worst Pitchers in your Team's Rotation.**\n",
    "\n",
    "This will attempt to reroll the following players, in order. Players are rerolled in order, so if a player is rerolled\n",
    "to be worse they will be rerolled again, as they are still the worst pitcher.\n",
    "For reference, the Statistical Average player has 2 batting stars and 1.5 pitching stars. It is unknown if this will\n",
    "respect Combined Stars like Alternates do."
   ]
  },
  {
   "cell_type": "code",
   "execution_count": 4,
   "id": "107faf42",
   "metadata": {},
   "outputs": [
    {
     "data": {
      "text/plain": "<pandas.io.formats.style.Styler at 0x1f481a27d30>",
      "text/html": "<style  type=\"text/css\" >\n#T_c4ff1_row0_col0{\n            background-color:  #45ad5b;\n            color:  #000000;\n        }#T_c4ff1_row0_col1{\n            background-color:  #07753e;\n            color:  #f1f1f1;\n        }#T_c4ff1_row0_col2,#T_c4ff1_row0_col4,#T_c4ff1_row1_col0,#T_c4ff1_row1_col1,#T_c4ff1_row1_col2,#T_c4ff1_row1_col3,#T_c4ff1_row1_col6{\n            background-color:  #006837;\n            color:  #f1f1f1;\n        }#T_c4ff1_row0_col3{\n            background-color:  #fed27f;\n            color:  #000000;\n        }#T_c4ff1_row0_col5{\n            background-color:  #fba05b;\n            color:  #000000;\n        }#T_c4ff1_row0_col6{\n            background-color:  #fee28f;\n            color:  #000000;\n        }#T_c4ff1_row1_col4{\n            background-color:  #feca79;\n            color:  #000000;\n        }#T_c4ff1_row1_col5{\n            background-color:  #2da155;\n            color:  #000000;\n        }</style><table id=\"T_c4ff1_\" ><thead>    <tr>        <th class=\"blank level0\" ></th>        <th class=\"col_heading level0 col0\" >Pitching Rating</th>        <th class=\"col_heading level0 col1\" >Unthwackability</th>        <th class=\"col_heading level0 col2\" >Ruthlessness</th>        <th class=\"col_heading level0 col3\" >Overpowerment</th>        <th class=\"col_heading level0 col4\" >Shakespearianism</th>        <th class=\"col_heading level0 col5\" >Coldness</th>        <th class=\"col_heading level0 col6\" >Suppression</th>    </tr></thead><tbody>\n                <tr>\n                        <th id=\"T_c4ff1_level0_row0\" class=\"row_heading level0 row0\" >Lucy Tokkan</th>\n                        <td id=\"T_c4ff1_row0_col0\" class=\"data row0 col0\" >0.842490</td>\n                        <td id=\"T_c4ff1_row0_col1\" class=\"data row0 col1\" >0.972158</td>\n                        <td id=\"T_c4ff1_row0_col2\" class=\"data row0 col2\" >1.047708</td>\n                        <td id=\"T_c4ff1_row0_col3\" class=\"data row0 col3\" >0.372699</td>\n                        <td id=\"T_c4ff1_row0_col4\" class=\"data row0 col4\" >1.042174</td>\n                        <td id=\"T_c4ff1_row0_col5\" class=\"data row0 col5\" >0.278034</td>\n                        <td id=\"T_c4ff1_row0_col6\" class=\"data row0 col6\" >0.407808</td>\n            </tr>\n            <tr>\n                        <th id=\"T_c4ff1_level0_row1\" class=\"row_heading level0 row1\" >Tiana Takahashi</th>\n                        <td id=\"T_c4ff1_row1_col0\" class=\"data row1 col0\" >1.064998</td>\n                        <td id=\"T_c4ff1_row1_col1\" class=\"data row1 col1\" >1.142441</td>\n                        <td id=\"T_c4ff1_row1_col2\" class=\"data row1 col2\" >1.215111</td>\n                        <td id=\"T_c4ff1_row1_col3\" class=\"data row1 col3\" >1.182198</td>\n                        <td id=\"T_c4ff1_row1_col4\" class=\"data row1 col4\" >0.356126</td>\n                        <td id=\"T_c4ff1_row1_col5\" class=\"data row1 col5\" >0.872711</td>\n                        <td id=\"T_c4ff1_row1_col6\" class=\"data row1 col6\" >1.199716</td>\n            </tr>\n    </tbody></table>"
     },
     "execution_count": 4,
     "metadata": {},
     "output_type": "execute_result"
    }
   ],
   "source": [
    "worst_pitchers = sort_rotation(pies, 3)\n",
    "set_heatmap(get_pitching_stlats(worst_pitchers), maxVal=1)"
   ]
  },
  {
   "cell_type": "markdown",
   "id": "a2c39a98",
   "metadata": {},
   "source": [
    "### S4: Precognition\n",
    "\n",
    "**Vision of things to come. 3 Random Players in your Team's Lineup will be boosted by 20%.**\n",
    "\n",
    "See below for how this would affect individual batters on the team."
   ]
  },
  {
   "cell_type": "code",
   "execution_count": 5,
   "id": "2f5d6bc2",
   "metadata": {},
   "outputs": [
    {
     "data": {
      "text/plain": "                  old_batting_stars  new_batting_stars  \\\nJaxon Buckley              7.396067           8.222378   \nClove Mahle                4.895108           5.834020   \nPeanut Holloway            4.684752           5.581857   \nDoc Anice                  4.583795           5.465257   \nRuslan Greatness           4.887911           5.787239   \nEduardo Woodman            5.776077           6.690907   \nHaruta Byrd                3.621954           4.642808   \nLotus Mango                5.040851           5.919956   \n\n                  change_in_batting_stars  \nJaxon Buckley                    0.826311  \nClove Mahle                      0.938912  \nPeanut Holloway                  0.897105  \nDoc Anice                        0.881462  \nRuslan Greatness                 0.899328  \nEduardo Woodman                  0.914830  \nHaruta Byrd                      1.020854  \nLotus Mango                      0.879105  ",
      "text/html": "<div>\n<style scoped>\n    .dataframe tbody tr th:only-of-type {\n        vertical-align: middle;\n    }\n\n    .dataframe tbody tr th {\n        vertical-align: top;\n    }\n\n    .dataframe thead th {\n        text-align: right;\n    }\n</style>\n<table border=\"1\" class=\"dataframe\">\n  <thead>\n    <tr style=\"text-align: right;\">\n      <th></th>\n      <th>old_batting_stars</th>\n      <th>new_batting_stars</th>\n      <th>change_in_batting_stars</th>\n    </tr>\n  </thead>\n  <tbody>\n    <tr>\n      <th>Jaxon Buckley</th>\n      <td>7.396067</td>\n      <td>8.222378</td>\n      <td>0.826311</td>\n    </tr>\n    <tr>\n      <th>Clove Mahle</th>\n      <td>4.895108</td>\n      <td>5.834020</td>\n      <td>0.938912</td>\n    </tr>\n    <tr>\n      <th>Peanut Holloway</th>\n      <td>4.684752</td>\n      <td>5.581857</td>\n      <td>0.897105</td>\n    </tr>\n    <tr>\n      <th>Doc Anice</th>\n      <td>4.583795</td>\n      <td>5.465257</td>\n      <td>0.881462</td>\n    </tr>\n    <tr>\n      <th>Ruslan Greatness</th>\n      <td>4.887911</td>\n      <td>5.787239</td>\n      <td>0.899328</td>\n    </tr>\n    <tr>\n      <th>Eduardo Woodman</th>\n      <td>5.776077</td>\n      <td>6.690907</td>\n      <td>0.914830</td>\n    </tr>\n    <tr>\n      <th>Haruta Byrd</th>\n      <td>3.621954</td>\n      <td>4.642808</td>\n      <td>1.020854</td>\n    </tr>\n    <tr>\n      <th>Lotus Mango</th>\n      <td>5.040851</td>\n      <td>5.919956</td>\n      <td>0.879105</td>\n    </tr>\n  </tbody>\n</table>\n</div>"
     },
     "metadata": {},
     "output_type": "display_data"
    },
    {
     "data": {
      "text/plain": "<pandas.io.formats.style.Styler at 0x1f481a3f970>",
      "text/html": "<style  type=\"text/css\" >\n#T_ff451_row0_col0,#T_ff451_row0_col1,#T_ff451_row0_col2,#T_ff451_row0_col3,#T_ff451_row0_col4,#T_ff451_row0_col6,#T_ff451_row0_col8,#T_ff451_row1_col0,#T_ff451_row1_col1,#T_ff451_row1_col2,#T_ff451_row1_col3,#T_ff451_row1_col6,#T_ff451_row2_col0,#T_ff451_row2_col1,#T_ff451_row2_col2,#T_ff451_row2_col3,#T_ff451_row2_col4,#T_ff451_row2_col8,#T_ff451_row3_col0,#T_ff451_row3_col1,#T_ff451_row3_col3,#T_ff451_row3_col4,#T_ff451_row3_col6,#T_ff451_row3_col8,#T_ff451_row4_col0,#T_ff451_row4_col2,#T_ff451_row4_col3,#T_ff451_row4_col4,#T_ff451_row4_col6,#T_ff451_row5_col0,#T_ff451_row5_col1,#T_ff451_row5_col2,#T_ff451_row5_col3,#T_ff451_row5_col4,#T_ff451_row5_col8,#T_ff451_row6_col2,#T_ff451_row6_col3,#T_ff451_row7_col0,#T_ff451_row7_col1,#T_ff451_row7_col2,#T_ff451_row7_col4{\n            background-color:  #006837;\n            color:  #f1f1f1;\n        }#T_ff451_row0_col5,#T_ff451_row0_col7,#T_ff451_row2_col5,#T_ff451_row3_col5,#T_ff451_row3_col7,#T_ff451_row4_col5,#T_ff451_row4_col7,#T_ff451_row5_col7,#T_ff451_row6_col7,#T_ff451_row7_col5,#T_ff451_row7_col7{\n            background-color:  #a90426;\n            color:  #f1f1f1;\n            background-color:  #026c39;\n            color:  #f1f1f1;\n        }#T_ff451_row1_col4{\n            background-color:  #07753e;\n            color:  #f1f1f1;\n        }#T_ff451_row1_col5{\n            background-color:  #f46d43;\n            color:  #000000;\n            background-color:  #66bd63;\n            color:  #000000;\n        }#T_ff451_row1_col7{\n            background-color:  #fdb768;\n            color:  #000000;\n            background-color:  #afdd70;\n            color:  #000000;\n        }#T_ff451_row1_col8{\n            background-color:  #2aa054;\n            color:  #000000;\n        }#T_ff451_row2_col6{\n            background-color:  #f8fcb6;\n            color:  #000000;\n        }#T_ff451_row2_col7{\n            background-color:  #fffdbc;\n            color:  #000000;\n            background-color:  #fdfebc;\n            color:  #000000;\n        }#T_ff451_row3_col2,#T_ff451_row7_col8{\n            background-color:  #16914d;\n            color:  #000000;\n        }#T_ff451_row4_col1{\n            background-color:  #39a758;\n            color:  #000000;\n        }#T_ff451_row4_col8{\n            background-color:  #18954f;\n            color:  #000000;\n        }#T_ff451_row5_col5{\n            background-color:  #be1827;\n            color:  #f1f1f1;\n            background-color:  #0d8044;\n            color:  #f1f1f1;\n        }#T_ff451_row5_col6{\n            background-color:  #06733d;\n            color:  #f1f1f1;\n        }#T_ff451_row6_col0{\n            background-color:  #128a49;\n            color:  #000000;\n        }#T_ff451_row6_col1{\n            background-color:  #148e4b;\n            color:  #000000;\n        }#T_ff451_row6_col4{\n            background-color:  #6ec064;\n            color:  #000000;\n        }#T_ff451_row6_col5{\n            background-color:  #c9e881;\n            color:  #000000;\n            background-color:  #fed07e;\n            color:  #000000;\n        }#T_ff451_row6_col6{\n            background-color:  #fed07e;\n            color:  #000000;\n        }#T_ff451_row6_col8{\n            background-color:  #fdb96a;\n            color:  #000000;\n        }#T_ff451_row7_col3{\n            background-color:  #36a657;\n            color:  #000000;\n        }#T_ff451_row7_col6{\n            background-color:  #e2f397;\n            color:  #000000;\n        }</style><table id=\"T_ff451_\" ><thead>    <tr>        <th class=\"blank level0\" ></th>        <th class=\"col_heading level0 col0\" >Batting Rating</th>        <th class=\"col_heading level0 col1\" >Thwackability</th>        <th class=\"col_heading level0 col2\" >Divinity</th>        <th class=\"col_heading level0 col3\" >Musclitude</th>        <th class=\"col_heading level0 col4\" >Moxie</th>        <th class=\"col_heading level0 col5\" >Patheticism</th>        <th class=\"col_heading level0 col6\" >Martyrdom</th>        <th class=\"col_heading level0 col7\" >Tragicness</th>        <th class=\"col_heading level0 col8\" >Buoyancy</th>    </tr></thead><tbody>\n                <tr>\n                        <th id=\"T_ff451_level0_row0\" class=\"row_heading level0 row0\" >Jaxon Buckley</th>\n                        <td id=\"T_ff451_row0_col0\" class=\"data row0 col0\" >1.644476</td>\n                        <td id=\"T_ff451_row0_col1\" class=\"data row0 col1\" >1.982206</td>\n                        <td id=\"T_ff451_row0_col2\" class=\"data row0 col2\" >1.417104</td>\n                        <td id=\"T_ff451_row0_col3\" class=\"data row0 col3\" >2.107337</td>\n                        <td id=\"T_ff451_row0_col4\" class=\"data row0 col4\" >2.335263</td>\n                        <td id=\"T_ff451_row0_col5\" class=\"data row0 col5\" >0.010000</td>\n                        <td id=\"T_ff451_row0_col6\" class=\"data row0 col6\" >2.341931</td>\n                        <td id=\"T_ff451_row0_col7\" class=\"data row0 col7\" >0.010000</td>\n                        <td id=\"T_ff451_row0_col8\" class=\"data row0 col8\" >1.789857</td>\n            </tr>\n            <tr>\n                        <th id=\"T_ff451_level0_row1\" class=\"row_heading level0 row1\" >Clove Mahle</th>\n                        <td id=\"T_ff451_row1_col0\" class=\"data row1 col0\" >1.166804</td>\n                        <td id=\"T_ff451_row1_col1\" class=\"data row1 col1\" >1.137028</td>\n                        <td id=\"T_ff451_row1_col2\" class=\"data row1 col2\" >1.337184</td>\n                        <td id=\"T_ff451_row1_col3\" class=\"data row1 col3\" >1.285896</td>\n                        <td id=\"T_ff451_row1_col4\" class=\"data row1 col4\" >0.970516</td>\n                        <td id=\"T_ff451_row1_col5\" class=\"data row1 col5\" >0.200561</td>\n                        <td id=\"T_ff451_row1_col6\" class=\"data row1 col6\" >1.351823</td>\n                        <td id=\"T_ff451_row1_col7\" class=\"data row1 col7\" >0.318003</td>\n                        <td id=\"T_ff451_row1_col8\" class=\"data row1 col8\" >0.878284</td>\n            </tr>\n            <tr>\n                        <th id=\"T_ff451_level0_row2\" class=\"row_heading level0 row2\" >Peanut Holloway</th>\n                        <td id=\"T_ff451_row2_col0\" class=\"data row2 col0\" >1.116371</td>\n                        <td id=\"T_ff451_row2_col1\" class=\"data row2 col1\" >1.044712</td>\n                        <td id=\"T_ff451_row2_col2\" class=\"data row2 col2\" >1.262284</td>\n                        <td id=\"T_ff451_row2_col3\" class=\"data row2 col3\" >1.263049</td>\n                        <td id=\"T_ff451_row2_col4\" class=\"data row2 col4\" >1.241780</td>\n                        <td id=\"T_ff451_row2_col5\" class=\"data row2 col5\" >0.010000</td>\n                        <td id=\"T_ff451_row2_col6\" class=\"data row2 col6\" >0.517698</td>\n                        <td id=\"T_ff451_row2_col7\" class=\"data row2 col7\" >0.495134</td>\n                        <td id=\"T_ff451_row2_col8\" class=\"data row2 col8\" >1.260921</td>\n            </tr>\n            <tr>\n                        <th id=\"T_ff451_level0_row3\" class=\"row_heading level0 row3\" >Doc Anice</th>\n                        <td id=\"T_ff451_row3_col0\" class=\"data row3 col0\" >1.093051</td>\n                        <td id=\"T_ff451_row3_col1\" class=\"data row3 col1\" >1.262293</td>\n                        <td id=\"T_ff451_row3_col2\" class=\"data row3 col2\" >0.913629</td>\n                        <td id=\"T_ff451_row3_col3\" class=\"data row3 col3\" >1.220169</td>\n                        <td id=\"T_ff451_row3_col4\" class=\"data row3 col4\" >1.254322</td>\n                        <td id=\"T_ff451_row3_col5\" class=\"data row3 col5\" >0.010000</td>\n                        <td id=\"T_ff451_row3_col6\" class=\"data row3 col6\" >1.473121</td>\n                        <td id=\"T_ff451_row3_col7\" class=\"data row3 col7\" >0.010000</td>\n                        <td id=\"T_ff451_row3_col8\" class=\"data row3 col8\" >1.274162</td>\n            </tr>\n            <tr>\n                        <th id=\"T_ff451_level0_row4\" class=\"row_heading level0 row4\" >Ruslan Greatness</th>\n                        <td id=\"T_ff451_row4_col0\" class=\"data row4 col0\" >1.157448</td>\n                        <td id=\"T_ff451_row4_col1\" class=\"data row4 col1\" >0.859065</td>\n                        <td id=\"T_ff451_row4_col2\" class=\"data row4 col2\" >1.361697</td>\n                        <td id=\"T_ff451_row4_col3\" class=\"data row4 col3\" >1.791594</td>\n                        <td id=\"T_ff451_row4_col4\" class=\"data row4 col4\" >1.694362</td>\n                        <td id=\"T_ff451_row4_col5\" class=\"data row4 col5\" >0.010000</td>\n                        <td id=\"T_ff451_row4_col6\" class=\"data row4 col6\" >1.541271</td>\n                        <td id=\"T_ff451_row4_col7\" class=\"data row4 col7\" >0.010000</td>\n                        <td id=\"T_ff451_row4_col8\" class=\"data row4 col8\" >0.906050</td>\n            </tr>\n            <tr>\n                        <th id=\"T_ff451_level0_row5\" class=\"row_heading level0 row5\" >Eduardo Woodman</th>\n                        <td id=\"T_ff451_row5_col0\" class=\"data row5 col0\" >1.338181</td>\n                        <td id=\"T_ff451_row5_col1\" class=\"data row5 col1\" >1.571260</td>\n                        <td id=\"T_ff451_row5_col2\" class=\"data row5 col2\" >1.389019</td>\n                        <td id=\"T_ff451_row5_col3\" class=\"data row5 col3\" >1.209623</td>\n                        <td id=\"T_ff451_row5_col4\" class=\"data row5 col4\" >1.101743</td>\n                        <td id=\"T_ff451_row5_col5\" class=\"data row5 col5\" >0.053729</td>\n                        <td id=\"T_ff451_row5_col6\" class=\"data row5 col6\" >0.973682</td>\n                        <td id=\"T_ff451_row5_col7\" class=\"data row5 col7\" >0.010000</td>\n                        <td id=\"T_ff451_row5_col8\" class=\"data row5 col8\" >1.262578</td>\n            </tr>\n            <tr>\n                        <th id=\"T_ff451_level0_row6\" class=\"row_heading level0 row6\" >Haruta Byrd</th>\n                        <td id=\"T_ff451_row6_col0\" class=\"data row6 col0\" >0.928562</td>\n                        <td id=\"T_ff451_row6_col1\" class=\"data row6 col1\" >0.921433</td>\n                        <td id=\"T_ff451_row6_col2\" class=\"data row6 col2\" >1.117077</td>\n                        <td id=\"T_ff451_row6_col3\" class=\"data row6 col3\" >1.053010</td>\n                        <td id=\"T_ff451_row6_col4\" class=\"data row6 col4\" >0.785921</td>\n                        <td id=\"T_ff451_row6_col5\" class=\"data row6 col5\" >0.632203</td>\n                        <td id=\"T_ff451_row6_col6\" class=\"data row6 col6\" >0.369263</td>\n                        <td id=\"T_ff451_row6_col7\" class=\"data row6 col7\" >0.010000</td>\n                        <td id=\"T_ff451_row6_col8\" class=\"data row6 col8\" >0.324161</td>\n            </tr>\n            <tr>\n                        <th id=\"T_ff451_level0_row7\" class=\"row_heading level0 row7\" >Lotus Mango</th>\n                        <td id=\"T_ff451_row7_col0\" class=\"data row7 col0\" >1.183991</td>\n                        <td id=\"T_ff451_row7_col1\" class=\"data row7 col1\" >1.194205</td>\n                        <td id=\"T_ff451_row7_col2\" class=\"data row7 col2\" >1.443467</td>\n                        <td id=\"T_ff451_row7_col3\" class=\"data row7 col3\" >0.861762</td>\n                        <td id=\"T_ff451_row7_col4\" class=\"data row7 col4\" >1.015561</td>\n                        <td id=\"T_ff451_row7_col5\" class=\"data row7 col5\" >0.010000</td>\n                        <td id=\"T_ff451_row7_col6\" class=\"data row7 col6\" >0.574339</td>\n                        <td id=\"T_ff451_row7_col7\" class=\"data row7 col7\" >0.010000</td>\n                        <td id=\"T_ff451_row7_col8\" class=\"data row7 col8\" >0.910533</td>\n            </tr>\n    </tbody></table>"
     },
     "metadata": {},
     "output_type": "display_data"
    }
   ],
   "source": [
    "infuse_batting_table, _, _ = improve_team_batting_table(real_pies, 0.20)\n",
    "display(infuse_batting_table)\n",
    "display(set_heatmap(get_batting_stlats(improve_team_batting(real_pies, 0.20)), maxVal=1))\n"
   ]
  },
  {
   "cell_type": "markdown",
   "id": "6f9c735d",
   "metadata": {},
   "source": [
    "### S5: Fireproof Jacket\n",
    "\n",
    "**A random Player in your Team's Active Roster with an available Item slot will gain a Fireproof Jacket.**\n",
    "\n",
    "The Fireproof Jacket will protect a player from incineration. See below for players with open item slots."
   ]
  },
  {
   "cell_type": "code",
   "execution_count": 6,
   "id": "a5fe5a23",
   "metadata": {},
   "outputs": [
    {
     "data": {
      "text/plain": "Empty DataFrame\nColumns: []\nIndex: []",
      "text/html": "<div>\n<style scoped>\n    .dataframe tbody tr th:only-of-type {\n        vertical-align: middle;\n    }\n\n    .dataframe tbody tr th {\n        vertical-align: top;\n    }\n\n    .dataframe thead th {\n        text-align: right;\n    }\n</style>\n<table border=\"1\" class=\"dataframe\">\n  <thead>\n    <tr style=\"text-align: right;\">\n      <th></th>\n    </tr>\n  </thead>\n  <tbody>\n  </tbody>\n</table>\n</div>"
     },
     "execution_count": 6,
     "metadata": {},
     "output_type": "execute_result"
    }
   ],
   "source": [
    "itemable = has_item_slots(pies.lineup + pies.rotation)\n",
    "get_stars(itemable)"
   ]
  },
  {
   "cell_type": "markdown",
   "id": "4352e611",
   "metadata": {},
   "source": [
    "### S6: Lottery Pick\n",
    "\n",
    "**Steal the 14th Most Idolized Player in the League.**\n",
    "\n",
    "With correct idol organization this can be used to steal a good player. Previous iterations of this blessing swapped the\n",
    "worst player in a particular position."
   ]
  },
  {
   "cell_type": "markdown",
   "id": "5a005a1d",
   "metadata": {},
   "source": [
    "### S7: The Iffey Jr.\n",
    "\n",
    "**A random Player in your Team's Lineup with an available Item slot will gain a Protector Bat of Minimization.**\n",
    "\n",
    "The Protector Bat of Minimalism, like the previous Iffey Jr, will minimize a players stats but protect the team from\n",
    "incineration. See below for batters with open item slots."
   ]
  },
  {
   "cell_type": "code",
   "execution_count": 7,
   "outputs": [
    {
     "data": {
      "text/plain": "Empty DataFrame\nColumns: []\nIndex: []",
      "text/html": "<div>\n<style scoped>\n    .dataframe tbody tr th:only-of-type {\n        vertical-align: middle;\n    }\n\n    .dataframe tbody tr th {\n        vertical-align: top;\n    }\n\n    .dataframe thead th {\n        text-align: right;\n    }\n</style>\n<table border=\"1\" class=\"dataframe\">\n  <thead>\n    <tr style=\"text-align: right;\">\n      <th></th>\n    </tr>\n  </thead>\n  <tbody>\n  </tbody>\n</table>\n</div>"
     },
     "execution_count": 7,
     "metadata": {},
     "output_type": "execute_result"
    }
   ],
   "source": [
    "itemable = has_item_slots(pies.lineup)\n",
    "get_stars(itemable)"
   ],
   "metadata": {
    "collapsed": false,
    "pycharm": {
     "name": "#%%\n"
    }
   }
  },
  {
   "cell_type": "markdown",
   "id": "2e6f52d9",
   "metadata": {},
   "source": [
    "### S8: Blind Date\n",
    "\n",
    "**Steal the 21st Most Idolized Player in the League.**\n",
    "\n",
    "It is impossible to know who exactly the 21st Most Idolized Player is, but with correct idol organization it can be\n",
    "inferred. This can be used to steal a player. Previous iterations of this blessing swapped the worst player in a\n",
    "particular position.\n"
   ]
  },
  {
   "cell_type": "markdown",
   "id": "12a87d4e",
   "metadata": {},
   "source": [
    "### S9: Credit to the Team\n",
    "\n",
    "**Zero to hero. The worst player on your Team's Active Roster will earn 5x payouts for Idols Snacks.**\n",
    "\n",
    "See below for the team's current worst player."
   ]
  },
  {
   "cell_type": "code",
   "execution_count": 8,
   "id": "41461814",
   "metadata": {},
   "outputs": [
    {
     "data": {
      "text/plain": "             Combined  Batting  Pitching  Baserunning  Defense\nHaruta Byrd      10.5      3.6       2.7          2.4      1.7",
      "text/html": "<div>\n<style scoped>\n    .dataframe tbody tr th:only-of-type {\n        vertical-align: middle;\n    }\n\n    .dataframe tbody tr th {\n        vertical-align: top;\n    }\n\n    .dataframe thead th {\n        text-align: right;\n    }\n</style>\n<table border=\"1\" class=\"dataframe\">\n  <thead>\n    <tr style=\"text-align: right;\">\n      <th></th>\n      <th>Combined</th>\n      <th>Batting</th>\n      <th>Pitching</th>\n      <th>Baserunning</th>\n      <th>Defense</th>\n    </tr>\n  </thead>\n  <tbody>\n    <tr>\n      <th>Haruta Byrd</th>\n      <td>10.5</td>\n      <td>3.6</td>\n      <td>2.7</td>\n      <td>2.4</td>\n      <td>1.7</td>\n    </tr>\n  </tbody>\n</table>\n</div>"
     },
     "execution_count": 8,
     "metadata": {},
     "output_type": "execute_result"
    }
   ],
   "source": [
    "worst_pie = sort_overall(pies, 1)\n",
    "get_stars(worst_pie)"
   ]
  },
  {
   "cell_type": "markdown",
   "id": "d12f0479",
   "metadata": {},
   "source": [
    "### S10: Divisional Walk in the Park\n",
    "\n",
    "**Take a stroll. Your Division Walks on Ball 3 next Season.**\n",
    "\n",
    "This will give the team a Seasonal mod of Walk in the Park."
   ]
  },
  {
   "cell_type": "markdown",
   "id": "6f6086e5",
   "metadata": {},
   "source": [
    "### S11: XIII\n",
    "\n",
    "XIII previously awarded the Death Tarot to the Breath Mints. With the Tarot Reading cancelled, the effect of this\n",
    "blessing is unknown."
   ]
  },
  {
   "cell_type": "markdown",
   "id": "8671351a",
   "metadata": {},
   "source": [
    "### S12: Uncle Indemnity\n",
    "\n",
    "**Recruit the Hardboiled Uncle Plasma to your Team.**\n",
    "\n",
    "See below for Uncle Plasma's stats."
   ]
  },
  {
   "cell_type": "code",
   "execution_count": 9,
   "id": "7be6bf82",
   "metadata": {},
   "outputs": [
    {
     "data": {
      "text/plain": "              Combined  Batting  Pitching  Baserunning  Defense\nUncle Plasma      21.3      4.6       6.6          4.9      5.2",
      "text/html": "<div>\n<style scoped>\n    .dataframe tbody tr th:only-of-type {\n        vertical-align: middle;\n    }\n\n    .dataframe tbody tr th {\n        vertical-align: top;\n    }\n\n    .dataframe thead th {\n        text-align: right;\n    }\n</style>\n<table border=\"1\" class=\"dataframe\">\n  <thead>\n    <tr style=\"text-align: right;\">\n      <th></th>\n      <th>Combined</th>\n      <th>Batting</th>\n      <th>Pitching</th>\n      <th>Baserunning</th>\n      <th>Defense</th>\n    </tr>\n  </thead>\n  <tbody>\n    <tr>\n      <th>Uncle Plasma</th>\n      <td>21.3</td>\n      <td>4.6</td>\n      <td>6.6</td>\n      <td>4.9</td>\n      <td>5.2</td>\n    </tr>\n  </tbody>\n</table>\n</div>"
     },
     "metadata": {},
     "output_type": "display_data"
    },
    {
     "data": {
      "text/plain": "<pandas.io.formats.style.Styler at 0x1f49b19f9d0>",
      "text/html": "<style  type=\"text/css\" >\n#T_6dcc4_row0_col0,#T_6dcc4_row0_col1,#T_6dcc4_row0_col2,#T_6dcc4_row0_col3,#T_6dcc4_row0_col4,#T_6dcc4_row0_col5,#T_6dcc4_row1_col0,#T_6dcc4_row1_col1,#T_6dcc4_row1_col2,#T_6dcc4_row1_col3,#T_6dcc4_row1_col6,#T_6dcc4_row2_col2,#T_6dcc4_row2_col4{\n            background-color:  #006837;\n            color:  #f1f1f1;\n        }#T_6dcc4_row0_col6{\n            background-color:  #c7e77f;\n            color:  #000000;\n        }#T_6dcc4_row1_col4{\n            background-color:  #feca79;\n            color:  #000000;\n        }#T_6dcc4_row1_col5{\n            background-color:  #2da155;\n            color:  #000000;\n        }#T_6dcc4_row2_col0{\n            background-color:  #45ad5b;\n            color:  #000000;\n        }#T_6dcc4_row2_col1{\n            background-color:  #07753e;\n            color:  #f1f1f1;\n        }#T_6dcc4_row2_col3{\n            background-color:  #fed27f;\n            color:  #000000;\n        }#T_6dcc4_row2_col5{\n            background-color:  #fba05b;\n            color:  #000000;\n        }#T_6dcc4_row2_col6{\n            background-color:  #fee28f;\n            color:  #000000;\n        }</style><table id=\"T_6dcc4_\" ><thead>    <tr>        <th class=\"blank level0\" ></th>        <th class=\"col_heading level0 col0\" >Pitching Rating</th>        <th class=\"col_heading level0 col1\" >Unthwackability</th>        <th class=\"col_heading level0 col2\" >Ruthlessness</th>        <th class=\"col_heading level0 col3\" >Overpowerment</th>        <th class=\"col_heading level0 col4\" >Shakespearianism</th>        <th class=\"col_heading level0 col5\" >Coldness</th>        <th class=\"col_heading level0 col6\" >Suppression</th>    </tr></thead><tbody>\n                <tr>\n                        <th id=\"T_6dcc4_level0_row0\" class=\"row_heading level0 row0\" >Uncle Plasma</th>\n                        <td id=\"T_6dcc4_row0_col0\" class=\"data row0 col0\" >1.321891</td>\n                        <td id=\"T_6dcc4_row0_col1\" class=\"data row0 col1\" >1.123284</td>\n                        <td id=\"T_6dcc4_row0_col2\" class=\"data row0 col2\" >1.598478</td>\n                        <td id=\"T_6dcc4_row0_col3\" class=\"data row0 col3\" >1.094255</td>\n                        <td id=\"T_6dcc4_row0_col4\" class=\"data row0 col4\" >1.166441</td>\n                        <td id=\"T_6dcc4_row0_col5\" class=\"data row0 col5\" >1.192823</td>\n                        <td id=\"T_6dcc4_row0_col6\" class=\"data row0 col6\" >0.632836</td>\n            </tr>\n            <tr>\n                        <th id=\"T_6dcc4_level0_row1\" class=\"row_heading level0 row1\" >Tiana Takahashi</th>\n                        <td id=\"T_6dcc4_row1_col0\" class=\"data row1 col0\" >1.064998</td>\n                        <td id=\"T_6dcc4_row1_col1\" class=\"data row1 col1\" >1.142441</td>\n                        <td id=\"T_6dcc4_row1_col2\" class=\"data row1 col2\" >1.215111</td>\n                        <td id=\"T_6dcc4_row1_col3\" class=\"data row1 col3\" >1.182198</td>\n                        <td id=\"T_6dcc4_row1_col4\" class=\"data row1 col4\" >0.356126</td>\n                        <td id=\"T_6dcc4_row1_col5\" class=\"data row1 col5\" >0.872711</td>\n                        <td id=\"T_6dcc4_row1_col6\" class=\"data row1 col6\" >1.199716</td>\n            </tr>\n            <tr>\n                        <th id=\"T_6dcc4_level0_row2\" class=\"row_heading level0 row2\" >Lucy Tokkan</th>\n                        <td id=\"T_6dcc4_row2_col0\" class=\"data row2 col0\" >0.842490</td>\n                        <td id=\"T_6dcc4_row2_col1\" class=\"data row2 col1\" >0.972158</td>\n                        <td id=\"T_6dcc4_row2_col2\" class=\"data row2 col2\" >1.047708</td>\n                        <td id=\"T_6dcc4_row2_col3\" class=\"data row2 col3\" >0.372699</td>\n                        <td id=\"T_6dcc4_row2_col4\" class=\"data row2 col4\" >1.042174</td>\n                        <td id=\"T_6dcc4_row2_col5\" class=\"data row2 col5\" >0.278034</td>\n                        <td id=\"T_6dcc4_row2_col6\" class=\"data row2 col6\" >0.407808</td>\n            </tr>\n    </tbody></table>"
     },
     "execution_count": 9,
     "metadata": {},
     "output_type": "execute_result"
    }
   ],
   "source": [
    "uncle = Player.find_by_name(\"Uncle Plasma\")\n",
    "display(get_stars(uncle))\n",
    "set_heatmap(get_pitching_stlats([uncle] + pies.rotation), maxVal=1)"
   ]
  },
  {
   "cell_type": "markdown",
   "id": "9fa5f0ab",
   "metadata": {},
   "source": [
    "### S13: Hitting Flotation Bubble\n",
    "\n",
    "**Your entire Division's hitting is boosted by 4%.**\n",
    "\n",
    "See below for team and division improvement."
   ]
  },
  {
   "cell_type": "code",
   "execution_count": 10,
   "id": "e6a49eef",
   "metadata": {},
   "outputs": [
    {
     "data": {
      "text/plain": "                  old_batting_stars  new_batting_stars  \\\nJaxon Buckley              7.396067           7.559540   \nClove Mahle                4.895108           5.084442   \nPeanut Holloway            4.684752           4.865607   \nDoc Anice                  4.583795           4.761265   \nRuslan Greatness           4.887911           5.068898   \nEduardo Woodman            5.776077           5.959976   \nHaruta Byrd                3.621954           3.836655   \nLotus Mango                5.040851           5.217774   \n\n                  change_in_batting_stars  \nJaxon Buckley                    0.163473  \nClove Mahle                      0.189334  \nPeanut Holloway                  0.180855  \nDoc Anice                        0.177470  \nRuslan Greatness                 0.180988  \nEduardo Woodman                  0.183899  \nHaruta Byrd                      0.214701  \nLotus Mango                      0.176923  ",
      "text/html": "<div>\n<style scoped>\n    .dataframe tbody tr th:only-of-type {\n        vertical-align: middle;\n    }\n\n    .dataframe tbody tr th {\n        vertical-align: top;\n    }\n\n    .dataframe thead th {\n        text-align: right;\n    }\n</style>\n<table border=\"1\" class=\"dataframe\">\n  <thead>\n    <tr style=\"text-align: right;\">\n      <th></th>\n      <th>old_batting_stars</th>\n      <th>new_batting_stars</th>\n      <th>change_in_batting_stars</th>\n    </tr>\n  </thead>\n  <tbody>\n    <tr>\n      <th>Jaxon Buckley</th>\n      <td>7.396067</td>\n      <td>7.559540</td>\n      <td>0.163473</td>\n    </tr>\n    <tr>\n      <th>Clove Mahle</th>\n      <td>4.895108</td>\n      <td>5.084442</td>\n      <td>0.189334</td>\n    </tr>\n    <tr>\n      <th>Peanut Holloway</th>\n      <td>4.684752</td>\n      <td>4.865607</td>\n      <td>0.180855</td>\n    </tr>\n    <tr>\n      <th>Doc Anice</th>\n      <td>4.583795</td>\n      <td>4.761265</td>\n      <td>0.177470</td>\n    </tr>\n    <tr>\n      <th>Ruslan Greatness</th>\n      <td>4.887911</td>\n      <td>5.068898</td>\n      <td>0.180988</td>\n    </tr>\n    <tr>\n      <th>Eduardo Woodman</th>\n      <td>5.776077</td>\n      <td>5.959976</td>\n      <td>0.183899</td>\n    </tr>\n    <tr>\n      <th>Haruta Byrd</th>\n      <td>3.621954</td>\n      <td>3.836655</td>\n      <td>0.214701</td>\n    </tr>\n    <tr>\n      <th>Lotus Mango</th>\n      <td>5.040851</td>\n      <td>5.217774</td>\n      <td>0.176923</td>\n    </tr>\n  </tbody>\n</table>\n</div>"
     },
     "execution_count": 10,
     "metadata": {},
     "output_type": "execute_result"
    }
   ],
   "source": [
    "table, _, _ = improve_team_batting_table(pies, 0.04)\n",
    "pandas.DataFrame(table)"
   ]
  },
  {
   "cell_type": "code",
   "execution_count": 11,
   "outputs": [
    {
     "data": {
      "text/plain": "                         Millennials    Steaks    Lovers      Pies   Garages  \\\nchange_in_batting_stars     0.190383  0.184568 -0.286675  0.183455  0.197783   \nnew_batting_stars           4.907811  5.282578  4.621827  5.294270  4.785607   \nold_batting_stars           4.717428  5.098011  4.908502  5.110814  4.587824   \n\n                         Mechanics  \nchange_in_batting_stars   0.247043  \nnew_batting_stars         5.003602  \nold_batting_stars         4.756559  ",
      "text/html": "<div>\n<style scoped>\n    .dataframe tbody tr th:only-of-type {\n        vertical-align: middle;\n    }\n\n    .dataframe tbody tr th {\n        vertical-align: top;\n    }\n\n    .dataframe thead th {\n        text-align: right;\n    }\n</style>\n<table border=\"1\" class=\"dataframe\">\n  <thead>\n    <tr style=\"text-align: right;\">\n      <th></th>\n      <th>Millennials</th>\n      <th>Steaks</th>\n      <th>Lovers</th>\n      <th>Pies</th>\n      <th>Garages</th>\n      <th>Mechanics</th>\n    </tr>\n  </thead>\n  <tbody>\n    <tr>\n      <th>change_in_batting_stars</th>\n      <td>0.190383</td>\n      <td>0.184568</td>\n      <td>-0.286675</td>\n      <td>0.183455</td>\n      <td>0.197783</td>\n      <td>0.247043</td>\n    </tr>\n    <tr>\n      <th>new_batting_stars</th>\n      <td>4.907811</td>\n      <td>5.282578</td>\n      <td>4.621827</td>\n      <td>5.294270</td>\n      <td>4.785607</td>\n      <td>5.003602</td>\n    </tr>\n    <tr>\n      <th>old_batting_stars</th>\n      <td>4.717428</td>\n      <td>5.098011</td>\n      <td>4.908502</td>\n      <td>5.110814</td>\n      <td>4.587824</td>\n      <td>4.756559</td>\n    </tr>\n  </tbody>\n</table>\n</div>"
     },
     "execution_count": 11,
     "metadata": {},
     "output_type": "execute_result"
    }
   ],
   "source": [
    "mild_high = Division.load_by_name(\"mild high\")\n",
    "pitch_bubble = pandas.DataFrame()\n",
    "for team in mild_high.teams.values():\n",
    "    _, _, average = improve_team_batting_table(team, 0.04)\n",
    "    average = average.rename(team.nickname)\n",
    "    pitch_bubble = pitch_bubble.append(average)\n",
    "pitch_bubble.transpose()\n"
   ],
   "metadata": {
    "collapsed": false,
    "pycharm": {
     "name": "#%%\n"
    }
   }
  },
  {
   "cell_type": "markdown",
   "id": "d4af8b87",
   "metadata": {},
   "source": [
    "### S14: Targeted Evolution\n",
    "\n",
    "**A random Player in your Team's Lineup and a random Player in your Team's Rotation will Advance.**\n",
    "\n",
    "An Advanced player will gain one evolution level, increasing their minimum star level by one for all stats and raising\n",
    "their stars to the minimum if they are lower than that. It also allows players to hold an additional item.\n"
   ]
  },
  {
   "cell_type": "markdown",
   "id": "b84b67f3",
   "metadata": {},
   "source": [
    "### S15: Afterparty\n",
    "\n",
    "**Whenever your Team is losing during the First Week of Next Season, they will have a chance of gaining Party Time Boosts.**\n",
    "\n",
    "This would provide at most 9 days of potential party-time benefits."
   ]
  },
  {
   "cell_type": "markdown",
   "id": "b2f51e1a",
   "metadata": {},
   "source": [
    "### S16: Skate Board\n",
    "\n",
    "**A random Player in your Team's Lineup gets a Skate Board.**\n",
    "\n",
    "The Skateboard item (other than being radical 🛹) provides the Pro Skater mod which make it impossible for the wielder\n",
    "to bail on the Grind Rail."
   ]
  },
  {
   "cell_type": "markdown",
   "id": "f8a60207",
   "metadata": {},
   "source": [
    "### S17: Set the Table\n",
    "\n",
    "**Move the Best Overall Hitter in your Team's Lineup or Rotation to the #3 spot in your Team's Lineup.**\n",
    "\n",
    "See below for the new lineup order."
   ]
  },
  {
   "cell_type": "code",
   "execution_count": 12,
   "outputs": [
    {
     "data": {
      "text/plain": "                  Combined  Batting  Pitching  Baserunning  Defense\nClove Mahle           15.9      4.9       3.3          3.9      3.8\nPeanut Holloway       12.8      4.7       1.7          2.5      3.8\nJaxon Buckley         20.6      7.4       4.7          4.3      4.1\nDoc Anice             16.8      4.6       4.0          3.7      4.6\nRuslan Greatness      19.6      4.9       4.3          5.2      5.2\nEduardo Woodman       14.4      5.8       1.9          3.8      2.9\nHaruta Byrd           10.5      3.6       2.7          2.4      1.7\nLotus Mango           15.2      5.0       3.5          3.3      3.4",
      "text/html": "<div>\n<style scoped>\n    .dataframe tbody tr th:only-of-type {\n        vertical-align: middle;\n    }\n\n    .dataframe tbody tr th {\n        vertical-align: top;\n    }\n\n    .dataframe thead th {\n        text-align: right;\n    }\n</style>\n<table border=\"1\" class=\"dataframe\">\n  <thead>\n    <tr style=\"text-align: right;\">\n      <th></th>\n      <th>Combined</th>\n      <th>Batting</th>\n      <th>Pitching</th>\n      <th>Baserunning</th>\n      <th>Defense</th>\n    </tr>\n  </thead>\n  <tbody>\n    <tr>\n      <th>Clove Mahle</th>\n      <td>15.9</td>\n      <td>4.9</td>\n      <td>3.3</td>\n      <td>3.9</td>\n      <td>3.8</td>\n    </tr>\n    <tr>\n      <th>Peanut Holloway</th>\n      <td>12.8</td>\n      <td>4.7</td>\n      <td>1.7</td>\n      <td>2.5</td>\n      <td>3.8</td>\n    </tr>\n    <tr>\n      <th>Jaxon Buckley</th>\n      <td>20.6</td>\n      <td>7.4</td>\n      <td>4.7</td>\n      <td>4.3</td>\n      <td>4.1</td>\n    </tr>\n    <tr>\n      <th>Doc Anice</th>\n      <td>16.8</td>\n      <td>4.6</td>\n      <td>4.0</td>\n      <td>3.7</td>\n      <td>4.6</td>\n    </tr>\n    <tr>\n      <th>Ruslan Greatness</th>\n      <td>19.6</td>\n      <td>4.9</td>\n      <td>4.3</td>\n      <td>5.2</td>\n      <td>5.2</td>\n    </tr>\n    <tr>\n      <th>Eduardo Woodman</th>\n      <td>14.4</td>\n      <td>5.8</td>\n      <td>1.9</td>\n      <td>3.8</td>\n      <td>2.9</td>\n    </tr>\n    <tr>\n      <th>Haruta Byrd</th>\n      <td>10.5</td>\n      <td>3.6</td>\n      <td>2.7</td>\n      <td>2.4</td>\n      <td>1.7</td>\n    </tr>\n    <tr>\n      <th>Lotus Mango</th>\n      <td>15.2</td>\n      <td>5.0</td>\n      <td>3.5</td>\n      <td>3.3</td>\n      <td>3.4</td>\n    </tr>\n  </tbody>\n</table>\n</div>"
     },
     "execution_count": 12,
     "metadata": {},
     "output_type": "execute_result"
    }
   ],
   "source": [
    "new_lineup = pies.lineup.copy()\n",
    "new_lineup.sort(key=lambda x: x.batting_rating, reverse=True)\n",
    "best_divinity = new_lineup[0]\n",
    "\n",
    "new_lineup = pies.lineup.copy()\n",
    "new_lineup.insert(2, new_lineup.pop(new_lineup.index(best_divinity)))\n",
    "get_stars(new_lineup)"
   ],
   "metadata": {
    "collapsed": false,
    "pycharm": {
     "name": "#%%\n"
    }
   }
  },
  {
   "cell_type": "markdown",
   "id": "9279a2cf",
   "metadata": {},
   "source": [
    "### S18: Cape of Containment\n",
    "\n",
    "**A random Player on your Team's Active Roster will receive a Cape of Containment.**\n",
    "\n",
    "The Cape of Containment is an item that has the Containment mod, which prevents instability from spreading to other\n",
    "teams."
   ]
  },
  {
   "cell_type": "markdown",
   "id": "7dc052ab",
   "metadata": {},
   "source": [
    "### S19: Underhanded\n",
    "\n",
    "**Make contact, I dare you. Make a random Player in your Team's Rotation Underhanded. Home Runs will be Unruns against them.**\n",
    "\n",
    "This gives a random pitcher Permanent Underhanded, much like Michelle Sportsman and the Underhanded Items.\n",
    "See below for list of pitchers."
   ]
  },
  {
   "cell_type": "code",
   "execution_count": 13,
   "outputs": [
    {
     "data": {
      "text/plain": "<pandas.io.formats.style.Styler at 0x1f49b1be190>",
      "text/html": "<style  type=\"text/css\" >\n#T_1e9fc_row0_col0,#T_1e9fc_row0_col1,#T_1e9fc_row0_col2,#T_1e9fc_row0_col3,#T_1e9fc_row0_col6,#T_1e9fc_row1_col2,#T_1e9fc_row1_col4{\n            background-color:  #006837;\n            color:  #f1f1f1;\n        }#T_1e9fc_row0_col4{\n            background-color:  #feca79;\n            color:  #000000;\n        }#T_1e9fc_row0_col5{\n            background-color:  #2da155;\n            color:  #000000;\n        }#T_1e9fc_row1_col0{\n            background-color:  #45ad5b;\n            color:  #000000;\n        }#T_1e9fc_row1_col1{\n            background-color:  #07753e;\n            color:  #f1f1f1;\n        }#T_1e9fc_row1_col3{\n            background-color:  #fed27f;\n            color:  #000000;\n        }#T_1e9fc_row1_col5{\n            background-color:  #fba05b;\n            color:  #000000;\n        }#T_1e9fc_row1_col6{\n            background-color:  #fee28f;\n            color:  #000000;\n        }</style><table id=\"T_1e9fc_\" ><thead>    <tr>        <th class=\"blank level0\" ></th>        <th class=\"col_heading level0 col0\" >Pitching Rating</th>        <th class=\"col_heading level0 col1\" >Unthwackability</th>        <th class=\"col_heading level0 col2\" >Ruthlessness</th>        <th class=\"col_heading level0 col3\" >Overpowerment</th>        <th class=\"col_heading level0 col4\" >Shakespearianism</th>        <th class=\"col_heading level0 col5\" >Coldness</th>        <th class=\"col_heading level0 col6\" >Suppression</th>    </tr></thead><tbody>\n                <tr>\n                        <th id=\"T_1e9fc_level0_row0\" class=\"row_heading level0 row0\" >Tiana Takahashi</th>\n                        <td id=\"T_1e9fc_row0_col0\" class=\"data row0 col0\" >1.064998</td>\n                        <td id=\"T_1e9fc_row0_col1\" class=\"data row0 col1\" >1.142441</td>\n                        <td id=\"T_1e9fc_row0_col2\" class=\"data row0 col2\" >1.215111</td>\n                        <td id=\"T_1e9fc_row0_col3\" class=\"data row0 col3\" >1.182198</td>\n                        <td id=\"T_1e9fc_row0_col4\" class=\"data row0 col4\" >0.356126</td>\n                        <td id=\"T_1e9fc_row0_col5\" class=\"data row0 col5\" >0.872711</td>\n                        <td id=\"T_1e9fc_row0_col6\" class=\"data row0 col6\" >1.199716</td>\n            </tr>\n            <tr>\n                        <th id=\"T_1e9fc_level0_row1\" class=\"row_heading level0 row1\" >Lucy Tokkan</th>\n                        <td id=\"T_1e9fc_row1_col0\" class=\"data row1 col0\" >0.842490</td>\n                        <td id=\"T_1e9fc_row1_col1\" class=\"data row1 col1\" >0.972158</td>\n                        <td id=\"T_1e9fc_row1_col2\" class=\"data row1 col2\" >1.047708</td>\n                        <td id=\"T_1e9fc_row1_col3\" class=\"data row1 col3\" >0.372699</td>\n                        <td id=\"T_1e9fc_row1_col4\" class=\"data row1 col4\" >1.042174</td>\n                        <td id=\"T_1e9fc_row1_col5\" class=\"data row1 col5\" >0.278034</td>\n                        <td id=\"T_1e9fc_row1_col6\" class=\"data row1 col6\" >0.407808</td>\n            </tr>\n    </tbody></table>"
     },
     "execution_count": 13,
     "metadata": {},
     "output_type": "execute_result"
    }
   ],
   "source": [
    "set_heatmap(get_pitching_stlats(pies.rotation), maxVal=1)"
   ],
   "metadata": {
    "collapsed": false,
    "pycharm": {
     "name": "#%%\n"
    }
   }
  },
  {
   "cell_type": "markdown",
   "id": "857541a5",
   "metadata": {},
   "source": [
    "### S20: Heavy-Handed\n",
    "\n",
    "**Your Team becomes Heavy-Handed, making all Items held by Players on the Team positively eDense.**\n",
    "\n",
    "See below for change in eDensity for this change"
   ]
  },
  {
   "cell_type": "code",
   "execution_count": 14,
   "outputs": [
    {
     "name": "stdout",
     "output_type": "stream",
     "text": [
      "Will add 168 eDensity.\n",
      "Change in Team eDensity: 1315.5134997692999 to 1483.5134997692999\n"
     ]
    }
   ],
   "source": [
    "player_items = []\n",
    "for p in pies.lineup + pies.rotation + pies.shadows:\n",
    "    player_items.extend(p.items)\n",
    "\n",
    "extra_dense = 0\n",
    "for i in player_items:\n",
    "    attr_dense = 2 * len(i.adjustments)\n",
    "    raw_dense = 0\n",
    "    for adj in i.adjustments:\n",
    "        if adj[\"type\"] == 4:\n",
    "            raw_dense += adj[\"value\"]\n",
    "    extra_dense += attr_dense + raw_dense\n",
    "\n",
    "print(f\"Will add {extra_dense} eDensity.\")\n",
    "print(f\"Change in Team eDensity: {pies.e_density} to {pies.e_density + extra_dense}\")"
   ],
   "metadata": {
    "collapsed": false,
    "pycharm": {
     "name": "#%%\n"
    }
   }
  },
  {
   "cell_type": "markdown",
   "id": "49b85ec3",
   "metadata": {},
   "source": [
    "### S21: Big Head Mode\n",
    "\n",
    "**Magnify and Ego Boost an Ego-less Player on your Team's Active Roster.**\n",
    "\n",
    "Magnify will multiply the runs scored/allowed, Ego Boost will cause them to not get swept away in flooding, but\n",
    "increases their eDensity and brings them closer to being Vaulted. See below for list of players this could hit."
   ]
  },
  {
   "cell_type": "code",
   "execution_count": 15,
   "id": "dec9f676",
   "metadata": {},
   "outputs": [
    {
     "data": {
      "text/plain": "                  Combined  Batting  Pitching  Baserunning  Defense\nClove Mahle           15.9      4.9       3.3          3.9      3.8\nPeanut Holloway       12.8      4.7       1.7          2.5      3.8\nDoc Anice             16.8      4.6       4.0          3.7      4.6\nRuslan Greatness      19.6      4.9       4.3          5.2      5.2\nEduardo Woodman       14.4      5.8       1.9          3.8      2.9\nHaruta Byrd           10.5      3.6       2.7          2.4      1.7\nLotus Mango           15.2      5.0       3.5          3.3      3.4\nTiana Takahashi       16.6      2.7       5.3          4.0      4.6\nLucy Tokkan           11.8      2.7       4.2          1.6      3.3",
      "text/html": "<div>\n<style scoped>\n    .dataframe tbody tr th:only-of-type {\n        vertical-align: middle;\n    }\n\n    .dataframe tbody tr th {\n        vertical-align: top;\n    }\n\n    .dataframe thead th {\n        text-align: right;\n    }\n</style>\n<table border=\"1\" class=\"dataframe\">\n  <thead>\n    <tr style=\"text-align: right;\">\n      <th></th>\n      <th>Combined</th>\n      <th>Batting</th>\n      <th>Pitching</th>\n      <th>Baserunning</th>\n      <th>Defense</th>\n    </tr>\n  </thead>\n  <tbody>\n    <tr>\n      <th>Clove Mahle</th>\n      <td>15.9</td>\n      <td>4.9</td>\n      <td>3.3</td>\n      <td>3.9</td>\n      <td>3.8</td>\n    </tr>\n    <tr>\n      <th>Peanut Holloway</th>\n      <td>12.8</td>\n      <td>4.7</td>\n      <td>1.7</td>\n      <td>2.5</td>\n      <td>3.8</td>\n    </tr>\n    <tr>\n      <th>Doc Anice</th>\n      <td>16.8</td>\n      <td>4.6</td>\n      <td>4.0</td>\n      <td>3.7</td>\n      <td>4.6</td>\n    </tr>\n    <tr>\n      <th>Ruslan Greatness</th>\n      <td>19.6</td>\n      <td>4.9</td>\n      <td>4.3</td>\n      <td>5.2</td>\n      <td>5.2</td>\n    </tr>\n    <tr>\n      <th>Eduardo Woodman</th>\n      <td>14.4</td>\n      <td>5.8</td>\n      <td>1.9</td>\n      <td>3.8</td>\n      <td>2.9</td>\n    </tr>\n    <tr>\n      <th>Haruta Byrd</th>\n      <td>10.5</td>\n      <td>3.6</td>\n      <td>2.7</td>\n      <td>2.4</td>\n      <td>1.7</td>\n    </tr>\n    <tr>\n      <th>Lotus Mango</th>\n      <td>15.2</td>\n      <td>5.0</td>\n      <td>3.5</td>\n      <td>3.3</td>\n      <td>3.4</td>\n    </tr>\n    <tr>\n      <th>Tiana Takahashi</th>\n      <td>16.6</td>\n      <td>2.7</td>\n      <td>5.3</td>\n      <td>4.0</td>\n      <td>4.6</td>\n    </tr>\n    <tr>\n      <th>Lucy Tokkan</th>\n      <td>11.8</td>\n      <td>2.7</td>\n      <td>4.2</td>\n      <td>1.6</td>\n      <td>3.3</td>\n    </tr>\n  </tbody>\n</table>\n</div>"
     },
     "execution_count": 15,
     "metadata": {},
     "output_type": "execute_result"
    }
   ],
   "source": [
    "players = pies.lineup + pies.rotation\n",
    "ego = has_mods(players, [\"EGO1\", \"EGO2\", \"EGO3\", \"EGO4\"])\n",
    "get_stars([x for x in players if x not in ego])"
   ]
  },
  {
   "cell_type": "markdown",
   "id": "706d4521",
   "metadata": {},
   "source": [
    "### S22: Gachapon\n",
    "\n",
    "**Recruit one random Player from each other Team's Shadows to your Team's Shadows.**\n",
    "\n",
    "See below for average stats for each team's shadows."
   ]
  },
  {
   "cell_type": "code",
   "execution_count": 16,
   "id": "59983bd0",
   "metadata": {},
   "outputs": [],
   "source": [
    "league = League.load()\n",
    "all_teams = list(league.teams.values())\n",
    "averages = []\n",
    "for team in all_teams:\n",
    "    fake_player = {\"hittingRating\": mean([x.hitting_rating for x in team.shadows]),\n",
    "                   \"pitchingRating\": mean([x.pitching_rating for x in team.shadows]),\n",
    "                   \"baserunningRating\": mean([x.baserunning_rating for x in team.shadows]),\n",
    "                   \"defenseRating\": mean([x.defense_rating for x in team.shadows]),\n",
    "                   \"name\": team.nickname,\n",
    "                   \"id\": team.id}\n",
    "    averages.append(Player(fake_player))"
   ]
  },
  {
   "cell_type": "markdown",
   "id": "614475ce",
   "metadata": {},
   "source": [
    "### S23: Vault Swap\n",
    "\n",
    "**Swap a random Player on your Team's Active Roster with a random Vault Legend.**\n",
    "\n",
    "See below for a list of Vaulted Players."
   ]
  },
  {
   "cell_type": "code",
   "execution_count": 17,
   "id": "5692fccb",
   "metadata": {},
   "outputs": [
    {
     "data": {
      "text/plain": "                  Combined  Batting  Pitching  Baserunning  Defense\nParker MacMillan      11.9      5.9       1.8          2.3      1.8\nYork Silk              8.7      4.3       1.1          1.1      2.2\nPitching Machine      20.8      4.8       7.1          4.3      4.6\nGoodwin Morin         24.2      5.6       5.1          7.3      6.3\nNew Megan Ito         17.6      2.7       6.9          4.4      3.6\nAldon Cashmoney       16.8      5.0       3.3          5.8      2.8\nJames Mora            17.7      4.7       4.4          3.8      4.9\nWyatt Glover          18.3      4.5       4.3          5.3      4.3\nCote Loveless         12.1      4.5       0.9          3.6      3.1\nChorby Soul            0.1      0.0       0.0          0.0      0.0\nUncle Plasma          21.3      4.6       6.6          4.9      5.2\nLiquid Friend         21.5      6.8       4.2          5.2      5.3\nFletcher Berger       10.0      5.3       1.3          1.4      1.9\nClare Ballard         13.8      3.1       4.9          1.6      4.1\nNagomi Mcdaniel       22.9      4.9       4.3          7.2      6.5\nValentine Games       20.1      6.6       5.1          5.6      2.9",
      "text/html": "<div>\n<style scoped>\n    .dataframe tbody tr th:only-of-type {\n        vertical-align: middle;\n    }\n\n    .dataframe tbody tr th {\n        vertical-align: top;\n    }\n\n    .dataframe thead th {\n        text-align: right;\n    }\n</style>\n<table border=\"1\" class=\"dataframe\">\n  <thead>\n    <tr style=\"text-align: right;\">\n      <th></th>\n      <th>Combined</th>\n      <th>Batting</th>\n      <th>Pitching</th>\n      <th>Baserunning</th>\n      <th>Defense</th>\n    </tr>\n  </thead>\n  <tbody>\n    <tr>\n      <th>Parker MacMillan</th>\n      <td>11.9</td>\n      <td>5.9</td>\n      <td>1.8</td>\n      <td>2.3</td>\n      <td>1.8</td>\n    </tr>\n    <tr>\n      <th>York Silk</th>\n      <td>8.7</td>\n      <td>4.3</td>\n      <td>1.1</td>\n      <td>1.1</td>\n      <td>2.2</td>\n    </tr>\n    <tr>\n      <th>Pitching Machine</th>\n      <td>20.8</td>\n      <td>4.8</td>\n      <td>7.1</td>\n      <td>4.3</td>\n      <td>4.6</td>\n    </tr>\n    <tr>\n      <th>Goodwin Morin</th>\n      <td>24.2</td>\n      <td>5.6</td>\n      <td>5.1</td>\n      <td>7.3</td>\n      <td>6.3</td>\n    </tr>\n    <tr>\n      <th>New Megan Ito</th>\n      <td>17.6</td>\n      <td>2.7</td>\n      <td>6.9</td>\n      <td>4.4</td>\n      <td>3.6</td>\n    </tr>\n    <tr>\n      <th>Aldon Cashmoney</th>\n      <td>16.8</td>\n      <td>5.0</td>\n      <td>3.3</td>\n      <td>5.8</td>\n      <td>2.8</td>\n    </tr>\n    <tr>\n      <th>James Mora</th>\n      <td>17.7</td>\n      <td>4.7</td>\n      <td>4.4</td>\n      <td>3.8</td>\n      <td>4.9</td>\n    </tr>\n    <tr>\n      <th>Wyatt Glover</th>\n      <td>18.3</td>\n      <td>4.5</td>\n      <td>4.3</td>\n      <td>5.3</td>\n      <td>4.3</td>\n    </tr>\n    <tr>\n      <th>Cote Loveless</th>\n      <td>12.1</td>\n      <td>4.5</td>\n      <td>0.9</td>\n      <td>3.6</td>\n      <td>3.1</td>\n    </tr>\n    <tr>\n      <th>Chorby Soul</th>\n      <td>0.1</td>\n      <td>0.0</td>\n      <td>0.0</td>\n      <td>0.0</td>\n      <td>0.0</td>\n    </tr>\n    <tr>\n      <th>Uncle Plasma</th>\n      <td>21.3</td>\n      <td>4.6</td>\n      <td>6.6</td>\n      <td>4.9</td>\n      <td>5.2</td>\n    </tr>\n    <tr>\n      <th>Liquid Friend</th>\n      <td>21.5</td>\n      <td>6.8</td>\n      <td>4.2</td>\n      <td>5.2</td>\n      <td>5.3</td>\n    </tr>\n    <tr>\n      <th>Fletcher Berger</th>\n      <td>10.0</td>\n      <td>5.3</td>\n      <td>1.3</td>\n      <td>1.4</td>\n      <td>1.9</td>\n    </tr>\n    <tr>\n      <th>Clare Ballard</th>\n      <td>13.8</td>\n      <td>3.1</td>\n      <td>4.9</td>\n      <td>1.6</td>\n      <td>4.1</td>\n    </tr>\n    <tr>\n      <th>Nagomi Mcdaniel</th>\n      <td>22.9</td>\n      <td>4.9</td>\n      <td>4.3</td>\n      <td>7.2</td>\n      <td>6.5</td>\n    </tr>\n    <tr>\n      <th>Valentine Games</th>\n      <td>20.1</td>\n      <td>6.6</td>\n      <td>5.1</td>\n      <td>5.6</td>\n      <td>2.9</td>\n    </tr>\n  </tbody>\n</table>\n</div>"
     },
     "execution_count": 17,
     "metadata": {},
     "output_type": "execute_result"
    }
   ],
   "source": [
    "#TODO: put this in Mike\n",
    "from blaseball_mike.database import BASE_URL\n",
    "vault_ids = requests.get(f\"{BASE_URL}/vault\").json()\n",
    "vaulters = Player.load(*vault_ids[\"legendaryPlayers\"])\n",
    "get_stars(vaulters)"
   ]
  },
  {
   "cell_type": "markdown",
   "id": "d0f4a8e9",
   "metadata": {},
   "source": [
    "### S24: Enhance\n",
    "\n",
    "**Magnify your Team.**\n",
    "\n",
    "Magnify will multiply the runs scored/allowed for every player on the team. For batters this is generally good, for\n",
    "pitchers this is generally bad.\n"
   ]
  },
  {
   "cell_type": "markdown",
   "id": "8f93563a",
   "metadata": {
    "pycharm": {
     "name": "#%% md\n"
    }
   },
   "source": [
    "---\n",
    "## Appendix\n",
    "* [Description of Attributes](https://www.blaseball.wiki/w/Player_Attributes)\n",
    "* [Stlat Viewer](https://blaseballplayers.netlify.app/team/PHIL)\n",
    "* [Historical Player Graphs](http://yoori.space/hloroscopes/)"
   ]
  }
 ],
 "metadata": {
  "kernelspec": {
   "name": "python3",
   "language": "python",
   "display_name": "Python 3"
  }
 },
 "nbformat": 4,
 "nbformat_minor": 5
}