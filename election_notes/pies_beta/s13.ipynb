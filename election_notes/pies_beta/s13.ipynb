{
 "cells": [
  {
   "cell_type": "markdown",
   "metadata": {},
   "source": [
    "# Season 13 Election Notes\n",
    "\n",
    ">**FORBIDDEN KNOWLEDGE WARNING**\n",
    ">\n",
    ">This document contains some information that is not currently present on the main site and may be considered spoilers.\n",
    ">Continue at your own discretion. Some information in this document cannot be shared on the Discord without spoiler tags."
   ]
  },
  {
   "cell_type": "code",
   "execution_count": 2,
   "metadata": {
    "pycharm": {
     "name": "#%%\n"
    }
   },
   "outputs": [],
   "source": [
    "%matplotlib inline\n",
    "from blaseball_mike.models import *\n",
    "import plotly.express as plot\n",
    "import plotly.io as _pio\n",
    "import plotly.subplots as subplot\n",
    "\n",
    "import os\n",
    "import sys\n",
    "pdir = os.path.abspath(os.path.join(os.path.dirname(''), os.path.pardir))\n",
    "sys.path.append(pdir)\n",
    "from display import *\n",
    "from blessings import *\n",
    "sys.path.remove(pdir)\n",
    "\n",
    "_pio.renderers.default = \"notebook_connected\"\n",
    "\n",
    "pies = Team.load_by_name(\"Philly Pies\")"
   ]
  },
  {
   "cell_type": "code",
   "execution_count": 3,
   "outputs": [
    {
     "name": "stdout",
     "output_type": "stream",
     "text": [
      "Last Updated Season 13, Day 77\n"
     ]
    }
   ],
   "source": [
    "sim = SimulationData.load()\n",
    "print(f\"Last Updated Season {sim.season}, Day {sim.day}\")"
   ],
   "metadata": {
    "collapsed": false,
    "pycharm": {
     "name": "#%%\n"
    }
   }
  },
  {
   "cell_type": "markdown",
   "metadata": {},
   "source": [
    "---\n",
    "## Decrees\n",
    "\n",
    "Decrees are chosen by majority votes across all teams. `1` decree will pass this season."
   ]
  },
  {
   "cell_type": "markdown",
   "metadata": {},
   "source": [
    "### Bird Rights\n",
    "**Allows Division Winners to Hatch a Player from the Field of Eggs with a chosen name from the Filtered Pool.**\n",
    "\n",
    "This should modify the existing Playoff Birth, which gives teams that make the playoffs a new player in their shadows,\n",
    "by letting the top team in each Division choose their new player's name. This is entirely cosmetic."
   ]
  },
  {
   "cell_type": "markdown",
   "metadata": {},
   "source": [
    "### Force Fields\n",
    "**A Player on each Team is placed in the Force Field, protecting them from Steals and Swaps. Use a Will to move the\n",
    "Field to another Player.**\n",
    "\n",
    "Could be used to prevent valuable players from being stolen."
   ]
  },
  {
   "cell_type": "markdown",
   "metadata": {},
   "source": [
    "### Free Wills\n",
    "**Teams that finish in the Bottom 4 of the League will receive an extra Will in that Season's Election.**\n",
    "\n",
    "Beneficial to lower-performance teams, as it will help them catch up with additional boosts."
   ]
  },
  {
   "cell_type": "markdown",
   "metadata": {},
   "source": [
    "___\n",
    "## Wills\n",
    "\n",
    "Will are selected for each team by raffle. Each team will draw `2` random wills, where wills with more votes are more\n",
    "likely to be selected."
   ]
  },
  {
   "cell_type": "markdown",
   "metadata": {},
   "source": [
    "### Plunder\n",
    "**Steal a Player from the Idols board. Send a random Player from your Team back.**\n",
    "\n",
    "Due to the random nature of the target on our team, this tests the best case (swapping the Best Player on the Idol Board\n",
    "for a position with our worst player in that position) and the worst case (swaping the Best Player on the Idol Board for\n",
    "a position with our best player in that position).\n",
    "\n",
    "**Best Case Swap:**"
   ]
  },
  {
   "cell_type": "code",
   "execution_count": 4,
   "metadata": {
    "pycharm": {
     "name": "#%%\n"
    }
   },
   "outputs": [
    {
     "name": "stdout",
     "output_type": "stream",
     "text": [
      "Batting: Swap Nagomi Mcdaniel for Yusef Puddles\n"
     ]
    },
    {
     "data": {
      "text/plain": "                         Pies\nbatting_change      +11.0063%\npitching_change      +0.0000%\nbaserunning_change   +7.6644%\ndefense_change       +2.5817%",
      "text/html": "<div>\n<style scoped>\n    .dataframe tbody tr th:only-of-type {\n        vertical-align: middle;\n    }\n\n    .dataframe tbody tr th {\n        vertical-align: top;\n    }\n\n    .dataframe thead th {\n        text-align: right;\n    }\n</style>\n<table border=\"1\" class=\"dataframe\">\n  <thead>\n    <tr style=\"text-align: right;\">\n      <th></th>\n      <th>Pies</th>\n    </tr>\n  </thead>\n  <tbody>\n    <tr>\n      <th>batting_change</th>\n      <td>+11.0063%</td>\n    </tr>\n    <tr>\n      <th>pitching_change</th>\n      <td>+0.0000%</td>\n    </tr>\n    <tr>\n      <th>baserunning_change</th>\n      <td>+7.6644%</td>\n    </tr>\n    <tr>\n      <th>defense_change</th>\n      <td>+2.5817%</td>\n    </tr>\n  </tbody>\n</table>\n</div>"
     },
     "execution_count": 4,
     "metadata": {},
     "output_type": "execute_result"
    }
   ],
   "source": [
    "idols = [x.player for x in Idol.load().values()]\n",
    "\n",
    "idols.sort(key=lambda x: x.batting_rating, reverse=True)\n",
    "best_batting_idol = idols[0]\n",
    "idols.sort(key=lambda x: x.pitching_rating, reverse=True)\n",
    "best_pitching_idol = idols[0]\n",
    "\n",
    "\n",
    "worst_batter = sort_lineup(pies, 1)[0]\n",
    "print(f\"Batting: Swap {best_batting_idol.name} for {worst_batter.name}\")\n",
    "\n",
    "pandas.DataFrame(replace_player(pies, worst_batter, bat_star=best_batting_idol.batting_stars, run_star=best_batting_idol.baserunning_stars, def_star=best_batting_idol.defense_stars))"
   ]
  },
  {
   "cell_type": "code",
   "execution_count": 5,
   "outputs": [
    {
     "name": "stdout",
     "output_type": "stream",
     "text": [
      "Pitching: Swap Nagomi Mcdaniel for Henry Marshallow\n"
     ]
    },
    {
     "data": {
      "text/plain": "                         Pies\nbatting_change       +0.0000%\npitching_change     +17.4262%\nbaserunning_change   +0.0000%\ndefense_change       +0.0000%",
      "text/html": "<div>\n<style scoped>\n    .dataframe tbody tr th:only-of-type {\n        vertical-align: middle;\n    }\n\n    .dataframe tbody tr th {\n        vertical-align: top;\n    }\n\n    .dataframe thead th {\n        text-align: right;\n    }\n</style>\n<table border=\"1\" class=\"dataframe\">\n  <thead>\n    <tr style=\"text-align: right;\">\n      <th></th>\n      <th>Pies</th>\n    </tr>\n  </thead>\n  <tbody>\n    <tr>\n      <th>batting_change</th>\n      <td>+0.0000%</td>\n    </tr>\n    <tr>\n      <th>pitching_change</th>\n      <td>+17.4262%</td>\n    </tr>\n    <tr>\n      <th>baserunning_change</th>\n      <td>+0.0000%</td>\n    </tr>\n    <tr>\n      <th>defense_change</th>\n      <td>+0.0000%</td>\n    </tr>\n  </tbody>\n</table>\n</div>"
     },
     "execution_count": 5,
     "metadata": {},
     "output_type": "execute_result"
    }
   ],
   "source": [
    "worst_pitcher = sort_rotation(pies, 1)[0]\n",
    "print(f\"Pitching: Swap {best_pitching_idol.name} for {worst_pitcher.name}\")\n",
    "\n",
    "pandas.DataFrame(replace_player(pies, worst_pitcher, pitch_star=best_pitching_idol.pitching_stars))\n"
   ],
   "metadata": {
    "collapsed": false,
    "pycharm": {
     "name": "#%%\n"
    }
   }
  },
  {
   "cell_type": "markdown",
   "source": [
    "**Worst Case Swap:**"
   ],
   "metadata": {
    "collapsed": false,
    "pycharm": {
     "name": "#%% md\n"
    }
   }
  },
  {
   "cell_type": "code",
   "execution_count": 6,
   "outputs": [
    {
     "name": "stdout",
     "output_type": "stream",
     "text": [
      "Batting: Swap Nagomi Mcdaniel for Jaxon Buckley\n"
     ]
    },
    {
     "data": {
      "text/plain": "                        Pies\nbatting_change      +1.2015%\npitching_change     +0.0000%\nbaserunning_change  +6.3892%\ndefense_change      +6.9881%",
      "text/html": "<div>\n<style scoped>\n    .dataframe tbody tr th:only-of-type {\n        vertical-align: middle;\n    }\n\n    .dataframe tbody tr th {\n        vertical-align: top;\n    }\n\n    .dataframe thead th {\n        text-align: right;\n    }\n</style>\n<table border=\"1\" class=\"dataframe\">\n  <thead>\n    <tr style=\"text-align: right;\">\n      <th></th>\n      <th>Pies</th>\n    </tr>\n  </thead>\n  <tbody>\n    <tr>\n      <th>batting_change</th>\n      <td>+1.2015%</td>\n    </tr>\n    <tr>\n      <th>pitching_change</th>\n      <td>+0.0000%</td>\n    </tr>\n    <tr>\n      <th>baserunning_change</th>\n      <td>+6.3892%</td>\n    </tr>\n    <tr>\n      <th>defense_change</th>\n      <td>+6.9881%</td>\n    </tr>\n  </tbody>\n</table>\n</div>"
     },
     "execution_count": 6,
     "metadata": {},
     "output_type": "execute_result"
    }
   ],
   "source": [
    "best_batter = sort_lineup(pies, 1, order=\"best\")[0]\n",
    "print(f\"Batting: Swap {best_batting_idol.name} for {best_batter.name}\")\n",
    "\n",
    "pandas.DataFrame(replace_player(pies, best_batter, bat_star=best_batting_idol.batting_stars, run_star=best_batting_idol.baserunning_stars, def_star=best_batting_idol.defense_stars))"
   ],
   "metadata": {
    "collapsed": false,
    "pycharm": {
     "name": "#%%\n"
    }
   }
  },
  {
   "cell_type": "code",
   "execution_count": 7,
   "outputs": [
    {
     "name": "stdout",
     "output_type": "stream",
     "text": [
      "Pitching: Swap Nagomi Mcdaniel for Elvis Figueroa\n"
     ]
    },
    {
     "data": {
      "text/plain": "                        Pies\nbatting_change      +0.0000%\npitching_change     +7.0067%\nbaserunning_change  +0.0000%\ndefense_change      +0.0000%",
      "text/html": "<div>\n<style scoped>\n    .dataframe tbody tr th:only-of-type {\n        vertical-align: middle;\n    }\n\n    .dataframe tbody tr th {\n        vertical-align: top;\n    }\n\n    .dataframe thead th {\n        text-align: right;\n    }\n</style>\n<table border=\"1\" class=\"dataframe\">\n  <thead>\n    <tr style=\"text-align: right;\">\n      <th></th>\n      <th>Pies</th>\n    </tr>\n  </thead>\n  <tbody>\n    <tr>\n      <th>batting_change</th>\n      <td>+0.0000%</td>\n    </tr>\n    <tr>\n      <th>pitching_change</th>\n      <td>+7.0067%</td>\n    </tr>\n    <tr>\n      <th>baserunning_change</th>\n      <td>+0.0000%</td>\n    </tr>\n    <tr>\n      <th>defense_change</th>\n      <td>+0.0000%</td>\n    </tr>\n  </tbody>\n</table>\n</div>"
     },
     "execution_count": 7,
     "metadata": {},
     "output_type": "execute_result"
    }
   ],
   "source": [
    "best_pitcher = sort_rotation(pies, 1, order=\"best\")[0]\n",
    "print(f\"Pitching: Swap {best_pitching_idol.name} for {best_pitcher.name}\")\n",
    "\n",
    "pandas.DataFrame(replace_player(pies, best_pitcher, pitch_star=best_pitching_idol.pitching_stars))\n"
   ],
   "metadata": {
    "collapsed": false,
    "pycharm": {
     "name": "#%%\n"
    }
   }
  },
  {
   "cell_type": "markdown",
   "metadata": {},
   "source": [
    "### Exchange\n",
    "**Swap a Player from a Team in the opposite Subleague with a Player from your Team.**\n",
    "\n",
    "There are 139 possible Wild League players to swap with our 12 existing players, which is too many permuations for me to\n",
    "list here. Instead, here's the list of the top 10 players available to choose from by star rating. For maximum impact it\n",
    "is recommended we swap the player with the worst batter or pitcher respectively.\n",
    "\n",
    "Note that position does not matter for the swap, so a player that is currently batting can still be added as a pitcher\n",
    "and vice-versa."
   ]
  },
  {
   "cell_type": "markdown",
   "metadata": {},
   "source": [
    "**Best Batter options and Pies worst Batter:**"
   ]
  },
  {
   "cell_type": "code",
   "execution_count": 8,
   "metadata": {
    "pycharm": {
     "name": "#%%\n"
    }
   },
   "outputs": [
    {
     "data": {
      "text/plain": "<pandas.io.formats.style.Styler at 0x199335a9c40>",
      "text/html": "<style  type=\"text/css\" >\n#T_252e8_row0_col0,#T_252e8_row0_col2,#T_252e8_row0_col3,#T_252e8_row0_col4,#T_252e8_row0_col6,#T_252e8_row1_col0,#T_252e8_row1_col1,#T_252e8_row1_col2,#T_252e8_row1_col3,#T_252e8_row1_col4,#T_252e8_row1_col6,#T_252e8_row1_col8,#T_252e8_row2_col0,#T_252e8_row2_col1,#T_252e8_row2_col2,#T_252e8_row2_col3,#T_252e8_row2_col6,#T_252e8_row3_col0,#T_252e8_row3_col1,#T_252e8_row3_col3,#T_252e8_row3_col4,#T_252e8_row3_col6,#T_252e8_row4_col0,#T_252e8_row4_col2,#T_252e8_row4_col8,#T_252e8_row5_col0,#T_252e8_row5_col1,#T_252e8_row5_col3,#T_252e8_row5_col4,#T_252e8_row6_col0,#T_252e8_row6_col1,#T_252e8_row6_col2,#T_252e8_row7_col0,#T_252e8_row7_col1,#T_252e8_row7_col2,#T_252e8_row7_col4,#T_252e8_row8_col0,#T_252e8_row8_col1,#T_252e8_row8_col8,#T_252e8_row9_col0,#T_252e8_row9_col2,#T_252e8_row9_col3,#T_252e8_row9_col4,#T_252e8_row9_col6{\n            background-color:  #006837;\n            color:  #f1f1f1;\n        }#T_252e8_row0_col1{\n            background-color:  #0c7f43;\n            color:  #f1f1f1;\n        }#T_252e8_row0_col5,#T_252e8_row9_col7{\n            background-color:  #b71126;\n            color:  #f1f1f1;\n            background-color:  #097940;\n            color:  #f1f1f1;\n        }#T_252e8_row0_col7,#T_252e8_row3_col7,#T_252e8_row5_col5,#T_252e8_row6_col7{\n            background-color:  #a50026;\n            color:  #f1f1f1;\n            background-color:  #006837;\n            color:  #f1f1f1;\n        }#T_252e8_row0_col8{\n            background-color:  #9dd569;\n            color:  #000000;\n        }#T_252e8_row1_col5{\n            background-color:  #ab0626;\n            color:  #f1f1f1;\n            background-color:  #036e3a;\n            color:  #f1f1f1;\n        }#T_252e8_row1_col7{\n            background-color:  #c21c27;\n            color:  #f1f1f1;\n            background-color:  #0f8446;\n            color:  #f1f1f1;\n        }#T_252e8_row2_col4{\n            background-color:  #04703b;\n            color:  #f1f1f1;\n        }#T_252e8_row2_col5{\n            background-color:  #f57748;\n            color:  #000000;\n            background-color:  #70c164;\n            color:  #000000;\n        }#T_252e8_row2_col7,#T_252e8_row4_col7,#T_252e8_row5_col7,#T_252e8_row7_col7,#T_252e8_row8_col7{\n            background-color:  #d62f27;\n            color:  #f1f1f1;\n            background-color:  #199750;\n            color:  #000000;\n        }#T_252e8_row2_col8{\n            background-color:  #148e4b;\n            color:  #000000;\n        }#T_252e8_row3_col2{\n            background-color:  #279f53;\n            color:  #000000;\n        }#T_252e8_row3_col5{\n            background-color:  #eb5a3a;\n            color:  #000000;\n            background-color:  #4eb15d;\n            color:  #000000;\n        }#T_252e8_row3_col8{\n            background-color:  #a0d669;\n            color:  #000000;\n        }#T_252e8_row4_col1{\n            background-color:  #57b65f;\n            color:  #000000;\n        }#T_252e8_row4_col3{\n            background-color:  #3ca959;\n            color:  #000000;\n        }#T_252e8_row4_col4{\n            background-color:  #016a38;\n            color:  #f1f1f1;\n        }#T_252e8_row4_col5{\n            background-color:  #fee695;\n            color:  #000000;\n            background-color:  #e0f295;\n            color:  #000000;\n        }#T_252e8_row4_col6{\n            background-color:  #07753e;\n            color:  #f1f1f1;\n        }#T_252e8_row5_col2{\n            background-color:  #199750;\n            color:  #000000;\n        }#T_252e8_row5_col6{\n            background-color:  #feca79;\n            color:  #000000;\n        }#T_252e8_row5_col8{\n            background-color:  #70c164;\n            color:  #000000;\n        }#T_252e8_row6_col3,#T_252e8_row8_col6{\n            background-color:  #1e9a51;\n            color:  #000000;\n        }#T_252e8_row6_col4{\n            background-color:  #e2f397;\n            color:  #000000;\n        }#T_252e8_row6_col5{\n            background-color:  #fa9b58;\n            color:  #000000;\n            background-color:  #93d168;\n            color:  #000000;\n        }#T_252e8_row6_col6{\n            background-color:  #e3f399;\n            color:  #000000;\n        }#T_252e8_row6_col8{\n            background-color:  #fca85e;\n            color:  #000000;\n        }#T_252e8_row7_col3{\n            background-color:  #93d168;\n            color:  #000000;\n        }#T_252e8_row7_col5{\n            background-color:  #f67f4b;\n            color:  #000000;\n            background-color:  #78c565;\n            color:  #000000;\n        }#T_252e8_row7_col6{\n            background-color:  #7dc765;\n            color:  #000000;\n        }#T_252e8_row7_col8{\n            background-color:  #ecf7a6;\n            color:  #000000;\n        }#T_252e8_row8_col2{\n            background-color:  #91d068;\n            color:  #000000;\n        }#T_252e8_row8_col3{\n            background-color:  #18954f;\n            color:  #000000;\n        }#T_252e8_row8_col4{\n            background-color:  #097940;\n            color:  #f1f1f1;\n        }#T_252e8_row8_col5{\n            background-color:  #fa9656;\n            color:  #000000;\n            background-color:  #8ecf67;\n            color:  #000000;\n        }#T_252e8_row9_col1,#T_252e8_row9_col8{\n            background-color:  #6ec064;\n            color:  #000000;\n        }#T_252e8_row9_col5{\n            background-color:  #f7fcb4;\n            color:  #000000;\n            background-color:  #fff8b4;\n            color:  #000000;\n        }</style><table id=\"T_252e8_\" ><thead>    <tr>        <th class=\"blank level0\" ></th>        <th class=\"col_heading level0 col0\" >Batting Rating</th>        <th class=\"col_heading level0 col1\" >Thwackability</th>        <th class=\"col_heading level0 col2\" >Divinity</th>        <th class=\"col_heading level0 col3\" >Musclitude</th>        <th class=\"col_heading level0 col4\" >Moxie</th>        <th class=\"col_heading level0 col5\" >Patheticism</th>        <th class=\"col_heading level0 col6\" >Martyrdom</th>        <th class=\"col_heading level0 col7\" >Tragicness</th>        <th class=\"col_heading level0 col8\" >Buoyancy</th>    </tr></thead><tbody>\n                <tr>\n                        <th id=\"T_252e8_level0_row0\" class=\"row_heading level0 row0\" >Beck Whitney</th>\n                        <td id=\"T_252e8_row0_col0\" class=\"data row0 col0\" >1.163474</td>\n                        <td id=\"T_252e8_row0_col1\" class=\"data row0 col1\" >0.951409</td>\n                        <td id=\"T_252e8_row0_col2\" class=\"data row0 col2\" >1.431090</td>\n                        <td id=\"T_252e8_row0_col3\" class=\"data row0 col3\" >1.228751</td>\n                        <td id=\"T_252e8_row0_col4\" class=\"data row0 col4\" >1.427907</td>\n                        <td id=\"T_252e8_row0_col5\" class=\"data row0 col5\" >0.035629</td>\n                        <td id=\"T_252e8_row0_col6\" class=\"data row0 col6\" >1.164729</td>\n                        <td id=\"T_252e8_row0_col7\" class=\"data row0 col7\" >0.001000</td>\n                        <td id=\"T_252e8_row0_col8\" class=\"data row0 col8\" >0.711079</td>\n            </tr>\n            <tr>\n                        <th id=\"T_252e8_level0_row1\" class=\"row_heading level0 row1\" >Valentine Games</th>\n                        <td id=\"T_252e8_row1_col0\" class=\"data row1 col0\" >1.159611</td>\n                        <td id=\"T_252e8_row1_col1\" class=\"data row1 col1\" >1.047322</td>\n                        <td id=\"T_252e8_row1_col2\" class=\"data row1 col2\" >1.213784</td>\n                        <td id=\"T_252e8_row1_col3\" class=\"data row1 col3\" >1.642018</td>\n                        <td id=\"T_252e8_row1_col4\" class=\"data row1 col4\" >1.302306</td>\n                        <td id=\"T_252e8_row1_col5\" class=\"data row1 col5\" >0.012096</td>\n                        <td id=\"T_252e8_row1_col6\" class=\"data row1 col6\" >1.515499</td>\n                        <td id=\"T_252e8_row1_col7\" class=\"data row1 col7\" >0.059992</td>\n                        <td id=\"T_252e8_row1_col8\" class=\"data row1 col8\" >1.063348</td>\n            </tr>\n            <tr>\n                        <th id=\"T_252e8_level0_row2\" class=\"row_heading level0 row2\" >Jessica Telephone</th>\n                        <td id=\"T_252e8_row2_col0\" class=\"data row2 col0\" >1.129590</td>\n                        <td id=\"T_252e8_row2_col1\" class=\"data row2 col1\" >1.113282</td>\n                        <td id=\"T_252e8_row2_col2\" class=\"data row2 col2\" >1.216455</td>\n                        <td id=\"T_252e8_row2_col3\" class=\"data row2 col3\" >1.326294</td>\n                        <td id=\"T_252e8_row2_col4\" class=\"data row2 col4\" >0.982475</td>\n                        <td id=\"T_252e8_row2_col5\" class=\"data row2 col5\" >0.215902</td>\n                        <td id=\"T_252e8_row2_col6\" class=\"data row2 col6\" >1.574396</td>\n                        <td id=\"T_252e8_row2_col7\" class=\"data row2 col7\" >0.100000</td>\n                        <td id=\"T_252e8_row2_col8\" class=\"data row2 col8\" >0.919039</td>\n            </tr>\n            <tr>\n                        <th id=\"T_252e8_level0_row3\" class=\"row_heading level0 row3\" >Knight Triumphant</th>\n                        <td id=\"T_252e8_row3_col0\" class=\"data row3 col0\" >1.069396</td>\n                        <td id=\"T_252e8_row3_col1\" class=\"data row3 col1\" >1.275457</td>\n                        <td id=\"T_252e8_row3_col2\" class=\"data row3 col2\" >0.882189</td>\n                        <td id=\"T_252e8_row3_col3\" class=\"data row3 col3\" >1.326139</td>\n                        <td id=\"T_252e8_row3_col4\" class=\"data row3 col4\" >1.167963</td>\n                        <td id=\"T_252e8_row3_col5\" class=\"data row3 col5\" >0.168635</td>\n                        <td id=\"T_252e8_row3_col6\" class=\"data row3 col6\" >1.118446</td>\n                        <td id=\"T_252e8_row3_col7\" class=\"data row3 col7\" >0.001000</td>\n                        <td id=\"T_252e8_row3_col8\" class=\"data row3 col8\" >0.710728</td>\n            </tr>\n            <tr>\n                        <th id=\"T_252e8_level0_row4\" class=\"row_heading level0 row4\" >Fitzgerald Blackburn</th>\n                        <td id=\"T_252e8_row4_col0\" class=\"data row4 col0\" >1.044396</td>\n                        <td id=\"T_252e8_row4_col1\" class=\"data row4 col1\" >0.819049</td>\n                        <td id=\"T_252e8_row4_col2\" class=\"data row4 col2\" >1.554827</td>\n                        <td id=\"T_252e8_row4_col3\" class=\"data row4 col3\" >0.855190</td>\n                        <td id=\"T_252e8_row4_col4\" class=\"data row4 col4\" >0.993876</td>\n                        <td id=\"T_252e8_row4_col5\" class=\"data row4 col5\" >0.421207</td>\n                        <td id=\"T_252e8_row4_col6\" class=\"data row4 col6\" >0.971062</td>\n                        <td id=\"T_252e8_row4_col7\" class=\"data row4 col7\" >0.100000</td>\n                        <td id=\"T_252e8_row4_col8\" class=\"data row4 col8\" >1.473336</td>\n            </tr>\n            <tr>\n                        <th id=\"T_252e8_level0_row5\" class=\"row_heading level0 row5\" >Jacob Haynes</th>\n                        <td id=\"T_252e8_row5_col0\" class=\"data row5 col0\" >1.030265</td>\n                        <td id=\"T_252e8_row5_col1\" class=\"data row5 col1\" >1.223815</td>\n                        <td id=\"T_252e8_row5_col2\" class=\"data row5 col2\" >0.902263</td>\n                        <td id=\"T_252e8_row5_col3\" class=\"data row5 col3\" >1.061913</td>\n                        <td id=\"T_252e8_row5_col4\" class=\"data row5 col4\" >1.179008</td>\n                        <td id=\"T_252e8_row5_col5\" class=\"data row5 col5\" >0.001000</td>\n                        <td id=\"T_252e8_row5_col6\" class=\"data row5 col6\" >0.356483</td>\n                        <td id=\"T_252e8_row5_col7\" class=\"data row5 col7\" >0.100000</td>\n                        <td id=\"T_252e8_row5_col8\" class=\"data row5 col8\" >0.783724</td>\n            </tr>\n            <tr>\n                        <th id=\"T_252e8_level0_row6\" class=\"row_heading level0 row6\" >Gerund Pantheocide</th>\n                        <td id=\"T_252e8_row6_col0\" class=\"data row6 col0\" >1.027445</td>\n                        <td id=\"T_252e8_row6_col1\" class=\"data row6 col1\" >1.300367</td>\n                        <td id=\"T_252e8_row6_col2\" class=\"data row6 col2\" >1.034786</td>\n                        <td id=\"T_252e8_row6_col3\" class=\"data row6 col3\" >0.893386</td>\n                        <td id=\"T_252e8_row6_col4\" class=\"data row6 col4\" >0.575666</td>\n                        <td id=\"T_252e8_row6_col5\" class=\"data row6 col5\" >0.270360</td>\n                        <td id=\"T_252e8_row6_col6\" class=\"data row6 col6\" >0.571867</td>\n                        <td id=\"T_252e8_row6_col7\" class=\"data row6 col7\" >0.001000</td>\n                        <td id=\"T_252e8_row6_col8\" class=\"data row6 col8\" >0.289087</td>\n            </tr>\n            <tr>\n                        <th id=\"T_252e8_level0_row7\" class=\"row_heading level0 row7\" >Aldon Cashmoney</th>\n                        <td id=\"T_252e8_row7_col0\" class=\"data row7 col0\" >1.026237</td>\n                        <td id=\"T_252e8_row7_col1\" class=\"data row7 col1\" >1.044073</td>\n                        <td id=\"T_252e8_row7_col2\" class=\"data row7 col2\" >1.122097</td>\n                        <td id=\"T_252e8_row7_col3\" class=\"data row7 col3\" >0.729312</td>\n                        <td id=\"T_252e8_row7_col4\" class=\"data row7 col4\" >1.199005</td>\n                        <td id=\"T_252e8_row7_col5\" class=\"data row7 col5\" >0.229409</td>\n                        <td id=\"T_252e8_row7_col6\" class=\"data row7 col6\" >0.764498</td>\n                        <td id=\"T_252e8_row7_col7\" class=\"data row7 col7\" >0.100000</td>\n                        <td id=\"T_252e8_row7_col8\" class=\"data row7 col8\" >0.548276</td>\n            </tr>\n            <tr>\n                        <th id=\"T_252e8_level0_row8\" class=\"row_heading level0 row8\" >Dudley Mueller</th>\n                        <td id=\"T_252e8_row8_col0\" class=\"data row8 col0\" >1.009601</td>\n                        <td id=\"T_252e8_row8_col1\" class=\"data row8 col1\" >1.525780</td>\n                        <td id=\"T_252e8_row8_col2\" class=\"data row8 col2\" >0.731321</td>\n                        <td id=\"T_252e8_row8_col3\" class=\"data row8 col3\" >0.905664</td>\n                        <td id=\"T_252e8_row8_col4\" class=\"data row8 col4\" >0.964410</td>\n                        <td id=\"T_252e8_row8_col5\" class=\"data row8 col5\" >0.263640</td>\n                        <td id=\"T_252e8_row8_col6\" class=\"data row8 col6\" >0.891322</td>\n                        <td id=\"T_252e8_row8_col7\" class=\"data row8 col7\" >0.100000</td>\n                        <td id=\"T_252e8_row8_col8\" class=\"data row8 col8\" >1.513180</td>\n            </tr>\n            <tr>\n                        <th id=\"T_252e8_level0_row9\" class=\"row_heading level0 row9\" >Margarito Nava</th>\n                        <td id=\"T_252e8_row9_col0\" class=\"data row9 col0\" >1.000296</td>\n                        <td id=\"T_252e8_row9_col1\" class=\"data row9 col1\" >0.788340</td>\n                        <td id=\"T_252e8_row9_col2\" class=\"data row9 col2\" >1.244494</td>\n                        <td id=\"T_252e8_row9_col3\" class=\"data row9 col3\" >1.244454</td>\n                        <td id=\"T_252e8_row9_col4\" class=\"data row9 col4\" >1.404628</td>\n                        <td id=\"T_252e8_row9_col5\" class=\"data row9 col5\" >0.522716</td>\n                        <td id=\"T_252e8_row9_col6\" class=\"data row9 col6\" >1.131332</td>\n                        <td id=\"T_252e8_row9_col7\" class=\"data row9 col7\" >0.038358</td>\n                        <td id=\"T_252e8_row9_col8\" class=\"data row9 col8\" >0.786623</td>\n            </tr>\n    </tbody></table>"
     },
     "execution_count": 8,
     "metadata": {},
     "output_type": "execute_result"
    }
   ],
   "source": [
    "wild = Subleague.load(\"aabc11a1-81af-4036-9f18-229c759ca8a9\")\n",
    "all_wild = []\n",
    "for team in wild.teams.values():\n",
    "    all_wild.extend(team.lineup + team.rotation)\n",
    "    \n",
    "all_wild.sort(key=lambda x: x.batting_rating, reverse=True)\n",
    "set_heatmap(get_batting_stlats(all_wild[0:10]), maxVal=1)\n"
   ]
  },
  {
   "cell_type": "code",
   "execution_count": 9,
   "metadata": {},
   "outputs": [
    {
     "data": {
      "text/plain": "<pandas.io.formats.style.Styler at 0x199335895b0>",
      "text/html": "<style  type=\"text/css\" >\n#T_6c6a8_row0_col0{\n            background-color:  #fee999;\n            color:  #000000;\n        }#T_6c6a8_row0_col1,#T_6c6a8_row0_col8{\n            background-color:  #006837;\n            color:  #f1f1f1;\n        }#T_6c6a8_row0_col2{\n            background-color:  #ef633f;\n            color:  #000000;\n        }#T_6c6a8_row0_col3{\n            background-color:  #b3df72;\n            color:  #000000;\n        }#T_6c6a8_row0_col4{\n            background-color:  #e54e35;\n            color:  #000000;\n        }#T_6c6a8_row0_col5{\n            background-color:  #c9e881;\n            color:  #000000;\n            background-color:  #fed07e;\n            color:  #000000;\n        }#T_6c6a8_row0_col6{\n            background-color:  #da362a;\n            color:  #f1f1f1;\n        }#T_6c6a8_row0_col7{\n            background-color:  #c01a27;\n            color:  #f1f1f1;\n            background-color:  #0e8245;\n            color:  #f1f1f1;\n        }</style><table id=\"T_6c6a8_\" ><thead>    <tr>        <th class=\"blank level0\" ></th>        <th class=\"col_heading level0 col0\" >Batting Rating</th>        <th class=\"col_heading level0 col1\" >Thwackability</th>        <th class=\"col_heading level0 col2\" >Divinity</th>        <th class=\"col_heading level0 col3\" >Musclitude</th>        <th class=\"col_heading level0 col4\" >Moxie</th>        <th class=\"col_heading level0 col5\" >Patheticism</th>        <th class=\"col_heading level0 col6\" >Martyrdom</th>        <th class=\"col_heading level0 col7\" >Tragicness</th>        <th class=\"col_heading level0 col8\" >Buoyancy</th>    </tr></thead><tbody>\n                <tr>\n                        <th id=\"T_6c6a8_level0_row0\" class=\"row_heading level0 row0\" >Yusef Puddles</th>\n                        <td id=\"T_6c6a8_row0_col0\" class=\"data row0 col0\" >0.429562</td>\n                        <td id=\"T_6c6a8_row0_col1\" class=\"data row0 col1\" >1.033698</td>\n                        <td id=\"T_6c6a8_row0_col2\" class=\"data row0 col2\" >0.184577</td>\n                        <td id=\"T_6c6a8_row0_col3\" class=\"data row0 col3\" >0.675196</td>\n                        <td id=\"T_6c6a8_row0_col4\" class=\"data row0 col4\" >0.151908</td>\n                        <td id=\"T_6c6a8_row0_col5\" class=\"data row0 col5\" >0.630778</td>\n                        <td id=\"T_6c6a8_row0_col6\" class=\"data row0 col6\" >0.110821</td>\n                        <td id=\"T_6c6a8_row0_col7\" class=\"data row0 col7\" >0.057271</td>\n                        <td id=\"T_6c6a8_row0_col8\" class=\"data row0 col8\" >1.010015</td>\n            </tr>\n    </tbody></table>"
     },
     "execution_count": 9,
     "metadata": {},
     "output_type": "execute_result"
    }
   ],
   "source": [
    "set_heatmap(get_batting_stlats(sort_lineup(pies, 1)), maxVal=1)"
   ]
  },
  {
   "cell_type": "markdown",
   "metadata": {},
   "source": [
    "**Best Pitchers options and Pies worst Pitcher:**"
   ]
  },
  {
   "cell_type": "code",
   "execution_count": 10,
   "metadata": {},
   "outputs": [
    {
     "data": {
      "text/plain": "<pandas.io.formats.style.Styler at 0x199332d6280>",
      "text/html": "<style  type=\"text/css\" >\n#T_56d85_row0_col0,#T_56d85_row0_col1,#T_56d85_row0_col2,#T_56d85_row1_col0,#T_56d85_row1_col1,#T_56d85_row1_col2,#T_56d85_row1_col3,#T_56d85_row1_col4,#T_56d85_row2_col0,#T_56d85_row2_col1,#T_56d85_row2_col2,#T_56d85_row2_col4,#T_56d85_row2_col5,#T_56d85_row3_col0,#T_56d85_row3_col1,#T_56d85_row3_col2,#T_56d85_row3_col3,#T_56d85_row4_col2,#T_56d85_row4_col3,#T_56d85_row4_col4,#T_56d85_row4_col5,#T_56d85_row4_col6,#T_56d85_row5_col1,#T_56d85_row5_col2,#T_56d85_row6_col3,#T_56d85_row7_col1,#T_56d85_row7_col3,#T_56d85_row7_col4,#T_56d85_row8_col1,#T_56d85_row8_col4{\n            background-color:  #006837;\n            color:  #f1f1f1;\n        }#T_56d85_row0_col3{\n            background-color:  #279f53;\n            color:  #000000;\n        }#T_56d85_row0_col4{\n            background-color:  #30a356;\n            color:  #000000;\n        }#T_56d85_row0_col5{\n            background-color:  #06733d;\n            color:  #f1f1f1;\n        }#T_56d85_row0_col6{\n            background-color:  #6bbf64;\n            color:  #000000;\n        }#T_56d85_row1_col5{\n            background-color:  #45ad5b;\n            color:  #000000;\n        }#T_56d85_row1_col6{\n            background-color:  #e5f49b;\n            color:  #000000;\n        }#T_56d85_row2_col3,#T_56d85_row3_col6{\n            background-color:  #9dd569;\n            color:  #000000;\n        }#T_56d85_row2_col6,#T_56d85_row6_col2{\n            background-color:  #036e3a;\n            color:  #f1f1f1;\n        }#T_56d85_row3_col4{\n            background-color:  #fdc776;\n            color:  #000000;\n        }#T_56d85_row3_col5{\n            background-color:  #fafdb8;\n            color:  #000000;\n        }#T_56d85_row4_col0{\n            background-color:  #0c7f43;\n            color:  #f1f1f1;\n        }#T_56d85_row4_col1{\n            background-color:  #54b45f;\n            color:  #000000;\n        }#T_56d85_row5_col0{\n            background-color:  #118848;\n            color:  #000000;\n        }#T_56d85_row5_col3{\n            background-color:  #fffcba;\n            color:  #000000;\n        }#T_56d85_row5_col4{\n            background-color:  #78c565;\n            color:  #000000;\n        }#T_56d85_row5_col5{\n            background-color:  #51b35e;\n            color:  #000000;\n        }#T_56d85_row5_col6{\n            background-color:  #fdc171;\n            color:  #000000;\n        }#T_56d85_row6_col0,#T_56d85_row7_col0{\n            background-color:  #1e9a51;\n            color:  #000000;\n        }#T_56d85_row6_col1{\n            background-color:  #2aa054;\n            color:  #000000;\n        }#T_56d85_row6_col4{\n            background-color:  #cbe982;\n            color:  #000000;\n        }#T_56d85_row6_col5,#T_56d85_row9_col5{\n            background-color:  #fee491;\n            color:  #000000;\n        }#T_56d85_row6_col6{\n            background-color:  #0e8245;\n            color:  #f1f1f1;\n        }#T_56d85_row7_col2{\n            background-color:  #dcf08f;\n            color:  #000000;\n        }#T_56d85_row7_col5{\n            background-color:  #e2f397;\n            color:  #000000;\n        }#T_56d85_row7_col6{\n            background-color:  #fff1a8;\n            color:  #000000;\n        }#T_56d85_row8_col0{\n            background-color:  #219c52;\n            color:  #000000;\n        }#T_56d85_row8_col2{\n            background-color:  #0f8446;\n            color:  #f1f1f1;\n        }#T_56d85_row8_col3{\n            background-color:  #fee999;\n            color:  #000000;\n        }#T_56d85_row8_col5{\n            background-color:  #98d368;\n            color:  #000000;\n        }#T_56d85_row8_col6{\n            background-color:  #f1f9ac;\n            color:  #000000;\n        }#T_56d85_row9_col0{\n            background-color:  #33a456;\n            color:  #000000;\n        }#T_56d85_row9_col1{\n            background-color:  #3faa59;\n            color:  #000000;\n        }#T_56d85_row9_col2,#T_56d85_row9_col3{\n            background-color:  #04703b;\n            color:  #f1f1f1;\n        }#T_56d85_row9_col4{\n            background-color:  #8ccd67;\n            color:  #000000;\n        }#T_56d85_row9_col6{\n            background-color:  #75c465;\n            color:  #000000;\n        }</style><table id=\"T_56d85_\" ><thead>    <tr>        <th class=\"blank level0\" ></th>        <th class=\"col_heading level0 col0\" >Pitching Rating</th>        <th class=\"col_heading level0 col1\" >Unthwackability</th>        <th class=\"col_heading level0 col2\" >Ruthlessness</th>        <th class=\"col_heading level0 col3\" >Overpowerment</th>        <th class=\"col_heading level0 col4\" >Shakespearianism</th>        <th class=\"col_heading level0 col5\" >Coldness</th>        <th class=\"col_heading level0 col6\" >Suppression</th>    </tr></thead><tbody>\n                <tr>\n                        <th id=\"T_56d85_level0_row0\" class=\"row_heading level0 row0\" >Burke Gonzales</th>\n                        <td id=\"T_56d85_row0_col0\" class=\"data row0 col0\" >1.176989</td>\n                        <td id=\"T_56d85_row0_col1\" class=\"data row0 col1\" >1.171639</td>\n                        <td id=\"T_56d85_row0_col2\" class=\"data row0 col2\" >1.341412</td>\n                        <td id=\"T_56d85_row0_col3\" class=\"data row0 col3\" >0.879956</td>\n                        <td id=\"T_56d85_row0_col4\" class=\"data row0 col4\" >0.870391</td>\n                        <td id=\"T_56d85_row0_col5\" class=\"data row0 col5\" >0.973638</td>\n                        <td id=\"T_56d85_row0_col6\" class=\"data row0 col6\" >0.789646</td>\n            </tr>\n            <tr>\n                        <th id=\"T_56d85_level0_row1\" class=\"row_heading level0 row1\" >Qais Dogwalker</th>\n                        <td id=\"T_56d85_row1_col0\" class=\"data row1 col0\" >1.105839</td>\n                        <td id=\"T_56d85_row1_col1\" class=\"data row1 col1\" >1.031425</td>\n                        <td id=\"T_56d85_row1_col2\" class=\"data row1 col2\" >1.097700</td>\n                        <td id=\"T_56d85_row1_col3\" class=\"data row1 col3\" >1.318705</td>\n                        <td id=\"T_56d85_row1_col4\" class=\"data row1 col4\" >1.112111</td>\n                        <td id=\"T_56d85_row1_col5\" class=\"data row1 col5\" >0.842765</td>\n                        <td id=\"T_56d85_row1_col6\" class=\"data row1 col6\" >0.570121</td>\n            </tr>\n            <tr>\n                        <th id=\"T_56d85_level0_row2\" class=\"row_heading level0 row2\" >Castillo Turner</th>\n                        <td id=\"T_56d85_row2_col0\" class=\"data row2 col0\" >1.100450</td>\n                        <td id=\"T_56d85_row2_col1\" class=\"data row2 col1\" >1.115089</td>\n                        <td id=\"T_56d85_row2_col2\" class=\"data row2 col2\" >1.148187</td>\n                        <td id=\"T_56d85_row2_col3\" class=\"data row2 col3\" >0.713012</td>\n                        <td id=\"T_56d85_row2_col4\" class=\"data row2 col4\" >1.332078</td>\n                        <td id=\"T_56d85_row2_col5\" class=\"data row2 col5\" >1.379473</td>\n                        <td id=\"T_56d85_row2_col6\" class=\"data row2 col6\" >0.987084</td>\n            </tr>\n            <tr>\n                        <th id=\"T_56d85_level0_row3\" class=\"row_heading level0 row3\" >Pitching Machine</th>\n                        <td id=\"T_56d85_row3_col0\" class=\"data row3 col0\" >1.017255</td>\n                        <td id=\"T_56d85_row3_col1\" class=\"data row3 col1\" >1.199024</td>\n                        <td id=\"T_56d85_row3_col2\" class=\"data row3 col2\" >1.106152</td>\n                        <td id=\"T_56d85_row3_col3\" class=\"data row3 col3\" >1.053689</td>\n                        <td id=\"T_56d85_row3_col4\" class=\"data row3 col4\" >0.349586</td>\n                        <td id=\"T_56d85_row3_col5\" class=\"data row3 col5\" >0.511801</td>\n                        <td id=\"T_56d85_row3_col6\" class=\"data row3 col6\" >0.714233</td>\n            </tr>\n            <tr>\n                        <th id=\"T_56d85_level0_row4\" class=\"row_heading level0 row4\" >Rafael Davids</th>\n                        <td id=\"T_56d85_row4_col0\" class=\"data row4 col0\" >0.950434</td>\n                        <td id=\"T_56d85_row4_col1\" class=\"data row4 col1\" >0.821531</td>\n                        <td id=\"T_56d85_row4_col2\" class=\"data row4 col2\" >1.097610</td>\n                        <td id=\"T_56d85_row4_col3\" class=\"data row4 col3\" >1.057661</td>\n                        <td id=\"T_56d85_row4_col4\" class=\"data row4 col4\" >1.006934</td>\n                        <td id=\"T_56d85_row4_col5\" class=\"data row4 col5\" >1.045070</td>\n                        <td id=\"T_56d85_row4_col6\" class=\"data row4 col6\" >1.161455</td>\n            </tr>\n            <tr>\n                        <th id=\"T_56d85_level0_row5\" class=\"row_heading level0 row5\" >Hiroto Wilcox</th>\n                        <td id=\"T_56d85_row5_col0\" class=\"data row5 col0\" >0.929726</td>\n                        <td id=\"T_56d85_row5_col1\" class=\"data row5 col1\" >1.048886</td>\n                        <td id=\"T_56d85_row5_col2\" class=\"data row5 col2\" >1.108926</td>\n                        <td id=\"T_56d85_row5_col3\" class=\"data row5 col3\" >0.488923</td>\n                        <td id=\"T_56d85_row5_col4\" class=\"data row5 col4\" >0.771052</td>\n                        <td id=\"T_56d85_row5_col5\" class=\"data row5 col5\" >0.826826</td>\n                        <td id=\"T_56d85_row5_col6\" class=\"data row5 col6\" >0.337882</td>\n            </tr>\n            <tr>\n                        <th id=\"T_56d85_level0_row6\" class=\"row_heading level0 row6\" >Valentine Games</th>\n                        <td id=\"T_56d85_row6_col0\" class=\"data row6 col0\" >0.892390</td>\n                        <td id=\"T_56d85_row6_col1\" class=\"data row6 col1\" >0.878882</td>\n                        <td id=\"T_56d85_row6_col2\" class=\"data row6 col2\" >0.988182</td>\n                        <td id=\"T_56d85_row6_col3\" class=\"data row6 col3\" >1.175546</td>\n                        <td id=\"T_56d85_row6_col4\" class=\"data row6 col4\" >0.627525</td>\n                        <td id=\"T_56d85_row6_col5\" class=\"data row6 col5\" >0.411364</td>\n                        <td id=\"T_56d85_row6_col6\" class=\"data row6 col6\" >0.943146</td>\n            </tr>\n            <tr>\n                        <th id=\"T_56d85_level0_row7\" class=\"row_heading level0 row7\" >Knight Triumphant</th>\n                        <td id=\"T_56d85_row7_col0\" class=\"data row7 col0\" >0.891070</td>\n                        <td id=\"T_56d85_row7_col1\" class=\"data row7 col1\" >1.185525</td>\n                        <td id=\"T_56d85_row7_col2\" class=\"data row7 col2\" >0.591861</td>\n                        <td id=\"T_56d85_row7_col3\" class=\"data row7 col3\" >1.051436</td>\n                        <td id=\"T_56d85_row7_col4\" class=\"data row7 col4\" >1.169285</td>\n                        <td id=\"T_56d85_row7_col5\" class=\"data row7 col5\" >0.575927</td>\n                        <td id=\"T_56d85_row7_col6\" class=\"data row7 col6\" >0.453896</td>\n            </tr>\n            <tr>\n                        <th id=\"T_56d85_level0_row8\" class=\"row_heading level0 row8\" >Rigby Friedrich</th>\n                        <td id=\"T_56d85_row8_col0\" class=\"data row8 col0\" >0.888575</td>\n                        <td id=\"T_56d85_row8_col1\" class=\"data row8 col1\" >1.072799</td>\n                        <td id=\"T_56d85_row8_col2\" class=\"data row8 col2\" >0.939847</td>\n                        <td id=\"T_56d85_row8_col3\" class=\"data row8 col3\" >0.427646</td>\n                        <td id=\"T_56d85_row8_col4\" class=\"data row8 col4\" >1.074809</td>\n                        <td id=\"T_56d85_row8_col5\" class=\"data row8 col5\" >0.718857</td>\n                        <td id=\"T_56d85_row8_col6\" class=\"data row8 col6\" >0.537667</td>\n            </tr>\n            <tr>\n                        <th id=\"T_56d85_level0_row9\" class=\"row_heading level0 row9\" >Fitzgerald Blackburn</th>\n                        <td id=\"T_56d85_row9_col0\" class=\"data row9 col0\" >0.865100</td>\n                        <td id=\"T_56d85_row9_col1\" class=\"data row9 col1\" >0.849077</td>\n                        <td id=\"T_56d85_row9_col2\" class=\"data row9 col2\" >0.980479</td>\n                        <td id=\"T_56d85_row9_col3\" class=\"data row9 col3\" >0.982413</td>\n                        <td id=\"T_56d85_row9_col4\" class=\"data row9 col4\" >0.738350</td>\n                        <td id=\"T_56d85_row9_col5\" class=\"data row9 col5\" >0.411036</td>\n                        <td id=\"T_56d85_row9_col6\" class=\"data row9 col6\" >0.775065</td>\n            </tr>\n    </tbody></table>"
     },
     "execution_count": 10,
     "metadata": {},
     "output_type": "execute_result"
    }
   ],
   "source": [
    "all_wild.sort(key=lambda x: x.pitching_rating, reverse=True)\n",
    "set_heatmap(get_pitching_stlats(all_wild[0:10]), maxVal=1)"
   ]
  },
  {
   "cell_type": "code",
   "execution_count": 11,
   "metadata": {},
   "outputs": [
    {
     "data": {
      "text/plain": "<pandas.io.formats.style.Styler at 0x19933589910>",
      "text/html": "<style  type=\"text/css\" >\n#T_30d44_row0_col0{\n            background-color:  #fee999;\n            color:  #000000;\n        }#T_30d44_row0_col1{\n            background-color:  #f7814c;\n            color:  #000000;\n        }#T_30d44_row0_col2{\n            background-color:  #279f53;\n            color:  #000000;\n        }#T_30d44_row0_col3{\n            background-color:  #006837;\n            color:  #f1f1f1;\n        }#T_30d44_row0_col4{\n            background-color:  #fffbb8;\n            color:  #000000;\n        }#T_30d44_row0_col5{\n            background-color:  #e3f399;\n            color:  #000000;\n        }#T_30d44_row0_col6{\n            background-color:  #bbe278;\n            color:  #000000;\n        }</style><table id=\"T_30d44_\" ><thead>    <tr>        <th class=\"blank level0\" ></th>        <th class=\"col_heading level0 col0\" >Pitching Rating</th>        <th class=\"col_heading level0 col1\" >Unthwackability</th>        <th class=\"col_heading level0 col2\" >Ruthlessness</th>        <th class=\"col_heading level0 col3\" >Overpowerment</th>        <th class=\"col_heading level0 col4\" >Shakespearianism</th>        <th class=\"col_heading level0 col5\" >Coldness</th>        <th class=\"col_heading level0 col6\" >Suppression</th>    </tr></thead><tbody>\n                <tr>\n                        <th id=\"T_30d44_level0_row0\" class=\"row_heading level0 row0\" >Henry Marshallow</th>\n                        <td id=\"T_30d44_row0_col0\" class=\"data row0 col0\" >0.428691</td>\n                        <td id=\"T_30d44_row0_col1\" class=\"data row0 col1\" >0.233266</td>\n                        <td id=\"T_30d44_row0_col2\" class=\"data row0 col2\" >0.882016</td>\n                        <td id=\"T_30d44_row0_col3\" class=\"data row0 col3\" >1.123135</td>\n                        <td id=\"T_30d44_row0_col4\" class=\"data row0 col4\" >0.484581</td>\n                        <td id=\"T_30d44_row0_col5\" class=\"data row0 col5\" >0.571587</td>\n                        <td id=\"T_30d44_row0_col6\" class=\"data row0 col6\" >0.656728</td>\n            </tr>\n    </tbody></table>"
     },
     "execution_count": 11,
     "metadata": {},
     "output_type": "execute_result"
    }
   ],
   "source": [
    "set_heatmap(get_pitching_stlats(sort_rotation(pies, 1)), maxVal=1)"
   ]
  },
  {
   "cell_type": "markdown",
   "metadata": {},
   "source": [
    "### Foreshadow\n",
    "**Swap a Player from your Shadows to your active roster.**\n",
    "\n",
    "There are 14 shadows players to swap with our 12 existing players. Below is a breakdown comparing the best shadows\n",
    "players with the worst player in the particular position.\n",
    "\n",
    "Note that position does not matter for the swap: any shadows player can bat or pitch.\n"
   ]
  },
  {
   "cell_type": "markdown",
   "metadata": {},
   "source": [
    "**Batting:**"
   ]
  },
  {
   "cell_type": "code",
   "execution_count": 12,
   "metadata": {
    "pycharm": {
     "name": "#%%\n"
    }
   },
   "outputs": [
    {
     "data": {
      "text/plain": "                    Batting  Pitching  Baserunning  Defense\nHaruta Byrd             3.5       2.5          2.5      1.5\nJavier Lotus            3.5       1.0          3.5      4.0\nAugust Obrien           3.5       1.0          3.5      2.0\nJefferson Delacruz      3.0       0.5          3.5      4.0\nYusef Puddles           2.0       2.5          3.0      3.5",
      "text/html": "<div>\n<style scoped>\n    .dataframe tbody tr th:only-of-type {\n        vertical-align: middle;\n    }\n\n    .dataframe tbody tr th {\n        vertical-align: top;\n    }\n\n    .dataframe thead th {\n        text-align: right;\n    }\n</style>\n<table border=\"1\" class=\"dataframe\">\n  <thead>\n    <tr style=\"text-align: right;\">\n      <th></th>\n      <th>Batting</th>\n      <th>Pitching</th>\n      <th>Baserunning</th>\n      <th>Defense</th>\n    </tr>\n  </thead>\n  <tbody>\n    <tr>\n      <th>Haruta Byrd</th>\n      <td>3.5</td>\n      <td>2.5</td>\n      <td>2.5</td>\n      <td>1.5</td>\n    </tr>\n    <tr>\n      <th>Javier Lotus</th>\n      <td>3.5</td>\n      <td>1.0</td>\n      <td>3.5</td>\n      <td>4.0</td>\n    </tr>\n    <tr>\n      <th>August Obrien</th>\n      <td>3.5</td>\n      <td>1.0</td>\n      <td>3.5</td>\n      <td>2.0</td>\n    </tr>\n    <tr>\n      <th>Jefferson Delacruz</th>\n      <td>3.0</td>\n      <td>0.5</td>\n      <td>3.5</td>\n      <td>4.0</td>\n    </tr>\n    <tr>\n      <th>Yusef Puddles</th>\n      <td>2.0</td>\n      <td>2.5</td>\n      <td>3.0</td>\n      <td>3.5</td>\n    </tr>\n  </tbody>\n</table>\n</div>"
     },
     "execution_count": 12,
     "metadata": {},
     "output_type": "execute_result"
    }
   ],
   "source": [
    "shadows = pies.bullpen + pies.bench\n",
    "shadows.sort(key=lambda x: x.batting_rating, reverse=True)\n",
    "best_batting_shadows = shadows[0:4]\n",
    "worst_batter = sort_lineup(pies, 1)[0]\n",
    "\n",
    "get_stars(best_batting_shadows + [worst_batter])"
   ]
  },
  {
   "cell_type": "code",
   "execution_count": 13,
   "outputs": [
    {
     "data": {
      "text/plain": "<pandas.io.formats.style.Styler at 0x199348419a0>",
      "text/html": "<style  type=\"text/css\" >\n#T_b343b_row0_col0{\n            background-color:  #96d268;\n            color:  #000000;\n        }#T_b343b_row0_col1{\n            background-color:  #98d368;\n            color:  #000000;\n        }#T_b343b_row0_col2{\n            background-color:  #15904c;\n            color:  #000000;\n        }#T_b343b_row0_col3{\n            background-color:  #3ca959;\n            color:  #000000;\n        }#T_b343b_row0_col4{\n            background-color:  #dff293;\n            color:  #000000;\n        }#T_b343b_row0_col5{\n            background-color:  #4bb05c;\n            color:  #000000;\n            background-color:  #ea5739;\n            color:  #000000;\n        }#T_b343b_row0_col6{\n            background-color:  #eb5a3a;\n            color:  #000000;\n        }#T_b343b_row0_col7,#T_b343b_row1_col7,#T_b343b_row2_col7,#T_b343b_row3_col7{\n            background-color:  #d62f27;\n            color:  #f1f1f1;\n            background-color:  #199750;\n            color:  #000000;\n        }#T_b343b_row0_col8{\n            background-color:  #dd3d2d;\n            color:  #f1f1f1;\n        }#T_b343b_row1_col0,#T_b343b_row2_col0{\n            background-color:  #afdd70;\n            color:  #000000;\n        }#T_b343b_row1_col1{\n            background-color:  #0f8446;\n            color:  #f1f1f1;\n        }#T_b343b_row1_col2{\n            background-color:  #fed884;\n            color:  #000000;\n        }#T_b343b_row1_col3{\n            background-color:  #199750;\n            color:  #000000;\n        }#T_b343b_row1_col4{\n            background-color:  #0e8245;\n            color:  #f1f1f1;\n        }#T_b343b_row1_col5{\n            background-color:  #f47044;\n            color:  #000000;\n            background-color:  #69be63;\n            color:  #000000;\n        }#T_b343b_row1_col6{\n            background-color:  #249d53;\n            color:  #000000;\n        }#T_b343b_row1_col8{\n            background-color:  #5ab760;\n            color:  #000000;\n        }#T_b343b_row2_col1,#T_b343b_row3_col2{\n            background-color:  #c3e67d;\n            color:  #000000;\n        }#T_b343b_row2_col2{\n            background-color:  #128a49;\n            color:  #000000;\n        }#T_b343b_row2_col3{\n            background-color:  #16914d;\n            color:  #000000;\n        }#T_b343b_row2_col4{\n            background-color:  #fffdbc;\n            color:  #000000;\n        }#T_b343b_row2_col5{\n            background-color:  #138c4a;\n            color:  #000000;\n            background-color:  #ca2427;\n            color:  #f1f1f1;\n        }#T_b343b_row2_col6{\n            background-color:  #e9f6a1;\n            color:  #000000;\n        }#T_b343b_row2_col8{\n            background-color:  #fff3ac;\n            color:  #000000;\n        }#T_b343b_row3_col0{\n            background-color:  #daf08d;\n            color:  #000000;\n        }#T_b343b_row3_col1{\n            background-color:  #fff8b4;\n            color:  #000000;\n        }#T_b343b_row3_col3{\n            background-color:  #18954f;\n            color:  #000000;\n        }#T_b343b_row3_col4{\n            background-color:  #f1f9ac;\n            color:  #000000;\n        }#T_b343b_row3_col5{\n            background-color:  #feffbe;\n            color:  #000000;\n            background-color:  #fffebe;\n            color:  #000000;\n        }#T_b343b_row3_col6{\n            background-color:  #feeb9d;\n            color:  #000000;\n        }#T_b343b_row3_col8{\n            background-color:  #b5df74;\n            color:  #000000;\n        }#T_b343b_row4_col0{\n            background-color:  #fee999;\n            color:  #000000;\n        }#T_b343b_row4_col1,#T_b343b_row4_col8{\n            background-color:  #006837;\n            color:  #f1f1f1;\n        }#T_b343b_row4_col2{\n            background-color:  #ef633f;\n            color:  #000000;\n        }#T_b343b_row4_col3{\n            background-color:  #b3df72;\n            color:  #000000;\n        }#T_b343b_row4_col4{\n            background-color:  #e54e35;\n            color:  #000000;\n        }#T_b343b_row4_col5{\n            background-color:  #c9e881;\n            color:  #000000;\n            background-color:  #fed07e;\n            color:  #000000;\n        }#T_b343b_row4_col6{\n            background-color:  #da362a;\n            color:  #f1f1f1;\n        }#T_b343b_row4_col7{\n            background-color:  #c01a27;\n            color:  #f1f1f1;\n            background-color:  #0e8245;\n            color:  #f1f1f1;\n        }</style><table id=\"T_b343b_\" ><thead>    <tr>        <th class=\"blank level0\" ></th>        <th class=\"col_heading level0 col0\" >Batting Rating</th>        <th class=\"col_heading level0 col1\" >Thwackability</th>        <th class=\"col_heading level0 col2\" >Divinity</th>        <th class=\"col_heading level0 col3\" >Musclitude</th>        <th class=\"col_heading level0 col4\" >Moxie</th>        <th class=\"col_heading level0 col5\" >Patheticism</th>        <th class=\"col_heading level0 col6\" >Martyrdom</th>        <th class=\"col_heading level0 col7\" >Tragicness</th>        <th class=\"col_heading level0 col8\" >Buoyancy</th>    </tr></thead><tbody>\n                <tr>\n                        <th id=\"T_b343b_level0_row0\" class=\"row_heading level0 row0\" >Haruta Byrd</th>\n                        <td id=\"T_b343b_row0_col0\" class=\"data row0 col0\" >0.724391</td>\n                        <td id=\"T_b343b_row0_col1\" class=\"data row0 col1\" >0.721433</td>\n                        <td id=\"T_b343b_row0_col2\" class=\"data row0 col2\" >0.917077</td>\n                        <td id=\"T_b343b_row0_col3\" class=\"data row0 col3\" >0.853010</td>\n                        <td id=\"T_b343b_row0_col4\" class=\"data row0 col4\" >0.585921</td>\n                        <td id=\"T_b343b_row0_col5\" class=\"data row0 col5\" >0.832203</td>\n                        <td id=\"T_b343b_row0_col6\" class=\"data row0 col6\" >0.169263</td>\n                        <td id=\"T_b343b_row0_col7\" class=\"data row0 col7\" >0.100000</td>\n                        <td id=\"T_b343b_row0_col8\" class=\"data row0 col8\" >0.124161</td>\n            </tr>\n            <tr>\n                        <th id=\"T_b343b_level0_row1\" class=\"row_heading level0 row1\" >Javier Lotus</th>\n                        <td id=\"T_b343b_row1_col0\" class=\"data row1 col0\" >0.682621</td>\n                        <td id=\"T_b343b_row1_col1\" class=\"data row1 col1\" >0.938964</td>\n                        <td id=\"T_b343b_row1_col2\" class=\"data row1 col2\" >0.386700</td>\n                        <td id=\"T_b343b_row1_col3\" class=\"data row1 col3\" >0.901328</td>\n                        <td id=\"T_b343b_row1_col4\" class=\"data row1 col4\" >0.942211</td>\n                        <td id=\"T_b343b_row1_col5\" class=\"data row1 col5\" >0.205027</td>\n                        <td id=\"T_b343b_row1_col6\" class=\"data row1 col6\" >0.884526</td>\n                        <td id=\"T_b343b_row1_col7\" class=\"data row1 col7\" >0.100000</td>\n                        <td id=\"T_b343b_row1_col8\" class=\"data row1 col8\" >0.815592</td>\n            </tr>\n            <tr>\n                        <th id=\"T_b343b_level0_row2\" class=\"row_heading level0 row2\" >August Obrien</th>\n                        <td id=\"T_b343b_row2_col0\" class=\"data row2 col0\" >0.681669</td>\n                        <td id=\"T_b343b_row2_col1\" class=\"data row2 col1\" >0.641217</td>\n                        <td id=\"T_b343b_row2_col2\" class=\"data row2 col2\" >0.927569</td>\n                        <td id=\"T_b343b_row2_col3\" class=\"data row2 col3\" >0.913891</td>\n                        <td id=\"T_b343b_row2_col4\" class=\"data row2 col4\" >0.492708</td>\n                        <td id=\"T_b343b_row2_col5\" class=\"data row2 col5\" >0.923854</td>\n                        <td id=\"T_b343b_row2_col6\" class=\"data row2 col6\" >0.556849</td>\n                        <td id=\"T_b343b_row2_col7\" class=\"data row2 col7\" >0.100000</td>\n                        <td id=\"T_b343b_row2_col8\" class=\"data row2 col8\" >0.463958</td>\n            </tr>\n            <tr>\n                        <th id=\"T_b343b_level0_row3\" class=\"row_heading level0 row3\" >Jefferson Delacruz</th>\n                        <td id=\"T_b343b_row3_col0\" class=\"data row3 col0\" >0.595750</td>\n                        <td id=\"T_b343b_row3_col1\" class=\"data row3 col1\" >0.479940</td>\n                        <td id=\"T_b343b_row3_col2\" class=\"data row3 col2\" >0.643757</td>\n                        <td id=\"T_b343b_row3_col3\" class=\"data row3 col3\" >0.903986</td>\n                        <td id=\"T_b343b_row3_col4\" class=\"data row3 col4\" >0.537770</td>\n                        <td id=\"T_b343b_row3_col5\" class=\"data row3 col5\" >0.503675</td>\n                        <td id=\"T_b343b_row3_col6\" class=\"data row3 col6\" >0.434424</td>\n                        <td id=\"T_b343b_row3_col7\" class=\"data row3 col7\" >0.100000</td>\n                        <td id=\"T_b343b_row3_col8\" class=\"data row3 col8\" >0.671689</td>\n            </tr>\n            <tr>\n                        <th id=\"T_b343b_level0_row4\" class=\"row_heading level0 row4\" >Yusef Puddles</th>\n                        <td id=\"T_b343b_row4_col0\" class=\"data row4 col0\" >0.429562</td>\n                        <td id=\"T_b343b_row4_col1\" class=\"data row4 col1\" >1.033698</td>\n                        <td id=\"T_b343b_row4_col2\" class=\"data row4 col2\" >0.184577</td>\n                        <td id=\"T_b343b_row4_col3\" class=\"data row4 col3\" >0.675196</td>\n                        <td id=\"T_b343b_row4_col4\" class=\"data row4 col4\" >0.151908</td>\n                        <td id=\"T_b343b_row4_col5\" class=\"data row4 col5\" >0.630778</td>\n                        <td id=\"T_b343b_row4_col6\" class=\"data row4 col6\" >0.110821</td>\n                        <td id=\"T_b343b_row4_col7\" class=\"data row4 col7\" >0.057271</td>\n                        <td id=\"T_b343b_row4_col8\" class=\"data row4 col8\" >1.010015</td>\n            </tr>\n    </tbody></table>"
     },
     "execution_count": 13,
     "metadata": {},
     "output_type": "execute_result"
    }
   ],
   "source": [
    "set_heatmap(get_batting_stlats(best_batting_shadows + [worst_batter]), maxVal=1)"
   ],
   "metadata": {
    "collapsed": false,
    "pycharm": {
     "name": "#%%\n"
    }
   }
  },
  {
   "cell_type": "markdown",
   "source": [
    "**Pitching:**"
   ],
   "metadata": {
    "collapsed": false
   }
  },
  {
   "cell_type": "code",
   "execution_count": 14,
   "outputs": [
    {
     "data": {
      "text/plain": "                    Batting  Pitching  Baserunning  Defense\nLucy Tokkan             2.0       3.5          1.0      3.0\nTwofurious Puddles      2.5       3.5          2.0      3.5\nCase Lancaster          0.0       3.5          2.0      3.0\nTiana Takahashi         1.0       3.0          2.5      3.0\nHenry Marshallow        2.0       2.0          1.5      3.5",
      "text/html": "<div>\n<style scoped>\n    .dataframe tbody tr th:only-of-type {\n        vertical-align: middle;\n    }\n\n    .dataframe tbody tr th {\n        vertical-align: top;\n    }\n\n    .dataframe thead th {\n        text-align: right;\n    }\n</style>\n<table border=\"1\" class=\"dataframe\">\n  <thead>\n    <tr style=\"text-align: right;\">\n      <th></th>\n      <th>Batting</th>\n      <th>Pitching</th>\n      <th>Baserunning</th>\n      <th>Defense</th>\n    </tr>\n  </thead>\n  <tbody>\n    <tr>\n      <th>Lucy Tokkan</th>\n      <td>2.0</td>\n      <td>3.5</td>\n      <td>1.0</td>\n      <td>3.0</td>\n    </tr>\n    <tr>\n      <th>Twofurious Puddles</th>\n      <td>2.5</td>\n      <td>3.5</td>\n      <td>2.0</td>\n      <td>3.5</td>\n    </tr>\n    <tr>\n      <th>Case Lancaster</th>\n      <td>0.0</td>\n      <td>3.5</td>\n      <td>2.0</td>\n      <td>3.0</td>\n    </tr>\n    <tr>\n      <th>Tiana Takahashi</th>\n      <td>1.0</td>\n      <td>3.0</td>\n      <td>2.5</td>\n      <td>3.0</td>\n    </tr>\n    <tr>\n      <th>Henry Marshallow</th>\n      <td>2.0</td>\n      <td>2.0</td>\n      <td>1.5</td>\n      <td>3.5</td>\n    </tr>\n  </tbody>\n</table>\n</div>"
     },
     "execution_count": 14,
     "metadata": {},
     "output_type": "execute_result"
    }
   ],
   "source": [
    "shadows.sort(key=lambda x: x.pitching_rating, reverse=True)\n",
    "best_pitching_shadows = shadows[0:4]\n",
    "worst_pitcher = sort_rotation(pies, 1)[0]\n",
    "\n",
    "get_stars(best_pitching_shadows + [worst_pitcher])"
   ],
   "metadata": {
    "collapsed": false,
    "pycharm": {
     "name": "#%%\n"
    }
   }
  },
  {
   "cell_type": "code",
   "execution_count": 15,
   "outputs": [
    {
     "data": {
      "text/plain": "<pandas.io.formats.style.Styler at 0x199348419d0>",
      "text/html": "<style  type=\"text/css\" >\n#T_b6bd9_row0_col0{\n            background-color:  #8ccd67;\n            color:  #000000;\n        }#T_b6bd9_row0_col1{\n            background-color:  #199750;\n            color:  #000000;\n        }#T_b6bd9_row0_col2{\n            background-color:  #016a38;\n            color:  #f1f1f1;\n        }#T_b6bd9_row0_col3{\n            background-color:  #fa9656;\n            color:  #000000;\n        }#T_b6bd9_row0_col4{\n            background-color:  #06733d;\n            color:  #f1f1f1;\n        }#T_b6bd9_row0_col5{\n            background-color:  #ee613e;\n            color:  #000000;\n        }#T_b6bd9_row0_col6{\n            background-color:  #fdb96a;\n            color:  #000000;\n        }#T_b6bd9_row1_col0{\n            background-color:  #a9da6c;\n            color:  #000000;\n        }#T_b6bd9_row1_col1{\n            background-color:  #5db961;\n            color:  #000000;\n        }#T_b6bd9_row1_col2{\n            background-color:  #bfe47a;\n            color:  #000000;\n        }#T_b6bd9_row1_col3{\n            background-color:  #60ba62;\n            color:  #000000;\n        }#T_b6bd9_row1_col4,#T_b6bd9_row3_col3{\n            background-color:  #9bd469;\n            color:  #000000;\n        }#T_b6bd9_row1_col5{\n            background-color:  #fee593;\n            color:  #000000;\n        }#T_b6bd9_row1_col6{\n            background-color:  #96d268;\n            color:  #000000;\n        }#T_b6bd9_row2_col0,#T_b6bd9_row4_col6{\n            background-color:  #bbe278;\n            color:  #000000;\n        }#T_b6bd9_row2_col1{\n            background-color:  #33a456;\n            color:  #000000;\n        }#T_b6bd9_row2_col2{\n            background-color:  #4eb15d;\n            color:  #000000;\n        }#T_b6bd9_row2_col3{\n            background-color:  #f16640;\n            color:  #000000;\n        }#T_b6bd9_row2_col4{\n            background-color:  #51b35e;\n            color:  #000000;\n        }#T_b6bd9_row2_col5{\n            background-color:  #30a356;\n            color:  #000000;\n        }#T_b6bd9_row2_col6{\n            background-color:  #ce2827;\n            color:  #f1f1f1;\n        }#T_b6bd9_row3_col0{\n            background-color:  #cfeb85;\n            color:  #000000;\n        }#T_b6bd9_row3_col1{\n            background-color:  #17934e;\n            color:  #000000;\n        }#T_b6bd9_row3_col2{\n            background-color:  #097940;\n            color:  #f1f1f1;\n        }#T_b6bd9_row3_col4{\n            background-color:  #b30d26;\n            color:  #f1f1f1;\n        }#T_b6bd9_row3_col5{\n            background-color:  #daf08d;\n            color:  #000000;\n        }#T_b6bd9_row3_col6{\n            background-color:  #0d8044;\n            color:  #f1f1f1;\n        }#T_b6bd9_row4_col0{\n            background-color:  #fee999;\n            color:  #000000;\n        }#T_b6bd9_row4_col1{\n            background-color:  #f7814c;\n            color:  #000000;\n        }#T_b6bd9_row4_col2{\n            background-color:  #279f53;\n            color:  #000000;\n        }#T_b6bd9_row4_col3{\n            background-color:  #006837;\n            color:  #f1f1f1;\n        }#T_b6bd9_row4_col4{\n            background-color:  #fffbb8;\n            color:  #000000;\n        }#T_b6bd9_row4_col5{\n            background-color:  #e3f399;\n            color:  #000000;\n        }</style><table id=\"T_b6bd9_\" ><thead>    <tr>        <th class=\"blank level0\" ></th>        <th class=\"col_heading level0 col0\" >Pitching Rating</th>        <th class=\"col_heading level0 col1\" >Unthwackability</th>        <th class=\"col_heading level0 col2\" >Ruthlessness</th>        <th class=\"col_heading level0 col3\" >Overpowerment</th>        <th class=\"col_heading level0 col4\" >Shakespearianism</th>        <th class=\"col_heading level0 col5\" >Coldness</th>        <th class=\"col_heading level0 col6\" >Suppression</th>    </tr></thead><tbody>\n                <tr>\n                        <th id=\"T_b6bd9_level0_row0\" class=\"row_heading level0 row0\" >Lucy Tokkan</th>\n                        <td id=\"T_b6bd9_row0_col0\" class=\"data row0 col0\" >0.741748</td>\n                        <td id=\"T_b6bd9_row0_col1\" class=\"data row0 col1\" >0.901966</td>\n                        <td id=\"T_b6bd9_row0_col2\" class=\"data row0 col2\" >0.995562</td>\n                        <td id=\"T_b6bd9_row0_col3\" class=\"data row0 col3\" >0.263758</td>\n                        <td id=\"T_b6bd9_row0_col4\" class=\"data row0 col4\" >0.973020</td>\n                        <td id=\"T_b6bd9_row0_col5\" class=\"data row0 col5\" >0.180980</td>\n                        <td id=\"T_b6bd9_row0_col6\" class=\"data row0 col6\" >0.321805</td>\n            </tr>\n            <tr>\n                        <th id=\"T_b6bd9_level0_row1\" class=\"row_heading level0 row1\" >Twofurious Puddles</th>\n                        <td id=\"T_b6bd9_row1_col0\" class=\"data row1 col0\" >0.694922</td>\n                        <td id=\"T_b6bd9_row1_col1\" class=\"data row1 col1\" >0.811110</td>\n                        <td id=\"T_b6bd9_row1_col2\" class=\"data row1 col2\" >0.650034</td>\n                        <td id=\"T_b6bd9_row1_col3\" class=\"data row1 col3\" >0.807712</td>\n                        <td id=\"T_b6bd9_row1_col4\" class=\"data row1 col4\" >0.718615</td>\n                        <td id=\"T_b6bd9_row1_col5\" class=\"data row1 col5\" >0.416240</td>\n                        <td id=\"T_b6bd9_row1_col6\" class=\"data row1 col6\" >0.725894</td>\n            </tr>\n            <tr>\n                        <th id=\"T_b6bd9_level0_row2\" class=\"row_heading level0 row2\" >Case Lancaster</th>\n                        <td id=\"T_b6bd9_row2_col0\" class=\"data row2 col0\" >0.658365</td>\n                        <td id=\"T_b6bd9_row2_col1\" class=\"data row2 col1\" >0.867044</td>\n                        <td id=\"T_b6bd9_row2_col2\" class=\"data row2 col2\" >0.829197</td>\n                        <td id=\"T_b6bd9_row2_col3\" class=\"data row2 col3\" >0.190119</td>\n                        <td id=\"T_b6bd9_row2_col4\" class=\"data row2 col4\" >0.825333</td>\n                        <td id=\"T_b6bd9_row2_col5\" class=\"data row2 col5\" >0.868251</td>\n                        <td id=\"T_b6bd9_row2_col6\" class=\"data row2 col6\" >0.082117</td>\n            </tr>\n            <tr>\n                        <th id=\"T_b6bd9_level0_row3\" class=\"row_heading level0 row3\" >Tiana Takahashi</th>\n                        <td id=\"T_b6bd9_row3_col0\" class=\"data row3 col0\" >0.618850</td>\n                        <td id=\"T_b6bd9_row3_col1\" class=\"data row3 col1\" >0.910065</td>\n                        <td id=\"T_b6bd9_row3_col2\" class=\"data row3 col2\" >0.961592</td>\n                        <td id=\"T_b6bd9_row3_col3\" class=\"data row3 col3\" >0.716677</td>\n                        <td id=\"T_b6bd9_row3_col4\" class=\"data row3 col4\" >0.028954</td>\n                        <td id=\"T_b6bd9_row3_col5\" class=\"data row3 col5\" >0.596122</td>\n                        <td id=\"T_b6bd9_row3_col6\" class=\"data row3 col6\" >0.945940</td>\n            </tr>\n            <tr>\n                        <th id=\"T_b6bd9_level0_row4\" class=\"row_heading level0 row4\" >Henry Marshallow</th>\n                        <td id=\"T_b6bd9_row4_col0\" class=\"data row4 col0\" >0.428691</td>\n                        <td id=\"T_b6bd9_row4_col1\" class=\"data row4 col1\" >0.233266</td>\n                        <td id=\"T_b6bd9_row4_col2\" class=\"data row4 col2\" >0.882016</td>\n                        <td id=\"T_b6bd9_row4_col3\" class=\"data row4 col3\" >1.123135</td>\n                        <td id=\"T_b6bd9_row4_col4\" class=\"data row4 col4\" >0.484581</td>\n                        <td id=\"T_b6bd9_row4_col5\" class=\"data row4 col5\" >0.571587</td>\n                        <td id=\"T_b6bd9_row4_col6\" class=\"data row4 col6\" >0.656728</td>\n            </tr>\n    </tbody></table>"
     },
     "execution_count": 15,
     "metadata": {},
     "output_type": "execute_result"
    }
   ],
   "source": [
    "set_heatmap(get_pitching_stlats(best_pitching_shadows + [worst_pitcher]), maxVal=1)"
   ],
   "metadata": {
    "collapsed": false,
    "pycharm": {
     "name": "#%%\n"
    }
   }
  },
  {
   "cell_type": "markdown",
   "metadata": {},
   "source": [
    "### Infuse\n",
    "**Boost a Player on your Team by 15% to 30%.**\n",
    "\n",
    "See below for how this would affect various team members at the 2 extreme percentages. This will only affect one player.\n",
    "\n",
    "**15% Change:**"
   ]
  },
  {
   "cell_type": "code",
   "execution_count": 16,
   "metadata": {
    "pycharm": {
     "name": "#%%\n"
    }
   },
   "outputs": [
    {
     "data": {
      "text/plain": "                 old_batting_stars  new_batting_stars  change_in_batting_stars\nYusef Puddles             2.147811           3.068746                 0.920935\nBeasley Day               2.695709           3.559653                 0.863944\nLang Richardson           2.914378           3.671442                 0.757064\n-od- Preston              3.691847           4.482977                 0.791131\nHuber Frumple             4.007441           4.764912                 0.757471\nEduardo Woodman           4.165300           4.885272                 0.719972\nJaxon Buckley             5.579461           6.233656                 0.654195",
      "text/html": "<div>\n<style scoped>\n    .dataframe tbody tr th:only-of-type {\n        vertical-align: middle;\n    }\n\n    .dataframe tbody tr th {\n        vertical-align: top;\n    }\n\n    .dataframe thead th {\n        text-align: right;\n    }\n</style>\n<table border=\"1\" class=\"dataframe\">\n  <thead>\n    <tr style=\"text-align: right;\">\n      <th></th>\n      <th>old_batting_stars</th>\n      <th>new_batting_stars</th>\n      <th>change_in_batting_stars</th>\n    </tr>\n  </thead>\n  <tbody>\n    <tr>\n      <th>Yusef Puddles</th>\n      <td>2.147811</td>\n      <td>3.068746</td>\n      <td>0.920935</td>\n    </tr>\n    <tr>\n      <th>Beasley Day</th>\n      <td>2.695709</td>\n      <td>3.559653</td>\n      <td>0.863944</td>\n    </tr>\n    <tr>\n      <th>Lang Richardson</th>\n      <td>2.914378</td>\n      <td>3.671442</td>\n      <td>0.757064</td>\n    </tr>\n    <tr>\n      <th>-od- Preston</th>\n      <td>3.691847</td>\n      <td>4.482977</td>\n      <td>0.791131</td>\n    </tr>\n    <tr>\n      <th>Huber Frumple</th>\n      <td>4.007441</td>\n      <td>4.764912</td>\n      <td>0.757471</td>\n    </tr>\n    <tr>\n      <th>Eduardo Woodman</th>\n      <td>4.165300</td>\n      <td>4.885272</td>\n      <td>0.719972</td>\n    </tr>\n    <tr>\n      <th>Jaxon Buckley</th>\n      <td>5.579461</td>\n      <td>6.233656</td>\n      <td>0.654195</td>\n    </tr>\n  </tbody>\n</table>\n</div>"
     },
     "execution_count": 16,
     "metadata": {},
     "output_type": "execute_result"
    }
   ],
   "source": [
    "infuse_lineup_table, _, _ = improve_team_batting_table(pies, 0.15)\n",
    "infuse_lineup_table"
   ]
  },
  {
   "cell_type": "code",
   "execution_count": 17,
   "metadata": {
    "pycharm": {
     "name": "#%%\n"
    }
   },
   "outputs": [
    {
     "data": {
      "text/plain": "<pandas.io.formats.style.Styler at 0x19934858ca0>",
      "text/html": "<style  type=\"text/css\" >\n#T_02c3d_row0_col0{\n            background-color:  #d1ec86;\n            color:  #000000;\n        }#T_02c3d_row0_col1,#T_02c3d_row0_col8,#T_02c3d_row2_col4,#T_02c3d_row3_col1,#T_02c3d_row3_col2,#T_02c3d_row4_col2,#T_02c3d_row4_col3,#T_02c3d_row4_col4,#T_02c3d_row4_col8,#T_02c3d_row5_col1,#T_02c3d_row5_col2,#T_02c3d_row6_col0,#T_02c3d_row6_col1,#T_02c3d_row6_col2,#T_02c3d_row6_col3,#T_02c3d_row6_col4,#T_02c3d_row6_col6,#T_02c3d_row6_col8{\n            background-color:  #006837;\n            color:  #f1f1f1;\n        }#T_02c3d_row0_col2{\n            background-color:  #fdbf6f;\n            color:  #000000;\n        }#T_02c3d_row0_col3{\n            background-color:  #51b35e;\n            color:  #000000;\n        }#T_02c3d_row0_col4{\n            background-color:  #fdaf62;\n            color:  #000000;\n        }#T_02c3d_row0_col5{\n            background-color:  #fffab6;\n            color:  #000000;\n            background-color:  #f8fcb6;\n            color:  #000000;\n        }#T_02c3d_row0_col6{\n            background-color:  #f99355;\n            color:  #000000;\n        }#T_02c3d_row0_col7,#T_02c3d_row1_col7,#T_02c3d_row2_col7,#T_02c3d_row3_col5,#T_02c3d_row3_col7,#T_02c3d_row4_col7,#T_02c3d_row5_col7,#T_02c3d_row6_col5,#T_02c3d_row6_col7{\n            background-color:  #a90426;\n            color:  #f1f1f1;\n            background-color:  #026c39;\n            color:  #f1f1f1;\n        }#T_02c3d_row1_col0{\n            background-color:  #9dd569;\n            color:  #000000;\n        }#T_02c3d_row1_col1,#T_02c3d_row4_col6{\n            background-color:  #4bb05c;\n            color:  #000000;\n        }#T_02c3d_row1_col2{\n            background-color:  #48ae5c;\n            color:  #000000;\n        }#T_02c3d_row1_col3{\n            background-color:  #f67f4b;\n            color:  #000000;\n        }#T_02c3d_row1_col4{\n            background-color:  #feca79;\n            color:  #000000;\n        }#T_02c3d_row1_col5{\n            background-color:  #fdb768;\n            color:  #000000;\n            background-color:  #afdd70;\n            color:  #000000;\n        }#T_02c3d_row1_col6{\n            background-color:  #b3df72;\n            color:  #000000;\n        }#T_02c3d_row1_col8{\n            background-color:  #18954f;\n            color:  #000000;\n        }#T_02c3d_row2_col0{\n            background-color:  #91d068;\n            color:  #000000;\n        }#T_02c3d_row2_col1{\n            background-color:  #148e4b;\n            color:  #000000;\n        }#T_02c3d_row2_col2{\n            background-color:  #feffbe;\n            color:  #000000;\n        }#T_02c3d_row2_col3{\n            background-color:  #a0d669;\n            color:  #000000;\n        }#T_02c3d_row2_col5{\n            background-color:  #d42d27;\n            color:  #f1f1f1;\n            background-color:  #18954f;\n            color:  #000000;\n        }#T_02c3d_row2_col6{\n            background-color:  #e2f397;\n            color:  #000000;\n        }#T_02c3d_row2_col8{\n            background-color:  #c5e67e;\n            color:  #000000;\n        }#T_02c3d_row3_col0{\n            background-color:  #1b9950;\n            color:  #000000;\n        }#T_02c3d_row3_col3{\n            background-color:  #b1de71;\n            color:  #000000;\n        }#T_02c3d_row3_col4{\n            background-color:  #fca85e;\n            color:  #000000;\n        }#T_02c3d_row3_col6{\n            background-color:  #118848;\n            color:  #000000;\n        }#T_02c3d_row3_col8{\n            background-color:  #f67a49;\n            color:  #000000;\n        }#T_02c3d_row4_col0{\n            background-color:  #0c7f43;\n            color:  #f1f1f1;\n        }#T_02c3d_row4_col1{\n            background-color:  #d3ec87;\n            color:  #000000;\n        }#T_02c3d_row4_col5{\n            background-color:  #e65036;\n            color:  #000000;\n            background-color:  #42ac5a;\n            color:  #000000;\n        }#T_02c3d_row5_col0{\n            background-color:  #05713c;\n            color:  #f1f1f1;\n        }#T_02c3d_row5_col3{\n            background-color:  #66bd63;\n            color:  #000000;\n        }#T_02c3d_row5_col4,#T_02c3d_row5_col6{\n            background-color:  #96d268;\n            color:  #000000;\n        }#T_02c3d_row5_col5{\n            background-color:  #feefa3;\n            color:  #000000;\n            background-color:  #ebf7a3;\n            color:  #000000;\n        }#T_02c3d_row5_col8{\n            background-color:  #39a758;\n            color:  #000000;\n        }</style><table id=\"T_02c3d_\" ><thead>    <tr>        <th class=\"blank level0\" ></th>        <th class=\"col_heading level0 col0\" >Batting Rating</th>        <th class=\"col_heading level0 col1\" >Thwackability</th>        <th class=\"col_heading level0 col2\" >Divinity</th>        <th class=\"col_heading level0 col3\" >Musclitude</th>        <th class=\"col_heading level0 col4\" >Moxie</th>        <th class=\"col_heading level0 col5\" >Patheticism</th>        <th class=\"col_heading level0 col6\" >Martyrdom</th>        <th class=\"col_heading level0 col7\" >Tragicness</th>        <th class=\"col_heading level0 col8\" >Buoyancy</th>    </tr></thead><tbody>\n                <tr>\n                        <th id=\"T_02c3d_level0_row0\" class=\"row_heading level0 row0\" >Yusef Puddles</th>\n                        <td id=\"T_02c3d_row0_col0\" class=\"data row0 col0\" >0.613749</td>\n                        <td id=\"T_02c3d_row0_col1\" class=\"data row0 col1\" >1.183698</td>\n                        <td id=\"T_02c3d_row0_col2\" class=\"data row0 col2\" >0.334577</td>\n                        <td id=\"T_02c3d_row0_col3\" class=\"data row0 col3\" >0.825196</td>\n                        <td id=\"T_02c3d_row0_col4\" class=\"data row0 col4\" >0.301908</td>\n                        <td id=\"T_02c3d_row0_col5\" class=\"data row0 col5\" >0.480778</td>\n                        <td id=\"T_02c3d_row0_col6\" class=\"data row0 col6\" >0.260821</td>\n                        <td id=\"T_02c3d_row0_col7\" class=\"data row0 col7\" >0.010000</td>\n                        <td id=\"T_02c3d_row0_col8\" class=\"data row0 col8\" >1.160015</td>\n            </tr>\n            <tr>\n                        <th id=\"T_02c3d_level0_row1\" class=\"row_heading level0 row1\" >Beasley Day</th>\n                        <td id=\"T_02c3d_row1_col0\" class=\"data row1 col0\" >0.711931</td>\n                        <td id=\"T_02c3d_row1_col1\" class=\"data row1 col1\" >0.835000</td>\n                        <td id=\"T_02c3d_row1_col2\" class=\"data row1 col2\" >0.838801</td>\n                        <td id=\"T_02c3d_row1_col3\" class=\"data row1 col3\" >0.227669</td>\n                        <td id=\"T_02c3d_row1_col4\" class=\"data row1 col4\" >0.358479</td>\n                        <td id=\"T_02c3d_row1_col5\" class=\"data row1 col5\" >0.318964</td>\n                        <td id=\"T_02c3d_row1_col6\" class=\"data row1 col6\" >0.673706</td>\n                        <td id=\"T_02c3d_row1_col7\" class=\"data row1 col7\" >0.010000</td>\n                        <td id=\"T_02c3d_row1_col8\" class=\"data row1 col8\" >0.903672</td>\n            </tr>\n            <tr>\n                        <th id=\"T_02c3d_level0_row2\" class=\"row_heading level0 row2\" >Lang Richardson</th>\n                        <td id=\"T_02c3d_row2_col0\" class=\"data row2 col0\" >0.734288</td>\n                        <td id=\"T_02c3d_row2_col1\" class=\"data row2 col1\" >0.920859</td>\n                        <td id=\"T_02c3d_row2_col2\" class=\"data row2 col2\" >0.503631</td>\n                        <td id=\"T_02c3d_row2_col3\" class=\"data row2 col3\" >0.708549</td>\n                        <td id=\"T_02c3d_row2_col4\" class=\"data row2 col4\" >1.028068</td>\n                        <td id=\"T_02c3d_row2_col5\" class=\"data row2 col5\" >0.096647</td>\n                        <td id=\"T_02c3d_row2_col6\" class=\"data row2 col6\" >0.577515</td>\n                        <td id=\"T_02c3d_row2_col7\" class=\"data row2 col7\" >0.010000</td>\n                        <td id=\"T_02c3d_row2_col8\" class=\"data row2 col8\" >0.636870</td>\n            </tr>\n            <tr>\n                        <th id=\"T_02c3d_level0_row3\" class=\"row_heading level0 row3\" >-od- Preston</th>\n                        <td id=\"T_02c3d_row3_col0\" class=\"data row3 col0\" >0.896595</td>\n                        <td id=\"T_02c3d_row3_col1\" class=\"data row3 col1\" >1.009775</td>\n                        <td id=\"T_02c3d_row3_col2\" class=\"data row3 col2\" >1.032217</td>\n                        <td id=\"T_02c3d_row3_col3\" class=\"data row3 col3\" >0.677863</td>\n                        <td id=\"T_02c3d_row3_col4\" class=\"data row3 col4\" >0.291277</td>\n                        <td id=\"T_02c3d_row3_col5\" class=\"data row3 col5\" >0.010000</td>\n                        <td id=\"T_02c3d_row3_col6\" class=\"data row3 col6\" >0.933390</td>\n                        <td id=\"T_02c3d_row3_col7\" class=\"data row3 col7\" >0.010000</td>\n                        <td id=\"T_02c3d_row3_col8\" class=\"data row3 col8\" >0.219496</td>\n            </tr>\n            <tr>\n                        <th id=\"T_02c3d_level0_row4\" class=\"row_heading level0 row4\" >Huber Frumple</th>\n                        <td id=\"T_02c3d_row4_col0\" class=\"data row4 col0\" >0.952982</td>\n                        <td id=\"T_02c3d_row4_col1\" class=\"data row4 col1\" >0.611308</td>\n                        <td id=\"T_02c3d_row4_col2\" class=\"data row4 col2\" >1.358875</td>\n                        <td id=\"T_02c3d_row4_col3\" class=\"data row4 col3\" >1.067125</td>\n                        <td id=\"T_02c3d_row4_col4\" class=\"data row4 col4\" >1.377816</td>\n                        <td id=\"T_02c3d_row4_col5\" class=\"data row4 col5\" >0.154893</td>\n                        <td id=\"T_02c3d_row4_col6\" class=\"data row4 col6\" >0.834028</td>\n                        <td id=\"T_02c3d_row4_col7\" class=\"data row4 col7\" >0.010000</td>\n                        <td id=\"T_02c3d_row4_col8\" class=\"data row4 col8\" >1.242836</td>\n            </tr>\n            <tr>\n                        <th id=\"T_02c3d_level0_row5\" class=\"row_heading level0 row5\" >Eduardo Woodman</th>\n                        <td id=\"T_02c3d_row5_col0\" class=\"data row5 col0\" >0.977054</td>\n                        <td id=\"T_02c3d_row5_col1\" class=\"data row5 col1\" >1.169391</td>\n                        <td id=\"T_02c3d_row5_col2\" class=\"data row5 col2\" >0.996540</td>\n                        <td id=\"T_02c3d_row5_col3\" class=\"data row5 col3\" >0.800666</td>\n                        <td id=\"T_02c3d_row5_col4\" class=\"data row5 col4\" >0.725519</td>\n                        <td id=\"T_02c3d_row5_col5\" class=\"data row5 col5\" >0.445517</td>\n                        <td id=\"T_02c3d_row5_col6\" class=\"data row5 col6\" >0.724554</td>\n                        <td id=\"T_02c3d_row5_col7\" class=\"data row5 col7\" >0.010000</td>\n                        <td id=\"T_02c3d_row5_col8\" class=\"data row5 col8\" >0.855869</td>\n            </tr>\n            <tr>\n                        <th id=\"T_02c3d_level0_row6\" class=\"row_heading level0 row6\" >Jaxon Buckley</th>\n                        <td id=\"T_02c3d_row6_col0\" class=\"data row6 col0\" >1.246731</td>\n                        <td id=\"T_02c3d_row6_col1\" class=\"data row6 col1\" >1.440397</td>\n                        <td id=\"T_02c3d_row6_col2\" class=\"data row6 col2\" >0.997503</td>\n                        <td id=\"T_02c3d_row6_col3\" class=\"data row6 col3\" >1.629805</td>\n                        <td id=\"T_02c3d_row6_col4\" class=\"data row6 col4\" >1.822769</td>\n                        <td id=\"T_02c3d_row6_col5\" class=\"data row6 col5\" >0.010000</td>\n                        <td id=\"T_02c3d_row6_col6\" class=\"data row6 col6\" >1.879523</td>\n                        <td id=\"T_02c3d_row6_col7\" class=\"data row6 col7\" >0.010000</td>\n                        <td id=\"T_02c3d_row6_col8\" class=\"data row6 col8\" >1.296485</td>\n            </tr>\n    </tbody></table>"
     },
     "execution_count": 17,
     "metadata": {},
     "output_type": "execute_result"
    }
   ],
   "source": [
    "set_heatmap(get_batting_stlats(improve_team_batting(pies, 0.15)), maxVal=1.0)"
   ]
  },
  {
   "cell_type": "code",
   "execution_count": 18,
   "metadata": {
    "pycharm": {
     "name": "#%%\n"
    }
   },
   "outputs": [
    {
     "data": {
      "text/plain": "                  old_pitching_stars  new_pitching_stars  \\\nHenry Marshallow            2.143457            3.080575   \nNicholas Mora               2.832423            3.761138   \nDoc Anice                   2.841172            3.734213   \nRuslan Greatness            3.683850            4.551704   \nElvis Figueroa              4.748317            5.651779   \n\n                  change_in_pitching_stars  \nHenry Marshallow                  0.937118  \nNicholas Mora                     0.928715  \nDoc Anice                         0.893041  \nRuslan Greatness                  0.867854  \nElvis Figueroa                    0.903462  ",
      "text/html": "<div>\n<style scoped>\n    .dataframe tbody tr th:only-of-type {\n        vertical-align: middle;\n    }\n\n    .dataframe tbody tr th {\n        vertical-align: top;\n    }\n\n    .dataframe thead th {\n        text-align: right;\n    }\n</style>\n<table border=\"1\" class=\"dataframe\">\n  <thead>\n    <tr style=\"text-align: right;\">\n      <th></th>\n      <th>old_pitching_stars</th>\n      <th>new_pitching_stars</th>\n      <th>change_in_pitching_stars</th>\n    </tr>\n  </thead>\n  <tbody>\n    <tr>\n      <th>Henry Marshallow</th>\n      <td>2.143457</td>\n      <td>3.080575</td>\n      <td>0.937118</td>\n    </tr>\n    <tr>\n      <th>Nicholas Mora</th>\n      <td>2.832423</td>\n      <td>3.761138</td>\n      <td>0.928715</td>\n    </tr>\n    <tr>\n      <th>Doc Anice</th>\n      <td>2.841172</td>\n      <td>3.734213</td>\n      <td>0.893041</td>\n    </tr>\n    <tr>\n      <th>Ruslan Greatness</th>\n      <td>3.683850</td>\n      <td>4.551704</td>\n      <td>0.867854</td>\n    </tr>\n    <tr>\n      <th>Elvis Figueroa</th>\n      <td>4.748317</td>\n      <td>5.651779</td>\n      <td>0.903462</td>\n    </tr>\n  </tbody>\n</table>\n</div>"
     },
     "execution_count": 18,
     "metadata": {},
     "output_type": "execute_result"
    }
   ],
   "source": [
    "infuse_rotation_table, _, _ = improve_team_pitching_table(pies, 0.15)\n",
    "infuse_rotation_table\n"
   ]
  },
  {
   "cell_type": "code",
   "execution_count": 19,
   "metadata": {
    "pycharm": {
     "name": "#%%\n"
    }
   },
   "outputs": [
    {
     "data": {
      "text/plain": "<pandas.io.formats.style.Styler at 0x199332d6160>",
      "text/html": "<style  type=\"text/css\" >\n#T_6ceda_row0_col0{\n            background-color:  #d1ec86;\n            color:  #000000;\n        }#T_6ceda_row0_col1{\n            background-color:  #fed884;\n            color:  #000000;\n        }#T_6ceda_row0_col2,#T_6ceda_row0_col3,#T_6ceda_row1_col1,#T_6ceda_row2_col1,#T_6ceda_row3_col3,#T_6ceda_row3_col4,#T_6ceda_row3_col6,#T_6ceda_row4_col0,#T_6ceda_row4_col1,#T_6ceda_row4_col2,#T_6ceda_row4_col3{\n            background-color:  #006837;\n            color:  #f1f1f1;\n        }#T_6ceda_row0_col4{\n            background-color:  #c7e77f;\n            color:  #000000;\n        }#T_6ceda_row0_col5{\n            background-color:  #98d368;\n            color:  #000000;\n        }#T_6ceda_row0_col6{\n            background-color:  #60ba62;\n            color:  #000000;\n        }#T_6ceda_row1_col0{\n            background-color:  #84ca66;\n            color:  #000000;\n        }#T_6ceda_row1_col2{\n            background-color:  #fffdbc;\n            color:  #000000;\n        }#T_6ceda_row1_col3{\n            background-color:  #a2d76a;\n            color:  #000000;\n        }#T_6ceda_row1_col4{\n            background-color:  #f8fcb6;\n            color:  #000000;\n        }#T_6ceda_row1_col5{\n            background-color:  #c9e881;\n            color:  #000000;\n        }#T_6ceda_row1_col6{\n            background-color:  #e0f295;\n            color:  #000000;\n        }#T_6ceda_row2_col0,#T_6ceda_row2_col5{\n            background-color:  #87cb67;\n            color:  #000000;\n        }#T_6ceda_row2_col2{\n            background-color:  #fbfdba;\n            color:  #000000;\n        }#T_6ceda_row2_col3{\n            background-color:  #036e3a;\n            color:  #f1f1f1;\n        }#T_6ceda_row2_col4{\n            background-color:  #d5ed88;\n            color:  #000000;\n        }#T_6ceda_row2_col6{\n            background-color:  #fcaa5f;\n            color:  #000000;\n        }#T_6ceda_row3_col0{\n            background-color:  #16914d;\n            color:  #000000;\n        }#T_6ceda_row3_col1{\n            background-color:  #42ac5a;\n            color:  #000000;\n        }#T_6ceda_row3_col2{\n            background-color:  #30a356;\n            color:  #000000;\n        }#T_6ceda_row3_col5{\n            background-color:  #8ecf67;\n            color:  #000000;\n        }#T_6ceda_row4_col4{\n            background-color:  #48ae5c;\n            color:  #000000;\n        }#T_6ceda_row4_col5{\n            background-color:  #fff8b4;\n            color:  #000000;\n        }#T_6ceda_row4_col6{\n            background-color:  #89cc67;\n            color:  #000000;\n        }</style><table id=\"T_6ceda_\" ><thead>    <tr>        <th class=\"blank level0\" ></th>        <th class=\"col_heading level0 col0\" >Pitching Rating</th>        <th class=\"col_heading level0 col1\" >Unthwackability</th>        <th class=\"col_heading level0 col2\" >Ruthlessness</th>        <th class=\"col_heading level0 col3\" >Overpowerment</th>        <th class=\"col_heading level0 col4\" >Shakespearianism</th>        <th class=\"col_heading level0 col5\" >Coldness</th>        <th class=\"col_heading level0 col6\" >Suppression</th>    </tr></thead><tbody>\n                <tr>\n                        <th id=\"T_6ceda_level0_row0\" class=\"row_heading level0 row0\" >Henry Marshallow</th>\n                        <td id=\"T_6ceda_row0_col0\" class=\"data row0 col0\" >0.616115</td>\n                        <td id=\"T_6ceda_row0_col1\" class=\"data row0 col1\" >0.383266</td>\n                        <td id=\"T_6ceda_row0_col2\" class=\"data row0 col2\" >1.032016</td>\n                        <td id=\"T_6ceda_row0_col3\" class=\"data row0 col3\" >1.273135</td>\n                        <td id=\"T_6ceda_row0_col4\" class=\"data row0 col4\" >0.634581</td>\n                        <td id=\"T_6ceda_row0_col5\" class=\"data row0 col5\" >0.721587</td>\n                        <td id=\"T_6ceda_row0_col6\" class=\"data row0 col6\" >0.806728</td>\n            </tr>\n            <tr>\n                        <th id=\"T_6ceda_level0_row1\" class=\"row_heading level0 row1\" >Nicholas Mora</th>\n                        <td id=\"T_6ceda_row1_col0\" class=\"data row1 col0\" >0.752228</td>\n                        <td id=\"T_6ceda_row1_col1\" class=\"data row1 col1\" >1.290948</td>\n                        <td id=\"T_6ceda_row1_col2\" class=\"data row1 col2\" >0.493723</td>\n                        <td id=\"T_6ceda_row1_col3\" class=\"data row1 col3\" >0.703609</td>\n                        <td id=\"T_6ceda_row1_col4\" class=\"data row1 col4\" >0.517345</td>\n                        <td id=\"T_6ceda_row1_col5\" class=\"data row1 col5\" >0.632330</td>\n                        <td id=\"T_6ceda_row1_col6\" class=\"data row1 col6\" >0.581032</td>\n            </tr>\n            <tr>\n                        <th id=\"T_6ceda_level0_row2\" class=\"row_heading level0 row2\" >Doc Anice</th>\n                        <td id=\"T_6ceda_row2_col0\" class=\"data row2 col0\" >0.746843</td>\n                        <td id=\"T_6ceda_row2_col1\" class=\"data row2 col1\" >1.078114</td>\n                        <td id=\"T_6ceda_row2_col2\" class=\"data row2 col2\" >0.509045</td>\n                        <td id=\"T_6ceda_row2_col3\" class=\"data row2 col3\" >0.986037</td>\n                        <td id=\"T_6ceda_row2_col4\" class=\"data row2 col4\" >0.606020</td>\n                        <td id=\"T_6ceda_row2_col5\" class=\"data row2 col5\" >0.748965</td>\n                        <td id=\"T_6ceda_row2_col6\" class=\"data row2 col6\" >0.294698</td>\n            </tr>\n            <tr>\n                        <th id=\"T_6ceda_level0_row3\" class=\"row_heading level0 row3\" >Ruslan Greatness</th>\n                        <td id=\"T_6ceda_row3_col0\" class=\"data row3 col0\" >0.910341</td>\n                        <td id=\"T_6ceda_row3_col1\" class=\"data row3 col1\" >0.844663</td>\n                        <td id=\"T_6ceda_row3_col2\" class=\"data row3 col2\" >0.870262</td>\n                        <td id=\"T_6ceda_row3_col3\" class=\"data row3 col3\" >1.340695</td>\n                        <td id=\"T_6ceda_row3_col4\" class=\"data row3 col4\" >1.101602</td>\n                        <td id=\"T_6ceda_row3_col5\" class=\"data row3 col5\" >0.737925</td>\n                        <td id=\"T_6ceda_row3_col6\" class=\"data row3 col6\" >1.521838</td>\n            </tr>\n            <tr>\n                        <th id=\"T_6ceda_level0_row4\" class=\"row_heading level0 row4\" >Elvis Figueroa</th>\n                        <td id=\"T_6ceda_row4_col0\" class=\"data row4 col0\" >1.130356</td>\n                        <td id=\"T_6ceda_row4_col1\" class=\"data row4 col1\" >1.186387</td>\n                        <td id=\"T_6ceda_row4_col2\" class=\"data row4 col2\" >1.165972</td>\n                        <td id=\"T_6ceda_row4_col3\" class=\"data row4 col3\" >1.080460</td>\n                        <td id=\"T_6ceda_row4_col4\" class=\"data row4 col4\" >0.839138</td>\n                        <td id=\"T_6ceda_row4_col5\" class=\"data row4 col5\" >0.478725</td>\n                        <td id=\"T_6ceda_row4_col6\" class=\"data row4 col6\" >0.742661</td>\n            </tr>\n    </tbody></table>"
     },
     "execution_count": 19,
     "metadata": {},
     "output_type": "execute_result"
    }
   ],
   "source": [
    "set_heatmap(get_pitching_stlats(improve_team_pitching(pies, 0.15)), maxVal=1)\n"
   ]
  },
  {
   "cell_type": "markdown",
   "metadata": {
    "pycharm": {
     "name": "#%% md\n"
    }
   },
   "source": [
    "**30% Change:**"
   ]
  },
  {
   "cell_type": "code",
   "execution_count": 20,
   "metadata": {
    "pycharm": {
     "name": "#%%\n"
    }
   },
   "outputs": [
    {
     "data": {
      "text/plain": "                 old_batting_stars  new_batting_stars  change_in_batting_stars\nYusef Puddles             2.147811           3.885398                 1.737587\nBeasley Day               2.695709           4.319837                 1.624128\nLang Richardson           2.914378           4.386193                 1.471815\n-od- Preston              3.691847           5.182973                 1.491126\nHuber Frumple             4.007441           5.493492                 1.486051\nEduardo Woodman           4.165300           5.585918                 1.420618\nJaxon Buckley             5.579461           6.873935                 1.294474",
      "text/html": "<div>\n<style scoped>\n    .dataframe tbody tr th:only-of-type {\n        vertical-align: middle;\n    }\n\n    .dataframe tbody tr th {\n        vertical-align: top;\n    }\n\n    .dataframe thead th {\n        text-align: right;\n    }\n</style>\n<table border=\"1\" class=\"dataframe\">\n  <thead>\n    <tr style=\"text-align: right;\">\n      <th></th>\n      <th>old_batting_stars</th>\n      <th>new_batting_stars</th>\n      <th>change_in_batting_stars</th>\n    </tr>\n  </thead>\n  <tbody>\n    <tr>\n      <th>Yusef Puddles</th>\n      <td>2.147811</td>\n      <td>3.885398</td>\n      <td>1.737587</td>\n    </tr>\n    <tr>\n      <th>Beasley Day</th>\n      <td>2.695709</td>\n      <td>4.319837</td>\n      <td>1.624128</td>\n    </tr>\n    <tr>\n      <th>Lang Richardson</th>\n      <td>2.914378</td>\n      <td>4.386193</td>\n      <td>1.471815</td>\n    </tr>\n    <tr>\n      <th>-od- Preston</th>\n      <td>3.691847</td>\n      <td>5.182973</td>\n      <td>1.491126</td>\n    </tr>\n    <tr>\n      <th>Huber Frumple</th>\n      <td>4.007441</td>\n      <td>5.493492</td>\n      <td>1.486051</td>\n    </tr>\n    <tr>\n      <th>Eduardo Woodman</th>\n      <td>4.165300</td>\n      <td>5.585918</td>\n      <td>1.420618</td>\n    </tr>\n    <tr>\n      <th>Jaxon Buckley</th>\n      <td>5.579461</td>\n      <td>6.873935</td>\n      <td>1.294474</td>\n    </tr>\n  </tbody>\n</table>\n</div>"
     },
     "execution_count": 20,
     "metadata": {},
     "output_type": "execute_result"
    }
   ],
   "source": [
    "infuse_lineup_table, _, _ = improve_team_batting_table(pies, 0.30)\n",
    "infuse_lineup_table"
   ]
  },
  {
   "cell_type": "code",
   "execution_count": 21,
   "metadata": {
    "pycharm": {
     "name": "#%%\n"
    }
   },
   "outputs": [
    {
     "data": {
      "text/plain": "<pandas.io.formats.style.Styler at 0x199348fc520>",
      "text/html": "<style  type=\"text/css\" >\n#T_32b52_row0_col0{\n            background-color:  #75c465;\n            color:  #000000;\n        }#T_32b52_row0_col1,#T_32b52_row0_col8,#T_32b52_row1_col8,#T_32b52_row2_col1,#T_32b52_row2_col4,#T_32b52_row3_col0,#T_32b52_row3_col1,#T_32b52_row3_col2,#T_32b52_row3_col6,#T_32b52_row4_col0,#T_32b52_row4_col2,#T_32b52_row4_col3,#T_32b52_row4_col4,#T_32b52_row4_col8,#T_32b52_row5_col0,#T_32b52_row5_col1,#T_32b52_row5_col2,#T_32b52_row5_col8,#T_32b52_row6_col0,#T_32b52_row6_col1,#T_32b52_row6_col2,#T_32b52_row6_col3,#T_32b52_row6_col4,#T_32b52_row6_col6,#T_32b52_row6_col8{\n            background-color:  #006837;\n            color:  #f1f1f1;\n        }#T_32b52_row0_col2{\n            background-color:  #fffbb8;\n            color:  #000000;\n        }#T_32b52_row0_col3{\n            background-color:  #06733d;\n            color:  #f1f1f1;\n        }#T_32b52_row0_col4{\n            background-color:  #fff0a6;\n            color:  #000000;\n        }#T_32b52_row0_col5{\n            background-color:  #fdbd6d;\n            color:  #000000;\n            background-color:  #b5df74;\n            color:  #000000;\n        }#T_32b52_row0_col6{\n            background-color:  #fee491;\n            color:  #000000;\n        }#T_32b52_row0_col7,#T_32b52_row1_col7,#T_32b52_row2_col5,#T_32b52_row2_col7,#T_32b52_row3_col5,#T_32b52_row3_col7,#T_32b52_row4_col5,#T_32b52_row4_col7,#T_32b52_row5_col7,#T_32b52_row6_col5,#T_32b52_row6_col7{\n            background-color:  #a90426;\n            color:  #f1f1f1;\n            background-color:  #026c39;\n            color:  #f1f1f1;\n        }#T_32b52_row1_col0{\n            background-color:  #33a456;\n            color:  #000000;\n        }#T_32b52_row1_col1{\n            background-color:  #036e3a;\n            color:  #f1f1f1;\n        }#T_32b52_row1_col2{\n            background-color:  #026c39;\n            color:  #f1f1f1;\n        }#T_32b52_row1_col3{\n            background-color:  #fed481;\n            color:  #000000;\n        }#T_32b52_row1_col4{\n            background-color:  #fbfdba;\n            color:  #000000;\n        }#T_32b52_row1_col5{\n            background-color:  #eb5a3a;\n            color:  #000000;\n            background-color:  #4eb15d;\n            color:  #000000;\n        }#T_32b52_row1_col6{\n            background-color:  #54b45f;\n            color:  #000000;\n        }#T_32b52_row2_col0,#T_32b52_row5_col4{\n            background-color:  #2aa054;\n            color:  #000000;\n        }#T_32b52_row2_col2{\n            background-color:  #bde379;\n            color:  #000000;\n        }#T_32b52_row2_col3{\n            background-color:  #39a758;\n            color:  #000000;\n        }#T_32b52_row2_col6{\n            background-color:  #93d168;\n            color:  #000000;\n        }#T_32b52_row2_col8{\n            background-color:  #6ec064;\n            color:  #000000;\n        }#T_32b52_row3_col3{\n            background-color:  #51b35e;\n            color:  #000000;\n        }#T_32b52_row3_col4{\n            background-color:  #feec9f;\n            color:  #000000;\n        }#T_32b52_row3_col8{\n            background-color:  #fed07e;\n            color:  #000000;\n        }#T_32b52_row4_col1{\n            background-color:  #7fc866;\n            color:  #000000;\n        }#T_32b52_row4_col6{\n            background-color:  #04703b;\n            color:  #f1f1f1;\n        }#T_32b52_row5_col3{\n            background-color:  #0c7f43;\n            color:  #f1f1f1;\n        }#T_32b52_row5_col5{\n            background-color:  #fcaa5f;\n            color:  #000000;\n            background-color:  #a2d76a;\n            color:  #000000;\n        }#T_32b52_row5_col6{\n            background-color:  #2da155;\n            color:  #000000;\n        }</style><table id=\"T_32b52_\" ><thead>    <tr>        <th class=\"blank level0\" ></th>        <th class=\"col_heading level0 col0\" >Batting Rating</th>        <th class=\"col_heading level0 col1\" >Thwackability</th>        <th class=\"col_heading level0 col2\" >Divinity</th>        <th class=\"col_heading level0 col3\" >Musclitude</th>        <th class=\"col_heading level0 col4\" >Moxie</th>        <th class=\"col_heading level0 col5\" >Patheticism</th>        <th class=\"col_heading level0 col6\" >Martyrdom</th>        <th class=\"col_heading level0 col7\" >Tragicness</th>        <th class=\"col_heading level0 col8\" >Buoyancy</th>    </tr></thead><tbody>\n                <tr>\n                        <th id=\"T_32b52_level0_row0\" class=\"row_heading level0 row0\" >Yusef Puddles</th>\n                        <td id=\"T_32b52_row0_col0\" class=\"data row0 col0\" >0.777080</td>\n                        <td id=\"T_32b52_row0_col1\" class=\"data row0 col1\" >1.333698</td>\n                        <td id=\"T_32b52_row0_col2\" class=\"data row0 col2\" >0.484577</td>\n                        <td id=\"T_32b52_row0_col3\" class=\"data row0 col3\" >0.975196</td>\n                        <td id=\"T_32b52_row0_col4\" class=\"data row0 col4\" >0.451908</td>\n                        <td id=\"T_32b52_row0_col5\" class=\"data row0 col5\" >0.330778</td>\n                        <td id=\"T_32b52_row0_col6\" class=\"data row0 col6\" >0.410821</td>\n                        <td id=\"T_32b52_row0_col7\" class=\"data row0 col7\" >0.010000</td>\n                        <td id=\"T_32b52_row0_col8\" class=\"data row0 col8\" >1.310015</td>\n            </tr>\n            <tr>\n                        <th id=\"T_32b52_level0_row1\" class=\"row_heading level0 row1\" >Beasley Day</th>\n                        <td id=\"T_32b52_row1_col0\" class=\"data row1 col0\" >0.863967</td>\n                        <td id=\"T_32b52_row1_col1\" class=\"data row1 col1\" >0.985000</td>\n                        <td id=\"T_32b52_row1_col2\" class=\"data row1 col2\" >0.988801</td>\n                        <td id=\"T_32b52_row1_col3\" class=\"data row1 col3\" >0.377669</td>\n                        <td id=\"T_32b52_row1_col4\" class=\"data row1 col4\" >0.508479</td>\n                        <td id=\"T_32b52_row1_col5\" class=\"data row1 col5\" >0.168964</td>\n                        <td id=\"T_32b52_row1_col6\" class=\"data row1 col6\" >0.823706</td>\n                        <td id=\"T_32b52_row1_col7\" class=\"data row1 col7\" >0.010000</td>\n                        <td id=\"T_32b52_row1_col8\" class=\"data row1 col8\" >1.053672</td>\n            </tr>\n            <tr>\n                        <th id=\"T_32b52_level0_row2\" class=\"row_heading level0 row2\" >Lang Richardson</th>\n                        <td id=\"T_32b52_row2_col0\" class=\"data row2 col0\" >0.877239</td>\n                        <td id=\"T_32b52_row2_col1\" class=\"data row2 col1\" >1.070859</td>\n                        <td id=\"T_32b52_row2_col2\" class=\"data row2 col2\" >0.653631</td>\n                        <td id=\"T_32b52_row2_col3\" class=\"data row2 col3\" >0.858549</td>\n                        <td id=\"T_32b52_row2_col4\" class=\"data row2 col4\" >1.178068</td>\n                        <td id=\"T_32b52_row2_col5\" class=\"data row2 col5\" >0.010000</td>\n                        <td id=\"T_32b52_row2_col6\" class=\"data row2 col6\" >0.727515</td>\n                        <td id=\"T_32b52_row2_col7\" class=\"data row2 col7\" >0.010000</td>\n                        <td id=\"T_32b52_row2_col8\" class=\"data row2 col8\" >0.786870</td>\n            </tr>\n            <tr>\n                        <th id=\"T_32b52_level0_row3\" class=\"row_heading level0 row3\" >-od- Preston</th>\n                        <td id=\"T_32b52_row3_col0\" class=\"data row3 col0\" >1.036595</td>\n                        <td id=\"T_32b52_row3_col1\" class=\"data row3 col1\" >1.159775</td>\n                        <td id=\"T_32b52_row3_col2\" class=\"data row3 col2\" >1.182217</td>\n                        <td id=\"T_32b52_row3_col3\" class=\"data row3 col3\" >0.827863</td>\n                        <td id=\"T_32b52_row3_col4\" class=\"data row3 col4\" >0.441277</td>\n                        <td id=\"T_32b52_row3_col5\" class=\"data row3 col5\" >0.010000</td>\n                        <td id=\"T_32b52_row3_col6\" class=\"data row3 col6\" >1.083390</td>\n                        <td id=\"T_32b52_row3_col7\" class=\"data row3 col7\" >0.010000</td>\n                        <td id=\"T_32b52_row3_col8\" class=\"data row3 col8\" >0.369496</td>\n            </tr>\n            <tr>\n                        <th id=\"T_32b52_level0_row4\" class=\"row_heading level0 row4\" >Huber Frumple</th>\n                        <td id=\"T_32b52_row4_col0\" class=\"data row4 col0\" >1.098698</td>\n                        <td id=\"T_32b52_row4_col1\" class=\"data row4 col1\" >0.761308</td>\n                        <td id=\"T_32b52_row4_col2\" class=\"data row4 col2\" >1.508875</td>\n                        <td id=\"T_32b52_row4_col3\" class=\"data row4 col3\" >1.217125</td>\n                        <td id=\"T_32b52_row4_col4\" class=\"data row4 col4\" >1.527816</td>\n                        <td id=\"T_32b52_row4_col5\" class=\"data row4 col5\" >0.010000</td>\n                        <td id=\"T_32b52_row4_col6\" class=\"data row4 col6\" >0.984028</td>\n                        <td id=\"T_32b52_row4_col7\" class=\"data row4 col7\" >0.010000</td>\n                        <td id=\"T_32b52_row4_col8\" class=\"data row4 col8\" >1.392836</td>\n            </tr>\n            <tr>\n                        <th id=\"T_32b52_level0_row5\" class=\"row_heading level0 row5\" >Eduardo Woodman</th>\n                        <td id=\"T_32b52_row5_col0\" class=\"data row5 col0\" >1.117184</td>\n                        <td id=\"T_32b52_row5_col1\" class=\"data row5 col1\" >1.319391</td>\n                        <td id=\"T_32b52_row5_col2\" class=\"data row5 col2\" >1.146540</td>\n                        <td id=\"T_32b52_row5_col3\" class=\"data row5 col3\" >0.950666</td>\n                        <td id=\"T_32b52_row5_col4\" class=\"data row5 col4\" >0.875519</td>\n                        <td id=\"T_32b52_row5_col5\" class=\"data row5 col5\" >0.295517</td>\n                        <td id=\"T_32b52_row5_col6\" class=\"data row5 col6\" >0.874554</td>\n                        <td id=\"T_32b52_row5_col7\" class=\"data row5 col7\" >0.010000</td>\n                        <td id=\"T_32b52_row5_col8\" class=\"data row5 col8\" >1.005869</td>\n            </tr>\n            <tr>\n                        <th id=\"T_32b52_level0_row6\" class=\"row_heading level0 row6\" >Jaxon Buckley</th>\n                        <td id=\"T_32b52_row6_col0\" class=\"data row6 col0\" >1.374787</td>\n                        <td id=\"T_32b52_row6_col1\" class=\"data row6 col1\" >1.590397</td>\n                        <td id=\"T_32b52_row6_col2\" class=\"data row6 col2\" >1.147503</td>\n                        <td id=\"T_32b52_row6_col3\" class=\"data row6 col3\" >1.779805</td>\n                        <td id=\"T_32b52_row6_col4\" class=\"data row6 col4\" >1.972769</td>\n                        <td id=\"T_32b52_row6_col5\" class=\"data row6 col5\" >0.010000</td>\n                        <td id=\"T_32b52_row6_col6\" class=\"data row6 col6\" >2.029523</td>\n                        <td id=\"T_32b52_row6_col7\" class=\"data row6 col7\" >0.010000</td>\n                        <td id=\"T_32b52_row6_col8\" class=\"data row6 col8\" >1.446485</td>\n            </tr>\n    </tbody></table>"
     },
     "execution_count": 21,
     "metadata": {},
     "output_type": "execute_result"
    }
   ],
   "source": [
    "set_heatmap(get_batting_stlats(improve_team_batting(pies, 0.30)), maxVal=1)"
   ]
  },
  {
   "cell_type": "code",
   "execution_count": 22,
   "metadata": {
    "pycharm": {
     "name": "#%%\n"
    }
   },
   "outputs": [
    {
     "data": {
      "text/plain": "                  old_pitching_stars  new_pitching_stars  \\\nHenry Marshallow            2.143457            4.003592   \nNicholas Mora               2.832423            4.690645   \nDoc Anice                   2.841172            4.636189   \nRuslan Greatness            3.683850            5.441981   \nElvis Figueroa              4.748317            6.571009   \n\n                  change_in_pitching_stars  \nHenry Marshallow                  1.860134  \nNicholas Mora                     1.858222  \nDoc Anice                         1.795017  \nRuslan Greatness                  1.758131  \nElvis Figueroa                    1.822692  ",
      "text/html": "<div>\n<style scoped>\n    .dataframe tbody tr th:only-of-type {\n        vertical-align: middle;\n    }\n\n    .dataframe tbody tr th {\n        vertical-align: top;\n    }\n\n    .dataframe thead th {\n        text-align: right;\n    }\n</style>\n<table border=\"1\" class=\"dataframe\">\n  <thead>\n    <tr style=\"text-align: right;\">\n      <th></th>\n      <th>old_pitching_stars</th>\n      <th>new_pitching_stars</th>\n      <th>change_in_pitching_stars</th>\n    </tr>\n  </thead>\n  <tbody>\n    <tr>\n      <th>Henry Marshallow</th>\n      <td>2.143457</td>\n      <td>4.003592</td>\n      <td>1.860134</td>\n    </tr>\n    <tr>\n      <th>Nicholas Mora</th>\n      <td>2.832423</td>\n      <td>4.690645</td>\n      <td>1.858222</td>\n    </tr>\n    <tr>\n      <th>Doc Anice</th>\n      <td>2.841172</td>\n      <td>4.636189</td>\n      <td>1.795017</td>\n    </tr>\n    <tr>\n      <th>Ruslan Greatness</th>\n      <td>3.683850</td>\n      <td>5.441981</td>\n      <td>1.758131</td>\n    </tr>\n    <tr>\n      <th>Elvis Figueroa</th>\n      <td>4.748317</td>\n      <td>6.571009</td>\n      <td>1.822692</td>\n    </tr>\n  </tbody>\n</table>\n</div>"
     },
     "execution_count": 22,
     "metadata": {},
     "output_type": "execute_result"
    }
   ],
   "source": [
    "infuse_rotation_table, _, _ = improve_team_pitching_table(pies, 0.30)\n",
    "infuse_rotation_table\n"
   ]
  },
  {
   "cell_type": "code",
   "execution_count": 23,
   "metadata": {
    "pycharm": {
     "name": "#%%\n"
    }
   },
   "outputs": [
    {
     "data": {
      "text/plain": "<pandas.io.formats.style.Styler at 0x19934901a90>",
      "text/html": "<style  type=\"text/css\" >\n#T_b8fb2_row0_col0{\n            background-color:  #66bd63;\n            color:  #000000;\n        }#T_b8fb2_row0_col1{\n            background-color:  #f2faae;\n            color:  #000000;\n        }#T_b8fb2_row0_col2,#T_b8fb2_row0_col3,#T_b8fb2_row1_col1,#T_b8fb2_row2_col1,#T_b8fb2_row2_col3,#T_b8fb2_row3_col0,#T_b8fb2_row3_col2,#T_b8fb2_row3_col3,#T_b8fb2_row3_col4,#T_b8fb2_row3_col6,#T_b8fb2_row4_col0,#T_b8fb2_row4_col1,#T_b8fb2_row4_col2,#T_b8fb2_row4_col3{\n            background-color:  #006837;\n            color:  #f1f1f1;\n        }#T_b8fb2_row0_col4,#T_b8fb2_row1_col5{\n            background-color:  #70c164;\n            color:  #000000;\n        }#T_b8fb2_row0_col5{\n            background-color:  #2da155;\n            color:  #000000;\n        }#T_b8fb2_row0_col6{\n            background-color:  #0b7d42;\n            color:  #f1f1f1;\n        }#T_b8fb2_row1_col0{\n            background-color:  #0f8446;\n            color:  #f1f1f1;\n        }#T_b8fb2_row1_col2{\n            background-color:  #c3e67d;\n            color:  #000000;\n        }#T_b8fb2_row1_col3{\n            background-color:  #3ca959;\n            color:  #000000;\n        }#T_b8fb2_row1_col4{\n            background-color:  #b7e075;\n            color:  #000000;\n        }#T_b8fb2_row1_col6{\n            background-color:  #91d068;\n            color:  #000000;\n        }#T_b8fb2_row2_col0{\n            background-color:  #128a49;\n            color:  #000000;\n        }#T_b8fb2_row2_col2{\n            background-color:  #bbe278;\n            color:  #000000;\n        }#T_b8fb2_row2_col4{\n            background-color:  #82c966;\n            color:  #000000;\n        }#T_b8fb2_row2_col5{\n            background-color:  #199750;\n            color:  #000000;\n        }#T_b8fb2_row2_col6{\n            background-color:  #feeda1;\n            color:  #000000;\n        }#T_b8fb2_row3_col1{\n            background-color:  #016a38;\n            color:  #f1f1f1;\n        }#T_b8fb2_row3_col5{\n            background-color:  #219c52;\n            color:  #000000;\n        }#T_b8fb2_row4_col4{\n            background-color:  #026c39;\n            color:  #f1f1f1;\n        }#T_b8fb2_row4_col5{\n            background-color:  #cbe982;\n            color:  #000000;\n        }#T_b8fb2_row4_col6{\n            background-color:  #1e9a51;\n            color:  #000000;\n        }</style><table id=\"T_b8fb2_\" ><thead>    <tr>        <th class=\"blank level0\" ></th>        <th class=\"col_heading level0 col0\" >Pitching Rating</th>        <th class=\"col_heading level0 col1\" >Unthwackability</th>        <th class=\"col_heading level0 col2\" >Ruthlessness</th>        <th class=\"col_heading level0 col3\" >Overpowerment</th>        <th class=\"col_heading level0 col4\" >Shakespearianism</th>        <th class=\"col_heading level0 col5\" >Coldness</th>        <th class=\"col_heading level0 col6\" >Suppression</th>    </tr></thead><tbody>\n                <tr>\n                        <th id=\"T_b8fb2_level0_row0\" class=\"row_heading level0 row0\" >Henry Marshallow</th>\n                        <td id=\"T_b8fb2_row0_col0\" class=\"data row0 col0\" >0.800718</td>\n                        <td id=\"T_b8fb2_row0_col1\" class=\"data row0 col1\" >0.533266</td>\n                        <td id=\"T_b8fb2_row0_col2\" class=\"data row0 col2\" >1.182016</td>\n                        <td id=\"T_b8fb2_row0_col3\" class=\"data row0 col3\" >1.423135</td>\n                        <td id=\"T_b8fb2_row0_col4\" class=\"data row0 col4\" >0.784581</td>\n                        <td id=\"T_b8fb2_row0_col5\" class=\"data row0 col5\" >0.871587</td>\n                        <td id=\"T_b8fb2_row0_col6\" class=\"data row0 col6\" >0.956728</td>\n            </tr>\n            <tr>\n                        <th id=\"T_b8fb2_level0_row1\" class=\"row_heading level0 row1\" >Nicholas Mora</th>\n                        <td id=\"T_b8fb2_row1_col0\" class=\"data row1 col0\" >0.938129</td>\n                        <td id=\"T_b8fb2_row1_col1\" class=\"data row1 col1\" >1.440948</td>\n                        <td id=\"T_b8fb2_row1_col2\" class=\"data row1 col2\" >0.643723</td>\n                        <td id=\"T_b8fb2_row1_col3\" class=\"data row1 col3\" >0.853609</td>\n                        <td id=\"T_b8fb2_row1_col4\" class=\"data row1 col4\" >0.667345</td>\n                        <td id=\"T_b8fb2_row1_col5\" class=\"data row1 col5\" >0.782330</td>\n                        <td id=\"T_b8fb2_row1_col6\" class=\"data row1 col6\" >0.731032</td>\n            </tr>\n            <tr>\n                        <th id=\"T_b8fb2_level0_row2\" class=\"row_heading level0 row2\" >Doc Anice</th>\n                        <td id=\"T_b8fb2_row2_col0\" class=\"data row2 col0\" >0.927238</td>\n                        <td id=\"T_b8fb2_row2_col1\" class=\"data row2 col1\" >1.228114</td>\n                        <td id=\"T_b8fb2_row2_col2\" class=\"data row2 col2\" >0.659045</td>\n                        <td id=\"T_b8fb2_row2_col3\" class=\"data row2 col3\" >1.136037</td>\n                        <td id=\"T_b8fb2_row2_col4\" class=\"data row2 col4\" >0.756020</td>\n                        <td id=\"T_b8fb2_row2_col5\" class=\"data row2 col5\" >0.898965</td>\n                        <td id=\"T_b8fb2_row2_col6\" class=\"data row2 col6\" >0.444698</td>\n            </tr>\n            <tr>\n                        <th id=\"T_b8fb2_level0_row3\" class=\"row_heading level0 row3\" >Ruslan Greatness</th>\n                        <td id=\"T_b8fb2_row3_col0\" class=\"data row3 col0\" >1.088396</td>\n                        <td id=\"T_b8fb2_row3_col1\" class=\"data row3 col1\" >0.994663</td>\n                        <td id=\"T_b8fb2_row3_col2\" class=\"data row3 col2\" >1.020262</td>\n                        <td id=\"T_b8fb2_row3_col3\" class=\"data row3 col3\" >1.490695</td>\n                        <td id=\"T_b8fb2_row3_col4\" class=\"data row3 col4\" >1.251602</td>\n                        <td id=\"T_b8fb2_row3_col5\" class=\"data row3 col5\" >0.887925</td>\n                        <td id=\"T_b8fb2_row3_col6\" class=\"data row3 col6\" >1.671838</td>\n            </tr>\n            <tr>\n                        <th id=\"T_b8fb2_level0_row4\" class=\"row_heading level0 row4\" >Elvis Figueroa</th>\n                        <td id=\"T_b8fb2_row4_col0\" class=\"data row4 col0\" >1.314202</td>\n                        <td id=\"T_b8fb2_row4_col1\" class=\"data row4 col1\" >1.336387</td>\n                        <td id=\"T_b8fb2_row4_col2\" class=\"data row4 col2\" >1.315972</td>\n                        <td id=\"T_b8fb2_row4_col3\" class=\"data row4 col3\" >1.230460</td>\n                        <td id=\"T_b8fb2_row4_col4\" class=\"data row4 col4\" >0.989138</td>\n                        <td id=\"T_b8fb2_row4_col5\" class=\"data row4 col5\" >0.628725</td>\n                        <td id=\"T_b8fb2_row4_col6\" class=\"data row4 col6\" >0.892661</td>\n            </tr>\n    </tbody></table>"
     },
     "execution_count": 23,
     "metadata": {},
     "output_type": "execute_result"
    }
   ],
   "source": [
    "set_heatmap(get_pitching_stlats(improve_team_pitching(pies, 0.30)), maxVal=1)"
   ]
  },
  {
   "cell_type": "markdown",
   "metadata": {},
   "source": [
    "### Trust\n",
    "**Receive a mystery Benefit for one of your Teams' Players.**\n",
    "\n",
    "The Benifit here is unknown. It is likely either a stat increase or an unknown Modification."
   ]
  },
  {
   "cell_type": "markdown",
   "metadata": {},
   "source": [
    "### Alternate\n",
    "**Call in an Alternate for a Player on your Team.**\n",
    "\n",
    "Alternates are when players stats are randomized. Below shows the change in Team Average Stars from rerolling our worst\n",
    "player, assuming they would be replaced with the Statistically Average player."
   ]
  },
  {
   "cell_type": "code",
   "execution_count": 24,
   "metadata": {
    "pycharm": {
     "name": "#%%\n"
    }
   },
   "outputs": [
    {
     "name": "stdout",
     "output_type": "stream",
     "text": [
      "Rerolling Henry Marshallow\n"
     ]
    },
    {
     "data": {
      "text/plain": "                        Pies\nbatting_change      +0.0000%\npitching_change     -2.5738%\nbaserunning_change  +0.0000%\ndefense_change      +0.0000%",
      "text/html": "<div>\n<style scoped>\n    .dataframe tbody tr th:only-of-type {\n        vertical-align: middle;\n    }\n\n    .dataframe tbody tr th {\n        vertical-align: top;\n    }\n\n    .dataframe thead th {\n        text-align: right;\n    }\n</style>\n<table border=\"1\" class=\"dataframe\">\n  <thead>\n    <tr style=\"text-align: right;\">\n      <th></th>\n      <th>Pies</th>\n    </tr>\n  </thead>\n  <tbody>\n    <tr>\n      <th>batting_change</th>\n      <td>+0.0000%</td>\n    </tr>\n    <tr>\n      <th>pitching_change</th>\n      <td>-2.5738%</td>\n    </tr>\n    <tr>\n      <th>baserunning_change</th>\n      <td>+0.0000%</td>\n    </tr>\n    <tr>\n      <th>defense_change</th>\n      <td>+0.0000%</td>\n    </tr>\n  </tbody>\n</table>\n</div>"
     },
     "execution_count": 24,
     "metadata": {},
     "output_type": "execute_result"
    }
   ],
   "source": [
    "worst_pie = sort_overall(pies, 1)[0]\n",
    "\n",
    "print(f\"Rerolling {worst_pie.name}\")\n",
    "if worst_pie in pies.rotation:\n",
    "    out = replace_player(pies, worst_pie, pitch_star=NEW_PLAYER[\"pitching\"])\n",
    "else:\n",
    "    out = replace_player(pies, worst_pie, bat_star=NEW_PLAYER[\"batting\"], run_star=NEW_PLAYER[\"baserunning\"], def_star=NEW_PLAYER[\"defense\"])\n",
    "pandas.DataFrame(out)"
   ]
  },
  {
   "cell_type": "markdown",
   "metadata": {},
   "source": [
    "### Revoke\n",
    "**Revoke a Player from your roster.**\n",
    "\n",
    "Revoking will cause the player to change teams, potentially every season. This will cause our other players to play more\n",
    "often, increasing our average team performance if we chose the worst player. See below for analysis of removing our\n",
    "worst Batter or Pitcher.\n",
    "\n",
    "**Batting:**"
   ]
  },
  {
   "cell_type": "code",
   "execution_count": 25,
   "metadata": {
    "pycharm": {
     "name": "#%%\n"
    }
   },
   "outputs": [
    {
     "name": "stdout",
     "output_type": "stream",
     "text": [
      "Removing Yusef Puddles\n"
     ]
    },
    {
     "data": {
      "text/plain": "                        Pies\nbatting_change      +4.8416%\npitching_change     +0.0000%\nbaserunning_change  +1.6607%\ndefense_change      -2.7701%",
      "text/html": "<div>\n<style scoped>\n    .dataframe tbody tr th:only-of-type {\n        vertical-align: middle;\n    }\n\n    .dataframe tbody tr th {\n        vertical-align: top;\n    }\n\n    .dataframe thead th {\n        text-align: right;\n    }\n</style>\n<table border=\"1\" class=\"dataframe\">\n  <thead>\n    <tr style=\"text-align: right;\">\n      <th></th>\n      <th>Pies</th>\n    </tr>\n  </thead>\n  <tbody>\n    <tr>\n      <th>batting_change</th>\n      <td>+4.8416%</td>\n    </tr>\n    <tr>\n      <th>pitching_change</th>\n      <td>+0.0000%</td>\n    </tr>\n    <tr>\n      <th>baserunning_change</th>\n      <td>+1.6607%</td>\n    </tr>\n    <tr>\n      <th>defense_change</th>\n      <td>-2.7701%</td>\n    </tr>\n  </tbody>\n</table>\n</div>"
     },
     "execution_count": 25,
     "metadata": {},
     "output_type": "execute_result"
    }
   ],
   "source": [
    "print(f'Removing {worst_batter.name}')\n",
    "pandas.DataFrame(remove_player(pies, worst_batter))"
   ]
  },
  {
   "cell_type": "markdown",
   "source": [
    "**Pitching:**"
   ],
   "metadata": {
    "collapsed": false,
    "pycharm": {
     "name": "#%% md\n"
    }
   }
  },
  {
   "cell_type": "code",
   "execution_count": 26,
   "outputs": [
    {
     "name": "stdout",
     "output_type": "stream",
     "text": [
      "Removing Henry Marshallow\n"
     ]
    },
    {
     "data": {
      "text/plain": "                        Pies\nbatting_change      +0.0000%\npitching_change     +5.5319%\nbaserunning_change  +0.0000%\ndefense_change      +0.0000%",
      "text/html": "<div>\n<style scoped>\n    .dataframe tbody tr th:only-of-type {\n        vertical-align: middle;\n    }\n\n    .dataframe tbody tr th {\n        vertical-align: top;\n    }\n\n    .dataframe thead th {\n        text-align: right;\n    }\n</style>\n<table border=\"1\" class=\"dataframe\">\n  <thead>\n    <tr style=\"text-align: right;\">\n      <th></th>\n      <th>Pies</th>\n    </tr>\n  </thead>\n  <tbody>\n    <tr>\n      <th>batting_change</th>\n      <td>+0.0000%</td>\n    </tr>\n    <tr>\n      <th>pitching_change</th>\n      <td>+5.5319%</td>\n    </tr>\n    <tr>\n      <th>baserunning_change</th>\n      <td>+0.0000%</td>\n    </tr>\n    <tr>\n      <th>defense_change</th>\n      <td>+0.0000%</td>\n    </tr>\n  </tbody>\n</table>\n</div>"
     },
     "execution_count": 26,
     "metadata": {},
     "output_type": "execute_result"
    }
   ],
   "source": [
    "print(f'Removing {worst_pitcher.name}')\n",
    "pandas.DataFrame(remove_player(pies, worst_pitcher))\n"
   ],
   "metadata": {
    "collapsed": false,
    "pycharm": {
     "name": "#%%\n"
    }
   }
  },
  {
   "cell_type": "markdown",
   "metadata": {},
   "source": [
    "### Enrich\n",
    "**Pick a modification for your Team next season.**\n",
    "\n",
    "This will gives the option of choosing between\n",
    "* The Fourth Strike: Those with the Fourth Strike will get an extra strike in each at bat.\n",
    "* Shame Donor: A Team or Player who adds Unruns to a Shamed opponents' future pile.\n",
    "* Earlybirds: This team will Overperform in the Earlseason.\n",
    "* Late to the Party: This team will Overperform in the Lateseason.\n",
    "\n",
    "Seasonal Modifications have been mixed in the past. For Fourth Strike Analysis, see the appropriate\n",
    "[SIBR Paper](https://research.blaseball-reference.com/Fourth_Strike.pdf). Earlybirds or Late to the Party would be\n",
    "roughly equivelant to a 5% boost overall."
   ]
  },
  {
   "cell_type": "markdown",
   "metadata": {},
   "source": [
    "___\n",
    "## Blessings\n",
    "\n",
    "Blessings are selected by raffle across all teams. Each blessing will be awarded to a random team, where teams with more\n",
    "votes are more likely to be selected."
   ]
  },
  {
   "cell_type": "markdown",
   "metadata": {},
   "source": [
    "### Rise and Grind\n",
    "**Rise to the top. The worst pitcher on your Team pays out 5x more for Snacks.**\n",
    "\n",
    "This would increase the likelyhood that our worst pitcher would be highly idoled, and idol board shenanigans have\n",
    "previously been bad overall. See below for the performance statistics for this player last season and an estimation of\n",
    "overall payout."
   ]
  },
  {
   "cell_type": "code",
   "execution_count": 27,
   "outputs": [
    {
     "data": {
      "text/plain": "                 games wins losses win_pct pitches_thrown batters_faced  \\\nHenry Marshallow    20   19      1    0.95           2039           690   \n\n                 outs_recorded innings runs_allowed shutouts quality_starts  \\\nHenry Marshallow           553   184.1           51        3             13   \n\n                 strikeouts walks home_runs_allowed hits_allowed  \\\nHenry Marshallow        234    19                15          131   \n\n                 hit_by_pitches earned_run_average walks_per_9 hits_per_9  \\\nHenry Marshallow              0               2.49        0.93       6.40   \n\n                 strikeouts_per_9 home_runs_per_9   whip strikeouts_per_walk  \nHenry Marshallow            11.42            0.73  0.904               12.32  ",
      "text/html": "<div>\n<style scoped>\n    .dataframe tbody tr th:only-of-type {\n        vertical-align: middle;\n    }\n\n    .dataframe tbody tr th {\n        vertical-align: top;\n    }\n\n    .dataframe thead th {\n        text-align: right;\n    }\n</style>\n<table border=\"1\" class=\"dataframe\">\n  <thead>\n    <tr style=\"text-align: right;\">\n      <th></th>\n      <th>games</th>\n      <th>wins</th>\n      <th>losses</th>\n      <th>win_pct</th>\n      <th>pitches_thrown</th>\n      <th>batters_faced</th>\n      <th>outs_recorded</th>\n      <th>innings</th>\n      <th>runs_allowed</th>\n      <th>shutouts</th>\n      <th>quality_starts</th>\n      <th>strikeouts</th>\n      <th>walks</th>\n      <th>home_runs_allowed</th>\n      <th>hits_allowed</th>\n      <th>hit_by_pitches</th>\n      <th>earned_run_average</th>\n      <th>walks_per_9</th>\n      <th>hits_per_9</th>\n      <th>strikeouts_per_9</th>\n      <th>home_runs_per_9</th>\n      <th>whip</th>\n      <th>strikeouts_per_walk</th>\n    </tr>\n  </thead>\n  <tbody>\n    <tr>\n      <th>Henry Marshallow</th>\n      <td>20</td>\n      <td>19</td>\n      <td>1</td>\n      <td>0.95</td>\n      <td>2039</td>\n      <td>690</td>\n      <td>553</td>\n      <td>184.1</td>\n      <td>51</td>\n      <td>3</td>\n      <td>13</td>\n      <td>234</td>\n      <td>19</td>\n      <td>15</td>\n      <td>131</td>\n      <td>0</td>\n      <td>2.49</td>\n      <td>0.93</td>\n      <td>6.40</td>\n      <td>11.42</td>\n      <td>0.73</td>\n      <td>0.904</td>\n      <td>12.32</td>\n    </tr>\n  </tbody>\n</table>\n</div>"
     },
     "execution_count": 27,
     "metadata": {},
     "output_type": "execute_result"
    }
   ],
   "source": [
    "rise_and_grind_player = worst_pitcher\n",
    "rise_and_grind = get_pitching_stats(rise_and_grind_player, season=12)\n",
    "rise_and_grind"
   ],
   "metadata": {
    "collapsed": false,
    "pycharm": {
     "name": "#%%\n"
    }
   }
  },
  {
   "cell_type": "code",
   "execution_count": 28,
   "outputs": [
    {
     "name": "stdout",
     "output_type": "stream",
     "text": [
      "Normal payout with max upgrades: 84,300\n",
      "Boosted payout with max upgrades: 421,500\n",
      "Payout of most profitable pitcher in S12: 157,700\n"
     ]
    }
   ],
   "source": [
    "strikeouts = rise_and_grind[\"strikeouts\"]\n",
    "shutouts = rise_and_grind[\"shutouts\"]\n",
    "payout = int(shutouts)*12500 + int(strikeouts)*200\n",
    "new_payout = payout*5\n",
    "print(\"Normal payout with max upgrades: {:,}\".format(payout))\n",
    "print(\"Boosted payout with max upgrades: {:,}\".format(new_payout))\n",
    "best = 7*12500 + 351*200 # Burke Gonzales\n",
    "print(\"Payout of most profitable pitcher in S12: {:,}\".format(best))"
   ],
   "metadata": {
    "collapsed": false,
    "pycharm": {
     "name": "#%%\n"
    }
   }
  },
  {
   "cell_type": "markdown",
   "metadata": {},
   "source": [
    "### Center of Attention\n",
    "**Look at me. Most Idolized player on your team gives double-payouts as an Idol.**\n",
    "\n",
    "This would likely improve the payout on Jaxon Buckley. See below for the performance statistics for Jaxon last\n",
    "season, and an estimation of overall payout."
   ]
  },
  {
   "cell_type": "code",
   "execution_count": 29,
   "outputs": [
    {
     "data": {
      "text/plain": "              appearances batting_average on_base_percentage slugging  \\\nJaxon Buckley          99           0.331              0.365    0.657   \n\n              plate_appearances at_bats hits walks singles doubles triples  \\\nJaxon Buckley               539     496  164    31      75      46      13   \n\n              quadruples home_runs runs_batted_in strikeouts sacrifice_bunts  \\\nJaxon Buckley          0        30            109         46               7   \n\n              sacrifice_flies at_bats_risp hits_risp batting_average_risp  \\\nJaxon Buckley               0           94        40                0.426   \n\n              on_base_slugging total_bases hit_by_pitches ground_outs flyouts  \\\nJaxon Buckley            1.022         326              0         175      94   \n\n              gidp  \nJaxon Buckley    3  ",
      "text/html": "<div>\n<style scoped>\n    .dataframe tbody tr th:only-of-type {\n        vertical-align: middle;\n    }\n\n    .dataframe tbody tr th {\n        vertical-align: top;\n    }\n\n    .dataframe thead th {\n        text-align: right;\n    }\n</style>\n<table border=\"1\" class=\"dataframe\">\n  <thead>\n    <tr style=\"text-align: right;\">\n      <th></th>\n      <th>appearances</th>\n      <th>batting_average</th>\n      <th>on_base_percentage</th>\n      <th>slugging</th>\n      <th>plate_appearances</th>\n      <th>at_bats</th>\n      <th>hits</th>\n      <th>walks</th>\n      <th>singles</th>\n      <th>doubles</th>\n      <th>triples</th>\n      <th>quadruples</th>\n      <th>home_runs</th>\n      <th>runs_batted_in</th>\n      <th>strikeouts</th>\n      <th>sacrifice_bunts</th>\n      <th>sacrifice_flies</th>\n      <th>at_bats_risp</th>\n      <th>hits_risp</th>\n      <th>batting_average_risp</th>\n      <th>on_base_slugging</th>\n      <th>total_bases</th>\n      <th>hit_by_pitches</th>\n      <th>ground_outs</th>\n      <th>flyouts</th>\n      <th>gidp</th>\n    </tr>\n  </thead>\n  <tbody>\n    <tr>\n      <th>Jaxon Buckley</th>\n      <td>99</td>\n      <td>0.331</td>\n      <td>0.365</td>\n      <td>0.657</td>\n      <td>539</td>\n      <td>496</td>\n      <td>164</td>\n      <td>31</td>\n      <td>75</td>\n      <td>46</td>\n      <td>13</td>\n      <td>0</td>\n      <td>30</td>\n      <td>109</td>\n      <td>46</td>\n      <td>7</td>\n      <td>0</td>\n      <td>94</td>\n      <td>40</td>\n      <td>0.426</td>\n      <td>1.022</td>\n      <td>326</td>\n      <td>0</td>\n      <td>175</td>\n      <td>94</td>\n      <td>3</td>\n    </tr>\n  </tbody>\n</table>\n</div>"
     },
     "execution_count": 29,
     "metadata": {},
     "output_type": "execute_result"
    }
   ],
   "source": [
    "jaxon = Player.find_by_name(\"Jaxon Buckley\")\n",
    "center_of_attention = get_batting_stats(jaxon, season=12)\n",
    "center_of_attention"
   ],
   "metadata": {
    "collapsed": false,
    "pycharm": {
     "name": "#%%\n"
    }
   }
  },
  {
   "cell_type": "code",
   "execution_count": 30,
   "outputs": [
    {
     "name": "stdout",
     "output_type": "stream",
     "text": [
      "Normal payout with max upgrades: 321,000\n",
      "Boosted payout with max upgrades: 642,000\n",
      "Payout of most profitable batter in S12: 730,000\n"
     ]
    }
   ],
   "source": [
    "homers = int(center_of_attention[\"home_runs\"])\n",
    "hits = int(center_of_attention[\"hits\"]) - homers\n",
    "payout = homers*4000 + hits*1500\n",
    "new_payout = payout*2\n",
    "print(\"Normal payout with max upgrades: {:,}\".format(payout))\n",
    "print(\"Boosted payout with max upgrades: {:,}\".format(new_payout))\n",
    "print(\"Payout of most profitable batter in S12: 730,000\")"
   ],
   "metadata": {
    "collapsed": false,
    "pycharm": {
     "name": "#%%\n"
    }
   }
  },
  {
   "cell_type": "markdown",
   "metadata": {},
   "source": [
    "### Sun Dialed & Unholey\n",
    "**Boosts a random player on your Team by 1% anytime you activate Sun 2.**\n",
    "\n",
    "**The Black Hole will impair a random player on the other team by 1% anytime your Team activates it.**\n",
    "\n",
    "~Random~ target. See below for weather and boost analysis."
   ]
  },
  {
   "cell_type": "code",
   "execution_count": 31,
   "outputs": [
    {
     "name": "stdout",
     "output_type": "stream",
     "text": [
      "Sun 2 has activated for the Pies 3 times in league history.\n"
     ]
    }
   ],
   "source": [
    "pies_games = Game.load_by_season(season=0, team_id=pies.id)\n",
    "sun2_games = [x for x in pies_games.values() if f\"Sun 2 set a Win upon the {pies.nickname}\" in x.outcomes or f\"Sun 2 set a Win upon the {pies.nickname}.\" in x.outcomes]\n",
    "print(f\"Sun 2 has activated for the {pies.nickname} {len(sun2_games)} times in league history.\")"
   ],
   "metadata": {
    "collapsed": false,
    "pycharm": {
     "name": "#%%\n"
    }
   }
  },
  {
   "cell_type": "code",
   "execution_count": 32,
   "outputs": [
    {
     "name": "stdout",
     "output_type": "stream",
     "text": [
      "Black Hole has activated for the Pies 6 times league history.\n"
     ]
    }
   ],
   "source": [
    "total_blackholes = 0\n",
    "for game in pies_games.values():\n",
    "    for outcome in game.outcomes:\n",
    "        if \"The Black Hole swallowed a Win\" in outcome and pies.nickname not in outcome:\n",
    "            total_blackholes += 1\n",
    "print(f\"Black Hole has activated for the {pies.nickname} {total_blackholes} times league history.\")"
   ],
   "metadata": {
    "collapsed": false,
    "pycharm": {
     "name": "#%%\n"
    }
   }
  },
  {
   "cell_type": "code",
   "execution_count": 33,
   "outputs": [
    {
     "data": {
      "text/plain": "                  old_batting_stars  old_pitching_stars  \\\nYusef Puddles              2.147811            2.353819   \nBeasley Day                2.695709            1.553222   \nLang Richardson            2.914378            0.259236   \n-od- Preston               3.691847            1.380646   \nHuber Frumple              4.007441            2.185193   \nEduardo Woodman            4.165300            1.891005   \nJaxon Buckley              5.579461            2.397229   \nHenry Marshallow           1.903035            2.143457   \nNicholas Mora              4.619012            2.832423   \nDoc Anice                  2.423112            2.841172   \nRuslan Greatness           4.483849            3.683850   \nElvis Figueroa             2.980427            4.748317   \n\n                  old_baserunning_stars  old_defense_stars  new_batting_stars  \\\nYusef Puddles                  2.817447           3.596398           2.215192   \nBeasley Day                    2.470609           1.617475           2.761565   \nLang Richardson                3.241335           3.451126           2.966349   \n-od- Preston                   3.687356           1.957512           3.749340   \nHuber Frumple                  4.209709           3.126600           4.058762   \nEduardo Woodman                3.519368           3.554369           4.214065   \nJaxon Buckley                  3.263785           2.054179           5.623573   \nHenry Marshallow               1.475110           3.576140           1.977467   \nNicholas Mora                  4.360111           4.746472           4.668723   \nDoc Anice                      1.711568           3.683109           2.476967   \nRuslan Greatness               4.878983           4.879502           4.528952   \nElvis Figueroa                 1.501418           3.740164           3.034437   \n\n                  new_pitching_stars  new_baserunning_stars  \\\nYusef Puddles               2.408734               2.869284   \nBeasley Day                 1.607525               2.521358   \nLang Richardson             0.366987               3.290677   \n-od- Preston                1.435649               3.735299   \nHuber Frumple               2.238573               4.255711   \nEduardo Woodman             1.946350               3.566968   \nJaxon Buckley               2.451348               3.312447   \nHenry Marshallow            2.207197               1.538863   \nNicholas Mora               2.894612               4.407113   \nDoc Anice                   2.900636               2.067616   \nRuslan Greatness            3.740958               4.927881   \nElvis Figueroa              4.808104               1.556805   \n\n                  new_defense_stars  change_in_batting_stars  \\\nYusef Puddles              3.640719                 0.067381   \nBeasley Day                1.684328                 0.065856   \nLang Richardson            3.497818                 0.051971   \n-od- Preston               2.017598                 0.057494   \nHuber Frumple              3.171558                 0.051321   \nEduardo Woodman            3.597999                 0.048765   \nJaxon Buckley              2.110535                 0.044111   \nHenry Marshallow           3.625495                 0.074432   \nNicholas Mora              4.783404                 0.049711   \nDoc Anice                  3.724647                 0.053855   \nRuslan Greatness           4.915358                 0.045103   \nElvis Figueroa             3.782108                 0.054010   \n\n                  change_in_pitching_stars  change_in_baserunning_stars  \\\nYusef Puddles                     0.054915                     0.067381   \nBeasley Day                       0.054302                     0.065856   \nLang Richardson                   0.107751                     0.051971   \n-od- Preston                      0.055003                     0.057494   \nHuber Frumple                     0.053379                     0.051321   \nEduardo Woodman                   0.055345                     0.048765   \nJaxon Buckley                     0.054118                     0.044111   \nHenry Marshallow                  0.063740                     0.074432   \nNicholas Mora                     0.062189                     0.049711   \nDoc Anice                         0.059464                     0.053855   \nRuslan Greatness                  0.057108                     0.045103   \nElvis Figueroa                    0.059787                     0.054010   \n\n                  change_in_defense_stars  \nYusef Puddles                    0.044321  \nBeasley Day                      0.066852  \nLang Richardson                  0.046692  \n-od- Preston                     0.060086  \nHuber Frumple                    0.044958  \nEduardo Woodman                  0.043631  \nJaxon Buckley                    0.056357  \nHenry Marshallow                 0.049355  \nNicholas Mora                    0.036932  \nDoc Anice                        0.041538  \nRuslan Greatness                 0.035857  \nElvis Figueroa                   0.041943  ",
      "text/html": "<div>\n<style scoped>\n    .dataframe tbody tr th:only-of-type {\n        vertical-align: middle;\n    }\n\n    .dataframe tbody tr th {\n        vertical-align: top;\n    }\n\n    .dataframe thead th {\n        text-align: right;\n    }\n</style>\n<table border=\"1\" class=\"dataframe\">\n  <thead>\n    <tr style=\"text-align: right;\">\n      <th></th>\n      <th>old_batting_stars</th>\n      <th>old_pitching_stars</th>\n      <th>old_baserunning_stars</th>\n      <th>old_defense_stars</th>\n      <th>new_batting_stars</th>\n      <th>new_pitching_stars</th>\n      <th>new_baserunning_stars</th>\n      <th>new_defense_stars</th>\n      <th>change_in_batting_stars</th>\n      <th>change_in_pitching_stars</th>\n      <th>change_in_baserunning_stars</th>\n      <th>change_in_defense_stars</th>\n    </tr>\n  </thead>\n  <tbody>\n    <tr>\n      <th>Yusef Puddles</th>\n      <td>2.147811</td>\n      <td>2.353819</td>\n      <td>2.817447</td>\n      <td>3.596398</td>\n      <td>2.215192</td>\n      <td>2.408734</td>\n      <td>2.869284</td>\n      <td>3.640719</td>\n      <td>0.067381</td>\n      <td>0.054915</td>\n      <td>0.067381</td>\n      <td>0.044321</td>\n    </tr>\n    <tr>\n      <th>Beasley Day</th>\n      <td>2.695709</td>\n      <td>1.553222</td>\n      <td>2.470609</td>\n      <td>1.617475</td>\n      <td>2.761565</td>\n      <td>1.607525</td>\n      <td>2.521358</td>\n      <td>1.684328</td>\n      <td>0.065856</td>\n      <td>0.054302</td>\n      <td>0.065856</td>\n      <td>0.066852</td>\n    </tr>\n    <tr>\n      <th>Lang Richardson</th>\n      <td>2.914378</td>\n      <td>0.259236</td>\n      <td>3.241335</td>\n      <td>3.451126</td>\n      <td>2.966349</td>\n      <td>0.366987</td>\n      <td>3.290677</td>\n      <td>3.497818</td>\n      <td>0.051971</td>\n      <td>0.107751</td>\n      <td>0.051971</td>\n      <td>0.046692</td>\n    </tr>\n    <tr>\n      <th>-od- Preston</th>\n      <td>3.691847</td>\n      <td>1.380646</td>\n      <td>3.687356</td>\n      <td>1.957512</td>\n      <td>3.749340</td>\n      <td>1.435649</td>\n      <td>3.735299</td>\n      <td>2.017598</td>\n      <td>0.057494</td>\n      <td>0.055003</td>\n      <td>0.057494</td>\n      <td>0.060086</td>\n    </tr>\n    <tr>\n      <th>Huber Frumple</th>\n      <td>4.007441</td>\n      <td>2.185193</td>\n      <td>4.209709</td>\n      <td>3.126600</td>\n      <td>4.058762</td>\n      <td>2.238573</td>\n      <td>4.255711</td>\n      <td>3.171558</td>\n      <td>0.051321</td>\n      <td>0.053379</td>\n      <td>0.051321</td>\n      <td>0.044958</td>\n    </tr>\n    <tr>\n      <th>Eduardo Woodman</th>\n      <td>4.165300</td>\n      <td>1.891005</td>\n      <td>3.519368</td>\n      <td>3.554369</td>\n      <td>4.214065</td>\n      <td>1.946350</td>\n      <td>3.566968</td>\n      <td>3.597999</td>\n      <td>0.048765</td>\n      <td>0.055345</td>\n      <td>0.048765</td>\n      <td>0.043631</td>\n    </tr>\n    <tr>\n      <th>Jaxon Buckley</th>\n      <td>5.579461</td>\n      <td>2.397229</td>\n      <td>3.263785</td>\n      <td>2.054179</td>\n      <td>5.623573</td>\n      <td>2.451348</td>\n      <td>3.312447</td>\n      <td>2.110535</td>\n      <td>0.044111</td>\n      <td>0.054118</td>\n      <td>0.044111</td>\n      <td>0.056357</td>\n    </tr>\n    <tr>\n      <th>Henry Marshallow</th>\n      <td>1.903035</td>\n      <td>2.143457</td>\n      <td>1.475110</td>\n      <td>3.576140</td>\n      <td>1.977467</td>\n      <td>2.207197</td>\n      <td>1.538863</td>\n      <td>3.625495</td>\n      <td>0.074432</td>\n      <td>0.063740</td>\n      <td>0.074432</td>\n      <td>0.049355</td>\n    </tr>\n    <tr>\n      <th>Nicholas Mora</th>\n      <td>4.619012</td>\n      <td>2.832423</td>\n      <td>4.360111</td>\n      <td>4.746472</td>\n      <td>4.668723</td>\n      <td>2.894612</td>\n      <td>4.407113</td>\n      <td>4.783404</td>\n      <td>0.049711</td>\n      <td>0.062189</td>\n      <td>0.049711</td>\n      <td>0.036932</td>\n    </tr>\n    <tr>\n      <th>Doc Anice</th>\n      <td>2.423112</td>\n      <td>2.841172</td>\n      <td>1.711568</td>\n      <td>3.683109</td>\n      <td>2.476967</td>\n      <td>2.900636</td>\n      <td>2.067616</td>\n      <td>3.724647</td>\n      <td>0.053855</td>\n      <td>0.059464</td>\n      <td>0.053855</td>\n      <td>0.041538</td>\n    </tr>\n    <tr>\n      <th>Ruslan Greatness</th>\n      <td>4.483849</td>\n      <td>3.683850</td>\n      <td>4.878983</td>\n      <td>4.879502</td>\n      <td>4.528952</td>\n      <td>3.740958</td>\n      <td>4.927881</td>\n      <td>4.915358</td>\n      <td>0.045103</td>\n      <td>0.057108</td>\n      <td>0.045103</td>\n      <td>0.035857</td>\n    </tr>\n    <tr>\n      <th>Elvis Figueroa</th>\n      <td>2.980427</td>\n      <td>4.748317</td>\n      <td>1.501418</td>\n      <td>3.740164</td>\n      <td>3.034437</td>\n      <td>4.808104</td>\n      <td>1.556805</td>\n      <td>3.782108</td>\n      <td>0.054010</td>\n      <td>0.059787</td>\n      <td>0.054010</td>\n      <td>0.041943</td>\n    </tr>\n  </tbody>\n</table>\n</div>"
     },
     "execution_count": 33,
     "metadata": {},
     "output_type": "execute_result"
    }
   ],
   "source": [
    "table, total, avg = improve_team_overall_table(pies, 0.01)\n",
    "table"
   ],
   "metadata": {
    "collapsed": false,
    "pycharm": {
     "name": "#%%\n"
    }
   }
  },
  {
   "cell_type": "markdown",
   "metadata": {},
   "source": [
    "### High Pressure\n",
    "**Your Team plays 25% better when Runners are On Base in Flooding Weather.**\n",
    "\n",
    "See below for player change and weather analysis."
   ]
  },
  {
   "cell_type": "code",
   "execution_count": 34,
   "outputs": [
    {
     "name": "stdout",
     "output_type": "stream",
     "text": [
      "Weather stats for Season 13\n"
     ]
    },
    {
     "data": {
      "text/plain": "               weather_count  weather_percent\nSun 2                    199        16.750842\nFlooding                 196        16.498316\nBlack Hole               180        15.151515\nBirds                    141        11.868687\nSolar Eclipse            133        11.195286\nPeanuts                  132        11.111111\nReverb                    72         6.060606\nFeedback                  60         5.050505\nBlooddrain                47         3.956229\nCoffee 3s                 15         1.262626\nCoffee 2                   7         0.589226\nCoffee                     6         0.505051",
      "text/html": "<div>\n<style scoped>\n    .dataframe tbody tr th:only-of-type {\n        vertical-align: middle;\n    }\n\n    .dataframe tbody tr th {\n        vertical-align: top;\n    }\n\n    .dataframe thead th {\n        text-align: right;\n    }\n</style>\n<table border=\"1\" class=\"dataframe\">\n  <thead>\n    <tr style=\"text-align: right;\">\n      <th></th>\n      <th>weather_count</th>\n      <th>weather_percent</th>\n    </tr>\n  </thead>\n  <tbody>\n    <tr>\n      <th>Sun 2</th>\n      <td>199</td>\n      <td>16.750842</td>\n    </tr>\n    <tr>\n      <th>Flooding</th>\n      <td>196</td>\n      <td>16.498316</td>\n    </tr>\n    <tr>\n      <th>Black Hole</th>\n      <td>180</td>\n      <td>15.151515</td>\n    </tr>\n    <tr>\n      <th>Birds</th>\n      <td>141</td>\n      <td>11.868687</td>\n    </tr>\n    <tr>\n      <th>Solar Eclipse</th>\n      <td>133</td>\n      <td>11.195286</td>\n    </tr>\n    <tr>\n      <th>Peanuts</th>\n      <td>132</td>\n      <td>11.111111</td>\n    </tr>\n    <tr>\n      <th>Reverb</th>\n      <td>72</td>\n      <td>6.060606</td>\n    </tr>\n    <tr>\n      <th>Feedback</th>\n      <td>60</td>\n      <td>5.050505</td>\n    </tr>\n    <tr>\n      <th>Blooddrain</th>\n      <td>47</td>\n      <td>3.956229</td>\n    </tr>\n    <tr>\n      <th>Coffee 3s</th>\n      <td>15</td>\n      <td>1.262626</td>\n    </tr>\n    <tr>\n      <th>Coffee 2</th>\n      <td>7</td>\n      <td>0.589226</td>\n    </tr>\n    <tr>\n      <th>Coffee</th>\n      <td>6</td>\n      <td>0.505051</td>\n    </tr>\n  </tbody>\n</table>\n</div>"
     },
     "execution_count": 34,
     "metadata": {},
     "output_type": "execute_result"
    }
   ],
   "source": [
    "print(\"Weather stats for Season 13\")\n",
    "games = Game.load_by_season(season=13)\n",
    "weathers = pandas.Series([x.weather.text for x in games.values()])\n",
    "table = pandas.DataFrame(weathers.value_counts(), columns=[\"weather_count\"])\n",
    "table[\"weather_percent\"] = (table[\"weather_count\"]/len(games))*100\n",
    "table"
   ],
   "metadata": {
    "collapsed": false,
    "pycharm": {
     "name": "#%%\n"
    }
   }
  },
  {
   "cell_type": "code",
   "execution_count": 35,
   "outputs": [
    {
     "data": {
      "text/plain": "                  old_batting_stars  old_pitching_stars  \\\nYusef Puddles              2.147811            2.353819   \nBeasley Day                2.695709            1.553222   \nLang Richardson            2.914378            0.259236   \n-od- Preston               3.691847            1.380646   \nHuber Frumple              4.007441            2.185193   \nEduardo Woodman            4.165300            1.891005   \nJaxon Buckley              5.579461            2.397229   \nHenry Marshallow           1.903035            2.143457   \nNicholas Mora              4.619012            2.832423   \nDoc Anice                  2.423112            2.841172   \nRuslan Greatness           4.483849            3.683850   \nElvis Figueroa             2.980427            4.748317   \n\n                  old_baserunning_stars  old_defense_stars  new_batting_stars  \\\nYusef Puddles                  2.817447           3.596398           3.620152   \nBeasley Day                    2.470609           1.617475           4.071672   \nLang Richardson                3.241335           3.451126           4.156594   \n-od- Preston                   3.687356           1.957512           4.953990   \nHuber Frumple                  4.209709           3.126600           5.253992   \nEduardo Woodman                3.519368           3.554369           5.353766   \nJaxon Buckley                  3.263785           2.054179           6.661884   \nHenry Marshallow               1.475110           3.576140           3.432429   \nNicholas Mora                  4.360111           4.746472           5.758261   \nDoc Anice                      1.711568           3.683109           3.703675   \nRuslan Greatness               4.878983           4.879502           5.630918   \nElvis Figueroa                 1.501418           3.740164           4.245366   \n\n                  new_pitching_stars  new_baserunning_stars  \\\nYusef Puddles               3.758554               4.051608   \nBeasley Day                 2.927222               3.695814   \nLang Richardson             1.877300               4.436522   \n-od- Preston                2.764807               4.857175   \nHuber Frumple               3.560293               5.343852   \nEduardo Woodman             3.303215               4.685600   \nJaxon Buckley               3.785767               4.450096   \nHenry Marshallow            3.695996               2.872199   \nNicholas Mora               4.380123               5.511371   \nDoc Anice                   4.334151               3.975775   \nRuslan Greatness            5.142877               6.065019   \nElvis Figueroa              6.262790               2.782191   \n\n                  new_defense_stars  change_in_batting_stars  \\\nYusef Puddles              4.614741                 1.472341   \nBeasley Day                2.975459                 1.375963   \nLang Richardson            4.510131                 1.242215   \n-od- Preston               3.221024                 1.262144   \nHuber Frumple              4.168073                 1.246551   \nEduardo Woodman            4.567511                 1.188467   \nJaxon Buckley              3.273476                 1.082423   \nHenry Marshallow           4.653350                 1.529394   \nNicholas Mora              5.630958                 1.139249   \nDoc Anice                  4.657734                 1.280563   \nRuslan Greatness           5.743001                 1.147069   \nElvis Figueroa             4.720463                 1.264938   \n\n                  change_in_pitching_stars  change_in_baserunning_stars  \\\nYusef Puddles                     1.404735                     1.472341   \nBeasley Day                       1.374000                     1.375963   \nLang Richardson                   1.618064                     1.242215   \n-od- Preston                      1.384162                     1.262144   \nHuber Frumple                     1.375100                     1.246551   \nEduardo Woodman                   1.412210                     1.188467   \nJaxon Buckley                     1.388538                     1.082423   \nHenry Marshallow                  1.552538                     1.529394   \nNicholas Mora                     1.547700                     1.139249   \nDoc Anice                         1.492979                     1.280563   \nRuslan Greatness                  1.459026                     1.147069   \nElvis Figueroa                    1.514473                     1.264938   \n\n                  change_in_defense_stars  \nYusef Puddles                    1.018343  \nBeasley Day                      1.357983  \nLang Richardson                  1.059006  \n-od- Preston                     1.263512  \nHuber Frumple                    1.041473  \nEduardo Woodman                  1.013143  \nJaxon Buckley                    1.219298  \nHenry Marshallow                 1.077210  \nNicholas Mora                    0.884486  \nDoc Anice                        0.974626  \nRuslan Greatness                 0.863500  \nElvis Figueroa                   0.980299  ",
      "text/html": "<div>\n<style scoped>\n    .dataframe tbody tr th:only-of-type {\n        vertical-align: middle;\n    }\n\n    .dataframe tbody tr th {\n        vertical-align: top;\n    }\n\n    .dataframe thead th {\n        text-align: right;\n    }\n</style>\n<table border=\"1\" class=\"dataframe\">\n  <thead>\n    <tr style=\"text-align: right;\">\n      <th></th>\n      <th>old_batting_stars</th>\n      <th>old_pitching_stars</th>\n      <th>old_baserunning_stars</th>\n      <th>old_defense_stars</th>\n      <th>new_batting_stars</th>\n      <th>new_pitching_stars</th>\n      <th>new_baserunning_stars</th>\n      <th>new_defense_stars</th>\n      <th>change_in_batting_stars</th>\n      <th>change_in_pitching_stars</th>\n      <th>change_in_baserunning_stars</th>\n      <th>change_in_defense_stars</th>\n    </tr>\n  </thead>\n  <tbody>\n    <tr>\n      <th>Yusef Puddles</th>\n      <td>2.147811</td>\n      <td>2.353819</td>\n      <td>2.817447</td>\n      <td>3.596398</td>\n      <td>3.620152</td>\n      <td>3.758554</td>\n      <td>4.051608</td>\n      <td>4.614741</td>\n      <td>1.472341</td>\n      <td>1.404735</td>\n      <td>1.472341</td>\n      <td>1.018343</td>\n    </tr>\n    <tr>\n      <th>Beasley Day</th>\n      <td>2.695709</td>\n      <td>1.553222</td>\n      <td>2.470609</td>\n      <td>1.617475</td>\n      <td>4.071672</td>\n      <td>2.927222</td>\n      <td>3.695814</td>\n      <td>2.975459</td>\n      <td>1.375963</td>\n      <td>1.374000</td>\n      <td>1.375963</td>\n      <td>1.357983</td>\n    </tr>\n    <tr>\n      <th>Lang Richardson</th>\n      <td>2.914378</td>\n      <td>0.259236</td>\n      <td>3.241335</td>\n      <td>3.451126</td>\n      <td>4.156594</td>\n      <td>1.877300</td>\n      <td>4.436522</td>\n      <td>4.510131</td>\n      <td>1.242215</td>\n      <td>1.618064</td>\n      <td>1.242215</td>\n      <td>1.059006</td>\n    </tr>\n    <tr>\n      <th>-od- Preston</th>\n      <td>3.691847</td>\n      <td>1.380646</td>\n      <td>3.687356</td>\n      <td>1.957512</td>\n      <td>4.953990</td>\n      <td>2.764807</td>\n      <td>4.857175</td>\n      <td>3.221024</td>\n      <td>1.262144</td>\n      <td>1.384162</td>\n      <td>1.262144</td>\n      <td>1.263512</td>\n    </tr>\n    <tr>\n      <th>Huber Frumple</th>\n      <td>4.007441</td>\n      <td>2.185193</td>\n      <td>4.209709</td>\n      <td>3.126600</td>\n      <td>5.253992</td>\n      <td>3.560293</td>\n      <td>5.343852</td>\n      <td>4.168073</td>\n      <td>1.246551</td>\n      <td>1.375100</td>\n      <td>1.246551</td>\n      <td>1.041473</td>\n    </tr>\n    <tr>\n      <th>Eduardo Woodman</th>\n      <td>4.165300</td>\n      <td>1.891005</td>\n      <td>3.519368</td>\n      <td>3.554369</td>\n      <td>5.353766</td>\n      <td>3.303215</td>\n      <td>4.685600</td>\n      <td>4.567511</td>\n      <td>1.188467</td>\n      <td>1.412210</td>\n      <td>1.188467</td>\n      <td>1.013143</td>\n    </tr>\n    <tr>\n      <th>Jaxon Buckley</th>\n      <td>5.579461</td>\n      <td>2.397229</td>\n      <td>3.263785</td>\n      <td>2.054179</td>\n      <td>6.661884</td>\n      <td>3.785767</td>\n      <td>4.450096</td>\n      <td>3.273476</td>\n      <td>1.082423</td>\n      <td>1.388538</td>\n      <td>1.082423</td>\n      <td>1.219298</td>\n    </tr>\n    <tr>\n      <th>Henry Marshallow</th>\n      <td>1.903035</td>\n      <td>2.143457</td>\n      <td>1.475110</td>\n      <td>3.576140</td>\n      <td>3.432429</td>\n      <td>3.695996</td>\n      <td>2.872199</td>\n      <td>4.653350</td>\n      <td>1.529394</td>\n      <td>1.552538</td>\n      <td>1.529394</td>\n      <td>1.077210</td>\n    </tr>\n    <tr>\n      <th>Nicholas Mora</th>\n      <td>4.619012</td>\n      <td>2.832423</td>\n      <td>4.360111</td>\n      <td>4.746472</td>\n      <td>5.758261</td>\n      <td>4.380123</td>\n      <td>5.511371</td>\n      <td>5.630958</td>\n      <td>1.139249</td>\n      <td>1.547700</td>\n      <td>1.139249</td>\n      <td>0.884486</td>\n    </tr>\n    <tr>\n      <th>Doc Anice</th>\n      <td>2.423112</td>\n      <td>2.841172</td>\n      <td>1.711568</td>\n      <td>3.683109</td>\n      <td>3.703675</td>\n      <td>4.334151</td>\n      <td>3.975775</td>\n      <td>4.657734</td>\n      <td>1.280563</td>\n      <td>1.492979</td>\n      <td>1.280563</td>\n      <td>0.974626</td>\n    </tr>\n    <tr>\n      <th>Ruslan Greatness</th>\n      <td>4.483849</td>\n      <td>3.683850</td>\n      <td>4.878983</td>\n      <td>4.879502</td>\n      <td>5.630918</td>\n      <td>5.142877</td>\n      <td>6.065019</td>\n      <td>5.743001</td>\n      <td>1.147069</td>\n      <td>1.459026</td>\n      <td>1.147069</td>\n      <td>0.863500</td>\n    </tr>\n    <tr>\n      <th>Elvis Figueroa</th>\n      <td>2.980427</td>\n      <td>4.748317</td>\n      <td>1.501418</td>\n      <td>3.740164</td>\n      <td>4.245366</td>\n      <td>6.262790</td>\n      <td>2.782191</td>\n      <td>4.720463</td>\n      <td>1.264938</td>\n      <td>1.514473</td>\n      <td>1.264938</td>\n      <td>0.980299</td>\n    </tr>\n  </tbody>\n</table>\n</div>"
     },
     "execution_count": 35,
     "metadata": {},
     "output_type": "execute_result"
    }
   ],
   "source": [
    "table, total, avg = improve_team_overall_table(pies, 0.25)\n",
    "table"
   ],
   "metadata": {
    "collapsed": false,
    "pycharm": {
     "name": "#%%\n"
    }
   }
  },
  {
   "cell_type": "markdown",
   "metadata": {},
   "source": [
    "### Peanut Butter\n",
    "**One Player on your Team becomes Chunky, one becomes Smooth.**\n",
    "\n",
    "Chunky and Smooth are unknown, though likely related to Peanuts or Peanut weather."
   ]
  },
  {
   "cell_type": "markdown",
   "metadata": {},
   "source": [
    "### Spare Flippers\n",
    "**Two Random players in your Team's lineup get Flippers.**\n",
    "\n",
    "Flippers is a player modification that states \"When immateria floods, this Runner will score instead of being cleared\n",
    "from the Bases.\" Flood percentages can be seen in the High Pressure section."
   ]
  },
  {
   "cell_type": "markdown",
   "metadata": {},
   "source": [
    "### Stow Away\n",
    "**Hatch a rookie from the Field of Eggs to join your Rotation.**\n",
    "\n",
    "Adding a new player would increase our pitcher count to 6, see below for change in Team average stars assuming the\n",
    "Statistical Average Player."
   ]
  },
  {
   "cell_type": "code",
   "execution_count": 36,
   "outputs": [
    {
     "data": {
      "text/plain": "                        Pies\nbatting_change      +0.0000%\npitching_change     -5.8328%\nbaserunning_change  +0.0000%\ndefense_change      -0.6634%",
      "text/html": "<div>\n<style scoped>\n    .dataframe tbody tr th:only-of-type {\n        vertical-align: middle;\n    }\n\n    .dataframe tbody tr th {\n        vertical-align: top;\n    }\n\n    .dataframe thead th {\n        text-align: right;\n    }\n</style>\n<table border=\"1\" class=\"dataframe\">\n  <thead>\n    <tr style=\"text-align: right;\">\n      <th></th>\n      <th>Pies</th>\n    </tr>\n  </thead>\n  <tbody>\n    <tr>\n      <th>batting_change</th>\n      <td>+0.0000%</td>\n    </tr>\n    <tr>\n      <th>pitching_change</th>\n      <td>-5.8328%</td>\n    </tr>\n    <tr>\n      <th>baserunning_change</th>\n      <td>+0.0000%</td>\n    </tr>\n    <tr>\n      <th>defense_change</th>\n      <td>-0.6634%</td>\n    </tr>\n  </tbody>\n</table>\n</div>"
     },
     "execution_count": 36,
     "metadata": {},
     "output_type": "execute_result"
    }
   ],
   "source": [
    "pandas.DataFrame(add_player(pies, pitch_star=NEW_PLAYER[\"pitching\"], def_star=NEW_PLAYER[\"defense\"]))"
   ],
   "metadata": {
    "collapsed": false,
    "pycharm": {
     "name": "#%%\n"
    }
   }
  },
  {
   "cell_type": "markdown",
   "metadata": {},
   "source": [
    "### Pitching Flotation Bubble\n",
    "**Your entire Division's pitching is boosted by 4%.**\n",
    "\n",
    "See below for team and division improvement."
   ]
  },
  {
   "cell_type": "code",
   "execution_count": 37,
   "outputs": [
    {
     "data": {
      "text/plain": "                  old_pitching_stars  new_pitching_stars  \\\nHenry Marshallow            2.143457            2.396875   \nNicholas Mora               2.832423            3.080794   \nDoc Anice                   2.841172            3.078983   \nRuslan Greatness            3.683850            3.912942   \nElvis Figueroa              4.748317            4.987815   \n\n                  change_in_pitching_stars  \nHenry Marshallow                  0.253418  \nNicholas Mora                     0.248371  \nDoc Anice                         0.237811  \nRuslan Greatness                  0.229092  \nElvis Figueroa                    0.239498  ",
      "text/html": "<div>\n<style scoped>\n    .dataframe tbody tr th:only-of-type {\n        vertical-align: middle;\n    }\n\n    .dataframe tbody tr th {\n        vertical-align: top;\n    }\n\n    .dataframe thead th {\n        text-align: right;\n    }\n</style>\n<table border=\"1\" class=\"dataframe\">\n  <thead>\n    <tr style=\"text-align: right;\">\n      <th></th>\n      <th>old_pitching_stars</th>\n      <th>new_pitching_stars</th>\n      <th>change_in_pitching_stars</th>\n    </tr>\n  </thead>\n  <tbody>\n    <tr>\n      <th>Henry Marshallow</th>\n      <td>2.143457</td>\n      <td>2.396875</td>\n      <td>0.253418</td>\n    </tr>\n    <tr>\n      <th>Nicholas Mora</th>\n      <td>2.832423</td>\n      <td>3.080794</td>\n      <td>0.248371</td>\n    </tr>\n    <tr>\n      <th>Doc Anice</th>\n      <td>2.841172</td>\n      <td>3.078983</td>\n      <td>0.237811</td>\n    </tr>\n    <tr>\n      <th>Ruslan Greatness</th>\n      <td>3.683850</td>\n      <td>3.912942</td>\n      <td>0.229092</td>\n    </tr>\n    <tr>\n      <th>Elvis Figueroa</th>\n      <td>4.748317</td>\n      <td>4.987815</td>\n      <td>0.239498</td>\n    </tr>\n  </tbody>\n</table>\n</div>"
     },
     "execution_count": 37,
     "metadata": {},
     "output_type": "execute_result"
    }
   ],
   "source": [
    "table, _, _ = improve_team_pitching_table(pies, 0.04)\n",
    "pandas.DataFrame(table)"
   ],
   "metadata": {
    "collapsed": false,
    "pycharm": {
     "name": "#%%\n"
    }
   }
  },
  {
   "cell_type": "code",
   "execution_count": 38,
   "outputs": [
    {
     "data": {
      "text/plain": "                          Millennials    Steaks    Lovers      Pies   Garages  \\\nchange_in_pitching_stars     0.236241  0.234046  0.236649  0.241638  0.227859   \nnew_pitching_stars           3.983566  2.836437  3.518286  3.491482  2.925830   \nold_pitching_stars           3.747324  2.602390  3.281637  3.249844  2.697971   \n\n                          Mechanics  \nchange_in_pitching_stars   0.239808  \nnew_pitching_stars         3.865248  \nold_pitching_stars         3.625440  ",
      "text/html": "<div>\n<style scoped>\n    .dataframe tbody tr th:only-of-type {\n        vertical-align: middle;\n    }\n\n    .dataframe tbody tr th {\n        vertical-align: top;\n    }\n\n    .dataframe thead th {\n        text-align: right;\n    }\n</style>\n<table border=\"1\" class=\"dataframe\">\n  <thead>\n    <tr style=\"text-align: right;\">\n      <th></th>\n      <th>Millennials</th>\n      <th>Steaks</th>\n      <th>Lovers</th>\n      <th>Pies</th>\n      <th>Garages</th>\n      <th>Mechanics</th>\n    </tr>\n  </thead>\n  <tbody>\n    <tr>\n      <th>change_in_pitching_stars</th>\n      <td>0.236241</td>\n      <td>0.234046</td>\n      <td>0.236649</td>\n      <td>0.241638</td>\n      <td>0.227859</td>\n      <td>0.239808</td>\n    </tr>\n    <tr>\n      <th>new_pitching_stars</th>\n      <td>3.983566</td>\n      <td>2.836437</td>\n      <td>3.518286</td>\n      <td>3.491482</td>\n      <td>2.925830</td>\n      <td>3.865248</td>\n    </tr>\n    <tr>\n      <th>old_pitching_stars</th>\n      <td>3.747324</td>\n      <td>2.602390</td>\n      <td>3.281637</td>\n      <td>3.249844</td>\n      <td>2.697971</td>\n      <td>3.625440</td>\n    </tr>\n  </tbody>\n</table>\n</div>"
     },
     "execution_count": 38,
     "metadata": {},
     "output_type": "execute_result"
    }
   ],
   "source": [
    "mild_high = Division.load_by_name(\"mild high\")\n",
    "pitch_bubble = pandas.DataFrame()\n",
    "for team in mild_high.teams.values():\n",
    "    _, _, average = improve_team_pitching_table(team, 0.04)\n",
    "    average = average.rename(team.nickname)\n",
    "    pitch_bubble = pitch_bubble.append(average)\n",
    "pitch_bubble.transpose()"
   ],
   "metadata": {
    "collapsed": false,
    "pycharm": {
     "name": "#%%\n"
    }
   }
  },
  {
   "cell_type": "code",
   "execution_count": 39,
   "outputs": [
    {
     "data": {
      "text/html": "        <script type=\"text/javascript\">\n        window.PlotlyConfig = {MathJaxConfig: 'local'};\n        if (window.MathJax) {MathJax.Hub.Config({SVG: {font: \"STIX-Web\"}});}\n        if (typeof require !== 'undefined') {\n        require.undef(\"plotly\");\n        requirejs.config({\n            paths: {\n                'plotly': ['https://cdn.plot.ly/plotly-latest.min']\n            }\n        });\n        require(['plotly'], function(Plotly) {\n            window._Plotly = Plotly;\n        });\n        }\n        </script>\n        "
     },
     "metadata": {},
     "output_type": "display_data"
    },
    {
     "data": {
      "text/html": "<div>                            <div id=\"2d44e6ab-3af6-4e9a-85d0-f32a6160817a\" class=\"plotly-graph-div\" style=\"height:525px; width:100%;\"></div>            <script type=\"text/javascript\">                require([\"plotly\"], function(Plotly) {                    window.PLOTLYENV=window.PLOTLYENV || {};                                    if (document.getElementById(\"2d44e6ab-3af6-4e9a-85d0-f32a6160817a\")) {                    Plotly.newPlot(                        \"2d44e6ab-3af6-4e9a-85d0-f32a6160817a\",                        [{\"type\": \"bar\", \"x\": [\"Millennials\", \"Steaks\", \"Lovers\", \"Pies\", \"Garages\", \"Mechanics\"], \"xaxis\": \"x\", \"y\": [0.23624143520763166, 0.23404647706785306, 0.23664908197959045, 0.24163791469635915, 0.22785914649320585, 0.2398075008475077], \"yaxis\": \"y\"}],                        {\"showlegend\": false, \"template\": {\"data\": {\"bar\": [{\"error_x\": {\"color\": \"#2a3f5f\"}, \"error_y\": {\"color\": \"#2a3f5f\"}, \"marker\": {\"line\": {\"color\": \"#E5ECF6\", \"width\": 0.5}}, \"type\": \"bar\"}], \"barpolar\": [{\"marker\": {\"line\": {\"color\": \"#E5ECF6\", \"width\": 0.5}}, \"type\": \"barpolar\"}], \"carpet\": [{\"aaxis\": {\"endlinecolor\": \"#2a3f5f\", \"gridcolor\": \"white\", \"linecolor\": \"white\", \"minorgridcolor\": \"white\", \"startlinecolor\": \"#2a3f5f\"}, \"baxis\": {\"endlinecolor\": \"#2a3f5f\", \"gridcolor\": \"white\", \"linecolor\": \"white\", \"minorgridcolor\": \"white\", \"startlinecolor\": \"#2a3f5f\"}, \"type\": \"carpet\"}], \"choropleth\": [{\"colorbar\": {\"outlinewidth\": 0, \"ticks\": \"\"}, \"type\": \"choropleth\"}], \"contour\": [{\"colorbar\": {\"outlinewidth\": 0, \"ticks\": \"\"}, \"colorscale\": [[0.0, \"#0d0887\"], [0.1111111111111111, \"#46039f\"], [0.2222222222222222, \"#7201a8\"], [0.3333333333333333, \"#9c179e\"], [0.4444444444444444, \"#bd3786\"], [0.5555555555555556, \"#d8576b\"], [0.6666666666666666, \"#ed7953\"], [0.7777777777777778, \"#fb9f3a\"], [0.8888888888888888, \"#fdca26\"], [1.0, \"#f0f921\"]], \"type\": \"contour\"}], \"contourcarpet\": [{\"colorbar\": {\"outlinewidth\": 0, \"ticks\": \"\"}, \"type\": \"contourcarpet\"}], \"heatmap\": [{\"colorbar\": {\"outlinewidth\": 0, \"ticks\": \"\"}, \"colorscale\": [[0.0, \"#0d0887\"], [0.1111111111111111, \"#46039f\"], [0.2222222222222222, \"#7201a8\"], [0.3333333333333333, \"#9c179e\"], [0.4444444444444444, \"#bd3786\"], [0.5555555555555556, \"#d8576b\"], [0.6666666666666666, \"#ed7953\"], [0.7777777777777778, \"#fb9f3a\"], [0.8888888888888888, \"#fdca26\"], [1.0, \"#f0f921\"]], \"type\": \"heatmap\"}], \"heatmapgl\": [{\"colorbar\": {\"outlinewidth\": 0, \"ticks\": \"\"}, \"colorscale\": [[0.0, \"#0d0887\"], [0.1111111111111111, \"#46039f\"], [0.2222222222222222, \"#7201a8\"], [0.3333333333333333, \"#9c179e\"], [0.4444444444444444, \"#bd3786\"], [0.5555555555555556, \"#d8576b\"], [0.6666666666666666, \"#ed7953\"], [0.7777777777777778, \"#fb9f3a\"], [0.8888888888888888, \"#fdca26\"], [1.0, \"#f0f921\"]], \"type\": \"heatmapgl\"}], \"histogram\": [{\"marker\": {\"colorbar\": {\"outlinewidth\": 0, \"ticks\": \"\"}}, \"type\": \"histogram\"}], \"histogram2d\": [{\"colorbar\": {\"outlinewidth\": 0, \"ticks\": \"\"}, \"colorscale\": [[0.0, \"#0d0887\"], [0.1111111111111111, \"#46039f\"], [0.2222222222222222, \"#7201a8\"], [0.3333333333333333, \"#9c179e\"], [0.4444444444444444, \"#bd3786\"], [0.5555555555555556, \"#d8576b\"], [0.6666666666666666, \"#ed7953\"], [0.7777777777777778, \"#fb9f3a\"], [0.8888888888888888, \"#fdca26\"], [1.0, \"#f0f921\"]], \"type\": \"histogram2d\"}], \"histogram2dcontour\": [{\"colorbar\": {\"outlinewidth\": 0, \"ticks\": \"\"}, \"colorscale\": [[0.0, \"#0d0887\"], [0.1111111111111111, \"#46039f\"], [0.2222222222222222, \"#7201a8\"], [0.3333333333333333, \"#9c179e\"], [0.4444444444444444, \"#bd3786\"], [0.5555555555555556, \"#d8576b\"], [0.6666666666666666, \"#ed7953\"], [0.7777777777777778, \"#fb9f3a\"], [0.8888888888888888, \"#fdca26\"], [1.0, \"#f0f921\"]], \"type\": \"histogram2dcontour\"}], \"mesh3d\": [{\"colorbar\": {\"outlinewidth\": 0, \"ticks\": \"\"}, \"type\": \"mesh3d\"}], \"parcoords\": [{\"line\": {\"colorbar\": {\"outlinewidth\": 0, \"ticks\": \"\"}}, \"type\": \"parcoords\"}], \"pie\": [{\"automargin\": true, \"type\": \"pie\"}], \"scatter\": [{\"marker\": {\"colorbar\": {\"outlinewidth\": 0, \"ticks\": \"\"}}, \"type\": \"scatter\"}], \"scatter3d\": [{\"line\": {\"colorbar\": {\"outlinewidth\": 0, \"ticks\": \"\"}}, \"marker\": {\"colorbar\": {\"outlinewidth\": 0, \"ticks\": \"\"}}, \"type\": \"scatter3d\"}], \"scattercarpet\": [{\"marker\": {\"colorbar\": {\"outlinewidth\": 0, \"ticks\": \"\"}}, \"type\": \"scattercarpet\"}], \"scattergeo\": [{\"marker\": {\"colorbar\": {\"outlinewidth\": 0, \"ticks\": \"\"}}, \"type\": \"scattergeo\"}], \"scattergl\": [{\"marker\": {\"colorbar\": {\"outlinewidth\": 0, \"ticks\": \"\"}}, \"type\": \"scattergl\"}], \"scattermapbox\": [{\"marker\": {\"colorbar\": {\"outlinewidth\": 0, \"ticks\": \"\"}}, \"type\": \"scattermapbox\"}], \"scatterpolar\": [{\"marker\": {\"colorbar\": {\"outlinewidth\": 0, \"ticks\": \"\"}}, \"type\": \"scatterpolar\"}], \"scatterpolargl\": [{\"marker\": {\"colorbar\": {\"outlinewidth\": 0, \"ticks\": \"\"}}, \"type\": \"scatterpolargl\"}], \"scatterternary\": [{\"marker\": {\"colorbar\": {\"outlinewidth\": 0, \"ticks\": \"\"}}, \"type\": \"scatterternary\"}], \"surface\": [{\"colorbar\": {\"outlinewidth\": 0, \"ticks\": \"\"}, \"colorscale\": [[0.0, \"#0d0887\"], [0.1111111111111111, \"#46039f\"], [0.2222222222222222, \"#7201a8\"], [0.3333333333333333, \"#9c179e\"], [0.4444444444444444, \"#bd3786\"], [0.5555555555555556, \"#d8576b\"], [0.6666666666666666, \"#ed7953\"], [0.7777777777777778, \"#fb9f3a\"], [0.8888888888888888, \"#fdca26\"], [1.0, \"#f0f921\"]], \"type\": \"surface\"}], \"table\": [{\"cells\": {\"fill\": {\"color\": \"#EBF0F8\"}, \"line\": {\"color\": \"white\"}}, \"header\": {\"fill\": {\"color\": \"#C8D4E3\"}, \"line\": {\"color\": \"white\"}}, \"type\": \"table\"}]}, \"layout\": {\"annotationdefaults\": {\"arrowcolor\": \"#2a3f5f\", \"arrowhead\": 0, \"arrowwidth\": 1}, \"autotypenumbers\": \"strict\", \"coloraxis\": {\"colorbar\": {\"outlinewidth\": 0, \"ticks\": \"\"}}, \"colorscale\": {\"diverging\": [[0, \"#8e0152\"], [0.1, \"#c51b7d\"], [0.2, \"#de77ae\"], [0.3, \"#f1b6da\"], [0.4, \"#fde0ef\"], [0.5, \"#f7f7f7\"], [0.6, \"#e6f5d0\"], [0.7, \"#b8e186\"], [0.8, \"#7fbc41\"], [0.9, \"#4d9221\"], [1, \"#276419\"]], \"sequential\": [[0.0, \"#0d0887\"], [0.1111111111111111, \"#46039f\"], [0.2222222222222222, \"#7201a8\"], [0.3333333333333333, \"#9c179e\"], [0.4444444444444444, \"#bd3786\"], [0.5555555555555556, \"#d8576b\"], [0.6666666666666666, \"#ed7953\"], [0.7777777777777778, \"#fb9f3a\"], [0.8888888888888888, \"#fdca26\"], [1.0, \"#f0f921\"]], \"sequentialminus\": [[0.0, \"#0d0887\"], [0.1111111111111111, \"#46039f\"], [0.2222222222222222, \"#7201a8\"], [0.3333333333333333, \"#9c179e\"], [0.4444444444444444, \"#bd3786\"], [0.5555555555555556, \"#d8576b\"], [0.6666666666666666, \"#ed7953\"], [0.7777777777777778, \"#fb9f3a\"], [0.8888888888888888, \"#fdca26\"], [1.0, \"#f0f921\"]]}, \"colorway\": [\"#636efa\", \"#EF553B\", \"#00cc96\", \"#ab63fa\", \"#FFA15A\", \"#19d3f3\", \"#FF6692\", \"#B6E880\", \"#FF97FF\", \"#FECB52\"], \"font\": {\"color\": \"#2a3f5f\"}, \"geo\": {\"bgcolor\": \"white\", \"lakecolor\": \"white\", \"landcolor\": \"#E5ECF6\", \"showlakes\": true, \"showland\": true, \"subunitcolor\": \"white\"}, \"hoverlabel\": {\"align\": \"left\"}, \"hovermode\": \"closest\", \"mapbox\": {\"style\": \"light\"}, \"paper_bgcolor\": \"white\", \"plot_bgcolor\": \"#E5ECF6\", \"polar\": {\"angularaxis\": {\"gridcolor\": \"white\", \"linecolor\": \"white\", \"ticks\": \"\"}, \"bgcolor\": \"#E5ECF6\", \"radialaxis\": {\"gridcolor\": \"white\", \"linecolor\": \"white\", \"ticks\": \"\"}}, \"scene\": {\"xaxis\": {\"backgroundcolor\": \"#E5ECF6\", \"gridcolor\": \"white\", \"gridwidth\": 2, \"linecolor\": \"white\", \"showbackground\": true, \"ticks\": \"\", \"zerolinecolor\": \"white\"}, \"yaxis\": {\"backgroundcolor\": \"#E5ECF6\", \"gridcolor\": \"white\", \"gridwidth\": 2, \"linecolor\": \"white\", \"showbackground\": true, \"ticks\": \"\", \"zerolinecolor\": \"white\"}, \"zaxis\": {\"backgroundcolor\": \"#E5ECF6\", \"gridcolor\": \"white\", \"gridwidth\": 2, \"linecolor\": \"white\", \"showbackground\": true, \"ticks\": \"\", \"zerolinecolor\": \"white\"}}, \"shapedefaults\": {\"line\": {\"color\": \"#2a3f5f\"}}, \"ternary\": {\"aaxis\": {\"gridcolor\": \"white\", \"linecolor\": \"white\", \"ticks\": \"\"}, \"baxis\": {\"gridcolor\": \"white\", \"linecolor\": \"white\", \"ticks\": \"\"}, \"bgcolor\": \"#E5ECF6\", \"caxis\": {\"gridcolor\": \"white\", \"linecolor\": \"white\", \"ticks\": \"\"}}, \"title\": {\"x\": 0.05}, \"xaxis\": {\"automargin\": true, \"gridcolor\": \"white\", \"linecolor\": \"white\", \"ticks\": \"\", \"title\": {\"standoff\": 15}, \"zerolinecolor\": \"white\", \"zerolinewidth\": 2}, \"yaxis\": {\"automargin\": true, \"gridcolor\": \"white\", \"linecolor\": \"white\", \"ticks\": \"\", \"title\": {\"standoff\": 15}, \"zerolinecolor\": \"white\", \"zerolinewidth\": 2}}}, \"title\": {\"text\": \"Pitching Flotation Bubble: Change in Average Stars\"}, \"xaxis\": {\"anchor\": \"y\", \"domain\": [0.0, 1.0]}, \"yaxis\": {\"anchor\": \"x\", \"domain\": [0.0, 1.0]}},                        {\"responsive\": true}                    ).then(function(){\n                            \nvar gd = document.getElementById('2d44e6ab-3af6-4e9a-85d0-f32a6160817a');\nvar x = new MutationObserver(function (mutations, observer) {{\n        var display = window.getComputedStyle(gd).display;\n        if (!display || display === 'none') {{\n            console.log([gd, 'removed!']);\n            Plotly.purge(gd);\n            observer.disconnect();\n        }}\n}});\n\n// Listen for the removal of the full notebook cells\nvar notebookContainer = gd.closest('#notebook-container');\nif (notebookContainer) {{\n    x.observe(notebookContainer, {childList: true});\n}}\n\n// Listen for the clearing of the current output cell\nvar outputEl = gd.closest('.output');\nif (outputEl) {{\n    x.observe(outputEl, {childList: true});\n}}\n\n                        })                };                });            </script>        </div>"
     },
     "metadata": {},
     "output_type": "display_data"
    }
   ],
   "source": [
    "fig = subplot.make_subplots(cols=1, rows=1)\n",
    "fig.add_bar(x=pitch_bubble.index, y=pitch_bubble[\"change_in_pitching_stars\"], col=1, row=1)\n",
    "fig.update_layout(showlegend=False, title_text=\"Pitching Flotation Bubble: Change in Average Stars\")\n",
    "fig.show()"
   ],
   "metadata": {
    "collapsed": false,
    "pycharm": {
     "name": "#%%\n"
    }
   }
  },
  {
   "cell_type": "markdown",
   "metadata": {},
   "source": [
    "### Hitting Flotation Bubble\n",
    "**Your entire Division's hitting is boosted by 4%.**\n",
    "\n",
    "See below for team and division improvement."
   ]
  },
  {
   "cell_type": "code",
   "execution_count": 40,
   "outputs": [
    {
     "data": {
      "text/plain": "                 old_batting_stars  new_batting_stars  change_in_batting_stars\nYusef Puddles             2.147811           2.410803                 0.262992\nBeasley Day               2.695709           2.948039                 0.252330\nLang Richardson           2.914378           3.120367                 0.205989\n-od- Preston              3.691847           3.917181                 0.225335\nHuber Frumple             4.007441           4.212686                 0.205245\nEduardo Woodman           4.165300           4.359810                 0.194510\nJaxon Buckley             5.579461           5.755454                 0.175993",
      "text/html": "<div>\n<style scoped>\n    .dataframe tbody tr th:only-of-type {\n        vertical-align: middle;\n    }\n\n    .dataframe tbody tr th {\n        vertical-align: top;\n    }\n\n    .dataframe thead th {\n        text-align: right;\n    }\n</style>\n<table border=\"1\" class=\"dataframe\">\n  <thead>\n    <tr style=\"text-align: right;\">\n      <th></th>\n      <th>old_batting_stars</th>\n      <th>new_batting_stars</th>\n      <th>change_in_batting_stars</th>\n    </tr>\n  </thead>\n  <tbody>\n    <tr>\n      <th>Yusef Puddles</th>\n      <td>2.147811</td>\n      <td>2.410803</td>\n      <td>0.262992</td>\n    </tr>\n    <tr>\n      <th>Beasley Day</th>\n      <td>2.695709</td>\n      <td>2.948039</td>\n      <td>0.252330</td>\n    </tr>\n    <tr>\n      <th>Lang Richardson</th>\n      <td>2.914378</td>\n      <td>3.120367</td>\n      <td>0.205989</td>\n    </tr>\n    <tr>\n      <th>-od- Preston</th>\n      <td>3.691847</td>\n      <td>3.917181</td>\n      <td>0.225335</td>\n    </tr>\n    <tr>\n      <th>Huber Frumple</th>\n      <td>4.007441</td>\n      <td>4.212686</td>\n      <td>0.205245</td>\n    </tr>\n    <tr>\n      <th>Eduardo Woodman</th>\n      <td>4.165300</td>\n      <td>4.359810</td>\n      <td>0.194510</td>\n    </tr>\n    <tr>\n      <th>Jaxon Buckley</th>\n      <td>5.579461</td>\n      <td>5.755454</td>\n      <td>0.175993</td>\n    </tr>\n  </tbody>\n</table>\n</div>"
     },
     "execution_count": 40,
     "metadata": {},
     "output_type": "execute_result"
    }
   ],
   "source": [
    "table, _, _ = improve_team_batting_table(pies, 0.04)\n",
    "pandas.DataFrame(table)"
   ],
   "metadata": {
    "collapsed": false,
    "pycharm": {
     "name": "#%%\n"
    }
   }
  },
  {
   "cell_type": "code",
   "execution_count": 41,
   "outputs": [
    {
     "data": {
      "text/plain": "                         Millennials    Steaks    Lovers      Pies   Garages  \\\nchange_in_batting_stars     0.218991  0.204995  0.215483  0.217485  0.209039   \nnew_batting_stars           3.747908  3.850068  2.831042  3.817763  3.653414   \nold_batting_stars           3.528917  3.645073  2.615559  3.600278  3.444375   \n\n                         Mechanics  \nchange_in_batting_stars   0.262990  \nnew_batting_stars         2.484964  \nold_batting_stars         2.221974  ",
      "text/html": "<div>\n<style scoped>\n    .dataframe tbody tr th:only-of-type {\n        vertical-align: middle;\n    }\n\n    .dataframe tbody tr th {\n        vertical-align: top;\n    }\n\n    .dataframe thead th {\n        text-align: right;\n    }\n</style>\n<table border=\"1\" class=\"dataframe\">\n  <thead>\n    <tr style=\"text-align: right;\">\n      <th></th>\n      <th>Millennials</th>\n      <th>Steaks</th>\n      <th>Lovers</th>\n      <th>Pies</th>\n      <th>Garages</th>\n      <th>Mechanics</th>\n    </tr>\n  </thead>\n  <tbody>\n    <tr>\n      <th>change_in_batting_stars</th>\n      <td>0.218991</td>\n      <td>0.204995</td>\n      <td>0.215483</td>\n      <td>0.217485</td>\n      <td>0.209039</td>\n      <td>0.262990</td>\n    </tr>\n    <tr>\n      <th>new_batting_stars</th>\n      <td>3.747908</td>\n      <td>3.850068</td>\n      <td>2.831042</td>\n      <td>3.817763</td>\n      <td>3.653414</td>\n      <td>2.484964</td>\n    </tr>\n    <tr>\n      <th>old_batting_stars</th>\n      <td>3.528917</td>\n      <td>3.645073</td>\n      <td>2.615559</td>\n      <td>3.600278</td>\n      <td>3.444375</td>\n      <td>2.221974</td>\n    </tr>\n  </tbody>\n</table>\n</div>"
     },
     "execution_count": 41,
     "metadata": {},
     "output_type": "execute_result"
    }
   ],
   "source": [
    "hit_bubble = pandas.DataFrame()\n",
    "for team in mild_high.teams.values():\n",
    "    _, _, average = improve_team_batting_table(team, 0.04)\n",
    "    average = average.rename(team.nickname)\n",
    "    hit_bubble = hit_bubble.append(average)\n",
    "hit_bubble.transpose()"
   ],
   "metadata": {
    "collapsed": false,
    "pycharm": {
     "name": "#%%\n"
    }
   }
  },
  {
   "cell_type": "code",
   "execution_count": 42,
   "outputs": [
    {
     "data": {
      "text/html": "<div>                            <div id=\"e0c6ff4a-35cc-4bf2-8a01-a6fa63ec3286\" class=\"plotly-graph-div\" style=\"height:525px; width:100%;\"></div>            <script type=\"text/javascript\">                require([\"plotly\"], function(Plotly) {                    window.PLOTLYENV=window.PLOTLYENV || {};                                    if (document.getElementById(\"e0c6ff4a-35cc-4bf2-8a01-a6fa63ec3286\")) {                    Plotly.newPlot(                        \"e0c6ff4a-35cc-4bf2-8a01-a6fa63ec3286\",                        [{\"type\": \"bar\", \"x\": [\"Millennials\", \"Steaks\", \"Lovers\", \"Pies\", \"Garages\", \"Mechanics\"], \"xaxis\": \"x\", \"y\": [0.2189906673565035, 0.20499520120254297, 0.21548274140433765, 0.2174847255077418, 0.2090386484717643, 0.2629902915564779], \"yaxis\": \"y\"}],                        {\"showlegend\": false, \"template\": {\"data\": {\"bar\": [{\"error_x\": {\"color\": \"#2a3f5f\"}, \"error_y\": {\"color\": \"#2a3f5f\"}, \"marker\": {\"line\": {\"color\": \"#E5ECF6\", \"width\": 0.5}}, \"type\": \"bar\"}], \"barpolar\": [{\"marker\": {\"line\": {\"color\": \"#E5ECF6\", \"width\": 0.5}}, \"type\": \"barpolar\"}], \"carpet\": [{\"aaxis\": {\"endlinecolor\": \"#2a3f5f\", \"gridcolor\": \"white\", \"linecolor\": \"white\", \"minorgridcolor\": \"white\", \"startlinecolor\": \"#2a3f5f\"}, \"baxis\": {\"endlinecolor\": \"#2a3f5f\", \"gridcolor\": \"white\", \"linecolor\": \"white\", \"minorgridcolor\": \"white\", \"startlinecolor\": \"#2a3f5f\"}, \"type\": \"carpet\"}], \"choropleth\": [{\"colorbar\": {\"outlinewidth\": 0, \"ticks\": \"\"}, \"type\": \"choropleth\"}], \"contour\": [{\"colorbar\": {\"outlinewidth\": 0, \"ticks\": \"\"}, \"colorscale\": [[0.0, \"#0d0887\"], [0.1111111111111111, \"#46039f\"], [0.2222222222222222, \"#7201a8\"], [0.3333333333333333, \"#9c179e\"], [0.4444444444444444, \"#bd3786\"], [0.5555555555555556, \"#d8576b\"], [0.6666666666666666, \"#ed7953\"], [0.7777777777777778, \"#fb9f3a\"], [0.8888888888888888, \"#fdca26\"], [1.0, \"#f0f921\"]], \"type\": \"contour\"}], \"contourcarpet\": [{\"colorbar\": {\"outlinewidth\": 0, \"ticks\": \"\"}, \"type\": \"contourcarpet\"}], \"heatmap\": [{\"colorbar\": {\"outlinewidth\": 0, \"ticks\": \"\"}, \"colorscale\": [[0.0, \"#0d0887\"], [0.1111111111111111, \"#46039f\"], [0.2222222222222222, \"#7201a8\"], [0.3333333333333333, \"#9c179e\"], [0.4444444444444444, \"#bd3786\"], [0.5555555555555556, \"#d8576b\"], [0.6666666666666666, \"#ed7953\"], [0.7777777777777778, \"#fb9f3a\"], [0.8888888888888888, \"#fdca26\"], [1.0, \"#f0f921\"]], \"type\": \"heatmap\"}], \"heatmapgl\": [{\"colorbar\": {\"outlinewidth\": 0, \"ticks\": \"\"}, \"colorscale\": [[0.0, \"#0d0887\"], [0.1111111111111111, \"#46039f\"], [0.2222222222222222, \"#7201a8\"], [0.3333333333333333, \"#9c179e\"], [0.4444444444444444, \"#bd3786\"], [0.5555555555555556, \"#d8576b\"], [0.6666666666666666, \"#ed7953\"], [0.7777777777777778, \"#fb9f3a\"], [0.8888888888888888, \"#fdca26\"], [1.0, \"#f0f921\"]], \"type\": \"heatmapgl\"}], \"histogram\": [{\"marker\": {\"colorbar\": {\"outlinewidth\": 0, \"ticks\": \"\"}}, \"type\": \"histogram\"}], \"histogram2d\": [{\"colorbar\": {\"outlinewidth\": 0, \"ticks\": \"\"}, \"colorscale\": [[0.0, \"#0d0887\"], [0.1111111111111111, \"#46039f\"], [0.2222222222222222, \"#7201a8\"], [0.3333333333333333, \"#9c179e\"], [0.4444444444444444, \"#bd3786\"], [0.5555555555555556, \"#d8576b\"], [0.6666666666666666, \"#ed7953\"], [0.7777777777777778, \"#fb9f3a\"], [0.8888888888888888, \"#fdca26\"], [1.0, \"#f0f921\"]], \"type\": \"histogram2d\"}], \"histogram2dcontour\": [{\"colorbar\": {\"outlinewidth\": 0, \"ticks\": \"\"}, \"colorscale\": [[0.0, \"#0d0887\"], [0.1111111111111111, \"#46039f\"], [0.2222222222222222, \"#7201a8\"], [0.3333333333333333, \"#9c179e\"], [0.4444444444444444, \"#bd3786\"], [0.5555555555555556, \"#d8576b\"], [0.6666666666666666, \"#ed7953\"], [0.7777777777777778, \"#fb9f3a\"], [0.8888888888888888, \"#fdca26\"], [1.0, \"#f0f921\"]], \"type\": \"histogram2dcontour\"}], \"mesh3d\": [{\"colorbar\": {\"outlinewidth\": 0, \"ticks\": \"\"}, \"type\": \"mesh3d\"}], \"parcoords\": [{\"line\": {\"colorbar\": {\"outlinewidth\": 0, \"ticks\": \"\"}}, \"type\": \"parcoords\"}], \"pie\": [{\"automargin\": true, \"type\": \"pie\"}], \"scatter\": [{\"marker\": {\"colorbar\": {\"outlinewidth\": 0, \"ticks\": \"\"}}, \"type\": \"scatter\"}], \"scatter3d\": [{\"line\": {\"colorbar\": {\"outlinewidth\": 0, \"ticks\": \"\"}}, \"marker\": {\"colorbar\": {\"outlinewidth\": 0, \"ticks\": \"\"}}, \"type\": \"scatter3d\"}], \"scattercarpet\": [{\"marker\": {\"colorbar\": {\"outlinewidth\": 0, \"ticks\": \"\"}}, \"type\": \"scattercarpet\"}], \"scattergeo\": [{\"marker\": {\"colorbar\": {\"outlinewidth\": 0, \"ticks\": \"\"}}, \"type\": \"scattergeo\"}], \"scattergl\": [{\"marker\": {\"colorbar\": {\"outlinewidth\": 0, \"ticks\": \"\"}}, \"type\": \"scattergl\"}], \"scattermapbox\": [{\"marker\": {\"colorbar\": {\"outlinewidth\": 0, \"ticks\": \"\"}}, \"type\": \"scattermapbox\"}], \"scatterpolar\": [{\"marker\": {\"colorbar\": {\"outlinewidth\": 0, \"ticks\": \"\"}}, \"type\": \"scatterpolar\"}], \"scatterpolargl\": [{\"marker\": {\"colorbar\": {\"outlinewidth\": 0, \"ticks\": \"\"}}, \"type\": \"scatterpolargl\"}], \"scatterternary\": [{\"marker\": {\"colorbar\": {\"outlinewidth\": 0, \"ticks\": \"\"}}, \"type\": \"scatterternary\"}], \"surface\": [{\"colorbar\": {\"outlinewidth\": 0, \"ticks\": \"\"}, \"colorscale\": [[0.0, \"#0d0887\"], [0.1111111111111111, \"#46039f\"], [0.2222222222222222, \"#7201a8\"], [0.3333333333333333, \"#9c179e\"], [0.4444444444444444, \"#bd3786\"], [0.5555555555555556, \"#d8576b\"], [0.6666666666666666, \"#ed7953\"], [0.7777777777777778, \"#fb9f3a\"], [0.8888888888888888, \"#fdca26\"], [1.0, \"#f0f921\"]], \"type\": \"surface\"}], \"table\": [{\"cells\": {\"fill\": {\"color\": \"#EBF0F8\"}, \"line\": {\"color\": \"white\"}}, \"header\": {\"fill\": {\"color\": \"#C8D4E3\"}, \"line\": {\"color\": \"white\"}}, \"type\": \"table\"}]}, \"layout\": {\"annotationdefaults\": {\"arrowcolor\": \"#2a3f5f\", \"arrowhead\": 0, \"arrowwidth\": 1}, \"autotypenumbers\": \"strict\", \"coloraxis\": {\"colorbar\": {\"outlinewidth\": 0, \"ticks\": \"\"}}, \"colorscale\": {\"diverging\": [[0, \"#8e0152\"], [0.1, \"#c51b7d\"], [0.2, \"#de77ae\"], [0.3, \"#f1b6da\"], [0.4, \"#fde0ef\"], [0.5, \"#f7f7f7\"], [0.6, \"#e6f5d0\"], [0.7, \"#b8e186\"], [0.8, \"#7fbc41\"], [0.9, \"#4d9221\"], [1, \"#276419\"]], \"sequential\": [[0.0, \"#0d0887\"], [0.1111111111111111, \"#46039f\"], [0.2222222222222222, \"#7201a8\"], [0.3333333333333333, \"#9c179e\"], [0.4444444444444444, \"#bd3786\"], [0.5555555555555556, \"#d8576b\"], [0.6666666666666666, \"#ed7953\"], [0.7777777777777778, \"#fb9f3a\"], [0.8888888888888888, \"#fdca26\"], [1.0, \"#f0f921\"]], \"sequentialminus\": [[0.0, \"#0d0887\"], [0.1111111111111111, \"#46039f\"], [0.2222222222222222, \"#7201a8\"], [0.3333333333333333, \"#9c179e\"], [0.4444444444444444, \"#bd3786\"], [0.5555555555555556, \"#d8576b\"], [0.6666666666666666, \"#ed7953\"], [0.7777777777777778, \"#fb9f3a\"], [0.8888888888888888, \"#fdca26\"], [1.0, \"#f0f921\"]]}, \"colorway\": [\"#636efa\", \"#EF553B\", \"#00cc96\", \"#ab63fa\", \"#FFA15A\", \"#19d3f3\", \"#FF6692\", \"#B6E880\", \"#FF97FF\", \"#FECB52\"], \"font\": {\"color\": \"#2a3f5f\"}, \"geo\": {\"bgcolor\": \"white\", \"lakecolor\": \"white\", \"landcolor\": \"#E5ECF6\", \"showlakes\": true, \"showland\": true, \"subunitcolor\": \"white\"}, \"hoverlabel\": {\"align\": \"left\"}, \"hovermode\": \"closest\", \"mapbox\": {\"style\": \"light\"}, \"paper_bgcolor\": \"white\", \"plot_bgcolor\": \"#E5ECF6\", \"polar\": {\"angularaxis\": {\"gridcolor\": \"white\", \"linecolor\": \"white\", \"ticks\": \"\"}, \"bgcolor\": \"#E5ECF6\", \"radialaxis\": {\"gridcolor\": \"white\", \"linecolor\": \"white\", \"ticks\": \"\"}}, \"scene\": {\"xaxis\": {\"backgroundcolor\": \"#E5ECF6\", \"gridcolor\": \"white\", \"gridwidth\": 2, \"linecolor\": \"white\", \"showbackground\": true, \"ticks\": \"\", \"zerolinecolor\": \"white\"}, \"yaxis\": {\"backgroundcolor\": \"#E5ECF6\", \"gridcolor\": \"white\", \"gridwidth\": 2, \"linecolor\": \"white\", \"showbackground\": true, \"ticks\": \"\", \"zerolinecolor\": \"white\"}, \"zaxis\": {\"backgroundcolor\": \"#E5ECF6\", \"gridcolor\": \"white\", \"gridwidth\": 2, \"linecolor\": \"white\", \"showbackground\": true, \"ticks\": \"\", \"zerolinecolor\": \"white\"}}, \"shapedefaults\": {\"line\": {\"color\": \"#2a3f5f\"}}, \"ternary\": {\"aaxis\": {\"gridcolor\": \"white\", \"linecolor\": \"white\", \"ticks\": \"\"}, \"baxis\": {\"gridcolor\": \"white\", \"linecolor\": \"white\", \"ticks\": \"\"}, \"bgcolor\": \"#E5ECF6\", \"caxis\": {\"gridcolor\": \"white\", \"linecolor\": \"white\", \"ticks\": \"\"}}, \"title\": {\"x\": 0.05}, \"xaxis\": {\"automargin\": true, \"gridcolor\": \"white\", \"linecolor\": \"white\", \"ticks\": \"\", \"title\": {\"standoff\": 15}, \"zerolinecolor\": \"white\", \"zerolinewidth\": 2}, \"yaxis\": {\"automargin\": true, \"gridcolor\": \"white\", \"linecolor\": \"white\", \"ticks\": \"\", \"title\": {\"standoff\": 15}, \"zerolinecolor\": \"white\", \"zerolinewidth\": 2}}}, \"title\": {\"text\": \"Hitting Flotation Bubble: Change in Average Stars\"}, \"xaxis\": {\"anchor\": \"y\", \"domain\": [0.0, 1.0]}, \"yaxis\": {\"anchor\": \"x\", \"domain\": [0.0, 1.0]}},                        {\"responsive\": true}                    ).then(function(){\n                            \nvar gd = document.getElementById('e0c6ff4a-35cc-4bf2-8a01-a6fa63ec3286');\nvar x = new MutationObserver(function (mutations, observer) {{\n        var display = window.getComputedStyle(gd).display;\n        if (!display || display === 'none') {{\n            console.log([gd, 'removed!']);\n            Plotly.purge(gd);\n            observer.disconnect();\n        }}\n}});\n\n// Listen for the removal of the full notebook cells\nvar notebookContainer = gd.closest('#notebook-container');\nif (notebookContainer) {{\n    x.observe(notebookContainer, {childList: true});\n}}\n\n// Listen for the clearing of the current output cell\nvar outputEl = gd.closest('.output');\nif (outputEl) {{\n    x.observe(outputEl, {childList: true});\n}}\n\n                        })                };                });            </script>        </div>"
     },
     "metadata": {},
     "output_type": "display_data"
    }
   ],
   "source": [
    "fig = subplot.make_subplots(cols=1, rows=1)\n",
    "fig.add_bar(x=hit_bubble.index, y=hit_bubble[\"change_in_batting_stars\"], col=1, row=1)\n",
    "fig.update_layout(showlegend=False, title_text=\"Hitting Flotation Bubble: Change in Average Stars\")\n",
    "fig.show()"
   ],
   "metadata": {
    "collapsed": false,
    "pycharm": {
     "name": "#%%\n"
    }
   }
  },
  {
   "cell_type": "markdown",
   "source": [
    "### Defense Flotation Bubble\n",
    "**Your entire Division's defense is boosted by 4%.**\n",
    "\n",
    "See below for team and division improvement."
   ],
   "metadata": {
    "collapsed": false,
    "pycharm": {
     "name": "#%% md\n"
    }
   }
  },
  {
   "cell_type": "code",
   "execution_count": 43,
   "outputs": [
    {
     "data": {
      "text/plain": "                  old_defense_stars  new_defense_stars  \\\nYusef Puddles              3.596398           3.771363   \nBeasley Day                1.617475           1.874712   \nLang Richardson            3.451126           3.635072   \n-od- Preston               1.957512           2.190466   \nHuber Frumple              3.126600           3.304417   \nEduardo Woodman            3.554369           3.726999   \nJaxon Buckley              2.054179           2.274114   \nHenry Marshallow           3.576140           3.768800   \nNicholas Mora              4.746472           4.893326   \nDoc Anice                  3.683109           3.847719   \nRuslan Greatness           4.879502           5.022202   \nElvis Figueroa             3.740164           3.906271   \n\n                  change_in_defense_stars  \nYusef Puddles                    0.174965  \nBeasley Day                      0.257237  \nLang Richardson                  0.183946  \n-od- Preston                     0.232954  \nHuber Frumple                    0.177817  \nEduardo Woodman                  0.172630  \nJaxon Buckley                    0.219935  \nHenry Marshallow                 0.192661  \nNicholas Mora                    0.146854  \nDoc Anice                        0.164610  \nRuslan Greatness                 0.142700  \nElvis Figueroa                   0.166107  ",
      "text/html": "<div>\n<style scoped>\n    .dataframe tbody tr th:only-of-type {\n        vertical-align: middle;\n    }\n\n    .dataframe tbody tr th {\n        vertical-align: top;\n    }\n\n    .dataframe thead th {\n        text-align: right;\n    }\n</style>\n<table border=\"1\" class=\"dataframe\">\n  <thead>\n    <tr style=\"text-align: right;\">\n      <th></th>\n      <th>old_defense_stars</th>\n      <th>new_defense_stars</th>\n      <th>change_in_defense_stars</th>\n    </tr>\n  </thead>\n  <tbody>\n    <tr>\n      <th>Yusef Puddles</th>\n      <td>3.596398</td>\n      <td>3.771363</td>\n      <td>0.174965</td>\n    </tr>\n    <tr>\n      <th>Beasley Day</th>\n      <td>1.617475</td>\n      <td>1.874712</td>\n      <td>0.257237</td>\n    </tr>\n    <tr>\n      <th>Lang Richardson</th>\n      <td>3.451126</td>\n      <td>3.635072</td>\n      <td>0.183946</td>\n    </tr>\n    <tr>\n      <th>-od- Preston</th>\n      <td>1.957512</td>\n      <td>2.190466</td>\n      <td>0.232954</td>\n    </tr>\n    <tr>\n      <th>Huber Frumple</th>\n      <td>3.126600</td>\n      <td>3.304417</td>\n      <td>0.177817</td>\n    </tr>\n    <tr>\n      <th>Eduardo Woodman</th>\n      <td>3.554369</td>\n      <td>3.726999</td>\n      <td>0.172630</td>\n    </tr>\n    <tr>\n      <th>Jaxon Buckley</th>\n      <td>2.054179</td>\n      <td>2.274114</td>\n      <td>0.219935</td>\n    </tr>\n    <tr>\n      <th>Henry Marshallow</th>\n      <td>3.576140</td>\n      <td>3.768800</td>\n      <td>0.192661</td>\n    </tr>\n    <tr>\n      <th>Nicholas Mora</th>\n      <td>4.746472</td>\n      <td>4.893326</td>\n      <td>0.146854</td>\n    </tr>\n    <tr>\n      <th>Doc Anice</th>\n      <td>3.683109</td>\n      <td>3.847719</td>\n      <td>0.164610</td>\n    </tr>\n    <tr>\n      <th>Ruslan Greatness</th>\n      <td>4.879502</td>\n      <td>5.022202</td>\n      <td>0.142700</td>\n    </tr>\n    <tr>\n      <th>Elvis Figueroa</th>\n      <td>3.740164</td>\n      <td>3.906271</td>\n      <td>0.166107</td>\n    </tr>\n  </tbody>\n</table>\n</div>"
     },
     "execution_count": 43,
     "metadata": {},
     "output_type": "execute_result"
    }
   ],
   "source": [
    "table, _, _ = improve_team_defense_table(pies, 0.04)\n",
    "pandas.DataFrame(table)"
   ],
   "metadata": {
    "collapsed": false,
    "pycharm": {
     "name": "#%%\n"
    }
   }
  },
  {
   "cell_type": "code",
   "execution_count": 44,
   "outputs": [
    {
     "data": {
      "text/plain": "                         Millennials    Steaks    Lovers      Pies   Garages  \\\nchange_in_defense_stars     0.250979  0.197875  0.209982  0.186035  0.267027   \nnew_defense_stars           3.071150  3.474153  3.486752  3.517955  2.992430   \nold_defense_stars           2.820172  3.276278  3.276770  3.331920  2.725403   \n\n                         Mechanics  \nchange_in_defense_stars   0.323440  \nnew_defense_stars         2.875985  \nold_defense_stars         2.552545  ",
      "text/html": "<div>\n<style scoped>\n    .dataframe tbody tr th:only-of-type {\n        vertical-align: middle;\n    }\n\n    .dataframe tbody tr th {\n        vertical-align: top;\n    }\n\n    .dataframe thead th {\n        text-align: right;\n    }\n</style>\n<table border=\"1\" class=\"dataframe\">\n  <thead>\n    <tr style=\"text-align: right;\">\n      <th></th>\n      <th>Millennials</th>\n      <th>Steaks</th>\n      <th>Lovers</th>\n      <th>Pies</th>\n      <th>Garages</th>\n      <th>Mechanics</th>\n    </tr>\n  </thead>\n  <tbody>\n    <tr>\n      <th>change_in_defense_stars</th>\n      <td>0.250979</td>\n      <td>0.197875</td>\n      <td>0.209982</td>\n      <td>0.186035</td>\n      <td>0.267027</td>\n      <td>0.323440</td>\n    </tr>\n    <tr>\n      <th>new_defense_stars</th>\n      <td>3.071150</td>\n      <td>3.474153</td>\n      <td>3.486752</td>\n      <td>3.517955</td>\n      <td>2.992430</td>\n      <td>2.875985</td>\n    </tr>\n    <tr>\n      <th>old_defense_stars</th>\n      <td>2.820172</td>\n      <td>3.276278</td>\n      <td>3.276770</td>\n      <td>3.331920</td>\n      <td>2.725403</td>\n      <td>2.552545</td>\n    </tr>\n  </tbody>\n</table>\n</div>"
     },
     "execution_count": 44,
     "metadata": {},
     "output_type": "execute_result"
    }
   ],
   "source": [
    "def_bubble = pandas.DataFrame()\n",
    "for team in mild_high.teams.values():\n",
    "    _, _, average = improve_team_defense_table(team, 0.04)\n",
    "    average = average.rename(team.nickname)\n",
    "    def_bubble = def_bubble.append(average)\n",
    "def_bubble.transpose()"
   ],
   "metadata": {
    "collapsed": false,
    "pycharm": {
     "name": "#%%\n"
    }
   }
  },
  {
   "cell_type": "code",
   "execution_count": 45,
   "outputs": [
    {
     "data": {
      "text/html": "<div>                            <div id=\"330ad15d-d5a2-4a37-a058-9cd923a55c27\" class=\"plotly-graph-div\" style=\"height:525px; width:100%;\"></div>            <script type=\"text/javascript\">                require([\"plotly\"], function(Plotly) {                    window.PLOTLYENV=window.PLOTLYENV || {};                                    if (document.getElementById(\"330ad15d-d5a2-4a37-a058-9cd923a55c27\")) {                    Plotly.newPlot(                        \"330ad15d-d5a2-4a37-a058-9cd923a55c27\",                        [{\"type\": \"bar\", \"x\": [\"Millennials\", \"Steaks\", \"Lovers\", \"Pies\", \"Garages\", \"Mechanics\"], \"xaxis\": \"x\", \"y\": [0.2509788344936224, 0.1978749563446839, 0.20998151071907875, 0.18603461493463447, 0.2670272738065494, 0.32343979951379176], \"yaxis\": \"y\"}],                        {\"showlegend\": false, \"template\": {\"data\": {\"bar\": [{\"error_x\": {\"color\": \"#2a3f5f\"}, \"error_y\": {\"color\": \"#2a3f5f\"}, \"marker\": {\"line\": {\"color\": \"#E5ECF6\", \"width\": 0.5}}, \"type\": \"bar\"}], \"barpolar\": [{\"marker\": {\"line\": {\"color\": \"#E5ECF6\", \"width\": 0.5}}, \"type\": \"barpolar\"}], \"carpet\": [{\"aaxis\": {\"endlinecolor\": \"#2a3f5f\", \"gridcolor\": \"white\", \"linecolor\": \"white\", \"minorgridcolor\": \"white\", \"startlinecolor\": \"#2a3f5f\"}, \"baxis\": {\"endlinecolor\": \"#2a3f5f\", \"gridcolor\": \"white\", \"linecolor\": \"white\", \"minorgridcolor\": \"white\", \"startlinecolor\": \"#2a3f5f\"}, \"type\": \"carpet\"}], \"choropleth\": [{\"colorbar\": {\"outlinewidth\": 0, \"ticks\": \"\"}, \"type\": \"choropleth\"}], \"contour\": [{\"colorbar\": {\"outlinewidth\": 0, \"ticks\": \"\"}, \"colorscale\": [[0.0, \"#0d0887\"], [0.1111111111111111, \"#46039f\"], [0.2222222222222222, \"#7201a8\"], [0.3333333333333333, \"#9c179e\"], [0.4444444444444444, \"#bd3786\"], [0.5555555555555556, \"#d8576b\"], [0.6666666666666666, \"#ed7953\"], [0.7777777777777778, \"#fb9f3a\"], [0.8888888888888888, \"#fdca26\"], [1.0, \"#f0f921\"]], \"type\": \"contour\"}], \"contourcarpet\": [{\"colorbar\": {\"outlinewidth\": 0, \"ticks\": \"\"}, \"type\": \"contourcarpet\"}], \"heatmap\": [{\"colorbar\": {\"outlinewidth\": 0, \"ticks\": \"\"}, \"colorscale\": [[0.0, \"#0d0887\"], [0.1111111111111111, \"#46039f\"], [0.2222222222222222, \"#7201a8\"], [0.3333333333333333, \"#9c179e\"], [0.4444444444444444, \"#bd3786\"], [0.5555555555555556, \"#d8576b\"], [0.6666666666666666, \"#ed7953\"], [0.7777777777777778, \"#fb9f3a\"], [0.8888888888888888, \"#fdca26\"], [1.0, \"#f0f921\"]], \"type\": \"heatmap\"}], \"heatmapgl\": [{\"colorbar\": {\"outlinewidth\": 0, \"ticks\": \"\"}, \"colorscale\": [[0.0, \"#0d0887\"], [0.1111111111111111, \"#46039f\"], [0.2222222222222222, \"#7201a8\"], [0.3333333333333333, \"#9c179e\"], [0.4444444444444444, \"#bd3786\"], [0.5555555555555556, \"#d8576b\"], [0.6666666666666666, \"#ed7953\"], [0.7777777777777778, \"#fb9f3a\"], [0.8888888888888888, \"#fdca26\"], [1.0, \"#f0f921\"]], \"type\": \"heatmapgl\"}], \"histogram\": [{\"marker\": {\"colorbar\": {\"outlinewidth\": 0, \"ticks\": \"\"}}, \"type\": \"histogram\"}], \"histogram2d\": [{\"colorbar\": {\"outlinewidth\": 0, \"ticks\": \"\"}, \"colorscale\": [[0.0, \"#0d0887\"], [0.1111111111111111, \"#46039f\"], [0.2222222222222222, \"#7201a8\"], [0.3333333333333333, \"#9c179e\"], [0.4444444444444444, \"#bd3786\"], [0.5555555555555556, \"#d8576b\"], [0.6666666666666666, \"#ed7953\"], [0.7777777777777778, \"#fb9f3a\"], [0.8888888888888888, \"#fdca26\"], [1.0, \"#f0f921\"]], \"type\": \"histogram2d\"}], \"histogram2dcontour\": [{\"colorbar\": {\"outlinewidth\": 0, \"ticks\": \"\"}, \"colorscale\": [[0.0, \"#0d0887\"], [0.1111111111111111, \"#46039f\"], [0.2222222222222222, \"#7201a8\"], [0.3333333333333333, \"#9c179e\"], [0.4444444444444444, \"#bd3786\"], [0.5555555555555556, \"#d8576b\"], [0.6666666666666666, \"#ed7953\"], [0.7777777777777778, \"#fb9f3a\"], [0.8888888888888888, \"#fdca26\"], [1.0, \"#f0f921\"]], \"type\": \"histogram2dcontour\"}], \"mesh3d\": [{\"colorbar\": {\"outlinewidth\": 0, \"ticks\": \"\"}, \"type\": \"mesh3d\"}], \"parcoords\": [{\"line\": {\"colorbar\": {\"outlinewidth\": 0, \"ticks\": \"\"}}, \"type\": \"parcoords\"}], \"pie\": [{\"automargin\": true, \"type\": \"pie\"}], \"scatter\": [{\"marker\": {\"colorbar\": {\"outlinewidth\": 0, \"ticks\": \"\"}}, \"type\": \"scatter\"}], \"scatter3d\": [{\"line\": {\"colorbar\": {\"outlinewidth\": 0, \"ticks\": \"\"}}, \"marker\": {\"colorbar\": {\"outlinewidth\": 0, \"ticks\": \"\"}}, \"type\": \"scatter3d\"}], \"scattercarpet\": [{\"marker\": {\"colorbar\": {\"outlinewidth\": 0, \"ticks\": \"\"}}, \"type\": \"scattercarpet\"}], \"scattergeo\": [{\"marker\": {\"colorbar\": {\"outlinewidth\": 0, \"ticks\": \"\"}}, \"type\": \"scattergeo\"}], \"scattergl\": [{\"marker\": {\"colorbar\": {\"outlinewidth\": 0, \"ticks\": \"\"}}, \"type\": \"scattergl\"}], \"scattermapbox\": [{\"marker\": {\"colorbar\": {\"outlinewidth\": 0, \"ticks\": \"\"}}, \"type\": \"scattermapbox\"}], \"scatterpolar\": [{\"marker\": {\"colorbar\": {\"outlinewidth\": 0, \"ticks\": \"\"}}, \"type\": \"scatterpolar\"}], \"scatterpolargl\": [{\"marker\": {\"colorbar\": {\"outlinewidth\": 0, \"ticks\": \"\"}}, \"type\": \"scatterpolargl\"}], \"scatterternary\": [{\"marker\": {\"colorbar\": {\"outlinewidth\": 0, \"ticks\": \"\"}}, \"type\": \"scatterternary\"}], \"surface\": [{\"colorbar\": {\"outlinewidth\": 0, \"ticks\": \"\"}, \"colorscale\": [[0.0, \"#0d0887\"], [0.1111111111111111, \"#46039f\"], [0.2222222222222222, \"#7201a8\"], [0.3333333333333333, \"#9c179e\"], [0.4444444444444444, \"#bd3786\"], [0.5555555555555556, \"#d8576b\"], [0.6666666666666666, \"#ed7953\"], [0.7777777777777778, \"#fb9f3a\"], [0.8888888888888888, \"#fdca26\"], [1.0, \"#f0f921\"]], \"type\": \"surface\"}], \"table\": [{\"cells\": {\"fill\": {\"color\": \"#EBF0F8\"}, \"line\": {\"color\": \"white\"}}, \"header\": {\"fill\": {\"color\": \"#C8D4E3\"}, \"line\": {\"color\": \"white\"}}, \"type\": \"table\"}]}, \"layout\": {\"annotationdefaults\": {\"arrowcolor\": \"#2a3f5f\", \"arrowhead\": 0, \"arrowwidth\": 1}, \"autotypenumbers\": \"strict\", \"coloraxis\": {\"colorbar\": {\"outlinewidth\": 0, \"ticks\": \"\"}}, \"colorscale\": {\"diverging\": [[0, \"#8e0152\"], [0.1, \"#c51b7d\"], [0.2, \"#de77ae\"], [0.3, \"#f1b6da\"], [0.4, \"#fde0ef\"], [0.5, \"#f7f7f7\"], [0.6, \"#e6f5d0\"], [0.7, \"#b8e186\"], [0.8, \"#7fbc41\"], [0.9, \"#4d9221\"], [1, \"#276419\"]], \"sequential\": [[0.0, \"#0d0887\"], [0.1111111111111111, \"#46039f\"], [0.2222222222222222, \"#7201a8\"], [0.3333333333333333, \"#9c179e\"], [0.4444444444444444, \"#bd3786\"], [0.5555555555555556, \"#d8576b\"], [0.6666666666666666, \"#ed7953\"], [0.7777777777777778, \"#fb9f3a\"], [0.8888888888888888, \"#fdca26\"], [1.0, \"#f0f921\"]], \"sequentialminus\": [[0.0, \"#0d0887\"], [0.1111111111111111, \"#46039f\"], [0.2222222222222222, \"#7201a8\"], [0.3333333333333333, \"#9c179e\"], [0.4444444444444444, \"#bd3786\"], [0.5555555555555556, \"#d8576b\"], [0.6666666666666666, \"#ed7953\"], [0.7777777777777778, \"#fb9f3a\"], [0.8888888888888888, \"#fdca26\"], [1.0, \"#f0f921\"]]}, \"colorway\": [\"#636efa\", \"#EF553B\", \"#00cc96\", \"#ab63fa\", \"#FFA15A\", \"#19d3f3\", \"#FF6692\", \"#B6E880\", \"#FF97FF\", \"#FECB52\"], \"font\": {\"color\": \"#2a3f5f\"}, \"geo\": {\"bgcolor\": \"white\", \"lakecolor\": \"white\", \"landcolor\": \"#E5ECF6\", \"showlakes\": true, \"showland\": true, \"subunitcolor\": \"white\"}, \"hoverlabel\": {\"align\": \"left\"}, \"hovermode\": \"closest\", \"mapbox\": {\"style\": \"light\"}, \"paper_bgcolor\": \"white\", \"plot_bgcolor\": \"#E5ECF6\", \"polar\": {\"angularaxis\": {\"gridcolor\": \"white\", \"linecolor\": \"white\", \"ticks\": \"\"}, \"bgcolor\": \"#E5ECF6\", \"radialaxis\": {\"gridcolor\": \"white\", \"linecolor\": \"white\", \"ticks\": \"\"}}, \"scene\": {\"xaxis\": {\"backgroundcolor\": \"#E5ECF6\", \"gridcolor\": \"white\", \"gridwidth\": 2, \"linecolor\": \"white\", \"showbackground\": true, \"ticks\": \"\", \"zerolinecolor\": \"white\"}, \"yaxis\": {\"backgroundcolor\": \"#E5ECF6\", \"gridcolor\": \"white\", \"gridwidth\": 2, \"linecolor\": \"white\", \"showbackground\": true, \"ticks\": \"\", \"zerolinecolor\": \"white\"}, \"zaxis\": {\"backgroundcolor\": \"#E5ECF6\", \"gridcolor\": \"white\", \"gridwidth\": 2, \"linecolor\": \"white\", \"showbackground\": true, \"ticks\": \"\", \"zerolinecolor\": \"white\"}}, \"shapedefaults\": {\"line\": {\"color\": \"#2a3f5f\"}}, \"ternary\": {\"aaxis\": {\"gridcolor\": \"white\", \"linecolor\": \"white\", \"ticks\": \"\"}, \"baxis\": {\"gridcolor\": \"white\", \"linecolor\": \"white\", \"ticks\": \"\"}, \"bgcolor\": \"#E5ECF6\", \"caxis\": {\"gridcolor\": \"white\", \"linecolor\": \"white\", \"ticks\": \"\"}}, \"title\": {\"x\": 0.05}, \"xaxis\": {\"automargin\": true, \"gridcolor\": \"white\", \"linecolor\": \"white\", \"ticks\": \"\", \"title\": {\"standoff\": 15}, \"zerolinecolor\": \"white\", \"zerolinewidth\": 2}, \"yaxis\": {\"automargin\": true, \"gridcolor\": \"white\", \"linecolor\": \"white\", \"ticks\": \"\", \"title\": {\"standoff\": 15}, \"zerolinecolor\": \"white\", \"zerolinewidth\": 2}}}, \"title\": {\"text\": \"Defense Flotation Bubble: Change in Average Stars\"}, \"xaxis\": {\"anchor\": \"y\", \"domain\": [0.0, 1.0]}, \"yaxis\": {\"anchor\": \"x\", \"domain\": [0.0, 1.0]}},                        {\"responsive\": true}                    ).then(function(){\n                            \nvar gd = document.getElementById('330ad15d-d5a2-4a37-a058-9cd923a55c27');\nvar x = new MutationObserver(function (mutations, observer) {{\n        var display = window.getComputedStyle(gd).display;\n        if (!display || display === 'none') {{\n            console.log([gd, 'removed!']);\n            Plotly.purge(gd);\n            observer.disconnect();\n        }}\n}});\n\n// Listen for the removal of the full notebook cells\nvar notebookContainer = gd.closest('#notebook-container');\nif (notebookContainer) {{\n    x.observe(notebookContainer, {childList: true});\n}}\n\n// Listen for the clearing of the current output cell\nvar outputEl = gd.closest('.output');\nif (outputEl) {{\n    x.observe(outputEl, {childList: true});\n}}\n\n                        })                };                });            </script>        </div>"
     },
     "metadata": {},
     "output_type": "display_data"
    }
   ],
   "source": [
    "fig = subplot.make_subplots(cols=1, rows=1)\n",
    "fig.add_bar(x=def_bubble.index, y=def_bubble[\"change_in_defense_stars\"], col=1, row=1)\n",
    "fig.update_layout(showlegend=False, title_text=\"Defense Flotation Bubble: Change in Average Stars\")\n",
    "fig.show()"
   ],
   "metadata": {
    "collapsed": false,
    "pycharm": {
     "name": "#%%\n"
    }
   }
  },
  {
   "cell_type": "markdown",
   "source": [
    "### Baserunning Flotation Bubble\n",
    "**Your entire Division's baserunning is boosted by 4%.**\n",
    "\n",
    "See below for team and division improvement."
   ],
   "metadata": {
    "collapsed": false,
    "pycharm": {
     "name": "#%% md\n"
    }
   }
  },
  {
   "cell_type": "code",
   "execution_count": 46,
   "outputs": [
    {
     "data": {
      "text/plain": "                 old_baserunning_stars  new_baserunning_stars  \\\nYusef Puddles                 2.817447               3.023073   \nBeasley Day                   2.470609               2.672526   \nLang Richardson               3.241335               3.437737   \n-od- Preston                  3.687356               3.878432   \nHuber Frumple                 4.209709               4.393368   \nEduardo Woodman               3.519368               3.709222   \nJaxon Buckley                 3.263785               3.457718   \n\n                 change_in_baserunning_stars  \nYusef Puddles                       0.205626  \nBeasley Day                         0.201916  \nLang Richardson                     0.196403  \n-od- Preston                        0.191076  \nHuber Frumple                       0.183660  \nEduardo Woodman                     0.189854  \nJaxon Buckley                       0.193933  ",
      "text/html": "<div>\n<style scoped>\n    .dataframe tbody tr th:only-of-type {\n        vertical-align: middle;\n    }\n\n    .dataframe tbody tr th {\n        vertical-align: top;\n    }\n\n    .dataframe thead th {\n        text-align: right;\n    }\n</style>\n<table border=\"1\" class=\"dataframe\">\n  <thead>\n    <tr style=\"text-align: right;\">\n      <th></th>\n      <th>old_baserunning_stars</th>\n      <th>new_baserunning_stars</th>\n      <th>change_in_baserunning_stars</th>\n    </tr>\n  </thead>\n  <tbody>\n    <tr>\n      <th>Yusef Puddles</th>\n      <td>2.817447</td>\n      <td>3.023073</td>\n      <td>0.205626</td>\n    </tr>\n    <tr>\n      <th>Beasley Day</th>\n      <td>2.470609</td>\n      <td>2.672526</td>\n      <td>0.201916</td>\n    </tr>\n    <tr>\n      <th>Lang Richardson</th>\n      <td>3.241335</td>\n      <td>3.437737</td>\n      <td>0.196403</td>\n    </tr>\n    <tr>\n      <th>-od- Preston</th>\n      <td>3.687356</td>\n      <td>3.878432</td>\n      <td>0.191076</td>\n    </tr>\n    <tr>\n      <th>Huber Frumple</th>\n      <td>4.209709</td>\n      <td>4.393368</td>\n      <td>0.183660</td>\n    </tr>\n    <tr>\n      <th>Eduardo Woodman</th>\n      <td>3.519368</td>\n      <td>3.709222</td>\n      <td>0.189854</td>\n    </tr>\n    <tr>\n      <th>Jaxon Buckley</th>\n      <td>3.263785</td>\n      <td>3.457718</td>\n      <td>0.193933</td>\n    </tr>\n  </tbody>\n</table>\n</div>"
     },
     "execution_count": 46,
     "metadata": {},
     "output_type": "execute_result"
    }
   ],
   "source": [
    "table, _, _ = improve_team_baserunning_table(pies, 0.04)\n",
    "pandas.DataFrame(table)"
   ],
   "metadata": {
    "collapsed": false,
    "pycharm": {
     "name": "#%%\n"
    }
   }
  },
  {
   "cell_type": "code",
   "execution_count": 47,
   "outputs": [
    {
     "data": {
      "text/plain": "                             Millennials    Steaks    Lovers      Pies  \\\nchange_in_baserunning_stars     0.208898  0.199959  0.236322  0.194638   \nnew_baserunning_stars           3.581181  3.829103  3.099301  3.510297   \nold_baserunning_stars           3.372282  3.629143  2.862979  3.315658   \n\n                              Garages  Mechanics  \nchange_in_baserunning_stars  0.207736   0.251661  \nnew_baserunning_stars        3.405116   2.101475  \nold_baserunning_stars        3.197381   1.849814  ",
      "text/html": "<div>\n<style scoped>\n    .dataframe tbody tr th:only-of-type {\n        vertical-align: middle;\n    }\n\n    .dataframe tbody tr th {\n        vertical-align: top;\n    }\n\n    .dataframe thead th {\n        text-align: right;\n    }\n</style>\n<table border=\"1\" class=\"dataframe\">\n  <thead>\n    <tr style=\"text-align: right;\">\n      <th></th>\n      <th>Millennials</th>\n      <th>Steaks</th>\n      <th>Lovers</th>\n      <th>Pies</th>\n      <th>Garages</th>\n      <th>Mechanics</th>\n    </tr>\n  </thead>\n  <tbody>\n    <tr>\n      <th>change_in_baserunning_stars</th>\n      <td>0.208898</td>\n      <td>0.199959</td>\n      <td>0.236322</td>\n      <td>0.194638</td>\n      <td>0.207736</td>\n      <td>0.251661</td>\n    </tr>\n    <tr>\n      <th>new_baserunning_stars</th>\n      <td>3.581181</td>\n      <td>3.829103</td>\n      <td>3.099301</td>\n      <td>3.510297</td>\n      <td>3.405116</td>\n      <td>2.101475</td>\n    </tr>\n    <tr>\n      <th>old_baserunning_stars</th>\n      <td>3.372282</td>\n      <td>3.629143</td>\n      <td>2.862979</td>\n      <td>3.315658</td>\n      <td>3.197381</td>\n      <td>1.849814</td>\n    </tr>\n  </tbody>\n</table>\n</div>"
     },
     "execution_count": 47,
     "metadata": {},
     "output_type": "execute_result"
    }
   ],
   "source": [
    "run_bubble = pandas.DataFrame()\n",
    "for team in mild_high.teams.values():\n",
    "    _, _, average = improve_team_baserunning_table(team, 0.04)\n",
    "    average = average.rename(team.nickname)\n",
    "    run_bubble = run_bubble.append(average)\n",
    "run_bubble.transpose()"
   ],
   "metadata": {
    "collapsed": false,
    "pycharm": {
     "name": "#%%\n"
    }
   }
  },
  {
   "cell_type": "code",
   "execution_count": 48,
   "outputs": [
    {
     "data": {
      "text/html": "<div>                            <div id=\"c4f7e160-2a10-46b1-a3c2-9c1d7940a9b5\" class=\"plotly-graph-div\" style=\"height:525px; width:100%;\"></div>            <script type=\"text/javascript\">                require([\"plotly\"], function(Plotly) {                    window.PLOTLYENV=window.PLOTLYENV || {};                                    if (document.getElementById(\"c4f7e160-2a10-46b1-a3c2-9c1d7940a9b5\")) {                    Plotly.newPlot(                        \"c4f7e160-2a10-46b1-a3c2-9c1d7940a9b5\",                        [{\"type\": \"bar\", \"x\": [\"Millennials\", \"Steaks\", \"Lovers\", \"Pies\", \"Garages\", \"Mechanics\"], \"xaxis\": \"x\", \"y\": [0.2088981483312152, 0.19995916915443568, 0.23632170660891658, 0.19463816291304456, 0.20773550682314845, 0.2516609033648126], \"yaxis\": \"y\"}],                        {\"showlegend\": false, \"template\": {\"data\": {\"bar\": [{\"error_x\": {\"color\": \"#2a3f5f\"}, \"error_y\": {\"color\": \"#2a3f5f\"}, \"marker\": {\"line\": {\"color\": \"#E5ECF6\", \"width\": 0.5}}, \"type\": \"bar\"}], \"barpolar\": [{\"marker\": {\"line\": {\"color\": \"#E5ECF6\", \"width\": 0.5}}, \"type\": \"barpolar\"}], \"carpet\": [{\"aaxis\": {\"endlinecolor\": \"#2a3f5f\", \"gridcolor\": \"white\", \"linecolor\": \"white\", \"minorgridcolor\": \"white\", \"startlinecolor\": \"#2a3f5f\"}, \"baxis\": {\"endlinecolor\": \"#2a3f5f\", \"gridcolor\": \"white\", \"linecolor\": \"white\", \"minorgridcolor\": \"white\", \"startlinecolor\": \"#2a3f5f\"}, \"type\": \"carpet\"}], \"choropleth\": [{\"colorbar\": {\"outlinewidth\": 0, \"ticks\": \"\"}, \"type\": \"choropleth\"}], \"contour\": [{\"colorbar\": {\"outlinewidth\": 0, \"ticks\": \"\"}, \"colorscale\": [[0.0, \"#0d0887\"], [0.1111111111111111, \"#46039f\"], [0.2222222222222222, \"#7201a8\"], [0.3333333333333333, \"#9c179e\"], [0.4444444444444444, \"#bd3786\"], [0.5555555555555556, \"#d8576b\"], [0.6666666666666666, \"#ed7953\"], [0.7777777777777778, \"#fb9f3a\"], [0.8888888888888888, \"#fdca26\"], [1.0, \"#f0f921\"]], \"type\": \"contour\"}], \"contourcarpet\": [{\"colorbar\": {\"outlinewidth\": 0, \"ticks\": \"\"}, \"type\": \"contourcarpet\"}], \"heatmap\": [{\"colorbar\": {\"outlinewidth\": 0, \"ticks\": \"\"}, \"colorscale\": [[0.0, \"#0d0887\"], [0.1111111111111111, \"#46039f\"], [0.2222222222222222, \"#7201a8\"], [0.3333333333333333, \"#9c179e\"], [0.4444444444444444, \"#bd3786\"], [0.5555555555555556, \"#d8576b\"], [0.6666666666666666, \"#ed7953\"], [0.7777777777777778, \"#fb9f3a\"], [0.8888888888888888, \"#fdca26\"], [1.0, \"#f0f921\"]], \"type\": \"heatmap\"}], \"heatmapgl\": [{\"colorbar\": {\"outlinewidth\": 0, \"ticks\": \"\"}, \"colorscale\": [[0.0, \"#0d0887\"], [0.1111111111111111, \"#46039f\"], [0.2222222222222222, \"#7201a8\"], [0.3333333333333333, \"#9c179e\"], [0.4444444444444444, \"#bd3786\"], [0.5555555555555556, \"#d8576b\"], [0.6666666666666666, \"#ed7953\"], [0.7777777777777778, \"#fb9f3a\"], [0.8888888888888888, \"#fdca26\"], [1.0, \"#f0f921\"]], \"type\": \"heatmapgl\"}], \"histogram\": [{\"marker\": {\"colorbar\": {\"outlinewidth\": 0, \"ticks\": \"\"}}, \"type\": \"histogram\"}], \"histogram2d\": [{\"colorbar\": {\"outlinewidth\": 0, \"ticks\": \"\"}, \"colorscale\": [[0.0, \"#0d0887\"], [0.1111111111111111, \"#46039f\"], [0.2222222222222222, \"#7201a8\"], [0.3333333333333333, \"#9c179e\"], [0.4444444444444444, \"#bd3786\"], [0.5555555555555556, \"#d8576b\"], [0.6666666666666666, \"#ed7953\"], [0.7777777777777778, \"#fb9f3a\"], [0.8888888888888888, \"#fdca26\"], [1.0, \"#f0f921\"]], \"type\": \"histogram2d\"}], \"histogram2dcontour\": [{\"colorbar\": {\"outlinewidth\": 0, \"ticks\": \"\"}, \"colorscale\": [[0.0, \"#0d0887\"], [0.1111111111111111, \"#46039f\"], [0.2222222222222222, \"#7201a8\"], [0.3333333333333333, \"#9c179e\"], [0.4444444444444444, \"#bd3786\"], [0.5555555555555556, \"#d8576b\"], [0.6666666666666666, \"#ed7953\"], [0.7777777777777778, \"#fb9f3a\"], [0.8888888888888888, \"#fdca26\"], [1.0, \"#f0f921\"]], \"type\": \"histogram2dcontour\"}], \"mesh3d\": [{\"colorbar\": {\"outlinewidth\": 0, \"ticks\": \"\"}, \"type\": \"mesh3d\"}], \"parcoords\": [{\"line\": {\"colorbar\": {\"outlinewidth\": 0, \"ticks\": \"\"}}, \"type\": \"parcoords\"}], \"pie\": [{\"automargin\": true, \"type\": \"pie\"}], \"scatter\": [{\"marker\": {\"colorbar\": {\"outlinewidth\": 0, \"ticks\": \"\"}}, \"type\": \"scatter\"}], \"scatter3d\": [{\"line\": {\"colorbar\": {\"outlinewidth\": 0, \"ticks\": \"\"}}, \"marker\": {\"colorbar\": {\"outlinewidth\": 0, \"ticks\": \"\"}}, \"type\": \"scatter3d\"}], \"scattercarpet\": [{\"marker\": {\"colorbar\": {\"outlinewidth\": 0, \"ticks\": \"\"}}, \"type\": \"scattercarpet\"}], \"scattergeo\": [{\"marker\": {\"colorbar\": {\"outlinewidth\": 0, \"ticks\": \"\"}}, \"type\": \"scattergeo\"}], \"scattergl\": [{\"marker\": {\"colorbar\": {\"outlinewidth\": 0, \"ticks\": \"\"}}, \"type\": \"scattergl\"}], \"scattermapbox\": [{\"marker\": {\"colorbar\": {\"outlinewidth\": 0, \"ticks\": \"\"}}, \"type\": \"scattermapbox\"}], \"scatterpolar\": [{\"marker\": {\"colorbar\": {\"outlinewidth\": 0, \"ticks\": \"\"}}, \"type\": \"scatterpolar\"}], \"scatterpolargl\": [{\"marker\": {\"colorbar\": {\"outlinewidth\": 0, \"ticks\": \"\"}}, \"type\": \"scatterpolargl\"}], \"scatterternary\": [{\"marker\": {\"colorbar\": {\"outlinewidth\": 0, \"ticks\": \"\"}}, \"type\": \"scatterternary\"}], \"surface\": [{\"colorbar\": {\"outlinewidth\": 0, \"ticks\": \"\"}, \"colorscale\": [[0.0, \"#0d0887\"], [0.1111111111111111, \"#46039f\"], [0.2222222222222222, \"#7201a8\"], [0.3333333333333333, \"#9c179e\"], [0.4444444444444444, \"#bd3786\"], [0.5555555555555556, \"#d8576b\"], [0.6666666666666666, \"#ed7953\"], [0.7777777777777778, \"#fb9f3a\"], [0.8888888888888888, \"#fdca26\"], [1.0, \"#f0f921\"]], \"type\": \"surface\"}], \"table\": [{\"cells\": {\"fill\": {\"color\": \"#EBF0F8\"}, \"line\": {\"color\": \"white\"}}, \"header\": {\"fill\": {\"color\": \"#C8D4E3\"}, \"line\": {\"color\": \"white\"}}, \"type\": \"table\"}]}, \"layout\": {\"annotationdefaults\": {\"arrowcolor\": \"#2a3f5f\", \"arrowhead\": 0, \"arrowwidth\": 1}, \"autotypenumbers\": \"strict\", \"coloraxis\": {\"colorbar\": {\"outlinewidth\": 0, \"ticks\": \"\"}}, \"colorscale\": {\"diverging\": [[0, \"#8e0152\"], [0.1, \"#c51b7d\"], [0.2, \"#de77ae\"], [0.3, \"#f1b6da\"], [0.4, \"#fde0ef\"], [0.5, \"#f7f7f7\"], [0.6, \"#e6f5d0\"], [0.7, \"#b8e186\"], [0.8, \"#7fbc41\"], [0.9, \"#4d9221\"], [1, \"#276419\"]], \"sequential\": [[0.0, \"#0d0887\"], [0.1111111111111111, \"#46039f\"], [0.2222222222222222, \"#7201a8\"], [0.3333333333333333, \"#9c179e\"], [0.4444444444444444, \"#bd3786\"], [0.5555555555555556, \"#d8576b\"], [0.6666666666666666, \"#ed7953\"], [0.7777777777777778, \"#fb9f3a\"], [0.8888888888888888, \"#fdca26\"], [1.0, \"#f0f921\"]], \"sequentialminus\": [[0.0, \"#0d0887\"], [0.1111111111111111, \"#46039f\"], [0.2222222222222222, \"#7201a8\"], [0.3333333333333333, \"#9c179e\"], [0.4444444444444444, \"#bd3786\"], [0.5555555555555556, \"#d8576b\"], [0.6666666666666666, \"#ed7953\"], [0.7777777777777778, \"#fb9f3a\"], [0.8888888888888888, \"#fdca26\"], [1.0, \"#f0f921\"]]}, \"colorway\": [\"#636efa\", \"#EF553B\", \"#00cc96\", \"#ab63fa\", \"#FFA15A\", \"#19d3f3\", \"#FF6692\", \"#B6E880\", \"#FF97FF\", \"#FECB52\"], \"font\": {\"color\": \"#2a3f5f\"}, \"geo\": {\"bgcolor\": \"white\", \"lakecolor\": \"white\", \"landcolor\": \"#E5ECF6\", \"showlakes\": true, \"showland\": true, \"subunitcolor\": \"white\"}, \"hoverlabel\": {\"align\": \"left\"}, \"hovermode\": \"closest\", \"mapbox\": {\"style\": \"light\"}, \"paper_bgcolor\": \"white\", \"plot_bgcolor\": \"#E5ECF6\", \"polar\": {\"angularaxis\": {\"gridcolor\": \"white\", \"linecolor\": \"white\", \"ticks\": \"\"}, \"bgcolor\": \"#E5ECF6\", \"radialaxis\": {\"gridcolor\": \"white\", \"linecolor\": \"white\", \"ticks\": \"\"}}, \"scene\": {\"xaxis\": {\"backgroundcolor\": \"#E5ECF6\", \"gridcolor\": \"white\", \"gridwidth\": 2, \"linecolor\": \"white\", \"showbackground\": true, \"ticks\": \"\", \"zerolinecolor\": \"white\"}, \"yaxis\": {\"backgroundcolor\": \"#E5ECF6\", \"gridcolor\": \"white\", \"gridwidth\": 2, \"linecolor\": \"white\", \"showbackground\": true, \"ticks\": \"\", \"zerolinecolor\": \"white\"}, \"zaxis\": {\"backgroundcolor\": \"#E5ECF6\", \"gridcolor\": \"white\", \"gridwidth\": 2, \"linecolor\": \"white\", \"showbackground\": true, \"ticks\": \"\", \"zerolinecolor\": \"white\"}}, \"shapedefaults\": {\"line\": {\"color\": \"#2a3f5f\"}}, \"ternary\": {\"aaxis\": {\"gridcolor\": \"white\", \"linecolor\": \"white\", \"ticks\": \"\"}, \"baxis\": {\"gridcolor\": \"white\", \"linecolor\": \"white\", \"ticks\": \"\"}, \"bgcolor\": \"#E5ECF6\", \"caxis\": {\"gridcolor\": \"white\", \"linecolor\": \"white\", \"ticks\": \"\"}}, \"title\": {\"x\": 0.05}, \"xaxis\": {\"automargin\": true, \"gridcolor\": \"white\", \"linecolor\": \"white\", \"ticks\": \"\", \"title\": {\"standoff\": 15}, \"zerolinecolor\": \"white\", \"zerolinewidth\": 2}, \"yaxis\": {\"automargin\": true, \"gridcolor\": \"white\", \"linecolor\": \"white\", \"ticks\": \"\", \"title\": {\"standoff\": 15}, \"zerolinecolor\": \"white\", \"zerolinewidth\": 2}}}, \"title\": {\"text\": \"Baserunning Flotation Bubble: Change in Average Stars\"}, \"xaxis\": {\"anchor\": \"y\", \"domain\": [0.0, 1.0]}, \"yaxis\": {\"anchor\": \"x\", \"domain\": [0.0, 1.0]}},                        {\"responsive\": true}                    ).then(function(){\n                            \nvar gd = document.getElementById('c4f7e160-2a10-46b1-a3c2-9c1d7940a9b5');\nvar x = new MutationObserver(function (mutations, observer) {{\n        var display = window.getComputedStyle(gd).display;\n        if (!display || display === 'none') {{\n            console.log([gd, 'removed!']);\n            Plotly.purge(gd);\n            observer.disconnect();\n        }}\n}});\n\n// Listen for the removal of the full notebook cells\nvar notebookContainer = gd.closest('#notebook-container');\nif (notebookContainer) {{\n    x.observe(notebookContainer, {childList: true});\n}}\n\n// Listen for the clearing of the current output cell\nvar outputEl = gd.closest('.output');\nif (outputEl) {{\n    x.observe(outputEl, {childList: true});\n}}\n\n                        })                };                });            </script>        </div>"
     },
     "metadata": {},
     "output_type": "display_data"
    }
   ],
   "source": [
    "fig = subplot.make_subplots(cols=1, rows=1)\n",
    "fig.add_bar(x=run_bubble.index, y=run_bubble[\"change_in_baserunning_stars\"], col=1, row=1)\n",
    "fig.update_layout(showlegend=False, title_text=\"Baserunning Flotation Bubble: Change in Average Stars\")\n",
    "fig.show()"
   ],
   "metadata": {
    "collapsed": false,
    "pycharm": {
     "name": "#%%\n"
    }
   }
  },
  {
   "cell_type": "markdown",
   "metadata": {
    "pycharm": {
     "name": "#%% md\n"
    }
   },
   "source": [
    "---\n",
    "## Appendix\n",
    "* [Description of Attributes](https://www.blaseball.wiki/w/Player_Attributes)\n",
    "* [Stlat Viewer](https://slavfox.space/abslve/?foreboding-kaleidoscope#PHIL)\n",
    "* [Historical Player Graphs](http://yoori.space/hloroscopes/)\n"
   ]
  }
 ],
 "metadata": {
  "kernelspec": {
   "display_name": "Python 3",
   "language": "python",
   "name": "python3"
  },
  "language_info": {
   "codemirror_mode": {
    "name": "ipython",
    "version": 3
   },
   "file_extension": ".py",
   "mimetype": "text/x-python",
   "name": "python",
   "nbconvert_exporter": "python",
   "pygments_lexer": "ipython3",
   "version": "3.8.5"
  },
  "toc": {
   "base_numbering": 1,
   "nav_menu": {},
   "number_sections": false,
   "sideBar": true,
   "skip_h1_title": false,
   "title_cell": "Table of Contents",
   "title_sidebar": "Table of Contents",
   "toc_cell": false,
   "toc_position": {},
   "toc_section_display": true,
   "toc_window_display": false
  }
 },
 "nbformat": 4,
 "nbformat_minor": 1
}