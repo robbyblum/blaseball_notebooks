{
 "cells": [
  {
   "cell_type": "markdown",
   "metadata": {},
   "source": [
    "# Season 14 Election Notes\n",
    "\n",
    ">**FORBIDDEN KNOWLEDGE WARNING**\n",
    ">\n",
    ">This document contains some information that is not currently present on the main site and may be considered spoilers.\n",
    ">Continue at your own discretion. Some information in this document cannot be shared on the Discord without spoiler tags."
   ]
  },
  {
   "cell_type": "code",
   "execution_count": 1,
   "metadata": {
    "pycharm": {
     "name": "#%%\n"
    }
   },
   "outputs": [],
   "source": [
    "%matplotlib inline\n",
    "from blaseball_mike.models import *\n",
    "import plotly.express as plot\n",
    "import plotly.io as _pio\n",
    "import plotly.subplots as subplot\n",
    "\n",
    "import os\n",
    "import sys\n",
    "pdir = os.path.abspath(os.path.join(os.path.dirname(''), os.path.pardir))\n",
    "sys.path.append(pdir)\n",
    "from display import *\n",
    "from blessings import *\n",
    "sys.path.remove(pdir)\n",
    "\n",
    "_pio.renderers.default = \"notebook_connected\"\n",
    "\n",
    "pies = Team.load_by_name(\"Philly Pies\")"
   ]
  },
  {
   "cell_type": "code",
   "execution_count": 2,
   "outputs": [
    {
     "name": "stdout",
     "output_type": "stream",
     "text": [
      "Last Updated Season 14, Day 75\n"
     ]
    }
   ],
   "source": [
    "sim = SimulationData.load()\n",
    "print(f\"Last Updated Season {sim.season}, Day {sim.day}\")"
   ],
   "metadata": {
    "collapsed": false,
    "pycharm": {
     "name": "#%%\n"
    }
   }
  },
  {
   "cell_type": "markdown",
   "metadata": {},
   "source": [
    "---\n",
    "## Decrees\n",
    "\n",
    "Decrees are chosen by majority votes across all teams. `1` decree will pass this season."
   ]
  },
  {
   "cell_type": "markdown",
   "metadata": {},
   "source": [
    "### Meal Plan\n",
    "**All Fans will gain 2 new temporary Snack Slots each Earlsiesta and 2 new temporary Snack slots each Latesiesta. The 4\n",
    "extra Slots and the Snacks in them will be washed away after each Election.**\n",
    "\n",
    "### Pot Luck\n",
    "**All Fans gain 3 Snack Slots permanently. Every Season, 3 Snacks in Concessions will be randomly selected to be\n",
    "Spoiled, earning extremely low payouts, with a small chance of a Gourmet Jackpot.**\n",
    "\n",
    "### All You Can Eat\n",
    "**Fans will be able to freely buy and sell Snack Slots at any time. The less Snack Slots a Fan owns, the higher the\n",
    "payout for the Snacks in them.**\n",
    "\n",
    "All Decrees change how player Inventory is managed, by adding more item slots but having different downsides."
   ]
  },
  {
   "cell_type": "markdown",
   "metadata": {},
   "source": [
    "___\n",
    "## Wills\n",
    "\n",
    "Will are selected for each team by raffle. Each team will draw `2` random wills. The bottom 4 teams in the league by\n",
    "standings will draw `3`. The chosen wills are random, but wills with more votes are more likely to be selected."
   ]
  },
  {
   "cell_type": "markdown",
   "metadata": {},
   "source": [
    "### Plunder\n",
    "**Steal a Player from the Idols board. Send a random Player from your Team back.**\n",
    "\n",
    "Due to the random nature of the target on our team, this tests the best case (swapping the Best Player on the Idol Board\n",
    "for a position with our worst player in that position) and the worst case (swaping the Best Player on the Idol Board for\n",
    "a position with our best player in that position).\n",
    "\n",
    "**Best Case Swap:**"
   ]
  },
  {
   "cell_type": "code",
   "execution_count": 3,
   "metadata": {
    "pycharm": {
     "name": "#%%\n"
    }
   },
   "outputs": [
    {
     "name": "stdout",
     "output_type": "stream",
     "text": [
      "Batting: Swap Jaxon Buckley for Yusef Puddles\n"
     ]
    },
    {
     "data": {
      "text/plain": "                         Pies\nbatting_change      +11.9157%\npitching_change      +0.0000%\nbaserunning_change   +3.8889%\ndefense_change       -1.7289%",
      "text/html": "<div>\n<style scoped>\n    .dataframe tbody tr th:only-of-type {\n        vertical-align: middle;\n    }\n\n    .dataframe tbody tr th {\n        vertical-align: top;\n    }\n\n    .dataframe thead th {\n        text-align: right;\n    }\n</style>\n<table border=\"1\" class=\"dataframe\">\n  <thead>\n    <tr style=\"text-align: right;\">\n      <th></th>\n      <th>Pies</th>\n    </tr>\n  </thead>\n  <tbody>\n    <tr>\n      <th>batting_change</th>\n      <td>+11.9157%</td>\n    </tr>\n    <tr>\n      <th>pitching_change</th>\n      <td>+0.0000%</td>\n    </tr>\n    <tr>\n      <th>baserunning_change</th>\n      <td>+3.8889%</td>\n    </tr>\n    <tr>\n      <th>defense_change</th>\n      <td>-1.7289%</td>\n    </tr>\n  </tbody>\n</table>\n</div>"
     },
     "execution_count": 3,
     "metadata": {},
     "output_type": "execute_result"
    }
   ],
   "source": [
    "idols = [x.player for x in Idol.load().values()]\n",
    "\n",
    "idols.sort(key=lambda x: x.batting_rating, reverse=True)\n",
    "best_batting_idol = idols[0]\n",
    "idols.sort(key=lambda x: x.pitching_rating, reverse=True)\n",
    "best_pitching_idol = idols[0]\n",
    "\n",
    "\n",
    "worst_batter = sort_lineup(pies, 1)[0]\n",
    "print(f\"Batting: Swap {best_batting_idol.name} for {worst_batter.name}\")\n",
    "\n",
    "pandas.DataFrame(replace_player(pies, worst_batter, bat_star=best_batting_idol.batting_rating*5, run_star=best_batting_idol.baserunning_rating*5, def_star=best_batting_idol.defense_rating*5))"
   ]
  },
  {
   "cell_type": "code",
   "execution_count": 4,
   "outputs": [
    {
     "name": "stdout",
     "output_type": "stream",
     "text": [
      "Pitching: Swap Nagomi Mcdaniel for Doc Anice\n"
     ]
    },
    {
     "data": {
      "text/plain": "                         Pies\nbatting_change       +0.0000%\npitching_change     +15.3801%\nbaserunning_change   +0.0000%\ndefense_change       +0.0000%",
      "text/html": "<div>\n<style scoped>\n    .dataframe tbody tr th:only-of-type {\n        vertical-align: middle;\n    }\n\n    .dataframe tbody tr th {\n        vertical-align: top;\n    }\n\n    .dataframe thead th {\n        text-align: right;\n    }\n</style>\n<table border=\"1\" class=\"dataframe\">\n  <thead>\n    <tr style=\"text-align: right;\">\n      <th></th>\n      <th>Pies</th>\n    </tr>\n  </thead>\n  <tbody>\n    <tr>\n      <th>batting_change</th>\n      <td>+0.0000%</td>\n    </tr>\n    <tr>\n      <th>pitching_change</th>\n      <td>+15.3801%</td>\n    </tr>\n    <tr>\n      <th>baserunning_change</th>\n      <td>+0.0000%</td>\n    </tr>\n    <tr>\n      <th>defense_change</th>\n      <td>+0.0000%</td>\n    </tr>\n  </tbody>\n</table>\n</div>"
     },
     "execution_count": 4,
     "metadata": {},
     "output_type": "execute_result"
    }
   ],
   "source": [
    "worst_pitcher = sort_rotation(pies, 1)[0]\n",
    "print(f\"Pitching: Swap {best_pitching_idol.name} for {worst_pitcher.name}\")\n",
    "\n",
    "pandas.DataFrame(replace_player(pies, worst_pitcher, pitch_star=best_pitching_idol.pitching_rating*5))\n"
   ],
   "metadata": {
    "collapsed": false,
    "pycharm": {
     "name": "#%%\n"
    }
   }
  },
  {
   "cell_type": "markdown",
   "source": [
    "**Worst Case Swap:**"
   ],
   "metadata": {
    "collapsed": false,
    "pycharm": {
     "name": "#%% md\n"
    }
   }
  },
  {
   "cell_type": "code",
   "execution_count": 5,
   "outputs": [
    {
     "name": "stdout",
     "output_type": "stream",
     "text": [
      "Batting: Swap Jaxon Buckley for Jaxon Buckley\n"
     ]
    },
    {
     "data": {
      "text/plain": "                        Pies\nbatting_change      +0.0000%\npitching_change     +0.0000%\nbaserunning_change  +0.0000%\ndefense_change      +0.0000%",
      "text/html": "<div>\n<style scoped>\n    .dataframe tbody tr th:only-of-type {\n        vertical-align: middle;\n    }\n\n    .dataframe tbody tr th {\n        vertical-align: top;\n    }\n\n    .dataframe thead th {\n        text-align: right;\n    }\n</style>\n<table border=\"1\" class=\"dataframe\">\n  <thead>\n    <tr style=\"text-align: right;\">\n      <th></th>\n      <th>Pies</th>\n    </tr>\n  </thead>\n  <tbody>\n    <tr>\n      <th>batting_change</th>\n      <td>+0.0000%</td>\n    </tr>\n    <tr>\n      <th>pitching_change</th>\n      <td>+0.0000%</td>\n    </tr>\n    <tr>\n      <th>baserunning_change</th>\n      <td>+0.0000%</td>\n    </tr>\n    <tr>\n      <th>defense_change</th>\n      <td>+0.0000%</td>\n    </tr>\n  </tbody>\n</table>\n</div>"
     },
     "execution_count": 5,
     "metadata": {},
     "output_type": "execute_result"
    }
   ],
   "source": [
    "best_batter = sort_lineup(pies, 1, order=\"best\")[0]\n",
    "print(f\"Batting: Swap {best_batting_idol.name} for {best_batter.name}\")\n",
    "\n",
    "pandas.DataFrame(replace_player(pies, best_batter, bat_star=best_batting_idol.batting_rating*5, run_star=best_batting_idol.baserunning_rating*5, def_star=best_batting_idol.defense_rating*5))"
   ],
   "metadata": {
    "collapsed": false,
    "pycharm": {
     "name": "#%%\n"
    }
   }
  },
  {
   "cell_type": "code",
   "execution_count": 6,
   "outputs": [
    {
     "name": "stdout",
     "output_type": "stream",
     "text": [
      "Pitching: Swap Nagomi Mcdaniel for Elvis Figueroa\n"
     ]
    },
    {
     "data": {
      "text/plain": "                        Pies\nbatting_change      +0.0000%\npitching_change     +4.8122%\nbaserunning_change  +0.0000%\ndefense_change      +0.0000%",
      "text/html": "<div>\n<style scoped>\n    .dataframe tbody tr th:only-of-type {\n        vertical-align: middle;\n    }\n\n    .dataframe tbody tr th {\n        vertical-align: top;\n    }\n\n    .dataframe thead th {\n        text-align: right;\n    }\n</style>\n<table border=\"1\" class=\"dataframe\">\n  <thead>\n    <tr style=\"text-align: right;\">\n      <th></th>\n      <th>Pies</th>\n    </tr>\n  </thead>\n  <tbody>\n    <tr>\n      <th>batting_change</th>\n      <td>+0.0000%</td>\n    </tr>\n    <tr>\n      <th>pitching_change</th>\n      <td>+4.8122%</td>\n    </tr>\n    <tr>\n      <th>baserunning_change</th>\n      <td>+0.0000%</td>\n    </tr>\n    <tr>\n      <th>defense_change</th>\n      <td>+0.0000%</td>\n    </tr>\n  </tbody>\n</table>\n</div>"
     },
     "execution_count": 6,
     "metadata": {},
     "output_type": "execute_result"
    }
   ],
   "source": [
    "best_pitcher = sort_rotation(pies, 1, order=\"best\")[0]\n",
    "print(f\"Pitching: Swap {best_pitching_idol.name} for {best_pitcher.name}\")\n",
    "\n",
    "pandas.DataFrame(replace_player(pies, best_pitcher, pitch_star=best_pitching_idol.pitching_rating*5))\n"
   ],
   "metadata": {
    "collapsed": false,
    "pycharm": {
     "name": "#%%\n"
    }
   }
  },
  {
   "cell_type": "markdown",
   "metadata": {},
   "source": [
    "### Exchange\n",
    "**Swap a Player from a Team in the opposite Subleague with a Player from your Team.**\n",
    "\n",
    "There are 139 possible Wild League players to swap with our 12 existing players, which is too many permuations for me to\n",
    "list here. Instead, here's the list of the top 10 players available to choose from by star rating. For maximum impact it\n",
    "is recommended we swap the player with the worst batter or pitcher respectively.\n",
    "\n",
    "Note that position does not matter for the swap, so a player that is currently batting can still be added as a pitcher\n",
    "and vice-versa."
   ]
  },
  {
   "cell_type": "markdown",
   "metadata": {},
   "source": [
    "**Best Batter options and Pies worst Batter:**"
   ]
  },
  {
   "cell_type": "code",
   "execution_count": 7,
   "metadata": {
    "pycharm": {
     "name": "#%%\n"
    }
   },
   "outputs": [
    {
     "data": {
      "text/plain": "<pandas.io.formats.style.Styler at 0x249f89fbac0>",
      "text/html": "<style  type=\"text/css\" >\n#T_24ea6_row0_col0,#T_24ea6_row0_col1,#T_24ea6_row0_col2,#T_24ea6_row0_col3,#T_24ea6_row0_col4,#T_24ea6_row0_col6,#T_24ea6_row1_col0,#T_24ea6_row1_col2,#T_24ea6_row1_col3,#T_24ea6_row1_col4,#T_24ea6_row1_col6,#T_24ea6_row2_col0,#T_24ea6_row2_col1,#T_24ea6_row2_col2,#T_24ea6_row2_col3,#T_24ea6_row2_col4,#T_24ea6_row2_col6,#T_24ea6_row2_col8,#T_24ea6_row3_col0,#T_24ea6_row3_col1,#T_24ea6_row3_col2,#T_24ea6_row3_col3,#T_24ea6_row3_col4,#T_24ea6_row3_col6,#T_24ea6_row3_col8,#T_24ea6_row4_col0,#T_24ea6_row4_col2,#T_24ea6_row4_col4,#T_24ea6_row5_col0,#T_24ea6_row5_col1,#T_24ea6_row5_col3,#T_24ea6_row5_col4,#T_24ea6_row6_col0,#T_24ea6_row6_col2,#T_24ea6_row6_col4,#T_24ea6_row6_col6,#T_24ea6_row7_col0,#T_24ea6_row7_col1,#T_24ea6_row7_col4,#T_24ea6_row7_col8,#T_24ea6_row8_col0,#T_24ea6_row8_col2,#T_24ea6_row8_col3,#T_24ea6_row8_col4,#T_24ea6_row8_col6,#T_24ea6_row9_col0,#T_24ea6_row9_col1,#T_24ea6_row9_col2{\n            background-color:  #006837;\n            color:  #f1f1f1;\n        }#T_24ea6_row0_col5,#T_24ea6_row1_col5,#T_24ea6_row1_col7,#T_24ea6_row2_col5,#T_24ea6_row3_col5,#T_24ea6_row4_col7,#T_24ea6_row5_col5,#T_24ea6_row6_col5,#T_24ea6_row6_col7,#T_24ea6_row8_col7,#T_24ea6_row9_col7{\n            background-color:  #a50026;\n            color:  #f1f1f1;\n            background-color:  #006837;\n            color:  #f1f1f1;\n        }#T_24ea6_row0_col7{\n            background-color:  #ca2427;\n            color:  #f1f1f1;\n            background-color:  #138c4a;\n            color:  #000000;\n        }#T_24ea6_row0_col8{\n            background-color:  #2aa054;\n            color:  #000000;\n        }#T_24ea6_row1_col1{\n            background-color:  #026c39;\n            color:  #f1f1f1;\n        }#T_24ea6_row1_col8{\n            background-color:  #84ca66;\n            color:  #000000;\n        }#T_24ea6_row2_col7{\n            background-color:  #af0926;\n            color:  #f1f1f1;\n            background-color:  #05713c;\n            color:  #f1f1f1;\n        }#T_24ea6_row3_col7{\n            background-color:  #be1827;\n            color:  #f1f1f1;\n            background-color:  #0d8044;\n            color:  #f1f1f1;\n        }#T_24ea6_row4_col1{\n            background-color:  #8ecf67;\n            color:  #000000;\n        }#T_24ea6_row4_col3{\n            background-color:  #7dc765;\n            color:  #000000;\n        }#T_24ea6_row4_col5{\n            background-color:  #da362a;\n            color:  #f1f1f1;\n            background-color:  #219c52;\n            color:  #000000;\n        }#T_24ea6_row4_col6{\n            background-color:  #7ac665;\n            color:  #000000;\n        }#T_24ea6_row4_col8{\n            background-color:  #15904c;\n            color:  #000000;\n        }#T_24ea6_row5_col2{\n            background-color:  #0e8245;\n            color:  #f1f1f1;\n        }#T_24ea6_row5_col6{\n            background-color:  #fede89;\n            color:  #000000;\n        }#T_24ea6_row5_col7,#T_24ea6_row7_col7{\n            background-color:  #c21c27;\n            color:  #f1f1f1;\n            background-color:  #0f8446;\n            color:  #f1f1f1;\n        }#T_24ea6_row5_col8{\n            background-color:  #54b45f;\n            color:  #000000;\n        }#T_24ea6_row6_col1{\n            background-color:  #219c52;\n            color:  #000000;\n        }#T_24ea6_row6_col3{\n            background-color:  #e8f59f;\n            color:  #000000;\n        }#T_24ea6_row6_col8{\n            background-color:  #d3ec87;\n            color:  #000000;\n        }#T_24ea6_row7_col2{\n            background-color:  #78c565;\n            color:  #000000;\n        }#T_24ea6_row7_col3{\n            background-color:  #0d8044;\n            color:  #f1f1f1;\n        }#T_24ea6_row7_col5{\n            background-color:  #f67c4a;\n            color:  #000000;\n            background-color:  #75c465;\n            color:  #000000;\n        }#T_24ea6_row7_col6{\n            background-color:  #118848;\n            color:  #000000;\n        }#T_24ea6_row8_col1{\n            background-color:  #4eb15d;\n            color:  #000000;\n        }#T_24ea6_row8_col5{\n            background-color:  #fffab6;\n            color:  #000000;\n            background-color:  #f8fcb6;\n            color:  #000000;\n        }#T_24ea6_row8_col8{\n            background-color:  #51b35e;\n            color:  #000000;\n        }#T_24ea6_row9_col3{\n            background-color:  #1e9a51;\n            color:  #000000;\n        }#T_24ea6_row9_col4{\n            background-color:  #e2f397;\n            color:  #000000;\n        }#T_24ea6_row9_col5{\n            background-color:  #fa9b58;\n            color:  #000000;\n            background-color:  #93d168;\n            color:  #000000;\n        }#T_24ea6_row9_col6{\n            background-color:  #e3f399;\n            color:  #000000;\n        }#T_24ea6_row9_col8{\n            background-color:  #fca85e;\n            color:  #000000;\n        }</style><table id=\"T_24ea6_\" ><thead>    <tr>        <th class=\"blank level0\" ></th>        <th class=\"col_heading level0 col0\" >Batting Rating</th>        <th class=\"col_heading level0 col1\" >Thwackability</th>        <th class=\"col_heading level0 col2\" >Divinity</th>        <th class=\"col_heading level0 col3\" >Musclitude</th>        <th class=\"col_heading level0 col4\" >Moxie</th>        <th class=\"col_heading level0 col5\" >Patheticism</th>        <th class=\"col_heading level0 col6\" >Martyrdom</th>        <th class=\"col_heading level0 col7\" >Tragicness</th>        <th class=\"col_heading level0 col8\" >Buoyancy</th>    </tr></thead><tbody>\n                <tr>\n                        <th id=\"T_24ea6_level0_row0\" class=\"row_heading level0 row0\" >Nagomi Mcdaniel</th>\n                        <td id=\"T_24ea6_row0_col0\" class=\"data row0 col0\" >1.249110</td>\n                        <td id=\"T_24ea6_row0_col1\" class=\"data row0 col1\" >1.196404</td>\n                        <td id=\"T_24ea6_row0_col2\" class=\"data row0 col2\" >1.345687</td>\n                        <td id=\"T_24ea6_row0_col3\" class=\"data row0 col3\" >1.415884</td>\n                        <td id=\"T_24ea6_row0_col4\" class=\"data row0 col4\" >1.479155</td>\n                        <td id=\"T_24ea6_row0_col5\" class=\"data row0 col5\" >0.001000</td>\n                        <td id=\"T_24ea6_row0_col6\" class=\"data row0 col6\" >1.060042</td>\n                        <td id=\"T_24ea6_row0_col7\" class=\"data row0 col7\" >0.077418</td>\n                        <td id=\"T_24ea6_row0_col8\" class=\"data row0 col8\" >0.878102</td>\n            </tr>\n            <tr>\n                        <th id=\"T_24ea6_level0_row1\" class=\"row_heading level0 row1\" >Beck Whitney</th>\n                        <td id=\"T_24ea6_row1_col0\" class=\"data row1 col0\" >1.200078</td>\n                        <td id=\"T_24ea6_row1_col1\" class=\"data row1 col1\" >0.991409</td>\n                        <td id=\"T_24ea6_row1_col2\" class=\"data row1 col2\" >1.471090</td>\n                        <td id=\"T_24ea6_row1_col3\" class=\"data row1 col3\" >1.268751</td>\n                        <td id=\"T_24ea6_row1_col4\" class=\"data row1 col4\" >1.467907</td>\n                        <td id=\"T_24ea6_row1_col5\" class=\"data row1 col5\" >0.001000</td>\n                        <td id=\"T_24ea6_row1_col6\" class=\"data row1 col6\" >1.204729</td>\n                        <td id=\"T_24ea6_row1_col7\" class=\"data row1 col7\" >0.001000</td>\n                        <td id=\"T_24ea6_row1_col8\" class=\"data row1 col8\" >0.751079</td>\n            </tr>\n            <tr>\n                        <th id=\"T_24ea6_level0_row2\" class=\"row_heading level0 row2\" >Valentine Games</th>\n                        <td id=\"T_24ea6_row2_col0\" class=\"data row2 col0\" >1.194971</td>\n                        <td id=\"T_24ea6_row2_col1\" class=\"data row2 col1\" >1.087322</td>\n                        <td id=\"T_24ea6_row2_col2\" class=\"data row2 col2\" >1.253784</td>\n                        <td id=\"T_24ea6_row2_col3\" class=\"data row2 col3\" >1.682018</td>\n                        <td id=\"T_24ea6_row2_col4\" class=\"data row2 col4\" >1.342306</td>\n                        <td id=\"T_24ea6_row2_col5\" class=\"data row2 col5\" >0.001000</td>\n                        <td id=\"T_24ea6_row2_col6\" class=\"data row2 col6\" >1.555499</td>\n                        <td id=\"T_24ea6_row2_col7\" class=\"data row2 col7\" >0.019992</td>\n                        <td id=\"T_24ea6_row2_col8\" class=\"data row2 col8\" >1.103348</td>\n            </tr>\n            <tr>\n                        <th id=\"T_24ea6_level0_row3\" class=\"row_heading level0 row3\" >Goodwin Morin</th>\n                        <td id=\"T_24ea6_row3_col0\" class=\"data row3 col0\" >1.116151</td>\n                        <td id=\"T_24ea6_row3_col1\" class=\"data row3 col1\" >1.011205</td>\n                        <td id=\"T_24ea6_row3_col2\" class=\"data row3 col2\" >1.054999</td>\n                        <td id=\"T_24ea6_row3_col3\" class=\"data row3 col3\" >1.804185</td>\n                        <td id=\"T_24ea6_row3_col4\" class=\"data row3 col4\" >1.724130</td>\n                        <td id=\"T_24ea6_row3_col5\" class=\"data row3 col5\" >0.001000</td>\n                        <td id=\"T_24ea6_row3_col6\" class=\"data row3 col6\" >1.146978</td>\n                        <td id=\"T_24ea6_row3_col7\" class=\"data row3 col7\" >0.054253</td>\n                        <td id=\"T_24ea6_row3_col8\" class=\"data row3 col8\" >1.040647</td>\n            </tr>\n            <tr>\n                        <th id=\"T_24ea6_level0_row4\" class=\"row_heading level0 row4\" >Nagomi Nava</th>\n                        <td id=\"T_24ea6_row4_col0\" class=\"data row4 col0\" >1.074517</td>\n                        <td id=\"T_24ea6_row4_col1\" class=\"data row4 col1\" >0.736258</td>\n                        <td id=\"T_24ea6_row4_col2\" class=\"data row4 col2\" >1.654306</td>\n                        <td id=\"T_24ea6_row4_col3\" class=\"data row4 col3\" >0.761977</td>\n                        <td id=\"T_24ea6_row4_col4\" class=\"data row4 col4\" >1.582309</td>\n                        <td id=\"T_24ea6_row4_col5\" class=\"data row4 col5\" >0.111803</td>\n                        <td id=\"T_24ea6_row4_col6\" class=\"data row4 col6\" >0.769464</td>\n                        <td id=\"T_24ea6_row4_col7\" class=\"data row4 col7\" >0.001000</td>\n                        <td id=\"T_24ea6_row4_col8\" class=\"data row4 col8\" >0.917821</td>\n            </tr>\n            <tr>\n                        <th id=\"T_24ea6_level0_row5\" class=\"row_heading level0 row5\" >Jacob Haynes</th>\n                        <td id=\"T_24ea6_row5_col0\" class=\"data row5 col0\" >1.066191</td>\n                        <td id=\"T_24ea6_row5_col1\" class=\"data row5 col1\" >1.263815</td>\n                        <td id=\"T_24ea6_row5_col2\" class=\"data row5 col2\" >0.942263</td>\n                        <td id=\"T_24ea6_row5_col3\" class=\"data row5 col3\" >1.101913</td>\n                        <td id=\"T_24ea6_row5_col4\" class=\"data row5 col4\" >1.219008</td>\n                        <td id=\"T_24ea6_row5_col5\" class=\"data row5 col5\" >0.001000</td>\n                        <td id=\"T_24ea6_row5_col6\" class=\"data row5 col6\" >0.396483</td>\n                        <td id=\"T_24ea6_row5_col7\" class=\"data row5 col7\" >0.060000</td>\n                        <td id=\"T_24ea6_row5_col8\" class=\"data row5 col8\" >0.823724</td>\n            </tr>\n            <tr>\n                        <th id=\"T_24ea6_level0_row6\" class=\"row_heading level0 row6\" >Vessalius Sundae</th>\n                        <td id=\"T_24ea6_row6_col0\" class=\"data row6 col0\" >1.061020</td>\n                        <td id=\"T_24ea6_row6_col1\" class=\"data row6 col1\" >0.887561</td>\n                        <td id=\"T_24ea6_row6_col2\" class=\"data row6 col2\" >1.410623</td>\n                        <td id=\"T_24ea6_row6_col3\" class=\"data row6 col3\" >0.561752</td>\n                        <td id=\"T_24ea6_row6_col4\" class=\"data row6 col4\" >1.295647</td>\n                        <td id=\"T_24ea6_row6_col5\" class=\"data row6 col5\" >0.001000</td>\n                        <td id=\"T_24ea6_row6_col6\" class=\"data row6 col6\" >1.249409</td>\n                        <td id=\"T_24ea6_row6_col7\" class=\"data row6 col7\" >0.001000</td>\n                        <td id=\"T_24ea6_row6_col8\" class=\"data row6 col8\" >0.612723</td>\n            </tr>\n            <tr>\n                        <th id=\"T_24ea6_level0_row7\" class=\"row_heading level0 row7\" >-ud-ey -ueller</th>\n                        <td id=\"T_24ea6_row7_col0\" class=\"data row7 col0\" >1.048644</td>\n                        <td id=\"T_24ea6_row7_col1\" class=\"data row7 col1\" >1.565780</td>\n                        <td id=\"T_24ea6_row7_col2\" class=\"data row7 col2\" >0.771321</td>\n                        <td id=\"T_24ea6_row7_col3\" class=\"data row7 col3\" >0.945664</td>\n                        <td id=\"T_24ea6_row7_col4\" class=\"data row7 col4\" >1.004410</td>\n                        <td id=\"T_24ea6_row7_col5\" class=\"data row7 col5\" >0.223640</td>\n                        <td id=\"T_24ea6_row7_col6\" class=\"data row7 col6\" >0.931322</td>\n                        <td id=\"T_24ea6_row7_col7\" class=\"data row7 col7\" >0.060000</td>\n                        <td id=\"T_24ea6_row7_col8\" class=\"data row7 col8\" >1.553180</td>\n            </tr>\n            <tr>\n                        <th id=\"T_24ea6_level0_row8\" class=\"row_heading level0 row8\" >Margarito Nava</th>\n                        <td id=\"T_24ea6_row8_col0\" class=\"data row8 col0\" >1.039012</td>\n                        <td id=\"T_24ea6_row8_col1\" class=\"data row8 col1\" >0.828340</td>\n                        <td id=\"T_24ea6_row8_col2\" class=\"data row8 col2\" >1.284494</td>\n                        <td id=\"T_24ea6_row8_col3\" class=\"data row8 col3\" >1.284454</td>\n                        <td id=\"T_24ea6_row8_col4\" class=\"data row8 col4\" >1.444628</td>\n                        <td id=\"T_24ea6_row8_col5\" class=\"data row8 col5\" >0.482716</td>\n                        <td id=\"T_24ea6_row8_col6\" class=\"data row8 col6\" >1.171332</td>\n                        <td id=\"T_24ea6_row8_col7\" class=\"data row8 col7\" >0.001000</td>\n                        <td id=\"T_24ea6_row8_col8\" class=\"data row8 col8\" >0.826623</td>\n            </tr>\n            <tr>\n                        <th id=\"T_24ea6_level0_row9\" class=\"row_heading level0 row9\" >Gerund Pantheocide</th>\n                        <td id=\"T_24ea6_row9_col0\" class=\"data row9 col0\" >1.027445</td>\n                        <td id=\"T_24ea6_row9_col1\" class=\"data row9 col1\" >1.300367</td>\n                        <td id=\"T_24ea6_row9_col2\" class=\"data row9 col2\" >1.034786</td>\n                        <td id=\"T_24ea6_row9_col3\" class=\"data row9 col3\" >0.893386</td>\n                        <td id=\"T_24ea6_row9_col4\" class=\"data row9 col4\" >0.575666</td>\n                        <td id=\"T_24ea6_row9_col5\" class=\"data row9 col5\" >0.270360</td>\n                        <td id=\"T_24ea6_row9_col6\" class=\"data row9 col6\" >0.571867</td>\n                        <td id=\"T_24ea6_row9_col7\" class=\"data row9 col7\" >0.001000</td>\n                        <td id=\"T_24ea6_row9_col8\" class=\"data row9 col8\" >0.289087</td>\n            </tr>\n    </tbody></table>"
     },
     "execution_count": 7,
     "metadata": {},
     "output_type": "execute_result"
    }
   ],
   "source": [
    "wild = Subleague.load(\"aabc11a1-81af-4036-9f18-229c759ca8a9\")\n",
    "all_wild = []\n",
    "for team in wild.teams.values():\n",
    "    all_wild.extend(team.lineup + team.rotation)\n",
    "    \n",
    "all_wild.sort(key=lambda x: x.batting_rating, reverse=True)\n",
    "set_heatmap(get_batting_stlats(all_wild[0:10]), maxVal=1)\n"
   ]
  },
  {
   "cell_type": "code",
   "execution_count": 8,
   "metadata": {},
   "outputs": [
    {
     "data": {
      "text/plain": "<pandas.io.formats.style.Styler at 0x249f9e262e0>",
      "text/html": "<style  type=\"text/css\" >\n#T_cd919_row0_col0{\n            background-color:  #fee999;\n            color:  #000000;\n        }#T_cd919_row0_col1,#T_cd919_row0_col8{\n            background-color:  #006837;\n            color:  #f1f1f1;\n        }#T_cd919_row0_col2{\n            background-color:  #ef633f;\n            color:  #000000;\n        }#T_cd919_row0_col3{\n            background-color:  #b3df72;\n            color:  #000000;\n        }#T_cd919_row0_col4{\n            background-color:  #e54e35;\n            color:  #000000;\n        }#T_cd919_row0_col5{\n            background-color:  #c9e881;\n            color:  #000000;\n            background-color:  #fed07e;\n            color:  #000000;\n        }#T_cd919_row0_col6{\n            background-color:  #da362a;\n            color:  #f1f1f1;\n        }#T_cd919_row0_col7{\n            background-color:  #c01a27;\n            color:  #f1f1f1;\n            background-color:  #0e8245;\n            color:  #f1f1f1;\n        }</style><table id=\"T_cd919_\" ><thead>    <tr>        <th class=\"blank level0\" ></th>        <th class=\"col_heading level0 col0\" >Batting Rating</th>        <th class=\"col_heading level0 col1\" >Thwackability</th>        <th class=\"col_heading level0 col2\" >Divinity</th>        <th class=\"col_heading level0 col3\" >Musclitude</th>        <th class=\"col_heading level0 col4\" >Moxie</th>        <th class=\"col_heading level0 col5\" >Patheticism</th>        <th class=\"col_heading level0 col6\" >Martyrdom</th>        <th class=\"col_heading level0 col7\" >Tragicness</th>        <th class=\"col_heading level0 col8\" >Buoyancy</th>    </tr></thead><tbody>\n                <tr>\n                        <th id=\"T_cd919_level0_row0\" class=\"row_heading level0 row0\" >Yusef Puddles</th>\n                        <td id=\"T_cd919_row0_col0\" class=\"data row0 col0\" >0.429562</td>\n                        <td id=\"T_cd919_row0_col1\" class=\"data row0 col1\" >1.033698</td>\n                        <td id=\"T_cd919_row0_col2\" class=\"data row0 col2\" >0.184577</td>\n                        <td id=\"T_cd919_row0_col3\" class=\"data row0 col3\" >0.675196</td>\n                        <td id=\"T_cd919_row0_col4\" class=\"data row0 col4\" >0.151908</td>\n                        <td id=\"T_cd919_row0_col5\" class=\"data row0 col5\" >0.630778</td>\n                        <td id=\"T_cd919_row0_col6\" class=\"data row0 col6\" >0.110821</td>\n                        <td id=\"T_cd919_row0_col7\" class=\"data row0 col7\" >0.057271</td>\n                        <td id=\"T_cd919_row0_col8\" class=\"data row0 col8\" >1.010015</td>\n            </tr>\n    </tbody></table>"
     },
     "execution_count": 8,
     "metadata": {},
     "output_type": "execute_result"
    }
   ],
   "source": [
    "set_heatmap(get_batting_stlats(sort_lineup(pies, 1)), maxVal=1)"
   ]
  },
  {
   "cell_type": "markdown",
   "metadata": {},
   "source": [
    "**Best Pitchers options and Pies worst Pitcher:**"
   ]
  },
  {
   "cell_type": "code",
   "execution_count": 9,
   "metadata": {},
   "outputs": [
    {
     "data": {
      "text/plain": "<pandas.io.formats.style.Styler at 0x249f9e362e0>",
      "text/html": "<style  type=\"text/css\" >\n#T_ffbef_row0_col0,#T_ffbef_row0_col1,#T_ffbef_row0_col2,#T_ffbef_row0_col3,#T_ffbef_row0_col4,#T_ffbef_row0_col5,#T_ffbef_row0_col6,#T_ffbef_row1_col0,#T_ffbef_row1_col1,#T_ffbef_row1_col2,#T_ffbef_row2_col0,#T_ffbef_row2_col1,#T_ffbef_row2_col2,#T_ffbef_row2_col3,#T_ffbef_row2_col4,#T_ffbef_row3_col0,#T_ffbef_row3_col1,#T_ffbef_row3_col2,#T_ffbef_row3_col3,#T_ffbef_row4_col0,#T_ffbef_row4_col3,#T_ffbef_row4_col4,#T_ffbef_row4_col5,#T_ffbef_row4_col6,#T_ffbef_row5_col1,#T_ffbef_row5_col3,#T_ffbef_row5_col4,#T_ffbef_row5_col5,#T_ffbef_row5_col6,#T_ffbef_row6_col2,#T_ffbef_row6_col3,#T_ffbef_row6_col4,#T_ffbef_row6_col5,#T_ffbef_row6_col6,#T_ffbef_row7_col1,#T_ffbef_row7_col2,#T_ffbef_row8_col3,#T_ffbef_row9_col1,#T_ffbef_row9_col4{\n            background-color:  #006837;\n            color:  #f1f1f1;\n        }#T_ffbef_row1_col3,#T_ffbef_row2_col5{\n            background-color:  #279f53;\n            color:  #000000;\n        }#T_ffbef_row1_col4{\n            background-color:  #30a356;\n            color:  #000000;\n        }#T_ffbef_row1_col5{\n            background-color:  #06733d;\n            color:  #f1f1f1;\n        }#T_ffbef_row1_col6{\n            background-color:  #6bbf64;\n            color:  #000000;\n        }#T_ffbef_row2_col6{\n            background-color:  #d3ec87;\n            color:  #000000;\n        }#T_ffbef_row3_col4{\n            background-color:  #feeda1;\n            color:  #000000;\n        }#T_ffbef_row3_col5{\n            background-color:  #ddf191;\n            color:  #000000;\n        }#T_ffbef_row3_col6{\n            background-color:  #4eb15d;\n            color:  #000000;\n        }#T_ffbef_row4_col1{\n            background-color:  #138c4a;\n            color:  #000000;\n        }#T_ffbef_row4_col2{\n            background-color:  #16914d;\n            color:  #000000;\n        }#T_ffbef_row5_col0{\n            background-color:  #097940;\n            color:  #f1f1f1;\n        }#T_ffbef_row5_col2{\n            background-color:  #4bb05c;\n            color:  #000000;\n        }#T_ffbef_row6_col0{\n            background-color:  #0c7f43;\n            color:  #f1f1f1;\n        }#T_ffbef_row6_col1{\n            background-color:  #54b45f;\n            color:  #000000;\n        }#T_ffbef_row7_col0{\n            background-color:  #118848;\n            color:  #000000;\n        }#T_ffbef_row7_col3{\n            background-color:  #fffcba;\n            color:  #000000;\n        }#T_ffbef_row7_col4{\n            background-color:  #78c565;\n            color:  #000000;\n        }#T_ffbef_row7_col5{\n            background-color:  #51b35e;\n            color:  #000000;\n        }#T_ffbef_row7_col6{\n            background-color:  #fdc171;\n            color:  #000000;\n        }#T_ffbef_row8_col0{\n            background-color:  #1e9a51;\n            color:  #000000;\n        }#T_ffbef_row8_col1{\n            background-color:  #2aa054;\n            color:  #000000;\n        }#T_ffbef_row8_col2{\n            background-color:  #036e3a;\n            color:  #f1f1f1;\n        }#T_ffbef_row8_col4{\n            background-color:  #cbe982;\n            color:  #000000;\n        }#T_ffbef_row8_col5{\n            background-color:  #fee491;\n            color:  #000000;\n        }#T_ffbef_row8_col6{\n            background-color:  #0e8245;\n            color:  #f1f1f1;\n        }#T_ffbef_row9_col0{\n            background-color:  #219c52;\n            color:  #000000;\n        }#T_ffbef_row9_col2{\n            background-color:  #0f8446;\n            color:  #f1f1f1;\n        }#T_ffbef_row9_col3{\n            background-color:  #fee999;\n            color:  #000000;\n        }#T_ffbef_row9_col5{\n            background-color:  #98d368;\n            color:  #000000;\n        }#T_ffbef_row9_col6{\n            background-color:  #f1f9ac;\n            color:  #000000;\n        }</style><table id=\"T_ffbef_\" ><thead>    <tr>        <th class=\"blank level0\" ></th>        <th class=\"col_heading level0 col0\" >Pitching Rating</th>        <th class=\"col_heading level0 col1\" >Unthwackability</th>        <th class=\"col_heading level0 col2\" >Ruthlessness</th>        <th class=\"col_heading level0 col3\" >Overpowerment</th>        <th class=\"col_heading level0 col4\" >Shakespearianism</th>        <th class=\"col_heading level0 col5\" >Coldness</th>        <th class=\"col_heading level0 col6\" >Suppression</th>    </tr></thead><tbody>\n                <tr>\n                        <th id=\"T_ffbef_level0_row0\" class=\"row_heading level0 row0\" >Nagomi Mcdaniel</th>\n                        <td id=\"T_ffbef_row0_col0\" class=\"data row0 col0\" >1.337242</td>\n                        <td id=\"T_ffbef_row0_col1\" class=\"data row0 col1\" >1.412762</td>\n                        <td id=\"T_ffbef_row0_col2\" class=\"data row0 col2\" >1.087168</td>\n                        <td id=\"T_ffbef_row0_col3\" class=\"data row0 col3\" >1.267917</td>\n                        <td id=\"T_ffbef_row0_col4\" class=\"data row0 col4\" >1.482821</td>\n                        <td id=\"T_ffbef_row0_col5\" class=\"data row0 col5\" >1.456696</td>\n                        <td id=\"T_ffbef_row0_col6\" class=\"data row0 col6\" >1.078741</td>\n            </tr>\n            <tr>\n                        <th id=\"T_ffbef_level0_row1\" class=\"row_heading level0 row1\" >Burke Gonzales</th>\n                        <td id=\"T_ffbef_row1_col0\" class=\"data row1 col0\" >1.176989</td>\n                        <td id=\"T_ffbef_row1_col1\" class=\"data row1 col1\" >1.171639</td>\n                        <td id=\"T_ffbef_row1_col2\" class=\"data row1 col2\" >1.341412</td>\n                        <td id=\"T_ffbef_row1_col3\" class=\"data row1 col3\" >0.879956</td>\n                        <td id=\"T_ffbef_row1_col4\" class=\"data row1 col4\" >0.870391</td>\n                        <td id=\"T_ffbef_row1_col5\" class=\"data row1 col5\" >0.973638</td>\n                        <td id=\"T_ffbef_row1_col6\" class=\"data row1 col6\" >0.789646</td>\n            </tr>\n            <tr>\n                        <th id=\"T_ffbef_level0_row2\" class=\"row_heading level0 row2\" >Qais Dogwalker</th>\n                        <td id=\"T_ffbef_row2_col0\" class=\"data row2 col0\" >1.153869</td>\n                        <td id=\"T_ffbef_row2_col1\" class=\"data row2 col1\" >1.071425</td>\n                        <td id=\"T_ffbef_row2_col2\" class=\"data row2 col2\" >1.137700</td>\n                        <td id=\"T_ffbef_row2_col3\" class=\"data row2 col3\" >1.358705</td>\n                        <td id=\"T_ffbef_row2_col4\" class=\"data row2 col4\" >1.152111</td>\n                        <td id=\"T_ffbef_row2_col5\" class=\"data row2 col5\" >0.882765</td>\n                        <td id=\"T_ffbef_row2_col6\" class=\"data row2 col6\" >0.610121</td>\n            </tr>\n            <tr>\n                        <th id=\"T_ffbef_level0_row3\" class=\"row_heading level0 row3\" >Pitching Machine</th>\n                        <td id=\"T_ffbef_row3_col0\" class=\"data row3 col0\" >1.133900</td>\n                        <td id=\"T_ffbef_row3_col1\" class=\"data row3 col1\" >1.297717</td>\n                        <td id=\"T_ffbef_row3_col2\" class=\"data row3 col2\" >1.186786</td>\n                        <td id=\"T_ffbef_row3_col3\" class=\"data row3 col3\" >1.153428</td>\n                        <td id=\"T_ffbef_row3_col4\" class=\"data row3 col4\" >0.443890</td>\n                        <td id=\"T_ffbef_row3_col5\" class=\"data row3 col5\" >0.586661</td>\n                        <td id=\"T_ffbef_row3_col6\" class=\"data row3 col6\" >0.832001</td>\n            </tr>\n            <tr>\n                        <th id=\"T_ffbef_level0_row4\" class=\"row_heading level0 row4\" >Goodwin Morin</th>\n                        <td id=\"T_ffbef_row4_col0\" class=\"data row4 col0\" >1.022891</td>\n                        <td id=\"T_ffbef_row4_col1\" class=\"data row4 col1\" >0.924709</td>\n                        <td id=\"T_ffbef_row4_col2\" class=\"data row4 col2\" >0.912818</td>\n                        <td id=\"T_ffbef_row4_col3\" class=\"data row4 col3\" >1.204162</td>\n                        <td id=\"T_ffbef_row4_col4\" class=\"data row4 col4\" >1.809693</td>\n                        <td id=\"T_ffbef_row4_col5\" class=\"data row4 col5\" >1.557388</td>\n                        <td id=\"T_ffbef_row4_col6\" class=\"data row4 col6\" >1.288639</td>\n            </tr>\n            <tr>\n                        <th id=\"T_ffbef_level0_row5\" class=\"row_heading level0 row5\" >Lou Roseheart</th>\n                        <td id=\"T_ffbef_row5_col0\" class=\"data row5 col0\" >0.961006</td>\n                        <td id=\"T_ffbef_row5_col1\" class=\"data row5 col1\" >1.019976</td>\n                        <td id=\"T_ffbef_row5_col2\" class=\"data row5 col2\" >0.835425</td>\n                        <td id=\"T_ffbef_row5_col3\" class=\"data row5 col3\" >1.001713</td>\n                        <td id=\"T_ffbef_row5_col4\" class=\"data row5 col4\" >1.215511</td>\n                        <td id=\"T_ffbef_row5_col5\" class=\"data row5 col5\" >1.104658</td>\n                        <td id=\"T_ffbef_row5_col6\" class=\"data row5 col6\" >1.076313</td>\n            </tr>\n            <tr>\n                        <th id=\"T_ffbef_level0_row6\" class=\"row_heading level0 row6\" >Rafael Davids</th>\n                        <td id=\"T_ffbef_row6_col0\" class=\"data row6 col0\" >0.950434</td>\n                        <td id=\"T_ffbef_row6_col1\" class=\"data row6 col1\" >0.821531</td>\n                        <td id=\"T_ffbef_row6_col2\" class=\"data row6 col2\" >1.097610</td>\n                        <td id=\"T_ffbef_row6_col3\" class=\"data row6 col3\" >1.057661</td>\n                        <td id=\"T_ffbef_row6_col4\" class=\"data row6 col4\" >1.006934</td>\n                        <td id=\"T_ffbef_row6_col5\" class=\"data row6 col5\" >1.045070</td>\n                        <td id=\"T_ffbef_row6_col6\" class=\"data row6 col6\" >1.161455</td>\n            </tr>\n            <tr>\n                        <th id=\"T_ffbef_level0_row7\" class=\"row_heading level0 row7\" >Hiroto Wilcox</th>\n                        <td id=\"T_ffbef_row7_col0\" class=\"data row7 col0\" >0.929726</td>\n                        <td id=\"T_ffbef_row7_col1\" class=\"data row7 col1\" >1.048886</td>\n                        <td id=\"T_ffbef_row7_col2\" class=\"data row7 col2\" >1.108926</td>\n                        <td id=\"T_ffbef_row7_col3\" class=\"data row7 col3\" >0.488923</td>\n                        <td id=\"T_ffbef_row7_col4\" class=\"data row7 col4\" >0.771052</td>\n                        <td id=\"T_ffbef_row7_col5\" class=\"data row7 col5\" >0.826826</td>\n                        <td id=\"T_ffbef_row7_col6\" class=\"data row7 col6\" >0.337882</td>\n            </tr>\n            <tr>\n                        <th id=\"T_ffbef_level0_row8\" class=\"row_heading level0 row8\" >Valentine Games</th>\n                        <td id=\"T_ffbef_row8_col0\" class=\"data row8 col0\" >0.892390</td>\n                        <td id=\"T_ffbef_row8_col1\" class=\"data row8 col1\" >0.878882</td>\n                        <td id=\"T_ffbef_row8_col2\" class=\"data row8 col2\" >0.988182</td>\n                        <td id=\"T_ffbef_row8_col3\" class=\"data row8 col3\" >1.175546</td>\n                        <td id=\"T_ffbef_row8_col4\" class=\"data row8 col4\" >0.627525</td>\n                        <td id=\"T_ffbef_row8_col5\" class=\"data row8 col5\" >0.411364</td>\n                        <td id=\"T_ffbef_row8_col6\" class=\"data row8 col6\" >0.943146</td>\n            </tr>\n            <tr>\n                        <th id=\"T_ffbef_level0_row9\" class=\"row_heading level0 row9\" >Rigby Friedrich</th>\n                        <td id=\"T_ffbef_row9_col0\" class=\"data row9 col0\" >0.888575</td>\n                        <td id=\"T_ffbef_row9_col1\" class=\"data row9 col1\" >1.072799</td>\n                        <td id=\"T_ffbef_row9_col2\" class=\"data row9 col2\" >0.939847</td>\n                        <td id=\"T_ffbef_row9_col3\" class=\"data row9 col3\" >0.427646</td>\n                        <td id=\"T_ffbef_row9_col4\" class=\"data row9 col4\" >1.074809</td>\n                        <td id=\"T_ffbef_row9_col5\" class=\"data row9 col5\" >0.718857</td>\n                        <td id=\"T_ffbef_row9_col6\" class=\"data row9 col6\" >0.537667</td>\n            </tr>\n    </tbody></table>"
     },
     "execution_count": 9,
     "metadata": {},
     "output_type": "execute_result"
    }
   ],
   "source": [
    "all_wild.sort(key=lambda x: x.pitching_rating, reverse=True)\n",
    "set_heatmap(get_pitching_stlats(all_wild[0:10]), maxVal=1)"
   ]
  },
  {
   "cell_type": "code",
   "execution_count": 10,
   "metadata": {},
   "outputs": [
    {
     "data": {
      "text/plain": "<pandas.io.formats.style.Styler at 0x249f9e36430>",
      "text/html": "<style  type=\"text/css\" >\n#T_86140_row0_col0{\n            background-color:  #e5f49b;\n            color:  #000000;\n        }#T_86140_row0_col1{\n            background-color:  #128a49;\n            color:  #000000;\n        }#T_86140_row0_col2{\n            background-color:  #feca79;\n            color:  #000000;\n        }#T_86140_row0_col3{\n            background-color:  #48ae5c;\n            color:  #000000;\n        }#T_86140_row0_col4{\n            background-color:  #fff1a8;\n            color:  #000000;\n        }#T_86140_row0_col5{\n            background-color:  #d9ef8b;\n            color:  #000000;\n        }#T_86140_row0_col6{\n            background-color:  #e44c34;\n            color:  #000000;\n        }</style><table id=\"T_86140_\" ><thead>    <tr>        <th class=\"blank level0\" ></th>        <th class=\"col_heading level0 col0\" >Pitching Rating</th>        <th class=\"col_heading level0 col1\" >Unthwackability</th>        <th class=\"col_heading level0 col2\" >Ruthlessness</th>        <th class=\"col_heading level0 col3\" >Overpowerment</th>        <th class=\"col_heading level0 col4\" >Shakespearianism</th>        <th class=\"col_heading level0 col5\" >Coldness</th>        <th class=\"col_heading level0 col6\" >Suppression</th>    </tr></thead><tbody>\n                <tr>\n                        <th id=\"T_86140_level0_row0\" class=\"row_heading level0 row0\" >Doc Anice</th>\n                        <td id=\"T_86140_row0_col0\" class=\"data row0 col0\" >0.568234</td>\n                        <td id=\"T_86140_row0_col1\" class=\"data row0 col1\" >0.928114</td>\n                        <td id=\"T_86140_row0_col2\" class=\"data row0 col2\" >0.359045</td>\n                        <td id=\"T_86140_row0_col3\" class=\"data row0 col3\" >0.836037</td>\n                        <td id=\"T_86140_row0_col4\" class=\"data row0 col4\" >0.456020</td>\n                        <td id=\"T_86140_row0_col5\" class=\"data row0 col5\" >0.598965</td>\n                        <td id=\"T_86140_row0_col6\" class=\"data row0 col6\" >0.144698</td>\n            </tr>\n    </tbody></table>"
     },
     "execution_count": 10,
     "metadata": {},
     "output_type": "execute_result"
    }
   ],
   "source": [
    "set_heatmap(get_pitching_stlats(sort_rotation(pies, 1)), maxVal=1)"
   ]
  },
  {
   "cell_type": "markdown",
   "metadata": {},
   "source": [
    "### Foreshadow\n",
    "**Swap a Player from your Shadows to your active roster.**\n",
    "\n",
    "There are 14 shadows players to swap with our 12 existing players. Below is a breakdown comparing the best shadows\n",
    "players with the worst player in the particular position.\n",
    "\n",
    "Note that position does not matter for the swap: any shadows player can bat or pitch.\n"
   ]
  },
  {
   "cell_type": "markdown",
   "metadata": {},
   "source": [
    "**Batting:**"
   ]
  },
  {
   "cell_type": "code",
   "execution_count": 11,
   "metadata": {
    "pycharm": {
     "name": "#%%\n"
    }
   },
   "outputs": [
    {
     "data": {
      "text/plain": "                    Batting  Pitching  Baserunning  Defense\nHaruta Byrd             3.5       2.5          2.5      1.5\nJavier Lotus            3.5       1.0          3.5      4.0\nAugust Obrien           3.5       1.0          3.5      2.0\nJefferson Delacruz      3.0       0.5          3.5      4.0\nYusef Puddles           2.0       2.5          3.0      3.5",
      "text/html": "<div>\n<style scoped>\n    .dataframe tbody tr th:only-of-type {\n        vertical-align: middle;\n    }\n\n    .dataframe tbody tr th {\n        vertical-align: top;\n    }\n\n    .dataframe thead th {\n        text-align: right;\n    }\n</style>\n<table border=\"1\" class=\"dataframe\">\n  <thead>\n    <tr style=\"text-align: right;\">\n      <th></th>\n      <th>Batting</th>\n      <th>Pitching</th>\n      <th>Baserunning</th>\n      <th>Defense</th>\n    </tr>\n  </thead>\n  <tbody>\n    <tr>\n      <th>Haruta Byrd</th>\n      <td>3.5</td>\n      <td>2.5</td>\n      <td>2.5</td>\n      <td>1.5</td>\n    </tr>\n    <tr>\n      <th>Javier Lotus</th>\n      <td>3.5</td>\n      <td>1.0</td>\n      <td>3.5</td>\n      <td>4.0</td>\n    </tr>\n    <tr>\n      <th>August Obrien</th>\n      <td>3.5</td>\n      <td>1.0</td>\n      <td>3.5</td>\n      <td>2.0</td>\n    </tr>\n    <tr>\n      <th>Jefferson Delacruz</th>\n      <td>3.0</td>\n      <td>0.5</td>\n      <td>3.5</td>\n      <td>4.0</td>\n    </tr>\n    <tr>\n      <th>Yusef Puddles</th>\n      <td>2.0</td>\n      <td>2.5</td>\n      <td>3.0</td>\n      <td>3.5</td>\n    </tr>\n  </tbody>\n</table>\n</div>"
     },
     "execution_count": 11,
     "metadata": {},
     "output_type": "execute_result"
    }
   ],
   "source": [
    "shadows = pies.bullpen + pies.bench\n",
    "shadows.sort(key=lambda x: x.batting_rating, reverse=True)\n",
    "best_batting_shadows = shadows[0:4]\n",
    "worst_batter = sort_lineup(pies, 1)[0]\n",
    "\n",
    "get_stars(best_batting_shadows + [worst_batter])"
   ]
  },
  {
   "cell_type": "code",
   "execution_count": 12,
   "outputs": [
    {
     "data": {
      "text/plain": "<pandas.io.formats.style.Styler at 0x249f89c94f0>",
      "text/html": "<style  type=\"text/css\" >\n#T_7b63e_row0_col0{\n            background-color:  #96d268;\n            color:  #000000;\n        }#T_7b63e_row0_col1{\n            background-color:  #98d368;\n            color:  #000000;\n        }#T_7b63e_row0_col2{\n            background-color:  #15904c;\n            color:  #000000;\n        }#T_7b63e_row0_col3{\n            background-color:  #3ca959;\n            color:  #000000;\n        }#T_7b63e_row0_col4{\n            background-color:  #dff293;\n            color:  #000000;\n        }#T_7b63e_row0_col5{\n            background-color:  #4bb05c;\n            color:  #000000;\n            background-color:  #ea5739;\n            color:  #000000;\n        }#T_7b63e_row0_col6{\n            background-color:  #eb5a3a;\n            color:  #000000;\n        }#T_7b63e_row0_col7,#T_7b63e_row1_col7,#T_7b63e_row2_col7,#T_7b63e_row3_col7{\n            background-color:  #d62f27;\n            color:  #f1f1f1;\n            background-color:  #199750;\n            color:  #000000;\n        }#T_7b63e_row0_col8{\n            background-color:  #dd3d2d;\n            color:  #f1f1f1;\n        }#T_7b63e_row1_col0,#T_7b63e_row2_col0{\n            background-color:  #afdd70;\n            color:  #000000;\n        }#T_7b63e_row1_col1{\n            background-color:  #0f8446;\n            color:  #f1f1f1;\n        }#T_7b63e_row1_col2{\n            background-color:  #fed884;\n            color:  #000000;\n        }#T_7b63e_row1_col3{\n            background-color:  #199750;\n            color:  #000000;\n        }#T_7b63e_row1_col4{\n            background-color:  #0e8245;\n            color:  #f1f1f1;\n        }#T_7b63e_row1_col5{\n            background-color:  #f47044;\n            color:  #000000;\n            background-color:  #69be63;\n            color:  #000000;\n        }#T_7b63e_row1_col6{\n            background-color:  #249d53;\n            color:  #000000;\n        }#T_7b63e_row1_col8{\n            background-color:  #5ab760;\n            color:  #000000;\n        }#T_7b63e_row2_col1,#T_7b63e_row3_col2{\n            background-color:  #c3e67d;\n            color:  #000000;\n        }#T_7b63e_row2_col2{\n            background-color:  #128a49;\n            color:  #000000;\n        }#T_7b63e_row2_col3{\n            background-color:  #16914d;\n            color:  #000000;\n        }#T_7b63e_row2_col4{\n            background-color:  #fffdbc;\n            color:  #000000;\n        }#T_7b63e_row2_col5{\n            background-color:  #138c4a;\n            color:  #000000;\n            background-color:  #ca2427;\n            color:  #f1f1f1;\n        }#T_7b63e_row2_col6{\n            background-color:  #e9f6a1;\n            color:  #000000;\n        }#T_7b63e_row2_col8{\n            background-color:  #fff3ac;\n            color:  #000000;\n        }#T_7b63e_row3_col0{\n            background-color:  #daf08d;\n            color:  #000000;\n        }#T_7b63e_row3_col1{\n            background-color:  #fff8b4;\n            color:  #000000;\n        }#T_7b63e_row3_col3{\n            background-color:  #18954f;\n            color:  #000000;\n        }#T_7b63e_row3_col4{\n            background-color:  #f1f9ac;\n            color:  #000000;\n        }#T_7b63e_row3_col5{\n            background-color:  #feffbe;\n            color:  #000000;\n            background-color:  #fffebe;\n            color:  #000000;\n        }#T_7b63e_row3_col6{\n            background-color:  #feeb9d;\n            color:  #000000;\n        }#T_7b63e_row3_col8{\n            background-color:  #b5df74;\n            color:  #000000;\n        }#T_7b63e_row4_col0{\n            background-color:  #fee999;\n            color:  #000000;\n        }#T_7b63e_row4_col1,#T_7b63e_row4_col8{\n            background-color:  #006837;\n            color:  #f1f1f1;\n        }#T_7b63e_row4_col2{\n            background-color:  #ef633f;\n            color:  #000000;\n        }#T_7b63e_row4_col3{\n            background-color:  #b3df72;\n            color:  #000000;\n        }#T_7b63e_row4_col4{\n            background-color:  #e54e35;\n            color:  #000000;\n        }#T_7b63e_row4_col5{\n            background-color:  #c9e881;\n            color:  #000000;\n            background-color:  #fed07e;\n            color:  #000000;\n        }#T_7b63e_row4_col6{\n            background-color:  #da362a;\n            color:  #f1f1f1;\n        }#T_7b63e_row4_col7{\n            background-color:  #c01a27;\n            color:  #f1f1f1;\n            background-color:  #0e8245;\n            color:  #f1f1f1;\n        }</style><table id=\"T_7b63e_\" ><thead>    <tr>        <th class=\"blank level0\" ></th>        <th class=\"col_heading level0 col0\" >Batting Rating</th>        <th class=\"col_heading level0 col1\" >Thwackability</th>        <th class=\"col_heading level0 col2\" >Divinity</th>        <th class=\"col_heading level0 col3\" >Musclitude</th>        <th class=\"col_heading level0 col4\" >Moxie</th>        <th class=\"col_heading level0 col5\" >Patheticism</th>        <th class=\"col_heading level0 col6\" >Martyrdom</th>        <th class=\"col_heading level0 col7\" >Tragicness</th>        <th class=\"col_heading level0 col8\" >Buoyancy</th>    </tr></thead><tbody>\n                <tr>\n                        <th id=\"T_7b63e_level0_row0\" class=\"row_heading level0 row0\" >Haruta Byrd</th>\n                        <td id=\"T_7b63e_row0_col0\" class=\"data row0 col0\" >0.724391</td>\n                        <td id=\"T_7b63e_row0_col1\" class=\"data row0 col1\" >0.721433</td>\n                        <td id=\"T_7b63e_row0_col2\" class=\"data row0 col2\" >0.917077</td>\n                        <td id=\"T_7b63e_row0_col3\" class=\"data row0 col3\" >0.853010</td>\n                        <td id=\"T_7b63e_row0_col4\" class=\"data row0 col4\" >0.585921</td>\n                        <td id=\"T_7b63e_row0_col5\" class=\"data row0 col5\" >0.832203</td>\n                        <td id=\"T_7b63e_row0_col6\" class=\"data row0 col6\" >0.169263</td>\n                        <td id=\"T_7b63e_row0_col7\" class=\"data row0 col7\" >0.100000</td>\n                        <td id=\"T_7b63e_row0_col8\" class=\"data row0 col8\" >0.124161</td>\n            </tr>\n            <tr>\n                        <th id=\"T_7b63e_level0_row1\" class=\"row_heading level0 row1\" >Javier Lotus</th>\n                        <td id=\"T_7b63e_row1_col0\" class=\"data row1 col0\" >0.682621</td>\n                        <td id=\"T_7b63e_row1_col1\" class=\"data row1 col1\" >0.938964</td>\n                        <td id=\"T_7b63e_row1_col2\" class=\"data row1 col2\" >0.386700</td>\n                        <td id=\"T_7b63e_row1_col3\" class=\"data row1 col3\" >0.901328</td>\n                        <td id=\"T_7b63e_row1_col4\" class=\"data row1 col4\" >0.942211</td>\n                        <td id=\"T_7b63e_row1_col5\" class=\"data row1 col5\" >0.205027</td>\n                        <td id=\"T_7b63e_row1_col6\" class=\"data row1 col6\" >0.884526</td>\n                        <td id=\"T_7b63e_row1_col7\" class=\"data row1 col7\" >0.100000</td>\n                        <td id=\"T_7b63e_row1_col8\" class=\"data row1 col8\" >0.815592</td>\n            </tr>\n            <tr>\n                        <th id=\"T_7b63e_level0_row2\" class=\"row_heading level0 row2\" >August Obrien</th>\n                        <td id=\"T_7b63e_row2_col0\" class=\"data row2 col0\" >0.681669</td>\n                        <td id=\"T_7b63e_row2_col1\" class=\"data row2 col1\" >0.641217</td>\n                        <td id=\"T_7b63e_row2_col2\" class=\"data row2 col2\" >0.927569</td>\n                        <td id=\"T_7b63e_row2_col3\" class=\"data row2 col3\" >0.913891</td>\n                        <td id=\"T_7b63e_row2_col4\" class=\"data row2 col4\" >0.492708</td>\n                        <td id=\"T_7b63e_row2_col5\" class=\"data row2 col5\" >0.923854</td>\n                        <td id=\"T_7b63e_row2_col6\" class=\"data row2 col6\" >0.556849</td>\n                        <td id=\"T_7b63e_row2_col7\" class=\"data row2 col7\" >0.100000</td>\n                        <td id=\"T_7b63e_row2_col8\" class=\"data row2 col8\" >0.463958</td>\n            </tr>\n            <tr>\n                        <th id=\"T_7b63e_level0_row3\" class=\"row_heading level0 row3\" >Jefferson Delacruz</th>\n                        <td id=\"T_7b63e_row3_col0\" class=\"data row3 col0\" >0.595750</td>\n                        <td id=\"T_7b63e_row3_col1\" class=\"data row3 col1\" >0.479940</td>\n                        <td id=\"T_7b63e_row3_col2\" class=\"data row3 col2\" >0.643757</td>\n                        <td id=\"T_7b63e_row3_col3\" class=\"data row3 col3\" >0.903986</td>\n                        <td id=\"T_7b63e_row3_col4\" class=\"data row3 col4\" >0.537770</td>\n                        <td id=\"T_7b63e_row3_col5\" class=\"data row3 col5\" >0.503675</td>\n                        <td id=\"T_7b63e_row3_col6\" class=\"data row3 col6\" >0.434424</td>\n                        <td id=\"T_7b63e_row3_col7\" class=\"data row3 col7\" >0.100000</td>\n                        <td id=\"T_7b63e_row3_col8\" class=\"data row3 col8\" >0.671689</td>\n            </tr>\n            <tr>\n                        <th id=\"T_7b63e_level0_row4\" class=\"row_heading level0 row4\" >Yusef Puddles</th>\n                        <td id=\"T_7b63e_row4_col0\" class=\"data row4 col0\" >0.429562</td>\n                        <td id=\"T_7b63e_row4_col1\" class=\"data row4 col1\" >1.033698</td>\n                        <td id=\"T_7b63e_row4_col2\" class=\"data row4 col2\" >0.184577</td>\n                        <td id=\"T_7b63e_row4_col3\" class=\"data row4 col3\" >0.675196</td>\n                        <td id=\"T_7b63e_row4_col4\" class=\"data row4 col4\" >0.151908</td>\n                        <td id=\"T_7b63e_row4_col5\" class=\"data row4 col5\" >0.630778</td>\n                        <td id=\"T_7b63e_row4_col6\" class=\"data row4 col6\" >0.110821</td>\n                        <td id=\"T_7b63e_row4_col7\" class=\"data row4 col7\" >0.057271</td>\n                        <td id=\"T_7b63e_row4_col8\" class=\"data row4 col8\" >1.010015</td>\n            </tr>\n    </tbody></table>"
     },
     "execution_count": 12,
     "metadata": {},
     "output_type": "execute_result"
    }
   ],
   "source": [
    "set_heatmap(get_batting_stlats(best_batting_shadows + [worst_batter]), maxVal=1)"
   ],
   "metadata": {
    "collapsed": false,
    "pycharm": {
     "name": "#%%\n"
    }
   }
  },
  {
   "cell_type": "markdown",
   "source": [
    "**Pitching:**"
   ],
   "metadata": {
    "collapsed": false
   }
  },
  {
   "cell_type": "code",
   "execution_count": 13,
   "outputs": [
    {
     "data": {
      "text/plain": "                    Batting  Pitching  Baserunning  Defense\nLucy Tokkan             2.0       3.5          1.0      3.0\nTwofurious Puddles      2.5       3.5          2.0      3.5\nCase Lancaster          0.0       3.5          2.0      3.0\nTiana Takahashi         1.0       3.0          2.5      3.0\nDoc Anice               2.5       3.0          1.5      3.5",
      "text/html": "<div>\n<style scoped>\n    .dataframe tbody tr th:only-of-type {\n        vertical-align: middle;\n    }\n\n    .dataframe tbody tr th {\n        vertical-align: top;\n    }\n\n    .dataframe thead th {\n        text-align: right;\n    }\n</style>\n<table border=\"1\" class=\"dataframe\">\n  <thead>\n    <tr style=\"text-align: right;\">\n      <th></th>\n      <th>Batting</th>\n      <th>Pitching</th>\n      <th>Baserunning</th>\n      <th>Defense</th>\n    </tr>\n  </thead>\n  <tbody>\n    <tr>\n      <th>Lucy Tokkan</th>\n      <td>2.0</td>\n      <td>3.5</td>\n      <td>1.0</td>\n      <td>3.0</td>\n    </tr>\n    <tr>\n      <th>Twofurious Puddles</th>\n      <td>2.5</td>\n      <td>3.5</td>\n      <td>2.0</td>\n      <td>3.5</td>\n    </tr>\n    <tr>\n      <th>Case Lancaster</th>\n      <td>0.0</td>\n      <td>3.5</td>\n      <td>2.0</td>\n      <td>3.0</td>\n    </tr>\n    <tr>\n      <th>Tiana Takahashi</th>\n      <td>1.0</td>\n      <td>3.0</td>\n      <td>2.5</td>\n      <td>3.0</td>\n    </tr>\n    <tr>\n      <th>Doc Anice</th>\n      <td>2.5</td>\n      <td>3.0</td>\n      <td>1.5</td>\n      <td>3.5</td>\n    </tr>\n  </tbody>\n</table>\n</div>"
     },
     "execution_count": 13,
     "metadata": {},
     "output_type": "execute_result"
    }
   ],
   "source": [
    "shadows.sort(key=lambda x: x.pitching_rating, reverse=True)\n",
    "best_pitching_shadows = shadows[0:4]\n",
    "worst_pitcher = sort_rotation(pies, 1)[0]\n",
    "\n",
    "get_stars(best_pitching_shadows + [worst_pitcher])"
   ],
   "metadata": {
    "collapsed": false,
    "pycharm": {
     "name": "#%%\n"
    }
   }
  },
  {
   "cell_type": "code",
   "execution_count": 14,
   "outputs": [
    {
     "data": {
      "text/plain": "<pandas.io.formats.style.Styler at 0x249f9e42070>",
      "text/html": "<style  type=\"text/css\" >\n#T_db68a_row0_col0{\n            background-color:  #8ccd67;\n            color:  #000000;\n        }#T_db68a_row0_col1{\n            background-color:  #199750;\n            color:  #000000;\n        }#T_db68a_row0_col2{\n            background-color:  #016a38;\n            color:  #f1f1f1;\n        }#T_db68a_row0_col3{\n            background-color:  #fa9656;\n            color:  #000000;\n        }#T_db68a_row0_col4{\n            background-color:  #06733d;\n            color:  #f1f1f1;\n        }#T_db68a_row0_col5{\n            background-color:  #ee613e;\n            color:  #000000;\n        }#T_db68a_row0_col6{\n            background-color:  #fdb96a;\n            color:  #000000;\n        }#T_db68a_row1_col0{\n            background-color:  #a9da6c;\n            color:  #000000;\n        }#T_db68a_row1_col1{\n            background-color:  #5db961;\n            color:  #000000;\n        }#T_db68a_row1_col2{\n            background-color:  #bfe47a;\n            color:  #000000;\n        }#T_db68a_row1_col3{\n            background-color:  #60ba62;\n            color:  #000000;\n        }#T_db68a_row1_col4,#T_db68a_row3_col3{\n            background-color:  #9bd469;\n            color:  #000000;\n        }#T_db68a_row1_col5{\n            background-color:  #fee593;\n            color:  #000000;\n        }#T_db68a_row1_col6{\n            background-color:  #96d268;\n            color:  #000000;\n        }#T_db68a_row2_col0{\n            background-color:  #bbe278;\n            color:  #000000;\n        }#T_db68a_row2_col1{\n            background-color:  #33a456;\n            color:  #000000;\n        }#T_db68a_row2_col2{\n            background-color:  #4eb15d;\n            color:  #000000;\n        }#T_db68a_row2_col3{\n            background-color:  #f16640;\n            color:  #000000;\n        }#T_db68a_row2_col4{\n            background-color:  #51b35e;\n            color:  #000000;\n        }#T_db68a_row2_col5{\n            background-color:  #30a356;\n            color:  #000000;\n        }#T_db68a_row2_col6{\n            background-color:  #ce2827;\n            color:  #f1f1f1;\n        }#T_db68a_row3_col0{\n            background-color:  #cfeb85;\n            color:  #000000;\n        }#T_db68a_row3_col1{\n            background-color:  #17934e;\n            color:  #000000;\n        }#T_db68a_row3_col2{\n            background-color:  #097940;\n            color:  #f1f1f1;\n        }#T_db68a_row3_col4{\n            background-color:  #b30d26;\n            color:  #f1f1f1;\n        }#T_db68a_row3_col5{\n            background-color:  #daf08d;\n            color:  #000000;\n        }#T_db68a_row3_col6{\n            background-color:  #0d8044;\n            color:  #f1f1f1;\n        }#T_db68a_row4_col0{\n            background-color:  #e5f49b;\n            color:  #000000;\n        }#T_db68a_row4_col1{\n            background-color:  #128a49;\n            color:  #000000;\n        }#T_db68a_row4_col2{\n            background-color:  #feca79;\n            color:  #000000;\n        }#T_db68a_row4_col3{\n            background-color:  #48ae5c;\n            color:  #000000;\n        }#T_db68a_row4_col4{\n            background-color:  #fff1a8;\n            color:  #000000;\n        }#T_db68a_row4_col5{\n            background-color:  #d9ef8b;\n            color:  #000000;\n        }#T_db68a_row4_col6{\n            background-color:  #e44c34;\n            color:  #000000;\n        }</style><table id=\"T_db68a_\" ><thead>    <tr>        <th class=\"blank level0\" ></th>        <th class=\"col_heading level0 col0\" >Pitching Rating</th>        <th class=\"col_heading level0 col1\" >Unthwackability</th>        <th class=\"col_heading level0 col2\" >Ruthlessness</th>        <th class=\"col_heading level0 col3\" >Overpowerment</th>        <th class=\"col_heading level0 col4\" >Shakespearianism</th>        <th class=\"col_heading level0 col5\" >Coldness</th>        <th class=\"col_heading level0 col6\" >Suppression</th>    </tr></thead><tbody>\n                <tr>\n                        <th id=\"T_db68a_level0_row0\" class=\"row_heading level0 row0\" >Lucy Tokkan</th>\n                        <td id=\"T_db68a_row0_col0\" class=\"data row0 col0\" >0.741748</td>\n                        <td id=\"T_db68a_row0_col1\" class=\"data row0 col1\" >0.901966</td>\n                        <td id=\"T_db68a_row0_col2\" class=\"data row0 col2\" >0.995562</td>\n                        <td id=\"T_db68a_row0_col3\" class=\"data row0 col3\" >0.263758</td>\n                        <td id=\"T_db68a_row0_col4\" class=\"data row0 col4\" >0.973020</td>\n                        <td id=\"T_db68a_row0_col5\" class=\"data row0 col5\" >0.180980</td>\n                        <td id=\"T_db68a_row0_col6\" class=\"data row0 col6\" >0.321805</td>\n            </tr>\n            <tr>\n                        <th id=\"T_db68a_level0_row1\" class=\"row_heading level0 row1\" >Twofurious Puddles</th>\n                        <td id=\"T_db68a_row1_col0\" class=\"data row1 col0\" >0.694922</td>\n                        <td id=\"T_db68a_row1_col1\" class=\"data row1 col1\" >0.811110</td>\n                        <td id=\"T_db68a_row1_col2\" class=\"data row1 col2\" >0.650034</td>\n                        <td id=\"T_db68a_row1_col3\" class=\"data row1 col3\" >0.807712</td>\n                        <td id=\"T_db68a_row1_col4\" class=\"data row1 col4\" >0.718615</td>\n                        <td id=\"T_db68a_row1_col5\" class=\"data row1 col5\" >0.416240</td>\n                        <td id=\"T_db68a_row1_col6\" class=\"data row1 col6\" >0.725894</td>\n            </tr>\n            <tr>\n                        <th id=\"T_db68a_level0_row2\" class=\"row_heading level0 row2\" >Case Lancaster</th>\n                        <td id=\"T_db68a_row2_col0\" class=\"data row2 col0\" >0.658365</td>\n                        <td id=\"T_db68a_row2_col1\" class=\"data row2 col1\" >0.867044</td>\n                        <td id=\"T_db68a_row2_col2\" class=\"data row2 col2\" >0.829197</td>\n                        <td id=\"T_db68a_row2_col3\" class=\"data row2 col3\" >0.190119</td>\n                        <td id=\"T_db68a_row2_col4\" class=\"data row2 col4\" >0.825333</td>\n                        <td id=\"T_db68a_row2_col5\" class=\"data row2 col5\" >0.868251</td>\n                        <td id=\"T_db68a_row2_col6\" class=\"data row2 col6\" >0.082117</td>\n            </tr>\n            <tr>\n                        <th id=\"T_db68a_level0_row3\" class=\"row_heading level0 row3\" >Tiana Takahashi</th>\n                        <td id=\"T_db68a_row3_col0\" class=\"data row3 col0\" >0.618850</td>\n                        <td id=\"T_db68a_row3_col1\" class=\"data row3 col1\" >0.910065</td>\n                        <td id=\"T_db68a_row3_col2\" class=\"data row3 col2\" >0.961592</td>\n                        <td id=\"T_db68a_row3_col3\" class=\"data row3 col3\" >0.716677</td>\n                        <td id=\"T_db68a_row3_col4\" class=\"data row3 col4\" >0.028954</td>\n                        <td id=\"T_db68a_row3_col5\" class=\"data row3 col5\" >0.596122</td>\n                        <td id=\"T_db68a_row3_col6\" class=\"data row3 col6\" >0.945940</td>\n            </tr>\n            <tr>\n                        <th id=\"T_db68a_level0_row4\" class=\"row_heading level0 row4\" >Doc Anice</th>\n                        <td id=\"T_db68a_row4_col0\" class=\"data row4 col0\" >0.568234</td>\n                        <td id=\"T_db68a_row4_col1\" class=\"data row4 col1\" >0.928114</td>\n                        <td id=\"T_db68a_row4_col2\" class=\"data row4 col2\" >0.359045</td>\n                        <td id=\"T_db68a_row4_col3\" class=\"data row4 col3\" >0.836037</td>\n                        <td id=\"T_db68a_row4_col4\" class=\"data row4 col4\" >0.456020</td>\n                        <td id=\"T_db68a_row4_col5\" class=\"data row4 col5\" >0.598965</td>\n                        <td id=\"T_db68a_row4_col6\" class=\"data row4 col6\" >0.144698</td>\n            </tr>\n    </tbody></table>"
     },
     "execution_count": 14,
     "metadata": {},
     "output_type": "execute_result"
    }
   ],
   "source": [
    "set_heatmap(get_pitching_stlats(best_pitching_shadows + [worst_pitcher]), maxVal=1)"
   ],
   "metadata": {
    "collapsed": false,
    "pycharm": {
     "name": "#%%\n"
    }
   }
  },
  {
   "cell_type": "markdown",
   "metadata": {},
   "source": [
    "### Infuse\n",
    "**Boost a Player on your Team by 15% to 30%.**\n",
    "\n",
    "See below for how this would affect various team members at the 2 extreme percentages. This will only affect one player.\n",
    "\n",
    "**15% Change:**"
   ]
  },
  {
   "cell_type": "code",
   "execution_count": 15,
   "metadata": {
    "pycharm": {
     "name": "#%%\n"
    }
   },
   "outputs": [
    {
     "data": {
      "text/plain": "                 old_batting_stars  new_batting_stars  change_in_batting_stars\nYusef Puddles             2.147811           3.068746                 0.920935\nBeasley Day               2.695709           3.559653                 0.863944\nLang Richardson           3.162214           3.907698                 0.745485\nHuber Frumple             3.806051           4.575154                 0.769103\nJode Preston              4.021708           4.773353                 0.751645\nEduardo Woodman           4.165300           4.885272                 0.719972\nJaxon Buckley             6.318317           6.956462                 0.638145",
      "text/html": "<div>\n<style scoped>\n    .dataframe tbody tr th:only-of-type {\n        vertical-align: middle;\n    }\n\n    .dataframe tbody tr th {\n        vertical-align: top;\n    }\n\n    .dataframe thead th {\n        text-align: right;\n    }\n</style>\n<table border=\"1\" class=\"dataframe\">\n  <thead>\n    <tr style=\"text-align: right;\">\n      <th></th>\n      <th>old_batting_stars</th>\n      <th>new_batting_stars</th>\n      <th>change_in_batting_stars</th>\n    </tr>\n  </thead>\n  <tbody>\n    <tr>\n      <th>Yusef Puddles</th>\n      <td>2.147811</td>\n      <td>3.068746</td>\n      <td>0.920935</td>\n    </tr>\n    <tr>\n      <th>Beasley Day</th>\n      <td>2.695709</td>\n      <td>3.559653</td>\n      <td>0.863944</td>\n    </tr>\n    <tr>\n      <th>Lang Richardson</th>\n      <td>3.162214</td>\n      <td>3.907698</td>\n      <td>0.745485</td>\n    </tr>\n    <tr>\n      <th>Huber Frumple</th>\n      <td>3.806051</td>\n      <td>4.575154</td>\n      <td>0.769103</td>\n    </tr>\n    <tr>\n      <th>Jode Preston</th>\n      <td>4.021708</td>\n      <td>4.773353</td>\n      <td>0.751645</td>\n    </tr>\n    <tr>\n      <th>Eduardo Woodman</th>\n      <td>4.165300</td>\n      <td>4.885272</td>\n      <td>0.719972</td>\n    </tr>\n    <tr>\n      <th>Jaxon Buckley</th>\n      <td>6.318317</td>\n      <td>6.956462</td>\n      <td>0.638145</td>\n    </tr>\n  </tbody>\n</table>\n</div>"
     },
     "execution_count": 15,
     "metadata": {},
     "output_type": "execute_result"
    }
   ],
   "source": [
    "infuse_lineup_table, _, _ = improve_team_batting_table(pies, 0.15)\n",
    "infuse_lineup_table"
   ]
  },
  {
   "cell_type": "code",
   "execution_count": 16,
   "metadata": {
    "pycharm": {
     "name": "#%%\n"
    }
   },
   "outputs": [
    {
     "data": {
      "text/plain": "<pandas.io.formats.style.Styler at 0x249f9e42ca0>",
      "text/html": "<style  type=\"text/css\" >\n#T_6b905_row0_col0{\n            background-color:  #d1ec86;\n            color:  #000000;\n        }#T_6b905_row0_col1,#T_6b905_row0_col8,#T_6b905_row2_col4,#T_6b905_row3_col2,#T_6b905_row3_col3,#T_6b905_row3_col4,#T_6b905_row3_col8,#T_6b905_row4_col1,#T_6b905_row4_col2,#T_6b905_row5_col1,#T_6b905_row5_col2,#T_6b905_row6_col0,#T_6b905_row6_col1,#T_6b905_row6_col2,#T_6b905_row6_col3,#T_6b905_row6_col4,#T_6b905_row6_col6,#T_6b905_row6_col8{\n            background-color:  #006837;\n            color:  #f1f1f1;\n        }#T_6b905_row0_col2,#T_6b905_row4_col4{\n            background-color:  #fdbf6f;\n            color:  #000000;\n        }#T_6b905_row0_col3{\n            background-color:  #51b35e;\n            color:  #000000;\n        }#T_6b905_row0_col4{\n            background-color:  #fdaf62;\n            color:  #000000;\n        }#T_6b905_row0_col5{\n            background-color:  #fffab6;\n            color:  #000000;\n            background-color:  #f8fcb6;\n            color:  #000000;\n        }#T_6b905_row0_col6{\n            background-color:  #f99355;\n            color:  #000000;\n        }#T_6b905_row0_col7,#T_6b905_row1_col7,#T_6b905_row2_col7,#T_6b905_row3_col7,#T_6b905_row4_col5,#T_6b905_row4_col7,#T_6b905_row5_col7,#T_6b905_row6_col5,#T_6b905_row6_col7{\n            background-color:  #a90426;\n            color:  #f1f1f1;\n            background-color:  #026c39;\n            color:  #f1f1f1;\n        }#T_6b905_row1_col0{\n            background-color:  #9dd569;\n            color:  #000000;\n        }#T_6b905_row1_col1{\n            background-color:  #4bb05c;\n            color:  #000000;\n        }#T_6b905_row1_col2{\n            background-color:  #48ae5c;\n            color:  #000000;\n        }#T_6b905_row1_col3{\n            background-color:  #f67f4b;\n            color:  #000000;\n        }#T_6b905_row1_col4{\n            background-color:  #feca79;\n            color:  #000000;\n        }#T_6b905_row1_col5{\n            background-color:  #fdb768;\n            color:  #000000;\n            background-color:  #afdd70;\n            color:  #000000;\n        }#T_6b905_row1_col6{\n            background-color:  #b3df72;\n            color:  #000000;\n        }#T_6b905_row1_col8{\n            background-color:  #18954f;\n            color:  #000000;\n        }#T_6b905_row2_col0{\n            background-color:  #70c164;\n            color:  #000000;\n        }#T_6b905_row2_col1{\n            background-color:  #097940;\n            color:  #f1f1f1;\n        }#T_6b905_row2_col2{\n            background-color:  #ecf7a6;\n            color:  #000000;\n        }#T_6b905_row2_col3{\n            background-color:  #78c565;\n            color:  #000000;\n        }#T_6b905_row2_col5{\n            background-color:  #c01a27;\n            color:  #f1f1f1;\n            background-color:  #0e8245;\n            color:  #f1f1f1;\n        }#T_6b905_row2_col6{\n            background-color:  #c1e57b;\n            color:  #000000;\n        }#T_6b905_row2_col8{\n            background-color:  #a5d86a;\n            color:  #000000;\n        }#T_6b905_row3_col0{\n            background-color:  #15904c;\n            color:  #000000;\n        }#T_6b905_row3_col1{\n            background-color:  #e3f399;\n            color:  #000000;\n        }#T_6b905_row3_col5{\n            background-color:  #f36b42;\n            color:  #000000;\n            background-color:  #63bc62;\n            color:  #000000;\n        }#T_6b905_row3_col6{\n            background-color:  #69be63;\n            color:  #000000;\n        }#T_6b905_row4_col0{\n            background-color:  #0b7d42;\n            color:  #f1f1f1;\n        }#T_6b905_row4_col3{\n            background-color:  #98d368;\n            color:  #000000;\n        }#T_6b905_row4_col6{\n            background-color:  #036e3a;\n            color:  #f1f1f1;\n        }#T_6b905_row4_col8{\n            background-color:  #fba05b;\n            color:  #000000;\n        }#T_6b905_row5_col0{\n            background-color:  #05713c;\n            color:  #f1f1f1;\n        }#T_6b905_row5_col3{\n            background-color:  #66bd63;\n            color:  #000000;\n        }#T_6b905_row5_col4,#T_6b905_row5_col6{\n            background-color:  #96d268;\n            color:  #000000;\n        }#T_6b905_row5_col5{\n            background-color:  #feefa3;\n            color:  #000000;\n            background-color:  #ebf7a3;\n            color:  #000000;\n        }#T_6b905_row5_col8{\n            background-color:  #39a758;\n            color:  #000000;\n        }</style><table id=\"T_6b905_\" ><thead>    <tr>        <th class=\"blank level0\" ></th>        <th class=\"col_heading level0 col0\" >Batting Rating</th>        <th class=\"col_heading level0 col1\" >Thwackability</th>        <th class=\"col_heading level0 col2\" >Divinity</th>        <th class=\"col_heading level0 col3\" >Musclitude</th>        <th class=\"col_heading level0 col4\" >Moxie</th>        <th class=\"col_heading level0 col5\" >Patheticism</th>        <th class=\"col_heading level0 col6\" >Martyrdom</th>        <th class=\"col_heading level0 col7\" >Tragicness</th>        <th class=\"col_heading level0 col8\" >Buoyancy</th>    </tr></thead><tbody>\n                <tr>\n                        <th id=\"T_6b905_level0_row0\" class=\"row_heading level0 row0\" >Yusef Puddles</th>\n                        <td id=\"T_6b905_row0_col0\" class=\"data row0 col0\" >0.613749</td>\n                        <td id=\"T_6b905_row0_col1\" class=\"data row0 col1\" >1.183698</td>\n                        <td id=\"T_6b905_row0_col2\" class=\"data row0 col2\" >0.334577</td>\n                        <td id=\"T_6b905_row0_col3\" class=\"data row0 col3\" >0.825196</td>\n                        <td id=\"T_6b905_row0_col4\" class=\"data row0 col4\" >0.301908</td>\n                        <td id=\"T_6b905_row0_col5\" class=\"data row0 col5\" >0.480778</td>\n                        <td id=\"T_6b905_row0_col6\" class=\"data row0 col6\" >0.260821</td>\n                        <td id=\"T_6b905_row0_col7\" class=\"data row0 col7\" >0.010000</td>\n                        <td id=\"T_6b905_row0_col8\" class=\"data row0 col8\" >1.160015</td>\n            </tr>\n            <tr>\n                        <th id=\"T_6b905_level0_row1\" class=\"row_heading level0 row1\" >Beasley Day</th>\n                        <td id=\"T_6b905_row1_col0\" class=\"data row1 col0\" >0.711931</td>\n                        <td id=\"T_6b905_row1_col1\" class=\"data row1 col1\" >0.835000</td>\n                        <td id=\"T_6b905_row1_col2\" class=\"data row1 col2\" >0.838801</td>\n                        <td id=\"T_6b905_row1_col3\" class=\"data row1 col3\" >0.227669</td>\n                        <td id=\"T_6b905_row1_col4\" class=\"data row1 col4\" >0.358479</td>\n                        <td id=\"T_6b905_row1_col5\" class=\"data row1 col5\" >0.318964</td>\n                        <td id=\"T_6b905_row1_col6\" class=\"data row1 col6\" >0.673706</td>\n                        <td id=\"T_6b905_row1_col7\" class=\"data row1 col7\" >0.010000</td>\n                        <td id=\"T_6b905_row1_col8\" class=\"data row1 col8\" >0.903672</td>\n            </tr>\n            <tr>\n                        <th id=\"T_6b905_level0_row2\" class=\"row_heading level0 row2\" >Lang Richardson</th>\n                        <td id=\"T_6b905_row2_col0\" class=\"data row2 col0\" >0.781540</td>\n                        <td id=\"T_6b905_row2_col1\" class=\"data row2 col1\" >0.962722</td>\n                        <td id=\"T_6b905_row2_col2\" class=\"data row2 col2\" >0.550621</td>\n                        <td id=\"T_6b905_row2_col3\" class=\"data row2 col3\" >0.772843</td>\n                        <td id=\"T_6b905_row2_col4\" class=\"data row2 col4\" >1.091821</td>\n                        <td id=\"T_6b905_row2_col5\" class=\"data row2 col5\" >0.055246</td>\n                        <td id=\"T_6b905_row2_col6\" class=\"data row2 col6\" >0.648400</td>\n                        <td id=\"T_6b905_row2_col7\" class=\"data row2 col7\" >0.010000</td>\n                        <td id=\"T_6b905_row2_col8\" class=\"data row2 col8\" >0.701015</td>\n            </tr>\n            <tr>\n                        <th id=\"T_6b905_level0_row3\" class=\"row_heading level0 row3\" >Huber Frumple</th>\n                        <td id=\"T_6b905_row3_col0\" class=\"data row3 col0\" >0.915031</td>\n                        <td id=\"T_6b905_row3_col1\" class=\"data row3 col1\" >0.573284</td>\n                        <td id=\"T_6b905_row3_col2\" class=\"data row3 col2\" >1.319818</td>\n                        <td id=\"T_6b905_row3_col3\" class=\"data row3 col3\" >1.027497</td>\n                        <td id=\"T_6b905_row3_col4\" class=\"data row3 col4\" >1.347390</td>\n                        <td id=\"T_6b905_row3_col5\" class=\"data row3 col5\" >0.195580</td>\n                        <td id=\"T_6b905_row3_col6\" class=\"data row3 col6\" >0.794357</td>\n                        <td id=\"T_6b905_row3_col7\" class=\"data row3 col7\" >0.010000</td>\n                        <td id=\"T_6b905_row3_col8\" class=\"data row3 col8\" >1.213890</td>\n            </tr>\n            <tr>\n                        <th id=\"T_6b905_level0_row4\" class=\"row_heading level0 row4\" >Jode Preston</th>\n                        <td id=\"T_6b905_row4_col0\" class=\"data row4 col0\" >0.954671</td>\n                        <td id=\"T_6b905_row4_col1\" class=\"data row4 col1\" >1.088336</td>\n                        <td id=\"T_6b905_row4_col2\" class=\"data row4 col2\" >1.094763</td>\n                        <td id=\"T_6b905_row4_col3\" class=\"data row4 col3\" >0.720218</td>\n                        <td id=\"T_6b905_row4_col4\" class=\"data row4 col4\" >0.334025</td>\n                        <td id=\"T_6b905_row4_col5\" class=\"data row4 col5\" >0.010000</td>\n                        <td id=\"T_6b905_row4_col6\" class=\"data row4 col6\" >0.987760</td>\n                        <td id=\"T_6b905_row4_col7\" class=\"data row4 col7\" >0.010000</td>\n                        <td id=\"T_6b905_row4_col8\" class=\"data row4 col8\" >0.280957</td>\n            </tr>\n            <tr>\n                        <th id=\"T_6b905_level0_row5\" class=\"row_heading level0 row5\" >Eduardo Woodman</th>\n                        <td id=\"T_6b905_row5_col0\" class=\"data row5 col0\" >0.977054</td>\n                        <td id=\"T_6b905_row5_col1\" class=\"data row5 col1\" >1.169391</td>\n                        <td id=\"T_6b905_row5_col2\" class=\"data row5 col2\" >0.996540</td>\n                        <td id=\"T_6b905_row5_col3\" class=\"data row5 col3\" >0.800666</td>\n                        <td id=\"T_6b905_row5_col4\" class=\"data row5 col4\" >0.725519</td>\n                        <td id=\"T_6b905_row5_col5\" class=\"data row5 col5\" >0.445517</td>\n                        <td id=\"T_6b905_row5_col6\" class=\"data row5 col6\" >0.724554</td>\n                        <td id=\"T_6b905_row5_col7\" class=\"data row5 col7\" >0.010000</td>\n                        <td id=\"T_6b905_row5_col8\" class=\"data row5 col8\" >0.855869</td>\n            </tr>\n            <tr>\n                        <th id=\"T_6b905_level0_row6\" class=\"row_heading level0 row6\" >Jaxon Buckley</th>\n                        <td id=\"T_6b905_row6_col0\" class=\"data row6 col0\" >1.391292</td>\n                        <td id=\"T_6b905_row6_col1\" class=\"data row6 col1\" >1.643269</td>\n                        <td id=\"T_6b905_row6_col2\" class=\"data row6 col2\" >1.137449</td>\n                        <td id=\"T_6b905_row6_col3\" class=\"data row6 col3\" >1.826092</td>\n                        <td id=\"T_6b905_row6_col4\" class=\"data row6 col4\" >2.002606</td>\n                        <td id=\"T_6b905_row6_col5\" class=\"data row6 col5\" >0.010000</td>\n                        <td id=\"T_6b905_row6_col6\" class=\"data row6 col6\" >2.082640</td>\n                        <td id=\"T_6b905_row6_col7\" class=\"data row6 col7\" >0.010000</td>\n                        <td id=\"T_6b905_row6_col8\" class=\"data row6 col8\" >1.477099</td>\n            </tr>\n    </tbody></table>"
     },
     "execution_count": 16,
     "metadata": {},
     "output_type": "execute_result"
    }
   ],
   "source": [
    "set_heatmap(get_batting_stlats(improve_team_batting(pies, 0.15)), maxVal=1.0)"
   ]
  },
  {
   "cell_type": "code",
   "execution_count": 17,
   "metadata": {
    "pycharm": {
     "name": "#%%\n"
    }
   },
   "outputs": [
    {
     "data": {
      "text/plain": "                  old_pitching_stars  new_pitching_stars  \\\nDoc Anice                   2.841172            3.734213   \nHenry Marshallow            3.439741            4.374069   \nRuslan Greatness            4.096695            4.976003   \nNerd Pacheco                4.180600            5.151709   \nElvis Figueroa              5.483164            6.399624   \n\n                  change_in_pitching_stars  \nDoc Anice                         0.893041  \nHenry Marshallow                  0.934328  \nRuslan Greatness                  0.879308  \nNerd Pacheco                      0.971109  \nElvis Figueroa                    0.916460  ",
      "text/html": "<div>\n<style scoped>\n    .dataframe tbody tr th:only-of-type {\n        vertical-align: middle;\n    }\n\n    .dataframe tbody tr th {\n        vertical-align: top;\n    }\n\n    .dataframe thead th {\n        text-align: right;\n    }\n</style>\n<table border=\"1\" class=\"dataframe\">\n  <thead>\n    <tr style=\"text-align: right;\">\n      <th></th>\n      <th>old_pitching_stars</th>\n      <th>new_pitching_stars</th>\n      <th>change_in_pitching_stars</th>\n    </tr>\n  </thead>\n  <tbody>\n    <tr>\n      <th>Doc Anice</th>\n      <td>2.841172</td>\n      <td>3.734213</td>\n      <td>0.893041</td>\n    </tr>\n    <tr>\n      <th>Henry Marshallow</th>\n      <td>3.439741</td>\n      <td>4.374069</td>\n      <td>0.934328</td>\n    </tr>\n    <tr>\n      <th>Ruslan Greatness</th>\n      <td>4.096695</td>\n      <td>4.976003</td>\n      <td>0.879308</td>\n    </tr>\n    <tr>\n      <th>Nerd Pacheco</th>\n      <td>4.180600</td>\n      <td>5.151709</td>\n      <td>0.971109</td>\n    </tr>\n    <tr>\n      <th>Elvis Figueroa</th>\n      <td>5.483164</td>\n      <td>6.399624</td>\n      <td>0.916460</td>\n    </tr>\n  </tbody>\n</table>\n</div>"
     },
     "execution_count": 17,
     "metadata": {},
     "output_type": "execute_result"
    }
   ],
   "source": [
    "infuse_rotation_table, _, _ = improve_team_pitching_table(pies, 0.15)\n",
    "infuse_rotation_table\n"
   ]
  },
  {
   "cell_type": "code",
   "execution_count": 18,
   "metadata": {
    "pycharm": {
     "name": "#%%\n"
    }
   },
   "outputs": [
    {
     "data": {
      "text/plain": "<pandas.io.formats.style.Styler at 0x249f9ee4730>",
      "text/html": "<style  type=\"text/css\" >\n#T_68da5_row0_col0,#T_68da5_row0_col5{\n            background-color:  #87cb67;\n            color:  #000000;\n        }#T_68da5_row0_col1,#T_68da5_row1_col2,#T_68da5_row1_col3,#T_68da5_row2_col3,#T_68da5_row2_col4,#T_68da5_row2_col6,#T_68da5_row3_col0,#T_68da5_row3_col1,#T_68da5_row3_col2,#T_68da5_row3_col5,#T_68da5_row4_col0,#T_68da5_row4_col1,#T_68da5_row4_col2,#T_68da5_row4_col3{\n            background-color:  #006837;\n            color:  #f1f1f1;\n        }#T_68da5_row0_col2{\n            background-color:  #fbfdba;\n            color:  #000000;\n        }#T_68da5_row0_col3{\n            background-color:  #036e3a;\n            color:  #f1f1f1;\n        }#T_68da5_row0_col4{\n            background-color:  #d5ed88;\n            color:  #000000;\n        }#T_68da5_row0_col6{\n            background-color:  #fcaa5f;\n            color:  #000000;\n        }#T_68da5_row1_col0,#T_68da5_row4_col6{\n            background-color:  #2da155;\n            color:  #000000;\n        }#T_68da5_row1_col1{\n            background-color:  #e3f399;\n            color:  #000000;\n        }#T_68da5_row1_col4{\n            background-color:  #138c4a;\n            color:  #000000;\n        }#T_68da5_row1_col5{\n            background-color:  #1b9950;\n            color:  #000000;\n        }#T_68da5_row1_col6{\n            background-color:  #07753e;\n            color:  #f1f1f1;\n        }#T_68da5_row2_col0{\n            background-color:  #016a38;\n            color:  #f1f1f1;\n        }#T_68da5_row2_col1{\n            background-color:  #148e4b;\n            color:  #000000;\n        }#T_68da5_row2_col2,#T_68da5_row4_col4{\n            background-color:  #108647;\n            color:  #000000;\n        }#T_68da5_row2_col5{\n            background-color:  #73c264;\n            color:  #000000;\n        }#T_68da5_row3_col3{\n            background-color:  #fee797;\n            color:  #000000;\n        }#T_68da5_row3_col4{\n            background-color:  #7fc866;\n            color:  #000000;\n        }#T_68da5_row3_col6{\n            background-color:  #c7e77f;\n            color:  #000000;\n        }#T_68da5_row4_col5{\n            background-color:  #d3ec87;\n            color:  #000000;\n        }</style><table id=\"T_68da5_\" ><thead>    <tr>        <th class=\"blank level0\" ></th>        <th class=\"col_heading level0 col0\" >Pitching Rating</th>        <th class=\"col_heading level0 col1\" >Unthwackability</th>        <th class=\"col_heading level0 col2\" >Ruthlessness</th>        <th class=\"col_heading level0 col3\" >Overpowerment</th>        <th class=\"col_heading level0 col4\" >Shakespearianism</th>        <th class=\"col_heading level0 col5\" >Coldness</th>        <th class=\"col_heading level0 col6\" >Suppression</th>    </tr></thead><tbody>\n                <tr>\n                        <th id=\"T_68da5_level0_row0\" class=\"row_heading level0 row0\" >Doc Anice</th>\n                        <td id=\"T_68da5_row0_col0\" class=\"data row0 col0\" >0.746843</td>\n                        <td id=\"T_68da5_row0_col1\" class=\"data row0 col1\" >1.078114</td>\n                        <td id=\"T_68da5_row0_col2\" class=\"data row0 col2\" >0.509045</td>\n                        <td id=\"T_68da5_row0_col3\" class=\"data row0 col3\" >0.986037</td>\n                        <td id=\"T_68da5_row0_col4\" class=\"data row0 col4\" >0.606020</td>\n                        <td id=\"T_68da5_row0_col5\" class=\"data row0 col5\" >0.748965</td>\n                        <td id=\"T_68da5_row0_col6\" class=\"data row0 col6\" >0.294698</td>\n            </tr>\n            <tr>\n                        <th id=\"T_68da5_level0_row1\" class=\"row_heading level0 row1\" >Henry Marshallow</th>\n                        <td id=\"T_68da5_row1_col0\" class=\"data row1 col0\" >0.874814</td>\n                        <td id=\"T_68da5_row1_col1\" class=\"data row1 col1\" >0.573292</td>\n                        <td id=\"T_68da5_row1_col2\" class=\"data row1 col2\" >1.256023</td>\n                        <td id=\"T_68da5_row1_col3\" class=\"data row1 col3\" >1.531125</td>\n                        <td id=\"T_68da5_row1_col4\" class=\"data row1 col4\" >0.924138</td>\n                        <td id=\"T_68da5_row1_col5\" class=\"data row1 col5\" >0.895639</td>\n                        <td id=\"T_68da5_row1_col6\" class=\"data row1 col6\" >0.971668</td>\n            </tr>\n            <tr>\n                        <th id=\"T_68da5_level0_row2\" class=\"row_heading level0 row2\" >Ruslan Greatness</th>\n                        <td id=\"T_68da5_row2_col0\" class=\"data row2 col0\" >0.995201</td>\n                        <td id=\"T_68da5_row2_col1\" class=\"data row2 col1\" >0.920870</td>\n                        <td id=\"T_68da5_row2_col2\" class=\"data row2 col2\" >0.936481</td>\n                        <td id=\"T_68da5_row2_col3\" class=\"data row2 col3\" >1.419963</td>\n                        <td id=\"T_68da5_row2_col4\" class=\"data row2 col4\" >1.176832</td>\n                        <td id=\"T_68da5_row2_col5\" class=\"data row2 col5\" >0.779742</td>\n                        <td id=\"T_68da5_row2_col6\" class=\"data row2 col6\" >1.570762</td>\n            </tr>\n            <tr>\n                        <th id=\"T_68da5_level0_row3\" class=\"row_heading level0 row3\" >Nerd Pacheco</th>\n                        <td id=\"T_68da5_row3_col0\" class=\"data row3 col0\" >1.030342</td>\n                        <td id=\"T_68da5_row3_col1\" class=\"data row3 col1\" >1.237720</td>\n                        <td id=\"T_68da5_row3_col2\" class=\"data row3 col2\" >1.216351</td>\n                        <td id=\"T_68da5_row3_col3\" class=\"data row3 col3\" >0.422113</td>\n                        <td id=\"T_68da5_row3_col4\" class=\"data row3 col4\" >0.758134</td>\n                        <td id=\"T_68da5_row3_col5\" class=\"data row3 col5\" >1.082212</td>\n                        <td id=\"T_68da5_row3_col6\" class=\"data row3 col6\" >0.634500</td>\n            </tr>\n            <tr>\n                        <th id=\"T_68da5_level0_row4\" class=\"row_heading level0 row4\" >Elvis Figueroa</th>\n                        <td id=\"T_68da5_row4_col0\" class=\"data row4 col0\" >1.279925</td>\n                        <td id=\"T_68da5_row4_col1\" class=\"data row4 col1\" >1.309675</td>\n                        <td id=\"T_68da5_row4_col2\" class=\"data row4 col2\" >1.286143</td>\n                        <td id=\"T_68da5_row4_col3\" class=\"data row4 col3\" >1.222682</td>\n                        <td id=\"T_68da5_row4_col4\" class=\"data row4 col4\" >0.936089</td>\n                        <td id=\"T_68da5_row4_col5\" class=\"data row4 col5\" >0.611405</td>\n                        <td id=\"T_68da5_row4_col6\" class=\"data row4 col6\" >0.871203</td>\n            </tr>\n    </tbody></table>"
     },
     "execution_count": 18,
     "metadata": {},
     "output_type": "execute_result"
    }
   ],
   "source": [
    "set_heatmap(get_pitching_stlats(improve_team_pitching(pies, 0.15)), maxVal=1)\n"
   ]
  },
  {
   "cell_type": "markdown",
   "metadata": {
    "pycharm": {
     "name": "#%% md\n"
    }
   },
   "source": [
    "**30% Change:**"
   ]
  },
  {
   "cell_type": "code",
   "execution_count": 19,
   "metadata": {
    "pycharm": {
     "name": "#%%\n"
    }
   },
   "outputs": [
    {
     "data": {
      "text/plain": "                 old_batting_stars  new_batting_stars  change_in_batting_stars\nYusef Puddles             2.147811           3.885398                 1.737587\nBeasley Day               2.695709           4.319837                 1.624128\nLang Richardson           3.162214           4.606233                 1.444019\nHuber Frumple             3.806051           5.311149                 1.505098\nJode Preston              4.021708           5.463113                 1.441405\nEduardo Woodman           4.165300           5.585918                 1.420618\nJaxon Buckley             6.318317           7.586190                 1.267873",
      "text/html": "<div>\n<style scoped>\n    .dataframe tbody tr th:only-of-type {\n        vertical-align: middle;\n    }\n\n    .dataframe tbody tr th {\n        vertical-align: top;\n    }\n\n    .dataframe thead th {\n        text-align: right;\n    }\n</style>\n<table border=\"1\" class=\"dataframe\">\n  <thead>\n    <tr style=\"text-align: right;\">\n      <th></th>\n      <th>old_batting_stars</th>\n      <th>new_batting_stars</th>\n      <th>change_in_batting_stars</th>\n    </tr>\n  </thead>\n  <tbody>\n    <tr>\n      <th>Yusef Puddles</th>\n      <td>2.147811</td>\n      <td>3.885398</td>\n      <td>1.737587</td>\n    </tr>\n    <tr>\n      <th>Beasley Day</th>\n      <td>2.695709</td>\n      <td>4.319837</td>\n      <td>1.624128</td>\n    </tr>\n    <tr>\n      <th>Lang Richardson</th>\n      <td>3.162214</td>\n      <td>4.606233</td>\n      <td>1.444019</td>\n    </tr>\n    <tr>\n      <th>Huber Frumple</th>\n      <td>3.806051</td>\n      <td>5.311149</td>\n      <td>1.505098</td>\n    </tr>\n    <tr>\n      <th>Jode Preston</th>\n      <td>4.021708</td>\n      <td>5.463113</td>\n      <td>1.441405</td>\n    </tr>\n    <tr>\n      <th>Eduardo Woodman</th>\n      <td>4.165300</td>\n      <td>5.585918</td>\n      <td>1.420618</td>\n    </tr>\n    <tr>\n      <th>Jaxon Buckley</th>\n      <td>6.318317</td>\n      <td>7.586190</td>\n      <td>1.267873</td>\n    </tr>\n  </tbody>\n</table>\n</div>"
     },
     "execution_count": 19,
     "metadata": {},
     "output_type": "execute_result"
    }
   ],
   "source": [
    "infuse_lineup_table, _, _ = improve_team_batting_table(pies, 0.30)\n",
    "infuse_lineup_table"
   ]
  },
  {
   "cell_type": "code",
   "execution_count": 20,
   "metadata": {
    "pycharm": {
     "name": "#%%\n"
    }
   },
   "outputs": [
    {
     "data": {
      "text/plain": "<pandas.io.formats.style.Styler at 0x249f9ee4b80>",
      "text/html": "<style  type=\"text/css\" >\n#T_a3734_row0_col0{\n            background-color:  #75c465;\n            color:  #000000;\n        }#T_a3734_row0_col1,#T_a3734_row0_col8,#T_a3734_row1_col8,#T_a3734_row2_col1,#T_a3734_row2_col4,#T_a3734_row3_col0,#T_a3734_row3_col2,#T_a3734_row3_col3,#T_a3734_row3_col4,#T_a3734_row3_col8,#T_a3734_row4_col0,#T_a3734_row4_col1,#T_a3734_row4_col2,#T_a3734_row4_col6,#T_a3734_row5_col0,#T_a3734_row5_col1,#T_a3734_row5_col2,#T_a3734_row5_col8,#T_a3734_row6_col0,#T_a3734_row6_col1,#T_a3734_row6_col2,#T_a3734_row6_col3,#T_a3734_row6_col4,#T_a3734_row6_col6,#T_a3734_row6_col8{\n            background-color:  #006837;\n            color:  #f1f1f1;\n        }#T_a3734_row0_col2{\n            background-color:  #fffbb8;\n            color:  #000000;\n        }#T_a3734_row0_col3{\n            background-color:  #06733d;\n            color:  #f1f1f1;\n        }#T_a3734_row0_col4{\n            background-color:  #fff0a6;\n            color:  #000000;\n        }#T_a3734_row0_col5{\n            background-color:  #fdbd6d;\n            color:  #000000;\n            background-color:  #b5df74;\n            color:  #000000;\n        }#T_a3734_row0_col6{\n            background-color:  #fee491;\n            color:  #000000;\n        }#T_a3734_row0_col7,#T_a3734_row1_col7,#T_a3734_row2_col5,#T_a3734_row2_col7,#T_a3734_row3_col7,#T_a3734_row4_col5,#T_a3734_row4_col7,#T_a3734_row5_col7,#T_a3734_row6_col5,#T_a3734_row6_col7{\n            background-color:  #a90426;\n            color:  #f1f1f1;\n            background-color:  #026c39;\n            color:  #f1f1f1;\n        }#T_a3734_row1_col0{\n            background-color:  #33a456;\n            color:  #000000;\n        }#T_a3734_row1_col1{\n            background-color:  #036e3a;\n            color:  #f1f1f1;\n        }#T_a3734_row1_col2{\n            background-color:  #026c39;\n            color:  #f1f1f1;\n        }#T_a3734_row1_col3{\n            background-color:  #fed481;\n            color:  #000000;\n        }#T_a3734_row1_col4{\n            background-color:  #fbfdba;\n            color:  #000000;\n        }#T_a3734_row1_col5{\n            background-color:  #eb5a3a;\n            color:  #000000;\n            background-color:  #4eb15d;\n            color:  #000000;\n        }#T_a3734_row1_col6{\n            background-color:  #54b45f;\n            color:  #000000;\n        }#T_a3734_row2_col0{\n            background-color:  #148e4b;\n            color:  #000000;\n        }#T_a3734_row2_col2{\n            background-color:  #a5d86a;\n            color:  #000000;\n        }#T_a3734_row2_col3{\n            background-color:  #138c4a;\n            color:  #000000;\n        }#T_a3734_row2_col6{\n            background-color:  #66bd63;\n            color:  #000000;\n        }#T_a3734_row2_col8{\n            background-color:  #3faa59;\n            color:  #000000;\n        }#T_a3734_row3_col1{\n            background-color:  #96d268;\n            color:  #000000;\n        }#T_a3734_row3_col5{\n            background-color:  #bb1526;\n            color:  #f1f1f1;\n            background-color:  #0b7d42;\n            color:  #f1f1f1;\n        }#T_a3734_row3_col6{\n            background-color:  #0e8245;\n            color:  #f1f1f1;\n        }#T_a3734_row4_col3{\n            background-color:  #30a356;\n            color:  #000000;\n        }#T_a3734_row4_col4{\n            background-color:  #fffab6;\n            color:  #000000;\n        }#T_a3734_row4_col8{\n            background-color:  #feea9b;\n            color:  #000000;\n        }#T_a3734_row5_col3{\n            background-color:  #0c7f43;\n            color:  #f1f1f1;\n        }#T_a3734_row5_col4{\n            background-color:  #2aa054;\n            color:  #000000;\n        }#T_a3734_row5_col5{\n            background-color:  #fcaa5f;\n            color:  #000000;\n            background-color:  #a2d76a;\n            color:  #000000;\n        }#T_a3734_row5_col6{\n            background-color:  #2da155;\n            color:  #000000;\n        }</style><table id=\"T_a3734_\" ><thead>    <tr>        <th class=\"blank level0\" ></th>        <th class=\"col_heading level0 col0\" >Batting Rating</th>        <th class=\"col_heading level0 col1\" >Thwackability</th>        <th class=\"col_heading level0 col2\" >Divinity</th>        <th class=\"col_heading level0 col3\" >Musclitude</th>        <th class=\"col_heading level0 col4\" >Moxie</th>        <th class=\"col_heading level0 col5\" >Patheticism</th>        <th class=\"col_heading level0 col6\" >Martyrdom</th>        <th class=\"col_heading level0 col7\" >Tragicness</th>        <th class=\"col_heading level0 col8\" >Buoyancy</th>    </tr></thead><tbody>\n                <tr>\n                        <th id=\"T_a3734_level0_row0\" class=\"row_heading level0 row0\" >Yusef Puddles</th>\n                        <td id=\"T_a3734_row0_col0\" class=\"data row0 col0\" >0.777080</td>\n                        <td id=\"T_a3734_row0_col1\" class=\"data row0 col1\" >1.333698</td>\n                        <td id=\"T_a3734_row0_col2\" class=\"data row0 col2\" >0.484577</td>\n                        <td id=\"T_a3734_row0_col3\" class=\"data row0 col3\" >0.975196</td>\n                        <td id=\"T_a3734_row0_col4\" class=\"data row0 col4\" >0.451908</td>\n                        <td id=\"T_a3734_row0_col5\" class=\"data row0 col5\" >0.330778</td>\n                        <td id=\"T_a3734_row0_col6\" class=\"data row0 col6\" >0.410821</td>\n                        <td id=\"T_a3734_row0_col7\" class=\"data row0 col7\" >0.010000</td>\n                        <td id=\"T_a3734_row0_col8\" class=\"data row0 col8\" >1.310015</td>\n            </tr>\n            <tr>\n                        <th id=\"T_a3734_level0_row1\" class=\"row_heading level0 row1\" >Beasley Day</th>\n                        <td id=\"T_a3734_row1_col0\" class=\"data row1 col0\" >0.863967</td>\n                        <td id=\"T_a3734_row1_col1\" class=\"data row1 col1\" >0.985000</td>\n                        <td id=\"T_a3734_row1_col2\" class=\"data row1 col2\" >0.988801</td>\n                        <td id=\"T_a3734_row1_col3\" class=\"data row1 col3\" >0.377669</td>\n                        <td id=\"T_a3734_row1_col4\" class=\"data row1 col4\" >0.508479</td>\n                        <td id=\"T_a3734_row1_col5\" class=\"data row1 col5\" >0.168964</td>\n                        <td id=\"T_a3734_row1_col6\" class=\"data row1 col6\" >0.823706</td>\n                        <td id=\"T_a3734_row1_col7\" class=\"data row1 col7\" >0.010000</td>\n                        <td id=\"T_a3734_row1_col8\" class=\"data row1 col8\" >1.053672</td>\n            </tr>\n            <tr>\n                        <th id=\"T_a3734_level0_row2\" class=\"row_heading level0 row2\" >Lang Richardson</th>\n                        <td id=\"T_a3734_row2_col0\" class=\"data row2 col0\" >0.921247</td>\n                        <td id=\"T_a3734_row2_col1\" class=\"data row2 col1\" >1.112722</td>\n                        <td id=\"T_a3734_row2_col2\" class=\"data row2 col2\" >0.700621</td>\n                        <td id=\"T_a3734_row2_col3\" class=\"data row2 col3\" >0.922843</td>\n                        <td id=\"T_a3734_row2_col4\" class=\"data row2 col4\" >1.241821</td>\n                        <td id=\"T_a3734_row2_col5\" class=\"data row2 col5\" >0.010000</td>\n                        <td id=\"T_a3734_row2_col6\" class=\"data row2 col6\" >0.798400</td>\n                        <td id=\"T_a3734_row2_col7\" class=\"data row2 col7\" >0.010000</td>\n                        <td id=\"T_a3734_row2_col8\" class=\"data row2 col8\" >0.851015</td>\n            </tr>\n            <tr>\n                        <th id=\"T_a3734_level0_row3\" class=\"row_heading level0 row3\" >Huber Frumple</th>\n                        <td id=\"T_a3734_row3_col0\" class=\"data row3 col0\" >1.062230</td>\n                        <td id=\"T_a3734_row3_col1\" class=\"data row3 col1\" >0.723284</td>\n                        <td id=\"T_a3734_row3_col2\" class=\"data row3 col2\" >1.469818</td>\n                        <td id=\"T_a3734_row3_col3\" class=\"data row3 col3\" >1.177497</td>\n                        <td id=\"T_a3734_row3_col4\" class=\"data row3 col4\" >1.497390</td>\n                        <td id=\"T_a3734_row3_col5\" class=\"data row3 col5\" >0.045580</td>\n                        <td id=\"T_a3734_row3_col6\" class=\"data row3 col6\" >0.944357</td>\n                        <td id=\"T_a3734_row3_col7\" class=\"data row3 col7\" >0.010000</td>\n                        <td id=\"T_a3734_row3_col8\" class=\"data row3 col8\" >1.363890</td>\n            </tr>\n            <tr>\n                        <th id=\"T_a3734_level0_row4\" class=\"row_heading level0 row4\" >Jode Preston</th>\n                        <td id=\"T_a3734_row4_col0\" class=\"data row4 col0\" >1.092623</td>\n                        <td id=\"T_a3734_row4_col1\" class=\"data row4 col1\" >1.238336</td>\n                        <td id=\"T_a3734_row4_col2\" class=\"data row4 col2\" >1.244763</td>\n                        <td id=\"T_a3734_row4_col3\" class=\"data row4 col3\" >0.870218</td>\n                        <td id=\"T_a3734_row4_col4\" class=\"data row4 col4\" >0.484025</td>\n                        <td id=\"T_a3734_row4_col5\" class=\"data row4 col5\" >0.010000</td>\n                        <td id=\"T_a3734_row4_col6\" class=\"data row4 col6\" >1.137760</td>\n                        <td id=\"T_a3734_row4_col7\" class=\"data row4 col7\" >0.010000</td>\n                        <td id=\"T_a3734_row4_col8\" class=\"data row4 col8\" >0.430957</td>\n            </tr>\n            <tr>\n                        <th id=\"T_a3734_level0_row5\" class=\"row_heading level0 row5\" >Eduardo Woodman</th>\n                        <td id=\"T_a3734_row5_col0\" class=\"data row5 col0\" >1.117184</td>\n                        <td id=\"T_a3734_row5_col1\" class=\"data row5 col1\" >1.319391</td>\n                        <td id=\"T_a3734_row5_col2\" class=\"data row5 col2\" >1.146540</td>\n                        <td id=\"T_a3734_row5_col3\" class=\"data row5 col3\" >0.950666</td>\n                        <td id=\"T_a3734_row5_col4\" class=\"data row5 col4\" >0.875519</td>\n                        <td id=\"T_a3734_row5_col5\" class=\"data row5 col5\" >0.295517</td>\n                        <td id=\"T_a3734_row5_col6\" class=\"data row5 col6\" >0.874554</td>\n                        <td id=\"T_a3734_row5_col7\" class=\"data row5 col7\" >0.010000</td>\n                        <td id=\"T_a3734_row5_col8\" class=\"data row5 col8\" >1.005869</td>\n            </tr>\n            <tr>\n                        <th id=\"T_a3734_level0_row6\" class=\"row_heading level0 row6\" >Jaxon Buckley</th>\n                        <td id=\"T_a3734_row6_col0\" class=\"data row6 col0\" >1.517238</td>\n                        <td id=\"T_a3734_row6_col1\" class=\"data row6 col1\" >1.793269</td>\n                        <td id=\"T_a3734_row6_col2\" class=\"data row6 col2\" >1.287449</td>\n                        <td id=\"T_a3734_row6_col3\" class=\"data row6 col3\" >1.976092</td>\n                        <td id=\"T_a3734_row6_col4\" class=\"data row6 col4\" >2.152606</td>\n                        <td id=\"T_a3734_row6_col5\" class=\"data row6 col5\" >0.010000</td>\n                        <td id=\"T_a3734_row6_col6\" class=\"data row6 col6\" >2.232640</td>\n                        <td id=\"T_a3734_row6_col7\" class=\"data row6 col7\" >0.010000</td>\n                        <td id=\"T_a3734_row6_col8\" class=\"data row6 col8\" >1.627099</td>\n            </tr>\n    </tbody></table>"
     },
     "execution_count": 20,
     "metadata": {},
     "output_type": "execute_result"
    }
   ],
   "source": [
    "set_heatmap(get_batting_stlats(improve_team_batting(pies, 0.30)), maxVal=1)"
   ]
  },
  {
   "cell_type": "code",
   "execution_count": 21,
   "metadata": {
    "pycharm": {
     "name": "#%%\n"
    }
   },
   "outputs": [
    {
     "data": {
      "text/plain": "                  old_pitching_stars  new_pitching_stars  \\\nDoc Anice                   2.841172            4.636189   \nHenry Marshallow            3.439741            5.311955   \nRuslan Greatness            4.096695            5.876536   \nNerd Pacheco                4.180600            6.110125   \nElvis Figueroa              5.483164            7.332289   \n\n                  change_in_pitching_stars  \nDoc Anice                         1.795017  \nHenry Marshallow                  1.872214  \nRuslan Greatness                  1.779841  \nNerd Pacheco                      1.929525  \nElvis Figueroa                    1.849125  ",
      "text/html": "<div>\n<style scoped>\n    .dataframe tbody tr th:only-of-type {\n        vertical-align: middle;\n    }\n\n    .dataframe tbody tr th {\n        vertical-align: top;\n    }\n\n    .dataframe thead th {\n        text-align: right;\n    }\n</style>\n<table border=\"1\" class=\"dataframe\">\n  <thead>\n    <tr style=\"text-align: right;\">\n      <th></th>\n      <th>old_pitching_stars</th>\n      <th>new_pitching_stars</th>\n      <th>change_in_pitching_stars</th>\n    </tr>\n  </thead>\n  <tbody>\n    <tr>\n      <th>Doc Anice</th>\n      <td>2.841172</td>\n      <td>4.636189</td>\n      <td>1.795017</td>\n    </tr>\n    <tr>\n      <th>Henry Marshallow</th>\n      <td>3.439741</td>\n      <td>5.311955</td>\n      <td>1.872214</td>\n    </tr>\n    <tr>\n      <th>Ruslan Greatness</th>\n      <td>4.096695</td>\n      <td>5.876536</td>\n      <td>1.779841</td>\n    </tr>\n    <tr>\n      <th>Nerd Pacheco</th>\n      <td>4.180600</td>\n      <td>6.110125</td>\n      <td>1.929525</td>\n    </tr>\n    <tr>\n      <th>Elvis Figueroa</th>\n      <td>5.483164</td>\n      <td>7.332289</td>\n      <td>1.849125</td>\n    </tr>\n  </tbody>\n</table>\n</div>"
     },
     "execution_count": 21,
     "metadata": {},
     "output_type": "execute_result"
    }
   ],
   "source": [
    "infuse_rotation_table, _, _ = improve_team_pitching_table(pies, 0.30)\n",
    "infuse_rotation_table\n"
   ]
  },
  {
   "cell_type": "code",
   "execution_count": 22,
   "metadata": {
    "pycharm": {
     "name": "#%%\n"
    }
   },
   "outputs": [
    {
     "data": {
      "text/plain": "<pandas.io.formats.style.Styler at 0x249f9eea940>",
      "text/html": "<style  type=\"text/css\" >\n#T_0607f_row0_col0{\n            background-color:  #128a49;\n            color:  #000000;\n        }#T_0607f_row0_col1,#T_0607f_row0_col3,#T_0607f_row1_col0,#T_0607f_row1_col2,#T_0607f_row1_col3,#T_0607f_row1_col4,#T_0607f_row1_col5,#T_0607f_row1_col6,#T_0607f_row2_col0,#T_0607f_row2_col1,#T_0607f_row2_col2,#T_0607f_row2_col3,#T_0607f_row2_col4,#T_0607f_row2_col6,#T_0607f_row3_col0,#T_0607f_row3_col1,#T_0607f_row3_col2,#T_0607f_row3_col5,#T_0607f_row4_col0,#T_0607f_row4_col1,#T_0607f_row4_col2,#T_0607f_row4_col3,#T_0607f_row4_col4,#T_0607f_row4_col6{\n            background-color:  #006837;\n            color:  #f1f1f1;\n        }#T_0607f_row0_col2{\n            background-color:  #bbe278;\n            color:  #000000;\n        }#T_0607f_row0_col4{\n            background-color:  #82c966;\n            color:  #000000;\n        }#T_0607f_row0_col5{\n            background-color:  #199750;\n            color:  #000000;\n        }#T_0607f_row0_col6{\n            background-color:  #feeda1;\n            color:  #000000;\n        }#T_0607f_row1_col1{\n            background-color:  #96d268;\n            color:  #000000;\n        }#T_0607f_row2_col5{\n            background-color:  #118848;\n            color:  #000000;\n        }#T_0607f_row3_col3{\n            background-color:  #e3f399;\n            color:  #000000;\n        }#T_0607f_row3_col4{\n            background-color:  #17934e;\n            color:  #000000;\n        }#T_0607f_row3_col6{\n            background-color:  #70c164;\n            color:  #000000;\n        }#T_0607f_row4_col5{\n            background-color:  #7fc866;\n            color:  #000000;\n        }</style><table id=\"T_0607f_\" ><thead>    <tr>        <th class=\"blank level0\" ></th>        <th class=\"col_heading level0 col0\" >Pitching Rating</th>        <th class=\"col_heading level0 col1\" >Unthwackability</th>        <th class=\"col_heading level0 col2\" >Ruthlessness</th>        <th class=\"col_heading level0 col3\" >Overpowerment</th>        <th class=\"col_heading level0 col4\" >Shakespearianism</th>        <th class=\"col_heading level0 col5\" >Coldness</th>        <th class=\"col_heading level0 col6\" >Suppression</th>    </tr></thead><tbody>\n                <tr>\n                        <th id=\"T_0607f_level0_row0\" class=\"row_heading level0 row0\" >Doc Anice</th>\n                        <td id=\"T_0607f_row0_col0\" class=\"data row0 col0\" >0.927238</td>\n                        <td id=\"T_0607f_row0_col1\" class=\"data row0 col1\" >1.228114</td>\n                        <td id=\"T_0607f_row0_col2\" class=\"data row0 col2\" >0.659045</td>\n                        <td id=\"T_0607f_row0_col3\" class=\"data row0 col3\" >1.136037</td>\n                        <td id=\"T_0607f_row0_col4\" class=\"data row0 col4\" >0.756020</td>\n                        <td id=\"T_0607f_row0_col5\" class=\"data row0 col5\" >0.898965</td>\n                        <td id=\"T_0607f_row0_col6\" class=\"data row0 col6\" >0.444698</td>\n            </tr>\n            <tr>\n                        <th id=\"T_0607f_level0_row1\" class=\"row_heading level0 row1\" >Henry Marshallow</th>\n                        <td id=\"T_0607f_row1_col0\" class=\"data row1 col0\" >1.062391</td>\n                        <td id=\"T_0607f_row1_col1\" class=\"data row1 col1\" >0.723292</td>\n                        <td id=\"T_0607f_row1_col2\" class=\"data row1 col2\" >1.406023</td>\n                        <td id=\"T_0607f_row1_col3\" class=\"data row1 col3\" >1.681125</td>\n                        <td id=\"T_0607f_row1_col4\" class=\"data row1 col4\" >1.074138</td>\n                        <td id=\"T_0607f_row1_col5\" class=\"data row1 col5\" >1.045639</td>\n                        <td id=\"T_0607f_row1_col6\" class=\"data row1 col6\" >1.121668</td>\n            </tr>\n            <tr>\n                        <th id=\"T_0607f_level0_row2\" class=\"row_heading level0 row2\" >Ruslan Greatness</th>\n                        <td id=\"T_0607f_row2_col0\" class=\"data row2 col0\" >1.175307</td>\n                        <td id=\"T_0607f_row2_col1\" class=\"data row2 col1\" >1.070870</td>\n                        <td id=\"T_0607f_row2_col2\" class=\"data row2 col2\" >1.086481</td>\n                        <td id=\"T_0607f_row2_col3\" class=\"data row2 col3\" >1.569963</td>\n                        <td id=\"T_0607f_row2_col4\" class=\"data row2 col4\" >1.326832</td>\n                        <td id=\"T_0607f_row2_col5\" class=\"data row2 col5\" >0.929742</td>\n                        <td id=\"T_0607f_row2_col6\" class=\"data row2 col6\" >1.720762</td>\n            </tr>\n            <tr>\n                        <th id=\"T_0607f_level0_row3\" class=\"row_heading level0 row3\" >Nerd Pacheco</th>\n                        <td id=\"T_0607f_row3_col0\" class=\"data row3 col0\" >1.222025</td>\n                        <td id=\"T_0607f_row3_col1\" class=\"data row3 col1\" >1.387720</td>\n                        <td id=\"T_0607f_row3_col2\" class=\"data row3 col2\" >1.366351</td>\n                        <td id=\"T_0607f_row3_col3\" class=\"data row3 col3\" >0.572113</td>\n                        <td id=\"T_0607f_row3_col4\" class=\"data row3 col4\" >0.908134</td>\n                        <td id=\"T_0607f_row3_col5\" class=\"data row3 col5\" >1.232212</td>\n                        <td id=\"T_0607f_row3_col6\" class=\"data row3 col6\" >0.784500</td>\n            </tr>\n            <tr>\n                        <th id=\"T_0607f_level0_row4\" class=\"row_heading level0 row4\" >Elvis Figueroa</th>\n                        <td id=\"T_0607f_row4_col0\" class=\"data row4 col0\" >1.466458</td>\n                        <td id=\"T_0607f_row4_col1\" class=\"data row4 col1\" >1.459675</td>\n                        <td id=\"T_0607f_row4_col2\" class=\"data row4 col2\" >1.436143</td>\n                        <td id=\"T_0607f_row4_col3\" class=\"data row4 col3\" >1.372682</td>\n                        <td id=\"T_0607f_row4_col4\" class=\"data row4 col4\" >1.086089</td>\n                        <td id=\"T_0607f_row4_col5\" class=\"data row4 col5\" >0.761405</td>\n                        <td id=\"T_0607f_row4_col6\" class=\"data row4 col6\" >1.021203</td>\n            </tr>\n    </tbody></table>"
     },
     "execution_count": 22,
     "metadata": {},
     "output_type": "execute_result"
    }
   ],
   "source": [
    "set_heatmap(get_pitching_stlats(improve_team_pitching(pies, 0.30)), maxVal=1)"
   ]
  },
  {
   "cell_type": "markdown",
   "metadata": {},
   "source": [
    "### Trust\n",
    "**Receive a mystery Benefit for one of your Teams' Players.**\n",
    "\n",
    "The Benifit here is unknown. It is likely either a stat increase or an unknown Modification."
   ]
  },
  {
   "cell_type": "markdown",
   "metadata": {},
   "source": [
    "### Alternate\n",
    "**Call in an Alternate for a Player on your Team.**\n",
    "\n",
    "Alternates are when players stats are randomized. Below shows the change in Team Average Stars from rerolling our worst\n",
    "player, assuming they would be replaced with the Statistically Average player."
   ]
  },
  {
   "cell_type": "code",
   "execution_count": 23,
   "metadata": {
    "pycharm": {
     "name": "#%%\n"
    }
   },
   "outputs": [
    {
     "name": "stdout",
     "output_type": "stream",
     "text": [
      "Rerolling Yusef Puddles\n"
     ]
    },
    {
     "data": {
      "text/plain": "                        Pies\nbatting_change      -0.4223%\npitching_change     +0.0000%\nbaserunning_change  -0.9070%\ndefense_change      -3.1326%",
      "text/html": "<div>\n<style scoped>\n    .dataframe tbody tr th:only-of-type {\n        vertical-align: middle;\n    }\n\n    .dataframe tbody tr th {\n        vertical-align: top;\n    }\n\n    .dataframe thead th {\n        text-align: right;\n    }\n</style>\n<table border=\"1\" class=\"dataframe\">\n  <thead>\n    <tr style=\"text-align: right;\">\n      <th></th>\n      <th>Pies</th>\n    </tr>\n  </thead>\n  <tbody>\n    <tr>\n      <th>batting_change</th>\n      <td>-0.4223%</td>\n    </tr>\n    <tr>\n      <th>pitching_change</th>\n      <td>+0.0000%</td>\n    </tr>\n    <tr>\n      <th>baserunning_change</th>\n      <td>-0.9070%</td>\n    </tr>\n    <tr>\n      <th>defense_change</th>\n      <td>-3.1326%</td>\n    </tr>\n  </tbody>\n</table>\n</div>"
     },
     "execution_count": 23,
     "metadata": {},
     "output_type": "execute_result"
    }
   ],
   "source": [
    "worst_pie = sort_overall(pies, 1)[0]\n",
    "\n",
    "print(f\"Rerolling {worst_pie.name}\")\n",
    "if worst_pie in pies.rotation:\n",
    "    out = replace_player(pies, worst_pie, pitch_star=NEW_PLAYER[\"pitching\"])\n",
    "else:\n",
    "    out = replace_player(pies, worst_pie, bat_star=NEW_PLAYER[\"batting\"], run_star=NEW_PLAYER[\"baserunning\"], def_star=NEW_PLAYER[\"defense\"])\n",
    "pandas.DataFrame(out)"
   ]
  },
  {
   "cell_type": "markdown",
   "metadata": {},
   "source": [
    "### Revoke\n",
    "**Revoke a Player from your roster.**\n",
    "\n",
    "Revoking will cause the player to change teams, potentially every season. This will cause our other players to play more\n",
    "often, increasing our average team performance if we chose the worst player. See below for analysis of removing our\n",
    "worst Batter or Pitcher.\n",
    "\n",
    "**Batting:**"
   ]
  },
  {
   "cell_type": "code",
   "execution_count": 24,
   "metadata": {
    "pycharm": {
     "name": "#%%\n"
    }
   },
   "outputs": [
    {
     "name": "stdout",
     "output_type": "stream",
     "text": [
      "Removing Yusef Puddles\n"
     ]
    },
    {
     "data": {
      "text/plain": "                        Pies\nbatting_change      +5.3726%\npitching_change     +0.0000%\nbaserunning_change  +2.5066%\ndefense_change      -1.8743%",
      "text/html": "<div>\n<style scoped>\n    .dataframe tbody tr th:only-of-type {\n        vertical-align: middle;\n    }\n\n    .dataframe tbody tr th {\n        vertical-align: top;\n    }\n\n    .dataframe thead th {\n        text-align: right;\n    }\n</style>\n<table border=\"1\" class=\"dataframe\">\n  <thead>\n    <tr style=\"text-align: right;\">\n      <th></th>\n      <th>Pies</th>\n    </tr>\n  </thead>\n  <tbody>\n    <tr>\n      <th>batting_change</th>\n      <td>+5.3726%</td>\n    </tr>\n    <tr>\n      <th>pitching_change</th>\n      <td>+0.0000%</td>\n    </tr>\n    <tr>\n      <th>baserunning_change</th>\n      <td>+2.5066%</td>\n    </tr>\n    <tr>\n      <th>defense_change</th>\n      <td>-1.8743%</td>\n    </tr>\n  </tbody>\n</table>\n</div>"
     },
     "execution_count": 24,
     "metadata": {},
     "output_type": "execute_result"
    }
   ],
   "source": [
    "print(f'Removing {worst_batter.name}')\n",
    "pandas.DataFrame(remove_player(pies, worst_batter))"
   ]
  },
  {
   "cell_type": "markdown",
   "source": [
    "**Pitching:**"
   ],
   "metadata": {
    "collapsed": false,
    "pycharm": {
     "name": "#%% md\n"
    }
   }
  },
  {
   "cell_type": "code",
   "execution_count": 25,
   "outputs": [
    {
     "name": "stdout",
     "output_type": "stream",
     "text": [
      "Removing Doc Anice\n"
     ]
    },
    {
     "data": {
      "text/plain": "                        Pies\nbatting_change      +0.0000%\npitching_change     +5.8355%\nbaserunning_change  +0.0000%\ndefense_change      +0.0000%",
      "text/html": "<div>\n<style scoped>\n    .dataframe tbody tr th:only-of-type {\n        vertical-align: middle;\n    }\n\n    .dataframe tbody tr th {\n        vertical-align: top;\n    }\n\n    .dataframe thead th {\n        text-align: right;\n    }\n</style>\n<table border=\"1\" class=\"dataframe\">\n  <thead>\n    <tr style=\"text-align: right;\">\n      <th></th>\n      <th>Pies</th>\n    </tr>\n  </thead>\n  <tbody>\n    <tr>\n      <th>batting_change</th>\n      <td>+0.0000%</td>\n    </tr>\n    <tr>\n      <th>pitching_change</th>\n      <td>+5.8355%</td>\n    </tr>\n    <tr>\n      <th>baserunning_change</th>\n      <td>+0.0000%</td>\n    </tr>\n    <tr>\n      <th>defense_change</th>\n      <td>+0.0000%</td>\n    </tr>\n  </tbody>\n</table>\n</div>"
     },
     "execution_count": 25,
     "metadata": {},
     "output_type": "execute_result"
    }
   ],
   "source": [
    "print(f'Removing {worst_pitcher.name}')\n",
    "pandas.DataFrame(remove_player(pies, worst_pitcher))\n"
   ],
   "metadata": {
    "collapsed": false,
    "pycharm": {
     "name": "#%%\n"
    }
   }
  },
  {
   "cell_type": "markdown",
   "metadata": {},
   "source": [
    "### Enrich\n",
    "**Pick a modification for your Team next season.**\n",
    "\n",
    "This will gives the option of choosing between\n",
    "* The Fourth Strike: Those with the Fourth Strike will get an extra strike in each at bat.\n",
    "* Shame Donor: A Team or Player who adds Unruns to a Shamed opponents' future pile.\n",
    "* Earlybirds: This team will Overperform in the Earlseason.\n",
    "* Late to the Party: This team will Overperform in the Lateseason.\n",
    "\n",
    "Seasonal Modifications have been mixed in the past. For Fourth Strike Analysis, see the appropriate\n",
    "[SIBR Paper](https://research.blaseball-reference.com/Fourth_Strike.pdf). Earlybirds or Late to the Party would be\n",
    "roughly equivalent to a 5% boost overall."
   ]
  },
  {
   "cell_type": "markdown",
   "metadata": {},
   "source": [
    "___\n",
    "## Blessings\n",
    "\n",
    "Blessings are selected by raffle across all teams. Each blessing will be awarded to one random team, where teams with\n",
    "more votes are more likely to be selected."
   ]
  },
  {
   "cell_type": "markdown",
   "metadata": {},
   "source": [
    "### Jam-Packed & Glazed\n",
    "**Your Team will pay out double to all Fans when they trigger the Black Hole.**\n",
    "\n",
    "**Your Team will pay out double to all Fans when they trigger Sun 2.**\n",
    "\n",
    "See below for analysis of likelihood to trigger Sun 2 & Black Hole, as well as the estimated payout difference."
   ]
  },
  {
   "cell_type": "code",
   "execution_count": 26,
   "outputs": [
    {
     "name": "stdout",
     "output_type": "stream",
     "text": [
      "Sun 2 was activated for the Pies 0 times in Season 13\n"
     ]
    }
   ],
   "source": [
    "pies_games = Game.load_by_season(season=13, team_id=pies.id)\n",
    "sun2_games = [x for x in pies_games.values() if f\"Sun 2 set a Win upon the {pies.nickname}\" in x.outcomes or f\"Sun 2 set a Win upon the {pies.nickname}.\" in x.outcomes]\n",
    "total_sun2 = len(sun2_games)\n",
    "print(f\"Sun 2 was activated for the {pies.nickname} {total_sun2} times in Season 13\")"
   ],
   "metadata": {
    "collapsed": false,
    "pycharm": {
     "name": "#%%\n"
    }
   }
  },
  {
   "cell_type": "code",
   "execution_count": 27,
   "outputs": [
    {
     "name": "stdout",
     "output_type": "stream",
     "text": [
      "Black Hole was activated for the Pies 1 times in Season 13.\n"
     ]
    }
   ],
   "source": [
    "total_blackholes = 0\n",
    "for game in pies_games.values():\n",
    "    for outcome in game.outcomes:\n",
    "        if \"The Black Hole swallowed a Win\" in outcome and pies.nickname not in outcome:\n",
    "            total_blackholes += 1\n",
    "print(f\"Black Hole was activated for the {pies.nickname} {total_blackholes} times in Season 13.\")"
   ],
   "metadata": {
    "collapsed": false,
    "pycharm": {
     "name": "#%%\n"
    }
   }
  },
  {
   "cell_type": "code",
   "execution_count": 28,
   "outputs": [
    {
     "name": "stdout",
     "output_type": "stream",
     "text": [
      "With Max Wet Pretzels, win payout difference: 15000 vs 30000\n",
      "With Max Doughnuts, loss payout difference: 0 vs 0\n"
     ]
    }
   ],
   "source": [
    "print(f\"With Max Wet Pretzels, win payout difference: {15000*total_blackholes} vs {15000*total_blackholes*2}\")\n",
    "print(f\"With Max Doughnuts, loss payout difference: {10000*total_sun2} vs {10000*total_sun2*2}\")\n"
   ],
   "metadata": {
    "collapsed": false,
    "pycharm": {
     "name": "#%%\n"
    }
   }
  },
  {
   "cell_type": "markdown",
   "metadata": {},
   "source": [
    "### Buttered Up & Over Salted\n",
    "**Your Team will pay out double for Popcorn.**\n",
    "\n",
    "**Your Team will pay out double for Stale Popcorn.**\n",
    "\n",
    "See below for analysis of Seasonal wins and losses, as well as the estimated payout difference.\n"
   ]
  },
  {
   "cell_type": "code",
   "execution_count": 29,
   "outputs": [
    {
     "name": "stdout",
     "output_type": "stream",
     "text": [
      "Pies won 43 games and lost 56 games in Season 13\n",
      "With Max Popcorn, win payout difference: 12900 vs 25800\n",
      "With Max Stale Popcorn, loss payout difference: 44800 vs 89600\n"
     ]
    }
   ],
   "source": [
    "wins = [x for x in pies_games.values() if x.winning_team == pies]\n",
    "losses = [x for x in pies_games.values() if x.winning_team != pies]\n",
    "print(f\"Pies won {len(wins)} games and lost {len(losses)} games in Season 13\")\n",
    "print(f\"With Max Popcorn, win payout difference: {300*len(wins)} vs {300*len(wins)*2}\")\n",
    "print(f\"With Max Stale Popcorn, loss payout difference: {800*len(losses)} vs {800*len(losses)*2}\")\n"
   ],
   "metadata": {
    "collapsed": false,
    "pycharm": {
     "name": "#%%\n"
    }
   }
  },
  {
   "cell_type": "markdown",
   "metadata": {},
   "source": [
    "### Solo Stroll\n",
    "**The worst Player on your Team will draw a walk on 3 Balls instead of 4.**\n",
    "\n",
    "Assuming this means worst *Batter* on the team, see below for player details. Note that `moxie` is that attribute most\n",
    "correlated to drawing walks."
   ]
  },
  {
   "cell_type": "code",
   "execution_count": 30,
   "outputs": [
    {
     "data": {
      "text/plain": "               Batting Rating  Thwackability  Divinity  Musclitude     Moxie  \\\nYusef Puddles        0.429562       1.033698  0.184577    0.675196  0.151908   \n\n               Patheticism  Martyrdom  Tragicness  Buoyancy  \nYusef Puddles     0.630778   0.110821    0.057271  1.010015  ",
      "text/html": "<div>\n<style scoped>\n    .dataframe tbody tr th:only-of-type {\n        vertical-align: middle;\n    }\n\n    .dataframe tbody tr th {\n        vertical-align: top;\n    }\n\n    .dataframe thead th {\n        text-align: right;\n    }\n</style>\n<table border=\"1\" class=\"dataframe\">\n  <thead>\n    <tr style=\"text-align: right;\">\n      <th></th>\n      <th>Batting Rating</th>\n      <th>Thwackability</th>\n      <th>Divinity</th>\n      <th>Musclitude</th>\n      <th>Moxie</th>\n      <th>Patheticism</th>\n      <th>Martyrdom</th>\n      <th>Tragicness</th>\n      <th>Buoyancy</th>\n    </tr>\n  </thead>\n  <tbody>\n    <tr>\n      <th>Yusef Puddles</th>\n      <td>0.429562</td>\n      <td>1.033698</td>\n      <td>0.184577</td>\n      <td>0.675196</td>\n      <td>0.151908</td>\n      <td>0.630778</td>\n      <td>0.110821</td>\n      <td>0.057271</td>\n      <td>1.010015</td>\n    </tr>\n  </tbody>\n</table>\n</div>"
     },
     "execution_count": 30,
     "metadata": {},
     "output_type": "execute_result"
    }
   ],
   "source": [
    "get_batting_stlats(worst_batter)"
   ],
   "metadata": {
    "collapsed": false,
    "pycharm": {
     "name": "#%%\n"
    }
   }
  },
  {
   "cell_type": "code",
   "execution_count": 31,
   "outputs": [
    {
     "data": {
      "text/plain": "              appearances batting_average on_base_percentage slugging  \\\nYusef Puddles          98           0.205              0.229    0.331   \n\n              plate_appearances at_bats hits walks singles doubles triples  \\\nYusef Puddles               508     483   99    16      64      19       6   \n\n              quadruples home_runs runs_batted_in strikeouts sacrifice_bunts  \\\nYusef Puddles          0        10             46        147               3   \n\n              sacrifice_flies at_bats_risp hits_risp batting_average_risp  \\\nYusef Puddles               0           77        22                0.286   \n\n              on_base_slugging total_bases hit_by_pitches ground_outs flyouts  \\\nYusef Puddles            0.560         160              0         121      94   \n\n              gidp  \nYusef Puddles    2  ",
      "text/html": "<div>\n<style scoped>\n    .dataframe tbody tr th:only-of-type {\n        vertical-align: middle;\n    }\n\n    .dataframe tbody tr th {\n        vertical-align: top;\n    }\n\n    .dataframe thead th {\n        text-align: right;\n    }\n</style>\n<table border=\"1\" class=\"dataframe\">\n  <thead>\n    <tr style=\"text-align: right;\">\n      <th></th>\n      <th>appearances</th>\n      <th>batting_average</th>\n      <th>on_base_percentage</th>\n      <th>slugging</th>\n      <th>plate_appearances</th>\n      <th>at_bats</th>\n      <th>hits</th>\n      <th>walks</th>\n      <th>singles</th>\n      <th>doubles</th>\n      <th>triples</th>\n      <th>quadruples</th>\n      <th>home_runs</th>\n      <th>runs_batted_in</th>\n      <th>strikeouts</th>\n      <th>sacrifice_bunts</th>\n      <th>sacrifice_flies</th>\n      <th>at_bats_risp</th>\n      <th>hits_risp</th>\n      <th>batting_average_risp</th>\n      <th>on_base_slugging</th>\n      <th>total_bases</th>\n      <th>hit_by_pitches</th>\n      <th>ground_outs</th>\n      <th>flyouts</th>\n      <th>gidp</th>\n    </tr>\n  </thead>\n  <tbody>\n    <tr>\n      <th>Yusef Puddles</th>\n      <td>98</td>\n      <td>0.205</td>\n      <td>0.229</td>\n      <td>0.331</td>\n      <td>508</td>\n      <td>483</td>\n      <td>99</td>\n      <td>16</td>\n      <td>64</td>\n      <td>19</td>\n      <td>6</td>\n      <td>0</td>\n      <td>10</td>\n      <td>46</td>\n      <td>147</td>\n      <td>3</td>\n      <td>0</td>\n      <td>77</td>\n      <td>22</td>\n      <td>0.286</td>\n      <td>0.560</td>\n      <td>160</td>\n      <td>0</td>\n      <td>121</td>\n      <td>94</td>\n      <td>2</td>\n    </tr>\n  </tbody>\n</table>\n</div>"
     },
     "execution_count": 31,
     "metadata": {},
     "output_type": "execute_result"
    }
   ],
   "source": [
    "get_batting_stats(worst_batter, 13)"
   ],
   "metadata": {
    "collapsed": false,
    "pycharm": {
     "name": "#%%\n"
    }
   }
  },
  {
   "cell_type": "markdown",
   "metadata": {},
   "source": [
    "### Min-Maxing\n",
    "**Every Team in your division gets one Minimalist and one Maximalist.**\n",
    "\n",
    "\"Minimalist\" and \"Maximalist\" are unknown."
   ]
  },
  {
   "cell_type": "markdown",
   "metadata": {},
   "source": [
    "### Targeted Evolution\n",
    "**A random pitcher and a random hitter on your Team will Advance.**\n",
    "\n",
    "Evolving or Advancing will give the player an additional Gold Star in all stats. This gold star will prevent debuffs\n",
    "from dropping the player below that star rating."
   ]
  },
  {
   "cell_type": "markdown",
   "metadata": {},
   "source": [
    "### The Nut Button\n",
    "**Your Team is no longer allergic to Peanuts.**\n",
    "\n",
    "See below for peanut allergy stats for the team. The Crab's Peanut Mister can also cure peanut allergies when playing in\n",
    "the Crabitat."
   ]
  },
  {
   "cell_type": "code",
   "execution_count": 32,
   "outputs": [
    {
     "name": "stdout",
     "output_type": "stream",
     "text": [
      "Pies are 50.0% Allergic.\n"
     ]
    },
    {
     "data": {
      "text/plain": "                  Allergic\nYusef Puddles         True\nBeasley Day           True\nLang Richardson      False\nHuber Frumple         True\nJode Preston          True\nEduardo Woodman      False\nJaxon Buckley         True\nDoc Anice            False\nHenry Marshallow     False\nRuslan Greatness     False\nNerd Pacheco         False\nElvis Figueroa        True",
      "text/html": "<div>\n<style scoped>\n    .dataframe tbody tr th:only-of-type {\n        vertical-align: middle;\n    }\n\n    .dataframe tbody tr th {\n        vertical-align: top;\n    }\n\n    .dataframe thead th {\n        text-align: right;\n    }\n</style>\n<table border=\"1\" class=\"dataframe\">\n  <thead>\n    <tr style=\"text-align: right;\">\n      <th></th>\n      <th>Allergic</th>\n    </tr>\n  </thead>\n  <tbody>\n    <tr>\n      <th>Yusef Puddles</th>\n      <td>True</td>\n    </tr>\n    <tr>\n      <th>Beasley Day</th>\n      <td>True</td>\n    </tr>\n    <tr>\n      <th>Lang Richardson</th>\n      <td>False</td>\n    </tr>\n    <tr>\n      <th>Huber Frumple</th>\n      <td>True</td>\n    </tr>\n    <tr>\n      <th>Jode Preston</th>\n      <td>True</td>\n    </tr>\n    <tr>\n      <th>Eduardo Woodman</th>\n      <td>False</td>\n    </tr>\n    <tr>\n      <th>Jaxon Buckley</th>\n      <td>True</td>\n    </tr>\n    <tr>\n      <th>Doc Anice</th>\n      <td>False</td>\n    </tr>\n    <tr>\n      <th>Henry Marshallow</th>\n      <td>False</td>\n    </tr>\n    <tr>\n      <th>Ruslan Greatness</th>\n      <td>False</td>\n    </tr>\n    <tr>\n      <th>Nerd Pacheco</th>\n      <td>False</td>\n    </tr>\n    <tr>\n      <th>Elvis Figueroa</th>\n      <td>True</td>\n    </tr>\n  </tbody>\n</table>\n</div>"
     },
     "execution_count": 32,
     "metadata": {},
     "output_type": "execute_result"
    }
   ],
   "source": [
    "peanut_stats = [x.peanut_allergy for x in pies.lineup + pies.rotation]\n",
    "peanut_percent = peanut_stats.count(True)/len(peanut_stats)\n",
    "print(f\"Pies are {peanut_percent*100}% Allergic.\")\n",
    "\n",
    "pandas.DataFrame([{\"Allergic\": x} for x in peanut_stats], index=[x.name for x in pies.lineup + pies.rotation])"
   ],
   "metadata": {
    "collapsed": false,
    "pycharm": {
     "name": "#%%\n"
    }
   }
  },
  {
   "cell_type": "markdown",
   "metadata": {},
   "source": [
    "### Non-Dominant Arms\n",
    "**Maybe try throwing with the other one? Your Team's pitching changes anywhere from -5% to +15%.**\n",
    "\n",
    "See below for analysis of the best and worst case rolls on our pitching.\n",
    "\n",
    "**Worst Case (-5%)**"
   ]
  },
  {
   "cell_type": "code",
   "execution_count": 33,
   "outputs": [
    {
     "data": {
      "text/plain": "                  old_pitching_stars  new_pitching_stars  \\\nDoc Anice                   2.841172            2.543396   \nHenry Marshallow            3.439741            3.127075   \nRuslan Greatness            4.096695            3.808712   \nNerd Pacheco                4.180600            3.847040   \nElvis Figueroa              5.483164            5.181238   \n\n                  change_in_pitching_stars  \nDoc Anice                        -0.297776  \nHenry Marshallow                 -0.312666  \nRuslan Greatness                 -0.287984  \nNerd Pacheco                     -0.333561  \nElvis Figueroa                   -0.301926  ",
      "text/html": "<div>\n<style scoped>\n    .dataframe tbody tr th:only-of-type {\n        vertical-align: middle;\n    }\n\n    .dataframe tbody tr th {\n        vertical-align: top;\n    }\n\n    .dataframe thead th {\n        text-align: right;\n    }\n</style>\n<table border=\"1\" class=\"dataframe\">\n  <thead>\n    <tr style=\"text-align: right;\">\n      <th></th>\n      <th>old_pitching_stars</th>\n      <th>new_pitching_stars</th>\n      <th>change_in_pitching_stars</th>\n    </tr>\n  </thead>\n  <tbody>\n    <tr>\n      <th>Doc Anice</th>\n      <td>2.841172</td>\n      <td>2.543396</td>\n      <td>-0.297776</td>\n    </tr>\n    <tr>\n      <th>Henry Marshallow</th>\n      <td>3.439741</td>\n      <td>3.127075</td>\n      <td>-0.312666</td>\n    </tr>\n    <tr>\n      <th>Ruslan Greatness</th>\n      <td>4.096695</td>\n      <td>3.808712</td>\n      <td>-0.287984</td>\n    </tr>\n    <tr>\n      <th>Nerd Pacheco</th>\n      <td>4.180600</td>\n      <td>3.847040</td>\n      <td>-0.333561</td>\n    </tr>\n    <tr>\n      <th>Elvis Figueroa</th>\n      <td>5.483164</td>\n      <td>5.181238</td>\n      <td>-0.301926</td>\n    </tr>\n  </tbody>\n</table>\n</div>"
     },
     "execution_count": 33,
     "metadata": {},
     "output_type": "execute_result"
    }
   ],
   "source": [
    "table, _, _ = improve_team_pitching_table(pies, -0.05)\n",
    "table"
   ],
   "metadata": {
    "collapsed": false,
    "pycharm": {
     "name": "#%%\n"
    }
   }
  },
  {
   "cell_type": "code",
   "execution_count": 34,
   "outputs": [
    {
     "data": {
      "text/plain": "<pandas.io.formats.style.Styler at 0x249f9fbff40>",
      "text/html": "<style  type=\"text/css\" >\n#T_0a0c3_row0_col0{\n            background-color:  #fbfdba;\n            color:  #000000;\n        }#T_0a0c3_row0_col1{\n            background-color:  #2aa054;\n            color:  #000000;\n        }#T_0a0c3_row0_col2{\n            background-color:  #fdb365;\n            color:  #000000;\n        }#T_0a0c3_row0_col3{\n            background-color:  #6ec064;\n            color:  #000000;\n        }#T_0a0c3_row0_col4{\n            background-color:  #fee18d;\n            color:  #000000;\n        }#T_0a0c3_row0_col5{\n            background-color:  #ecf7a6;\n            color:  #000000;\n        }#T_0a0c3_row0_col6{\n            background-color:  #d42d27;\n            color:  #f1f1f1;\n        }#T_0a0c3_row1_col0{\n            background-color:  #cbe982;\n            color:  #000000;\n        }#T_0a0c3_row1_col1{\n            background-color:  #fed27f;\n            color:  #000000;\n        }#T_0a0c3_row1_col2,#T_0a0c3_row1_col3,#T_0a0c3_row2_col3,#T_0a0c3_row2_col6,#T_0a0c3_row3_col1,#T_0a0c3_row3_col2,#T_0a0c3_row4_col0,#T_0a0c3_row4_col1,#T_0a0c3_row4_col2,#T_0a0c3_row4_col3{\n            background-color:  #006837;\n            color:  #f1f1f1;\n        }#T_0a0c3_row1_col4{\n            background-color:  #96d268;\n            color:  #000000;\n        }#T_0a0c3_row1_col5{\n            background-color:  #a7d96b;\n            color:  #000000;\n        }#T_0a0c3_row1_col6{\n            background-color:  #78c565;\n            color:  #000000;\n        }#T_0a0c3_row2_col0{\n            background-color:  #7dc765;\n            color:  #000000;\n        }#T_0a0c3_row2_col1{\n            background-color:  #98d368;\n            color:  #000000;\n        }#T_0a0c3_row2_col2,#T_0a0c3_row4_col4{\n            background-color:  #8ecf67;\n            color:  #000000;\n        }#T_0a0c3_row2_col4{\n            background-color:  #05713c;\n            color:  #f1f1f1;\n        }#T_0a0c3_row2_col5{\n            background-color:  #e0f295;\n            color:  #000000;\n        }#T_0a0c3_row3_col0{\n            background-color:  #7ac665;\n            color:  #000000;\n        }#T_0a0c3_row3_col3{\n            background-color:  #f67a49;\n            color:  #000000;\n        }#T_0a0c3_row3_col4{\n            background-color:  #e9f6a1;\n            color:  #000000;\n        }#T_0a0c3_row3_col5{\n            background-color:  #279f53;\n            color:  #000000;\n        }#T_0a0c3_row3_col6{\n            background-color:  #feeb9d;\n            color:  #000000;\n        }#T_0a0c3_row4_col5{\n            background-color:  #fee491;\n            color:  #000000;\n        }#T_0a0c3_row4_col6{\n            background-color:  #b5df74;\n            color:  #000000;\n        }</style><table id=\"T_0a0c3_\" ><thead>    <tr>        <th class=\"blank level0\" ></th>        <th class=\"col_heading level0 col0\" >Pitching Rating</th>        <th class=\"col_heading level0 col1\" >Unthwackability</th>        <th class=\"col_heading level0 col2\" >Ruthlessness</th>        <th class=\"col_heading level0 col3\" >Overpowerment</th>        <th class=\"col_heading level0 col4\" >Shakespearianism</th>        <th class=\"col_heading level0 col5\" >Coldness</th>        <th class=\"col_heading level0 col6\" >Suppression</th>    </tr></thead><tbody>\n                <tr>\n                        <th id=\"T_0a0c3_level0_row0\" class=\"row_heading level0 row0\" >Doc Anice</th>\n                        <td id=\"T_0a0c3_row0_col0\" class=\"data row0 col0\" >0.508679</td>\n                        <td id=\"T_0a0c3_row0_col1\" class=\"data row0 col1\" >0.878114</td>\n                        <td id=\"T_0a0c3_row0_col2\" class=\"data row0 col2\" >0.309045</td>\n                        <td id=\"T_0a0c3_row0_col3\" class=\"data row0 col3\" >0.786037</td>\n                        <td id=\"T_0a0c3_row0_col4\" class=\"data row0 col4\" >0.406020</td>\n                        <td id=\"T_0a0c3_row0_col5\" class=\"data row0 col5\" >0.548965</td>\n                        <td id=\"T_0a0c3_row0_col6\" class=\"data row0 col6\" >0.094698</td>\n            </tr>\n            <tr>\n                        <th id=\"T_0a0c3_level0_row1\" class=\"row_heading level0 row1\" >Henry Marshallow</th>\n                        <td id=\"T_0a0c3_row1_col0\" class=\"data row1 col0\" >0.625415</td>\n                        <td id=\"T_0a0c3_row1_col1\" class=\"data row1 col1\" >0.373292</td>\n                        <td id=\"T_0a0c3_row1_col2\" class=\"data row1 col2\" >1.056023</td>\n                        <td id=\"T_0a0c3_row1_col3\" class=\"data row1 col3\" >1.331125</td>\n                        <td id=\"T_0a0c3_row1_col4\" class=\"data row1 col4\" >0.724138</td>\n                        <td id=\"T_0a0c3_row1_col5\" class=\"data row1 col5\" >0.695639</td>\n                        <td id=\"T_0a0c3_row1_col6\" class=\"data row1 col6\" >0.771668</td>\n            </tr>\n            <tr>\n                        <th id=\"T_0a0c3_level0_row2\" class=\"row_heading level0 row2\" >Ruslan Greatness</th>\n                        <td id=\"T_0a0c3_row2_col0\" class=\"data row2 col0\" >0.761742</td>\n                        <td id=\"T_0a0c3_row2_col1\" class=\"data row2 col1\" >0.720870</td>\n                        <td id=\"T_0a0c3_row2_col2\" class=\"data row2 col2\" >0.736481</td>\n                        <td id=\"T_0a0c3_row2_col3\" class=\"data row2 col3\" >1.219963</td>\n                        <td id=\"T_0a0c3_row2_col4\" class=\"data row2 col4\" >0.976832</td>\n                        <td id=\"T_0a0c3_row2_col5\" class=\"data row2 col5\" >0.579742</td>\n                        <td id=\"T_0a0c3_row2_col6\" class=\"data row2 col6\" >1.370762</td>\n            </tr>\n            <tr>\n                        <th id=\"T_0a0c3_level0_row3\" class=\"row_heading level0 row3\" >Nerd Pacheco</th>\n                        <td id=\"T_0a0c3_row3_col0\" class=\"data row3 col0\" >0.769408</td>\n                        <td id=\"T_0a0c3_row3_col1\" class=\"data row3 col1\" >1.037720</td>\n                        <td id=\"T_0a0c3_row3_col2\" class=\"data row3 col2\" >1.016351</td>\n                        <td id=\"T_0a0c3_row3_col3\" class=\"data row3 col3\" >0.222113</td>\n                        <td id=\"T_0a0c3_row3_col4\" class=\"data row3 col4\" >0.558134</td>\n                        <td id=\"T_0a0c3_row3_col5\" class=\"data row3 col5\" >0.882212</td>\n                        <td id=\"T_0a0c3_row3_col6\" class=\"data row3 col6\" >0.434500</td>\n            </tr>\n            <tr>\n                        <th id=\"T_0a0c3_level0_row4\" class=\"row_heading level0 row4\" >Elvis Figueroa</th>\n                        <td id=\"T_0a0c3_row4_col0\" class=\"data row4 col0\" >1.036248</td>\n                        <td id=\"T_0a0c3_row4_col1\" class=\"data row4 col1\" >1.109675</td>\n                        <td id=\"T_0a0c3_row4_col2\" class=\"data row4 col2\" >1.086143</td>\n                        <td id=\"T_0a0c3_row4_col3\" class=\"data row4 col3\" >1.022682</td>\n                        <td id=\"T_0a0c3_row4_col4\" class=\"data row4 col4\" >0.736089</td>\n                        <td id=\"T_0a0c3_row4_col5\" class=\"data row4 col5\" >0.411405</td>\n                        <td id=\"T_0a0c3_row4_col6\" class=\"data row4 col6\" >0.671203</td>\n            </tr>\n    </tbody></table>"
     },
     "execution_count": 34,
     "metadata": {},
     "output_type": "execute_result"
    }
   ],
   "source": [
    "set_heatmap(get_pitching_stlats(improve_team_pitching(pies, -0.05)), maxVal=1)"
   ],
   "metadata": {
    "collapsed": false,
    "pycharm": {
     "name": "#%%\n"
    }
   }
  },
  {
   "cell_type": "markdown",
   "source": [
    "**Best Case (15%)**"
   ],
   "metadata": {
    "collapsed": false,
    "pycharm": {
     "name": "#%% md\n"
    }
   }
  },
  {
   "cell_type": "code",
   "execution_count": 35,
   "outputs": [
    {
     "data": {
      "text/plain": "                  old_pitching_stars  new_pitching_stars  \\\nDoc Anice                   2.841172            3.734213   \nHenry Marshallow            3.439741            4.374069   \nRuslan Greatness            4.096695            4.976003   \nNerd Pacheco                4.180600            5.151709   \nElvis Figueroa              5.483164            6.399624   \n\n                  change_in_pitching_stars  \nDoc Anice                         0.893041  \nHenry Marshallow                  0.934328  \nRuslan Greatness                  0.879308  \nNerd Pacheco                      0.971109  \nElvis Figueroa                    0.916460  ",
      "text/html": "<div>\n<style scoped>\n    .dataframe tbody tr th:only-of-type {\n        vertical-align: middle;\n    }\n\n    .dataframe tbody tr th {\n        vertical-align: top;\n    }\n\n    .dataframe thead th {\n        text-align: right;\n    }\n</style>\n<table border=\"1\" class=\"dataframe\">\n  <thead>\n    <tr style=\"text-align: right;\">\n      <th></th>\n      <th>old_pitching_stars</th>\n      <th>new_pitching_stars</th>\n      <th>change_in_pitching_stars</th>\n    </tr>\n  </thead>\n  <tbody>\n    <tr>\n      <th>Doc Anice</th>\n      <td>2.841172</td>\n      <td>3.734213</td>\n      <td>0.893041</td>\n    </tr>\n    <tr>\n      <th>Henry Marshallow</th>\n      <td>3.439741</td>\n      <td>4.374069</td>\n      <td>0.934328</td>\n    </tr>\n    <tr>\n      <th>Ruslan Greatness</th>\n      <td>4.096695</td>\n      <td>4.976003</td>\n      <td>0.879308</td>\n    </tr>\n    <tr>\n      <th>Nerd Pacheco</th>\n      <td>4.180600</td>\n      <td>5.151709</td>\n      <td>0.971109</td>\n    </tr>\n    <tr>\n      <th>Elvis Figueroa</th>\n      <td>5.483164</td>\n      <td>6.399624</td>\n      <td>0.916460</td>\n    </tr>\n  </tbody>\n</table>\n</div>"
     },
     "execution_count": 35,
     "metadata": {},
     "output_type": "execute_result"
    }
   ],
   "source": [
    "table, _, _ = improve_team_pitching_table(pies, 0.15)\n",
    "table"
   ],
   "metadata": {
    "collapsed": false,
    "pycharm": {
     "name": "#%%\n"
    }
   }
  },
  {
   "cell_type": "code",
   "execution_count": 36,
   "outputs": [
    {
     "data": {
      "text/plain": "<pandas.io.formats.style.Styler at 0x249f9fbf730>",
      "text/html": "<style  type=\"text/css\" >\n#T_1c057_row0_col0,#T_1c057_row0_col5{\n            background-color:  #87cb67;\n            color:  #000000;\n        }#T_1c057_row0_col1,#T_1c057_row1_col2,#T_1c057_row1_col3,#T_1c057_row2_col3,#T_1c057_row2_col4,#T_1c057_row2_col6,#T_1c057_row3_col0,#T_1c057_row3_col1,#T_1c057_row3_col2,#T_1c057_row3_col5,#T_1c057_row4_col0,#T_1c057_row4_col1,#T_1c057_row4_col2,#T_1c057_row4_col3{\n            background-color:  #006837;\n            color:  #f1f1f1;\n        }#T_1c057_row0_col2{\n            background-color:  #fbfdba;\n            color:  #000000;\n        }#T_1c057_row0_col3{\n            background-color:  #036e3a;\n            color:  #f1f1f1;\n        }#T_1c057_row0_col4{\n            background-color:  #d5ed88;\n            color:  #000000;\n        }#T_1c057_row0_col6{\n            background-color:  #fcaa5f;\n            color:  #000000;\n        }#T_1c057_row1_col0,#T_1c057_row4_col6{\n            background-color:  #2da155;\n            color:  #000000;\n        }#T_1c057_row1_col1{\n            background-color:  #e3f399;\n            color:  #000000;\n        }#T_1c057_row1_col4{\n            background-color:  #138c4a;\n            color:  #000000;\n        }#T_1c057_row1_col5{\n            background-color:  #1b9950;\n            color:  #000000;\n        }#T_1c057_row1_col6{\n            background-color:  #07753e;\n            color:  #f1f1f1;\n        }#T_1c057_row2_col0{\n            background-color:  #016a38;\n            color:  #f1f1f1;\n        }#T_1c057_row2_col1{\n            background-color:  #148e4b;\n            color:  #000000;\n        }#T_1c057_row2_col2,#T_1c057_row4_col4{\n            background-color:  #108647;\n            color:  #000000;\n        }#T_1c057_row2_col5{\n            background-color:  #73c264;\n            color:  #000000;\n        }#T_1c057_row3_col3{\n            background-color:  #fee797;\n            color:  #000000;\n        }#T_1c057_row3_col4{\n            background-color:  #7fc866;\n            color:  #000000;\n        }#T_1c057_row3_col6{\n            background-color:  #c7e77f;\n            color:  #000000;\n        }#T_1c057_row4_col5{\n            background-color:  #d3ec87;\n            color:  #000000;\n        }</style><table id=\"T_1c057_\" ><thead>    <tr>        <th class=\"blank level0\" ></th>        <th class=\"col_heading level0 col0\" >Pitching Rating</th>        <th class=\"col_heading level0 col1\" >Unthwackability</th>        <th class=\"col_heading level0 col2\" >Ruthlessness</th>        <th class=\"col_heading level0 col3\" >Overpowerment</th>        <th class=\"col_heading level0 col4\" >Shakespearianism</th>        <th class=\"col_heading level0 col5\" >Coldness</th>        <th class=\"col_heading level0 col6\" >Suppression</th>    </tr></thead><tbody>\n                <tr>\n                        <th id=\"T_1c057_level0_row0\" class=\"row_heading level0 row0\" >Doc Anice</th>\n                        <td id=\"T_1c057_row0_col0\" class=\"data row0 col0\" >0.746843</td>\n                        <td id=\"T_1c057_row0_col1\" class=\"data row0 col1\" >1.078114</td>\n                        <td id=\"T_1c057_row0_col2\" class=\"data row0 col2\" >0.509045</td>\n                        <td id=\"T_1c057_row0_col3\" class=\"data row0 col3\" >0.986037</td>\n                        <td id=\"T_1c057_row0_col4\" class=\"data row0 col4\" >0.606020</td>\n                        <td id=\"T_1c057_row0_col5\" class=\"data row0 col5\" >0.748965</td>\n                        <td id=\"T_1c057_row0_col6\" class=\"data row0 col6\" >0.294698</td>\n            </tr>\n            <tr>\n                        <th id=\"T_1c057_level0_row1\" class=\"row_heading level0 row1\" >Henry Marshallow</th>\n                        <td id=\"T_1c057_row1_col0\" class=\"data row1 col0\" >0.874814</td>\n                        <td id=\"T_1c057_row1_col1\" class=\"data row1 col1\" >0.573292</td>\n                        <td id=\"T_1c057_row1_col2\" class=\"data row1 col2\" >1.256023</td>\n                        <td id=\"T_1c057_row1_col3\" class=\"data row1 col3\" >1.531125</td>\n                        <td id=\"T_1c057_row1_col4\" class=\"data row1 col4\" >0.924138</td>\n                        <td id=\"T_1c057_row1_col5\" class=\"data row1 col5\" >0.895639</td>\n                        <td id=\"T_1c057_row1_col6\" class=\"data row1 col6\" >0.971668</td>\n            </tr>\n            <tr>\n                        <th id=\"T_1c057_level0_row2\" class=\"row_heading level0 row2\" >Ruslan Greatness</th>\n                        <td id=\"T_1c057_row2_col0\" class=\"data row2 col0\" >0.995201</td>\n                        <td id=\"T_1c057_row2_col1\" class=\"data row2 col1\" >0.920870</td>\n                        <td id=\"T_1c057_row2_col2\" class=\"data row2 col2\" >0.936481</td>\n                        <td id=\"T_1c057_row2_col3\" class=\"data row2 col3\" >1.419963</td>\n                        <td id=\"T_1c057_row2_col4\" class=\"data row2 col4\" >1.176832</td>\n                        <td id=\"T_1c057_row2_col5\" class=\"data row2 col5\" >0.779742</td>\n                        <td id=\"T_1c057_row2_col6\" class=\"data row2 col6\" >1.570762</td>\n            </tr>\n            <tr>\n                        <th id=\"T_1c057_level0_row3\" class=\"row_heading level0 row3\" >Nerd Pacheco</th>\n                        <td id=\"T_1c057_row3_col0\" class=\"data row3 col0\" >1.030342</td>\n                        <td id=\"T_1c057_row3_col1\" class=\"data row3 col1\" >1.237720</td>\n                        <td id=\"T_1c057_row3_col2\" class=\"data row3 col2\" >1.216351</td>\n                        <td id=\"T_1c057_row3_col3\" class=\"data row3 col3\" >0.422113</td>\n                        <td id=\"T_1c057_row3_col4\" class=\"data row3 col4\" >0.758134</td>\n                        <td id=\"T_1c057_row3_col5\" class=\"data row3 col5\" >1.082212</td>\n                        <td id=\"T_1c057_row3_col6\" class=\"data row3 col6\" >0.634500</td>\n            </tr>\n            <tr>\n                        <th id=\"T_1c057_level0_row4\" class=\"row_heading level0 row4\" >Elvis Figueroa</th>\n                        <td id=\"T_1c057_row4_col0\" class=\"data row4 col0\" >1.279925</td>\n                        <td id=\"T_1c057_row4_col1\" class=\"data row4 col1\" >1.309675</td>\n                        <td id=\"T_1c057_row4_col2\" class=\"data row4 col2\" >1.286143</td>\n                        <td id=\"T_1c057_row4_col3\" class=\"data row4 col3\" >1.222682</td>\n                        <td id=\"T_1c057_row4_col4\" class=\"data row4 col4\" >0.936089</td>\n                        <td id=\"T_1c057_row4_col5\" class=\"data row4 col5\" >0.611405</td>\n                        <td id=\"T_1c057_row4_col6\" class=\"data row4 col6\" >0.871203</td>\n            </tr>\n    </tbody></table>"
     },
     "execution_count": 36,
     "metadata": {},
     "output_type": "execute_result"
    }
   ],
   "source": [
    "set_heatmap(get_pitching_stlats(improve_team_pitching(pies, 0.15)), maxVal=1)\n"
   ],
   "metadata": {
    "collapsed": false,
    "pycharm": {
     "name": "#%%\n"
    }
   }
  },
  {
   "cell_type": "markdown",
   "metadata": {},
   "source": [
    "### Precognition\n",
    "**Vision of things to come. Improve 3 random hitters on your Team by 20%.**\n",
    "\n",
    "See below for analysis of how +20% would affect our batters.\n"
   ]
  },
  {
   "cell_type": "code",
   "execution_count": 37,
   "outputs": [
    {
     "data": {
      "text/plain": "                 old_batting_stars  new_batting_stars  change_in_batting_stars\nYusef Puddles             2.147811           3.348481                 1.200670\nBeasley Day               2.695709           3.818814                 1.123105\nLang Richardson           3.162214           4.149450                 0.987236\nHuber Frumple             3.806051           4.823281                 1.017230\nJode Preston              4.021708           5.007238                 0.985530\nEduardo Woodman           4.165300           5.120266                 0.954966\nJaxon Buckley             6.318317           7.167583                 0.849266",
      "text/html": "<div>\n<style scoped>\n    .dataframe tbody tr th:only-of-type {\n        vertical-align: middle;\n    }\n\n    .dataframe tbody tr th {\n        vertical-align: top;\n    }\n\n    .dataframe thead th {\n        text-align: right;\n    }\n</style>\n<table border=\"1\" class=\"dataframe\">\n  <thead>\n    <tr style=\"text-align: right;\">\n      <th></th>\n      <th>old_batting_stars</th>\n      <th>new_batting_stars</th>\n      <th>change_in_batting_stars</th>\n    </tr>\n  </thead>\n  <tbody>\n    <tr>\n      <th>Yusef Puddles</th>\n      <td>2.147811</td>\n      <td>3.348481</td>\n      <td>1.200670</td>\n    </tr>\n    <tr>\n      <th>Beasley Day</th>\n      <td>2.695709</td>\n      <td>3.818814</td>\n      <td>1.123105</td>\n    </tr>\n    <tr>\n      <th>Lang Richardson</th>\n      <td>3.162214</td>\n      <td>4.149450</td>\n      <td>0.987236</td>\n    </tr>\n    <tr>\n      <th>Huber Frumple</th>\n      <td>3.806051</td>\n      <td>4.823281</td>\n      <td>1.017230</td>\n    </tr>\n    <tr>\n      <th>Jode Preston</th>\n      <td>4.021708</td>\n      <td>5.007238</td>\n      <td>0.985530</td>\n    </tr>\n    <tr>\n      <th>Eduardo Woodman</th>\n      <td>4.165300</td>\n      <td>5.120266</td>\n      <td>0.954966</td>\n    </tr>\n    <tr>\n      <th>Jaxon Buckley</th>\n      <td>6.318317</td>\n      <td>7.167583</td>\n      <td>0.849266</td>\n    </tr>\n  </tbody>\n</table>\n</div>"
     },
     "execution_count": 37,
     "metadata": {},
     "output_type": "execute_result"
    }
   ],
   "source": [
    "table, _, _ = improve_team_batting_table(pies, 0.20)\n",
    "table"
   ],
   "metadata": {
    "collapsed": false,
    "pycharm": {
     "name": "#%%\n"
    }
   }
  },
  {
   "cell_type": "code",
   "execution_count": 38,
   "outputs": [
    {
     "data": {
      "text/plain": "<pandas.io.formats.style.Styler at 0x249f9fbfee0>",
      "text/html": "<style  type=\"text/css\" >\n#T_95584_row0_col0{\n            background-color:  #b5df74;\n            color:  #000000;\n        }#T_95584_row0_col1,#T_95584_row0_col8,#T_95584_row2_col1,#T_95584_row2_col4,#T_95584_row3_col2,#T_95584_row3_col3,#T_95584_row3_col4,#T_95584_row3_col8,#T_95584_row4_col0,#T_95584_row4_col1,#T_95584_row4_col2,#T_95584_row4_col6,#T_95584_row5_col0,#T_95584_row5_col1,#T_95584_row5_col2,#T_95584_row6_col0,#T_95584_row6_col1,#T_95584_row6_col2,#T_95584_row6_col3,#T_95584_row6_col4,#T_95584_row6_col6,#T_95584_row6_col8{\n            background-color:  #006837;\n            color:  #f1f1f1;\n        }#T_95584_row0_col2,#T_95584_row4_col4{\n            background-color:  #fed884;\n            color:  #000000;\n        }#T_95584_row0_col3{\n            background-color:  #2aa054;\n            color:  #000000;\n        }#T_95584_row0_col4{\n            background-color:  #fec877;\n            color:  #000000;\n        }#T_95584_row0_col5{\n            background-color:  #feea9b;\n            color:  #000000;\n            background-color:  #e5f49b;\n            color:  #000000;\n        }#T_95584_row0_col6{\n            background-color:  #fdb365;\n            color:  #000000;\n        }#T_95584_row0_col7,#T_95584_row1_col7,#T_95584_row2_col5,#T_95584_row2_col7,#T_95584_row3_col7,#T_95584_row4_col5,#T_95584_row4_col7,#T_95584_row5_col7,#T_95584_row6_col5,#T_95584_row6_col7{\n            background-color:  #a90426;\n            color:  #f1f1f1;\n            background-color:  #026c39;\n            color:  #f1f1f1;\n        }#T_95584_row1_col0{\n            background-color:  #7dc765;\n            color:  #000000;\n        }#T_95584_row1_col1{\n            background-color:  #249d53;\n            color:  #000000;\n        }#T_95584_row1_col2{\n            background-color:  #219c52;\n            color:  #000000;\n        }#T_95584_row1_col3{\n            background-color:  #fba05b;\n            color:  #000000;\n        }#T_95584_row1_col4{\n            background-color:  #fee28f;\n            color:  #000000;\n        }#T_95584_row1_col5{\n            background-color:  #fa9857;\n            color:  #000000;\n            background-color:  #91d068;\n            color:  #000000;\n        }#T_95584_row1_col6{\n            background-color:  #96d268;\n            color:  #000000;\n        }#T_95584_row1_col8{\n            background-color:  #0b7d42;\n            color:  #f1f1f1;\n        }#T_95584_row2_col0{\n            background-color:  #4eb15d;\n            color:  #000000;\n        }#T_95584_row2_col2{\n            background-color:  #d9ef8b;\n            color:  #000000;\n        }#T_95584_row2_col3{\n            background-color:  #54b45f;\n            color:  #000000;\n        }#T_95584_row2_col6{\n            background-color:  #a7d96b;\n            color:  #000000;\n        }#T_95584_row2_col8{\n            background-color:  #84ca66;\n            color:  #000000;\n        }#T_95584_row3_col0{\n            background-color:  #097940;\n            color:  #f1f1f1;\n        }#T_95584_row3_col1{\n            background-color:  #cdea83;\n            color:  #000000;\n        }#T_95584_row3_col5{\n            background-color:  #e44c34;\n            color:  #000000;\n            background-color:  #3ca959;\n            color:  #000000;\n        }#T_95584_row3_col6{\n            background-color:  #42ac5a;\n            color:  #000000;\n        }#T_95584_row4_col3{\n            background-color:  #78c565;\n            color:  #000000;\n        }#T_95584_row4_col8{\n            background-color:  #fdbd6d;\n            color:  #000000;\n        }#T_95584_row5_col3{\n            background-color:  #3faa59;\n            color:  #000000;\n        }#T_95584_row5_col4,#T_95584_row5_col6{\n            background-color:  #75c465;\n            color:  #000000;\n        }#T_95584_row5_col5{\n            background-color:  #fede89;\n            color:  #000000;\n            background-color:  #d7ee8a;\n            color:  #000000;\n        }#T_95584_row5_col8{\n            background-color:  #18954f;\n            color:  #000000;\n        }</style><table id=\"T_95584_\" ><thead>    <tr>        <th class=\"blank level0\" ></th>        <th class=\"col_heading level0 col0\" >Batting Rating</th>        <th class=\"col_heading level0 col1\" >Thwackability</th>        <th class=\"col_heading level0 col2\" >Divinity</th>        <th class=\"col_heading level0 col3\" >Musclitude</th>        <th class=\"col_heading level0 col4\" >Moxie</th>        <th class=\"col_heading level0 col5\" >Patheticism</th>        <th class=\"col_heading level0 col6\" >Martyrdom</th>        <th class=\"col_heading level0 col7\" >Tragicness</th>        <th class=\"col_heading level0 col8\" >Buoyancy</th>    </tr></thead><tbody>\n                <tr>\n                        <th id=\"T_95584_level0_row0\" class=\"row_heading level0 row0\" >Yusef Puddles</th>\n                        <td id=\"T_95584_row0_col0\" class=\"data row0 col0\" >0.669696</td>\n                        <td id=\"T_95584_row0_col1\" class=\"data row0 col1\" >1.233698</td>\n                        <td id=\"T_95584_row0_col2\" class=\"data row0 col2\" >0.384577</td>\n                        <td id=\"T_95584_row0_col3\" class=\"data row0 col3\" >0.875196</td>\n                        <td id=\"T_95584_row0_col4\" class=\"data row0 col4\" >0.351908</td>\n                        <td id=\"T_95584_row0_col5\" class=\"data row0 col5\" >0.430778</td>\n                        <td id=\"T_95584_row0_col6\" class=\"data row0 col6\" >0.310821</td>\n                        <td id=\"T_95584_row0_col7\" class=\"data row0 col7\" >0.010000</td>\n                        <td id=\"T_95584_row0_col8\" class=\"data row0 col8\" >1.210015</td>\n            </tr>\n            <tr>\n                        <th id=\"T_95584_level0_row1\" class=\"row_heading level0 row1\" >Beasley Day</th>\n                        <td id=\"T_95584_row1_col0\" class=\"data row1 col0\" >0.763763</td>\n                        <td id=\"T_95584_row1_col1\" class=\"data row1 col1\" >0.885000</td>\n                        <td id=\"T_95584_row1_col2\" class=\"data row1 col2\" >0.888801</td>\n                        <td id=\"T_95584_row1_col3\" class=\"data row1 col3\" >0.277669</td>\n                        <td id=\"T_95584_row1_col4\" class=\"data row1 col4\" >0.408479</td>\n                        <td id=\"T_95584_row1_col5\" class=\"data row1 col5\" >0.268964</td>\n                        <td id=\"T_95584_row1_col6\" class=\"data row1 col6\" >0.723706</td>\n                        <td id=\"T_95584_row1_col7\" class=\"data row1 col7\" >0.010000</td>\n                        <td id=\"T_95584_row1_col8\" class=\"data row1 col8\" >0.953672</td>\n            </tr>\n            <tr>\n                        <th id=\"T_95584_level0_row2\" class=\"row_heading level0 row2\" >Lang Richardson</th>\n                        <td id=\"T_95584_row2_col0\" class=\"data row2 col0\" >0.829890</td>\n                        <td id=\"T_95584_row2_col1\" class=\"data row2 col1\" >1.012722</td>\n                        <td id=\"T_95584_row2_col2\" class=\"data row2 col2\" >0.600621</td>\n                        <td id=\"T_95584_row2_col3\" class=\"data row2 col3\" >0.822843</td>\n                        <td id=\"T_95584_row2_col4\" class=\"data row2 col4\" >1.141821</td>\n                        <td id=\"T_95584_row2_col5\" class=\"data row2 col5\" >0.010000</td>\n                        <td id=\"T_95584_row2_col6\" class=\"data row2 col6\" >0.698400</td>\n                        <td id=\"T_95584_row2_col7\" class=\"data row2 col7\" >0.010000</td>\n                        <td id=\"T_95584_row2_col8\" class=\"data row2 col8\" >0.751015</td>\n            </tr>\n            <tr>\n                        <th id=\"T_95584_level0_row3\" class=\"row_heading level0 row3\" >Huber Frumple</th>\n                        <td id=\"T_95584_row3_col0\" class=\"data row3 col0\" >0.964656</td>\n                        <td id=\"T_95584_row3_col1\" class=\"data row3 col1\" >0.623284</td>\n                        <td id=\"T_95584_row3_col2\" class=\"data row3 col2\" >1.369818</td>\n                        <td id=\"T_95584_row3_col3\" class=\"data row3 col3\" >1.077497</td>\n                        <td id=\"T_95584_row3_col4\" class=\"data row3 col4\" >1.397390</td>\n                        <td id=\"T_95584_row3_col5\" class=\"data row3 col5\" >0.145580</td>\n                        <td id=\"T_95584_row3_col6\" class=\"data row3 col6\" >0.844357</td>\n                        <td id=\"T_95584_row3_col7\" class=\"data row3 col7\" >0.010000</td>\n                        <td id=\"T_95584_row3_col8\" class=\"data row3 col8\" >1.263890</td>\n            </tr>\n            <tr>\n                        <th id=\"T_95584_level0_row4\" class=\"row_heading level0 row4\" >Jode Preston</th>\n                        <td id=\"T_95584_row4_col0\" class=\"data row4 col0\" >1.001448</td>\n                        <td id=\"T_95584_row4_col1\" class=\"data row4 col1\" >1.138336</td>\n                        <td id=\"T_95584_row4_col2\" class=\"data row4 col2\" >1.144763</td>\n                        <td id=\"T_95584_row4_col3\" class=\"data row4 col3\" >0.770218</td>\n                        <td id=\"T_95584_row4_col4\" class=\"data row4 col4\" >0.384025</td>\n                        <td id=\"T_95584_row4_col5\" class=\"data row4 col5\" >0.010000</td>\n                        <td id=\"T_95584_row4_col6\" class=\"data row4 col6\" >1.037760</td>\n                        <td id=\"T_95584_row4_col7\" class=\"data row4 col7\" >0.010000</td>\n                        <td id=\"T_95584_row4_col8\" class=\"data row4 col8\" >0.330957</td>\n            </tr>\n            <tr>\n                        <th id=\"T_95584_level0_row5\" class=\"row_heading level0 row5\" >Eduardo Woodman</th>\n                        <td id=\"T_95584_row5_col0\" class=\"data row5 col0\" >1.024053</td>\n                        <td id=\"T_95584_row5_col1\" class=\"data row5 col1\" >1.219391</td>\n                        <td id=\"T_95584_row5_col2\" class=\"data row5 col2\" >1.046540</td>\n                        <td id=\"T_95584_row5_col3\" class=\"data row5 col3\" >0.850666</td>\n                        <td id=\"T_95584_row5_col4\" class=\"data row5 col4\" >0.775519</td>\n                        <td id=\"T_95584_row5_col5\" class=\"data row5 col5\" >0.395517</td>\n                        <td id=\"T_95584_row5_col6\" class=\"data row5 col6\" >0.774554</td>\n                        <td id=\"T_95584_row5_col7\" class=\"data row5 col7\" >0.010000</td>\n                        <td id=\"T_95584_row5_col8\" class=\"data row5 col8\" >0.905869</td>\n            </tr>\n            <tr>\n                        <th id=\"T_95584_level0_row6\" class=\"row_heading level0 row6\" >Jaxon Buckley</th>\n                        <td id=\"T_95584_row6_col0\" class=\"data row6 col0\" >1.433517</td>\n                        <td id=\"T_95584_row6_col1\" class=\"data row6 col1\" >1.693269</td>\n                        <td id=\"T_95584_row6_col2\" class=\"data row6 col2\" >1.187449</td>\n                        <td id=\"T_95584_row6_col3\" class=\"data row6 col3\" >1.876092</td>\n                        <td id=\"T_95584_row6_col4\" class=\"data row6 col4\" >2.052606</td>\n                        <td id=\"T_95584_row6_col5\" class=\"data row6 col5\" >0.010000</td>\n                        <td id=\"T_95584_row6_col6\" class=\"data row6 col6\" >2.132640</td>\n                        <td id=\"T_95584_row6_col7\" class=\"data row6 col7\" >0.010000</td>\n                        <td id=\"T_95584_row6_col8\" class=\"data row6 col8\" >1.527099</td>\n            </tr>\n    </tbody></table>"
     },
     "execution_count": 38,
     "metadata": {},
     "output_type": "execute_result"
    }
   ],
   "source": [
    "set_heatmap(get_batting_stlats(improve_team_batting(pies, 0.20)), maxVal=1)\n"
   ],
   "metadata": {
    "collapsed": false,
    "pycharm": {
     "name": "#%%\n"
    }
   }
  },
  {
   "cell_type": "markdown",
   "source": [
    "### Headliners\n",
    "**Arrange your lineup in order of their Idolatry.**\n",
    "\n",
    "The exact ordering of our team by Idolatry is unknown. With sufficient team organization this could be used to improve\n",
    "lineup efficiency."
   ],
   "metadata": {
    "collapsed": false,
    "pycharm": {
     "name": "#%% md\n"
    }
   }
  },
  {
   "cell_type": "markdown",
   "source": [
    "### Soul Swap\n",
    "**They won't stop screaming. Randomizes your Team's 5 worst players.**\n",
    "\n",
    "This will attempt to reroll the following players, in order. Players are rerolled in order, so if a player is rerolled\n",
    "to be worse they will be rerolled again, as they are still the worst pitcher.\n",
    "For reference, the Statistical Average player has 2 batting stars and 1.5 pitching stars."
   ],
   "metadata": {
    "collapsed": false,
    "pycharm": {
     "name": "#%% md\n"
    }
   }
  },
  {
   "cell_type": "code",
   "execution_count": 39,
   "outputs": [
    {
     "data": {
      "text/plain": "                  Batting  Pitching  Baserunning  Defense\nYusef Puddles         2.0       2.5          3.0      3.5\nBeasley Day           2.5       1.5          2.5      1.5\nDoc Anice             2.5       3.0          1.5      3.5\nLang Richardson       3.0       0.5          3.5      3.5\nHenry Marshallow      3.5       3.5          2.5      4.5",
      "text/html": "<div>\n<style scoped>\n    .dataframe tbody tr th:only-of-type {\n        vertical-align: middle;\n    }\n\n    .dataframe tbody tr th {\n        vertical-align: top;\n    }\n\n    .dataframe thead th {\n        text-align: right;\n    }\n</style>\n<table border=\"1\" class=\"dataframe\">\n  <thead>\n    <tr style=\"text-align: right;\">\n      <th></th>\n      <th>Batting</th>\n      <th>Pitching</th>\n      <th>Baserunning</th>\n      <th>Defense</th>\n    </tr>\n  </thead>\n  <tbody>\n    <tr>\n      <th>Yusef Puddles</th>\n      <td>2.0</td>\n      <td>2.5</td>\n      <td>3.0</td>\n      <td>3.5</td>\n    </tr>\n    <tr>\n      <th>Beasley Day</th>\n      <td>2.5</td>\n      <td>1.5</td>\n      <td>2.5</td>\n      <td>1.5</td>\n    </tr>\n    <tr>\n      <th>Doc Anice</th>\n      <td>2.5</td>\n      <td>3.0</td>\n      <td>1.5</td>\n      <td>3.5</td>\n    </tr>\n    <tr>\n      <th>Lang Richardson</th>\n      <td>3.0</td>\n      <td>0.5</td>\n      <td>3.5</td>\n      <td>3.5</td>\n    </tr>\n    <tr>\n      <th>Henry Marshallow</th>\n      <td>3.5</td>\n      <td>3.5</td>\n      <td>2.5</td>\n      <td>4.5</td>\n    </tr>\n  </tbody>\n</table>\n</div>"
     },
     "execution_count": 39,
     "metadata": {},
     "output_type": "execute_result"
    }
   ],
   "source": [
    "worst_players = sort_overall(pies, 5)\n",
    "get_stars(worst_players)"
   ],
   "metadata": {
    "collapsed": false,
    "pycharm": {
     "name": "#%%\n"
    }
   }
  },
  {
   "cell_type": "markdown",
   "metadata": {
    "pycharm": {
     "name": "#%% md\n"
    }
   },
   "source": [
    "---\n",
    "## Appendix\n",
    "* [Description of Attributes](https://www.blaseball.wiki/w/Player_Attributes)\n",
    "* [Stlat Viewer](https://slavfox.space/abslve/?foreboding-kaleidoscope#PHIL)\n",
    "* [Historical Player Graphs](http://yoori.space/hloroscopes/)\n"
   ]
  }
 ],
 "metadata": {
  "kernelspec": {
   "display_name": "Python 3",
   "language": "python",
   "name": "python3"
  },
  "language_info": {
   "codemirror_mode": {
    "name": "ipython",
    "version": 3
   },
   "file_extension": ".py",
   "mimetype": "text/x-python",
   "name": "python",
   "nbconvert_exporter": "python",
   "pygments_lexer": "ipython3",
   "version": "3.8.5"
  },
  "toc": {
   "base_numbering": 1,
   "nav_menu": {},
   "number_sections": false,
   "sideBar": true,
   "skip_h1_title": false,
   "title_cell": "Table of Contents",
   "title_sidebar": "Table of Contents",
   "toc_cell": false,
   "toc_position": {},
   "toc_section_display": true,
   "toc_window_display": false
  }
 },
 "nbformat": 4,
 "nbformat_minor": 1
}