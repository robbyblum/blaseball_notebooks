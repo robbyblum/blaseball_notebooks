{
 "cells": [
  {
   "cell_type": "markdown",
   "metadata": {
    "pycharm": {
     "name": "#%% md\n"
    }
   },
   "source": [
    "# Team Star Average\n",
    "Below are graphs that show the current star averages for each team."
   ]
  },
  {
   "cell_type": "code",
   "execution_count": 1,
   "metadata": {},
   "outputs": [],
   "source": [
    "from blaseball_mike.models import SimulationData, League\n",
    "from statistics import mean\n",
    "import pandas\n",
    "from IPython.display import display, Markdown\n",
    "from plotly.graph_objects import Figure\n",
    "import plotly.io as _pio\n",
    "_pio.renderers.default = \"notebook_connected\""
   ]
  },
  {
   "cell_type": "code",
   "execution_count": 2,
   "metadata": {
    "pycharm": {
     "name": "#%%\n"
    }
   },
   "outputs": [
    {
     "data": {
      "text/markdown": [
       "Last updated Short Circuit 2, Season 1, Day 0"
      ],
      "text/plain": [
       "<IPython.core.display.Markdown object>"
      ]
     },
     "metadata": {},
     "output_type": "display_data"
    }
   ],
   "source": [
    "sim = SimulationData.load()\n",
    "display(Markdown(f\"Last updated Short Circuit 2, Season {sim.season}, Day {sim.day}\"))"
   ]
  },
  {
   "cell_type": "code",
   "execution_count": 3,
   "metadata": {
    "pycharm": {
     "name": "#%%\n"
    }
   },
   "outputs": [],
   "source": [
    "def parse_emoji(val):\n",
    "    try:\n",
    "        return chr(int(val, 16))\n",
    "    except ValueError:\n",
    "        return val\n",
    "\n",
    "# Get a list of all the teams we care about\n",
    "teams = list(League.load().teams.values())\n",
    "teams.sort(key=lambda x: x.nickname)\n",
    "\n",
    "table = pandas.DataFrame()\n",
    "for team in teams:\n",
    "    bat_avg = mean([x.get_hitting_stars() for x in team.lineup])\n",
    "    pitch_avg = mean([x.get_pitching_stars() for x in team.rotation])\n",
    "    base_avg = mean([x.get_baserunning_stars() for x in team.lineup])\n",
    "    def_avg = mean([x.get_defense_stars() for x in team.lineup])\n",
    "\n",
    "    table = table.append({\"team\": team.nickname, \"emoji\": parse_emoji(team.emoji), \"color\": team.main_color,\n",
    "                          \"batting\": bat_avg, \"pitching\": pitch_avg, \"baserunning\": base_avg, \"defense\": def_avg},\n",
    "                          ignore_index=True)"
   ]
  },
  {
   "cell_type": "code",
   "execution_count": 4,
   "metadata": {
    "pycharm": {
     "name": "#%%\n"
    }
   },
   "outputs": [
    {
     "data": {
      "text/html": [
       "        <script type=\"text/javascript\">\n",
       "        window.PlotlyConfig = {MathJaxConfig: 'local'};\n",
       "        if (window.MathJax) {MathJax.Hub.Config({SVG: {font: \"STIX-Web\"}});}\n",
       "        if (typeof require !== 'undefined') {\n",
       "        require.undef(\"plotly\");\n",
       "        requirejs.config({\n",
       "            paths: {\n",
       "                'plotly': ['https://cdn.plot.ly/plotly-latest.min']\n",
       "            }\n",
       "        });\n",
       "        require(['plotly'], function(Plotly) {\n",
       "            window._Plotly = Plotly;\n",
       "        });\n",
       "        }\n",
       "        </script>\n",
       "        "
      ]
     },
     "metadata": {},
     "output_type": "display_data"
    },
    {
     "data": {
      "text/html": [
       "<div>                            <div id=\"a6048ccc-f54a-49b2-bc22-f5b179ae59c5\" class=\"plotly-graph-div\" style=\"height:675px; width:675px;\"></div>            <script type=\"text/javascript\">                require([\"plotly\"], function(Plotly) {                    window.PLOTLYENV=window.PLOTLYENV || {};                                    if (document.getElementById(\"a6048ccc-f54a-49b2-bc22-f5b179ae59c5\")) {                    Plotly.newPlot(                        \"a6048ccc-f54a-49b2-bc22-f5b179ae59c5\",                        [{\"marker\": {\"color\": [\"#178f55\"], \"opacity\": 1, \"size\": 36}, \"mode\": \"markers+text\", \"name\": \"Breath Mints\", \"text\": [\"\\ud83c\\udf6c\"], \"textfont\": {\"size\": 20}, \"textposition\": \"middle center\", \"type\": \"scatter\", \"x\": [2.4555555555555557], \"y\": [2.611111111111111]}, {\"marker\": {\"color\": [\"#593037\"], \"opacity\": 1, \"size\": 36}, \"mode\": \"markers+text\", \"name\": \"Crabs\", \"text\": [\"\\ud83e\\udd80\"], \"textfont\": {\"size\": 20}, \"textposition\": \"middle center\", \"type\": \"scatter\", \"x\": [2.411111111111111], \"y\": [2.4555555555555557]}, {\"marker\": {\"color\": [\"#9141ba\"], \"opacity\": 1, \"size\": 36}, \"mode\": \"markers+text\", \"name\": \"Dale\", \"text\": [\"\\ud83d\\udea4\"], \"textfont\": {\"size\": 20}, \"textposition\": \"middle center\", \"type\": \"scatter\", \"x\": [1.711111111111111], \"y\": [2.388888888888889]}, {\"marker\": {\"color\": [\"#8c2a3e\"], \"opacity\": 1, \"size\": 36}, \"mode\": \"markers+text\", \"name\": \"Firefighters\", \"text\": [\"\\ud83d\\udd25\"], \"textfont\": {\"size\": 20}, \"textposition\": \"middle center\", \"type\": \"scatter\", \"x\": [2.077777777777778], \"y\": [2.1444444444444444]}, {\"marker\": {\"color\": [\"#f7d1ff\"], \"opacity\": 1, \"size\": 36}, \"mode\": \"markers+text\", \"name\": \"Flowers\", \"text\": [\"\\ud83c\\udf39\"], \"textfont\": {\"size\": 20}, \"textposition\": \"middle center\", \"type\": \"scatter\", \"x\": [1.9111111111111112], \"y\": [2.433333333333333]}, {\"marker\": {\"color\": [\"#3ee652\"], \"opacity\": 1, \"size\": 36}, \"mode\": \"markers+text\", \"name\": \"Fridays\", \"text\": [\"\\ud83c\\udfdd\"], \"textfont\": {\"size\": 20}, \"textposition\": \"middle center\", \"type\": \"scatter\", \"x\": [2.066666666666667], \"y\": [2.3444444444444446]}, {\"marker\": {\"color\": [\"#2b4075\"], \"opacity\": 1, \"size\": 36}, \"mode\": \"markers+text\", \"name\": \"Garages\", \"text\": [\"\\ud83c\\udfb8\"], \"textfont\": {\"size\": 20}, \"textposition\": \"middle center\", \"type\": \"scatter\", \"x\": [2.4555555555555557], \"y\": [2.8222222222222224]}, {\"marker\": {\"color\": [\"#00dbc2\"], \"opacity\": 1, \"size\": 36}, \"mode\": \"markers+text\", \"name\": \"Georgias\", \"text\": [\"\\ud83d\\udd31\"], \"textfont\": {\"size\": 20}, \"textposition\": \"middle center\", \"type\": \"scatter\", \"x\": [1.8555555555555556], \"y\": [2.1]}, {\"marker\": {\"color\": [\"#6388ad\"], \"opacity\": 1, \"size\": 36}, \"mode\": \"markers+text\", \"name\": \"Jazz Hands\", \"text\": [\"\\ud83d\\udc50\"], \"textfont\": {\"size\": 20}, \"textposition\": \"middle center\", \"type\": \"scatter\", \"x\": [2.3444444444444446], \"y\": [2.6555555555555554]}, {\"marker\": {\"color\": [\"#e830ab\"], \"opacity\": 1, \"size\": 36}, \"mode\": \"markers+text\", \"name\": \"Lift\", \"text\": [\"\\ud83c\\udfcb\\ufe0f\\u200d\\u2640\\ufe0f\"], \"textfont\": {\"size\": 20}, \"textposition\": \"middle center\", \"type\": \"scatter\", \"x\": [2.411111111111111], \"y\": [2.2]}, {\"marker\": {\"color\": [\"#780018\"], \"opacity\": 1, \"size\": 36}, \"mode\": \"markers+text\", \"name\": \"Lovers\", \"text\": [\"\\ud83d\\udc8b\"], \"textfont\": {\"size\": 20}, \"textposition\": \"middle center\", \"type\": \"scatter\", \"x\": [1.5888888888888888], \"y\": [2.022222222222222]}, {\"marker\": {\"color\": [\"#bf0043\"], \"opacity\": 1, \"size\": 36}, \"mode\": \"markers+text\", \"name\": \"Magic\", \"text\": [\"\\u2728\"], \"textfont\": {\"size\": 20}, \"textposition\": \"middle center\", \"type\": \"scatter\", \"x\": [2.0444444444444443], \"y\": [1.8444444444444446]}, {\"marker\": {\"color\": [\"#d13100\"], \"opacity\": 1, \"size\": 36}, \"mode\": \"markers+text\", \"name\": \"Mechanics\", \"text\": [\"\\ud83d\\udee0\"], \"textfont\": {\"size\": 20}, \"textposition\": \"middle center\", \"type\": \"scatter\", \"x\": [2.4555555555555553], \"y\": [2.555555555555556]}, {\"marker\": {\"color\": [\"#ffd4d8\"], \"opacity\": 1, \"size\": 36}, \"mode\": \"markers+text\", \"name\": \"Millennials\", \"text\": [\"\\ud83d\\udcf1\"], \"textfont\": {\"size\": 20}, \"textposition\": \"middle center\", \"type\": \"scatter\", \"x\": [1.8555555555555556], \"y\": [2.1555555555555554]}, {\"marker\": {\"color\": [\"#f5feff\"], \"opacity\": 1, \"size\": 36}, \"mode\": \"markers+text\", \"name\": \"Moist Talkers\", \"text\": [\"\\ud83d\\udde3\"], \"textfont\": {\"size\": 20}, \"textposition\": \"middle center\", \"type\": \"scatter\", \"x\": [2.3222222222222224], \"y\": [2.533333333333333]}, {\"marker\": {\"color\": [\"#399d8f\"], \"opacity\": 1, \"size\": 36}, \"mode\": \"markers+text\", \"name\": \"Pies\", \"text\": [\"\\ud83e\\udd67\"], \"textfont\": {\"size\": 20}, \"textposition\": \"middle center\", \"type\": \"scatter\", \"x\": [2.077777777777778], \"y\": [2.2888888888888888]}, {\"marker\": {\"color\": [\"#ffce0a\"], \"opacity\": 1, \"size\": 36}, \"mode\": \"markers+text\", \"name\": \"Shoe Thieves\", \"text\": [\"\\ud83d\\udc5f\"], \"textfont\": {\"size\": 20}, \"textposition\": \"middle center\", \"type\": \"scatter\", \"x\": [2.0555555555555554], \"y\": [2.3555555555555556]}, {\"marker\": {\"color\": [\"#67556b\"], \"opacity\": 1, \"size\": 36}, \"mode\": \"markers+text\", \"name\": \"Spies\", \"text\": [\"\\ud83d\\udd75\"], \"textfont\": {\"size\": 20}, \"textposition\": \"middle center\", \"type\": \"scatter\", \"x\": [2.466666666666667], \"y\": [2.2555555555555555]}, {\"marker\": {\"color\": [\"#8c8d8f\"], \"opacity\": 1, \"size\": 36}, \"mode\": \"markers+text\", \"name\": \"Steaks\", \"text\": [\"\\ud83e\\udd69\"], \"textfont\": {\"size\": 20}, \"textposition\": \"middle center\", \"type\": \"scatter\", \"x\": [2.8777777777777778], \"y\": [2.2888888888888888]}, {\"marker\": {\"color\": [\"#fffbab\"], \"opacity\": 1, \"size\": 36}, \"mode\": \"markers+text\", \"name\": \"Sunbeams\", \"text\": [\"\\ud83c\\udf1e\"], \"textfont\": {\"size\": 20}, \"textposition\": \"middle center\", \"type\": \"scatter\", \"x\": [1.777777777777778], \"y\": [2.2333333333333334]}, {\"marker\": {\"color\": [\"#64376e\"], \"opacity\": 1, \"size\": 36}, \"mode\": \"markers+text\", \"name\": \"Tacos\", \"text\": [\"\\ud83c\\udf2e\"], \"textfont\": {\"size\": 20}, \"textposition\": \"middle center\", \"type\": \"scatter\", \"x\": [2.433333333333333], \"y\": [1.8777777777777778]}, {\"marker\": {\"color\": [\"#5c1c1c\"], \"opacity\": 1, \"size\": 36}, \"mode\": \"markers+text\", \"name\": \"Tigers\", \"text\": [\"\\ud83d\\udc05\"], \"textfont\": {\"size\": 20}, \"textposition\": \"middle center\", \"type\": \"scatter\", \"x\": [1.8555555555555556], \"y\": [1.3888888888888888]}, {\"marker\": {\"color\": [\"#d15700\"], \"opacity\": 1, \"size\": 36}, \"mode\": \"markers+text\", \"name\": \"Wild Wings\", \"text\": [\"\\ud83c\\udf57\"], \"textfont\": {\"size\": 20}, \"textposition\": \"middle center\", \"type\": \"scatter\", \"x\": [2.588888888888889], \"y\": [2.188888888888889]}, {\"marker\": {\"color\": [\"#5c4822\"], \"opacity\": 1, \"size\": 36}, \"mode\": \"markers+text\", \"name\": \"Worms\", \"text\": [\"\\ud83d\\udc0c\"], \"textfont\": {\"size\": 20}, \"textposition\": \"middle center\", \"type\": \"scatter\", \"x\": [1.9333333333333333], \"y\": [2.1333333333333333]}],                        {\"height\": 675, \"hovermode\": \"closest\", \"template\": {\"data\": {\"bar\": [{\"error_x\": {\"color\": \"#2a3f5f\"}, \"error_y\": {\"color\": \"#2a3f5f\"}, \"marker\": {\"line\": {\"color\": \"#E5ECF6\", \"width\": 0.5}}, \"type\": \"bar\"}], \"barpolar\": [{\"marker\": {\"line\": {\"color\": \"#E5ECF6\", \"width\": 0.5}}, \"type\": \"barpolar\"}], \"carpet\": [{\"aaxis\": {\"endlinecolor\": \"#2a3f5f\", \"gridcolor\": \"white\", \"linecolor\": \"white\", \"minorgridcolor\": \"white\", \"startlinecolor\": \"#2a3f5f\"}, \"baxis\": {\"endlinecolor\": \"#2a3f5f\", \"gridcolor\": \"white\", \"linecolor\": \"white\", \"minorgridcolor\": \"white\", \"startlinecolor\": \"#2a3f5f\"}, \"type\": \"carpet\"}], \"choropleth\": [{\"colorbar\": {\"outlinewidth\": 0, \"ticks\": \"\"}, \"type\": \"choropleth\"}], \"contour\": [{\"colorbar\": {\"outlinewidth\": 0, \"ticks\": \"\"}, \"colorscale\": [[0.0, \"#0d0887\"], [0.1111111111111111, \"#46039f\"], [0.2222222222222222, \"#7201a8\"], [0.3333333333333333, \"#9c179e\"], [0.4444444444444444, \"#bd3786\"], [0.5555555555555556, \"#d8576b\"], [0.6666666666666666, \"#ed7953\"], [0.7777777777777778, \"#fb9f3a\"], [0.8888888888888888, \"#fdca26\"], [1.0, \"#f0f921\"]], \"type\": \"contour\"}], \"contourcarpet\": [{\"colorbar\": {\"outlinewidth\": 0, \"ticks\": \"\"}, \"type\": \"contourcarpet\"}], \"heatmap\": [{\"colorbar\": {\"outlinewidth\": 0, \"ticks\": \"\"}, \"colorscale\": [[0.0, \"#0d0887\"], [0.1111111111111111, \"#46039f\"], [0.2222222222222222, \"#7201a8\"], [0.3333333333333333, \"#9c179e\"], [0.4444444444444444, \"#bd3786\"], [0.5555555555555556, \"#d8576b\"], [0.6666666666666666, \"#ed7953\"], [0.7777777777777778, \"#fb9f3a\"], [0.8888888888888888, \"#fdca26\"], [1.0, \"#f0f921\"]], \"type\": \"heatmap\"}], \"heatmapgl\": [{\"colorbar\": {\"outlinewidth\": 0, \"ticks\": \"\"}, \"colorscale\": [[0.0, \"#0d0887\"], [0.1111111111111111, \"#46039f\"], [0.2222222222222222, \"#7201a8\"], [0.3333333333333333, \"#9c179e\"], [0.4444444444444444, \"#bd3786\"], [0.5555555555555556, \"#d8576b\"], [0.6666666666666666, \"#ed7953\"], [0.7777777777777778, \"#fb9f3a\"], [0.8888888888888888, \"#fdca26\"], [1.0, \"#f0f921\"]], \"type\": \"heatmapgl\"}], \"histogram\": [{\"marker\": {\"colorbar\": {\"outlinewidth\": 0, \"ticks\": \"\"}}, \"type\": \"histogram\"}], \"histogram2d\": [{\"colorbar\": {\"outlinewidth\": 0, \"ticks\": \"\"}, \"colorscale\": [[0.0, \"#0d0887\"], [0.1111111111111111, \"#46039f\"], [0.2222222222222222, \"#7201a8\"], [0.3333333333333333, \"#9c179e\"], [0.4444444444444444, \"#bd3786\"], [0.5555555555555556, \"#d8576b\"], [0.6666666666666666, \"#ed7953\"], [0.7777777777777778, \"#fb9f3a\"], [0.8888888888888888, \"#fdca26\"], [1.0, \"#f0f921\"]], \"type\": \"histogram2d\"}], \"histogram2dcontour\": [{\"colorbar\": {\"outlinewidth\": 0, \"ticks\": \"\"}, \"colorscale\": [[0.0, \"#0d0887\"], [0.1111111111111111, \"#46039f\"], [0.2222222222222222, \"#7201a8\"], [0.3333333333333333, \"#9c179e\"], [0.4444444444444444, \"#bd3786\"], [0.5555555555555556, \"#d8576b\"], [0.6666666666666666, \"#ed7953\"], [0.7777777777777778, \"#fb9f3a\"], [0.8888888888888888, \"#fdca26\"], [1.0, \"#f0f921\"]], \"type\": \"histogram2dcontour\"}], \"mesh3d\": [{\"colorbar\": {\"outlinewidth\": 0, \"ticks\": \"\"}, \"type\": \"mesh3d\"}], \"parcoords\": [{\"line\": {\"colorbar\": {\"outlinewidth\": 0, \"ticks\": \"\"}}, \"type\": \"parcoords\"}], \"pie\": [{\"automargin\": true, \"type\": \"pie\"}], \"scatter\": [{\"marker\": {\"colorbar\": {\"outlinewidth\": 0, \"ticks\": \"\"}}, \"type\": \"scatter\"}], \"scatter3d\": [{\"line\": {\"colorbar\": {\"outlinewidth\": 0, \"ticks\": \"\"}}, \"marker\": {\"colorbar\": {\"outlinewidth\": 0, \"ticks\": \"\"}}, \"type\": \"scatter3d\"}], \"scattercarpet\": [{\"marker\": {\"colorbar\": {\"outlinewidth\": 0, \"ticks\": \"\"}}, \"type\": \"scattercarpet\"}], \"scattergeo\": [{\"marker\": {\"colorbar\": {\"outlinewidth\": 0, \"ticks\": \"\"}}, \"type\": \"scattergeo\"}], \"scattergl\": [{\"marker\": {\"colorbar\": {\"outlinewidth\": 0, \"ticks\": \"\"}}, \"type\": \"scattergl\"}], \"scattermapbox\": [{\"marker\": {\"colorbar\": {\"outlinewidth\": 0, \"ticks\": \"\"}}, \"type\": \"scattermapbox\"}], \"scatterpolar\": [{\"marker\": {\"colorbar\": {\"outlinewidth\": 0, \"ticks\": \"\"}}, \"type\": \"scatterpolar\"}], \"scatterpolargl\": [{\"marker\": {\"colorbar\": {\"outlinewidth\": 0, \"ticks\": \"\"}}, \"type\": \"scatterpolargl\"}], \"scatterternary\": [{\"marker\": {\"colorbar\": {\"outlinewidth\": 0, \"ticks\": \"\"}}, \"type\": \"scatterternary\"}], \"surface\": [{\"colorbar\": {\"outlinewidth\": 0, \"ticks\": \"\"}, \"colorscale\": [[0.0, \"#0d0887\"], [0.1111111111111111, \"#46039f\"], [0.2222222222222222, \"#7201a8\"], [0.3333333333333333, \"#9c179e\"], [0.4444444444444444, \"#bd3786\"], [0.5555555555555556, \"#d8576b\"], [0.6666666666666666, \"#ed7953\"], [0.7777777777777778, \"#fb9f3a\"], [0.8888888888888888, \"#fdca26\"], [1.0, \"#f0f921\"]], \"type\": \"surface\"}], \"table\": [{\"cells\": {\"fill\": {\"color\": \"#EBF0F8\"}, \"line\": {\"color\": \"white\"}}, \"header\": {\"fill\": {\"color\": \"#C8D4E3\"}, \"line\": {\"color\": \"white\"}}, \"type\": \"table\"}]}, \"layout\": {\"annotationdefaults\": {\"arrowcolor\": \"#2a3f5f\", \"arrowhead\": 0, \"arrowwidth\": 1}, \"autotypenumbers\": \"strict\", \"coloraxis\": {\"colorbar\": {\"outlinewidth\": 0, \"ticks\": \"\"}}, \"colorscale\": {\"diverging\": [[0, \"#8e0152\"], [0.1, \"#c51b7d\"], [0.2, \"#de77ae\"], [0.3, \"#f1b6da\"], [0.4, \"#fde0ef\"], [0.5, \"#f7f7f7\"], [0.6, \"#e6f5d0\"], [0.7, \"#b8e186\"], [0.8, \"#7fbc41\"], [0.9, \"#4d9221\"], [1, \"#276419\"]], \"sequential\": [[0.0, \"#0d0887\"], [0.1111111111111111, \"#46039f\"], [0.2222222222222222, \"#7201a8\"], [0.3333333333333333, \"#9c179e\"], [0.4444444444444444, \"#bd3786\"], [0.5555555555555556, \"#d8576b\"], [0.6666666666666666, \"#ed7953\"], [0.7777777777777778, \"#fb9f3a\"], [0.8888888888888888, \"#fdca26\"], [1.0, \"#f0f921\"]], \"sequentialminus\": [[0.0, \"#0d0887\"], [0.1111111111111111, \"#46039f\"], [0.2222222222222222, \"#7201a8\"], [0.3333333333333333, \"#9c179e\"], [0.4444444444444444, \"#bd3786\"], [0.5555555555555556, \"#d8576b\"], [0.6666666666666666, \"#ed7953\"], [0.7777777777777778, \"#fb9f3a\"], [0.8888888888888888, \"#fdca26\"], [1.0, \"#f0f921\"]]}, \"colorway\": [\"#636efa\", \"#EF553B\", \"#00cc96\", \"#ab63fa\", \"#FFA15A\", \"#19d3f3\", \"#FF6692\", \"#B6E880\", \"#FF97FF\", \"#FECB52\"], \"font\": {\"color\": \"#2a3f5f\"}, \"geo\": {\"bgcolor\": \"white\", \"lakecolor\": \"white\", \"landcolor\": \"#E5ECF6\", \"showlakes\": true, \"showland\": true, \"subunitcolor\": \"white\"}, \"hoverlabel\": {\"align\": \"left\"}, \"hovermode\": \"closest\", \"mapbox\": {\"style\": \"light\"}, \"paper_bgcolor\": \"white\", \"plot_bgcolor\": \"#E5ECF6\", \"polar\": {\"angularaxis\": {\"gridcolor\": \"white\", \"linecolor\": \"white\", \"ticks\": \"\"}, \"bgcolor\": \"#E5ECF6\", \"radialaxis\": {\"gridcolor\": \"white\", \"linecolor\": \"white\", \"ticks\": \"\"}}, \"scene\": {\"xaxis\": {\"backgroundcolor\": \"#E5ECF6\", \"gridcolor\": \"white\", \"gridwidth\": 2, \"linecolor\": \"white\", \"showbackground\": true, \"ticks\": \"\", \"zerolinecolor\": \"white\"}, \"yaxis\": {\"backgroundcolor\": \"#E5ECF6\", \"gridcolor\": \"white\", \"gridwidth\": 2, \"linecolor\": \"white\", \"showbackground\": true, \"ticks\": \"\", \"zerolinecolor\": \"white\"}, \"zaxis\": {\"backgroundcolor\": \"#E5ECF6\", \"gridcolor\": \"white\", \"gridwidth\": 2, \"linecolor\": \"white\", \"showbackground\": true, \"ticks\": \"\", \"zerolinecolor\": \"white\"}}, \"shapedefaults\": {\"line\": {\"color\": \"#2a3f5f\"}}, \"ternary\": {\"aaxis\": {\"gridcolor\": \"white\", \"linecolor\": \"white\", \"ticks\": \"\"}, \"baxis\": {\"gridcolor\": \"white\", \"linecolor\": \"white\", \"ticks\": \"\"}, \"bgcolor\": \"#E5ECF6\", \"caxis\": {\"gridcolor\": \"white\", \"linecolor\": \"white\", \"ticks\": \"\"}}, \"title\": {\"x\": 0.05}, \"xaxis\": {\"automargin\": true, \"gridcolor\": \"white\", \"linecolor\": \"white\", \"ticks\": \"\", \"title\": {\"standoff\": 15}, \"zerolinecolor\": \"white\", \"zerolinewidth\": 2}, \"yaxis\": {\"automargin\": true, \"gridcolor\": \"white\", \"linecolor\": \"white\", \"ticks\": \"\", \"title\": {\"standoff\": 15}, \"zerolinecolor\": \"white\", \"zerolinewidth\": 2}}}, \"title\": {\"text\": \"Average Stars - Batting vs Baserunning\"}, \"width\": 675, \"xaxis\": {\"range\": [1.0, 3.0], \"title\": {\"text\": \"Batting Stars\"}}, \"yaxis\": {\"range\": [1.0, 3.0], \"title\": {\"text\": \"Baserunning Stars\"}}},                        {\"responsive\": true}                    ).then(function(){\n",
       "                            Plotly.addFrames('a6048ccc-f54a-49b2-bc22-f5b179ae59c5', [{\"data\": [{\"marker\": {\"color\": [\"#178f55\"], \"opacity\": 1, \"size\": 36}, \"mode\": \"markers+text\", \"name\": \"Breath Mints\", \"text\": [\"\\ud83c\\udf6c\"], \"textposition\": \"middle center\", \"x\": [2.4555555555555557], \"y\": [2.611111111111111], \"type\": \"scatter\", \"textfont\": {\"size\": 20}}, {\"marker\": {\"color\": [\"#593037\"], \"opacity\": 1, \"size\": 36}, \"mode\": \"markers+text\", \"name\": \"Crabs\", \"text\": [\"\\ud83e\\udd80\"], \"textposition\": \"middle center\", \"x\": [2.411111111111111], \"y\": [2.4555555555555557], \"type\": \"scatter\", \"textfont\": {\"size\": 20}}, {\"marker\": {\"color\": [\"#9141ba\"], \"opacity\": 1, \"size\": 36}, \"mode\": \"markers+text\", \"name\": \"Dale\", \"text\": [\"\\ud83d\\udea4\"], \"textposition\": \"middle center\", \"x\": [1.711111111111111], \"y\": [2.388888888888889], \"type\": \"scatter\", \"textfont\": {\"size\": 20}}, {\"marker\": {\"color\": [\"#8c2a3e\"], \"opacity\": 1, \"size\": 36}, \"mode\": \"markers+text\", \"name\": \"Firefighters\", \"text\": [\"\\ud83d\\udd25\"], \"textposition\": \"middle center\", \"x\": [2.077777777777778], \"y\": [2.1444444444444444], \"type\": \"scatter\", \"textfont\": {\"size\": 20}}, {\"marker\": {\"color\": [\"#f7d1ff\"], \"opacity\": 1, \"size\": 36}, \"mode\": \"markers+text\", \"name\": \"Flowers\", \"text\": [\"\\ud83c\\udf39\"], \"textposition\": \"middle center\", \"x\": [1.9111111111111112], \"y\": [2.433333333333333], \"type\": \"scatter\", \"textfont\": {\"size\": 20}}, {\"marker\": {\"color\": [\"#3ee652\"], \"opacity\": 1, \"size\": 36}, \"mode\": \"markers+text\", \"name\": \"Fridays\", \"text\": [\"\\ud83c\\udfdd\"], \"textposition\": \"middle center\", \"x\": [2.066666666666667], \"y\": [2.3444444444444446], \"type\": \"scatter\", \"textfont\": {\"size\": 20}}, {\"marker\": {\"color\": [\"#2b4075\"], \"opacity\": 1, \"size\": 36}, \"mode\": \"markers+text\", \"name\": \"Garages\", \"text\": [\"\\ud83c\\udfb8\"], \"textposition\": \"middle center\", \"x\": [2.4555555555555557], \"y\": [2.8222222222222224], \"type\": \"scatter\", \"textfont\": {\"size\": 20}}, {\"marker\": {\"color\": [\"#00dbc2\"], \"opacity\": 1, \"size\": 36}, \"mode\": \"markers+text\", \"name\": \"Georgias\", \"text\": [\"\\ud83d\\udd31\"], \"textposition\": \"middle center\", \"x\": [1.8555555555555556], \"y\": [2.1], \"type\": \"scatter\", \"textfont\": {\"size\": 20}}, {\"marker\": {\"color\": [\"#6388ad\"], \"opacity\": 1, \"size\": 36}, \"mode\": \"markers+text\", \"name\": \"Jazz Hands\", \"text\": [\"\\ud83d\\udc50\"], \"textposition\": \"middle center\", \"x\": [2.3444444444444446], \"y\": [2.6555555555555554], \"type\": \"scatter\", \"textfont\": {\"size\": 20}}, {\"marker\": {\"color\": [\"#e830ab\"], \"opacity\": 1, \"size\": 36}, \"mode\": \"markers+text\", \"name\": \"Lift\", \"text\": [\"\\ud83c\\udfcb\\ufe0f\\u200d\\u2640\\ufe0f\"], \"textposition\": \"middle center\", \"x\": [2.411111111111111], \"y\": [2.2], \"type\": \"scatter\", \"textfont\": {\"size\": 20}}, {\"marker\": {\"color\": [\"#780018\"], \"opacity\": 1, \"size\": 36}, \"mode\": \"markers+text\", \"name\": \"Lovers\", \"text\": [\"\\ud83d\\udc8b\"], \"textposition\": \"middle center\", \"x\": [1.5888888888888888], \"y\": [2.022222222222222], \"type\": \"scatter\", \"textfont\": {\"size\": 20}}, {\"marker\": {\"color\": [\"#bf0043\"], \"opacity\": 1, \"size\": 36}, \"mode\": \"markers+text\", \"name\": \"Magic\", \"text\": [\"\\u2728\"], \"textposition\": \"middle center\", \"x\": [2.0444444444444443], \"y\": [1.8444444444444446], \"type\": \"scatter\", \"textfont\": {\"size\": 20}}, {\"marker\": {\"color\": [\"#d13100\"], \"opacity\": 1, \"size\": 36}, \"mode\": \"markers+text\", \"name\": \"Mechanics\", \"text\": [\"\\ud83d\\udee0\"], \"textposition\": \"middle center\", \"x\": [2.4555555555555553], \"y\": [2.555555555555556], \"type\": \"scatter\", \"textfont\": {\"size\": 20}}, {\"marker\": {\"color\": [\"#ffd4d8\"], \"opacity\": 1, \"size\": 36}, \"mode\": \"markers+text\", \"name\": \"Millennials\", \"text\": [\"\\ud83d\\udcf1\"], \"textposition\": \"middle center\", \"x\": [1.8555555555555556], \"y\": [2.1555555555555554], \"type\": \"scatter\", \"textfont\": {\"size\": 20}}, {\"marker\": {\"color\": [\"#f5feff\"], \"opacity\": 1, \"size\": 36}, \"mode\": \"markers+text\", \"name\": \"Moist Talkers\", \"text\": [\"\\ud83d\\udde3\"], \"textposition\": \"middle center\", \"x\": [2.3222222222222224], \"y\": [2.533333333333333], \"type\": \"scatter\", \"textfont\": {\"size\": 20}}, {\"marker\": {\"color\": [\"#399d8f\"], \"opacity\": 1, \"size\": 36}, \"mode\": \"markers+text\", \"name\": \"Pies\", \"text\": [\"\\ud83e\\udd67\"], \"textposition\": \"middle center\", \"x\": [2.077777777777778], \"y\": [2.2888888888888888], \"type\": \"scatter\", \"textfont\": {\"size\": 20}}, {\"marker\": {\"color\": [\"#ffce0a\"], \"opacity\": 1, \"size\": 36}, \"mode\": \"markers+text\", \"name\": \"Shoe Thieves\", \"text\": [\"\\ud83d\\udc5f\"], \"textposition\": \"middle center\", \"x\": [2.0555555555555554], \"y\": [2.3555555555555556], \"type\": \"scatter\", \"textfont\": {\"size\": 20}}, {\"marker\": {\"color\": [\"#67556b\"], \"opacity\": 1, \"size\": 36}, \"mode\": \"markers+text\", \"name\": \"Spies\", \"text\": [\"\\ud83d\\udd75\"], \"textposition\": \"middle center\", \"x\": [2.466666666666667], \"y\": [2.2555555555555555], \"type\": \"scatter\", \"textfont\": {\"size\": 20}}, {\"marker\": {\"color\": [\"#8c8d8f\"], \"opacity\": 1, \"size\": 36}, \"mode\": \"markers+text\", \"name\": \"Steaks\", \"text\": [\"\\ud83e\\udd69\"], \"textposition\": \"middle center\", \"x\": [2.8777777777777778], \"y\": [2.2888888888888888], \"type\": \"scatter\", \"textfont\": {\"size\": 20}}, {\"marker\": {\"color\": [\"#fffbab\"], \"opacity\": 1, \"size\": 36}, \"mode\": \"markers+text\", \"name\": \"Sunbeams\", \"text\": [\"\\ud83c\\udf1e\"], \"textposition\": \"middle center\", \"x\": [1.777777777777778], \"y\": [2.2333333333333334], \"type\": \"scatter\", \"textfont\": {\"size\": 20}}, {\"marker\": {\"color\": [\"#64376e\"], \"opacity\": 1, \"size\": 36}, \"mode\": \"markers+text\", \"name\": \"Tacos\", \"text\": [\"\\ud83c\\udf2e\"], \"textposition\": \"middle center\", \"x\": [2.433333333333333], \"y\": [1.8777777777777778], \"type\": \"scatter\", \"textfont\": {\"size\": 20}}, {\"marker\": {\"color\": [\"#5c1c1c\"], \"opacity\": 1, \"size\": 36}, \"mode\": \"markers+text\", \"name\": \"Tigers\", \"text\": [\"\\ud83d\\udc05\"], \"textposition\": \"middle center\", \"x\": [1.8555555555555556], \"y\": [1.3888888888888888], \"type\": \"scatter\", \"textfont\": {\"size\": 20}}, {\"marker\": {\"color\": [\"#d15700\"], \"opacity\": 1, \"size\": 36}, \"mode\": \"markers+text\", \"name\": \"Wild Wings\", \"text\": [\"\\ud83c\\udf57\"], \"textposition\": \"middle center\", \"x\": [2.588888888888889], \"y\": [2.188888888888889], \"type\": \"scatter\", \"textfont\": {\"size\": 20}}, {\"marker\": {\"color\": [\"#5c4822\"], \"opacity\": 1, \"size\": 36}, \"mode\": \"markers+text\", \"name\": \"Worms\", \"text\": [\"\\ud83d\\udc0c\"], \"textposition\": \"middle center\", \"x\": [1.9333333333333333], \"y\": [2.1333333333333333], \"type\": \"scatter\", \"textfont\": {\"size\": 20}}], \"name\": \"Data\"}]);\n",
       "                        }).then(function(){\n",
       "                            \n",
       "var gd = document.getElementById('a6048ccc-f54a-49b2-bc22-f5b179ae59c5');\n",
       "var x = new MutationObserver(function (mutations, observer) {{\n",
       "        var display = window.getComputedStyle(gd).display;\n",
       "        if (!display || display === 'none') {{\n",
       "            console.log([gd, 'removed!']);\n",
       "            Plotly.purge(gd);\n",
       "            observer.disconnect();\n",
       "        }}\n",
       "}});\n",
       "\n",
       "// Listen for the removal of the full notebook cells\n",
       "var notebookContainer = gd.closest('#notebook-container');\n",
       "if (notebookContainer) {{\n",
       "    x.observe(notebookContainer, {childList: true});\n",
       "}}\n",
       "\n",
       "// Listen for the clearing of the current output cell\n",
       "var outputEl = gd.closest('.output');\n",
       "if (outputEl) {{\n",
       "    x.observe(outputEl, {childList: true});\n",
       "}}\n",
       "\n",
       "                        })                };                });            </script>        </div>"
      ]
     },
     "metadata": {},
     "output_type": "display_data"
    }
   ],
   "source": [
    "\n",
    "# Plot it\n",
    "fig_dict = {\n",
    "    \"data\": [],\n",
    "    \"layout\": {},\n",
    "    \"frames\": []\n",
    "}\n",
    "\n",
    "# Make the graph layout & fancy play/pause buttons\n",
    "fig_dict[\"layout\"][\"title\"] = \"Average Stars - Batting vs Baserunning\"\n",
    "fig_dict[\"layout\"][\"xaxis\"] = {\"range\": [1.0, 3.0], \"title\": \"Batting Stars\"}\n",
    "fig_dict[\"layout\"][\"yaxis\"] = {\"range\": [1.0, 3.0], \"title\": \"Baserunning Stars\"}\n",
    "fig_dict[\"layout\"][\"height\"] = 675\n",
    "fig_dict[\"layout\"][\"width\"] = 675\n",
    "fig_dict[\"layout\"][\"hovermode\"] = \"closest\"\n",
    "# fig_dict[\"layout\"][\"updatemenus\"] = [\n",
    "#     {\n",
    "#         \"buttons\": [\n",
    "#             {\n",
    "#                 \"args\": [None, {\"frame\": {\"duration\": 250, \"redraw\": False},\n",
    "#                                 \"fromcurrent\": True, \"transition\": {\"duration\": 250, \"easing\": \"quadratic-in-out\"}}],\n",
    "#                 \"label\": \"▶\",\n",
    "#                 \"method\": \"animate\"\n",
    "#             },\n",
    "#             {\n",
    "#                 \"args\": [[None], {\"frame\": {\"duration\": 0, \"redraw\": False},\n",
    "#                                   \"mode\": \"immediate\", \"transition\": {\"duration\": 0}}],\n",
    "#                 \"label\": \"⏸\",\n",
    "#                 \"method\": \"animate\"\n",
    "#             }\n",
    "#         ],\n",
    "#         \"direction\": \"left\",\n",
    "#         \"pad\": {\"r\": 10, \"t\": 67},\n",
    "#         \"showactive\": False,\n",
    "#         \"type\": \"buttons\",\n",
    "#         \"x\": 0.1,\n",
    "#         \"xanchor\": \"right\",\n",
    "#         \"y\": 0,\n",
    "#         \"yanchor\": \"top\"\n",
    "#     }\n",
    "# ]\n",
    "\n",
    "# sliders_dict = {\n",
    "#     \"active\": 0,\n",
    "#     \"yanchor\": \"top\",\n",
    "#     \"xanchor\": \"left\",\n",
    "#     \"currentvalue\": {\n",
    "#         \"font\": {\"size\": 14},\n",
    "#         \"visible\": True,\n",
    "#         \"xanchor\": \"right\"\n",
    "#     },\n",
    "#     \"transition\": {\"duration\": 250, \"easing\": \"cubic-in-out\"},\n",
    "#     \"pad\": {\"b\": 10, \"t\": 50},\n",
    "#     \"len\": 0.9,\n",
    "#     \"x\": 0.1,\n",
    "#     \"y\": 0,\n",
    "#     \"steps\": []\n",
    "# }\n",
    "\n",
    "frame = {\"data\": [], \"name\": f\"Data\"}\n",
    "for team in table[\"team\"].unique():\n",
    "    teamset = table[table[\"team\"] == team]\n",
    "    data_dict = {\n",
    "        \"x\": list(teamset[\"batting\"]),\n",
    "        \"y\": list(teamset[\"baserunning\"]),\n",
    "        \"mode\": \"markers+text\",\n",
    "        \"marker\": {\n",
    "            \"color\": teamset[\"color\"],\n",
    "            \"size\": 36,\n",
    "            \"opacity\": 1,\n",
    "        },\n",
    "        \"name\": team,\n",
    "        \"text\": teamset[\"emoji\"],\n",
    "        \"textposition\": \"middle center\",\n",
    "        \"textfont_size\": 20\n",
    "    }\n",
    "\n",
    "    fig_dict[\"data\"].append(data_dict)\n",
    "    frame[\"data\"].append(data_dict)\n",
    "\n",
    "fig_dict[\"frames\"].append(frame)\n",
    "\n",
    "# slider_step = {\n",
    "#     \"args\": [\n",
    "#         [frame[\"name\"]],\n",
    "#         {\n",
    "#             \"frame\": {\"duration\": 250, \"redraw\": False},\n",
    "#             \"mode\": \"immediate\",\n",
    "#             \"transition\": {\"duration\": 250}\n",
    "#         }\n",
    "#     ],\n",
    "#     \"label\": frame[\"name\"],\n",
    "#     \"method\": \"animate\"\n",
    "# }\n",
    "# sliders_dict[\"steps\"].append(slider_step)\n",
    "\n",
    "# fig_dict[\"layout\"][\"sliders\"] = [sliders_dict]\n",
    "\n",
    "fig = Figure(fig_dict)\n",
    "fig.show()\n"
   ]
  },
  {
   "cell_type": "code",
   "execution_count": 5,
   "metadata": {
    "pycharm": {
     "name": "#%%\n"
    }
   },
   "outputs": [
    {
     "data": {
      "text/html": [
       "<div>                            <div id=\"a113863e-2dd3-4942-83dc-6358a2954867\" class=\"plotly-graph-div\" style=\"height:675px; width:675px;\"></div>            <script type=\"text/javascript\">                require([\"plotly\"], function(Plotly) {                    window.PLOTLYENV=window.PLOTLYENV || {};                                    if (document.getElementById(\"a113863e-2dd3-4942-83dc-6358a2954867\")) {                    Plotly.newPlot(                        \"a113863e-2dd3-4942-83dc-6358a2954867\",                        [{\"marker\": {\"color\": [\"#178f55\"], \"opacity\": 1, \"size\": 36}, \"mode\": \"markers+text\", \"name\": \"Breath Mints\", \"text\": [\"\\ud83c\\udf6c\"], \"textfont\": {\"size\": 20}, \"textposition\": \"middle center\", \"type\": \"scatter\", \"x\": [1.9], \"y\": [2.422222222222222]}, {\"marker\": {\"color\": [\"#593037\"], \"opacity\": 1, \"size\": 36}, \"mode\": \"markers+text\", \"name\": \"Crabs\", \"text\": [\"\\ud83e\\udd80\"], \"textfont\": {\"size\": 20}, \"textposition\": \"middle center\", \"type\": \"scatter\", \"x\": [1.78], \"y\": [2.6]}, {\"marker\": {\"color\": [\"#9141ba\"], \"opacity\": 1, \"size\": 36}, \"mode\": \"markers+text\", \"name\": \"Dale\", \"text\": [\"\\ud83d\\udea4\"], \"textfont\": {\"size\": 20}, \"textposition\": \"middle center\", \"type\": \"scatter\", \"x\": [1.66], \"y\": [2.5444444444444443]}, {\"marker\": {\"color\": [\"#8c2a3e\"], \"opacity\": 1, \"size\": 36}, \"mode\": \"markers+text\", \"name\": \"Firefighters\", \"text\": [\"\\ud83d\\udd25\"], \"textfont\": {\"size\": 20}, \"textposition\": \"middle center\", \"type\": \"scatter\", \"x\": [1.96], \"y\": [2.6999999999999997]}, {\"marker\": {\"color\": [\"#f7d1ff\"], \"opacity\": 1, \"size\": 36}, \"mode\": \"markers+text\", \"name\": \"Flowers\", \"text\": [\"\\ud83c\\udf39\"], \"textfont\": {\"size\": 20}, \"textposition\": \"middle center\", \"type\": \"scatter\", \"x\": [1.36], \"y\": [2.466666666666667]}, {\"marker\": {\"color\": [\"#3ee652\"], \"opacity\": 1, \"size\": 36}, \"mode\": \"markers+text\", \"name\": \"Fridays\", \"text\": [\"\\ud83c\\udfdd\"], \"textfont\": {\"size\": 20}, \"textposition\": \"middle center\", \"type\": \"scatter\", \"x\": [1.9], \"y\": [2.3666666666666667]}, {\"marker\": {\"color\": [\"#2b4075\"], \"opacity\": 1, \"size\": 36}, \"mode\": \"markers+text\", \"name\": \"Garages\", \"text\": [\"\\ud83c\\udfb8\"], \"textfont\": {\"size\": 20}, \"textposition\": \"middle center\", \"type\": \"scatter\", \"x\": [1.56], \"y\": [2.5444444444444443]}, {\"marker\": {\"color\": [\"#00dbc2\"], \"opacity\": 1, \"size\": 36}, \"mode\": \"markers+text\", \"name\": \"Georgias\", \"text\": [\"\\ud83d\\udd31\"], \"textfont\": {\"size\": 20}, \"textposition\": \"middle center\", \"type\": \"scatter\", \"x\": [1.48], \"y\": [2.7]}, {\"marker\": {\"color\": [\"#6388ad\"], \"opacity\": 1, \"size\": 36}, \"mode\": \"markers+text\", \"name\": \"Jazz Hands\", \"text\": [\"\\ud83d\\udc50\"], \"textfont\": {\"size\": 20}, \"textposition\": \"middle center\", \"type\": \"scatter\", \"x\": [1.26], \"y\": [2.7555555555555555]}, {\"marker\": {\"color\": [\"#e830ab\"], \"opacity\": 1, \"size\": 36}, \"mode\": \"markers+text\", \"name\": \"Lift\", \"text\": [\"\\ud83c\\udfcb\\ufe0f\\u200d\\u2640\\ufe0f\"], \"textfont\": {\"size\": 20}, \"textposition\": \"middle center\", \"type\": \"scatter\", \"x\": [1.78], \"y\": [2.1666666666666665]}, {\"marker\": {\"color\": [\"#780018\"], \"opacity\": 1, \"size\": 36}, \"mode\": \"markers+text\", \"name\": \"Lovers\", \"text\": [\"\\ud83d\\udc8b\"], \"textfont\": {\"size\": 20}, \"textposition\": \"middle center\", \"type\": \"scatter\", \"x\": [1.8], \"y\": [2.4]}, {\"marker\": {\"color\": [\"#bf0043\"], \"opacity\": 1, \"size\": 36}, \"mode\": \"markers+text\", \"name\": \"Magic\", \"text\": [\"\\u2728\"], \"textfont\": {\"size\": 20}, \"textposition\": \"middle center\", \"type\": \"scatter\", \"x\": [1.94], \"y\": [2.2111111111111112]}, {\"marker\": {\"color\": [\"#d13100\"], \"opacity\": 1, \"size\": 36}, \"mode\": \"markers+text\", \"name\": \"Mechanics\", \"text\": [\"\\ud83d\\udee0\"], \"textfont\": {\"size\": 20}, \"textposition\": \"middle center\", \"type\": \"scatter\", \"x\": [2.46], \"y\": [2.5]}, {\"marker\": {\"color\": [\"#ffd4d8\"], \"opacity\": 1, \"size\": 36}, \"mode\": \"markers+text\", \"name\": \"Millennials\", \"text\": [\"\\ud83d\\udcf1\"], \"textfont\": {\"size\": 20}, \"textposition\": \"middle center\", \"type\": \"scatter\", \"x\": [2.24], \"y\": [2.433333333333333]}, {\"marker\": {\"color\": [\"#f5feff\"], \"opacity\": 1, \"size\": 36}, \"mode\": \"markers+text\", \"name\": \"Moist Talkers\", \"text\": [\"\\ud83d\\udde3\"], \"textfont\": {\"size\": 20}, \"textposition\": \"middle center\", \"type\": \"scatter\", \"x\": [2.2800000000000002], \"y\": [2.611111111111111]}, {\"marker\": {\"color\": [\"#399d8f\"], \"opacity\": 1, \"size\": 36}, \"mode\": \"markers+text\", \"name\": \"Pies\", \"text\": [\"\\ud83e\\udd67\"], \"textfont\": {\"size\": 20}, \"textposition\": \"middle center\", \"type\": \"scatter\", \"x\": [1.82], \"y\": [2.2444444444444445]}, {\"marker\": {\"color\": [\"#ffce0a\"], \"opacity\": 1, \"size\": 36}, \"mode\": \"markers+text\", \"name\": \"Shoe Thieves\", \"text\": [\"\\ud83d\\udc5f\"], \"textfont\": {\"size\": 20}, \"textposition\": \"middle center\", \"type\": \"scatter\", \"x\": [2.04], \"y\": [2.2777777777777777]}, {\"marker\": {\"color\": [\"#67556b\"], \"opacity\": 1, \"size\": 36}, \"mode\": \"markers+text\", \"name\": \"Spies\", \"text\": [\"\\ud83d\\udd75\"], \"textfont\": {\"size\": 20}, \"textposition\": \"middle center\", \"type\": \"scatter\", \"x\": [1.96], \"y\": [2.6]}, {\"marker\": {\"color\": [\"#8c8d8f\"], \"opacity\": 1, \"size\": 36}, \"mode\": \"markers+text\", \"name\": \"Steaks\", \"text\": [\"\\ud83e\\udd69\"], \"textfont\": {\"size\": 20}, \"textposition\": \"middle center\", \"type\": \"scatter\", \"x\": [1.46], \"y\": [2.933333333333333]}, {\"marker\": {\"color\": [\"#fffbab\"], \"opacity\": 1, \"size\": 36}, \"mode\": \"markers+text\", \"name\": \"Sunbeams\", \"text\": [\"\\ud83c\\udf1e\"], \"textfont\": {\"size\": 20}, \"textposition\": \"middle center\", \"type\": \"scatter\", \"x\": [2.26], \"y\": [2.077777777777778]}, {\"marker\": {\"color\": [\"#64376e\"], \"opacity\": 1, \"size\": 36}, \"mode\": \"markers+text\", \"name\": \"Tacos\", \"text\": [\"\\ud83c\\udf2e\"], \"textfont\": {\"size\": 20}, \"textposition\": \"middle center\", \"type\": \"scatter\", \"x\": [1.9000000000000001], \"y\": [2.466666666666667]}, {\"marker\": {\"color\": [\"#5c1c1c\"], \"opacity\": 1, \"size\": 36}, \"mode\": \"markers+text\", \"name\": \"Tigers\", \"text\": [\"\\ud83d\\udc05\"], \"textfont\": {\"size\": 20}, \"textposition\": \"middle center\", \"type\": \"scatter\", \"x\": [1.58], \"y\": [2.977777777777778]}, {\"marker\": {\"color\": [\"#d15700\"], \"opacity\": 1, \"size\": 36}, \"mode\": \"markers+text\", \"name\": \"Wild Wings\", \"text\": [\"\\ud83c\\udf57\"], \"textfont\": {\"size\": 20}, \"textposition\": \"middle center\", \"type\": \"scatter\", \"x\": [1.6], \"y\": [2.0666666666666664]}, {\"marker\": {\"color\": [\"#5c4822\"], \"opacity\": 1, \"size\": 36}, \"mode\": \"markers+text\", \"name\": \"Worms\", \"text\": [\"\\ud83d\\udc0c\"], \"textfont\": {\"size\": 20}, \"textposition\": \"middle center\", \"type\": \"scatter\", \"x\": [1.62], \"y\": [2.0555555555555554]}],                        {\"height\": 675, \"hovermode\": \"closest\", \"template\": {\"data\": {\"bar\": [{\"error_x\": {\"color\": \"#2a3f5f\"}, \"error_y\": {\"color\": \"#2a3f5f\"}, \"marker\": {\"line\": {\"color\": \"#E5ECF6\", \"width\": 0.5}}, \"type\": \"bar\"}], \"barpolar\": [{\"marker\": {\"line\": {\"color\": \"#E5ECF6\", \"width\": 0.5}}, \"type\": \"barpolar\"}], \"carpet\": [{\"aaxis\": {\"endlinecolor\": \"#2a3f5f\", \"gridcolor\": \"white\", \"linecolor\": \"white\", \"minorgridcolor\": \"white\", \"startlinecolor\": \"#2a3f5f\"}, \"baxis\": {\"endlinecolor\": \"#2a3f5f\", \"gridcolor\": \"white\", \"linecolor\": \"white\", \"minorgridcolor\": \"white\", \"startlinecolor\": \"#2a3f5f\"}, \"type\": \"carpet\"}], \"choropleth\": [{\"colorbar\": {\"outlinewidth\": 0, \"ticks\": \"\"}, \"type\": \"choropleth\"}], \"contour\": [{\"colorbar\": {\"outlinewidth\": 0, \"ticks\": \"\"}, \"colorscale\": [[0.0, \"#0d0887\"], [0.1111111111111111, \"#46039f\"], [0.2222222222222222, \"#7201a8\"], [0.3333333333333333, \"#9c179e\"], [0.4444444444444444, \"#bd3786\"], [0.5555555555555556, \"#d8576b\"], [0.6666666666666666, \"#ed7953\"], [0.7777777777777778, \"#fb9f3a\"], [0.8888888888888888, \"#fdca26\"], [1.0, \"#f0f921\"]], \"type\": \"contour\"}], \"contourcarpet\": [{\"colorbar\": {\"outlinewidth\": 0, \"ticks\": \"\"}, \"type\": \"contourcarpet\"}], \"heatmap\": [{\"colorbar\": {\"outlinewidth\": 0, \"ticks\": \"\"}, \"colorscale\": [[0.0, \"#0d0887\"], [0.1111111111111111, \"#46039f\"], [0.2222222222222222, \"#7201a8\"], [0.3333333333333333, \"#9c179e\"], [0.4444444444444444, \"#bd3786\"], [0.5555555555555556, \"#d8576b\"], [0.6666666666666666, \"#ed7953\"], [0.7777777777777778, \"#fb9f3a\"], [0.8888888888888888, \"#fdca26\"], [1.0, \"#f0f921\"]], \"type\": \"heatmap\"}], \"heatmapgl\": [{\"colorbar\": {\"outlinewidth\": 0, \"ticks\": \"\"}, \"colorscale\": [[0.0, \"#0d0887\"], [0.1111111111111111, \"#46039f\"], [0.2222222222222222, \"#7201a8\"], [0.3333333333333333, \"#9c179e\"], [0.4444444444444444, \"#bd3786\"], [0.5555555555555556, \"#d8576b\"], [0.6666666666666666, \"#ed7953\"], [0.7777777777777778, \"#fb9f3a\"], [0.8888888888888888, \"#fdca26\"], [1.0, \"#f0f921\"]], \"type\": \"heatmapgl\"}], \"histogram\": [{\"marker\": {\"colorbar\": {\"outlinewidth\": 0, \"ticks\": \"\"}}, \"type\": \"histogram\"}], \"histogram2d\": [{\"colorbar\": {\"outlinewidth\": 0, \"ticks\": \"\"}, \"colorscale\": [[0.0, \"#0d0887\"], [0.1111111111111111, \"#46039f\"], [0.2222222222222222, \"#7201a8\"], [0.3333333333333333, \"#9c179e\"], [0.4444444444444444, \"#bd3786\"], [0.5555555555555556, \"#d8576b\"], [0.6666666666666666, \"#ed7953\"], [0.7777777777777778, \"#fb9f3a\"], [0.8888888888888888, \"#fdca26\"], [1.0, \"#f0f921\"]], \"type\": \"histogram2d\"}], \"histogram2dcontour\": [{\"colorbar\": {\"outlinewidth\": 0, \"ticks\": \"\"}, \"colorscale\": [[0.0, \"#0d0887\"], [0.1111111111111111, \"#46039f\"], [0.2222222222222222, \"#7201a8\"], [0.3333333333333333, \"#9c179e\"], [0.4444444444444444, \"#bd3786\"], [0.5555555555555556, \"#d8576b\"], [0.6666666666666666, \"#ed7953\"], [0.7777777777777778, \"#fb9f3a\"], [0.8888888888888888, \"#fdca26\"], [1.0, \"#f0f921\"]], \"type\": \"histogram2dcontour\"}], \"mesh3d\": [{\"colorbar\": {\"outlinewidth\": 0, \"ticks\": \"\"}, \"type\": \"mesh3d\"}], \"parcoords\": [{\"line\": {\"colorbar\": {\"outlinewidth\": 0, \"ticks\": \"\"}}, \"type\": \"parcoords\"}], \"pie\": [{\"automargin\": true, \"type\": \"pie\"}], \"scatter\": [{\"marker\": {\"colorbar\": {\"outlinewidth\": 0, \"ticks\": \"\"}}, \"type\": \"scatter\"}], \"scatter3d\": [{\"line\": {\"colorbar\": {\"outlinewidth\": 0, \"ticks\": \"\"}}, \"marker\": {\"colorbar\": {\"outlinewidth\": 0, \"ticks\": \"\"}}, \"type\": \"scatter3d\"}], \"scattercarpet\": [{\"marker\": {\"colorbar\": {\"outlinewidth\": 0, \"ticks\": \"\"}}, \"type\": \"scattercarpet\"}], \"scattergeo\": [{\"marker\": {\"colorbar\": {\"outlinewidth\": 0, \"ticks\": \"\"}}, \"type\": \"scattergeo\"}], \"scattergl\": [{\"marker\": {\"colorbar\": {\"outlinewidth\": 0, \"ticks\": \"\"}}, \"type\": \"scattergl\"}], \"scattermapbox\": [{\"marker\": {\"colorbar\": {\"outlinewidth\": 0, \"ticks\": \"\"}}, \"type\": \"scattermapbox\"}], \"scatterpolar\": [{\"marker\": {\"colorbar\": {\"outlinewidth\": 0, \"ticks\": \"\"}}, \"type\": \"scatterpolar\"}], \"scatterpolargl\": [{\"marker\": {\"colorbar\": {\"outlinewidth\": 0, \"ticks\": \"\"}}, \"type\": \"scatterpolargl\"}], \"scatterternary\": [{\"marker\": {\"colorbar\": {\"outlinewidth\": 0, \"ticks\": \"\"}}, \"type\": \"scatterternary\"}], \"surface\": [{\"colorbar\": {\"outlinewidth\": 0, \"ticks\": \"\"}, \"colorscale\": [[0.0, \"#0d0887\"], [0.1111111111111111, \"#46039f\"], [0.2222222222222222, \"#7201a8\"], [0.3333333333333333, \"#9c179e\"], [0.4444444444444444, \"#bd3786\"], [0.5555555555555556, \"#d8576b\"], [0.6666666666666666, \"#ed7953\"], [0.7777777777777778, \"#fb9f3a\"], [0.8888888888888888, \"#fdca26\"], [1.0, \"#f0f921\"]], \"type\": \"surface\"}], \"table\": [{\"cells\": {\"fill\": {\"color\": \"#EBF0F8\"}, \"line\": {\"color\": \"white\"}}, \"header\": {\"fill\": {\"color\": \"#C8D4E3\"}, \"line\": {\"color\": \"white\"}}, \"type\": \"table\"}]}, \"layout\": {\"annotationdefaults\": {\"arrowcolor\": \"#2a3f5f\", \"arrowhead\": 0, \"arrowwidth\": 1}, \"autotypenumbers\": \"strict\", \"coloraxis\": {\"colorbar\": {\"outlinewidth\": 0, \"ticks\": \"\"}}, \"colorscale\": {\"diverging\": [[0, \"#8e0152\"], [0.1, \"#c51b7d\"], [0.2, \"#de77ae\"], [0.3, \"#f1b6da\"], [0.4, \"#fde0ef\"], [0.5, \"#f7f7f7\"], [0.6, \"#e6f5d0\"], [0.7, \"#b8e186\"], [0.8, \"#7fbc41\"], [0.9, \"#4d9221\"], [1, \"#276419\"]], \"sequential\": [[0.0, \"#0d0887\"], [0.1111111111111111, \"#46039f\"], [0.2222222222222222, \"#7201a8\"], [0.3333333333333333, \"#9c179e\"], [0.4444444444444444, \"#bd3786\"], [0.5555555555555556, \"#d8576b\"], [0.6666666666666666, \"#ed7953\"], [0.7777777777777778, \"#fb9f3a\"], [0.8888888888888888, \"#fdca26\"], [1.0, \"#f0f921\"]], \"sequentialminus\": [[0.0, \"#0d0887\"], [0.1111111111111111, \"#46039f\"], [0.2222222222222222, \"#7201a8\"], [0.3333333333333333, \"#9c179e\"], [0.4444444444444444, \"#bd3786\"], [0.5555555555555556, \"#d8576b\"], [0.6666666666666666, \"#ed7953\"], [0.7777777777777778, \"#fb9f3a\"], [0.8888888888888888, \"#fdca26\"], [1.0, \"#f0f921\"]]}, \"colorway\": [\"#636efa\", \"#EF553B\", \"#00cc96\", \"#ab63fa\", \"#FFA15A\", \"#19d3f3\", \"#FF6692\", \"#B6E880\", \"#FF97FF\", \"#FECB52\"], \"font\": {\"color\": \"#2a3f5f\"}, \"geo\": {\"bgcolor\": \"white\", \"lakecolor\": \"white\", \"landcolor\": \"#E5ECF6\", \"showlakes\": true, \"showland\": true, \"subunitcolor\": \"white\"}, \"hoverlabel\": {\"align\": \"left\"}, \"hovermode\": \"closest\", \"mapbox\": {\"style\": \"light\"}, \"paper_bgcolor\": \"white\", \"plot_bgcolor\": \"#E5ECF6\", \"polar\": {\"angularaxis\": {\"gridcolor\": \"white\", \"linecolor\": \"white\", \"ticks\": \"\"}, \"bgcolor\": \"#E5ECF6\", \"radialaxis\": {\"gridcolor\": \"white\", \"linecolor\": \"white\", \"ticks\": \"\"}}, \"scene\": {\"xaxis\": {\"backgroundcolor\": \"#E5ECF6\", \"gridcolor\": \"white\", \"gridwidth\": 2, \"linecolor\": \"white\", \"showbackground\": true, \"ticks\": \"\", \"zerolinecolor\": \"white\"}, \"yaxis\": {\"backgroundcolor\": \"#E5ECF6\", \"gridcolor\": \"white\", \"gridwidth\": 2, \"linecolor\": \"white\", \"showbackground\": true, \"ticks\": \"\", \"zerolinecolor\": \"white\"}, \"zaxis\": {\"backgroundcolor\": \"#E5ECF6\", \"gridcolor\": \"white\", \"gridwidth\": 2, \"linecolor\": \"white\", \"showbackground\": true, \"ticks\": \"\", \"zerolinecolor\": \"white\"}}, \"shapedefaults\": {\"line\": {\"color\": \"#2a3f5f\"}}, \"ternary\": {\"aaxis\": {\"gridcolor\": \"white\", \"linecolor\": \"white\", \"ticks\": \"\"}, \"baxis\": {\"gridcolor\": \"white\", \"linecolor\": \"white\", \"ticks\": \"\"}, \"bgcolor\": \"#E5ECF6\", \"caxis\": {\"gridcolor\": \"white\", \"linecolor\": \"white\", \"ticks\": \"\"}}, \"title\": {\"x\": 0.05}, \"xaxis\": {\"automargin\": true, \"gridcolor\": \"white\", \"linecolor\": \"white\", \"ticks\": \"\", \"title\": {\"standoff\": 15}, \"zerolinecolor\": \"white\", \"zerolinewidth\": 2}, \"yaxis\": {\"automargin\": true, \"gridcolor\": \"white\", \"linecolor\": \"white\", \"ticks\": \"\", \"title\": {\"standoff\": 15}, \"zerolinecolor\": \"white\", \"zerolinewidth\": 2}}}, \"title\": {\"text\": \"Average Stars - Pitching vs Defense\"}, \"width\": 675, \"xaxis\": {\"range\": [1.0, 3.0], \"title\": {\"text\": \"Pitching Stars\"}}, \"yaxis\": {\"range\": [1.5, 3.5], \"title\": {\"text\": \"Defense Stars\"}}},                        {\"responsive\": true}                    ).then(function(){\n",
       "                            Plotly.addFrames('a113863e-2dd3-4942-83dc-6358a2954867', [{\"data\": [{\"marker\": {\"color\": [\"#178f55\"], \"opacity\": 1, \"size\": 36}, \"mode\": \"markers+text\", \"name\": \"Breath Mints\", \"text\": [\"\\ud83c\\udf6c\"], \"textposition\": \"middle center\", \"x\": [1.9], \"y\": [2.422222222222222], \"type\": \"scatter\", \"textfont\": {\"size\": 20}}, {\"marker\": {\"color\": [\"#593037\"], \"opacity\": 1, \"size\": 36}, \"mode\": \"markers+text\", \"name\": \"Crabs\", \"text\": [\"\\ud83e\\udd80\"], \"textposition\": \"middle center\", \"x\": [1.78], \"y\": [2.6], \"type\": \"scatter\", \"textfont\": {\"size\": 20}}, {\"marker\": {\"color\": [\"#9141ba\"], \"opacity\": 1, \"size\": 36}, \"mode\": \"markers+text\", \"name\": \"Dale\", \"text\": [\"\\ud83d\\udea4\"], \"textposition\": \"middle center\", \"x\": [1.66], \"y\": [2.5444444444444443], \"type\": \"scatter\", \"textfont\": {\"size\": 20}}, {\"marker\": {\"color\": [\"#8c2a3e\"], \"opacity\": 1, \"size\": 36}, \"mode\": \"markers+text\", \"name\": \"Firefighters\", \"text\": [\"\\ud83d\\udd25\"], \"textposition\": \"middle center\", \"x\": [1.96], \"y\": [2.6999999999999997], \"type\": \"scatter\", \"textfont\": {\"size\": 20}}, {\"marker\": {\"color\": [\"#f7d1ff\"], \"opacity\": 1, \"size\": 36}, \"mode\": \"markers+text\", \"name\": \"Flowers\", \"text\": [\"\\ud83c\\udf39\"], \"textposition\": \"middle center\", \"x\": [1.36], \"y\": [2.466666666666667], \"type\": \"scatter\", \"textfont\": {\"size\": 20}}, {\"marker\": {\"color\": [\"#3ee652\"], \"opacity\": 1, \"size\": 36}, \"mode\": \"markers+text\", \"name\": \"Fridays\", \"text\": [\"\\ud83c\\udfdd\"], \"textposition\": \"middle center\", \"x\": [1.9], \"y\": [2.3666666666666667], \"type\": \"scatter\", \"textfont\": {\"size\": 20}}, {\"marker\": {\"color\": [\"#2b4075\"], \"opacity\": 1, \"size\": 36}, \"mode\": \"markers+text\", \"name\": \"Garages\", \"text\": [\"\\ud83c\\udfb8\"], \"textposition\": \"middle center\", \"x\": [1.56], \"y\": [2.5444444444444443], \"type\": \"scatter\", \"textfont\": {\"size\": 20}}, {\"marker\": {\"color\": [\"#00dbc2\"], \"opacity\": 1, \"size\": 36}, \"mode\": \"markers+text\", \"name\": \"Georgias\", \"text\": [\"\\ud83d\\udd31\"], \"textposition\": \"middle center\", \"x\": [1.48], \"y\": [2.7], \"type\": \"scatter\", \"textfont\": {\"size\": 20}}, {\"marker\": {\"color\": [\"#6388ad\"], \"opacity\": 1, \"size\": 36}, \"mode\": \"markers+text\", \"name\": \"Jazz Hands\", \"text\": [\"\\ud83d\\udc50\"], \"textposition\": \"middle center\", \"x\": [1.26], \"y\": [2.7555555555555555], \"type\": \"scatter\", \"textfont\": {\"size\": 20}}, {\"marker\": {\"color\": [\"#e830ab\"], \"opacity\": 1, \"size\": 36}, \"mode\": \"markers+text\", \"name\": \"Lift\", \"text\": [\"\\ud83c\\udfcb\\ufe0f\\u200d\\u2640\\ufe0f\"], \"textposition\": \"middle center\", \"x\": [1.78], \"y\": [2.1666666666666665], \"type\": \"scatter\", \"textfont\": {\"size\": 20}}, {\"marker\": {\"color\": [\"#780018\"], \"opacity\": 1, \"size\": 36}, \"mode\": \"markers+text\", \"name\": \"Lovers\", \"text\": [\"\\ud83d\\udc8b\"], \"textposition\": \"middle center\", \"x\": [1.8], \"y\": [2.4], \"type\": \"scatter\", \"textfont\": {\"size\": 20}}, {\"marker\": {\"color\": [\"#bf0043\"], \"opacity\": 1, \"size\": 36}, \"mode\": \"markers+text\", \"name\": \"Magic\", \"text\": [\"\\u2728\"], \"textposition\": \"middle center\", \"x\": [1.94], \"y\": [2.2111111111111112], \"type\": \"scatter\", \"textfont\": {\"size\": 20}}, {\"marker\": {\"color\": [\"#d13100\"], \"opacity\": 1, \"size\": 36}, \"mode\": \"markers+text\", \"name\": \"Mechanics\", \"text\": [\"\\ud83d\\udee0\"], \"textposition\": \"middle center\", \"x\": [2.46], \"y\": [2.5], \"type\": \"scatter\", \"textfont\": {\"size\": 20}}, {\"marker\": {\"color\": [\"#ffd4d8\"], \"opacity\": 1, \"size\": 36}, \"mode\": \"markers+text\", \"name\": \"Millennials\", \"text\": [\"\\ud83d\\udcf1\"], \"textposition\": \"middle center\", \"x\": [2.24], \"y\": [2.433333333333333], \"type\": \"scatter\", \"textfont\": {\"size\": 20}}, {\"marker\": {\"color\": [\"#f5feff\"], \"opacity\": 1, \"size\": 36}, \"mode\": \"markers+text\", \"name\": \"Moist Talkers\", \"text\": [\"\\ud83d\\udde3\"], \"textposition\": \"middle center\", \"x\": [2.2800000000000002], \"y\": [2.611111111111111], \"type\": \"scatter\", \"textfont\": {\"size\": 20}}, {\"marker\": {\"color\": [\"#399d8f\"], \"opacity\": 1, \"size\": 36}, \"mode\": \"markers+text\", \"name\": \"Pies\", \"text\": [\"\\ud83e\\udd67\"], \"textposition\": \"middle center\", \"x\": [1.82], \"y\": [2.2444444444444445], \"type\": \"scatter\", \"textfont\": {\"size\": 20}}, {\"marker\": {\"color\": [\"#ffce0a\"], \"opacity\": 1, \"size\": 36}, \"mode\": \"markers+text\", \"name\": \"Shoe Thieves\", \"text\": [\"\\ud83d\\udc5f\"], \"textposition\": \"middle center\", \"x\": [2.04], \"y\": [2.2777777777777777], \"type\": \"scatter\", \"textfont\": {\"size\": 20}}, {\"marker\": {\"color\": [\"#67556b\"], \"opacity\": 1, \"size\": 36}, \"mode\": \"markers+text\", \"name\": \"Spies\", \"text\": [\"\\ud83d\\udd75\"], \"textposition\": \"middle center\", \"x\": [1.96], \"y\": [2.6], \"type\": \"scatter\", \"textfont\": {\"size\": 20}}, {\"marker\": {\"color\": [\"#8c8d8f\"], \"opacity\": 1, \"size\": 36}, \"mode\": \"markers+text\", \"name\": \"Steaks\", \"text\": [\"\\ud83e\\udd69\"], \"textposition\": \"middle center\", \"x\": [1.46], \"y\": [2.933333333333333], \"type\": \"scatter\", \"textfont\": {\"size\": 20}}, {\"marker\": {\"color\": [\"#fffbab\"], \"opacity\": 1, \"size\": 36}, \"mode\": \"markers+text\", \"name\": \"Sunbeams\", \"text\": [\"\\ud83c\\udf1e\"], \"textposition\": \"middle center\", \"x\": [2.26], \"y\": [2.077777777777778], \"type\": \"scatter\", \"textfont\": {\"size\": 20}}, {\"marker\": {\"color\": [\"#64376e\"], \"opacity\": 1, \"size\": 36}, \"mode\": \"markers+text\", \"name\": \"Tacos\", \"text\": [\"\\ud83c\\udf2e\"], \"textposition\": \"middle center\", \"x\": [1.9000000000000001], \"y\": [2.466666666666667], \"type\": \"scatter\", \"textfont\": {\"size\": 20}}, {\"marker\": {\"color\": [\"#5c1c1c\"], \"opacity\": 1, \"size\": 36}, \"mode\": \"markers+text\", \"name\": \"Tigers\", \"text\": [\"\\ud83d\\udc05\"], \"textposition\": \"middle center\", \"x\": [1.58], \"y\": [2.977777777777778], \"type\": \"scatter\", \"textfont\": {\"size\": 20}}, {\"marker\": {\"color\": [\"#d15700\"], \"opacity\": 1, \"size\": 36}, \"mode\": \"markers+text\", \"name\": \"Wild Wings\", \"text\": [\"\\ud83c\\udf57\"], \"textposition\": \"middle center\", \"x\": [1.6], \"y\": [2.0666666666666664], \"type\": \"scatter\", \"textfont\": {\"size\": 20}}, {\"marker\": {\"color\": [\"#5c4822\"], \"opacity\": 1, \"size\": 36}, \"mode\": \"markers+text\", \"name\": \"Worms\", \"text\": [\"\\ud83d\\udc0c\"], \"textposition\": \"middle center\", \"x\": [1.62], \"y\": [2.0555555555555554], \"type\": \"scatter\", \"textfont\": {\"size\": 20}}], \"name\": \"Data\"}]);\n",
       "                        }).then(function(){\n",
       "                            \n",
       "var gd = document.getElementById('a113863e-2dd3-4942-83dc-6358a2954867');\n",
       "var x = new MutationObserver(function (mutations, observer) {{\n",
       "        var display = window.getComputedStyle(gd).display;\n",
       "        if (!display || display === 'none') {{\n",
       "            console.log([gd, 'removed!']);\n",
       "            Plotly.purge(gd);\n",
       "            observer.disconnect();\n",
       "        }}\n",
       "}});\n",
       "\n",
       "// Listen for the removal of the full notebook cells\n",
       "var notebookContainer = gd.closest('#notebook-container');\n",
       "if (notebookContainer) {{\n",
       "    x.observe(notebookContainer, {childList: true});\n",
       "}}\n",
       "\n",
       "// Listen for the clearing of the current output cell\n",
       "var outputEl = gd.closest('.output');\n",
       "if (outputEl) {{\n",
       "    x.observe(outputEl, {childList: true});\n",
       "}}\n",
       "\n",
       "                        })                };                });            </script>        </div>"
      ]
     },
     "metadata": {},
     "output_type": "display_data"
    }
   ],
   "source": [
    "# Do Defense & Baserunning too\n",
    "\n",
    "fig_dict[\"layout\"][\"title\"] = \"Average Stars - Pitching vs Defense\"\n",
    "fig_dict[\"layout\"][\"xaxis\"] = {\"range\": [1.0, 3.0], \"title\": \"Pitching Stars\"}\n",
    "fig_dict[\"layout\"][\"yaxis\"] = {\"range\": [1.5, 3.5], \"title\": \"Defense Stars\"}\n",
    "fig_dict[\"data\"] = []\n",
    "fig_dict[\"frames\"] = []\n",
    "# sliders_dict[\"steps\"] = []\n",
    "\n",
    "\n",
    "frame = {\"data\": [], \"name\": f\"Data\"}\n",
    "for team in table[\"team\"].unique():\n",
    "    teamset = table[table[\"team\"] == team]\n",
    "    data_dict = {\n",
    "        \"x\": list(teamset[\"pitching\"]),\n",
    "        \"y\": list(teamset[\"defense\"]),\n",
    "        \"mode\": \"markers+text\",\n",
    "        \"marker\": {\n",
    "            \"color\": teamset[\"color\"],\n",
    "            \"size\": 36,\n",
    "            \"opacity\": 1,\n",
    "        },\n",
    "        \"name\": team,\n",
    "        \"text\": teamset[\"emoji\"],\n",
    "        \"textposition\": \"middle center\",\n",
    "        \"textfont_size\": 20\n",
    "    }\n",
    "\n",
    "    fig_dict[\"data\"].append(data_dict)\n",
    "    frame[\"data\"].append(data_dict)\n",
    "\n",
    "fig_dict[\"frames\"].append(frame)\n",
    "\n",
    "# slider_step = {\n",
    "#     \"args\": [\n",
    "#         [frame[\"name\"]],\n",
    "#         {\n",
    "#             \"frame\": {\"duration\": 250, \"redraw\": False},\n",
    "#             \"mode\": \"immediate\",\n",
    "#             \"transition\": {\"duration\": 250}\n",
    "#         }\n",
    "#     ],\n",
    "#     \"label\": frame[\"name\"],\n",
    "#     \"method\": \"animate\"\n",
    "# }\n",
    "# sliders_dict[\"steps\"].append(slider_step)\n",
    "\n",
    "# fig_dict[\"layout\"][\"sliders\"] = [sliders_dict]\n",
    "\n",
    "fig = Figure(fig_dict)\n",
    "fig.show()"
   ]
  },
  {
   "cell_type": "code",
   "execution_count": null,
   "metadata": {},
   "outputs": [],
   "source": []
  }
 ],
 "metadata": {
  "kernelspec": {
   "display_name": "Python 3",
   "language": "python",
   "name": "python3"
  },
  "language_info": {
   "codemirror_mode": {
    "name": "ipython",
    "version": 3
   },
   "file_extension": ".py",
   "mimetype": "text/x-python",
   "name": "python",
   "nbconvert_exporter": "python",
   "pygments_lexer": "ipython3",
   "version": "3.8.6"
  }
 },
 "nbformat": 4,
 "nbformat_minor": 1
}
